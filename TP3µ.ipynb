{
 "cells": [
  {
   "cell_type": "code",
   "execution_count": 1,
   "id": "d946615a",
   "metadata": {},
   "outputs": [],
   "source": [
    "from sklearn.datasets import load_digits\n",
    "from sklearn.metrics import f1_score\n",
    "from sklearn.utils import shuffle\n",
    "from sklearn.model_selection import train_test_split\n",
    "from sklearn.metrics import accuracy_score\n",
    "from sklearn.metrics import recall_score\n",
    "from sklearn import datasets\n",
    "from sklearn.metrics import precision_score\n",
    "from sklearn.datasets import fetch_olivetti_faces\n",
    "from sklearn.preprocessing import StandardScaler\n",
    "from sklearn.datasets import load_digits\n",
    "from sklearn.datasets import fetch_olivetti_faces\n",
    "\n",
    "import keras\n",
    "from keras.models import Sequential\n",
    "from sklearn.datasets import load_iris\n",
    "from keras.metrics import Precision , Recall\n",
    "from keras.utils import np_utils\n",
    "from keras.layers import Dense, Conv2D, MaxPooling2D , Flatten, Dense, Dropout, Activation,  GlobalAveragePooling2D, ZeroPadding2D\n",
    "from keras.models import Model\n",
    "from keras.models import Sequential\n",
    "from keras.layers import Dense\n",
    "from keras import layers , models\n",
    "from keras.layers import Dense, Conv2D, MaxPool2D , Flatten\n",
    "\n",
    "import tensorflow as tf\n",
    "from tensorflow.keras.utils import to_categorical, plot_model\n",
    "\n",
    "import numpy as np\n",
    "import matplotlib.pyplot as plt"
   ]
  },
  {
   "cell_type": "code",
   "execution_count": 2,
   "id": "1b1bde3b",
   "metadata": {},
   "outputs": [],
   "source": [
    "iris = load_iris() \n",
    "digits = load_digits() \n",
    "faces = fetch_olivetti_faces() "
   ]
  },
  {
   "cell_type": "code",
   "execution_count": 3,
   "id": "a6f77243",
   "metadata": {},
   "outputs": [],
   "source": [
    "X = digits.data\n",
    "y = digits.target"
   ]
  },
  {
   "cell_type": "code",
   "execution_count": 4,
   "id": "e6159622",
   "metadata": {},
   "outputs": [],
   "source": [
    "X_train, X_test, y_train, y_test = train_test_split(X, y, test_size=0.20, random_state=64)\n",
    "train_labels = to_categorical(y_train, num_classes=digits.target_names.shape[0])\n",
    "test_labels = to_categorical(y_test, num_classes=digits.target_names.shape[0])"
   ]
  },
  {
   "cell_type": "code",
   "execution_count": 5,
   "id": "fe961780",
   "metadata": {},
   "outputs": [],
   "source": [
    "model = Sequential()\n",
    "model.add(Dense(16 , input_dim =X_train.shape[1], activation ='relu'))\n",
    "model.add(Dense(8 , activation ='relu'))\n",
    "model.add(Dense(8 , activation ='relu'))\n",
    "\n",
    "model.add(Dense(8 , activation ='relu'))\n",
    "\n",
    "model.add(Dense(digits.target_names.shape[0], activation ='softmax'))\n"
   ]
  },
  {
   "cell_type": "code",
   "execution_count": 6,
   "id": "60751f6f",
   "metadata": {},
   "outputs": [
    {
     "name": "stdout",
     "output_type": "stream",
     "text": [
      "Epoch 1/50\n",
      "144/144 [==============================] - 14s 5ms/step - loss: 0.7081 - accuracy: 0.0868\n",
      "Epoch 2/50\n",
      "144/144 [==============================] - 1s 4ms/step - loss: 0.4567 - accuracy: 0.0963\n",
      "Epoch 3/50\n",
      "144/144 [==============================] - 1s 4ms/step - loss: 0.3424 - accuracy: 0.1025\n",
      "Epoch 4/50\n",
      "144/144 [==============================] - 1s 4ms/step - loss: 0.3107 - accuracy: 0.1804\n",
      "Epoch 5/50\n",
      "144/144 [==============================] - 1s 4ms/step - loss: 0.2946 - accuracy: 0.1775\n",
      "Epoch 6/50\n",
      "144/144 [==============================] - 1s 4ms/step - loss: 0.2873 - accuracy: 0.1901: 0s - loss: 0.2891 - \n",
      "Epoch 7/50\n",
      "144/144 [==============================] - 1s 5ms/step - loss: 0.2808 - accuracy: 0.2069\n",
      "Epoch 8/50\n",
      "144/144 [==============================] - 1s 4ms/step - loss: 0.2765 - accuracy: 0.2158\n",
      "Epoch 9/50\n",
      "144/144 [==============================] - 1s 4ms/step - loss: 0.2738 - accuracy: 0.2293\n",
      "Epoch 10/50\n",
      "144/144 [==============================] - 1s 4ms/step - loss: 0.2678 - accuracy: 0.2591\n",
      "Epoch 11/50\n",
      "144/144 [==============================] - 1s 4ms/step - loss: 0.2608 - accuracy: 0.2892\n",
      "Epoch 12/50\n",
      "144/144 [==============================] - 1s 4ms/step - loss: 0.2541 - accuracy: 0.2937\n",
      "Epoch 13/50\n",
      "144/144 [==============================] - 1s 4ms/step - loss: 0.2525 - accuracy: 0.3210\n",
      "Epoch 14/50\n",
      "144/144 [==============================] - 1s 4ms/step - loss: 0.2375 - accuracy: 0.3794\n",
      "Epoch 15/50\n",
      "144/144 [==============================] - 1s 4ms/step - loss: 0.2168 - accuracy: 0.4418: 0s - loss: 0.217\n",
      "Epoch 16/50\n",
      "144/144 [==============================] - 1s 4ms/step - loss: 0.2083 - accuracy: 0.4558\n",
      "Epoch 17/50\n",
      "144/144 [==============================] - 1s 4ms/step - loss: 0.1939 - accuracy: 0.5090\n",
      "Epoch 18/50\n",
      "144/144 [==============================] - 1s 4ms/step - loss: 0.1826 - accuracy: 0.5384\n",
      "Epoch 19/50\n",
      "144/144 [==============================] - 1s 4ms/step - loss: 0.1745 - accuracy: 0.5269\n",
      "Epoch 20/50\n",
      "144/144 [==============================] - 1s 4ms/step - loss: 0.1624 - accuracy: 0.6147\n",
      "Epoch 21/50\n",
      "144/144 [==============================] - 1s 4ms/step - loss: 0.1436 - accuracy: 0.6468: 0s - loss: 0.1434 - accuracy: 0.64\n",
      "Epoch 22/50\n",
      "144/144 [==============================] - 1s 4ms/step - loss: 0.1354 - accuracy: 0.6635\n",
      "Epoch 23/50\n",
      "144/144 [==============================] - 1s 4ms/step - loss: 0.1339 - accuracy: 0.6999\n",
      "Epoch 24/50\n",
      "144/144 [==============================] - 1s 5ms/step - loss: 0.1201 - accuracy: 0.7538\n",
      "Epoch 25/50\n",
      "144/144 [==============================] - 1s 4ms/step - loss: 0.1130 - accuracy: 0.7455\n",
      "Epoch 26/50\n",
      "144/144 [==============================] - 1s 4ms/step - loss: 0.1123 - accuracy: 0.7224\n",
      "Epoch 27/50\n",
      "144/144 [==============================] - 1s 4ms/step - loss: 0.1047 - accuracy: 0.7502\n",
      "Epoch 28/50\n",
      "144/144 [==============================] - 1s 5ms/step - loss: 0.0973 - accuracy: 0.7653\n",
      "Epoch 29/50\n",
      "144/144 [==============================] - 1s 4ms/step - loss: 0.0990 - accuracy: 0.7670\n",
      "Epoch 30/50\n",
      "144/144 [==============================] - 1s 4ms/step - loss: 0.0939 - accuracy: 0.7651\n",
      "Epoch 31/50\n",
      "144/144 [==============================] - 1s 4ms/step - loss: 0.0912 - accuracy: 0.7893\n",
      "Epoch 32/50\n",
      "144/144 [==============================] - 1s 4ms/step - loss: 0.0826 - accuracy: 0.8287\n",
      "Epoch 33/50\n",
      "144/144 [==============================] - 1s 4ms/step - loss: 0.0825 - accuracy: 0.8653\n",
      "Epoch 34/50\n",
      "144/144 [==============================] - 1s 5ms/step - loss: 0.0756 - accuracy: 0.8823\n",
      "Epoch 35/50\n",
      "144/144 [==============================] - 1s 4ms/step - loss: 0.0666 - accuracy: 0.9063\n",
      "Epoch 36/50\n",
      "144/144 [==============================] - 1s 5ms/step - loss: 0.0602 - accuracy: 0.9221\n",
      "Epoch 37/50\n",
      "144/144 [==============================] - 1s 4ms/step - loss: 0.0584 - accuracy: 0.9318\n",
      "Epoch 38/50\n",
      "144/144 [==============================] - 1s 4ms/step - loss: 0.0513 - accuracy: 0.9392: 0s - loss: 0.0483 - \n",
      "Epoch 39/50\n",
      "144/144 [==============================] - 1s 4ms/step - loss: 0.0473 - accuracy: 0.9392\n",
      "Epoch 40/50\n",
      "144/144 [==============================] - 1s 5ms/step - loss: 0.0483 - accuracy: 0.9438\n",
      "Epoch 41/50\n",
      "144/144 [==============================] - 1s 4ms/step - loss: 0.0382 - accuracy: 0.9621\n",
      "Epoch 42/50\n",
      "144/144 [==============================] - 1s 4ms/step - loss: 0.0378 - accuracy: 0.9574: 0s - loss: 0.0373 - accuracy\n",
      "Epoch 43/50\n",
      "144/144 [==============================] - 1s 4ms/step - loss: 0.0399 - accuracy: 0.9579\n",
      "Epoch 44/50\n",
      "144/144 [==============================] - 1s 4ms/step - loss: 0.0332 - accuracy: 0.9630: 0s - loss: 0.0\n",
      "Epoch 45/50\n",
      "144/144 [==============================] - 1s 4ms/step - loss: 0.0318 - accuracy: 0.9644\n",
      "Epoch 46/50\n",
      "144/144 [==============================] - 1s 4ms/step - loss: 0.0323 - accuracy: 0.9621\n",
      "Epoch 47/50\n",
      "144/144 [==============================] - 1s 4ms/step - loss: 0.0262 - accuracy: 0.9700\n",
      "Epoch 48/50\n",
      "144/144 [==============================] - 1s 4ms/step - loss: 0.0253 - accuracy: 0.9771\n",
      "Epoch 49/50\n",
      "144/144 [==============================] - 1s 4ms/step - loss: 0.0301 - accuracy: 0.9572\n",
      "Epoch 50/50\n",
      "144/144 [==============================] - 1s 6ms/step - loss: 0.0222 - accuracy: 0.9763\n",
      "accuracy =  0.9333333333333333\n"
     ]
    }
   ],
   "source": [
    "model.compile(loss ='binary_crossentropy', optimizer='adam', metrics =['accuracy'])\n",
    "model.fit (X_train, train_labels, epochs=50, batch_size=10)\n",
    "y_pred = model.predict(X_test)\n",
    "y_predicted = []\n",
    "for pred in y_pred :\n",
    "  y_predicted.append(list(pred).index(max(pred)))\n",
    "print(\"accuracy = \" , accuracy_score(y_predicted, y_test))"
   ]
  },
  {
   "cell_type": "code",
   "execution_count": null,
   "id": "c6a74520",
   "metadata": {},
   "outputs": [],
   "source": [
    "\n",
    "X_train, X_test, y_train, y_test = train_test_split(X, y, test_size=0.20, random_state=42)\n",
    "train_labels = to_categorical(y_train, 40)\n",
    "test_labels = to_categorical(y_test, 40)"
   ]
  },
  {
   "cell_type": "code",
   "execution_count": null,
   "id": "0783c3f9",
   "metadata": {},
   "outputs": [],
   "source": [
    "model = Sequential()\n",
    "model.add(Dense(16 , input_dim =X_train.shape[1], activation ='relu'))\n",
    "model.add(Dense(8 , activation ='relu'))\n",
    "model.add(Dense(40, activation ='softmax'))\n"
   ]
  },
  {
   "cell_type": "code",
   "execution_count": null,
   "id": "a3e76bde",
   "metadata": {},
   "outputs": [],
   "source": [
    "model.compile(loss ='binary_crossentropy', optimizer='adam', metrics =['accuracy'])\n",
    "model.fit (X_train, train_labels, epochs=50, batch_size=10)\n",
    "y_pred = model.predict(X_test)\n",
    "y_predicted = []\n",
    "for pred in y_pred :\n",
    "  y_predicted.append(list(pred).index(max(pred)))\n",
    "print(\"accuracy = \" , accuracy_score(y_predicted, y_test))"
   ]
  },
  {
   "cell_type": "code",
   "execution_count": null,
   "id": "ecf83436",
   "metadata": {},
   "outputs": [],
   "source": [
    "from tensorflow import keras\n",
    "\n",
    "X = faces['images']\n",
    "x = keras.applications.resnet_v2.preprocess_input(tf.cast(X, tf.float32))\n",
    "y = faces['target']\n",
    "\n",
    "X_train, X_test, y_train, y_test = train_test_split(X, y, test_size=0.2, random_state=42)\n",
    "\n",
    "X_train = X_train.reshape((X_train.shape[0], X_train.shape[1], X_train.shape[2], 1))\n",
    "X_test = X_test.reshape((X_test.shape[0], X_test.shape[1], X_test.shape[2], 1))\n",
    "train_labels = to_categorical(y_train, num_classes=40)\n",
    "test_labels = to_categorical(y_test, num_classes=40)\n",
    "x = tf.image.grayscale_to_rgb(tf.constant(X_train))\n",
    "\n",
    "model = keras.Sequential()\n",
    "base_model = keras.applications.ResNet152V2(\n",
    "  include_top=False,\n",
    "  weights='imagenet',\n",
    "  input_shape=(64, 64, 3)\n",
    ")\n",
    "for layer in base_model.layers[:-2]:\n",
    "  layer.trainable = False\n",
    "\n",
    "model.add(base_model)\n",
    "model.add(keras.layers.Flatten())\n",
    "model.add(keras.layers.Dense(40, activation='softmax', kernel_regularizer=keras.regularizers.l2(0.001)))"
   ]
  },
  {
   "cell_type": "code",
   "execution_count": null,
   "id": "5955d606",
   "metadata": {},
   "outputs": [],
   "source": [
    "model.compile(optimizer='Adam', loss='categorical_crossentropy', metrics=['accuracy']) \n",
    "model.summary() \n"
   ]
  },
  {
   "cell_type": "code",
   "execution_count": null,
   "id": "38522837",
   "metadata": {},
   "outputs": [],
   "source": [
    "history = model.fit(x, train_labels, validation_split=0.2, batch_size=25, epochs=10)"
   ]
  },
  {
   "cell_type": "code",
   "execution_count": null,
   "id": "0467c47b",
   "metadata": {},
   "outputs": [],
   "source": [
    " x_test = tf.image.grayscale_to_rgb(tf.constant(X_test))"
   ]
  },
  {
   "cell_type": "code",
   "execution_count": null,
   "id": "fe9720ff",
   "metadata": {},
   "outputs": [],
   "source": [
    " scores = model.evaluate(x_test, test_labels, verbose=0)\n",
    "print(\"Accuracy Score =  %.2f%%\" % (scores[1]*100))"
   ]
  },
  {
   "cell_type": "code",
   "execution_count": null,
   "id": "e839707c",
   "metadata": {},
   "outputs": [],
   "source": [
    "#in conclusion the FCNN model performed way better than the cnn model BUT NORMALLY THE CNN SHOULD OUTPERFORMN THE FCNN"
   ]
  }
 ],
 "metadata": {
  "kernelspec": {
   "display_name": "Python 3 (ipykernel)",
   "language": "python",
   "name": "python3"
  },
  "language_info": {
   "codemirror_mode": {
    "name": "ipython",
    "version": 3
   },
   "file_extension": ".py",
   "mimetype": "text/x-python",
   "name": "python",
   "nbconvert_exporter": "python",
   "pygments_lexer": "ipython3",
   "version": "3.8.3"
  }
 },
 "nbformat": 4,
 "nbformat_minor": 5
}
