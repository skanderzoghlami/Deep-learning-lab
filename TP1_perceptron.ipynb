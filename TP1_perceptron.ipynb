{
  "nbformat": 4,
  "nbformat_minor": 5,
  "metadata": {
    "kernelspec": {
      "display_name": "Python 3",
      "language": "python",
      "name": "python3"
    },
    "language_info": {
      "codemirror_mode": {
        "name": "ipython",
        "version": 3
      },
      "file_extension": ".py",
      "mimetype": "text/x-python",
      "name": "python",
      "nbconvert_exporter": "python",
      "pygments_lexer": "ipython3",
      "version": "3.8.8"
    },
    "colab": {
      "name": "TP1_perceptron.ipynb",
      "provenance": []
    }
  },
  "cells": [
    {
      "cell_type": "markdown",
      "metadata": {
        "id": "bfea1ff3"
      },
      "source": [
        "# Question1"
      ],
      "id": "bfea1ff3"
    },
    {
      "cell_type": "markdown",
      "metadata": {
        "id": "302354a6"
      },
      "source": [
        "### 1.A What is the computational/time complexity of the basic perceptron algorithm\n",
        "\n",
        "The time complexity is : **O(i∗j∗k)**\n",
        "\n",
        "First, to go from layer i to j, we do : **Sj=Wji∗Zi**\n",
        "\n",
        "Then we apply the activation function : **Zj=f(Sj)**\n",
        "\n",
        "If we have N layers (including input and output layer), this will run N−1 times."
      ],
      "id": "302354a6"
    },
    {
      "cell_type": "markdown",
      "metadata": {
        "id": "54e5f097"
      },
      "source": [
        "### 1.B What is the space complexity of the basic perceptron algorithm\n",
        "The space complexity of an algorithm is just the amount of memory that we need to use during the execution of the algorithm. The space complexity, like the time complexity, is typically expressed as a function of the size of the input (or the number of inputs that we have) \n",
        "\n",
        "Our input {x,y} and W \n",
        "=> **m(4*x+ 4*y)+ (N-1)*4*W**"
      ],
      "id": "54e5f097"
    },
    {
      "cell_type": "markdown",
      "metadata": {
        "id": "1_YDbnvy1AK1"
      },
      "source": [
        "## Importing necessary libraries"
      ],
      "id": "1_YDbnvy1AK1"
    },
    {
      "cell_type": "code",
      "metadata": {
        "id": "d4f50489"
      },
      "source": [
        "import numpy as np\n",
        "from sklearn.utils import shuffle\n",
        "from sklearn.metrics import accuracy_score\n",
        "from sklearn.model_selection import train_test_split\n"
      ],
      "id": "d4f50489",
      "execution_count": null,
      "outputs": []
    },
    {
      "cell_type": "markdown",
      "metadata": {
        "id": "af360cbe"
      },
      "source": [
        "# Data Creation"
      ],
      "id": "af360cbe"
    },
    {
      "cell_type": "code",
      "metadata": {
        "id": "f6adac40"
      },
      "source": [
        "mu = [-1,0]\n",
        "sig = [[0.25,0], [0,0.25]]\n",
        "s1 = np.random.multivariate_normal(mu,sig,125)\n",
        "\n",
        "mu = [1,0]\n",
        "sig = [[0.25,0], [0,0.25]]\n",
        "s2 = np.random.multivariate_normal(mu,sig,125)\n",
        "s = np.concatenate((s1,s2),axis=0)"
      ],
      "id": "f6adac40",
      "execution_count": null,
      "outputs": []
    },
    {
      "cell_type": "code",
      "metadata": {
        "id": "1d6862d2"
      },
      "source": [
        "y = [-1] * 125 \n",
        "y.extend([1] * 125)"
      ],
      "id": "1d6862d2",
      "execution_count": null,
      "outputs": []
    },
    {
      "cell_type": "code",
      "metadata": {
        "id": "72ec8437",
        "outputId": "d88eed8b-9aa5-4039-d535-31de1f4a1c4b"
      },
      "source": [
        "len(y),len(s)"
      ],
      "id": "72ec8437",
      "execution_count": null,
      "outputs": [
        {
          "data": {
            "text/plain": [
              "(250, 250)"
            ]
          },
          "execution_count": 5,
          "metadata": {},
          "output_type": "execute_result"
        }
      ]
    },
    {
      "cell_type": "code",
      "metadata": {
        "id": "5f1b0fbf"
      },
      "source": [
        "s,y= shuffle(s,y)"
      ],
      "id": "5f1b0fbf",
      "execution_count": null,
      "outputs": []
    },
    {
      "cell_type": "code",
      "metadata": {
        "id": "1919ce6e"
      },
      "source": [
        "s_train, s_test, y_train, y_test = train_test_split(s, y, test_size=0.2, random_state=42)"
      ],
      "id": "1919ce6e",
      "execution_count": null,
      "outputs": []
    },
    {
      "cell_type": "markdown",
      "metadata": {
        "id": "27286aa4"
      },
      "source": [
        "# Experiment n°1"
      ],
      "id": "27286aa4"
    },
    {
      "cell_type": "code",
      "metadata": {
        "id": "7288845c"
      },
      "source": [
        "def perceptron(s,y):\n",
        "    w = np.zeros((1,2))\n",
        "    placeholder = np.zeros((1,2))\n",
        "    for t in range(2000):\n",
        "        for X,Y in zip(s,y) :\n",
        "            if  Y * np.inner(X,w) <= 0 : \n",
        "                placeholder = w\n",
        "                w = w + Y * X \n",
        "        if (w == placeholder).all() :\n",
        "            return w\n",
        "    if t == 999 :\n",
        "        print(\"Doesn't Converge\")\n",
        "    else :\n",
        "        print(\"Converges\")\n",
        "    return w"
      ],
      "id": "7288845c",
      "execution_count": null,
      "outputs": []
    },
    {
      "cell_type": "code",
      "metadata": {
        "id": "cce0917f",
        "outputId": "ea31b11b-a963-4dbf-c81a-929931cbb751"
      },
      "source": [
        "w = perceptron(s_train,y_train)"
      ],
      "id": "cce0917f",
      "execution_count": null,
      "outputs": [
        {
          "name": "stdout",
          "output_type": "stream",
          "text": [
            "Converges\n"
          ]
        }
      ]
    },
    {
      "cell_type": "code",
      "metadata": {
        "id": "1b6c41f6",
        "outputId": "7b443039-4030-49a2-d3ee-747db49356de"
      },
      "source": [
        "y_pred = np.inner(s_test,w) \n",
        "for i,pred in enumerate(y_pred) :\n",
        "    if pred > 0 :\n",
        "        y_pred[i] = 1\n",
        "    else :\n",
        "        y_pred[i] = -1\n",
        "accuracy_score(y_test,y_pred)"
      ],
      "id": "1b6c41f6",
      "execution_count": null,
      "outputs": [
        {
          "data": {
            "text/plain": [
              "0.96"
            ]
          },
          "execution_count": 12,
          "metadata": {},
          "output_type": "execute_result"
        }
      ]
    },
    {
      "cell_type": "code",
      "metadata": {
        "id": "0165ff99",
        "outputId": "34da17bb-985d-44f1-e7a9-adf969242724"
      },
      "source": [
        "from matplotlib import pyplot as plt\n",
        "\n",
        "plt.scatter(s1[:,0],s1[:,1], marker='+')\n",
        "plt.scatter(s2[:,0],s2[:,1], c= 'green', marker='o')\n",
        "\n",
        "\n",
        "a = -w[0][0] / w[0][1]\n",
        "xx = np.linspace(-1, 1)\n",
        "yy = a * xx / w[0][1]\n",
        "\n",
        "plt.plot(xx, yy, 'k-')"
      ],
      "id": "0165ff99",
      "execution_count": null,
      "outputs": [
        {
          "data": {
            "text/plain": [
              "[<matplotlib.lines.Line2D at 0x21de1134070>]"
            ]
          },
          "execution_count": 13,
          "metadata": {},
          "output_type": "execute_result"
        },
        {
          "data": {
            "image/png": "[encoded data removed]",
            "text/plain": [
              "<Figure size 432x288 with 1 Axes>"
            ]
          },
          "metadata": {
            "needs_background": "light"
          },
          "output_type": "display_data"
        }
      ]
    },
    {
      "cell_type": "markdown",
      "metadata": {
        "id": "c5bbf5cc"
      },
      "source": [
        "# Experiment n°2"
      ],
      "id": "c5bbf5cc"
    },
    {
      "cell_type": "code",
      "metadata": {
        "id": "cb4a5949"
      },
      "source": [
        "mu = [-1,0]\n",
        "sig = [[0.75,0], [0,0.75]]\n",
        "s1 = np.random.multivariate_normal(mu,sig,125)\n",
        "\n",
        "mu = [1,0]\n",
        "sig = [[0.75,0], [0,0.75]]\n",
        "s2 = np.random.multivariate_normal(mu,sig,125)\n",
        "s = np.concatenate((s1,s2),axis=0)\n",
        "\n",
        "y = [-1] * 125 \n",
        "y.extend([1] * 125)\n",
        "\n",
        "s,y= shuffle(s,y)\n",
        "\n",
        "s_train, s_test, y_train, y_test = train_test_split(s, y, test_size=0.2, random_state=42)"
      ],
      "id": "cb4a5949",
      "execution_count": null,
      "outputs": []
    },
    {
      "cell_type": "code",
      "metadata": {
        "id": "127e8944",
        "outputId": "cb6baaf2-9052-406d-9505-e06176d61eed"
      },
      "source": [
        "w = perceptron(s_train,y_train)"
      ],
      "id": "127e8944",
      "execution_count": null,
      "outputs": [
        {
          "name": "stdout",
          "output_type": "stream",
          "text": [
            "Convergence\n"
          ]
        }
      ]
    },
    {
      "cell_type": "code",
      "metadata": {
        "id": "2fbe9cc1",
        "outputId": "95aaec17-b00c-4660-d90f-a6849b8e7f90"
      },
      "source": [
        "y_pred = np.inner(s_test,w) \n",
        "for i,pred in enumerate(y_pred) :\n",
        "    if pred > 0 :\n",
        "        y_pred[i] = 1\n",
        "    else :\n",
        "        y_pred[i] = -1\n",
        "accuracy_score(y_test,y_pred)"
      ],
      "id": "2fbe9cc1",
      "execution_count": null,
      "outputs": [
        {
          "data": {
            "text/plain": [
              "0.8"
            ]
          },
          "execution_count": 128,
          "metadata": {},
          "output_type": "execute_result"
        }
      ]
    },
    {
      "cell_type": "code",
      "metadata": {
        "id": "84375828",
        "outputId": "de22d65c-491c-481f-afbf-d553167f7033"
      },
      "source": [
        "from matplotlib import pyplot as plt\n",
        "\n",
        "plt.scatter(s1[:,0],s1[:,1], marker='+')\n",
        "plt.scatter(s2[:,0],s2[:,1], c= 'green', marker='o')\n",
        "\n",
        "\n",
        "a = -w[0][0] / w[0][1]\n",
        "xx = np.linspace(-1, 1)\n",
        "yy = a * xx / w[0][1]\n",
        "\n",
        "plt.plot(xx, yy, 'k-')"
      ],
      "id": "84375828",
      "execution_count": null,
      "outputs": [
        {
          "data": {
            "text/plain": [
              "[<matplotlib.lines.Line2D at 0x7fac18ca9610>]"
            ]
          },
          "execution_count": 129,
          "metadata": {},
          "output_type": "execute_result"
        },
        {
          "data": {
            "image/png": "[encoded data removed]",
            "text/plain": [
              "<Figure size 432x288 with 1 Axes>"
            ]
          },
          "metadata": {
            "needs_background": "light"
          },
          "output_type": "display_data"
        }
      ]
    },
    {
      "cell_type": "markdown",
      "metadata": {
        "id": "62aebb70"
      },
      "source": [
        "# Experiment n°3"
      ],
      "id": "62aebb70"
    },
    {
      "cell_type": "code",
      "metadata": {
        "id": "06cf40d1"
      },
      "source": [
        "def generate_data(sig):\n",
        "    mu = [-1,0]\n",
        "    sig = [[sig,0], [0,sig]]\n",
        "    s1 = np.random.multivariate_normal(mu,sig,125)\n",
        "\n",
        "    mu = [1,0]\n",
        "    sig = [[sig,0], [0,sig]]\n",
        "    s2 = np.random.multivariate_normal(mu,sig,125)\n",
        "    s = np.concatenate((s1,s2),axis=0)\n",
        "    \n",
        "    y = [-1] * 125 \n",
        "    y.extend([1] * 125)\n",
        "\n",
        "    s,y= shuffle(s,y)\n",
        "    \n",
        "    return s1,s2,s,y"
      ],
      "id": "06cf40d1",
      "execution_count": null,
      "outputs": []
    },
    {
      "cell_type": "code",
      "metadata": {
        "id": "93f7866f"
      },
      "source": [
        "def get_accuracy(s_test,y_test,w):\n",
        "    y_pred = np.inner(s_test,w) \n",
        "    for i,pred in enumerate(y_pred) :\n",
        "        if pred > 0 :\n",
        "            y_pred[i] = 1\n",
        "        else :\n",
        "            y_pred[i] = -1\n",
        "    return accuracy_score(y_test,y_pred)"
      ],
      "id": "93f7866f",
      "execution_count": null,
      "outputs": []
    },
    {
      "cell_type": "code",
      "metadata": {
        "id": "bc2f2bdd",
        "outputId": "7f3c71cb-5bb4-4d41-9410-f158365e3ff8"
      },
      "source": [
        "sigs = [0.01,0.1,0.5,0.7]\n",
        "for sig in sigs :\n",
        "    accuracies = []\n",
        "    for i in range(3) :\n",
        "        s1,s2,s,y = generate_data(sig)\n",
        "        s_train, s_test, y_train, y_test = train_test_split(s, y, test_size=0.2, random_state=42)\n",
        "        w = perceptron(s_train,y_train)\n",
        "        accuracies.append(get_accuracy(s_test,y_test,w))\n",
        "    print(accuracies)\n",
        "    print(\"Sig = {}, Mean = {}\".format(sig,np.mean(accuracies)))\n",
        "    print(\"Sig = {}, Variance = {}\".format(sig,np.std(accuracies)))\n",
        "    \n",
        "    plt.scatter(s1[:,0],s1[:,1], marker='+')\n",
        "    plt.scatter(s2[:,0],s2[:,1], c= 'green', marker='o')\n",
        "\n",
        "\n",
        "    a = -w[0][0] / w[0][1]\n",
        "    xx = np.linspace(-1, 1)\n",
        "    yy = a * xx / w[0][1]\n",
        "\n",
        "    plt.plot(xx, yy, 'k-')\n",
        "    plt.show()"
      ],
      "id": "bc2f2bdd",
      "execution_count": null,
      "outputs": [
        {
          "name": "stdout",
          "output_type": "stream",
          "text": [
            "Convergence\n",
            "Convergence\n",
            "Convergence\n",
            "[1.0, 1.0, 1.0]\n",
            "Sigma = 0.01, Mean = 1.0\n",
            "Sigma = 0.01, Variance = 0.0\n"
          ]
        },
        {
          "data": {
            "image/png": "[encoded data removed]",
            "text/plain": [
              "<Figure size 432x288 with 1 Axes>"
            ]
          },
          "metadata": {
            "needs_background": "light"
          },
          "output_type": "display_data"
        },
        {
          "name": "stdout",
          "output_type": "stream",
          "text": [
            "Convergence\n",
            "Convergence\n",
            "Convergence\n",
            "[1.0, 1.0, 1.0]\n",
            "Sigma = 0.1, Mean = 1.0\n",
            "Sigma = 0.1, Variance = 0.0\n"
          ]
        },
        {
          "data": {
            "image/png": "[encoded data removed]",
            "text/plain": [
              "<Figure size 432x288 with 1 Axes>"
            ]
          },
          "metadata": {
            "needs_background": "light"
          },
          "output_type": "display_data"
        },
        {
          "name": "stdout",
          "output_type": "stream",
          "text": [
            "Convergence\n",
            "Convergence\n",
            "Convergence\n",
            "[0.96, 0.94, 0.94]\n",
            "Sigma = 0.5, Mean = 0.9466666666666667\n",
            "Sigma = 0.5, Variance = 0.009428090415820642\n"
          ]
        },
        {
          "data": {
            "image/png": "[encoded data removed]",
            "text/plain": [
              "<Figure size 432x288 with 1 Axes>"
            ]
          },
          "metadata": {
            "needs_background": "light"
          },
          "output_type": "display_data"
        },
        {
          "name": "stdout",
          "output_type": "stream",
          "text": [
            "Convergence\n",
            "Convergence\n",
            "Convergence\n",
            "[0.94, 0.82, 0.92]\n",
            "Sigma = 0.7, Mean = 0.8933333333333332\n",
            "Sigma = 0.7, Variance = 0.05249338582674542\n"
          ]
        },
        {
          "data": {
            "image/png": "[encoded data removed]",
            "text/plain": [
              "<Figure size 432x288 with 1 Axes>"
            ]
          },
          "metadata": {
            "needs_background": "light"
          },
          "output_type": "display_data"
        }
      ]
    }
  ]
}