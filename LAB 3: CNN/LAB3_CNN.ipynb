{
  "cells": [
    {
      "cell_type": "markdown",
      "metadata": {
        "id": "4EU2xcXD9p_r"
      },
      "source": [
        "# Deep learning Practical Assignment #3:\n",
        "## Convolutional Neural Networks\n",
        "### Lab date : December 13th, 2021\n",
        "### Deadline to submit : December 31th, 2021 - 11:59 PM (23:59)\n",
        "#### Summary : \n",
        "- This lab contains implementation of a convolutional neural network trained and evaluated on 3 different datasets : \n",
        "\n",
        "1.   Iris Dataset\n",
        "2.   Digit Dataset\n",
        "3.   Face datasets\n",
        "#### Authors  : \n",
        "Skander Zoghlami |  Moez Saidi |  Mohamed Koutaiba Msadaa\n",
        "\n",
        "\n",
        "\n"
      ]
    },
    {
      "cell_type": "markdown",
      "metadata": {
        "id": "N3Xffb3M-bpU"
      },
      "source": [
        "# Libraries Used : "
      ]
    },
    {
      "cell_type": "code",
      "execution_count": null,
      "metadata": {
        "id": "yHgebhta9loC"
      },
      "outputs": [],
      "source": [
        "from sklearn.datasets import load_iris\n",
        "from sklearn.datasets import load_digits\n",
        "from sklearn.datasets import fetch_olivetti_faces\n",
        "from sklearn.model_selection import train_test_split\n",
        "from sklearn.metrics import accuracy_score\n",
        "from keras.models import Sequential\n",
        "from keras.layers import Dense\n",
        "import tensorflow_datasets as tfds\n",
        "from tensorflow.keras.utils import to_categorical\n",
        "from tensorflow.keras.applications.vgg16 import VGG16\n",
        "from tensorflow.keras.applications.vgg16 import preprocess_input\n",
        "from tensorflow.keras.callbacks import EarlyStopping\n",
        "import numpy as np # linear algebra\n",
        "import pandas as pd # data processing, CSV file I/O (e.g. pd.read_csv)\n",
        "import tensorflow as tf\n",
        "from tensorflow import keras\n",
        "from matplotlib import pyplot as plt\n",
        "from PIL import Image\n",
        "from tensorflow.keras import layers, models"
      ]
    },
    {
      "cell_type": "markdown",
      "metadata": {
        "id": "kAOUkDWD-g9b"
      },
      "source": [
        "# Implementation : "
      ]
    },
    {
      "cell_type": "markdown",
      "source": [
        "## Loading the datasets :\n"
      ],
      "metadata": {
        "id": "GpLCohQ0oNA_"
      }
    },
    {
      "cell_type": "code",
      "execution_count": null,
      "metadata": {
        "id": "P5GsARqF-iGt"
      },
      "outputs": [],
      "source": [
        "iris_data = load_iris()\n",
        "digits = load_digits()\n",
        "faces = fetch_olivetti_faces()\n",
        "##              How to use !\n",
        "## ------------ IRIS ------------ (150 x 4 ) \n",
        "## data.target[[10, 25, 50]]\n",
        "## => array([0, 0, 1])\n",
        "## list(data.target_names)\n",
        "## => ['setosa', 'versicolor', 'virginica']\n",
        "# ---------------DIGITS-----------( 1797 x 8 x 8 ) \n",
        "## >>> print(digits.data.shape)\n",
        "## (1797, 64)\n",
        "## >>> import matplotlib.pyplot as plt\n",
        "## >>> plt.gray()\n",
        "## >>> plt.matshow(digits.images[0])\n",
        "\n",
        "## >>> plt.show()\n",
        "## --------------FACES----------- ( 400 x 64 x 64)\n",
        "# for _ in range(6):\n",
        "#     for img in faces.images:\n",
        "#         data = extract_patches_2d(img, patch_size, max_patches=50, random_state=rng)\n",
        "#         data = np.reshape(data, (len(data), -1))\n",
        "#         buffer.append(data)\n",
        "#         index += 1\n",
        "#         if index % 10 == 0:\n",
        "#             data = np.concatenate(buffer, axis=0)\n",
        "#             data -= np.mean(data, axis=0)\n",
        "#             data /= np.std(data, axis=0)\n",
        "#             kmeans.partial_fit(data)\n",
        "#             buffer = []\n",
        "#         if index % 100 == 0:\n",
        "#             print(\"Partial fit of %4i out of %i\" % (index, 6 * len(faces.images)))"
      ]
    },
    {
      "cell_type": "markdown",
      "source": [
        "## The function that will \"Do all the work\" for a fully connected model :"
      ],
      "metadata": {
        "id": "hwK6k0YRoJAR"
      }
    },
    {
      "cell_type": "code",
      "execution_count": null,
      "metadata": {
        "id": "mCVlCBCHCB9E"
      },
      "outputs": [],
      "source": [
        "def do_the_work(data,model,nc):\n",
        "  # Data augmentation\n",
        "  X = data.data\n",
        "  y = data.target\n",
        "  X_train, X_test, y_train, y_test = train_test_split(X, y, test_size=0.20, random_state=42)\n",
        "  train_labels = to_categorical(y_train, num_classes=nc)\n",
        "  test_labels = to_categorical(y_test, num_classes=nc)\n",
        "  model.compile ( loss ='categorical_crossentropy', optimizer ='adam', metrics =[ 'accuracy'])\n",
        "  # fit the keras model on the dataset\n",
        "  model.fit(X_train , train_labels , epochs =50 , batch_size =int(X.shape[1] / 4))\n",
        "  y_pred = model.predict(X_test)\n",
        "  y_predicted = []\n",
        "  for pred in y_pred :\n",
        "    y_predicted.append(list(pred).index(max(pred)))\n",
        "  return accuracy_score(y_predicted, y_test)"
      ]
    },
    {
      "cell_type": "markdown",
      "source": [
        "## Fully connected Models :\n"
      ],
      "metadata": {
        "id": "GN6HPj-PoVDA"
      }
    },
    {
      "cell_type": "code",
      "execution_count": null,
      "metadata": {
        "colab": {
          "base_uri": "https://localhost:8080/"
        },
        "id": "5ij8T6aN-vyH",
        "outputId": "790a6629-a03a-4f4c-9ced-d75925d4700a"
      },
      "outputs": [
        {
          "output_type": "stream",
          "name": "stdout",
          "text": [
            "Epoch 1/50\n",
            "90/90 [==============================] - 1s 2ms/step - loss: 2.6805 - accuracy: 0.1587\n",
            "Epoch 2/50\n",
            "90/90 [==============================] - 0s 2ms/step - loss: 1.8881 - accuracy: 0.2797\n",
            "Epoch 3/50\n",
            "90/90 [==============================] - 0s 2ms/step - loss: 1.6934 - accuracy: 0.3507\n",
            "Epoch 4/50\n",
            "90/90 [==============================] - 0s 2ms/step - loss: 1.5799 - accuracy: 0.3758\n",
            "Epoch 5/50\n",
            "90/90 [==============================] - 0s 2ms/step - loss: 1.5017 - accuracy: 0.4015\n",
            "Epoch 6/50\n",
            "90/90 [==============================] - 0s 2ms/step - loss: 1.4275 - accuracy: 0.4106\n",
            "Epoch 7/50\n",
            "90/90 [==============================] - 0s 2ms/step - loss: 1.3658 - accuracy: 0.4502\n",
            "Epoch 8/50\n",
            "90/90 [==============================] - 0s 2ms/step - loss: 1.2970 - accuracy: 0.4906\n",
            "Epoch 9/50\n",
            "90/90 [==============================] - 0s 2ms/step - loss: 1.1806 - accuracy: 0.5574\n",
            "Epoch 10/50\n",
            "90/90 [==============================] - 0s 2ms/step - loss: 1.0417 - accuracy: 0.6493\n",
            "Epoch 11/50\n",
            "90/90 [==============================] - 0s 2ms/step - loss: 0.8808 - accuracy: 0.7098\n",
            "Epoch 12/50\n",
            "90/90 [==============================] - 0s 2ms/step - loss: 0.7393 - accuracy: 0.7585\n",
            "Epoch 13/50\n",
            "90/90 [==============================] - 0s 2ms/step - loss: 0.6232 - accuracy: 0.8003\n",
            "Epoch 14/50\n",
            "90/90 [==============================] - 0s 2ms/step - loss: 0.5378 - accuracy: 0.8455\n",
            "Epoch 15/50\n",
            "90/90 [==============================] - 0s 2ms/step - loss: 0.4498 - accuracy: 0.8761\n",
            "Epoch 16/50\n",
            "90/90 [==============================] - 0s 2ms/step - loss: 0.3897 - accuracy: 0.8852\n",
            "Epoch 17/50\n",
            "90/90 [==============================] - 0s 2ms/step - loss: 0.3449 - accuracy: 0.8984\n",
            "Epoch 18/50\n",
            "90/90 [==============================] - 0s 2ms/step - loss: 0.3148 - accuracy: 0.9033\n",
            "Epoch 19/50\n",
            "90/90 [==============================] - 0s 2ms/step - loss: 0.2906 - accuracy: 0.9109\n",
            "Epoch 20/50\n",
            "90/90 [==============================] - 0s 2ms/step - loss: 0.2681 - accuracy: 0.9214\n",
            "Epoch 21/50\n",
            "90/90 [==============================] - 0s 2ms/step - loss: 0.2544 - accuracy: 0.9269\n",
            "Epoch 22/50\n",
            "90/90 [==============================] - 0s 2ms/step - loss: 0.2410 - accuracy: 0.9297\n",
            "Epoch 23/50\n",
            "90/90 [==============================] - 0s 2ms/step - loss: 0.2203 - accuracy: 0.9339\n",
            "Epoch 24/50\n",
            "90/90 [==============================] - 0s 2ms/step - loss: 0.2165 - accuracy: 0.9276\n",
            "Epoch 25/50\n",
            "90/90 [==============================] - 0s 2ms/step - loss: 0.1997 - accuracy: 0.9360\n",
            "Epoch 26/50\n",
            "90/90 [==============================] - 0s 2ms/step - loss: 0.1895 - accuracy: 0.9408\n",
            "Epoch 27/50\n",
            "90/90 [==============================] - 0s 2ms/step - loss: 0.1880 - accuracy: 0.9388\n",
            "Epoch 28/50\n",
            "90/90 [==============================] - 0s 2ms/step - loss: 0.1786 - accuracy: 0.9422\n",
            "Epoch 29/50\n",
            "90/90 [==============================] - 0s 2ms/step - loss: 0.1702 - accuracy: 0.9478\n",
            "Epoch 30/50\n",
            "90/90 [==============================] - 0s 2ms/step - loss: 0.1621 - accuracy: 0.9478\n",
            "Epoch 31/50\n",
            "90/90 [==============================] - 0s 2ms/step - loss: 0.1559 - accuracy: 0.9534\n",
            "Epoch 32/50\n",
            "90/90 [==============================] - 0s 2ms/step - loss: 0.1524 - accuracy: 0.9520\n",
            "Epoch 33/50\n",
            "90/90 [==============================] - 0s 2ms/step - loss: 0.1462 - accuracy: 0.9492\n",
            "Epoch 34/50\n",
            "90/90 [==============================] - 0s 2ms/step - loss: 0.1395 - accuracy: 0.9548\n",
            "Epoch 35/50\n",
            "90/90 [==============================] - 0s 2ms/step - loss: 0.1369 - accuracy: 0.9548\n",
            "Epoch 36/50\n",
            "90/90 [==============================] - 0s 2ms/step - loss: 0.1318 - accuracy: 0.9589\n",
            "Epoch 37/50\n",
            "90/90 [==============================] - 0s 2ms/step - loss: 0.1271 - accuracy: 0.9631\n",
            "Epoch 38/50\n",
            "90/90 [==============================] - 0s 2ms/step - loss: 0.1220 - accuracy: 0.9638\n",
            "Epoch 39/50\n",
            "90/90 [==============================] - 0s 2ms/step - loss: 0.1199 - accuracy: 0.9617\n",
            "Epoch 40/50\n",
            "90/90 [==============================] - 0s 2ms/step - loss: 0.1160 - accuracy: 0.9645\n",
            "Epoch 41/50\n",
            "90/90 [==============================] - 0s 2ms/step - loss: 0.1112 - accuracy: 0.9680\n",
            "Epoch 42/50\n",
            "90/90 [==============================] - 0s 2ms/step - loss: 0.1111 - accuracy: 0.9673\n",
            "Epoch 43/50\n",
            "90/90 [==============================] - 0s 2ms/step - loss: 0.1072 - accuracy: 0.9666\n",
            "Epoch 44/50\n",
            "90/90 [==============================] - 0s 2ms/step - loss: 0.1032 - accuracy: 0.9701\n",
            "Epoch 45/50\n",
            "90/90 [==============================] - 0s 2ms/step - loss: 0.1013 - accuracy: 0.9708\n",
            "Epoch 46/50\n",
            "90/90 [==============================] - 0s 2ms/step - loss: 0.0975 - accuracy: 0.9701\n",
            "Epoch 47/50\n",
            "90/90 [==============================] - 0s 2ms/step - loss: 0.0963 - accuracy: 0.9715\n",
            "Epoch 48/50\n",
            "90/90 [==============================] - 0s 2ms/step - loss: 0.0898 - accuracy: 0.9743\n",
            "Epoch 49/50\n",
            "90/90 [==============================] - 0s 2ms/step - loss: 0.0872 - accuracy: 0.9729\n",
            "Epoch 50/50\n",
            "90/90 [==============================] - 0s 2ms/step - loss: 0.0850 - accuracy: 0.9749\n",
            "WARNING:tensorflow:5 out of the last 21 calls to <function Model.make_predict_function.<locals>.predict_function at 0x7fd550e677a0> triggered tf.function retracing. Tracing is expensive and the excessive number of tracings could be due to (1) creating @tf.function repeatedly in a loop, (2) passing tensors with different shapes, (3) passing Python objects instead of tensors. For (1), please define your @tf.function outside of the loop. For (2), @tf.function has experimental_relax_shapes=True option that relaxes argument shapes that can avoid unnecessary retracing. For (3), please refer to https://www.tensorflow.org/guide/function#controlling_retracing and https://www.tensorflow.org/api_docs/python/tf/function for  more details.\n",
            "accuracy =  0.9472222222222222\n"
          ]
        }
      ],
      "source": [
        "model = Sequential ()\n",
        "model.add( Dense (12 , input_dim =digits.data.shape[1] , activation ='relu'))\n",
        "model.add( Dense (5 , activation ='relu'))\n",
        "model.add( Dense (digits.target_names.shape[0], activation ='softmax'))\n",
        "print(\"accuracy = \" , do_the_work(digits,model,digits.target_names.shape[0]))"
      ]
    },
    {
      "cell_type": "code",
      "execution_count": null,
      "metadata": {
        "colab": {
          "base_uri": "https://localhost:8080/"
        },
        "id": "dNA4ekUtKhr-",
        "outputId": "33bc5b79-657d-4109-b148-70e86b12fb05"
      },
      "outputs": [
        {
          "output_type": "stream",
          "name": "stdout",
          "text": [
            "Epoch 1/50\n",
            "120/120 [==============================] - 1s 1ms/step - loss: 1.4151 - accuracy: 0.3250\n",
            "Epoch 2/50\n",
            "120/120 [==============================] - 0s 1ms/step - loss: 1.0895 - accuracy: 0.3250\n",
            "Epoch 3/50\n",
            "120/120 [==============================] - 0s 1ms/step - loss: 0.9339 - accuracy: 0.3417\n",
            "Epoch 4/50\n",
            "120/120 [==============================] - 0s 2ms/step - loss: 0.8065 - accuracy: 0.6500\n",
            "Epoch 5/50\n",
            "120/120 [==============================] - 0s 2ms/step - loss: 0.7432 - accuracy: 0.6583\n",
            "Epoch 6/50\n",
            "120/120 [==============================] - 0s 2ms/step - loss: 0.7002 - accuracy: 0.6583\n",
            "Epoch 7/50\n",
            "120/120 [==============================] - 0s 1ms/step - loss: 0.6375 - accuracy: 0.6583\n",
            "Epoch 8/50\n",
            "120/120 [==============================] - 0s 1ms/step - loss: 0.5977 - accuracy: 0.7750\n",
            "Epoch 9/50\n",
            "120/120 [==============================] - 0s 1ms/step - loss: 0.5438 - accuracy: 0.8167\n",
            "Epoch 10/50\n",
            "120/120 [==============================] - 0s 1ms/step - loss: 0.4873 - accuracy: 0.8583\n",
            "Epoch 11/50\n",
            "120/120 [==============================] - 0s 1ms/step - loss: 0.4541 - accuracy: 0.8083\n",
            "Epoch 12/50\n",
            "120/120 [==============================] - 0s 2ms/step - loss: 0.4279 - accuracy: 0.8750\n",
            "Epoch 13/50\n",
            "120/120 [==============================] - 0s 1ms/step - loss: 0.3859 - accuracy: 0.9083\n",
            "Epoch 14/50\n",
            "120/120 [==============================] - 0s 1ms/step - loss: 0.3627 - accuracy: 0.9167\n",
            "Epoch 15/50\n",
            "120/120 [==============================] - 0s 1ms/step - loss: 0.3392 - accuracy: 0.9583\n",
            "Epoch 16/50\n",
            "120/120 [==============================] - 0s 1ms/step - loss: 0.3274 - accuracy: 0.9250\n",
            "Epoch 17/50\n",
            "120/120 [==============================] - 0s 2ms/step - loss: 0.3061 - accuracy: 0.9083\n",
            "Epoch 18/50\n",
            "120/120 [==============================] - 0s 2ms/step - loss: 0.2883 - accuracy: 0.9583\n",
            "Epoch 19/50\n",
            "120/120 [==============================] - 0s 1ms/step - loss: 0.2690 - accuracy: 0.9500\n",
            "Epoch 20/50\n",
            "120/120 [==============================] - 0s 1ms/step - loss: 0.2479 - accuracy: 0.9750\n",
            "Epoch 21/50\n",
            "120/120 [==============================] - 0s 1ms/step - loss: 0.2452 - accuracy: 0.9583\n",
            "Epoch 22/50\n",
            "120/120 [==============================] - 0s 2ms/step - loss: 0.2348 - accuracy: 0.9500\n",
            "Epoch 23/50\n",
            "120/120 [==============================] - 0s 1ms/step - loss: 0.2172 - accuracy: 0.9750\n",
            "Epoch 24/50\n",
            "120/120 [==============================] - 0s 1ms/step - loss: 0.2036 - accuracy: 0.9583\n",
            "Epoch 25/50\n",
            "120/120 [==============================] - 0s 1ms/step - loss: 0.1924 - accuracy: 0.9583\n",
            "Epoch 26/50\n",
            "120/120 [==============================] - 0s 1ms/step - loss: 0.1872 - accuracy: 0.9750\n",
            "Epoch 27/50\n",
            "120/120 [==============================] - 0s 1ms/step - loss: 0.1735 - accuracy: 0.9750\n",
            "Epoch 28/50\n",
            "120/120 [==============================] - 0s 2ms/step - loss: 0.1744 - accuracy: 0.9750\n",
            "Epoch 29/50\n",
            "120/120 [==============================] - 0s 1ms/step - loss: 0.1692 - accuracy: 0.9500\n",
            "Epoch 30/50\n",
            "120/120 [==============================] - 0s 1ms/step - loss: 0.1726 - accuracy: 0.9667\n",
            "Epoch 31/50\n",
            "120/120 [==============================] - 0s 1ms/step - loss: 0.1633 - accuracy: 0.9750\n",
            "Epoch 32/50\n",
            "120/120 [==============================] - 0s 1ms/step - loss: 0.1498 - accuracy: 0.9750\n",
            "Epoch 33/50\n",
            "120/120 [==============================] - 0s 1ms/step - loss: 0.1480 - accuracy: 0.9583\n",
            "Epoch 34/50\n",
            "120/120 [==============================] - 0s 1ms/step - loss: 0.1436 - accuracy: 0.9750\n",
            "Epoch 35/50\n",
            "120/120 [==============================] - 0s 1ms/step - loss: 0.1378 - accuracy: 0.9750\n",
            "Epoch 36/50\n",
            "120/120 [==============================] - 0s 1ms/step - loss: 0.1493 - accuracy: 0.9500\n",
            "Epoch 37/50\n",
            "120/120 [==============================] - 0s 1ms/step - loss: 0.1260 - accuracy: 0.9667\n",
            "Epoch 38/50\n",
            "120/120 [==============================] - 0s 2ms/step - loss: 0.1364 - accuracy: 0.9667\n",
            "Epoch 39/50\n",
            "120/120 [==============================] - 0s 1ms/step - loss: 0.1216 - accuracy: 0.9583\n",
            "Epoch 40/50\n",
            "120/120 [==============================] - 0s 1ms/step - loss: 0.1167 - accuracy: 0.9750\n",
            "Epoch 41/50\n",
            "120/120 [==============================] - 0s 1ms/step - loss: 0.1226 - accuracy: 0.9500\n",
            "Epoch 42/50\n",
            "120/120 [==============================] - 0s 1ms/step - loss: 0.1273 - accuracy: 0.9583\n",
            "Epoch 43/50\n",
            "120/120 [==============================] - 0s 1ms/step - loss: 0.1193 - accuracy: 0.9750\n",
            "Epoch 44/50\n",
            "120/120 [==============================] - 0s 1ms/step - loss: 0.1127 - accuracy: 0.9750\n",
            "Epoch 45/50\n",
            "120/120 [==============================] - 0s 1ms/step - loss: 0.1085 - accuracy: 0.9667\n",
            "Epoch 46/50\n",
            "120/120 [==============================] - 0s 1ms/step - loss: 0.1163 - accuracy: 0.9750\n",
            "Epoch 47/50\n",
            "120/120 [==============================] - 0s 1ms/step - loss: 0.1003 - accuracy: 0.9750\n",
            "Epoch 48/50\n",
            "120/120 [==============================] - 0s 1ms/step - loss: 0.1043 - accuracy: 0.9583\n",
            "Epoch 49/50\n",
            "120/120 [==============================] - 0s 1ms/step - loss: 0.1104 - accuracy: 0.9583\n",
            "Epoch 50/50\n",
            "120/120 [==============================] - 0s 1ms/step - loss: 0.0996 - accuracy: 0.9750\n",
            "accuracy =  1.0\n"
          ]
        }
      ],
      "source": [
        "# Sample code to create a fully connected network\n",
        "model = Sequential ()\n",
        "model.add( Dense (12 , input_dim =iris_data.data.shape[1] , activation ='relu'))\n",
        "model.add( Dense (5 , activation ='relu'))\n",
        "model.add( Dense (iris_data.target_names.shape[0], activation ='softmax'))\n",
        "print(\"accuracy = \" , do_the_work(iris_data,model,iris_data.target_names.shape[0]))"
      ]
    },
    {
      "cell_type": "markdown",
      "source": [
        "- For tabular data however the accuracy is high both on the validation set and also the test set."
      ],
      "metadata": {
        "id": "gXC8a1oUxSUA"
      }
    },
    {
      "cell_type": "code",
      "execution_count": null,
      "metadata": {
        "colab": {
          "base_uri": "https://localhost:8080/"
        },
        "id": "ERsWZg3DNuB5",
        "outputId": "3252a370-f4bf-4a27-c266-7c91256e1e9d"
      },
      "outputs": [
        {
          "output_type": "stream",
          "name": "stdout",
          "text": [
            "Epoch 1/50\n",
            "1/1 [==============================] - 0s 424ms/step - loss: 3.7005 - accuracy: 0.0437\n",
            "Epoch 2/50\n",
            "1/1 [==============================] - 0s 17ms/step - loss: 3.8685 - accuracy: 0.0281\n",
            "Epoch 3/50\n",
            "1/1 [==============================] - 0s 13ms/step - loss: 3.7674 - accuracy: 0.0469\n",
            "Epoch 4/50\n",
            "1/1 [==============================] - 0s 17ms/step - loss: 3.6910 - accuracy: 0.0031\n",
            "Epoch 5/50\n",
            "1/1 [==============================] - 0s 14ms/step - loss: 3.6944 - accuracy: 0.0188\n",
            "Epoch 6/50\n",
            "1/1 [==============================] - 0s 13ms/step - loss: 3.7017 - accuracy: 0.0188\n",
            "Epoch 7/50\n",
            "1/1 [==============================] - 0s 15ms/step - loss: 3.7042 - accuracy: 0.0188\n",
            "Epoch 8/50\n",
            "1/1 [==============================] - 0s 16ms/step - loss: 3.7035 - accuracy: 0.0188\n",
            "Epoch 9/50\n",
            "1/1 [==============================] - 0s 22ms/step - loss: 3.7005 - accuracy: 0.0188\n",
            "Epoch 10/50\n",
            "1/1 [==============================] - 0s 15ms/step - loss: 3.6962 - accuracy: 0.0281\n",
            "Epoch 11/50\n",
            "1/1 [==============================] - 0s 13ms/step - loss: 3.6918 - accuracy: 0.0281\n",
            "Epoch 12/50\n",
            "1/1 [==============================] - 0s 17ms/step - loss: 3.6880 - accuracy: 0.0281\n",
            "Epoch 13/50\n",
            "1/1 [==============================] - 0s 19ms/step - loss: 3.6855 - accuracy: 0.0281\n",
            "Epoch 14/50\n",
            "1/1 [==============================] - 0s 18ms/step - loss: 3.6856 - accuracy: 0.0469\n",
            "Epoch 15/50\n",
            "1/1 [==============================] - 0s 18ms/step - loss: 3.6875 - accuracy: 0.0344\n",
            "Epoch 16/50\n",
            "1/1 [==============================] - 0s 17ms/step - loss: 3.6877 - accuracy: 0.0312\n",
            "Epoch 17/50\n",
            "1/1 [==============================] - 0s 20ms/step - loss: 3.6876 - accuracy: 0.0312\n",
            "Epoch 18/50\n",
            "1/1 [==============================] - 0s 14ms/step - loss: 3.6875 - accuracy: 0.0312\n",
            "Epoch 19/50\n",
            "1/1 [==============================] - 0s 13ms/step - loss: 3.6874 - accuracy: 0.0312\n",
            "Epoch 20/50\n",
            "1/1 [==============================] - 0s 18ms/step - loss: 3.6873 - accuracy: 0.0312\n",
            "Epoch 21/50\n",
            "1/1 [==============================] - 0s 19ms/step - loss: 3.6872 - accuracy: 0.0312\n",
            "Epoch 22/50\n",
            "1/1 [==============================] - 0s 22ms/step - loss: 3.6872 - accuracy: 0.0312\n",
            "Epoch 23/50\n",
            "1/1 [==============================] - 0s 16ms/step - loss: 3.6871 - accuracy: 0.0312\n",
            "Epoch 24/50\n",
            "1/1 [==============================] - 0s 20ms/step - loss: 3.6870 - accuracy: 0.0312\n",
            "Epoch 25/50\n",
            "1/1 [==============================] - 0s 20ms/step - loss: 3.6869 - accuracy: 0.0312\n",
            "Epoch 26/50\n",
            "1/1 [==============================] - 0s 17ms/step - loss: 3.6868 - accuracy: 0.0312\n",
            "Epoch 27/50\n",
            "1/1 [==============================] - 0s 19ms/step - loss: 3.6867 - accuracy: 0.0312\n",
            "Epoch 28/50\n",
            "1/1 [==============================] - 0s 19ms/step - loss: 3.6866 - accuracy: 0.0312\n",
            "Epoch 29/50\n",
            "1/1 [==============================] - 0s 15ms/step - loss: 3.6866 - accuracy: 0.0312\n",
            "Epoch 30/50\n",
            "1/1 [==============================] - 0s 17ms/step - loss: 3.6865 - accuracy: 0.0312\n",
            "Epoch 31/50\n",
            "1/1 [==============================] - 0s 18ms/step - loss: 3.6864 - accuracy: 0.0312\n",
            "Epoch 32/50\n",
            "1/1 [==============================] - 0s 31ms/step - loss: 3.6863 - accuracy: 0.0312\n",
            "Epoch 33/50\n",
            "1/1 [==============================] - 0s 12ms/step - loss: 3.6862 - accuracy: 0.0312\n",
            "Epoch 34/50\n",
            "1/1 [==============================] - 0s 18ms/step - loss: 3.6861 - accuracy: 0.0312\n",
            "Epoch 35/50\n",
            "1/1 [==============================] - 0s 30ms/step - loss: 3.6861 - accuracy: 0.0312\n",
            "Epoch 36/50\n",
            "1/1 [==============================] - 0s 22ms/step - loss: 3.6860 - accuracy: 0.0312\n",
            "Epoch 37/50\n",
            "1/1 [==============================] - 0s 18ms/step - loss: 3.6859 - accuracy: 0.0312\n",
            "Epoch 38/50\n",
            "1/1 [==============================] - 0s 18ms/step - loss: 3.6858 - accuracy: 0.0312\n",
            "Epoch 39/50\n",
            "1/1 [==============================] - 0s 19ms/step - loss: 3.6857 - accuracy: 0.0312\n",
            "Epoch 40/50\n",
            "1/1 [==============================] - 0s 16ms/step - loss: 3.6856 - accuracy: 0.0312\n",
            "Epoch 41/50\n",
            "1/1 [==============================] - 0s 16ms/step - loss: 3.6856 - accuracy: 0.0312\n",
            "Epoch 42/50\n",
            "1/1 [==============================] - 0s 16ms/step - loss: 3.6855 - accuracy: 0.0312\n",
            "Epoch 43/50\n",
            "1/1 [==============================] - 0s 19ms/step - loss: 3.6854 - accuracy: 0.0312\n",
            "Epoch 44/50\n",
            "1/1 [==============================] - 0s 23ms/step - loss: 3.6853 - accuracy: 0.0312\n",
            "Epoch 45/50\n",
            "1/1 [==============================] - 0s 18ms/step - loss: 3.6852 - accuracy: 0.0312\n",
            "Epoch 46/50\n",
            "1/1 [==============================] - 0s 18ms/step - loss: 3.6852 - accuracy: 0.0312\n",
            "Epoch 47/50\n",
            "1/1 [==============================] - 0s 21ms/step - loss: 3.6851 - accuracy: 0.0312\n",
            "Epoch 48/50\n",
            "1/1 [==============================] - 0s 20ms/step - loss: 3.6850 - accuracy: 0.0312\n",
            "Epoch 49/50\n",
            "1/1 [==============================] - 0s 20ms/step - loss: 3.6849 - accuracy: 0.0312\n",
            "Epoch 50/50\n",
            "1/1 [==============================] - 0s 14ms/step - loss: 3.6849 - accuracy: 0.0312\n",
            "accuracy =  0.0\n"
          ]
        }
      ],
      "source": [
        "# Sample code to create a fully connected network\n",
        "model = Sequential ()\n",
        "model.add( Dense (12 , input_dim =faces.data.shape[1] , activation ='relu'))\n",
        "model.add( Dense (5 , activation ='relu'))\n",
        "model.add( Dense (40, activation ='softmax'))\n",
        "print(\"accuracy = \" , do_the_work(faces,model,40))"
      ]
    },
    {
      "cell_type": "markdown",
      "source": [
        "- Here the accuracy is very low, two thigs maybe the problem here which is that the number of classes is very high and most of the classes aren't passed to the train set, we will solve this problem later by creating a custom train and test set that contains all the classes."
      ],
      "metadata": {
        "id": "ZRjtVljvxcEE"
      }
    },
    {
      "cell_type": "markdown",
      "source": [
        "## The function that will \"do all the work\" for a CNN:"
      ],
      "metadata": {
        "id": "fz-xm8n95k3a"
      }
    },
    {
      "cell_type": "code",
      "source": [
        "def do_the_work_CNN(data,data_name,splitting=False,with_da=False):\n",
        "  if   data_name==\"digits\" :\n",
        "    nc = 10 \n",
        "  elif data_name==\"faces\":\n",
        "    nc=40\n",
        "  else :\n",
        "    nc = 3\n",
        "  X = data['images']\n",
        "  y = data['target']\n",
        "  if(splitting):\n",
        "    X_train, X_test, y_train, y_test = train_test_split(X, y, test_size=0.33, random_state=42)\n",
        "  else :\n",
        "    X_train, X_test, y_train, y_test = X,X,y,y\n",
        "  X_train = X_train.reshape((X_train.shape[0], X_train.shape[1], X_train.shape[2], 1))\n",
        "  X_test = X_test.reshape((X_test.shape[0], X_test.shape[1], X_test.shape[2], 1))\n",
        "  train_labels = to_categorical(y_train, num_classes=nc)\n",
        "  test_labels = to_categorical(y_test, num_classes=nc)\n",
        "  x = tf.image.grayscale_to_rgb(tf.constant(X_train))\n",
        "  x = tf.pad(x, ((0, 0), (12, 12), (12, 12), (0, 0)))\n",
        "  x = keras.applications.resnet_v2.preprocess_input(tf.cast(x, tf.float32))\n",
        "  lambda_ = 1e-3\n",
        "  model = keras.Sequential()\n",
        "  core = keras.applications.ResNet152V2(\n",
        "      include_top=False,\n",
        "      weights='imagenet',\n",
        "      input_shape=x.shape[1:]\n",
        "  )\n",
        "  for layer in core.layers[:-2]:\n",
        "      layer.trainable = False\n",
        "  if with_da : \n",
        "    data_augmentation = tf.keras.Sequential([\n",
        "    layers.RandomFlip(\"horizontal_and_vertical\"),\n",
        "    layers.RandomRotation(0.2),\n",
        "    ])\n",
        "    model.add(data_augmentation)\n",
        "  model.add(core)\n",
        "  model.add(keras.layers.Flatten())\n",
        "  model.add(keras.layers.Dense(nc, activation='softmax', \n",
        "                              kernel_regularizer=keras.regularizers.l2(lambda_)))  \n",
        "  model.compile(\n",
        "    optimizer=keras.optimizers.Adam(),\n",
        "    loss='categorical_crossentropy',\n",
        "    metrics=['accuracy']\n",
        "  )\n",
        "  history = model.fit(x, train_labels, validation_split=0.2, batch_size=25, epochs=20)\n",
        "  return model "
      ],
      "metadata": {
        "id": "0q39CH0CwwXi"
      },
      "execution_count": null,
      "outputs": []
    },
    {
      "cell_type": "markdown",
      "source": [
        "## Fine-tuning a pretrained model\n"
      ],
      "metadata": {
        "id": "nL4-R3mfwtFC"
      }
    },
    {
      "cell_type": "code",
      "source": [
        "do_the_work_CNN(digits,\"digits\")"
      ],
      "metadata": {
        "colab": {
          "base_uri": "https://localhost:8080/"
        },
        "id": "Z-wRf9-KvYL-",
        "outputId": "6b992ca3-49aa-457a-a255-9144664775ef"
      },
      "execution_count": null,
      "outputs": [
        {
          "output_type": "stream",
          "name": "stdout",
          "text": [
            "Epoch 1/20\n",
            "58/58 [==============================] - 30s 366ms/step - loss: 1.3067 - accuracy: 0.6298 - val_loss: 2.3132 - val_accuracy: 0.1611\n",
            "Epoch 2/20\n",
            "58/58 [==============================] - 19s 322ms/step - loss: 0.6897 - accuracy: 0.8511 - val_loss: 2.3224 - val_accuracy: 0.1250\n",
            "Epoch 3/20\n",
            "58/58 [==============================] - 19s 322ms/step - loss: 0.5274 - accuracy: 0.9074 - val_loss: 2.3258 - val_accuracy: 0.1111\n",
            "Epoch 4/20\n",
            "58/58 [==============================] - 19s 332ms/step - loss: 0.4445 - accuracy: 0.9123 - val_loss: 2.3212 - val_accuracy: 0.1194\n",
            "Epoch 5/20\n",
            "58/58 [==============================] - 19s 333ms/step - loss: 0.3765 - accuracy: 0.9415 - val_loss: 2.2980 - val_accuracy: 0.1611\n",
            "Epoch 6/20\n",
            "58/58 [==============================] - 19s 322ms/step - loss: 0.3128 - accuracy: 0.9520 - val_loss: 2.2254 - val_accuracy: 0.2278\n",
            "Epoch 7/20\n",
            "58/58 [==============================] - 19s 321ms/step - loss: 0.2906 - accuracy: 0.9499 - val_loss: 2.0386 - val_accuracy: 0.4056\n",
            "Epoch 8/20\n",
            "58/58 [==============================] - 19s 321ms/step - loss: 0.2503 - accuracy: 0.9673 - val_loss: 1.6881 - val_accuracy: 0.6583\n",
            "Epoch 9/20\n",
            "58/58 [==============================] - 19s 322ms/step - loss: 0.2240 - accuracy: 0.9729 - val_loss: 1.2419 - val_accuracy: 0.7972\n",
            "Epoch 10/20\n",
            "58/58 [==============================] - 19s 320ms/step - loss: 0.2227 - accuracy: 0.9722 - val_loss: 0.8446 - val_accuracy: 0.8694\n",
            "Epoch 11/20\n",
            "58/58 [==============================] - 19s 322ms/step - loss: 0.2156 - accuracy: 0.9652 - val_loss: 0.5922 - val_accuracy: 0.8722\n",
            "Epoch 12/20\n",
            "58/58 [==============================] - 19s 320ms/step - loss: 0.1850 - accuracy: 0.9770 - val_loss: 0.5095 - val_accuracy: 0.8806\n",
            "Epoch 13/20\n",
            "58/58 [==============================] - 19s 320ms/step - loss: 0.1750 - accuracy: 0.9756 - val_loss: 0.4549 - val_accuracy: 0.8722\n",
            "Epoch 14/20\n",
            "58/58 [==============================] - 19s 322ms/step - loss: 0.1773 - accuracy: 0.9763 - val_loss: 0.4347 - val_accuracy: 0.8750\n",
            "Epoch 15/20\n",
            "58/58 [==============================] - 19s 322ms/step - loss: 0.1689 - accuracy: 0.9763 - val_loss: 0.4214 - val_accuracy: 0.8861\n",
            "Epoch 16/20\n",
            "58/58 [==============================] - 19s 321ms/step - loss: 0.1643 - accuracy: 0.9743 - val_loss: 0.4030 - val_accuracy: 0.8917\n",
            "Epoch 17/20\n",
            "58/58 [==============================] - 19s 321ms/step - loss: 0.1573 - accuracy: 0.9784 - val_loss: 0.4188 - val_accuracy: 0.8944\n",
            "Epoch 18/20\n",
            "58/58 [==============================] - 19s 324ms/step - loss: 0.1385 - accuracy: 0.9875 - val_loss: 0.4089 - val_accuracy: 0.8944\n",
            "Epoch 19/20\n",
            "58/58 [==============================] - 19s 323ms/step - loss: 0.1474 - accuracy: 0.9798 - val_loss: 0.3884 - val_accuracy: 0.8917\n",
            "Epoch 20/20\n",
            "58/58 [==============================] - 19s 321ms/step - loss: 0.1264 - accuracy: 0.9882 - val_loss: 0.4219 - val_accuracy: 0.9028\n"
          ]
        },
        {
          "output_type": "execute_result",
          "data": {
            "text/plain": [
              "<keras.engine.sequential.Sequential at 0x7fd558cc01d0>"
            ]
          },
          "metadata": {},
          "execution_count": 32
        }
      ]
    },
    {
      "cell_type": "markdown",
      "source": [
        "- the CNN outperformed the fully connected network on the digits dataset it gave an accuracy of 0.98 on the train set and 0.90 on the validation set."
      ],
      "metadata": {
        "id": "PhKrzwbjyRDe"
      }
    },
    {
      "cell_type": "code",
      "source": [
        "do_the_work_CNN(faces,\"faces\")"
      ],
      "metadata": {
        "colab": {
          "base_uri": "https://localhost:8080/"
        },
        "id": "udO1WaGJvcEc",
        "outputId": "3d2cfdb6-4610-4867-b48e-e83ae21fe8da"
      },
      "execution_count": null,
      "outputs": [
        {
          "output_type": "stream",
          "name": "stdout",
          "text": [
            "Epoch 1/20\n",
            "13/13 [==============================] - 38s 2s/step - loss: 3.5870 - accuracy: 0.2125 - val_loss: 7.2312 - val_accuracy: 0.0000e+00\n",
            "Epoch 2/20\n",
            "13/13 [==============================] - 26s 2s/step - loss: 1.5660 - accuracy: 0.5906 - val_loss: 6.8341 - val_accuracy: 0.0000e+00\n",
            "Epoch 3/20\n",
            "13/13 [==============================] - 26s 2s/step - loss: 0.8330 - accuracy: 0.8062 - val_loss: 6.5266 - val_accuracy: 0.0000e+00\n",
            "Epoch 4/20\n",
            "13/13 [==============================] - 26s 2s/step - loss: 0.4859 - accuracy: 0.9094 - val_loss: 6.0939 - val_accuracy: 0.0000e+00\n",
            "Epoch 5/20\n",
            "13/13 [==============================] - 26s 2s/step - loss: 0.3326 - accuracy: 0.9688 - val_loss: 6.0262 - val_accuracy: 0.0000e+00\n",
            "Epoch 6/20\n",
            "13/13 [==============================] - 26s 2s/step - loss: 0.2570 - accuracy: 0.9656 - val_loss: 5.8999 - val_accuracy: 0.0000e+00\n",
            "Epoch 7/20\n",
            "13/13 [==============================] - 26s 2s/step - loss: 0.2023 - accuracy: 0.9844 - val_loss: 5.8931 - val_accuracy: 0.0000e+00\n",
            "Epoch 8/20\n",
            "13/13 [==============================] - 26s 2s/step - loss: 0.1536 - accuracy: 0.9969 - val_loss: 5.8631 - val_accuracy: 0.0000e+00\n",
            "Epoch 9/20\n",
            "13/13 [==============================] - 26s 2s/step - loss: 0.1354 - accuracy: 0.9969 - val_loss: 5.9708 - val_accuracy: 0.0000e+00\n",
            "Epoch 10/20\n",
            "13/13 [==============================] - 26s 2s/step - loss: 0.1096 - accuracy: 1.0000 - val_loss: 6.0723 - val_accuracy: 0.0000e+00\n",
            "Epoch 11/20\n",
            "13/13 [==============================] - 26s 2s/step - loss: 0.1028 - accuracy: 0.9969 - val_loss: 6.2226 - val_accuracy: 0.0000e+00\n",
            "Epoch 12/20\n",
            "13/13 [==============================] - 26s 2s/step - loss: 0.0910 - accuracy: 1.0000 - val_loss: 6.4181 - val_accuracy: 0.0000e+00\n",
            "Epoch 13/20\n",
            "13/13 [==============================] - 26s 2s/step - loss: 0.0883 - accuracy: 1.0000 - val_loss: 6.6329 - val_accuracy: 0.0000e+00\n",
            "Epoch 14/20\n",
            "13/13 [==============================] - 26s 2s/step - loss: 0.0785 - accuracy: 1.0000 - val_loss: 6.9045 - val_accuracy: 0.0000e+00\n",
            "Epoch 15/20\n",
            "13/13 [==============================] - 26s 2s/step - loss: 0.0701 - accuracy: 1.0000 - val_loss: 7.2072 - val_accuracy: 0.0000e+00\n",
            "Epoch 16/20\n",
            "13/13 [==============================] - 26s 2s/step - loss: 0.0656 - accuracy: 1.0000 - val_loss: 7.5169 - val_accuracy: 0.0000e+00\n",
            "Epoch 17/20\n",
            "13/13 [==============================] - 27s 2s/step - loss: 0.0599 - accuracy: 1.0000 - val_loss: 7.8853 - val_accuracy: 0.0000e+00\n",
            "Epoch 18/20\n",
            "13/13 [==============================] - 28s 2s/step - loss: 0.0599 - accuracy: 1.0000 - val_loss: 8.2660 - val_accuracy: 0.0000e+00\n",
            "Epoch 19/20\n",
            "13/13 [==============================] - 28s 2s/step - loss: 0.0595 - accuracy: 1.0000 - val_loss: 8.6439 - val_accuracy: 0.0000e+00\n",
            "Epoch 20/20\n",
            "13/13 [==============================] - 28s 2s/step - loss: 0.0581 - accuracy: 1.0000 - val_loss: 9.0507 - val_accuracy: 0.0000e+00\n"
          ]
        },
        {
          "output_type": "execute_result",
          "data": {
            "text/plain": [
              "<keras.engine.sequential.Sequential at 0x7fd553cc0b90>"
            ]
          },
          "metadata": {},
          "execution_count": 33
        }
      ]
    },
    {
      "cell_type": "code",
      "source": [
        "fd=[]\n",
        "fi = []\n",
        "ft =[]\n",
        "for face in faces.data:\n",
        "  fd.append(face)\n",
        "for image in faces.images:\n",
        "  fi.append(image)\n",
        "for targ in faces.target:\n",
        "  ft.append(targ)"
      ],
      "metadata": {
        "id": "XrXInhxy5M5I"
      },
      "execution_count": null,
      "outputs": []
    },
    {
      "cell_type": "code",
      "source": [
        "custom_train_data=[]\n",
        "custom_train_images=[]\n",
        "custom_train_target=[]\n",
        "\n",
        "custom_test_data=[]\n",
        "custom_test_images=[]\n",
        "custom_test_target=[]\n",
        "for i in range(400):\n",
        "  if i%10 > 8 :\n",
        "    custom_test_data.append(fd[i])\n",
        "    custom_test_images.append(fi[i])\n",
        "    custom_test_target.append(ft[i])\n",
        "  else :\n",
        "    custom_train_data.append(fd[i])\n",
        "    custom_train_images.append(fi[i])\n",
        "    custom_train_target.append(ft[i])"
      ],
      "metadata": {
        "id": "46E74sYm7CbE"
      },
      "execution_count": null,
      "outputs": []
    },
    {
      "cell_type": "code",
      "source": [
        "custom_test = {}\n",
        "custom_train = {}\n",
        "\n",
        "custom_test['data'] = np.array(custom_test_data)\n",
        "custom_test['images'] = np.array(custom_test_images)\n",
        "custom_test['target'] = np.array(custom_test_target)\n",
        "\n",
        "custom_train['data'] = np.array(custom_train_data)\n",
        "custom_train['images'] = np.array(custom_train_images)\n",
        "custom_train['target'] = np.array(custom_train_target)"
      ],
      "metadata": {
        "id": "I8jY-9PDcmPR"
      },
      "execution_count": null,
      "outputs": []
    },
    {
      "cell_type": "code",
      "source": [
        "faces_model = do_the_work_CNN(custom_train,\"faces\")"
      ],
      "metadata": {
        "colab": {
          "base_uri": "https://localhost:8080/"
        },
        "id": "_AzTWCHzk2WW",
        "outputId": "bf2428a0-ab7d-4383-ac2f-04bf1093a01f"
      },
      "execution_count": null,
      "outputs": [
        {
          "output_type": "stream",
          "name": "stdout",
          "text": [
            "Epoch 1/20\n",
            "12/12 [==============================] - 40s 2s/step - loss: 3.9992 - accuracy: 0.1319 - val_loss: 7.4453 - val_accuracy: 0.0000e+00\n",
            "Epoch 2/20\n",
            "12/12 [==============================] - 26s 2s/step - loss: 1.6903 - accuracy: 0.5347 - val_loss: 7.0843 - val_accuracy: 0.0000e+00\n",
            "Epoch 3/20\n",
            "12/12 [==============================] - 26s 2s/step - loss: 0.8707 - accuracy: 0.8299 - val_loss: 6.5559 - val_accuracy: 0.0000e+00\n",
            "Epoch 4/20\n",
            "12/12 [==============================] - 26s 2s/step - loss: 0.5246 - accuracy: 0.8889 - val_loss: 6.1642 - val_accuracy: 0.0000e+00\n",
            "Epoch 5/20\n",
            "12/12 [==============================] - 26s 2s/step - loss: 0.3491 - accuracy: 0.9583 - val_loss: 5.9404 - val_accuracy: 0.0000e+00\n",
            "Epoch 6/20\n",
            "12/12 [==============================] - 26s 2s/step - loss: 0.2872 - accuracy: 0.9688 - val_loss: 5.8424 - val_accuracy: 0.0000e+00\n",
            "Epoch 7/20\n",
            "12/12 [==============================] - 26s 2s/step - loss: 0.2431 - accuracy: 0.9688 - val_loss: 5.7870 - val_accuracy: 0.0000e+00\n",
            "Epoch 8/20\n",
            "12/12 [==============================] - 26s 2s/step - loss: 0.1801 - accuracy: 0.9896 - val_loss: 5.7577 - val_accuracy: 0.0000e+00\n",
            "Epoch 9/20\n",
            "12/12 [==============================] - 26s 2s/step - loss: 0.1510 - accuracy: 0.9896 - val_loss: 5.7872 - val_accuracy: 0.0000e+00\n",
            "Epoch 10/20\n",
            "12/12 [==============================] - 26s 2s/step - loss: 0.1152 - accuracy: 1.0000 - val_loss: 5.8323 - val_accuracy: 0.0000e+00\n",
            "Epoch 11/20\n",
            "12/12 [==============================] - 26s 2s/step - loss: 0.1060 - accuracy: 0.9965 - val_loss: 5.9390 - val_accuracy: 0.0000e+00\n",
            "Epoch 12/20\n",
            "12/12 [==============================] - 26s 2s/step - loss: 0.0925 - accuracy: 0.9965 - val_loss: 6.0728 - val_accuracy: 0.0000e+00\n",
            "Epoch 13/20\n",
            "12/12 [==============================] - 26s 2s/step - loss: 0.1089 - accuracy: 0.9931 - val_loss: 6.2544 - val_accuracy: 0.0000e+00\n",
            "Epoch 14/20\n",
            "12/12 [==============================] - 26s 2s/step - loss: 0.0867 - accuracy: 0.9965 - val_loss: 6.4720 - val_accuracy: 0.0000e+00\n",
            "Epoch 15/20\n",
            "12/12 [==============================] - 26s 2s/step - loss: 0.0725 - accuracy: 1.0000 - val_loss: 6.7171 - val_accuracy: 0.0000e+00\n",
            "Epoch 16/20\n",
            "12/12 [==============================] - 26s 2s/step - loss: 0.0651 - accuracy: 1.0000 - val_loss: 6.9830 - val_accuracy: 0.0000e+00\n",
            "Epoch 17/20\n",
            "12/12 [==============================] - 26s 2s/step - loss: 0.0620 - accuracy: 1.0000 - val_loss: 7.2714 - val_accuracy: 0.0000e+00\n",
            "Epoch 18/20\n",
            "12/12 [==============================] - 27s 2s/step - loss: 0.0594 - accuracy: 1.0000 - val_loss: 7.6013 - val_accuracy: 0.0000e+00\n",
            "Epoch 19/20\n",
            "12/12 [==============================] - 27s 2s/step - loss: 0.0668 - accuracy: 1.0000 - val_loss: 7.9750 - val_accuracy: 0.0000e+00\n",
            "Epoch 20/20\n",
            "12/12 [==============================] - 26s 2s/step - loss: 0.0588 - accuracy: 1.0000 - val_loss: 8.3490 - val_accuracy: 0.0000e+00\n"
          ]
        }
      ]
    },
    {
      "cell_type": "markdown",
      "source": [
        "- The CNN is giving very high accuracy on the train set but it's very low on the validation set, we have to see the performance on the test set to see the model's real performance on all the different faces."
      ],
      "metadata": {
        "id": "Fkumuv6j15Jt"
      }
    },
    {
      "cell_type": "code",
      "source": [
        "X_t = custom_test['images']\n",
        "y_t = custom_test['target']\n",
        "X_test = X_t.reshape((X_t.shape[0], X_t.shape[1], X_t.shape[2], 1))\n",
        "test_labels = to_categorical(y_t, num_classes=40)\n",
        "x = tf.image.grayscale_to_rgb(tf.constant(X_test))\n",
        "x = tf.pad(x, ((0, 0), (12, 12), (12, 12), (0, 0)))\n",
        "x = keras.applications.resnet_v2.preprocess_input(tf.cast(x, tf.float32))\n",
        "y_pred = faces_model.predict(x)"
      ],
      "metadata": {
        "id": "43EktFHSyDHh"
      },
      "execution_count": null,
      "outputs": []
    },
    {
      "cell_type": "code",
      "source": [
        "predictions = []\n",
        "for pred in y_pred : \n",
        "  predictions.append(list(pred).index(max(pred)))"
      ],
      "metadata": {
        "id": "e6-yKF4QylKK"
      },
      "execution_count": null,
      "outputs": []
    },
    {
      "cell_type": "code",
      "source": [
        "accuracy_score(predictions,y_t)"
      ],
      "metadata": {
        "id": "dyuPxsRJ31C4",
        "colab": {
          "base_uri": "https://localhost:8080/"
        },
        "outputId": "a7b16752-8810-4fda-9dbd-a8b2aee419ef"
      },
      "execution_count": null,
      "outputs": [
        {
          "output_type": "execute_result",
          "data": {
            "text/plain": [
              "0.575"
            ]
          },
          "metadata": {},
          "execution_count": 43
        }
      ]
    },
    {
      "cell_type": "markdown",
      "source": [
        "-The accuracy  is good enough given that we don't have enough data for each class."
      ],
      "metadata": {
        "id": "BRDs68hF2Nkj"
      }
    },
    {
      "cell_type": "code",
      "source": [
        ""
      ],
      "metadata": {
        "id": "N0mo38iUzsNA"
      },
      "execution_count": null,
      "outputs": []
    },
    {
      "cell_type": "code",
      "source": [
        ""
      ],
      "metadata": {
        "id": "3DNMHexjzy17"
      },
      "execution_count": null,
      "outputs": []
    }
  ],
  "metadata": {
    "colab": {
      "name": "LAB3_CNN.ipynb",
      "provenance": [],
      "collapsed_sections": [],
      "toc_visible": true
    },
    "kernelspec": {
      "display_name": "Python 3",
      "name": "python3"
    },
    "language_info": {
      "name": "python"
    }
  },
  "nbformat": 4,
  "nbformat_minor": 0
}