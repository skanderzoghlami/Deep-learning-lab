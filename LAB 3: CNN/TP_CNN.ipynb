{
  "cells": [
    {
      "cell_type": "markdown",
      "id": "d124a23d",
      "metadata": {
        "id": "d124a23d"
      },
      "source": [
        "## Installing required packages :"
      ]
    },
    {
      "cell_type": "code",
      "execution_count": 1,
      "id": "f938a2eb",
      "metadata": {
        "id": "f938a2eb"
      },
      "outputs": [],
      "source": [
        "from sklearn.datasets import load_digits\n",
        "from sklearn.metrics import f1_score\n",
        "from sklearn.utils import shuffle\n",
        "from sklearn.model_selection import train_test_split\n",
        "from sklearn.metrics import accuracy_score\n",
        "from sklearn.metrics import recall_score\n",
        "from sklearn import datasets\n",
        "from sklearn.metrics import precision_score\n",
        "from sklearn.datasets import fetch_olivetti_faces\n",
        "from sklearn.preprocessing import StandardScaler\n",
        "from sklearn.datasets import load_digits\n",
        "from sklearn.datasets import fetch_olivetti_faces\n",
        "\n",
        "import keras\n",
        "from keras.models import Sequential\n",
        "from sklearn.datasets import load_iris\n",
        "from keras.metrics import Precision , Recall\n",
        "from keras.utils import np_utils\n",
        "from keras.layers import Dense, Conv2D, MaxPooling2D , Flatten, Dense, Dropout, Activation,  GlobalAveragePooling2D, ZeroPadding2D\n",
        "from keras.models import Model\n",
        "from keras.models import Sequential\n",
        "from keras.layers import Dense\n",
        "from keras import layers , models\n",
        "\n",
        "import tensorflow as tf\n",
        "from tensorflow.keras.utils import to_categorical, plot_model\n",
        "\n",
        "import numpy as np\n",
        "import matplotlib.pyplot as plt"
      ]
    },
    {
      "cell_type": "markdown",
      "id": "3309bcd0",
      "metadata": {
        "id": "3309bcd0"
      },
      "source": [
        "## Loading datasets \n",
        "##### Iris dataset"
      ]
    },
    {
      "cell_type": "code",
      "execution_count": 2,
      "id": "2775803b",
      "metadata": {
        "id": "2775803b"
      },
      "outputs": [],
      "source": [
        "iris = load_iris()"
      ]
    },
    {
      "cell_type": "markdown",
      "id": "649f3500",
      "metadata": {
        "id": "649f3500"
      },
      "source": [
        "##### Digits dataset"
      ]
    },
    {
      "cell_type": "code",
      "execution_count": 3,
      "id": "371f0d6a",
      "metadata": {
        "id": "371f0d6a"
      },
      "outputs": [],
      "source": [
        "digits = load_digits()"
      ]
    },
    {
      "cell_type": "markdown",
      "id": "f6ff74c0",
      "metadata": {
        "id": "f6ff74c0"
      },
      "source": [
        "##### Olivetti dataset"
      ]
    },
    {
      "cell_type": "code",
      "execution_count": 4,
      "id": "409bde91",
      "metadata": {
        "colab": {
          "base_uri": "https://localhost:8080/"
        },
        "id": "409bde91",
        "outputId": "738c5a8e-b061-4f70-8b6e-34bc076f5de4"
      },
      "outputs": [
        {
          "output_type": "stream",
          "name": "stdout",
          "text": [
            "downloading Olivetti faces from https://ndownloader.figshare.com/files/5976027 to /root/scikit_learn_data\n"
          ]
        }
      ],
      "source": [
        "faces = fetch_olivetti_faces()"
      ]
    },
    {
      "cell_type": "code",
      "execution_count": 5,
      "id": "a740be02",
      "metadata": {
        "id": "a740be02"
      },
      "outputs": [],
      "source": [
        "X = digits.data\n",
        "y = digits.target"
      ]
    },
    {
      "cell_type": "code",
      "execution_count": 6,
      "id": "487af7f1",
      "metadata": {
        "id": "487af7f1"
      },
      "outputs": [],
      "source": [
        "X_train, X_test, y_train, y_test = train_test_split(X, y, test_size=0.20, random_state=64)\n",
        "train_labels = to_categorical(y_train, num_classes=digits.target_names.shape[0])\n",
        "test_labels = to_categorical(y_test, num_classes=digits.target_names.shape[0])"
      ]
    },
    {
      "cell_type": "markdown",
      "id": "45ce2fc5",
      "metadata": {
        "id": "45ce2fc5"
      },
      "source": [
        "## Using only fully connected layers"
      ]
    },
    {
      "cell_type": "code",
      "execution_count": 7,
      "id": "bc57261e",
      "metadata": {
        "colab": {
          "base_uri": "https://localhost:8080/"
        },
        "id": "bc57261e",
        "outputId": "634a70b1-7c2e-4d7e-d688-2514ff7ae0eb"
      },
      "outputs": [
        {
          "output_type": "stream",
          "name": "stdout",
          "text": [
            "Epoch 1/20\n",
            "144/144 [==============================] - 1s 2ms/step - loss: 2.7179 - accuracy: 0.1802 - precision: 0.1042 - recall: 0.0104\n",
            "Epoch 2/20\n",
            "144/144 [==============================] - 0s 2ms/step - loss: 1.7520 - accuracy: 0.3834 - precision: 0.9435 - recall: 0.0814\n",
            "Epoch 3/20\n",
            "144/144 [==============================] - 0s 2ms/step - loss: 1.2887 - accuracy: 0.5449 - precision: 0.9214 - recall: 0.3264\n",
            "Epoch 4/20\n",
            "144/144 [==============================] - 0s 2ms/step - loss: 0.8670 - accuracy: 0.7035 - precision: 0.9029 - recall: 0.5498\n",
            "Epoch 5/20\n",
            "144/144 [==============================] - 0s 2ms/step - loss: 0.6359 - accuracy: 0.7836 - precision: 0.9205 - recall: 0.6771\n",
            "Epoch 6/20\n",
            "144/144 [==============================] - 0s 2ms/step - loss: 0.5209 - accuracy: 0.8163 - precision: 0.9186 - recall: 0.7383\n",
            "Epoch 7/20\n",
            "144/144 [==============================] - 0s 2ms/step - loss: 0.4555 - accuracy: 0.8504 - precision: 0.9267 - recall: 0.7655\n",
            "Epoch 8/20\n",
            "144/144 [==============================] - 0s 2ms/step - loss: 0.3927 - accuracy: 0.8699 - precision: 0.9291 - recall: 0.8295\n",
            "Epoch 9/20\n",
            "144/144 [==============================] - 0s 2ms/step - loss: 0.3359 - accuracy: 0.8998 - precision: 0.9342 - recall: 0.8594\n",
            "Epoch 10/20\n",
            "144/144 [==============================] - 0s 2ms/step - loss: 0.2852 - accuracy: 0.9144 - precision: 0.9422 - recall: 0.8852\n",
            "Epoch 11/20\n",
            "144/144 [==============================] - 0s 2ms/step - loss: 0.2400 - accuracy: 0.9318 - precision: 0.9466 - recall: 0.9012\n",
            "Epoch 12/20\n",
            "144/144 [==============================] - 0s 2ms/step - loss: 0.2166 - accuracy: 0.9402 - precision: 0.9566 - recall: 0.9214\n",
            "Epoch 13/20\n",
            "144/144 [==============================] - 0s 2ms/step - loss: 0.1832 - accuracy: 0.9485 - precision: 0.9641 - recall: 0.9332\n",
            "Epoch 14/20\n",
            "144/144 [==============================] - 0s 2ms/step - loss: 0.1708 - accuracy: 0.9548 - precision: 0.9684 - recall: 0.9395\n",
            "Epoch 15/20\n",
            "144/144 [==============================] - 0s 2ms/step - loss: 0.1489 - accuracy: 0.9631 - precision: 0.9737 - recall: 0.9527\n",
            "Epoch 16/20\n",
            "144/144 [==============================] - 0s 2ms/step - loss: 0.1337 - accuracy: 0.9659 - precision: 0.9737 - recall: 0.9527\n",
            "Epoch 17/20\n",
            "144/144 [==============================] - 0s 2ms/step - loss: 0.1269 - accuracy: 0.9680 - precision: 0.9753 - recall: 0.9610\n",
            "Epoch 18/20\n",
            "144/144 [==============================] - 0s 2ms/step - loss: 0.1194 - accuracy: 0.9673 - precision: 0.9739 - recall: 0.9617\n",
            "Epoch 19/20\n",
            "144/144 [==============================] - 0s 2ms/step - loss: 0.1117 - accuracy: 0.9715 - precision: 0.9774 - recall: 0.9638\n",
            "Epoch 20/20\n",
            "144/144 [==============================] - 0s 2ms/step - loss: 0.1017 - accuracy: 0.9770 - precision: 0.9804 - recall: 0.9722\n"
          ]
        },
        {
          "output_type": "execute_result",
          "data": {
            "text/plain": [
              "<keras.callbacks.History at 0x7faddb0ccf50>"
            ]
          },
          "metadata": {},
          "execution_count": 7
        }
      ],
      "source": [
        "model = Sequential()\n",
        "model.add(Dense(16 , input_dim =X_train.shape[1], activation ='relu'))\n",
        "model.add(Dense(8 , activation ='relu'))\n",
        "model.add(Dense(digits.target_names.shape[0], activation ='softmax'))\n",
        "model.compile(loss ='categorical_crossentropy', optimizer='adam', metrics =['accuracy',Precision(),Recall()])\n",
        "model.fit (X_train, train_labels, epochs=20, batch_size=10)"
      ]
    },
    {
      "cell_type": "code",
      "execution_count": 8,
      "id": "ec6947e7",
      "metadata": {
        "colab": {
          "base_uri": "https://localhost:8080/"
        },
        "id": "ec6947e7",
        "outputId": "93de316d-0052-419d-c531-9517b2907c90"
      },
      "outputs": [
        {
          "output_type": "stream",
          "name": "stdout",
          "text": [
            "Model evaluation on test data\n",
            "12/12 [==============================] - 1s 3ms/step - loss: 0.1540 - accuracy: 0.9417 - precision: 0.9468 - recall: 0.9389\n"
          ]
        },
        {
          "output_type": "execute_result",
          "data": {
            "text/plain": [
              "[0.15403658151626587,\n",
              " 0.9416666626930237,\n",
              " 0.9467787146568298,\n",
              " 0.9388889074325562]"
            ]
          },
          "metadata": {},
          "execution_count": 8
        }
      ],
      "source": [
        "print(\"Model evaluation on test data\")\n",
        "model.evaluate(X_test,test_labels)"
      ]
    },
    {
      "cell_type": "markdown",
      "id": "16c06e0f",
      "metadata": {
        "id": "16c06e0f"
      },
      "source": [
        "# Faces Dataset - Model with only fully connected layers"
      ]
    },
    {
      "cell_type": "code",
      "execution_count": 9,
      "id": "c879c37e",
      "metadata": {
        "id": "c879c37e"
      },
      "outputs": [],
      "source": [
        "X = faces.data\n",
        "y = faces.target\n",
        "X_train, X_test, y_train, y_test = train_test_split(X, y, test_size=0.20, random_state=64)\n",
        "train_labels = to_categorical(y_train, 40)\n",
        "test_labels = to_categorical(y_test, 40)"
      ]
    },
    {
      "cell_type": "code",
      "execution_count": 10,
      "id": "e6b36aa8",
      "metadata": {
        "colab": {
          "base_uri": "https://localhost:8080/"
        },
        "id": "e6b36aa8",
        "outputId": "cadeb026-46b6-42ec-907a-3d29436ef85f"
      },
      "outputs": [
        {
          "output_type": "stream",
          "name": "stdout",
          "text": [
            "Epoch 1/80\n",
            "20/20 [==============================] - 1s 4ms/step - loss: 0.5769 - accuracy: 0.0094 - precision_1: 0.0000e+00 - recall_1: 0.0000e+00\n",
            "Epoch 2/80\n",
            "20/20 [==============================] - 0s 3ms/step - loss: 0.2085 - accuracy: 0.0344 - precision_1: 0.0000e+00 - recall_1: 0.0000e+00\n",
            "Epoch 3/80\n",
            "20/20 [==============================] - 0s 2ms/step - loss: 0.1314 - accuracy: 0.0156 - precision_1: 0.0000e+00 - recall_1: 0.0000e+00\n",
            "Epoch 4/80\n",
            "20/20 [==============================] - 0s 2ms/step - loss: 0.1218 - accuracy: 0.0312 - precision_1: 0.0000e+00 - recall_1: 0.0000e+00\n",
            "Epoch 5/80\n",
            "20/20 [==============================] - 0s 3ms/step - loss: 0.1200 - accuracy: 0.0312 - precision_1: 0.0000e+00 - recall_1: 0.0000e+00\n",
            "Epoch 6/80\n",
            "20/20 [==============================] - 0s 3ms/step - loss: 0.1195 - accuracy: 0.0312 - precision_1: 0.0000e+00 - recall_1: 0.0000e+00\n",
            "Epoch 7/80\n",
            "20/20 [==============================] - 0s 3ms/step - loss: 0.1195 - accuracy: 0.0312 - precision_1: 0.0000e+00 - recall_1: 0.0000e+00\n",
            "Epoch 8/80\n",
            "20/20 [==============================] - 0s 3ms/step - loss: 0.1194 - accuracy: 0.0312 - precision_1: 0.0000e+00 - recall_1: 0.0000e+00\n",
            "Epoch 9/80\n",
            "20/20 [==============================] - 0s 3ms/step - loss: 0.1191 - accuracy: 0.0188 - precision_1: 0.0000e+00 - recall_1: 0.0000e+00\n",
            "Epoch 10/80\n",
            "20/20 [==============================] - 0s 3ms/step - loss: 0.1190 - accuracy: 0.0250 - precision_1: 0.0000e+00 - recall_1: 0.0000e+00\n",
            "Epoch 11/80\n",
            "20/20 [==============================] - 0s 4ms/step - loss: 0.1192 - accuracy: 0.0281 - precision_1: 0.0000e+00 - recall_1: 0.0000e+00\n",
            "Epoch 12/80\n",
            "20/20 [==============================] - 0s 5ms/step - loss: 0.1191 - accuracy: 0.0344 - precision_1: 0.0000e+00 - recall_1: 0.0000e+00\n",
            "Epoch 13/80\n",
            "20/20 [==============================] - 0s 3ms/step - loss: 0.1189 - accuracy: 0.0219 - precision_1: 0.0000e+00 - recall_1: 0.0000e+00\n",
            "Epoch 14/80\n",
            "20/20 [==============================] - 0s 3ms/step - loss: 0.1190 - accuracy: 0.0156 - precision_1: 0.0000e+00 - recall_1: 0.0000e+00\n",
            "Epoch 15/80\n",
            "20/20 [==============================] - 0s 3ms/step - loss: 0.1193 - accuracy: 0.0312 - precision_1: 0.0000e+00 - recall_1: 0.0000e+00\n",
            "Epoch 16/80\n",
            "20/20 [==============================] - 0s 3ms/step - loss: 0.1189 - accuracy: 0.0063 - precision_1: 0.0000e+00 - recall_1: 0.0000e+00\n",
            "Epoch 17/80\n",
            "20/20 [==============================] - 0s 3ms/step - loss: 0.1189 - accuracy: 0.0188 - precision_1: 0.0000e+00 - recall_1: 0.0000e+00\n",
            "Epoch 18/80\n",
            "20/20 [==============================] - 0s 3ms/step - loss: 0.1186 - accuracy: 0.0312 - precision_1: 0.0000e+00 - recall_1: 0.0000e+00\n",
            "Epoch 19/80\n",
            "20/20 [==============================] - 0s 3ms/step - loss: 0.1187 - accuracy: 0.0312 - precision_1: 0.0000e+00 - recall_1: 0.0000e+00\n",
            "Epoch 20/80\n",
            "20/20 [==============================] - 0s 3ms/step - loss: 0.1188 - accuracy: 0.0250 - precision_1: 0.0000e+00 - recall_1: 0.0000e+00\n",
            "Epoch 21/80\n",
            "20/20 [==============================] - 0s 3ms/step - loss: 0.1186 - accuracy: 0.0219 - precision_1: 0.0000e+00 - recall_1: 0.0000e+00\n",
            "Epoch 22/80\n",
            "20/20 [==============================] - 0s 3ms/step - loss: 0.1186 - accuracy: 0.0156 - precision_1: 0.0000e+00 - recall_1: 0.0000e+00\n",
            "Epoch 23/80\n",
            "20/20 [==============================] - 0s 3ms/step - loss: 0.1185 - accuracy: 0.0219 - precision_1: 0.0000e+00 - recall_1: 0.0000e+00\n",
            "Epoch 24/80\n",
            "20/20 [==============================] - 0s 3ms/step - loss: 0.1185 - accuracy: 0.0219 - precision_1: 0.0000e+00 - recall_1: 0.0000e+00\n",
            "Epoch 25/80\n",
            "20/20 [==============================] - 0s 2ms/step - loss: 0.1184 - accuracy: 0.0156 - precision_1: 0.0000e+00 - recall_1: 0.0000e+00\n",
            "Epoch 26/80\n",
            "20/20 [==============================] - 0s 4ms/step - loss: 0.1185 - accuracy: 0.0219 - precision_1: 0.0000e+00 - recall_1: 0.0000e+00\n",
            "Epoch 27/80\n",
            "20/20 [==============================] - 0s 2ms/step - loss: 0.1187 - accuracy: 0.0188 - precision_1: 0.0000e+00 - recall_1: 0.0000e+00\n",
            "Epoch 28/80\n",
            "20/20 [==============================] - 0s 2ms/step - loss: 0.1186 - accuracy: 0.0219 - precision_1: 0.0000e+00 - recall_1: 0.0000e+00\n",
            "Epoch 29/80\n",
            "20/20 [==============================] - 0s 3ms/step - loss: 0.1183 - accuracy: 0.0250 - precision_1: 0.0000e+00 - recall_1: 0.0000e+00\n",
            "Epoch 30/80\n",
            "20/20 [==============================] - 0s 2ms/step - loss: 0.1183 - accuracy: 0.0312 - precision_1: 0.0000e+00 - recall_1: 0.0000e+00\n",
            "Epoch 31/80\n",
            "20/20 [==============================] - 0s 2ms/step - loss: 0.1184 - accuracy: 0.0281 - precision_1: 0.0000e+00 - recall_1: 0.0000e+00\n",
            "Epoch 32/80\n",
            "20/20 [==============================] - 0s 3ms/step - loss: 0.1189 - accuracy: 0.0250 - precision_1: 0.0000e+00 - recall_1: 0.0000e+00\n",
            "Epoch 33/80\n",
            "20/20 [==============================] - 0s 2ms/step - loss: 0.1183 - accuracy: 0.0312 - precision_1: 0.0000e+00 - recall_1: 0.0000e+00\n",
            "Epoch 34/80\n",
            "20/20 [==============================] - 0s 2ms/step - loss: 0.1183 - accuracy: 0.0063 - precision_1: 0.0000e+00 - recall_1: 0.0000e+00\n",
            "Epoch 35/80\n",
            "20/20 [==============================] - 0s 3ms/step - loss: 0.1183 - accuracy: 0.0125 - precision_1: 0.0000e+00 - recall_1: 0.0000e+00\n",
            "Epoch 36/80\n",
            "20/20 [==============================] - 0s 2ms/step - loss: 0.1183 - accuracy: 0.0156 - precision_1: 0.0000e+00 - recall_1: 0.0000e+00\n",
            "Epoch 37/80\n",
            "20/20 [==============================] - 0s 2ms/step - loss: 0.1182 - accuracy: 0.0281 - precision_1: 0.0000e+00 - recall_1: 0.0000e+00\n",
            "Epoch 38/80\n",
            "20/20 [==============================] - 0s 2ms/step - loss: 0.1184 - accuracy: 0.0219 - precision_1: 0.0000e+00 - recall_1: 0.0000e+00\n",
            "Epoch 39/80\n",
            "20/20 [==============================] - 0s 3ms/step - loss: 0.1185 - accuracy: 0.0250 - precision_1: 0.0000e+00 - recall_1: 0.0000e+00\n",
            "Epoch 40/80\n",
            "20/20 [==============================] - 0s 3ms/step - loss: 0.1183 - accuracy: 0.0344 - precision_1: 0.0000e+00 - recall_1: 0.0000e+00\n",
            "Epoch 41/80\n",
            "20/20 [==============================] - 0s 2ms/step - loss: 0.1182 - accuracy: 0.0281 - precision_1: 0.0000e+00 - recall_1: 0.0000e+00\n",
            "Epoch 42/80\n",
            "20/20 [==============================] - 0s 2ms/step - loss: 0.1183 - accuracy: 0.0219 - precision_1: 0.0000e+00 - recall_1: 0.0000e+00\n",
            "Epoch 43/80\n",
            "20/20 [==============================] - 0s 3ms/step - loss: 0.1181 - accuracy: 0.0281 - precision_1: 0.0000e+00 - recall_1: 0.0000e+00\n",
            "Epoch 44/80\n",
            "20/20 [==============================] - 0s 2ms/step - loss: 0.1184 - accuracy: 0.0219 - precision_1: 0.0000e+00 - recall_1: 0.0000e+00\n",
            "Epoch 45/80\n",
            "20/20 [==============================] - 0s 3ms/step - loss: 0.1182 - accuracy: 0.0250 - precision_1: 0.0000e+00 - recall_1: 0.0000e+00\n",
            "Epoch 46/80\n",
            "20/20 [==============================] - 0s 3ms/step - loss: 0.1184 - accuracy: 0.0281 - precision_1: 0.0000e+00 - recall_1: 0.0000e+00\n",
            "Epoch 47/80\n",
            "20/20 [==============================] - 0s 3ms/step - loss: 0.1182 - accuracy: 0.0125 - precision_1: 0.0000e+00 - recall_1: 0.0000e+00\n",
            "Epoch 48/80\n",
            "20/20 [==============================] - 0s 3ms/step - loss: 0.1180 - accuracy: 0.0281 - precision_1: 0.0000e+00 - recall_1: 0.0000e+00\n",
            "Epoch 49/80\n",
            "20/20 [==============================] - 0s 3ms/step - loss: 0.1180 - accuracy: 0.0281 - precision_1: 0.0000e+00 - recall_1: 0.0000e+00\n",
            "Epoch 50/80\n",
            "20/20 [==============================] - 0s 2ms/step - loss: 0.1179 - accuracy: 0.0281 - precision_1: 0.0000e+00 - recall_1: 0.0000e+00\n",
            "Epoch 51/80\n",
            "20/20 [==============================] - 0s 2ms/step - loss: 0.1180 - accuracy: 0.0250 - precision_1: 0.0000e+00 - recall_1: 0.0000e+00\n",
            "Epoch 52/80\n",
            "20/20 [==============================] - 0s 3ms/step - loss: 0.1181 - accuracy: 0.0281 - precision_1: 0.0000e+00 - recall_1: 0.0000e+00\n",
            "Epoch 53/80\n",
            "20/20 [==============================] - 0s 3ms/step - loss: 0.1181 - accuracy: 0.0312 - precision_1: 0.0000e+00 - recall_1: 0.0000e+00\n",
            "Epoch 54/80\n",
            "20/20 [==============================] - 0s 3ms/step - loss: 0.1179 - accuracy: 0.0281 - precision_1: 0.0000e+00 - recall_1: 0.0000e+00\n",
            "Epoch 55/80\n",
            "20/20 [==============================] - 0s 2ms/step - loss: 0.1180 - accuracy: 0.0156 - precision_1: 0.0000e+00 - recall_1: 0.0000e+00\n",
            "Epoch 56/80\n",
            "20/20 [==============================] - 0s 2ms/step - loss: 0.1180 - accuracy: 0.0344 - precision_1: 0.0000e+00 - recall_1: 0.0000e+00\n",
            "Epoch 57/80\n",
            "20/20 [==============================] - 0s 3ms/step - loss: 0.1179 - accuracy: 0.0281 - precision_1: 0.0000e+00 - recall_1: 0.0000e+00\n",
            "Epoch 58/80\n",
            "20/20 [==============================] - 0s 2ms/step - loss: 0.1179 - accuracy: 0.0063 - precision_1: 0.0000e+00 - recall_1: 0.0000e+00\n",
            "Epoch 59/80\n",
            "20/20 [==============================] - 0s 4ms/step - loss: 0.1183 - accuracy: 0.0125 - precision_1: 0.0000e+00 - recall_1: 0.0000e+00\n",
            "Epoch 60/80\n",
            "20/20 [==============================] - 0s 2ms/step - loss: 0.1181 - accuracy: 0.0281 - precision_1: 0.0000e+00 - recall_1: 0.0000e+00\n",
            "Epoch 61/80\n",
            "20/20 [==============================] - 0s 2ms/step - loss: 0.1181 - accuracy: 0.0281 - precision_1: 0.0000e+00 - recall_1: 0.0000e+00\n",
            "Epoch 62/80\n",
            "20/20 [==============================] - 0s 2ms/step - loss: 0.1179 - accuracy: 0.0281 - precision_1: 0.0000e+00 - recall_1: 0.0000e+00\n",
            "Epoch 63/80\n",
            "20/20 [==============================] - 0s 2ms/step - loss: 0.1181 - accuracy: 0.0219 - precision_1: 0.0000e+00 - recall_1: 0.0000e+00\n",
            "Epoch 64/80\n",
            "20/20 [==============================] - 0s 2ms/step - loss: 0.1178 - accuracy: 0.0312 - precision_1: 0.0000e+00 - recall_1: 0.0000e+00\n",
            "Epoch 65/80\n",
            "20/20 [==============================] - 0s 3ms/step - loss: 0.1181 - accuracy: 0.0250 - precision_1: 0.0000e+00 - recall_1: 0.0000e+00\n",
            "Epoch 66/80\n",
            "20/20 [==============================] - 0s 2ms/step - loss: 0.1178 - accuracy: 0.0156 - precision_1: 0.0000e+00 - recall_1: 0.0000e+00\n",
            "Epoch 67/80\n",
            "20/20 [==============================] - 0s 2ms/step - loss: 0.1178 - accuracy: 0.0281 - precision_1: 0.0000e+00 - recall_1: 0.0000e+00\n",
            "Epoch 68/80\n",
            "20/20 [==============================] - 0s 2ms/step - loss: 0.1179 - accuracy: 0.0312 - precision_1: 0.0000e+00 - recall_1: 0.0000e+00\n",
            "Epoch 69/80\n",
            "20/20 [==============================] - 0s 2ms/step - loss: 0.1181 - accuracy: 0.0125 - precision_1: 0.0000e+00 - recall_1: 0.0000e+00\n",
            "Epoch 70/80\n",
            "20/20 [==============================] - 0s 2ms/step - loss: 0.1178 - accuracy: 0.0219 - precision_1: 0.0000e+00 - recall_1: 0.0000e+00\n",
            "Epoch 71/80\n",
            "20/20 [==============================] - 0s 2ms/step - loss: 0.1180 - accuracy: 0.0156 - precision_1: 0.0000e+00 - recall_1: 0.0000e+00\n",
            "Epoch 72/80\n",
            "20/20 [==============================] - 0s 3ms/step - loss: 0.1179 - accuracy: 0.0281 - precision_1: 0.0000e+00 - recall_1: 0.0000e+00\n",
            "Epoch 73/80\n",
            "20/20 [==============================] - 0s 3ms/step - loss: 0.1179 - accuracy: 0.0219 - precision_1: 0.0000e+00 - recall_1: 0.0000e+00\n",
            "Epoch 74/80\n",
            "20/20 [==============================] - 0s 3ms/step - loss: 0.1178 - accuracy: 0.0344 - precision_1: 0.0000e+00 - recall_1: 0.0000e+00\n",
            "Epoch 75/80\n",
            "20/20 [==============================] - 0s 3ms/step - loss: 0.1178 - accuracy: 0.0156 - precision_1: 0.0000e+00 - recall_1: 0.0000e+00\n",
            "Epoch 76/80\n",
            "20/20 [==============================] - 0s 4ms/step - loss: 0.1177 - accuracy: 0.0156 - precision_1: 0.0000e+00 - recall_1: 0.0000e+00\n",
            "Epoch 77/80\n",
            "20/20 [==============================] - 0s 3ms/step - loss: 0.1178 - accuracy: 0.0312 - precision_1: 0.0000e+00 - recall_1: 0.0000e+00\n",
            "Epoch 78/80\n",
            "20/20 [==============================] - 0s 3ms/step - loss: 0.1178 - accuracy: 0.0344 - precision_1: 0.0000e+00 - recall_1: 0.0000e+00\n",
            "Epoch 79/80\n",
            "20/20 [==============================] - 0s 3ms/step - loss: 0.1176 - accuracy: 0.0312 - precision_1: 0.0000e+00 - recall_1: 0.0000e+00\n",
            "Epoch 80/80\n",
            "20/20 [==============================] - 0s 2ms/step - loss: 0.1178 - accuracy: 0.0281 - precision_1: 0.0000e+00 - recall_1: 0.0000e+00\n"
          ]
        },
        {
          "output_type": "execute_result",
          "data": {
            "text/plain": [
              "<keras.callbacks.History at 0x7fadd69bb650>"
            ]
          },
          "metadata": {},
          "execution_count": 10
        }
      ],
      "source": [
        "model = Sequential()\n",
        "model.add(Dense(16 , input_dim =X_train.shape[1], activation ='relu'))\n",
        "model.add(Dense(32 , activation ='relu'))\n",
        "model.add(Dense(64 , activation ='relu'))\n",
        "model.add(Dense(40, activation ='softmax'))\n",
        "model.compile(loss ='binary_crossentropy', optimizer='adam', metrics =['accuracy',Precision(),Recall()])\n",
        "model.fit (X_train, train_labels, epochs=80, batch_size=16)"
      ]
    },
    {
      "cell_type": "code",
      "execution_count": 11,
      "id": "eb41ea10",
      "metadata": {
        "colab": {
          "base_uri": "https://localhost:8080/"
        },
        "id": "eb41ea10",
        "outputId": "c66c2d7c-faf7-447a-913a-60f3c1062195"
      },
      "outputs": [
        {
          "output_type": "stream",
          "name": "stdout",
          "text": [
            "Model evaluation on test data\n",
            "3/3 [==============================] - 1s 5ms/step - loss: 0.1223 - accuracy: 0.0000e+00 - precision_1: 0.0000e+00 - recall_1: 0.0000e+00\n"
          ]
        },
        {
          "output_type": "execute_result",
          "data": {
            "text/plain": [
              "[0.12228582054376602, 0.0, 0.0, 0.0]"
            ]
          },
          "metadata": {},
          "execution_count": 11
        }
      ],
      "source": [
        "print(\"Model evaluation on test data\")\n",
        "model.evaluate(X_test,test_labels)"
      ]
    },
    {
      "cell_type": "markdown",
      "id": "fc85334b",
      "metadata": {
        "id": "fc85334b"
      },
      "source": [
        "The evaluation results are so poor, as we expected it to be since this dataset has multiple classes (40) and the fully conncted layers can not take into consideration the spacial caracteristics like the Convolutional Neural Network does. Thats why we will try training a CNN on this dataset in order to have better results."
      ]
    },
    {
      "cell_type": "markdown",
      "id": "d4e87ec5",
      "metadata": {
        "id": "d4e87ec5"
      },
      "source": [
        "## Implementing VGG 16 - faces dataset"
      ]
    },
    {
      "cell_type": "code",
      "execution_count": 12,
      "id": "0221a2f8",
      "metadata": {
        "id": "0221a2f8"
      },
      "outputs": [],
      "source": [
        "X = faces['images']\n",
        "y = faces['target']\n",
        "\n",
        "X_train, X_test, y_train, y_test = train_test_split(X, y, test_size=0.2, random_state=42)\n",
        "\n",
        "X_train = X_train.reshape((X_train.shape[0], X_train.shape[1], X_train.shape[2], 1))\n",
        "X_test = X_test.reshape((X_test.shape[0], X_test.shape[1], X_test.shape[2], 1))\n",
        "train_labels = to_categorical(y_train, num_classes=40)\n",
        "test_labels = to_categorical(y_test, num_classes=40)\n",
        "X_train=np.dstack([X_train] * 3)\n",
        "X_test=np.dstack([X_test]*3)\n",
        "X_train = X_train.reshape(-1, 64,64,3)\n",
        "X_test= X_test.reshape (-1,64,64,3)\n",
        "\n",
        "vgg_16_model = Sequential()\n",
        "vgg_16_model.add(Conv2D(input_shape=(64,64,3) ,filters=64,kernel_size=(3,3),padding=\"same\", activation=\"relu\"))\n",
        "vgg_16_model.add(Conv2D(filters=64,kernel_size=(3,3),padding=\"same\", activation=\"relu\"))\n",
        "vgg_16_model.add(MaxPooling2D(pool_size=(2,2),strides=(2,2)))\n",
        "vgg_16_model.add(Conv2D(filters=128, kernel_size=(3,3), padding=\"same\", activation=\"relu\"))\n",
        "vgg_16_model.add(Conv2D(filters=128, kernel_size=(3,3), padding=\"same\", activation=\"relu\"))\n",
        "vgg_16_model.add(MaxPooling2D(pool_size=(2,2),strides=(2,2)))\n",
        "vgg_16_model.add(Conv2D(filters=256, kernel_size=(3,3), padding=\"same\", activation=\"relu\"))\n",
        "vgg_16_model.add(Conv2D(filters=256, kernel_size=(3,3), padding=\"same\", activation=\"relu\"))\n",
        "vgg_16_model.add(Conv2D(filters=256, kernel_size=(3,3), padding=\"same\", activation=\"relu\"))\n",
        "vgg_16_model.add(MaxPooling2D(pool_size=(2,2),strides=(2,2)))\n",
        "vgg_16_model.add(Conv2D(filters=512, kernel_size=(3,3), padding=\"same\", activation=\"relu\"))\n",
        "vgg_16_model.add(Conv2D(filters=512, kernel_size=(3,3), padding=\"same\", activation=\"relu\"))\n",
        "vgg_16_model.add(Conv2D(filters=512, kernel_size=(3,3), padding=\"same\", activation=\"relu\"))\n",
        "vgg_16_model.add(MaxPooling2D(pool_size=(2,2),strides=(2,2)))\n",
        "vgg_16_model.add(Conv2D(filters=512, kernel_size=(3,3), padding=\"same\", activation=\"relu\"))\n",
        "vgg_16_model.add(Conv2D(filters=512, kernel_size=(3,3), padding=\"same\", activation=\"relu\"))\n",
        "vgg_16_model.add(Conv2D(filters=512, kernel_size=(3,3), padding=\"same\", activation=\"relu\"))\n",
        "vgg_16_model.add(MaxPooling2D(pool_size=(2,2),strides=(2,2)))\n",
        "vgg_16_model.add(Flatten())\n",
        "vgg_16_model.add(Dense(units=4096,activation=\"relu\"))\n",
        "vgg_16_model.add(Dense(units=4096,activation=\"relu\"))\n",
        "vgg_16_model.add(Dense(units=40, activation=\"softmax\"))"
      ]
    },
    {
      "cell_type": "code",
      "execution_count": 13,
      "id": "124d7cd2",
      "metadata": {
        "colab": {
          "base_uri": "https://localhost:8080/"
        },
        "id": "124d7cd2",
        "outputId": "8ada899a-225d-425e-82d9-4f02cd138263"
      },
      "outputs": [
        {
          "output_type": "execute_result",
          "data": {
            "text/plain": [
              "(80, 64, 64, 3)"
            ]
          },
          "metadata": {},
          "execution_count": 13
        }
      ],
      "source": [
        "X_test.shape"
      ]
    },
    {
      "cell_type": "code",
      "execution_count": 14,
      "id": "a7c35b2a",
      "metadata": {
        "colab": {
          "base_uri": "https://localhost:8080/"
        },
        "id": "a7c35b2a",
        "outputId": "37cc1fe7-c180-42c3-94ca-461f4772ee2d"
      },
      "outputs": [
        {
          "output_type": "stream",
          "name": "stdout",
          "text": [
            "Epoch 1/15\n",
            "10/10 [==============================] - 56s 5s/step - loss: 3.7754 - accuracy: 0.0219 - precision_2: 0.0000e+00 - recall_2: 0.0000e+00\n",
            "Epoch 2/15\n",
            "10/10 [==============================] - 55s 6s/step - loss: 3.6897 - accuracy: 0.0125 - precision_2: 0.0000e+00 - recall_2: 0.0000e+00\n",
            "Epoch 3/15\n",
            "10/10 [==============================] - 54s 5s/step - loss: 3.6886 - accuracy: 0.0250 - precision_2: 0.0000e+00 - recall_2: 0.0000e+00\n",
            "Epoch 4/15\n",
            "10/10 [==============================] - 54s 5s/step - loss: 3.6856 - accuracy: 0.0312 - precision_2: 0.0000e+00 - recall_2: 0.0000e+00\n",
            "Epoch 5/15\n",
            "10/10 [==============================] - 55s 5s/step - loss: 3.6832 - accuracy: 0.0312 - precision_2: 0.0000e+00 - recall_2: 0.0000e+00\n",
            "Epoch 6/15\n",
            "10/10 [==============================] - 54s 5s/step - loss: 3.6845 - accuracy: 0.0156 - precision_2: 0.0000e+00 - recall_2: 0.0000e+00\n",
            "Epoch 7/15\n",
            "10/10 [==============================] - 54s 5s/step - loss: 3.6811 - accuracy: 0.0250 - precision_2: 0.0000e+00 - recall_2: 0.0000e+00\n",
            "Epoch 8/15\n",
            "10/10 [==============================] - 55s 5s/step - loss: 3.6803 - accuracy: 0.0312 - precision_2: 0.0000e+00 - recall_2: 0.0000e+00\n",
            "Epoch 9/15\n",
            "10/10 [==============================] - 54s 5s/step - loss: 3.6793 - accuracy: 0.0312 - precision_2: 0.0000e+00 - recall_2: 0.0000e+00\n",
            "Epoch 10/15\n",
            "10/10 [==============================] - 54s 5s/step - loss: 3.6781 - accuracy: 0.0312 - precision_2: 0.0000e+00 - recall_2: 0.0000e+00\n",
            "Epoch 11/15\n",
            "10/10 [==============================] - 54s 5s/step - loss: 3.6793 - accuracy: 0.0312 - precision_2: 0.0000e+00 - recall_2: 0.0000e+00\n",
            "Epoch 12/15\n",
            "10/10 [==============================] - 54s 5s/step - loss: 3.6788 - accuracy: 0.0312 - precision_2: 0.0000e+00 - recall_2: 0.0000e+00\n",
            "Epoch 13/15\n",
            "10/10 [==============================] - 54s 5s/step - loss: 3.6785 - accuracy: 0.0219 - precision_2: 0.0000e+00 - recall_2: 0.0000e+00\n",
            "Epoch 14/15\n",
            "10/10 [==============================] - 54s 5s/step - loss: 3.6784 - accuracy: 0.0219 - precision_2: 0.0000e+00 - recall_2: 0.0000e+00\n",
            "Epoch 15/15\n",
            "10/10 [==============================] - 54s 5s/step - loss: 3.6784 - accuracy: 0.0312 - precision_2: 0.0000e+00 - recall_2: 0.0000e+00\n"
          ]
        },
        {
          "output_type": "execute_result",
          "data": {
            "text/plain": [
              "<keras.callbacks.History at 0x7fadd65e6d10>"
            ]
          },
          "metadata": {},
          "execution_count": 14
        }
      ],
      "source": [
        "vgg_16_model.compile(loss ='categorical_crossentropy', optimizer='adam', metrics =['accuracy',Precision(),Recall()])\n",
        "vgg_16_model.fit (X_train, train_labels, epochs=15)"
      ]
    },
    {
      "cell_type": "code",
      "execution_count": 15,
      "id": "5787bd52",
      "metadata": {
        "colab": {
          "base_uri": "https://localhost:8080/"
        },
        "id": "5787bd52",
        "outputId": "f0ef3d75-96e7-45ef-a7a0-8966710cd578"
      },
      "outputs": [
        {
          "output_type": "stream",
          "name": "stdout",
          "text": [
            "Model evaluation on test data\n",
            "3/3 [==============================] - 5s 1s/step - loss: 3.7979 - accuracy: 0.0000e+00 - precision_2: 0.0000e+00 - recall_2: 0.0000e+00\n"
          ]
        },
        {
          "output_type": "execute_result",
          "data": {
            "text/plain": [
              "[3.797873020172119, 0.0, 0.0, 0.0]"
            ]
          },
          "metadata": {},
          "execution_count": 15
        }
      ],
      "source": [
        "print(\"Model evaluation on test data\")\n",
        "vgg_16_model.evaluate(X_test,test_labels)"
      ]
    },
    {
      "cell_type": "markdown",
      "id": "96c1d456",
      "metadata": {
        "id": "96c1d456"
      },
      "source": [
        "VGG16 didn't give better results for faces dataset compared to the Fully connected neural network. We shall also add that it costs a lot of computational resources to train such a complex model. In order to get the benefits of this complex model without taking so much time and resources (using transfer learning)."
      ]
    },
    {
      "cell_type": "markdown",
      "id": "300e216a",
      "metadata": {
        "id": "300e216a"
      },
      "source": [
        "### Transfer learning - VGG 16 - faces dataset"
      ]
    },
    {
      "cell_type": "code",
      "execution_count": 16,
      "id": "b2f84ec0",
      "metadata": {
        "id": "b2f84ec0"
      },
      "outputs": [],
      "source": [
        "X = faces['images']\n",
        "y = faces['target']\n",
        "\n",
        "X_train, X_test, y_train, y_test = train_test_split(X, y, test_size=0.2, random_state=42)\n",
        "\n",
        "X_train = X_train.reshape((X_train.shape[0], X_train.shape[1], X_train.shape[2], 1))\n",
        "X_test = X_test.reshape((X_test.shape[0], X_test.shape[1], X_test.shape[2], 1))\n",
        "train_labels = to_categorical(y_train, num_classes=40)\n",
        "test_labels = to_categorical(y_test, num_classes=40)\n",
        "X_train=np.dstack([X_train] * 3)\n",
        "X_test=np.dstack([X_test]*3)\n",
        "X_train = X_train.reshape(-1, 64,64,3)\n",
        "X_test= X_test.reshape (-1,64,64,3)\n"
      ]
    },
    {
      "cell_type": "code",
      "execution_count": 23,
      "id": "444349ae",
      "metadata": {
        "id": "444349ae"
      },
      "outputs": [],
      "source": [
        "from tensorflow.keras.applications import VGG16\n",
        "input_layer=layers.Input(shape=(64,64,3))\n",
        "model_vgg16=VGG16(weights='imagenet',input_tensor=input_layer,include_top=False)\n",
        "last_layer=model_vgg16.output\n",
        "flatten=layers.Flatten()(last_layer) \n",
        "\n",
        "# Add output layer with 40 neurons\n",
        "output_layer=layers.Dense(40,activation='softmax')(flatten)\n",
        "model=models.Model(inputs=input_layer,outputs=output_layer)\n",
        "for layer in model.layers[:-1]:\n",
        "    layer.trainable=False"
      ]
    },
    {
      "cell_type": "code",
      "source": [
        "model.summary()"
      ],
      "metadata": {
        "colab": {
          "base_uri": "https://localhost:8080/"
        },
        "id": "o-ky1_CsUDiw",
        "outputId": "00d0b1c2-c2ed-4379-a977-e7418fbdadab"
      },
      "id": "o-ky1_CsUDiw",
      "execution_count": 24,
      "outputs": [
        {
          "output_type": "stream",
          "name": "stdout",
          "text": [
            "Model: \"model_3\"\n",
            "_________________________________________________________________\n",
            " Layer (type)                Output Shape              Param #   \n",
            "=================================================================\n",
            " input_4 (InputLayer)        [(None, 64, 64, 3)]       0         \n",
            "                                                                 \n",
            " block1_conv1 (Conv2D)       (None, 64, 64, 64)        1792      \n",
            "                                                                 \n",
            " block1_conv2 (Conv2D)       (None, 64, 64, 64)        36928     \n",
            "                                                                 \n",
            " block1_pool (MaxPooling2D)  (None, 32, 32, 64)        0         \n",
            "                                                                 \n",
            " block2_conv1 (Conv2D)       (None, 32, 32, 128)       73856     \n",
            "                                                                 \n",
            " block2_conv2 (Conv2D)       (None, 32, 32, 128)       147584    \n",
            "                                                                 \n",
            " block2_pool (MaxPooling2D)  (None, 16, 16, 128)       0         \n",
            "                                                                 \n",
            " block3_conv1 (Conv2D)       (None, 16, 16, 256)       295168    \n",
            "                                                                 \n",
            " block3_conv2 (Conv2D)       (None, 16, 16, 256)       590080    \n",
            "                                                                 \n",
            " block3_conv3 (Conv2D)       (None, 16, 16, 256)       590080    \n",
            "                                                                 \n",
            " block3_pool (MaxPooling2D)  (None, 8, 8, 256)         0         \n",
            "                                                                 \n",
            " block4_conv1 (Conv2D)       (None, 8, 8, 512)         1180160   \n",
            "                                                                 \n",
            " block4_conv2 (Conv2D)       (None, 8, 8, 512)         2359808   \n",
            "                                                                 \n",
            " block4_conv3 (Conv2D)       (None, 8, 8, 512)         2359808   \n",
            "                                                                 \n",
            " block4_pool (MaxPooling2D)  (None, 4, 4, 512)         0         \n",
            "                                                                 \n",
            " block5_conv1 (Conv2D)       (None, 4, 4, 512)         2359808   \n",
            "                                                                 \n",
            " block5_conv2 (Conv2D)       (None, 4, 4, 512)         2359808   \n",
            "                                                                 \n",
            " block5_conv3 (Conv2D)       (None, 4, 4, 512)         2359808   \n",
            "                                                                 \n",
            " block5_pool (MaxPooling2D)  (None, 2, 2, 512)         0         \n",
            "                                                                 \n",
            " flatten_4 (Flatten)         (None, 2048)              0         \n",
            "                                                                 \n",
            " dense_19 (Dense)            (None, 40)                81960     \n",
            "                                                                 \n",
            "=================================================================\n",
            "Total params: 14,796,648\n",
            "Trainable params: 81,960\n",
            "Non-trainable params: 14,714,688\n",
            "_________________________________________________________________\n"
          ]
        }
      ]
    },
    {
      "cell_type": "code",
      "execution_count": 25,
      "id": "57b772ba",
      "metadata": {
        "colab": {
          "base_uri": "https://localhost:8080/"
        },
        "id": "57b772ba",
        "outputId": "c3a76aeb-8380-40a5-8b0f-984304d1ee3c"
      },
      "outputs": [
        {
          "output_type": "stream",
          "name": "stdout",
          "text": [
            "Epoch 1/5\n",
            "10/10 [==============================] - 14s 1s/step - loss: 3.7200 - accuracy: 0.0688 - precision_3: 0.0000e+00 - recall_3: 0.0000e+00\n",
            "Epoch 2/5\n",
            "10/10 [==============================] - 14s 1s/step - loss: 2.9029 - accuracy: 0.4000 - precision_3: 0.0000e+00 - recall_3: 0.0000e+00\n",
            "Epoch 3/5\n",
            "10/10 [==============================] - 14s 1s/step - loss: 2.3863 - accuracy: 0.6469 - precision_3: 0.0000e+00 - recall_3: 0.0000e+00\n",
            "Epoch 4/5\n",
            "10/10 [==============================] - 12s 1s/step - loss: 1.9086 - accuracy: 0.8094 - precision_3: 1.0000 - recall_3: 0.0219\n",
            "Epoch 5/5\n",
            "10/10 [==============================] - 12s 1s/step - loss: 1.5541 - accuracy: 0.9062 - precision_3: 1.0000 - recall_3: 0.0656\n"
          ]
        },
        {
          "output_type": "execute_result",
          "data": {
            "text/plain": [
              "<keras.callbacks.History at 0x7fadd1a37a50>"
            ]
          },
          "metadata": {},
          "execution_count": 25
        }
      ],
      "source": [
        "model.compile(loss ='categorical_crossentropy', optimizer='adam', metrics =['accuracy',Precision(),Recall()])\n",
        "model.fit (X_train, train_labels, epochs=5)"
      ]
    },
    {
      "cell_type": "code",
      "execution_count": 26,
      "id": "5d5eca80",
      "metadata": {
        "scrolled": true,
        "colab": {
          "base_uri": "https://localhost:8080/"
        },
        "id": "5d5eca80",
        "outputId": "855c120f-4387-4e12-8524-a1df65b44e03"
      },
      "outputs": [
        {
          "output_type": "stream",
          "name": "stdout",
          "text": [
            "Model evaluation on test data\n",
            "3/3 [==============================] - 5s 1s/step - loss: 1.7012 - accuracy: 0.7750 - precision_3: 1.0000 - recall_3: 0.0875\n"
          ]
        },
        {
          "output_type": "execute_result",
          "data": {
            "text/plain": [
              "[1.7011674642562866, 0.7749999761581421, 1.0, 0.08749999850988388]"
            ]
          },
          "metadata": {},
          "execution_count": 26
        }
      ],
      "source": [
        "print(\"Model evaluation on test data\")\n",
        "model.evaluate(X_test,test_labels)"
      ]
    },
    {
      "cell_type": "markdown",
      "source": [
        "We can see that the transfer learning technique gave us decent results (0.775 accuracy)."
      ],
      "metadata": {
        "id": "sRtOA9NxU5NT"
      },
      "id": "sRtOA9NxU5NT"
    },
    {
      "cell_type": "markdown",
      "id": "28670b11",
      "metadata": {
        "id": "28670b11"
      },
      "source": [
        "## Transfer learning - ResNet - faces dataset"
      ]
    },
    {
      "cell_type": "code",
      "execution_count": 33,
      "id": "b72c870a",
      "metadata": {
        "id": "b72c870a"
      },
      "outputs": [],
      "source": [
        "from tensorflow import keras\n",
        "\n",
        "X = faces['images']\n",
        "x = keras.applications.resnet_v2.preprocess_input(tf.cast(X, tf.float32))\n",
        "y = faces['target']\n",
        "\n",
        "X_train, X_test, y_train, y_test = train_test_split(X, y, test_size=0.2, random_state=42)\n",
        "\n",
        "X_train = X_train.reshape((X_train.shape[0], X_train.shape[1], X_train.shape[2], 1))\n",
        "X_test = X_test.reshape((X_test.shape[0], X_test.shape[1], X_test.shape[2], 1))\n",
        "train_labels = to_categorical(y_train, num_classes=40)\n",
        "test_labels = to_categorical(y_test, num_classes=40)\n",
        "x = tf.image.grayscale_to_rgb(tf.constant(X_train))\n",
        "\n",
        "model = keras.Sequential()\n",
        "base_model = keras.applications.ResNet152V2(\n",
        "  include_top=False,\n",
        "  weights='imagenet',\n",
        "  input_shape=(64, 64, 3)\n",
        ")\n",
        "for layer in base_model.layers[:-2]:\n",
        "    layer.trainable = False\n",
        "\n",
        "model.add(base_model)\n",
        "model.add(keras.layers.Flatten())\n",
        "model.add(keras.layers.Dense(40, activation='softmax', kernel_regularizer=keras.regularizers.l2(0.001)))"
      ]
    },
    {
      "cell_type": "code",
      "execution_count": 34,
      "id": "245ccd6e",
      "metadata": {
        "id": "245ccd6e"
      },
      "outputs": [],
      "source": [
        "X_train=np.dstack([X_train] * 3)\n",
        "X_test=np.dstack([X_test]*3)\n",
        "X_train = X_train.reshape(-1, 64,64,3)\n",
        "X_test= X_test.reshape (-1,64,64,3)"
      ]
    },
    {
      "cell_type": "code",
      "execution_count": 35,
      "id": "98991675",
      "metadata": {
        "colab": {
          "base_uri": "https://localhost:8080/"
        },
        "id": "98991675",
        "outputId": "6933f1fb-7914-4fa0-9c3e-eb3581467613"
      },
      "outputs": [
        {
          "output_type": "stream",
          "name": "stdout",
          "text": [
            "Model: \"sequential_4\"\n",
            "_________________________________________________________________\n",
            " Layer (type)                Output Shape              Param #   \n",
            "=================================================================\n",
            " resnet152v2 (Functional)    (None, 2, 2, 2048)        58331648  \n",
            "                                                                 \n",
            " flatten_6 (Flatten)         (None, 8192)              0         \n",
            "                                                                 \n",
            " dense_21 (Dense)            (None, 40)                327720    \n",
            "                                                                 \n",
            "=================================================================\n",
            "Total params: 58,659,368\n",
            "Trainable params: 331,816\n",
            "Non-trainable params: 58,327,552\n",
            "_________________________________________________________________\n"
          ]
        }
      ],
      "source": [
        "model.summary()"
      ]
    },
    {
      "cell_type": "code",
      "execution_count": 36,
      "id": "6f5e1eaf",
      "metadata": {
        "colab": {
          "base_uri": "https://localhost:8080/"
        },
        "id": "6f5e1eaf",
        "outputId": "701ffffe-c2e7-4435-d7c8-687044e60c97"
      },
      "outputs": [
        {
          "output_type": "stream",
          "name": "stdout",
          "text": [
            "Epoch 1/5\n",
            "10/10 [==============================] - 19s 974ms/step - loss: 3.1506 - accuracy: 0.3031 - precision_6: 0.5897 - recall_6: 0.1437\n",
            "Epoch 2/5\n",
            "10/10 [==============================] - 10s 978ms/step - loss: 0.4202 - accuracy: 0.9469 - precision_6: 1.0000 - recall_6: 0.8500\n",
            "Epoch 3/5\n",
            "10/10 [==============================] - 10s 980ms/step - loss: 0.1465 - accuracy: 0.9969 - precision_6: 1.0000 - recall_6: 0.9844\n",
            "Epoch 4/5\n",
            "10/10 [==============================] - 10s 981ms/step - loss: 0.1103 - accuracy: 1.0000 - precision_6: 1.0000 - recall_6: 0.9937\n",
            "Epoch 5/5\n",
            "10/10 [==============================] - 10s 984ms/step - loss: 0.1019 - accuracy: 1.0000 - precision_6: 1.0000 - recall_6: 0.9969\n"
          ]
        },
        {
          "output_type": "execute_result",
          "data": {
            "text/plain": [
              "<keras.callbacks.History at 0x7fadc95d4e10>"
            ]
          },
          "metadata": {},
          "execution_count": 36
        }
      ],
      "source": [
        "model.compile(loss ='categorical_crossentropy', optimizer='adam', metrics =['accuracy',Precision(),Recall()])\n",
        "model.fit (X_train, train_labels, epochs=5)"
      ]
    },
    {
      "cell_type": "code",
      "execution_count": 37,
      "id": "c0d66778",
      "metadata": {
        "colab": {
          "base_uri": "https://localhost:8080/"
        },
        "id": "c0d66778",
        "outputId": "2396f455-d152-4a3f-de62-23861ddf2b03"
      },
      "outputs": [
        {
          "output_type": "stream",
          "name": "stdout",
          "text": [
            "Model evaluation on test data\n",
            "WARNING:tensorflow:5 out of the last 13 calls to <function Model.make_test_function.<locals>.test_function at 0x7fadc8a8a560> triggered tf.function retracing. Tracing is expensive and the excessive number of tracings could be due to (1) creating @tf.function repeatedly in a loop, (2) passing tensors with different shapes, (3) passing Python objects instead of tensors. For (1), please define your @tf.function outside of the loop. For (2), @tf.function has experimental_relax_shapes=True option that relaxes argument shapes that can avoid unnecessary retracing. For (3), please refer to https://www.tensorflow.org/guide/function#controlling_retracing and https://www.tensorflow.org/api_docs/python/tf/function for  more details.\n",
            "3/3 [==============================] - 5s 758ms/step - loss: 1.5421 - accuracy: 0.7000 - precision_6: 0.7800 - recall_6: 0.4875\n"
          ]
        },
        {
          "output_type": "execute_result",
          "data": {
            "text/plain": [
              "[1.5420591831207275,\n",
              " 0.699999988079071,\n",
              " 0.7799999713897705,\n",
              " 0.48750001192092896]"
            ]
          },
          "metadata": {},
          "execution_count": 37
        }
      ],
      "source": [
        "print(\"Model evaluation on test data\")\n",
        "model.evaluate(X_test,test_labels)"
      ]
    },
    {
      "cell_type": "markdown",
      "id": "5c6814d2",
      "metadata": {
        "id": "5c6814d2"
      },
      "source": [
        "#### Conclusion :  \n",
        "VGG16 and Resnet50_v2 gave decent results in terms of accuracy on the test set. They also outperformed the hard-coded vgg16 architecture. These results highlight the importance of transfer learning since it helps us benefit of a complexe architecture which was trained on a very large dataset (ImageNet) with freezing the hidden layers and adapting the input/output layers to our data."
      ]
    }
  ],
  "metadata": {
    "kernelspec": {
      "display_name": "Python 3",
      "language": "python",
      "name": "python3"
    },
    "language_info": {
      "codemirror_mode": {
        "name": "ipython",
        "version": 3
      },
      "file_extension": ".py",
      "mimetype": "text/x-python",
      "name": "python",
      "nbconvert_exporter": "python",
      "pygments_lexer": "ipython3",
      "version": "3.8.8"
    },
    "colab": {
      "name": "TP_CNN.ipynb",
      "provenance": []
    }
  },
  "nbformat": 4,
  "nbformat_minor": 5
}