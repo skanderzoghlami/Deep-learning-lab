{
 "cells": [
  {
   "cell_type": "markdown",
   "id": "7046dc8c",
   "metadata": {},
   "source": [
    "<div align=\"center\">\n",
    "<h1>Deep learning Practical Assignment 1:\n",
    "<h6>Linear Classifier : Perceptron\n",
    "<h4>Lab date : October 10th, 2021\n",
    "<h4>Deadline to submit : October 25th, 2021 - 11:59 PM (23:59)   \n",
    "</div>\n",
    "<h3>Group Members: <ul>\n",
    "    <li> Ahmed Belaaj\n",
    "    <li> Omar Chaabouni\n",
    "    <li> Linna Azaiez\n",
    "    </ul> "
   ]
  },
  {
   "cell_type": "markdown",
   "id": "4f1f1f5d",
   "metadata": {},
   "source": [
    "## Theoretical Questions :"
   ]
  },
  {
   "cell_type": "markdown",
   "id": "1fa13ce4",
   "metadata": {},
   "source": [
    "### Question 1.a\n",
    "What is the computational/time complexity of the basic perceptron algorithm ?"
   ]
  },
  {
   "cell_type": "markdown",
   "id": "7fadbba1",
   "metadata": {},
   "source": [
    "====> O(n*m)"
   ]
  },
  {
   "cell_type": "markdown",
   "id": "5b7c5352",
   "metadata": {},
   "source": [
    "### Question 1.b\n",
    "What is the space complexity of the basic perceptron algorithm ?"
   ]
  },
  {
   "cell_type": "markdown",
   "id": "bee5a483",
   "metadata": {},
   "source": [
    "====> O(m)"
   ]
  },
  {
   "cell_type": "markdown",
   "id": "d124a23d",
   "metadata": {},
   "source": [
    "## Installing required packages :"
   ]
  },
  {
   "cell_type": "code",
   "execution_count": 1,
   "id": "f938a2eb",
   "metadata": {},
   "outputs": [],
   "source": [
    "import numpy as np\n",
    "import matplotlib.pyplot as plt\n",
    "from sklearn.model_selection import train_test_split\n",
    "from sklearn.metrics import accuracy_score"
   ]
  },
  {
   "cell_type": "markdown",
   "id": "d4e87ec5",
   "metadata": {},
   "source": [
    "## Practical Questions"
   ]
  },
  {
   "cell_type": "code",
   "execution_count": 2,
   "id": "d4718154",
   "metadata": {},
   "outputs": [],
   "source": [
    "def prepare_data( var ):\n",
    "#     x = np.concatenate ( (mu_1 + np.random.randn(125 , 2)  * sigma_1 , mu_2 + np.random.randn(125 , 2)  * sigma_2 ) , axis = 0 ) \n",
    "    mean1= [-1 , 0]\n",
    "    mean2= [1 , 0]\n",
    "    cov = var * np.eye(2) \n",
    "    x = np.concatenate( (np.random.multivariate_normal(mean1, cov, 125) , np.random.multivariate_normal(mean2, cov, 125))  )\n",
    "    y = np.concatenate((np.ones(125),-1*np.ones(125)))\n",
    "    x_train, x_test, y_train, y_test = train_test_split(x, y, test_size=0.20, shuffle = True )\n",
    "    return x_train, x_test, y_train, y_test"
   ]
  },
  {
   "cell_type": "code",
   "execution_count": 3,
   "id": "69a23008",
   "metadata": {},
   "outputs": [],
   "source": [
    "def perceptron(x , y , n=500):\n",
    "    converged = False\n",
    "    w = np.zeros(x.shape[1])\n",
    "    w_next = np.zeros(x.shape[1])\n",
    "    for t in range(n):\n",
    "        for i in range(x.shape[0]):\n",
    "            if y[i]* np.dot(x[i,:],w) <= 0:\n",
    "                w = w_next\n",
    "                w_next = w + y[i]*x[i,:] \n",
    "        if np.allclose(w , w_next):\n",
    "            converged = True\n",
    "            return converged, w\n",
    "    return converged, w_next"
   ]
  },
  {
   "cell_type": "code",
   "execution_count": 4,
   "id": "7856c5b0",
   "metadata": {},
   "outputs": [],
   "source": [
    "def predict(x, y, w):\n",
    "    y_pred = np.dot(x,w)\n",
    "    y_class = np.zeros_like(y_pred)\n",
    "    y_class[y_pred >= 0] = 1\n",
    "    y_class[y_pred < 0] = -1\n",
    "\n",
    "    acc = accuracy_score(y, y_class)\n",
    "    \n",
    "\n",
    "    return y_class, acc"
   ]
  },
  {
   "cell_type": "code",
   "execution_count": 5,
   "id": "23c78830",
   "metadata": {},
   "outputs": [],
   "source": [
    "def plot_prediction(x, y, w):\n",
    "\n",
    "    plt.figure()\n",
    "    y = y.reshape(-1,)\n",
    "    plt.scatter(x[y == -1][:,0], x[y == -1][:, 1] , label='-1')\n",
    "    plt.scatter(x[y == 1][:,0], x[y == 1][:, 1], label = '1')\n",
    "\n",
    "    x_max = max(x[:,0].max(), -x[:,0].min()) \n",
    "    y_max = max(x[:,1].max(), -x[:,1].min())\n",
    "    \n",
    "    x_boundary = np.linspace(-x_max, x_max, 1000)\n",
    "    y_boundary = -1 * w[0] / w[1] * x_boundary\n",
    "    \n",
    "    \n",
    "    plt.plot(\n",
    "        x_boundary[(y_boundary <= y_max) & (y_boundary >= -y_max)],\n",
    "        y_boundary[(y_boundary <= y_max) & (y_boundary >= -y_max)],\n",
    "        label = 'decision boundary'\n",
    "    )\n",
    "    plt.legend()"
   ]
  },
  {
   "cell_type": "markdown",
   "id": "06e6954e",
   "metadata": {},
   "source": [
    "### Experiment 1 :"
   ]
  },
  {
   "cell_type": "code",
   "execution_count": 6,
   "id": "8026b7cf",
   "metadata": {},
   "outputs": [],
   "source": [
    "var = 0.25"
   ]
  },
  {
   "cell_type": "code",
   "execution_count": 7,
   "id": "084221de",
   "metadata": {},
   "outputs": [],
   "source": [
    "x_train, x_test, y_train, y_test = prepare_data( var ) "
   ]
  },
  {
   "cell_type": "code",
   "execution_count": 8,
   "id": "609ded8c",
   "metadata": {},
   "outputs": [],
   "source": [
    "converged , w = perceptron(x_train , y_train )"
   ]
  },
  {
   "cell_type": "code",
   "execution_count": 9,
   "id": "1bb979b3",
   "metadata": {
    "scrolled": true
   },
   "outputs": [
    {
     "data": {
      "text/plain": [
       "False"
      ]
     },
     "execution_count": 9,
     "metadata": {},
     "output_type": "execute_result"
    }
   ],
   "source": [
    "converged"
   ]
  },
  {
   "cell_type": "markdown",
   "id": "42068a94",
   "metadata": {},
   "source": [
    "### Question 1 :\n",
    "#### Does the algorithm converges? Why?\n",
    "====> In our case, the algorithm doesn't converge although visualisations show that the decision boundary separates perfectly the two classes. That's because we don't get enough chance to update and adjust the weights. This is why there are more efficient and recent versions of the perceptron algorithm.   "
   ]
  },
  {
   "cell_type": "code",
   "execution_count": 10,
   "id": "0e2fa12b",
   "metadata": {},
   "outputs": [
    {
     "data": {
      "text/plain": [
       "array([-1.98426888,  0.42227807])"
      ]
     },
     "execution_count": 10,
     "metadata": {},
     "output_type": "execute_result"
    }
   ],
   "source": [
    "w"
   ]
  },
  {
   "cell_type": "markdown",
   "id": "74d07975",
   "metadata": {},
   "source": [
    "### Question 2 :\n",
    "#### Plot the decision boundary found by your algorithm."
   ]
  },
  {
   "cell_type": "code",
   "execution_count": 11,
   "id": "04a8a054",
   "metadata": {
    "scrolled": true
   },
   "outputs": [
    {
     "data": {
      "image/png": "[encoded data removed]",
      "text/plain": [
       "<Figure size 432x288 with 1 Axes>"
      ]
     },
     "metadata": {
      "needs_background": "light"
     },
     "output_type": "display_data"
    }
   ],
   "source": [
    "plot_prediction(x_train, y_train, w)"
   ]
  },
  {
   "cell_type": "markdown",
   "id": "03436b59",
   "metadata": {},
   "source": [
    "#### Is this decision boundary unique? Does changing the initialisation changes the result of the algorithm?\n",
    "====> No decision boundary is not unique, it depends on the dataset but also on the points choosen when splitting the dataset into train set and test set and the order of the points while training the algorithm."
   ]
  },
  {
   "cell_type": "markdown",
   "id": "354a00eb",
   "metadata": {},
   "source": [
    "### Question 3 :\n",
    "#### Compute the accuracy of the classification on the test set. Plot the decision boundary on the test set."
   ]
  },
  {
   "cell_type": "code",
   "execution_count": 12,
   "id": "d9cd0f31",
   "metadata": {
    "scrolled": true
   },
   "outputs": [
    {
     "data": {
      "image/png": "[encoded data removed]",
      "text/plain": [
       "<Figure size 432x288 with 1 Axes>"
      ]
     },
     "metadata": {
      "needs_background": "light"
     },
     "output_type": "display_data"
    }
   ],
   "source": [
    "plot_prediction(x_test, y_test, w)"
   ]
  },
  {
   "cell_type": "code",
   "execution_count": 13,
   "id": "7debefe7",
   "metadata": {},
   "outputs": [],
   "source": [
    "y_class, acc = predict(x_test, y_test, w)"
   ]
  },
  {
   "cell_type": "code",
   "execution_count": 14,
   "id": "2a35014f",
   "metadata": {},
   "outputs": [
    {
     "data": {
      "text/plain": [
       "1.0"
      ]
     },
     "execution_count": 14,
     "metadata": {},
     "output_type": "execute_result"
    }
   ],
   "source": [
    "acc"
   ]
  },
  {
   "cell_type": "markdown",
   "id": "65a95e08",
   "metadata": {},
   "source": [
    "### Experiment 2 :"
   ]
  },
  {
   "cell_type": "code",
   "execution_count": 15,
   "id": "6982a5d4",
   "metadata": {},
   "outputs": [],
   "source": [
    "var = 0.75"
   ]
  },
  {
   "cell_type": "code",
   "execution_count": 16,
   "id": "2b9171ba",
   "metadata": {},
   "outputs": [],
   "source": [
    "x_train, x_test, y_train, y_test = prepare_data( var ) "
   ]
  },
  {
   "cell_type": "code",
   "execution_count": 17,
   "id": "58a809b9",
   "metadata": {},
   "outputs": [],
   "source": [
    "conv , w = perceptron(x_train , y_train )"
   ]
  },
  {
   "cell_type": "code",
   "execution_count": 18,
   "id": "19896860",
   "metadata": {},
   "outputs": [
    {
     "data": {
      "text/plain": [
       "False"
      ]
     },
     "execution_count": 18,
     "metadata": {},
     "output_type": "execute_result"
    }
   ],
   "source": [
    "conv"
   ]
  },
  {
   "cell_type": "markdown",
   "id": "9c90b6a1",
   "metadata": {},
   "source": [
    "### Question 1 :\n",
    "#### Does the algorithm converges? Why?\n",
    "====> In our case, the algorithm doesn't converge because the algorithm keeps wrongly classifing some point and that's because  the points of the two classes overlap since we increased the variance so it's impossible to separate the two classes with a linear boundary decision."
   ]
  },
  {
   "cell_type": "code",
   "execution_count": 19,
   "id": "743eac0f",
   "metadata": {},
   "outputs": [
    {
     "name": "stdout",
     "output_type": "stream",
     "text": [
      "[-0.37532892  1.73885103]\n"
     ]
    }
   ],
   "source": [
    "print(w)"
   ]
  },
  {
   "cell_type": "markdown",
   "id": "2ff739ef",
   "metadata": {},
   "source": [
    "### Question 2 :\n",
    "#### Plot the decision boundary found by your algorithm."
   ]
  },
  {
   "cell_type": "code",
   "execution_count": 20,
   "id": "12c382bb",
   "metadata": {},
   "outputs": [
    {
     "data": {
      "image/png": "[encoded data removed]",
      "text/plain": [
       "<Figure size 432x288 with 1 Axes>"
      ]
     },
     "metadata": {
      "needs_background": "light"
     },
     "output_type": "display_data"
    }
   ],
   "source": [
    "plot_prediction(x_train, y_train, w)"
   ]
  },
  {
   "cell_type": "markdown",
   "id": "7fe689b6",
   "metadata": {},
   "source": [
    "#### Is this decision boundary unique? Does changing the initialisation changes the result of the algorithm?\n",
    "====> No decision boundary is not unique, as we said in the first experiment, it depends on the dataset but also on the points choosen when splitting the dataset into train set and test set and the order of the points while training the algorithm."
   ]
  },
  {
   "cell_type": "markdown",
   "id": "eb2c5360",
   "metadata": {},
   "source": [
    "### Question 3 :\n",
    "#### Compute the accuracy of the classification on the test set. Plot the decision boundary on the test set."
   ]
  },
  {
   "cell_type": "code",
   "execution_count": 21,
   "id": "c575d315",
   "metadata": {},
   "outputs": [
    {
     "data": {
      "image/png": "[encoded data removed]",
      "text/plain": [
       "<Figure size 432x288 with 1 Axes>"
      ]
     },
     "metadata": {
      "needs_background": "light"
     },
     "output_type": "display_data"
    }
   ],
   "source": [
    "plot_prediction(x_test, y_test, w)"
   ]
  },
  {
   "cell_type": "code",
   "execution_count": 22,
   "id": "c58242bc",
   "metadata": {},
   "outputs": [],
   "source": [
    "y_class, acc = predict(x_test, y_test, w)"
   ]
  },
  {
   "cell_type": "code",
   "execution_count": 23,
   "id": "1baedbdf",
   "metadata": {},
   "outputs": [
    {
     "data": {
      "text/plain": [
       "0.66"
      ]
     },
     "execution_count": 23,
     "metadata": {},
     "output_type": "execute_result"
    }
   ],
   "source": [
    "acc"
   ]
  },
  {
   "cell_type": "markdown",
   "id": "eeaa96ca",
   "metadata": {},
   "source": [
    "### Comments:\n",
    "we notice taht the perceptrion algorithm is useful for simple linear classification problems, the more the datasets are complex , the less it's helpful and accurate."
   ]
  },
  {
   "cell_type": "markdown",
   "id": "abf43dd6",
   "metadata": {},
   "source": [
    "### Experiment 3 :"
   ]
  },
  {
   "cell_type": "code",
   "execution_count": 24,
   "id": "135fc744",
   "metadata": {},
   "outputs": [
    {
     "name": "stdout",
     "output_type": "stream",
     "text": [
      "var :  0.01\n",
      "var :  0.1\n",
      "var :  0.5\n",
      "var :  0.7\n"
     ]
    }
   ],
   "source": [
    "variances = [0.01, 0.1, 0.5, 0.7]\n",
    "nb_experiments = 30\n",
    "\n",
    "errs_mean = []\n",
    "errs_variance = []\n",
    "\n",
    "for var in variances:\n",
    "    print('var : ', var)\n",
    "    exp_errs = []\n",
    "\n",
    "    for _ in range(nb_experiments):\n",
    "        x_train, x_test, y_train, y_test = prepare_data( var  ) \n",
    "        converged , w = perceptron(x_train , y_train , n=500) \n",
    "        y_class, acc = predict(x_test, y_test, w)\n",
    "        err = np.abs(y_test - y_class.reshape(-1,))\n",
    "        exp_errs.append(np.array(err).mean())\n",
    "    \n",
    "    errs_mean.append(np.array(exp_errs).mean())\n",
    "    errs_variance.append(np.array(exp_errs).std()**2)"
   ]
  },
  {
   "cell_type": "code",
   "execution_count": 25,
   "id": "14277c37",
   "metadata": {},
   "outputs": [
    {
     "data": {
      "image/png": "[encoded data removed]",
      "text/plain": [
       "<Figure size 432x288 with 1 Axes>"
      ]
     },
     "metadata": {
      "needs_background": "light"
     },
     "output_type": "display_data"
    }
   ],
   "source": [
    "plt.errorbar(variances, errs_mean, errs_variance)\n",
    "plt.show()"
   ]
  },
  {
   "cell_type": "code",
   "execution_count": 26,
   "id": "dda9c6bb",
   "metadata": {},
   "outputs": [
    {
     "data": {
      "text/plain": [
       "[0.0, 0.0013333333333333333, 0.22266666666666668, 0.32266666666666666]"
      ]
     },
     "execution_count": 26,
     "metadata": {},
     "output_type": "execute_result"
    }
   ],
   "source": [
    "errs_mean"
   ]
  },
  {
   "cell_type": "code",
   "execution_count": 27,
   "id": "41eb8219",
   "metadata": {},
   "outputs": [
    {
     "data": {
      "text/plain": [
       "[0.0, 5.1555555555555576e-05, 0.019166222222222216, 0.01577955555555556]"
      ]
     },
     "execution_count": 27,
     "metadata": {},
     "output_type": "execute_result"
    }
   ],
   "source": [
    "errs_variance"
   ]
  },
  {
   "cell_type": "markdown",
   "id": "23bef564",
   "metadata": {},
   "source": [
    "### Commnet :\n",
    "It stands to reason that the classification error increases as the distributions overlap because our model can separate the distributions for small cov (0.01, 0.1), err mean = 0 and err variance = 0. But when the model starts producing incorrect classes (for big variances like 0.5 and 0.7), the error mean increases and the variance begins to show since we perform multiple experiments which produces different decision boundaries for each fixed variance."
   ]
  }
 ],
 "metadata": {
  "kernelspec": {
   "display_name": "Python 3",
   "language": "python",
   "name": "python3"
  },
  "language_info": {
   "codemirror_mode": {
    "name": "ipython",
    "version": 3
   },
   "file_extension": ".py",
   "mimetype": "text/x-python",
   "name": "python",
   "nbconvert_exporter": "python",
   "pygments_lexer": "ipython3",
   "version": "3.8.8"
  }
 },
 "nbformat": 4,
 "nbformat_minor": 5
}
