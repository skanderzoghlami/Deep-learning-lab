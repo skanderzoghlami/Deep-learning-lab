{
  "nbformat": 4,
  "nbformat_minor": 0,
  "metadata": {
    "colab": {
      "name": "TP1_DL.ipynb",
      "provenance": [],
      "collapsed_sections": []
    },
    "kernelspec": {
      "name": "python3",
      "display_name": "Python 3"
    },
    "language_info": {
      "name": "python"
    }
  },
  "cells": [
    {
      "cell_type": "markdown",
      "metadata": {
        "id": "WliuB5ZgxJd5"
      },
      "source": [
        "## DEEP LEARNING PRACTICAL ASSIGNMENT #1\n",
        "\n",
        "---\n",
        "#Linear Classifier : Perceptron \n",
        "\n",
        "\n",
        "---\n",
        "#Theorical section : \n",
        "\n",
        "\n",
        "1.  **What is the computational/time complexity of the basic perceptron algorithm ?**\n",
        "\n",
        "\n",
        "Time complexity or computational complexity  is the amount of time taken by an algorithm to run. It is proportional to :\n",
        "\n",
        "*   n :the number of the iterations.\n",
        "\n",
        "*   m :the number of instances in each iteration\n",
        "\n",
        "\n",
        "The time complexity of the perceptron algorithm is **O(n*m)**. \n",
        "\n",
        "\n",
        "\n",
        "2.   **What is the space complexity of the basic perceptron algorithm ?**\n",
        "\n",
        "\n",
        " The space complexity is the amount of memory that we need to execute the algorithm. In the case of the basic Perceptron algorithm, the total space complexity is **O(m*d)**\n",
        "\n",
        "\n",
        "\n"
      ]
    },
    {
      "cell_type": "markdown",
      "metadata": {
        "id": "8wTp63xE9bga"
      },
      "source": [
        "\n",
        "\n",
        "---\n",
        "\n",
        "\n",
        "## Practical section \n",
        "# Libraries Installation :"
      ]
    },
    {
      "cell_type": "code",
      "metadata": {
        "colab": {
          "base_uri": "https://localhost:8080/"
        },
        "id": "BDWcjcXcxI5P",
        "outputId": "26ef3909-e705-462b-97b2-df8a8fee30ac"
      },
      "source": [
        "!pip install matplotlib==3.2.2\n",
        "!pip install numpy==1.19.5\n",
        "!pip install scikit_learn==1.0\n",
        "!pip install pandas==1.1.5"
      ],
      "execution_count": 1,
      "outputs": [
        {
          "output_type": "stream",
          "name": "stdout",
          "text": [
            "Requirement already satisfied: matplotlib==3.2.2 in /usr/local/lib/python3.7/dist-packages (3.2.2)\n",
            "Requirement already satisfied: pyparsing!=2.0.4,!=2.1.2,!=2.1.6,>=2.0.1 in /usr/local/lib/python3.7/dist-packages (from matplotlib==3.2.2) (2.4.7)\n",
            "Requirement already satisfied: kiwisolver>=1.0.1 in /usr/local/lib/python3.7/dist-packages (from matplotlib==3.2.2) (1.3.2)\n",
            "Requirement already satisfied: numpy>=1.11 in /usr/local/lib/python3.7/dist-packages (from matplotlib==3.2.2) (1.19.5)\n",
            "Requirement already satisfied: python-dateutil>=2.1 in /usr/local/lib/python3.7/dist-packages (from matplotlib==3.2.2) (2.8.2)\n",
            "Requirement already satisfied: cycler>=0.10 in /usr/local/lib/python3.7/dist-packages (from matplotlib==3.2.2) (0.10.0)\n",
            "Requirement already satisfied: six in /usr/local/lib/python3.7/dist-packages (from cycler>=0.10->matplotlib==3.2.2) (1.15.0)\n",
            "Requirement already satisfied: numpy==1.19.5 in /usr/local/lib/python3.7/dist-packages (1.19.5)\n",
            "Collecting scikit_learn==1.0\n",
            "  Downloading scikit_learn-1.0-cp37-cp37m-manylinux_2_12_x86_64.manylinux2010_x86_64.whl (23.1 MB)\n",
            "\u001b[K     |████████████████████████████████| 23.1 MB 1.8 MB/s \n",
            "\u001b[?25hCollecting threadpoolctl>=2.0.0\n",
            "  Downloading threadpoolctl-3.0.0-py3-none-any.whl (14 kB)\n",
            "Requirement already satisfied: scipy>=1.1.0 in /usr/local/lib/python3.7/dist-packages (from scikit_learn==1.0) (1.4.1)\n",
            "Requirement already satisfied: numpy>=1.14.6 in /usr/local/lib/python3.7/dist-packages (from scikit_learn==1.0) (1.19.5)\n",
            "Requirement already satisfied: joblib>=0.11 in /usr/local/lib/python3.7/dist-packages (from scikit_learn==1.0) (1.0.1)\n",
            "Installing collected packages: threadpoolctl, scikit-learn\n",
            "  Attempting uninstall: scikit-learn\n",
            "    Found existing installation: scikit-learn 0.22.2.post1\n",
            "    Uninstalling scikit-learn-0.22.2.post1:\n",
            "      Successfully uninstalled scikit-learn-0.22.2.post1\n",
            "Successfully installed scikit-learn-1.0 threadpoolctl-3.0.0\n",
            "Requirement already satisfied: pandas==1.1.5 in /usr/local/lib/python3.7/dist-packages (1.1.5)\n",
            "Requirement already satisfied: python-dateutil>=2.7.3 in /usr/local/lib/python3.7/dist-packages (from pandas==1.1.5) (2.8.2)\n",
            "Requirement already satisfied: numpy>=1.15.4 in /usr/local/lib/python3.7/dist-packages (from pandas==1.1.5) (1.19.5)\n",
            "Requirement already satisfied: pytz>=2017.2 in /usr/local/lib/python3.7/dist-packages (from pandas==1.1.5) (2018.9)\n",
            "Requirement already satisfied: six>=1.5 in /usr/local/lib/python3.7/dist-packages (from python-dateutil>=2.7.3->pandas==1.1.5) (1.15.0)\n"
          ]
        }
      ]
    },
    {
      "cell_type": "markdown",
      "metadata": {
        "id": "rqIZ7Oku9zyL"
      },
      "source": [
        "#Libraries Importation :"
      ]
    },
    {
      "cell_type": "code",
      "metadata": {
        "id": "tft1vzfi93rJ"
      },
      "source": [
        "# Numpy for mathematical functions with arrays\n",
        "import numpy as np\n",
        "# Sklearn for machine learning and statistical modeling tools\n",
        "from sklearn.model_selection import train_test_split\n",
        "from sklearn.utils import shuffle\n",
        "from sklearn.metrics import accuracy_score\n",
        "#pandas for manipulating data frames\n",
        "from pandas import DataFrame\n",
        "# Matplotlib to display graphes and figures\n",
        "import matplotlib.pyplot as plt"
      ],
      "execution_count": 2,
      "outputs": []
    },
    {
      "cell_type": "markdown",
      "metadata": {
        "id": "a0Dt8fRk-_aT"
      },
      "source": [
        "\n",
        "\n",
        "---\n",
        "\n",
        "\n",
        "# The perceptron function implementation :"
      ]
    },
    {
      "cell_type": "code",
      "metadata": {
        "id": "5iOnFXNt_EdQ"
      },
      "source": [
        "def perceptron(X, Y, epochs):\n",
        "\n",
        "  # m : number of training examples\n",
        "  # n : number of features\n",
        "  m, n = X.shape\n",
        "\n",
        "  # Initilizing theta to 0\n",
        "  theta = np.zeros(n)\n",
        "  #Creating weights list\n",
        "  w = [] \n",
        "  w.append(theta)\n",
        "  \n",
        "  # Iterating through the epochs\n",
        "  for e in range(epochs):\n",
        "    # Itterating and getting the index of each training example\n",
        "    for xi, yi in zip(X, Y):\n",
        "      # New value of theta\n",
        "      if (np.dot(theta,xi.T)*yi) <=0:\n",
        "        theta = theta+np.dot(yi,xi)\n",
        "\n",
        "    # Returning theta if the perceptron algorithm converges\n",
        "    if (np.array_equal(w[-1], theta)) :\n",
        "      return theta\n",
        "\n",
        "  # Saving the theta value in the weights list\n",
        "  w.append(theta)\n",
        "  # Returning theta even if the perceptron algorithm doesn't converge\n",
        "  return theta"
      ],
      "execution_count": 3,
      "outputs": []
    },
    {
      "cell_type": "markdown",
      "metadata": {
        "id": "Ii_OwFOdlPvV"
      },
      "source": [
        "# Toy dataset generation function :"
      ]
    },
    {
      "cell_type": "code",
      "metadata": {
        "id": "AwmbR1bclXuD"
      },
      "source": [
        "def generateDataSet(sigma1, sigma2) :\n",
        "\n",
        "  # mu1 and mu2 initialization   \n",
        "  mu1 = [-1, 0]\n",
        "  mu2 = [1, 0]\n",
        "  x = np.zeros((250,2))\n",
        "  \n",
        "  #Generating the labels\n",
        "  y=[-1 if i<126 else 1 for i in range(250)]\n",
        "  y = np.array(y)\n",
        "\n",
        "  # Generating the Gaussian distribution of the first 125 examples \n",
        "  for i in range(125) : \n",
        "    x[i]=np.random.normal(mu1, sigma1, (1,2))\n",
        "\n",
        "  # Generating the Gaussian distribution of the last 125 examples\n",
        "  for i in range(125, 250) :\n",
        "    x[i]=np.random.normal(mu2, sigma2, (1,2))\n",
        "\n",
        "  #Shuffuling the examples and the labels\n",
        "  x,y=shuffle(x,y)\n",
        "\n",
        "  return x,y"
      ],
      "execution_count": 4,
      "outputs": []
    },
    {
      "cell_type": "markdown",
      "metadata": {
        "id": "z3_qrp-Wgx7w"
      },
      "source": [
        "# The plot decision boundary function"
      ]
    },
    {
      "cell_type": "code",
      "metadata": {
        "id": "J3AE4uqxgxga"
      },
      "source": [
        "def  plot_decision_boundary(X,Y,w):\n",
        "  # Configuring the figure\n",
        "  plt.figure(figsize=(5,3))\n",
        "\n",
        "  #Defining the limits of the axis\n",
        "  xx=np.linspace(np.amin(X[:,:1]),np.amax(X[:,:1]))\n",
        "\n",
        "  #Plotting the examples as well as their labels\n",
        "  scatter = plt.scatter(X[:,0],X[:,1],c=Y)\n",
        "\n",
        "  #The equation of the line of decision boudary is y=mx+c with m=-(w0/w1) and c=0\n",
        "  m=-(w[0]/w[1])\n",
        "\n",
        "  #Plotting the decision boudary\n",
        "  for i in xx:\n",
        "    y = m*i\n",
        "    plt.plot(i, y,'bo')\n",
        "    plt.legend(*scatter.legend_elements(),title = \"Classes\",loc=\"upper right\")"
      ],
      "execution_count": 51,
      "outputs": []
    },
    {
      "cell_type": "markdown",
      "metadata": {
        "id": "pMujFtHWW9Gt"
      },
      "source": [
        "# The prediction function's implementation"
      ]
    },
    {
      "cell_type": "code",
      "metadata": {
        "id": "3zgH-CUkXDHP"
      },
      "source": [
        "def predict(x, w):\n",
        "  y_pred = np.inner(x,w)\n",
        "  for i,pred in enumerate(y_pred) :\n",
        "    if pred > 0 :\n",
        "        y_pred[i] = 1\n",
        "    else :\n",
        "        y_pred[i] = -1\n",
        "  return(y_pred)"
      ],
      "execution_count": 44,
      "outputs": []
    },
    {
      "cell_type": "markdown",
      "metadata": {
        "id": "6FNtxPQSYZVR"
      },
      "source": [
        "# The accuracy function's implementation"
      ]
    },
    {
      "cell_type": "code",
      "metadata": {
        "colab": {
          "base_uri": "https://localhost:8080/",
          "height": 211
        },
        "id": "CGz-mOC8jk3t",
        "outputId": "0745998e-e426-40b6-c8b2-af046e5b6761"
      },
      "source": [
        "\n",
        "x,y=generateDataSet(0.25,0.25)\n",
        "#Splitting the data into a training and test set\n",
        "X_train, X_test, Y_train, Y_test = train_test_split(x, y, test_size=0.2, random_state=42)\n",
        "w=perceptron(X_train,Y_train,5)\n",
        "plot_decision_boundary(X_train,Y_train,w)"
      ],
      "execution_count": 52,
      "outputs": [
        {
          "output_type": "display_data",
          "data": {
            "image/png": "[encoded data removed]",
            "text/plain": [
              "<Figure size 360x216 with 1 Axes>"
            ]
          },
          "metadata": {
            "needs_background": "light"
          }
        }
      ]
    },
    {
      "cell_type": "code",
      "metadata": {
        "colab": {
          "base_uri": "https://localhost:8080/"
        },
        "id": "xNa2obOPXR8o",
        "outputId": "8ac2b8ef-6a21-40a2-e2d5-95b96b747146"
      },
      "source": [
        "Y_pred =predict(X_test,w)\n",
        "accuracy_score(Y_test,Y_pred)"
      ],
      "execution_count": 46,
      "outputs": [
        {
          "output_type": "execute_result",
          "data": {
            "text/plain": [
              "0.98"
            ]
          },
          "metadata": {},
          "execution_count": 46
        }
      ]
    },
    {
      "cell_type": "markdown",
      "metadata": {
        "id": "_j126lrZZUa_"
      },
      "source": [
        "\n",
        "\n",
        "---\n",
        "# Experimentations section\n",
        "\n",
        "# Experiment 1\n",
        "\n",
        "Dataset for sigma1=sigma2=0.25\n",
        "\n"
      ]
    },
    {
      "cell_type": "code",
      "metadata": {
        "colab": {
          "base_uri": "https://localhost:8080/",
          "height": 211
        },
        "id": "L1mY6yokZy9V",
        "outputId": "b96367c4-9fc3-47d6-930b-f7bbb6cf3318"
      },
      "source": [
        "#Generating the dataset\n",
        "x,y=generateDataSet(0.25,0.25)\n",
        "\n",
        "#Splitting the data into a training and test set\n",
        "X_train, X_test, Y_train, Y_test = train_test_split(x, y, test_size=0.2, random_state=42)\n",
        "\n",
        "#Generating the weights\n",
        "w=perceptron(X_train,Y_train,5)\n",
        "\n",
        "#Plotting the decision boundary\n",
        "plot_decision_boundary(X_train,Y_train,w)\n",
        "\n",
        "#Predicting the labels of the test set\n",
        "Y_pred =predict(X_test,w)"
      ],
      "execution_count": 54,
      "outputs": [
        {
          "output_type": "display_data",
          "data": {
            "image/png": "[encoded data removed]",
            "text/plain": [
              "<Figure size 360x216 with 1 Axes>"
            ]
          },
          "metadata": {
            "needs_background": "light"
          }
        }
      ]
    },
    {
      "cell_type": "code",
      "metadata": {
        "colab": {
          "base_uri": "https://localhost:8080/",
          "height": 245
        },
        "id": "LhTValEBe4i9",
        "outputId": "0d93b5f8-d672-4fbb-d07e-bbdd44d0f12e"
      },
      "source": [
        "#Printing the accuracy of the model using the test set\n",
        "print(\"The accuracy of the model is :\" , accuracy_score(Y_test,Y_pred))\n",
        "#Plotting the decision boudary for the test set\n",
        "print('Plotting the decision boudary for the test set')\n",
        "plot_decision_boundary(X_test,Y_test,w)"
      ],
      "execution_count": 49,
      "outputs": [
        {
          "output_type": "stream",
          "name": "stdout",
          "text": [
            "The accuracy of the model is : 1.0\n",
            "Plotting the decision boudary for the test set\n"
          ]
        },
        {
          "output_type": "display_data",
          "data": {
            "image/png": "[encoded data removed]",
            "text/plain": [
              "<Figure size 360x216 with 1 Axes>"
            ]
          },
          "metadata": {
            "needs_background": "light"
          }
        }
      ]
    },
    {
      "cell_type": "markdown",
      "metadata": {
        "id": "JBHK3DpEdST_"
      },
      "source": [
        "# Answers : \n",
        "\n",
        "\n",
        "1.   **Does the algorithm converges? Why?**\n",
        "Yes the algorithm does converge since the data points can be separated in two classes, so they are linearly separable\n",
        "2.   **Plot the decision boundary found by your algorithm. Is this decision boundary unique? Does changing the initialisation changes the result of the algorithm?** No the decision boundary is unique only for a fixed initialisation of the weight and the data points. But when we rerun the algorithm new weights and new data points are generated depending on the initialisations leading to a different decision boudary.\n",
        "3.   **Compute the accuracy of the classification on the test set. Plot the decision boundary on the test set.** The decision boundary separtes the data points of the test set perfectly and it gives an accuracy of almost 1\n",
        "\n",
        "\n"
      ]
    },
    {
      "cell_type": "markdown",
      "metadata": {
        "id": "Vu-VS_k7gKjG"
      },
      "source": [
        "\n",
        "\n",
        "---\n",
        "# Experiment 2\n",
        "Dataset for sigma1=sigma2=0.75\n"
      ]
    },
    {
      "cell_type": "code",
      "metadata": {
        "colab": {
          "base_uri": "https://localhost:8080/",
          "height": 211
        },
        "id": "vVEpXp-Mgcy8",
        "outputId": "06a09967-69f0-4713-ce0c-27821d8cee30"
      },
      "source": [
        "#Generating the dataset\n",
        "x,y=generateDataSet(0.75,0.75)\n",
        "\n",
        "#Splitting the data into a training and test set\n",
        "X_train, X_test, Y_train, Y_test = train_test_split(x, y, test_size=0.2, random_state=42)\n",
        "\n",
        "#Generating the weights\n",
        "w=perceptron(X_train,Y_train,5)\n",
        "\n",
        "#Plotting the decision boundary\n",
        "plot_decision_boundary(X_train,Y_train,w)\n",
        "\n",
        "#Predicting the labels of the test set\n",
        "Y_pred =predict(X_test,w)"
      ],
      "execution_count": 59,
      "outputs": [
        {
          "output_type": "display_data",
          "data": {
            "image/png": "[encoded data removed]",
            "text/plain": [
              "<Figure size 360x216 with 1 Axes>"
            ]
          },
          "metadata": {
            "needs_background": "light"
          }
        }
      ]
    },
    {
      "cell_type": "code",
      "metadata": {
        "colab": {
          "base_uri": "https://localhost:8080/",
          "height": 245
        },
        "id": "2zmfAts9gksR",
        "outputId": "ac261522-f2b9-437a-cd83-055705e5f40e"
      },
      "source": [
        "#Printing the accuracy of the model using the test set\n",
        "print(\"The accuracy of the model is :\" , accuracy_score(Y_test,Y_pred))\n",
        "#Plotting the decision boudary for the test set\n",
        "print('Plotting the decision boudary for the test set')\n",
        "plot_decision_boundary(X_test,Y_test,w)"
      ],
      "execution_count": 60,
      "outputs": [
        {
          "output_type": "stream",
          "name": "stdout",
          "text": [
            "The accuracy of the model is : 0.9\n",
            "Plotting the decision boudary for the test set\n"
          ]
        },
        {
          "output_type": "display_data",
          "data": {
            "image/png": "[encoded data removed]",
            "text/plain": [
              "<Figure size 360x216 with 1 Axes>"
            ]
          },
          "metadata": {
            "needs_background": "light"
          }
        }
      ]
    },
    {
      "cell_type": "markdown",
      "metadata": {
        "id": "DpWdCMNPgqgV"
      },
      "source": [
        "#Answers\n",
        "1.   **Does the algorithm converges? Why?**\n",
        "No the algorithm does not converge, because the data points can't be separated in two classes, they overlap each other so they are not linearly separable. This is due to the high variance of the data points.\n",
        "2.   **Plot the decision boundary found by your algorithm. Is this decision boundary unique? Does changing the initialisation changes the result of the algorithm?** Like we said in the previous experience, the decision boundary depends on the weight and datapoints and their initialisations\n",
        "3.   **Compute the accuracy of the classification on the test set. Plot the decision boundary on the test set.** The decision boundary couldn't separte the data points well, this can be even deducted from the value of the accuracy that fell to 0.9\n"
      ]
    },
    {
      "cell_type": "markdown",
      "metadata": {
        "id": "qwudNHXZii-8"
      },
      "source": [
        "\n",
        "\n",
        "---\n",
        "#Experiment 3\n",
        "\n",
        "*   Generating the data then training the model then computing the error of the test set \n",
        "*   Plotting the results of the errors\n",
        "\n"
      ]
    },
    {
      "cell_type": "code",
      "metadata": {
        "id": "QsPqBNNl1bMA"
      },
      "source": [
        "def GetVarAndMean(n):\n",
        "\n",
        "  errors = []\n",
        "  for i in range(nb_experiment):\n",
        "    X, Y = generateDataSet(n, n)\n",
        "    X_train, X_test, Y_train, Y_test = train_test_split(X, Y, test_size=0.2, random_state=42)\n",
        "    w = perceptron(X_train, Y_train, 10)\n",
        "    Y_pred =predict(X_test,w)\n",
        "    acc = accuracy_score(Y_test,Y_pred)\n",
        "    #Calculating the error from the accuracy since 1-error=accuracy\n",
        "    error=1-acc\n",
        "\n",
        "    #Adding the error to the list\n",
        "    errors.append(error)\n",
        "\n",
        "  #Calculating the mean of the errors\n",
        "  mean = np.mean(errors)\n",
        "\n",
        "  #Calculating the variance of the errors\n",
        "  var = np.var(errors)\n",
        "\n",
        "  return var, mean"
      ],
      "execution_count": 68,
      "outputs": []
    },
    {
      "cell_type": "code",
      "metadata": {
        "colab": {
          "base_uri": "https://localhost:8080/",
          "height": 312
        },
        "id": "sK-NPvKV2peT",
        "outputId": "ebc4781d-38e1-40ee-c14e-412d9e025576"
      },
      "source": [
        "sigmas = np.array([0.01, 0.1, 0.5, 0.7])\n",
        "nb_experiment = 30\n",
        "means = []\n",
        "vars = []\n",
        "for sigma in sigmas:\n",
        "  var, mean = GetVarAndMean(sigma)\n",
        "  vars.append(var)\n",
        "  means.append(mean)\n",
        "\n",
        "# Plotting the errorbar\n",
        "plt.errorbar(sigmas,y=means, yerr=vars)\n",
        "plt.xlabel('Sigma')\n",
        "plt.ylabel('Mean')\n",
        "plt.title('Errorbar')"
      ],
      "execution_count": 74,
      "outputs": [
        {
          "output_type": "execute_result",
          "data": {
            "text/plain": [
              "Text(0.5, 1.0, 'Errorbar')"
            ]
          },
          "metadata": {},
          "execution_count": 74
        },
        {
          "output_type": "display_data",
          "data": {
            "image/png": "[encoded data removed]",
            "text/plain": [
              "<Figure size 432x288 with 1 Axes>"
            ]
          },
          "metadata": {
            "needs_background": "light"
          }
        }
      ]
    },
    {
      "cell_type": "markdown",
      "metadata": {
        "id": "_tJyEZnu5kMW"
      },
      "source": [
        "# Conclusion : \n",
        "The mean of the errors increases as the value of sigma in the gaussian distribution increases too. Even in the first and second experiences we saw that increasing sigma from 0.25 to 0.75 caused the data points to be non-linearly separable and to make it harder to the algorithm to get right predictions. The smallest values of sigmas, in the intervall [0.0 , 0.1], seem to give better accuracy and better predictions."
      ]
    }
  ]
}