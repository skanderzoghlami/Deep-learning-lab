{
  "nbformat": 4,
  "nbformat_minor": 0,
  "metadata": {
    "colab": {
      "name": "TP1_Ahmed-Baha_BEN-JMAA.ipynb",
      "provenance": []
    },
    "kernelspec": {
      "name": "python3",
      "display_name": "Python 3"
    },
    "language_info": {
      "name": "python"
    }
  },
  "cells": [
    {
      "cell_type": "markdown",
      "metadata": {
        "id": "UkG181hz5y4s"
      },
      "source": [
        "# Deep Learning Parctical Labs n°1: Perceptron\n",
        "\n"
      ]
    },
    {
      "cell_type": "markdown",
      "metadata": {
        "id": "GIhF7LW96UGr"
      },
      "source": [
        "# Part1: Theorical Questions\n",
        "In this section, we will evaluate the complexity\n",
        "\n",
        "\n",
        "1.   Space Complexity: o(d) the most variable that take place in memory is the weight w so we will have an o(d) as complexity\n",
        "2.   Time Complexity: o(n * m * d) where n is the maximum number of iterations and m is the number of instances in the training set and d the length of our feature x\n",
        "\n"
      ]
    },
    {
      "cell_type": "markdown",
      "metadata": {
        "id": "PjzKP3Xa7Wqw"
      },
      "source": [
        "# Part2: Installation Part"
      ]
    },
    {
      "cell_type": "code",
      "metadata": {
        "colab": {
          "base_uri": "https://localhost:8080/",
          "height": 1000
        },
        "id": "uRzRXy3e7V4s",
        "outputId": "a3c3f7aa-e073-4d46-b5ad-e2df02daf5d4"
      },
      "source": [
        "!pip install numpy==1.16.5\n",
        "!pip install pandas==0.25.1\n",
        "!pip install sklearn\n",
        "!pip install matplotlib==3.1.1"
      ],
      "execution_count": 1,
      "outputs": [
        {
          "output_type": "stream",
          "name": "stdout",
          "text": [
            "Collecting numpy==1.16.5\n",
            "  Downloading numpy-1.16.5-cp37-cp37m-manylinux1_x86_64.whl (17.3 MB)\n",
            "\u001b[K     |████████████████████████████████| 17.3 MB 49 kB/s \n",
            "\u001b[?25hInstalling collected packages: numpy\n",
            "  Attempting uninstall: numpy\n",
            "    Found existing installation: numpy 1.19.5\n",
            "    Uninstalling numpy-1.19.5:\n",
            "      Successfully uninstalled numpy-1.19.5\n",
            "\u001b[31mERROR: pip's dependency resolver does not currently take into account all the packages that are installed. This behaviour is the source of the following dependency conflicts.\n",
            "xarray 0.18.2 requires numpy>=1.17, but you have numpy 1.16.5 which is incompatible.\n",
            "tensorflow 2.6.0 requires numpy~=1.19.2, but you have numpy 1.16.5 which is incompatible.\n",
            "pyerfa 2.0.0 requires numpy>=1.17, but you have numpy 1.16.5 which is incompatible.\n",
            "pyarrow 3.0.0 requires numpy>=1.16.6, but you have numpy 1.16.5 which is incompatible.\n",
            "kapre 0.3.5 requires numpy>=1.18.5, but you have numpy 1.16.5 which is incompatible.\n",
            "jaxlib 0.1.71+cuda111 requires numpy>=1.18, but you have numpy 1.16.5 which is incompatible.\n",
            "jax 0.2.21 requires numpy>=1.18, but you have numpy 1.16.5 which is incompatible.\n",
            "datascience 0.10.6 requires folium==0.2.1, but you have folium 0.8.3 which is incompatible.\n",
            "astropy 4.3.1 requires numpy>=1.17, but you have numpy 1.16.5 which is incompatible.\n",
            "albumentations 0.1.12 requires imgaug<0.2.7,>=0.2.5, but you have imgaug 0.2.9 which is incompatible.\u001b[0m\n",
            "Successfully installed numpy-1.16.5\n"
          ]
        },
        {
          "output_type": "display_data",
          "data": {
            "application/vnd.colab-display-data+json": {
              "pip_warning": {
                "packages": [
                  "numpy"
                ]
              }
            }
          },
          "metadata": {}
        },
        {
          "output_type": "stream",
          "name": "stdout",
          "text": [
            "Collecting pandas==0.25.1\n",
            "  Downloading pandas-0.25.1-cp37-cp37m-manylinux1_x86_64.whl (10.4 MB)\n",
            "\u001b[K     |████████████████████████████████| 10.4 MB 28.9 MB/s \n",
            "\u001b[?25hRequirement already satisfied: numpy>=1.13.3 in /usr/local/lib/python3.7/dist-packages (from pandas==0.25.1) (1.16.5)\n",
            "Requirement already satisfied: pytz>=2017.2 in /usr/local/lib/python3.7/dist-packages (from pandas==0.25.1) (2018.9)\n",
            "Requirement already satisfied: python-dateutil>=2.6.1 in /usr/local/lib/python3.7/dist-packages (from pandas==0.25.1) (2.8.2)\n",
            "Requirement already satisfied: six>=1.5 in /usr/local/lib/python3.7/dist-packages (from python-dateutil>=2.6.1->pandas==0.25.1) (1.15.0)\n",
            "Installing collected packages: pandas\n",
            "  Attempting uninstall: pandas\n",
            "    Found existing installation: pandas 1.1.5\n",
            "    Uninstalling pandas-1.1.5:\n",
            "      Successfully uninstalled pandas-1.1.5\n",
            "\u001b[31mERROR: pip's dependency resolver does not currently take into account all the packages that are installed. This behaviour is the source of the following dependency conflicts.\n",
            "xarray 0.18.2 requires numpy>=1.17, but you have numpy 1.16.5 which is incompatible.\n",
            "xarray 0.18.2 requires pandas>=1.0, but you have pandas 0.25.1 which is incompatible.\n",
            "google-colab 1.0.0 requires pandas~=1.1.0; python_version >= \"3.0\", but you have pandas 0.25.1 which is incompatible.\n",
            "fbprophet 0.7.1 requires pandas>=1.0.4, but you have pandas 0.25.1 which is incompatible.\u001b[0m\n",
            "Successfully installed pandas-0.25.1\n"
          ]
        },
        {
          "output_type": "display_data",
          "data": {
            "application/vnd.colab-display-data+json": {
              "pip_warning": {
                "packages": [
                  "pandas"
                ]
              }
            }
          },
          "metadata": {}
        },
        {
          "output_type": "stream",
          "name": "stdout",
          "text": [
            "Requirement already satisfied: sklearn in /usr/local/lib/python3.7/dist-packages (0.0)\n",
            "Requirement already satisfied: scikit-learn in /usr/local/lib/python3.7/dist-packages (from sklearn) (0.22.2.post1)\n",
            "Requirement already satisfied: joblib>=0.11 in /usr/local/lib/python3.7/dist-packages (from scikit-learn->sklearn) (1.0.1)\n",
            "Requirement already satisfied: numpy>=1.11.0 in /usr/local/lib/python3.7/dist-packages (from scikit-learn->sklearn) (1.16.5)\n",
            "Requirement already satisfied: scipy>=0.17.0 in /usr/local/lib/python3.7/dist-packages (from scikit-learn->sklearn) (1.4.1)\n",
            "Collecting matplotlib==3.1.1\n",
            "  Downloading matplotlib-3.1.1-cp37-cp37m-manylinux1_x86_64.whl (13.1 MB)\n",
            "\u001b[K     |████████████████████████████████| 13.1 MB 6.9 kB/s \n",
            "\u001b[?25hRequirement already satisfied: pyparsing!=2.0.4,!=2.1.2,!=2.1.6,>=2.0.1 in /usr/local/lib/python3.7/dist-packages (from matplotlib==3.1.1) (2.4.7)\n",
            "Requirement already satisfied: python-dateutil>=2.1 in /usr/local/lib/python3.7/dist-packages (from matplotlib==3.1.1) (2.8.2)\n",
            "Requirement already satisfied: kiwisolver>=1.0.1 in /usr/local/lib/python3.7/dist-packages (from matplotlib==3.1.1) (1.3.2)\n",
            "Requirement already satisfied: cycler>=0.10 in /usr/local/lib/python3.7/dist-packages (from matplotlib==3.1.1) (0.10.0)\n",
            "Requirement already satisfied: numpy>=1.11 in /usr/local/lib/python3.7/dist-packages (from matplotlib==3.1.1) (1.16.5)\n",
            "Requirement already satisfied: six in /usr/local/lib/python3.7/dist-packages (from cycler>=0.10->matplotlib==3.1.1) (1.15.0)\n",
            "Installing collected packages: matplotlib\n",
            "  Attempting uninstall: matplotlib\n",
            "    Found existing installation: matplotlib 3.2.2\n",
            "    Uninstalling matplotlib-3.2.2:\n",
            "      Successfully uninstalled matplotlib-3.2.2\n",
            "\u001b[31mERROR: pip's dependency resolver does not currently take into account all the packages that are installed. This behaviour is the source of the following dependency conflicts.\n",
            "fbprophet 0.7.1 requires pandas>=1.0.4, but you have pandas 0.25.1 which is incompatible.\n",
            "albumentations 0.1.12 requires imgaug<0.2.7,>=0.2.5, but you have imgaug 0.2.9 which is incompatible.\u001b[0m\n",
            "Successfully installed matplotlib-3.1.1\n"
          ]
        },
        {
          "output_type": "display_data",
          "data": {
            "application/vnd.colab-display-data+json": {
              "pip_warning": {
                "packages": [
                  "matplotlib",
                  "mpl_toolkits"
                ]
              }
            }
          },
          "metadata": {}
        }
      ]
    },
    {
      "cell_type": "code",
      "metadata": {
        "id": "XcsiXIZl77yS"
      },
      "source": [
        "import numpy as np\n",
        "import pandas as pd\n",
        "import sklearn\n",
        "import matplotlib\n",
        "from sklearn.utils import shuffle\n",
        "from sklearn.model_selection import train_test_split\n",
        "from sklearn.metrics import accuracy_score\n",
        "from matplotlib import pyplot as plt"
      ],
      "execution_count": 2,
      "outputs": []
    },
    {
      "cell_type": "markdown",
      "metadata": {
        "id": "TB2cFOyM732c"
      },
      "source": [
        "# Part3: Implementation Part"
      ]
    },
    {
      "cell_type": "markdown",
      "metadata": {
        "id": "Xzri7Tjx8Fe7"
      },
      "source": [
        "## Generating Data"
      ]
    },
    {
      "cell_type": "code",
      "metadata": {
        "id": "IuA9xGgR8ItZ"
      },
      "source": [
        "def generate(s):\n",
        "  x1 = np.random.multivariate_normal([-1,0],[[s,0], [0,s]],125)\n",
        "  x2 = np.random.multivariate_normal([1,0],[[s,0], [0,s]],125)\n",
        "  X = np.concatenate((x1, x2), axis=0)\n",
        "  y=[-1 if element<125 else 1 for element in range(0,250) ]\n",
        "  X_train, X_test, y_train, y_test = train_test_split(X, y, test_size=0.2,shuffle=True, random_state=1) \n",
        "  return X_train, X_test, y_train, y_test,x1,x2"
      ],
      "execution_count": 3,
      "outputs": []
    },
    {
      "cell_type": "markdown",
      "metadata": {
        "id": "5XXINlsa8_Wq"
      },
      "source": [
        "## Perceptron Code"
      ]
    },
    {
      "cell_type": "code",
      "metadata": {
        "id": "praHk-JP9CCb"
      },
      "source": [
        "def perceptron(x,y):\n",
        "    w = np.zeros((1,2))\n",
        "    temp = np.zeros((1,2))\n",
        "    for t in range(100):\n",
        "        for X,Y in zip(x,y) :\n",
        "            if  Y * np.inner(X,w) <= 0 : \n",
        "                temp = w\n",
        "                w = w + X*Y\n",
        "        if (w == temp).all() :\n",
        "            return w\n",
        "    return w"
      ],
      "execution_count": 4,
      "outputs": []
    },
    {
      "cell_type": "markdown",
      "metadata": {
        "id": "psss02mZ9STa"
      },
      "source": [
        "## Experiment n° 1"
      ]
    },
    {
      "cell_type": "markdown",
      "metadata": {
        "id": "P8qwtP7M9WPi"
      },
      "source": [
        "Question 1: \n",
        "We generate a dataset with low variance so the variable are linearly seperable so the algorithm will converge absoluetly.\n",
        "\n",
        "Question 2: \n",
        "The decision boundry depends of the initial initialisation of our weights of the perceptron. \n",
        "\n",
        "As we change the initialisation,  the will have different line so different boundries. "
      ]
    },
    {
      "cell_type": "code",
      "metadata": {
        "colab": {
          "base_uri": "https://localhost:8080/"
        },
        "id": "f231mafd-Rl1",
        "outputId": "a0e98c37-2a3f-4318-9ac4-34e26c2559f0"
      },
      "source": [
        "X_train, X_test, y_train, y_test,x1,x2=generate(0.2)\n",
        "w = perceptron(X_train,y_train)\n",
        "print(w)"
      ],
      "execution_count": 5,
      "outputs": [
        {
          "output_type": "stream",
          "name": "stdout",
          "text": [
            "[[1.44105118 0.1767515 ]]\n"
          ]
        }
      ]
    },
    {
      "cell_type": "code",
      "metadata": {
        "colab": {
          "base_uri": "https://localhost:8080/"
        },
        "id": "Y8jlTcP1_N9b",
        "outputId": "8c3d0abc-3e3e-4560-be0e-a5cf58076cc5"
      },
      "source": [
        "y_predict = np.inner(X_test,w)\n",
        "y_pred=[]\n",
        "for i,pred in enumerate(y_predict) :\n",
        "    if pred > 0 :\n",
        "        y_pred.append(1)\n",
        "    else :\n",
        "        y_pred.append(-1)\n",
        "print(y_pred)"
      ],
      "execution_count": 6,
      "outputs": [
        {
          "output_type": "stream",
          "name": "stdout",
          "text": [
            "[-1, 1, 1, 1, -1, -1, -1, 1, 1, -1, 1, 1, -1, 1, 1, -1, 1, -1, -1, -1, 1, -1, -1, 1, -1, -1, 1, 1, -1, 1, 1, -1, -1, 1, 1, 1, -1, -1, -1, 1, 1, -1, -1, -1, -1, -1, -1, -1, -1, -1]\n"
          ]
        }
      ]
    },
    {
      "cell_type": "code",
      "metadata": {
        "colab": {
          "base_uri": "https://localhost:8080/",
          "height": 286
        },
        "id": "sat14LRb_scc",
        "outputId": "1e7d1266-c585-4a04-d549-24d5e22c2bfe"
      },
      "source": [
        "plt.scatter(x1[:,0],x1[:,1], marker='+')\n",
        "plt.scatter(x2[:,0],x2[:,1], c= 'green', marker='o')\n",
        "a = -w[0][0] / w[0][1]\n",
        "xx = np.linspace(-1, 1)\n",
        "yy = a * xx / w[0][1]\n",
        "\n",
        "plt.plot(xx, yy, 'k-')\n",
        "plt.gca().set_ylim([-3, 3])\n"
      ],
      "execution_count": 7,
      "outputs": [
        {
          "output_type": "execute_result",
          "data": {
            "text/plain": [
              "(-3.0, 3.0)"
            ]
          },
          "metadata": {},
          "execution_count": 7
        },
        {
          "output_type": "display_data",
          "data": {
            "image/png": "[encoded data removed]",
            "text/plain": [
              "<Figure size 432x288 with 1 Axes>"
            ]
          },
          "metadata": {
            "needs_background": "light"
          }
        }
      ]
    },
    {
      "cell_type": "markdown",
      "metadata": {
        "id": "iVrkI2j9BfLM"
      },
      "source": [
        "Question3:"
      ]
    },
    {
      "cell_type": "code",
      "metadata": {
        "colab": {
          "base_uri": "https://localhost:8080/",
          "height": 286
        },
        "id": "OAXj6YTxCFTB",
        "outputId": "94ee3279-dd13-4cda-ca3c-dc8550e8e22f"
      },
      "source": [
        "plt.scatter(X_test[:,0],X_test[:,1], c=y_pred, edgecolors='k');\n",
        "\n",
        "a = -w[0][0] / w[0][1]\n",
        "xx = np.linspace(-1, 1)\n",
        "yy = a * xx / w[0][1]\n",
        "\n",
        "plt.plot(xx, yy, 'k-')\n",
        "plt.gca().set_ylim([-3, 3])"
      ],
      "execution_count": 8,
      "outputs": [
        {
          "output_type": "execute_result",
          "data": {
            "text/plain": [
              "(-3.0, 3.0)"
            ]
          },
          "metadata": {},
          "execution_count": 8
        },
        {
          "output_type": "display_data",
          "data": {
            "image/png": "[encoded data removed]",
            "text/plain": [
              "<Figure size 432x288 with 1 Axes>"
            ]
          },
          "metadata": {
            "needs_background": "light"
          }
        }
      ]
    },
    {
      "cell_type": "code",
      "metadata": {
        "colab": {
          "base_uri": "https://localhost:8080/"
        },
        "id": "rqOWlYcSCP4C",
        "outputId": "8b80eee7-7ee2-449f-9bf7-0b550e3596bc"
      },
      "source": [
        "accuracy_score(y_test,y_pred)\n"
      ],
      "execution_count": 9,
      "outputs": [
        {
          "output_type": "execute_result",
          "data": {
            "text/plain": [
              "0.98"
            ]
          },
          "metadata": {},
          "execution_count": 9
        }
      ]
    },
    {
      "cell_type": "markdown",
      "metadata": {
        "id": "nPhaBQ2uHNHT"
      },
      "source": [
        "## Experiment n°2"
      ]
    },
    {
      "cell_type": "markdown",
      "metadata": {
        "id": "9ev4cEg-HR8g"
      },
      "source": [
        "Question 1: \n",
        "We generate a dataset with high variance so the variable are not linearly seperable so the algorithm will not converge.\n",
        "\n",
        "Question 2: \n",
        "The decision boundry depends of the initial initialisation of our weights of the perceptron. \n",
        "\n",
        "As we change the initialisation,  the will have different line so different boundries. \n",
        "\n",
        "but as we say previously we dont have convergence, so we cannot have a decision boundry before speaking about uniqueness"
      ]
    },
    {
      "cell_type": "code",
      "metadata": {
        "colab": {
          "base_uri": "https://localhost:8080/"
        },
        "id": "0dsxfW55HuBu",
        "outputId": "1b434953-3eb7-4b32-8778-ebe80e57ff72"
      },
      "source": [
        "X_train, X_test, y_train, y_test,x1,x2=generate(0.75)\n",
        "w = perceptron(X_train,y_train)\n",
        "print(w)"
      ],
      "execution_count": 10,
      "outputs": [
        {
          "output_type": "stream",
          "name": "stdout",
          "text": [
            "[[ 0.73023089 -1.09015607]]\n"
          ]
        }
      ]
    },
    {
      "cell_type": "code",
      "metadata": {
        "colab": {
          "base_uri": "https://localhost:8080/"
        },
        "id": "VCgTVAVBH1JI",
        "outputId": "1972b0f2-b189-49a3-aab1-bba290ccd0a8"
      },
      "source": [
        "y_predict = np.inner(X_test,w)\n",
        "y_pred=[]\n",
        "for i,pred in enumerate(y_predict) :\n",
        "    if pred > 0 :\n",
        "        y_pred.append(1)\n",
        "    else :\n",
        "        y_pred.append(-1)\n",
        "print(y_pred)"
      ],
      "execution_count": 11,
      "outputs": [
        {
          "output_type": "stream",
          "name": "stdout",
          "text": [
            "[-1, 1, -1, 1, -1, -1, -1, 1, 1, -1, -1, 1, -1, 1, -1, -1, -1, -1, 1, -1, -1, -1, -1, 1, -1, -1, 1, 1, -1, 1, -1, -1, -1, 1, 1, 1, -1, -1, -1, 1, -1, 1, 1, -1, -1, -1, -1, -1, 1, 1]\n"
          ]
        }
      ]
    },
    {
      "cell_type": "code",
      "metadata": {
        "colab": {
          "base_uri": "https://localhost:8080/",
          "height": 286
        },
        "id": "20tazuNkH5hn",
        "outputId": "f2934100-1e0f-4bad-e903-cf22dcc8766e"
      },
      "source": [
        "plt.scatter(x1[:,0],x1[:,1], marker='+')\n",
        "plt.scatter(x2[:,0],x2[:,1], c= 'green', marker='o')\n",
        "a = -w[0][0] / w[0][1]\n",
        "xx = np.linspace(-1, 1)\n",
        "yy = a * xx / w[0][1]\n",
        "\n",
        "plt.plot(xx, yy, 'k-')\n",
        "plt.gca().set_ylim([-3, 3])\n"
      ],
      "execution_count": 12,
      "outputs": [
        {
          "output_type": "execute_result",
          "data": {
            "text/plain": [
              "(-3.0, 3.0)"
            ]
          },
          "metadata": {},
          "execution_count": 12
        },
        {
          "output_type": "display_data",
          "data": {
            "image/png": "[encoded data removed]",
            "text/plain": [
              "<Figure size 432x288 with 1 Axes>"
            ]
          },
          "metadata": {
            "needs_background": "light"
          }
        }
      ]
    },
    {
      "cell_type": "markdown",
      "metadata": {
        "id": "W9YTdQX1H8j4"
      },
      "source": [
        "Question3"
      ]
    },
    {
      "cell_type": "code",
      "metadata": {
        "colab": {
          "base_uri": "https://localhost:8080/",
          "height": 286
        },
        "id": "dA4ZKORHH-yo",
        "outputId": "00b1000d-e9ae-4bd0-dc24-a2131a23683f"
      },
      "source": [
        "plt.scatter(X_test[:,0],X_test[:,1], c=y_pred, edgecolors='k');\n",
        "\n",
        "a = -w[0][0] / w[0][1]\n",
        "xx = np.linspace(-1, 1)\n",
        "yy = a * xx / w[0][1]\n",
        "\n",
        "plt.plot(xx, yy, 'k-')\n",
        "plt.gca().set_ylim([-3, 3])"
      ],
      "execution_count": 13,
      "outputs": [
        {
          "output_type": "execute_result",
          "data": {
            "text/plain": [
              "(-3.0, 3.0)"
            ]
          },
          "metadata": {},
          "execution_count": 13
        },
        {
          "output_type": "display_data",
          "data": {
            "image/png": "[encoded data removed]",
            "text/plain": [
              "<Figure size 432x288 with 1 Axes>"
            ]
          },
          "metadata": {
            "needs_background": "light"
          }
        }
      ]
    },
    {
      "cell_type": "code",
      "metadata": {
        "colab": {
          "base_uri": "https://localhost:8080/"
        },
        "id": "N_lAFMLHIGLm",
        "outputId": "056b1c45-ec1b-40d7-c521-56fbba75628c"
      },
      "source": [
        "accuracy_score(y_test,y_pred)"
      ],
      "execution_count": 14,
      "outputs": [
        {
          "output_type": "execute_result",
          "data": {
            "text/plain": [
              "0.74"
            ]
          },
          "metadata": {},
          "execution_count": 14
        }
      ]
    },
    {
      "cell_type": "markdown",
      "metadata": {
        "id": "V9jNXNz2IIQ-"
      },
      "source": [
        "### Interpretation\n",
        "As seen before, we will have an convergence state in the first experiment so the variable are linearly seperable and therefore the we have a good classification exprimed by have a seperable classes , a nice decision boundry and an accurency of 100%\n",
        "But in the 2nd case, the variable are not linear seperable and so the in the test set , we will have a non seperable classes with some outliers. Our algorithm doesn't converge in the case and we have an accurency of 88%."
      ]
    },
    {
      "cell_type": "markdown",
      "metadata": {
        "id": "aw4_RiA_I-NV"
      },
      "source": [
        "## Expirement 3"
      ]
    },
    {
      "cell_type": "code",
      "metadata": {
        "id": "xYB_YWLNJAvD"
      },
      "source": [
        "sigs = [0.01,0.1,0.5,0.7]\n",
        "error_mean =[]\n",
        "error_var = []\n",
        "nb_experiments=30\n",
        "for sig in sigs:\n",
        "  # the list containing the error to use later for statistical studies\n",
        "  error=[]\n",
        "  # do the expriments 30 times.\n",
        "  for element in range(nb_experiments):\n",
        "    # an expirement consist of generating data, training the model, do a prediction on th test set and evaluating the error rate.\n",
        "    X_train, X_test, y_train, y_test,x1,x2=generate(sig)\n",
        "    w=perceptron(X_train,y_train)\n",
        "    y_predict = np.inner(X_test,w)\n",
        "    y_pred=[]\n",
        "    for i,pred in enumerate(y_predict) :\n",
        "      if pred > 0 :\n",
        "        y_pred.append(1)\n",
        "      else :\n",
        "        y_pred.append(-1)\n",
        "    error.append(1-accuracy_score(y_test,y_pred))\n",
        "  # add the error mean and variance to a the correspanding rates\n",
        "  error_mean.append(np.mean(error))\n",
        "  error_var.append(np.var(error))"
      ],
      "execution_count": 15,
      "outputs": []
    },
    {
      "cell_type": "code",
      "metadata": {
        "colab": {
          "base_uri": "https://localhost:8080/",
          "height": 282
        },
        "id": "khfi2UurKdGF",
        "outputId": "9cc90df4-f018-4d4b-9067-2f9e5cbb1048"
      },
      "source": [
        "plt.errorbar(sigs,error_mean,error_var) "
      ],
      "execution_count": 16,
      "outputs": [
        {
          "output_type": "execute_result",
          "data": {
            "text/plain": [
              "<ErrorbarContainer object of 3 artists>"
            ]
          },
          "metadata": {},
          "execution_count": 16
        },
        {
          "output_type": "display_data",
          "data": {
            "image/png": "[encoded data removed]",
            "text/plain": [
              "<Figure size 432x288 with 1 Axes>"
            ]
          },
          "metadata": {
            "needs_background": "light"
          }
        }
      ]
    },
    {
      "cell_type": "markdown",
      "metadata": {
        "id": "uSG8m9hBKqe2"
      },
      "source": [
        "As we see, more the variance increase, more the error increase with more variation of error also. So for small sigma , the percptron can seperate the 2 classes. But as we go further, the error increase and the seperablity power will diminish. So  the 2 classes will be not seprably for higher values of variance."
      ]
    }
  ]
}