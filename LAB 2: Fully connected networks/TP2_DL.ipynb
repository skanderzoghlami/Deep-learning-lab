{
 "cells": [
  {
   "cell_type": "markdown",
   "id": "342af2d2",
   "metadata": {},
   "source": [
    "# Deep Learning Practical Assignment 1"
   ]
  },
  {
   "cell_type": "markdown",
   "id": "19ff53d2",
   "metadata": {},
   "source": [
    " ## Package Installation Section"
   ]
  },
  {
   "cell_type": "code",
   "execution_count": 608,
   "id": "5730842e",
   "metadata": {},
   "outputs": [
    {
     "name": "stdout",
     "output_type": "stream",
     "text": [
      "Requirement already satisfied: matplotlib==3.2.2 in /home/jupyter/DL/jupyter_env/lib/python3.8/site-packages (3.2.2)\n",
      "Requirement already satisfied: numpy==1.19.5 in /home/jupyter/DL/jupyter_env/lib/python3.8/site-packages (1.19.5)\n",
      "Requirement already satisfied: scikit-learn==0.22.2.post1 in /home/jupyter/DL/jupyter_env/lib/python3.8/site-packages (0.22.2.post1)\n",
      "Requirement already satisfied: keras==2.7.0 in /home/jupyter/DL/jupyter_env/lib/python3.8/site-packages (2.7.0)\n",
      "Requirement already satisfied: tensorflow==2.7.0 in /home/jupyter/DL/jupyter_env/lib/python3.8/site-packages (2.7.0)\n",
      "Requirement already satisfied: cycler>=0.10 in /home/jupyter/DL/jupyter_env/lib/python3.8/site-packages (from matplotlib==3.2.2) (0.10.0)\n",
      "Requirement already satisfied: kiwisolver>=1.0.1 in /home/jupyter/DL/jupyter_env/lib/python3.8/site-packages (from matplotlib==3.2.2) (1.3.2)\n",
      "Requirement already satisfied: pyparsing!=2.0.4,!=2.1.2,!=2.1.6,>=2.0.1 in /home/jupyter/DL/jupyter_env/lib/python3.8/site-packages (from matplotlib==3.2.2) (2.4.7)\n",
      "Requirement already satisfied: python-dateutil>=2.1 in /home/jupyter/DL/jupyter_env/lib/python3.8/site-packages (from matplotlib==3.2.2) (2.8.2)\n",
      "Requirement already satisfied: scipy>=0.17.0 in /home/jupyter/DL/jupyter_env/lib/python3.8/site-packages (from scikit-learn==0.22.2.post1) (1.7.1)\n",
      "Requirement already satisfied: joblib>=0.11 in /home/jupyter/DL/jupyter_env/lib/python3.8/site-packages (from scikit-learn==0.22.2.post1) (1.1.0)\n",
      "Requirement already satisfied: absl-py>=0.4.0 in /home/jupyter/DL/jupyter_env/lib/python3.8/site-packages (from tensorflow==2.7.0) (1.0.0)\n",
      "Requirement already satisfied: keras-preprocessing>=1.1.1 in /home/jupyter/DL/jupyter_env/lib/python3.8/site-packages (from tensorflow==2.7.0) (1.1.2)\n",
      "Requirement already satisfied: grpcio<2.0,>=1.24.3 in /home/jupyter/DL/jupyter_env/lib/python3.8/site-packages (from tensorflow==2.7.0) (1.42.0)\n",
      "Requirement already satisfied: wrapt>=1.11.0 in /home/jupyter/DL/jupyter_env/lib/python3.8/site-packages (from tensorflow==2.7.0) (1.13.3)\n",
      "Requirement already satisfied: libclang>=9.0.1 in /home/jupyter/DL/jupyter_env/lib/python3.8/site-packages (from tensorflow==2.7.0) (12.0.0)\n",
      "Requirement already satisfied: google-pasta>=0.1.1 in /home/jupyter/DL/jupyter_env/lib/python3.8/site-packages (from tensorflow==2.7.0) (0.2.0)\n",
      "Requirement already satisfied: h5py>=2.9.0 in /home/jupyter/DL/jupyter_env/lib/python3.8/site-packages (from tensorflow==2.7.0) (3.6.0)\n",
      "Requirement already satisfied: opt-einsum>=2.3.2 in /home/jupyter/DL/jupyter_env/lib/python3.8/site-packages (from tensorflow==2.7.0) (3.3.0)\n",
      "Requirement already satisfied: typing-extensions>=3.6.6 in /home/jupyter/DL/jupyter_env/lib/python3.8/site-packages (from tensorflow==2.7.0) (4.0.0)\n",
      "Requirement already satisfied: tensorflow-estimator<2.8,~=2.7.0rc0 in /home/jupyter/DL/jupyter_env/lib/python3.8/site-packages (from tensorflow==2.7.0) (2.7.0)\n",
      "Requirement already satisfied: termcolor>=1.1.0 in /home/jupyter/DL/jupyter_env/lib/python3.8/site-packages (from tensorflow==2.7.0) (1.1.0)\n",
      "Requirement already satisfied: tensorflow-io-gcs-filesystem>=0.21.0 in /home/jupyter/DL/jupyter_env/lib/python3.8/site-packages (from tensorflow==2.7.0) (0.22.0)\n",
      "Requirement already satisfied: six>=1.12.0 in /home/jupyter/DL/jupyter_env/lib/python3.8/site-packages (from tensorflow==2.7.0) (1.16.0)\n",
      "Requirement already satisfied: protobuf>=3.9.2 in /home/jupyter/DL/jupyter_env/lib/python3.8/site-packages (from tensorflow==2.7.0) (3.19.1)\n",
      "Requirement already satisfied: tensorboard~=2.6 in /home/jupyter/DL/jupyter_env/lib/python3.8/site-packages (from tensorflow==2.7.0) (2.7.0)\n",
      "Requirement already satisfied: flatbuffers<3.0,>=1.12 in /home/jupyter/DL/jupyter_env/lib/python3.8/site-packages (from tensorflow==2.7.0) (2.0)\n",
      "Requirement already satisfied: wheel<1.0,>=0.32.0 in /home/jupyter/DL/jupyter_env/lib/python3.8/site-packages (from tensorflow==2.7.0) (0.37.0)\n",
      "Requirement already satisfied: gast<0.5.0,>=0.2.1 in /home/jupyter/DL/jupyter_env/lib/python3.8/site-packages (from tensorflow==2.7.0) (0.4.0)\n",
      "Requirement already satisfied: astunparse>=1.6.0 in /home/jupyter/DL/jupyter_env/lib/python3.8/site-packages (from tensorflow==2.7.0) (1.6.3)\n",
      "Requirement already satisfied: google-auth<3,>=1.6.3 in /home/jupyter/DL/jupyter_env/lib/python3.8/site-packages (from tensorboard~=2.6->tensorflow==2.7.0) (2.3.3)\n",
      "Requirement already satisfied: tensorboard-data-server<0.7.0,>=0.6.0 in /home/jupyter/DL/jupyter_env/lib/python3.8/site-packages (from tensorboard~=2.6->tensorflow==2.7.0) (0.6.1)\n",
      "Requirement already satisfied: markdown>=2.6.8 in /home/jupyter/DL/jupyter_env/lib/python3.8/site-packages (from tensorboard~=2.6->tensorflow==2.7.0) (3.3.6)\n",
      "Requirement already satisfied: werkzeug>=0.11.15 in /home/jupyter/DL/jupyter_env/lib/python3.8/site-packages (from tensorboard~=2.6->tensorflow==2.7.0) (2.0.2)\n",
      "Requirement already satisfied: tensorboard-plugin-wit>=1.6.0 in /home/jupyter/DL/jupyter_env/lib/python3.8/site-packages (from tensorboard~=2.6->tensorflow==2.7.0) (1.8.0)\n",
      "Requirement already satisfied: requests<3,>=2.21.0 in /home/jupyter/DL/jupyter_env/lib/python3.8/site-packages (from tensorboard~=2.6->tensorflow==2.7.0) (2.26.0)\n",
      "Requirement already satisfied: google-auth-oauthlib<0.5,>=0.4.1 in /home/jupyter/DL/jupyter_env/lib/python3.8/site-packages (from tensorboard~=2.6->tensorflow==2.7.0) (0.4.6)\n",
      "Requirement already satisfied: setuptools>=41.0.0 in /home/jupyter/DL/jupyter_env/lib/python3.8/site-packages (from tensorboard~=2.6->tensorflow==2.7.0) (58.1.0)\n",
      "Requirement already satisfied: cachetools<5.0,>=2.0.0 in /home/jupyter/DL/jupyter_env/lib/python3.8/site-packages (from google-auth<3,>=1.6.3->tensorboard~=2.6->tensorflow==2.7.0) (4.2.4)\n",
      "Requirement already satisfied: rsa<5,>=3.1.4 in /home/jupyter/DL/jupyter_env/lib/python3.8/site-packages (from google-auth<3,>=1.6.3->tensorboard~=2.6->tensorflow==2.7.0) (4.8)\n",
      "Requirement already satisfied: pyasn1-modules>=0.2.1 in /home/jupyter/DL/jupyter_env/lib/python3.8/site-packages (from google-auth<3,>=1.6.3->tensorboard~=2.6->tensorflow==2.7.0) (0.2.8)\n",
      "Requirement already satisfied: requests-oauthlib>=0.7.0 in /home/jupyter/DL/jupyter_env/lib/python3.8/site-packages (from google-auth-oauthlib<0.5,>=0.4.1->tensorboard~=2.6->tensorflow==2.7.0) (1.3.0)\n",
      "Requirement already satisfied: importlib-metadata>=4.4 in /home/jupyter/DL/jupyter_env/lib/python3.8/site-packages (from markdown>=2.6.8->tensorboard~=2.6->tensorflow==2.7.0) (4.8.2)\n",
      "Requirement already satisfied: idna<4,>=2.5 in /home/jupyter/DL/jupyter_env/lib/python3.8/site-packages (from requests<3,>=2.21.0->tensorboard~=2.6->tensorflow==2.7.0) (3.3)\n",
      "Requirement already satisfied: charset-normalizer~=2.0.0 in /home/jupyter/DL/jupyter_env/lib/python3.8/site-packages (from requests<3,>=2.21.0->tensorboard~=2.6->tensorflow==2.7.0) (2.0.8)\n",
      "Requirement already satisfied: certifi>=2017.4.17 in /home/jupyter/DL/jupyter_env/lib/python3.8/site-packages (from requests<3,>=2.21.0->tensorboard~=2.6->tensorflow==2.7.0) (2021.10.8)\n",
      "Requirement already satisfied: urllib3<1.27,>=1.21.1 in /home/jupyter/DL/jupyter_env/lib/python3.8/site-packages (from requests<3,>=2.21.0->tensorboard~=2.6->tensorflow==2.7.0) (1.26.7)\n",
      "Requirement already satisfied: zipp>=0.5 in /home/jupyter/DL/jupyter_env/lib/python3.8/site-packages (from importlib-metadata>=4.4->markdown>=2.6.8->tensorboard~=2.6->tensorflow==2.7.0) (3.6.0)\n",
      "Requirement already satisfied: pyasn1<0.5.0,>=0.4.6 in /home/jupyter/DL/jupyter_env/lib/python3.8/site-packages (from pyasn1-modules>=0.2.1->google-auth<3,>=1.6.3->tensorboard~=2.6->tensorflow==2.7.0) (0.4.8)\n",
      "Requirement already satisfied: oauthlib>=3.0.0 in /home/jupyter/DL/jupyter_env/lib/python3.8/site-packages (from requests-oauthlib>=0.7.0->google-auth-oauthlib<0.5,>=0.4.1->tensorboard~=2.6->tensorflow==2.7.0) (3.1.1)\n",
      "\u001b[33mWARNING: You are using pip version 21.3; however, version 21.3.1 is available.\n",
      "You should consider upgrading via the '/home/jupyter/DL/jupyter_env/bin/python -m pip install --upgrade pip' command.\u001b[0m\n"
     ]
    }
   ],
   "source": [
    "!pip install matplotlib==3.2.2 numpy==1.19.5 scikit-learn==0.22.2.post1 keras==2.7.0 tensorflow==2.7.0"
   ]
  },
  {
   "cell_type": "markdown",
   "id": "39d4ad5b",
   "metadata": {},
   "source": [
    "# Implementing fully connected dataset"
   ]
  },
  {
   "cell_type": "markdown",
   "id": "20974afc",
   "metadata": {},
   "source": [
    "## Toy data set"
   ]
  },
  {
   "cell_type": "code",
   "execution_count": 609,
   "id": "7b52055a",
   "metadata": {},
   "outputs": [],
   "source": [
    "import matplotlib.pyplot as plt\n",
    "import numpy as np\n",
    "import sklearn\n",
    "import tensorflow\n",
    "from sklearn.model_selection import train_test_split\n",
    "from sklearn import datasets\n",
    "from tensorflow import keras\n",
    "from keras.models import Sequential\n",
    "from keras.layers import Dense\n",
    "from sklearn import datasets\n",
    "from sklearn.datasets import fetch_olivetti_faces\n",
    "from tensorflow.keras.utils import to_categorical\n",
    "from sklearn.metrics import classification_report,confusion_matrix"
   ]
  },
  {
   "cell_type": "code",
   "execution_count": 610,
   "id": "4f20bb11",
   "metadata": {},
   "outputs": [],
   "source": [
    "def prepare_dataset(sigma1, sigma2):\n",
    "    mu1 = [-1,0] \n",
    "    mu2 = [1,0]\n",
    "    x = []\n",
    "    \n",
    "    x1 = np.random.normal(mu1, sigma1,size=(125,2))\n",
    "    x2 = np.random.normal(mu2, sigma2,size=(125,2))\n",
    "    x = np.concatenate((x1,x2),axis=0)\n",
    "    \n",
    "    s=[]\n",
    "    for i in range(125):\n",
    "        s.append(np.append(x[i],-1))\n",
    "    for i in range(125,250):\n",
    "        s.append(np.append(x[i],1))\n",
    "        \n",
    "    return s"
   ]
  },
  {
   "cell_type": "code",
   "execution_count": 611,
   "id": "553fdf12",
   "metadata": {},
   "outputs": [],
   "source": [
    "def distribution_plot(X,y):\n",
    "    \n",
    "    #plotting the distribution\n",
    "    for i,j in zip(X,y):\n",
    "        if (j == -1):\n",
    "            plt.scatter(i[0],i[1],c=\"red\",marker='+')\n",
    "        else:\n",
    "            plt.scatter(i[0],i[1],c=\"blue\",marker='o')"
   ]
  },
  {
   "cell_type": "code",
   "execution_count": 612,
   "id": "75327035",
   "metadata": {},
   "outputs": [],
   "source": [
    "def get_X_y(s):\n",
    "    #extracting X and y parameters with data = (xi,yi) and xi = (x1,x2)\n",
    "    X = []\n",
    "    y = []\n",
    "    for data in s:\n",
    "        X.append(data[:2])\n",
    "        y.append(data[2:])\n",
    "    return (X,y)"
   ]
  },
  {
   "cell_type": "code",
   "execution_count": 613,
   "id": "7d087f22",
   "metadata": {},
   "outputs": [],
   "source": [
    "def train_test_set(X,y):        \n",
    "    #we set shuffle parameter to True so it shuffles the dataset before splitting\n",
    "    X_train, X_test, y_train, y_test = train_test_split(X, y, test_size=0.2, random_state=42, shuffle=True)\n",
    "    X_train = np.array(X_train)\n",
    "    y_train = np.array(y_train)\n",
    "    return (X_train, X_test, y_train, y_test)"
   ]
  },
  {
   "cell_type": "code",
   "execution_count": 614,
   "id": "ff7024b0",
   "metadata": {},
   "outputs": [],
   "source": [
    "def perceptron(X,y,n):\n",
    "    \n",
    "    w = np.zeros((1,2))\n",
    "    w_ = np.zeros((1,2))\n",
    "    \n",
    "    for i in range(n):\n",
    "        for xi,yi in zip(X,y) :\n",
    "            if  yi * np.inner(xi,w) <= 0 : \n",
    "                w_ = w\n",
    "                w = w + yi * xi \n",
    "        # Checking if the weight hasn't been updated, if so, return the current value        \n",
    "        if (w == w_).all() :\n",
    "            return w\n",
    "    return w"
   ]
  },
  {
   "cell_type": "code",
   "execution_count": 615,
   "id": "45802116",
   "metadata": {},
   "outputs": [],
   "source": [
    "#the dataset declaration\n",
    "s = prepare_dataset(0.25, 0.25)\n",
    "X, y = get_X_y(s)\n",
    "#split dataset into train and test sets\n",
    "X_train, X_test, y_train, y_test = train_test_set(X,y)"
   ]
  },
  {
   "cell_type": "markdown",
   "id": "c7ac23d0",
   "metadata": {},
   "source": [
    "## Using keras"
   ]
  },
  {
   "cell_type": "code",
   "execution_count": 616,
   "id": "ce2b8bcf",
   "metadata": {},
   "outputs": [],
   "source": [
    "# Sample code to create a fully connected network\n",
    "model = Sequential()\n",
    "model.add(Dense(12, input_dim =2 , activation = 'relu'))\n",
    "model.add(Dense (5 , activation ='relu'))\n",
    "model.add(Dense (3 , activation ='relu'))"
   ]
  },
  {
   "cell_type": "code",
   "execution_count": 617,
   "id": "ad06b014",
   "metadata": {},
   "outputs": [
    {
     "name": "stdout",
     "output_type": "stream",
     "text": [
      "Epoch 1/50\n",
      "20/20 [==============================] - 0s 2ms/step - loss: -1.0687 - accuracy: 0.0000e+00\n",
      "Epoch 2/50\n",
      "20/20 [==============================] - 0s 2ms/step - loss: -1.8747 - accuracy: 0.0000e+00\n",
      "Epoch 3/50\n",
      "20/20 [==============================] - 0s 2ms/step - loss: -1.9447 - accuracy: 0.0000e+00\n",
      "Epoch 4/50\n",
      "20/20 [==============================] - 0s 3ms/step - loss: -1.9856 - accuracy: 0.0000e+00\n",
      "Epoch 5/50\n",
      "20/20 [==============================] - 0s 3ms/step - loss: -2.0202 - accuracy: 0.0000e+00\n",
      "Epoch 6/50\n",
      "20/20 [==============================] - 0s 2ms/step - loss: -2.0510 - accuracy: 0.0000e+00\n",
      "Epoch 7/50\n",
      "20/20 [==============================] - 0s 2ms/step - loss: -2.0773 - accuracy: 0.0000e+00\n",
      "Epoch 8/50\n",
      "20/20 [==============================] - 0s 2ms/step - loss: -2.1015 - accuracy: 0.0000e+00\n",
      "Epoch 9/50\n",
      "20/20 [==============================] - 0s 2ms/step - loss: -2.1229 - accuracy: 0.0000e+00\n",
      "Epoch 10/50\n",
      "20/20 [==============================] - 0s 2ms/step - loss: -2.1429 - accuracy: 0.0000e+00\n",
      "Epoch 11/50\n",
      "20/20 [==============================] - 0s 2ms/step - loss: -2.1617 - accuracy: 0.0000e+00\n",
      "Epoch 12/50\n",
      "20/20 [==============================] - 0s 2ms/step - loss: -2.1786 - accuracy: 0.0000e+00\n",
      "Epoch 13/50\n",
      "20/20 [==============================] - 0s 3ms/step - loss: -2.1619 - accuracy: 0.0000e+00\n",
      "Epoch 14/50\n",
      "20/20 [==============================] - 0s 3ms/step - loss: -2.2064 - accuracy: 0.0000e+00\n",
      "Epoch 15/50\n",
      "20/20 [==============================] - 0s 4ms/step - loss: -2.2200 - accuracy: 0.0000e+00\n",
      "Epoch 16/50\n",
      "20/20 [==============================] - 0s 3ms/step - loss: -2.2340 - accuracy: 0.0000e+00\n",
      "Epoch 17/50\n",
      "20/20 [==============================] - 0s 2ms/step - loss: -2.2478 - accuracy: 0.0000e+00\n",
      "Epoch 18/50\n",
      "20/20 [==============================] - 0s 2ms/step - loss: -2.2605 - accuracy: 0.0000e+00\n",
      "Epoch 19/50\n",
      "20/20 [==============================] - 0s 2ms/step - loss: -2.2556 - accuracy: 0.0000e+00\n",
      "Epoch 20/50\n",
      "20/20 [==============================] - 0s 2ms/step - loss: -2.2822 - accuracy: 0.0000e+00\n",
      "Epoch 21/50\n",
      "20/20 [==============================] - 0s 3ms/step - loss: -2.2782 - accuracy: 0.0000e+00\n",
      "Epoch 22/50\n",
      "20/20 [==============================] - 0s 3ms/step - loss: -2.2782 - accuracy: 0.0000e+00\n",
      "Epoch 23/50\n",
      "20/20 [==============================] - 0s 3ms/step - loss: -2.2857 - accuracy: 0.0000e+00\n",
      "Epoch 24/50\n",
      "20/20 [==============================] - 0s 2ms/step - loss: -2.3012 - accuracy: 0.0000e+00\n",
      "Epoch 25/50\n",
      "20/20 [==============================] - 0s 5ms/step - loss: -2.3030 - accuracy: 0.0000e+00\n",
      "Epoch 26/50\n",
      "20/20 [==============================] - 0s 3ms/step - loss: -2.3048 - accuracy: 0.0000e+00\n",
      "Epoch 27/50\n",
      "20/20 [==============================] - 0s 3ms/step - loss: -2.3061 - accuracy: 0.0000e+00\n",
      "Epoch 28/50\n",
      "20/20 [==============================] - 0s 3ms/step - loss: -2.3070 - accuracy: 0.0000e+00\n",
      "Epoch 29/50\n",
      "20/20 [==============================] - 0s 2ms/step - loss: -2.3077 - accuracy: 0.0000e+00\n",
      "Epoch 30/50\n",
      "20/20 [==============================] - 0s 3ms/step - loss: -2.3083 - accuracy: 0.0000e+00\n",
      "Epoch 31/50\n",
      "20/20 [==============================] - 0s 2ms/step - loss: -2.3089 - accuracy: 0.0000e+00\n",
      "Epoch 32/50\n",
      "20/20 [==============================] - 0s 2ms/step - loss: -2.3094 - accuracy: 0.0000e+00\n",
      "Epoch 33/50\n",
      "20/20 [==============================] - 0s 2ms/step - loss: -2.3097 - accuracy: 0.0000e+00\n",
      "Epoch 34/50\n",
      "20/20 [==============================] - 0s 2ms/step - loss: -2.3101 - accuracy: 0.0000e+00\n",
      "Epoch 35/50\n",
      "20/20 [==============================] - 0s 4ms/step - loss: -2.3103 - accuracy: 0.0000e+00\n",
      "Epoch 36/50\n",
      "20/20 [==============================] - 0s 5ms/step - loss: -2.3105 - accuracy: 0.0000e+00\n",
      "Epoch 37/50\n",
      "20/20 [==============================] - 0s 3ms/step - loss: -2.3107 - accuracy: 0.0000e+00\n",
      "Epoch 38/50\n",
      "20/20 [==============================] - 0s 5ms/step - loss: -2.3109 - accuracy: 0.0000e+00\n",
      "Epoch 39/50\n",
      "20/20 [==============================] - 0s 4ms/step - loss: -2.3111 - accuracy: 0.0000e+00\n",
      "Epoch 40/50\n",
      "20/20 [==============================] - 0s 4ms/step - loss: -2.3113 - accuracy: 0.0000e+00\n",
      "Epoch 41/50\n",
      "20/20 [==============================] - 0s 2ms/step - loss: -2.3114 - accuracy: 0.0000e+00\n",
      "Epoch 42/50\n",
      "20/20 [==============================] - 0s 2ms/step - loss: -2.3115 - accuracy: 0.0000e+00\n",
      "Epoch 43/50\n",
      "20/20 [==============================] - 0s 3ms/step - loss: -2.3116 - accuracy: 0.0000e+00\n",
      "Epoch 44/50\n",
      "20/20 [==============================] - 0s 3ms/step - loss: -2.3117 - accuracy: 0.0000e+00\n",
      "Epoch 45/50\n",
      "20/20 [==============================] - 0s 3ms/step - loss: -2.3117 - accuracy: 0.0000e+00\n",
      "Epoch 46/50\n",
      "20/20 [==============================] - 0s 4ms/step - loss: -2.3118 - accuracy: 0.0000e+00\n",
      "Epoch 47/50\n",
      "20/20 [==============================] - 0s 3ms/step - loss: -2.3118 - accuracy: 0.0000e+00\n",
      "Epoch 48/50\n",
      "20/20 [==============================] - 0s 3ms/step - loss: -2.3119 - accuracy: 0.0000e+00\n",
      "Epoch 49/50\n",
      "20/20 [==============================] - 0s 2ms/step - loss: -2.3119 - accuracy: 0.0000e+00\n",
      "Epoch 50/50\n",
      "20/20 [==============================] - 0s 2ms/step - loss: -2.3120 - accuracy: 0.0000e+00\n"
     ]
    },
    {
     "data": {
      "text/plain": [
       "<keras.callbacks.History at 0x7f2d65ca7bb0>"
      ]
     },
     "execution_count": 617,
     "metadata": {},
     "output_type": "execute_result"
    }
   ],
   "source": [
    "# compile the keras model\n",
    "model.compile( loss ='binary_crossentropy' , optimizer = 'adam', metrics = ['accuracy'])\n",
    "\n",
    "# fit the keras model on the dataset\n",
    "model.fit (X_train , y_train , epochs =50 , batch_size =10)"
   ]
  },
  {
   "cell_type": "markdown",
   "id": "42e9776c",
   "metadata": {},
   "source": [
    "## Iris data set"
   ]
  },
  {
   "cell_type": "code",
   "execution_count": 618,
   "id": "af135a3f",
   "metadata": {},
   "outputs": [],
   "source": [
    "#load iris dataset\n",
    "irisData = datasets.load_iris()\n",
    "X_iris = irisData.data\n",
    "y_iris = irisData.target"
   ]
  },
  {
   "cell_type": "code",
   "execution_count": 619,
   "id": "55c7c17b",
   "metadata": {},
   "outputs": [],
   "source": [
    "#slpit dataset to train and test data\n",
    "X_train, X_test, y_train, y_test = train_test_split(X_iris, y_iris, test_size=0.2, random_state=42)\n",
    "#converting labels to categories\n",
    "y_train_categories = to_categorical(y_train)\n",
    "y_test_categories = to_categorical(y_test)"
   ]
  },
  {
   "cell_type": "markdown",
   "id": "810e1057",
   "metadata": {},
   "source": [
    "## Model1: \n",
    "### 2 layers\n",
    "    -input layer: 20 neurones, activation_function = 'relu'\n",
    "    -ouput layer: 3 neurones, activation_function = 'softmax'"
   ]
  },
  {
   "cell_type": "code",
   "execution_count": 620,
   "id": "27264875",
   "metadata": {},
   "outputs": [],
   "source": [
    "model1 = Sequential()\n",
    "model1.add(Dense(20, input_dim=4, activation='relu'))\n",
    "model1.add(Dense(3, activation='softmax'))\n",
    "model1.compile(loss ='categorical_crossentropy' , optimizer = 'adam', metrics = ['accuracy'])"
   ]
  },
  {
   "cell_type": "code",
   "execution_count": 621,
   "id": "891bbcee",
   "metadata": {},
   "outputs": [
    {
     "name": "stdout",
     "output_type": "stream",
     "text": [
      "Model: \"sequential_135\"\n",
      "_________________________________________________________________\n",
      " Layer (type)                Output Shape              Param #   \n",
      "=================================================================\n",
      " dense_380 (Dense)           (None, 20)                100       \n",
      "                                                                 \n",
      " dense_381 (Dense)           (None, 3)                 63        \n",
      "                                                                 \n",
      "=================================================================\n",
      "Total params: 163\n",
      "Trainable params: 163\n",
      "Non-trainable params: 0\n",
      "_________________________________________________________________\n"
     ]
    }
   ],
   "source": [
    "model1.summary()"
   ]
  },
  {
   "cell_type": "code",
   "execution_count": 622,
   "id": "57b20330",
   "metadata": {},
   "outputs": [
    {
     "name": "stdout",
     "output_type": "stream",
     "text": [
      "Epoch 1/50\n",
      "12/12 [==============================] - 0s 2ms/step - loss: 1.9828 - accuracy: 0.3417\n",
      "Epoch 2/50\n",
      "12/12 [==============================] - 0s 3ms/step - loss: 1.6894 - accuracy: 0.3167\n",
      "Epoch 3/50\n",
      "12/12 [==============================] - 0s 3ms/step - loss: 1.4426 - accuracy: 0.2417\n",
      "Epoch 4/50\n",
      "12/12 [==============================] - 0s 4ms/step - loss: 1.2490 - accuracy: 0.2250\n",
      "Epoch 5/50\n",
      "12/12 [==============================] - 0s 1ms/step - loss: 1.1303 - accuracy: 0.2083\n",
      "Epoch 6/50\n",
      "12/12 [==============================] - 0s 2ms/step - loss: 1.0522 - accuracy: 0.3083\n",
      "Epoch 7/50\n",
      "12/12 [==============================] - 0s 2ms/step - loss: 0.9890 - accuracy: 0.3083\n",
      "Epoch 8/50\n",
      "12/12 [==============================] - 0s 2ms/step - loss: 0.9406 - accuracy: 0.3167\n",
      "Epoch 9/50\n",
      "12/12 [==============================] - 0s 1ms/step - loss: 0.8960 - accuracy: 0.5833\n",
      "Epoch 10/50\n",
      "12/12 [==============================] - 0s 2ms/step - loss: 0.8420 - accuracy: 0.6417\n",
      "Epoch 11/50\n",
      "12/12 [==============================] - 0s 3ms/step - loss: 0.8041 - accuracy: 0.6583\n",
      "Epoch 12/50\n",
      "12/12 [==============================] - 0s 2ms/step - loss: 0.7667 - accuracy: 0.7167\n",
      "Epoch 13/50\n",
      "12/12 [==============================] - 0s 1ms/step - loss: 0.7400 - accuracy: 0.7667\n",
      "Epoch 14/50\n",
      "12/12 [==============================] - 0s 2ms/step - loss: 0.7085 - accuracy: 0.8000\n",
      "Epoch 15/50\n",
      "12/12 [==============================] - 0s 2ms/step - loss: 0.6835 - accuracy: 0.8167\n",
      "Epoch 16/50\n",
      "12/12 [==============================] - 0s 2ms/step - loss: 0.6615 - accuracy: 0.8250\n",
      "Epoch 17/50\n",
      "12/12 [==============================] - 0s 2ms/step - loss: 0.6414 - accuracy: 0.8750\n",
      "Epoch 18/50\n",
      "12/12 [==============================] - 0s 2ms/step - loss: 0.6219 - accuracy: 0.9083\n",
      "Epoch 19/50\n",
      "12/12 [==============================] - 0s 5ms/step - loss: 0.6039 - accuracy: 0.9417\n",
      "Epoch 20/50\n",
      "12/12 [==============================] - 0s 2ms/step - loss: 0.5875 - accuracy: 0.9167\n",
      "Epoch 21/50\n",
      "12/12 [==============================] - 0s 990us/step - loss: 0.5729 - accuracy: 0.9083\n",
      "Epoch 22/50\n",
      "12/12 [==============================] - 0s 2ms/step - loss: 0.5585 - accuracy: 0.9417\n",
      "Epoch 23/50\n",
      "12/12 [==============================] - 0s 2ms/step - loss: 0.5441 - accuracy: 0.9583\n",
      "Epoch 24/50\n",
      "12/12 [==============================] - 0s 1ms/step - loss: 0.5331 - accuracy: 0.9083\n",
      "Epoch 25/50\n",
      "12/12 [==============================] - 0s 2ms/step - loss: 0.5189 - accuracy: 0.9417\n",
      "Epoch 26/50\n",
      "12/12 [==============================] - 0s 1ms/step - loss: 0.5103 - accuracy: 0.9500\n",
      "Epoch 27/50\n",
      "12/12 [==============================] - 0s 2ms/step - loss: 0.4989 - accuracy: 0.9500\n",
      "Epoch 28/50\n",
      "12/12 [==============================] - 0s 1ms/step - loss: 0.4922 - accuracy: 0.9500\n",
      "Epoch 29/50\n",
      "12/12 [==============================] - 0s 2ms/step - loss: 0.4819 - accuracy: 0.9417\n",
      "Epoch 30/50\n",
      "12/12 [==============================] - 0s 3ms/step - loss: 0.4716 - accuracy: 0.9500\n",
      "Epoch 31/50\n",
      "12/12 [==============================] - 0s 937us/step - loss: 0.4619 - accuracy: 0.9667\n",
      "Epoch 32/50\n",
      "12/12 [==============================] - 0s 1ms/step - loss: 0.4538 - accuracy: 0.9667\n",
      "Epoch 33/50\n",
      "12/12 [==============================] - 0s 2ms/step - loss: 0.4476 - accuracy: 0.9583\n",
      "Epoch 34/50\n",
      "12/12 [==============================] - 0s 1ms/step - loss: 0.4362 - accuracy: 0.9583\n",
      "Epoch 35/50\n",
      "12/12 [==============================] - 0s 3ms/step - loss: 0.4298 - accuracy: 0.9667\n",
      "Epoch 36/50\n",
      "12/12 [==============================] - 0s 2ms/step - loss: 0.4257 - accuracy: 0.9667\n",
      "Epoch 37/50\n",
      "12/12 [==============================] - 0s 2ms/step - loss: 0.4158 - accuracy: 0.9583\n",
      "Epoch 38/50\n",
      "12/12 [==============================] - 0s 2ms/step - loss: 0.4101 - accuracy: 0.9667\n",
      "Epoch 39/50\n",
      "12/12 [==============================] - 0s 3ms/step - loss: 0.4037 - accuracy: 0.9667\n",
      "Epoch 40/50\n",
      "12/12 [==============================] - 0s 2ms/step - loss: 0.3972 - accuracy: 0.9667\n",
      "Epoch 41/50\n",
      "12/12 [==============================] - 0s 1ms/step - loss: 0.3923 - accuracy: 0.9583\n",
      "Epoch 42/50\n",
      "12/12 [==============================] - 0s 3ms/step - loss: 0.3861 - accuracy: 0.9583\n",
      "Epoch 43/50\n",
      "12/12 [==============================] - 0s 3ms/step - loss: 0.3796 - accuracy: 0.9667\n",
      "Epoch 44/50\n",
      "12/12 [==============================] - 0s 3ms/step - loss: 0.3750 - accuracy: 0.9667\n",
      "Epoch 45/50\n",
      "12/12 [==============================] - 0s 2ms/step - loss: 0.3707 - accuracy: 0.9667\n",
      "Epoch 46/50\n",
      "12/12 [==============================] - 0s 3ms/step - loss: 0.3642 - accuracy: 0.9667\n",
      "Epoch 47/50\n",
      "12/12 [==============================] - 0s 5ms/step - loss: 0.3603 - accuracy: 0.9750\n",
      "Epoch 48/50\n",
      "12/12 [==============================] - 0s 3ms/step - loss: 0.3565 - accuracy: 0.9667\n",
      "Epoch 49/50\n",
      "12/12 [==============================] - 0s 1ms/step - loss: 0.3504 - accuracy: 0.9667\n",
      "Epoch 50/50\n",
      "12/12 [==============================] - 0s 3ms/step - loss: 0.3448 - accuracy: 0.9667\n"
     ]
    },
    {
     "data": {
      "text/plain": [
       "<keras.callbacks.History at 0x7f2d65ba2f40>"
      ]
     },
     "execution_count": 622,
     "metadata": {},
     "output_type": "execute_result"
    }
   ],
   "source": [
    "model1.fit(X_train, y_train_categories, epochs=50, batch_size=10)"
   ]
  },
  {
   "cell_type": "code",
   "execution_count": 623,
   "id": "f25acb83",
   "metadata": {},
   "outputs": [
    {
     "name": "stdout",
     "output_type": "stream",
     "text": [
      "1/1 [==============================] - 0s 102ms/step - loss: 0.3294 - accuracy: 0.9667\n",
      "test set loss 0.32937830686569214\n",
      "test set accuracy 0.9666666388511658\n"
     ]
    }
   ],
   "source": [
    "loss_result, accuracy_result = model1.evaluate(X_test,y_test_categories)\n",
    "print(\"test set loss\", loss_result)\n",
    "print(\"test set accuracy\", accuracy_result)"
   ]
  },
  {
   "cell_type": "code",
   "execution_count": 624,
   "id": "30b13434",
   "metadata": {},
   "outputs": [
    {
     "data": {
      "text/plain": [
       "array([1, 0, 2, 1, 1, 0, 1, 2, 2, 1, 2, 0, 0, 0, 0, 1, 2, 1, 1, 2, 0, 2,\n",
       "       0, 2, 2, 2, 2, 2, 0, 0])"
      ]
     },
     "execution_count": 624,
     "metadata": {},
     "output_type": "execute_result"
    }
   ],
   "source": [
    "y_pred = model1.predict(X_test)\n",
    "y_pred_class = np.argmax(y_pred,axis=1)\n",
    "y_pred_class"
   ]
  },
  {
   "cell_type": "code",
   "execution_count": 625,
   "id": "ecf7a70c",
   "metadata": {},
   "outputs": [
    {
     "name": "stdout",
     "output_type": "stream",
     "text": [
      "              precision    recall  f1-score   support\n",
      "\n",
      "           0       1.00      1.00      1.00        10\n",
      "           1       1.00      0.89      0.94         9\n",
      "           2       0.92      1.00      0.96        11\n",
      "\n",
      "    accuracy                           0.97        30\n",
      "   macro avg       0.97      0.96      0.97        30\n",
      "weighted avg       0.97      0.97      0.97        30\n",
      "\n"
     ]
    }
   ],
   "source": [
    "print(classification_report(y_test,y_pred_class))"
   ]
  },
  {
   "cell_type": "markdown",
   "id": "d8ee07e7",
   "metadata": {},
   "source": [
    "## Model 2: adding hidden layers\n",
    "### 5 layers:\n",
    "    -layer 1: 50 neurones, activation_function = 'relu'\n",
    "    -layer 2: 10 neurones, activation_function = 'relu'\n",
    "    -layer 3: 7 neurones, activation_function = 'relu'\n",
    "    -layer 4: 6 neurones, activation_function = 'relu' \n",
    "    -layer 5: 3 neurones, activation_function = 'softmax'  "
   ]
  },
  {
   "cell_type": "code",
   "execution_count": 626,
   "id": "21841a88",
   "metadata": {},
   "outputs": [],
   "source": [
    "model2 = Sequential()\n",
    "model2.add(Dense(50, input_dim=4, activation='relu'))\n",
    "model2.add(Dense(10, activation='relu'))\n",
    "model2.add(Dense(7, activation='relu'))\n",
    "model2.add(Dense(6, activation='relu'))\n",
    "model2.add(Dense(3, activation='softmax'))\n",
    "model2.compile(loss ='categorical_crossentropy' , optimizer = 'adam', metrics = ['accuracy'])"
   ]
  },
  {
   "cell_type": "code",
   "execution_count": 627,
   "id": "66445f5f",
   "metadata": {},
   "outputs": [
    {
     "name": "stdout",
     "output_type": "stream",
     "text": [
      "Model: \"sequential_136\"\n",
      "_________________________________________________________________\n",
      " Layer (type)                Output Shape              Param #   \n",
      "=================================================================\n",
      " dense_382 (Dense)           (None, 50)                250       \n",
      "                                                                 \n",
      " dense_383 (Dense)           (None, 10)                510       \n",
      "                                                                 \n",
      " dense_384 (Dense)           (None, 7)                 77        \n",
      "                                                                 \n",
      " dense_385 (Dense)           (None, 6)                 48        \n",
      "                                                                 \n",
      " dense_386 (Dense)           (None, 3)                 21        \n",
      "                                                                 \n",
      "=================================================================\n",
      "Total params: 906\n",
      "Trainable params: 906\n",
      "Non-trainable params: 0\n",
      "_________________________________________________________________\n"
     ]
    }
   ],
   "source": [
    "model2.summary()"
   ]
  },
  {
   "cell_type": "code",
   "execution_count": 628,
   "id": "c452be67",
   "metadata": {},
   "outputs": [
    {
     "name": "stdout",
     "output_type": "stream",
     "text": [
      "Epoch 1/50\n",
      "12/12 [==============================] - 0s 3ms/step - loss: 1.1479 - accuracy: 0.3333\n",
      "Epoch 2/50\n",
      "12/12 [==============================] - 0s 3ms/step - loss: 1.1000 - accuracy: 0.3333\n",
      "Epoch 3/50\n",
      "12/12 [==============================] - 0s 5ms/step - loss: 1.0673 - accuracy: 0.5667\n",
      "Epoch 4/50\n",
      "12/12 [==============================] - 0s 4ms/step - loss: 1.0442 - accuracy: 0.4000\n",
      "Epoch 5/50\n",
      "12/12 [==============================] - 0s 3ms/step - loss: 1.0163 - accuracy: 0.5083\n",
      "Epoch 6/50\n",
      "12/12 [==============================] - 0s 3ms/step - loss: 0.9850 - accuracy: 0.4167\n",
      "Epoch 7/50\n",
      "12/12 [==============================] - 0s 3ms/step - loss: 0.9487 - accuracy: 0.4583\n",
      "Epoch 8/50\n",
      "12/12 [==============================] - 0s 3ms/step - loss: 0.8967 - accuracy: 0.6250\n",
      "Epoch 9/50\n",
      "12/12 [==============================] - 0s 3ms/step - loss: 0.7456 - accuracy: 0.6667\n",
      "Epoch 10/50\n",
      "12/12 [==============================] - 0s 2ms/step - loss: 0.5635 - accuracy: 0.7083\n",
      "Epoch 11/50\n",
      "12/12 [==============================] - 0s 4ms/step - loss: 0.4798 - accuracy: 0.7333\n",
      "Epoch 12/50\n",
      "12/12 [==============================] - 0s 4ms/step - loss: 0.4313 - accuracy: 0.9083\n",
      "Epoch 13/50\n",
      "12/12 [==============================] - 0s 4ms/step - loss: 0.3861 - accuracy: 0.8750\n",
      "Epoch 14/50\n",
      "12/12 [==============================] - 0s 3ms/step - loss: 0.3653 - accuracy: 0.9583\n",
      "Epoch 15/50\n",
      "12/12 [==============================] - 0s 4ms/step - loss: 0.3360 - accuracy: 0.9250\n",
      "Epoch 16/50\n",
      "12/12 [==============================] - 0s 3ms/step - loss: 0.3080 - accuracy: 0.9667\n",
      "Epoch 17/50\n",
      "12/12 [==============================] - 0s 2ms/step - loss: 0.2964 - accuracy: 0.9667\n",
      "Epoch 18/50\n",
      "12/12 [==============================] - 0s 4ms/step - loss: 0.2665 - accuracy: 0.9750\n",
      "Epoch 19/50\n",
      "12/12 [==============================] - 0s 2ms/step - loss: 0.2531 - accuracy: 0.9833\n",
      "Epoch 20/50\n",
      "12/12 [==============================] - 0s 4ms/step - loss: 0.2346 - accuracy: 0.9750\n",
      "Epoch 21/50\n",
      "12/12 [==============================] - 0s 3ms/step - loss: 0.2179 - accuracy: 0.9750\n",
      "Epoch 22/50\n",
      "12/12 [==============================] - 0s 5ms/step - loss: 0.2023 - accuracy: 0.9833\n",
      "Epoch 23/50\n",
      "12/12 [==============================] - 0s 3ms/step - loss: 0.1962 - accuracy: 0.9667\n",
      "Epoch 24/50\n",
      "12/12 [==============================] - 0s 2ms/step - loss: 0.1800 - accuracy: 0.9583\n",
      "Epoch 25/50\n",
      "12/12 [==============================] - 0s 4ms/step - loss: 0.1726 - accuracy: 0.9667\n",
      "Epoch 26/50\n",
      "12/12 [==============================] - 0s 2ms/step - loss: 0.1649 - accuracy: 0.9833\n",
      "Epoch 27/50\n",
      "12/12 [==============================] - 0s 4ms/step - loss: 0.1512 - accuracy: 0.9667\n",
      "Epoch 28/50\n",
      "12/12 [==============================] - 0s 3ms/step - loss: 0.1466 - accuracy: 0.9750\n",
      "Epoch 29/50\n",
      "12/12 [==============================] - 0s 3ms/step - loss: 0.1365 - accuracy: 0.9667\n",
      "Epoch 30/50\n",
      "12/12 [==============================] - 0s 4ms/step - loss: 0.1279 - accuracy: 0.9750\n",
      "Epoch 31/50\n",
      "12/12 [==============================] - 0s 2ms/step - loss: 0.1211 - accuracy: 0.9750\n",
      "Epoch 32/50\n",
      "12/12 [==============================] - 0s 2ms/step - loss: 0.1296 - accuracy: 0.9583\n",
      "Epoch 33/50\n",
      "12/12 [==============================] - 0s 3ms/step - loss: 0.1146 - accuracy: 0.9667\n",
      "Epoch 34/50\n",
      "12/12 [==============================] - 0s 2ms/step - loss: 0.1322 - accuracy: 0.9750\n",
      "Epoch 35/50\n",
      "12/12 [==============================] - 0s 5ms/step - loss: 0.1098 - accuracy: 0.9750\n",
      "Epoch 36/50\n",
      "12/12 [==============================] - 0s 3ms/step - loss: 0.1101 - accuracy: 0.9667\n",
      "Epoch 37/50\n",
      "12/12 [==============================] - 0s 4ms/step - loss: 0.1110 - accuracy: 0.9750\n",
      "Epoch 38/50\n",
      "12/12 [==============================] - 0s 3ms/step - loss: 0.0976 - accuracy: 0.9750\n",
      "Epoch 39/50\n",
      "12/12 [==============================] - 0s 4ms/step - loss: 0.0966 - accuracy: 0.9667\n",
      "Epoch 40/50\n",
      "12/12 [==============================] - 0s 3ms/step - loss: 0.0991 - accuracy: 0.9833\n",
      "Epoch 41/50\n",
      "12/12 [==============================] - 0s 3ms/step - loss: 0.0970 - accuracy: 0.9667\n",
      "Epoch 42/50\n",
      "12/12 [==============================] - 0s 3ms/step - loss: 0.1152 - accuracy: 0.9583\n",
      "Epoch 43/50\n",
      "12/12 [==============================] - 0s 3ms/step - loss: 0.0988 - accuracy: 0.9667\n",
      "Epoch 44/50\n",
      "12/12 [==============================] - 0s 3ms/step - loss: 0.1049 - accuracy: 0.9583\n",
      "Epoch 45/50\n",
      "12/12 [==============================] - 0s 3ms/step - loss: 0.0860 - accuracy: 0.9750\n",
      "Epoch 46/50\n",
      "12/12 [==============================] - 0s 3ms/step - loss: 0.0859 - accuracy: 0.9833\n",
      "Epoch 47/50\n",
      "12/12 [==============================] - 0s 3ms/step - loss: 0.0823 - accuracy: 0.9833\n",
      "Epoch 48/50\n",
      "12/12 [==============================] - 0s 3ms/step - loss: 0.0818 - accuracy: 0.9917\n",
      "Epoch 49/50\n",
      "12/12 [==============================] - 0s 3ms/step - loss: 0.0814 - accuracy: 0.9833\n",
      "Epoch 50/50\n",
      "12/12 [==============================] - 0s 3ms/step - loss: 0.0825 - accuracy: 0.9833\n"
     ]
    },
    {
     "data": {
      "text/plain": [
       "<keras.callbacks.History at 0x7f2d65a7d460>"
      ]
     },
     "execution_count": 628,
     "metadata": {},
     "output_type": "execute_result"
    }
   ],
   "source": [
    "model2.fit(X_train, y_train_categories, epochs=50, batch_size=10)"
   ]
  },
  {
   "cell_type": "code",
   "execution_count": 629,
   "id": "a51466cd",
   "metadata": {},
   "outputs": [
    {
     "name": "stdout",
     "output_type": "stream",
     "text": [
      "1/1 [==============================] - 0s 179ms/step - loss: 0.1055 - accuracy: 0.9667\n",
      "test set loss 0.10550207644701004\n",
      "test set accuracy 0.9666666388511658\n"
     ]
    }
   ],
   "source": [
    "loss_result, accuracy_result = model2.evaluate(X_test,y_test_categories)\n",
    "print(\"test set loss\", loss_result)\n",
    "print(\"test set accuracy\", accuracy_result)"
   ]
  },
  {
   "cell_type": "code",
   "execution_count": 630,
   "id": "ddc3945a",
   "metadata": {},
   "outputs": [
    {
     "data": {
      "text/plain": [
       "array([1, 0, 2, 1, 1, 0, 1, 2, 1, 1, 2, 0, 0, 0, 0, 1, 2, 1, 1, 2, 0, 2,\n",
       "       0, 2, 1, 2, 2, 2, 0, 0])"
      ]
     },
     "execution_count": 630,
     "metadata": {},
     "output_type": "execute_result"
    }
   ],
   "source": [
    "y_pred = model2.predict(X_test)\n",
    "y_pred_class = np.argmax(y_pred,axis=1)\n",
    "y_pred_class"
   ]
  },
  {
   "cell_type": "code",
   "execution_count": 631,
   "id": "85d81665",
   "metadata": {},
   "outputs": [
    {
     "name": "stdout",
     "output_type": "stream",
     "text": [
      "              precision    recall  f1-score   support\n",
      "\n",
      "           0       1.00      1.00      1.00        10\n",
      "           1       0.90      1.00      0.95         9\n",
      "           2       1.00      0.91      0.95        11\n",
      "\n",
      "    accuracy                           0.97        30\n",
      "   macro avg       0.97      0.97      0.97        30\n",
      "weighted avg       0.97      0.97      0.97        30\n",
      "\n"
     ]
    }
   ],
   "source": [
    "print(classification_report(y_test,y_pred_class))"
   ]
  },
  {
   "cell_type": "markdown",
   "id": "733cb686",
   "metadata": {},
   "source": [
    "## Model 3: adding neurones and changing loss function\n",
    "### 2 layers:\n",
    "     -input layer: 64 neurones, activation_function = 'relu'\n",
    "     -output layer: 3 neurones, activation_function = 'softmax'"
   ]
  },
  {
   "cell_type": "code",
   "execution_count": 632,
   "id": "2f5a29bc",
   "metadata": {},
   "outputs": [],
   "source": [
    "model3 = Sequential()\n",
    "model3.add(Dense(64, input_dim=4, activation='relu'))\n",
    "model3.add(Dense(3, activation='softmax'))\n",
    "model3.compile(loss ='binary_crossentropy' , optimizer = 'adam', metrics = ['accuracy'])"
   ]
  },
  {
   "cell_type": "code",
   "execution_count": 633,
   "id": "a2019b9c",
   "metadata": {},
   "outputs": [
    {
     "name": "stdout",
     "output_type": "stream",
     "text": [
      "Model: \"sequential_137\"\n",
      "_________________________________________________________________\n",
      " Layer (type)                Output Shape              Param #   \n",
      "=================================================================\n",
      " dense_387 (Dense)           (None, 64)                320       \n",
      "                                                                 \n",
      " dense_388 (Dense)           (None, 3)                 195       \n",
      "                                                                 \n",
      "=================================================================\n",
      "Total params: 515\n",
      "Trainable params: 515\n",
      "Non-trainable params: 0\n",
      "_________________________________________________________________\n"
     ]
    }
   ],
   "source": [
    "model3.summary()"
   ]
  },
  {
   "cell_type": "code",
   "execution_count": 634,
   "id": "045476f7",
   "metadata": {},
   "outputs": [
    {
     "name": "stdout",
     "output_type": "stream",
     "text": [
      "Epoch 1/50\n",
      "12/12 [==============================] - 0s 1ms/step - loss: 0.8009 - accuracy: 0.3417\n",
      "Epoch 2/50\n",
      "12/12 [==============================] - 0s 1ms/step - loss: 0.6570 - accuracy: 0.3417\n",
      "Epoch 3/50\n",
      "12/12 [==============================] - 0s 2ms/step - loss: 0.6062 - accuracy: 0.4583\n",
      "Epoch 4/50\n",
      "12/12 [==============================] - 0s 4ms/step - loss: 0.5668 - accuracy: 0.4917\n",
      "Epoch 5/50\n",
      "12/12 [==============================] - 0s 3ms/step - loss: 0.5391 - accuracy: 0.6917\n",
      "Epoch 6/50\n",
      "12/12 [==============================] - 0s 2ms/step - loss: 0.5121 - accuracy: 0.7833\n",
      "Epoch 7/50\n",
      "12/12 [==============================] - 0s 3ms/step - loss: 0.4895 - accuracy: 0.7750\n",
      "Epoch 8/50\n",
      "12/12 [==============================] - 0s 3ms/step - loss: 0.4685 - accuracy: 0.8667\n",
      "Epoch 9/50\n",
      "12/12 [==============================] - 0s 3ms/step - loss: 0.4502 - accuracy: 0.8250\n",
      "Epoch 10/50\n",
      "12/12 [==============================] - 0s 2ms/step - loss: 0.4325 - accuracy: 0.8167\n",
      "Epoch 11/50\n",
      "12/12 [==============================] - 0s 2ms/step - loss: 0.4179 - accuracy: 0.8500\n",
      "Epoch 12/50\n",
      "12/12 [==============================] - 0s 2ms/step - loss: 0.4047 - accuracy: 0.8500\n",
      "Epoch 13/50\n",
      "12/12 [==============================] - 0s 2ms/step - loss: 0.3918 - accuracy: 0.8083\n",
      "Epoch 14/50\n",
      "12/12 [==============================] - 0s 2ms/step - loss: 0.3813 - accuracy: 0.8417\n",
      "Epoch 15/50\n",
      "12/12 [==============================] - 0s 2ms/step - loss: 0.3708 - accuracy: 0.8333\n",
      "Epoch 16/50\n",
      "12/12 [==============================] - 0s 2ms/step - loss: 0.3613 - accuracy: 0.8583\n",
      "Epoch 17/50\n",
      "12/12 [==============================] - 0s 2ms/step - loss: 0.3529 - accuracy: 0.8833\n",
      "Epoch 18/50\n",
      "12/12 [==============================] - 0s 3ms/step - loss: 0.3458 - accuracy: 0.8833\n",
      "Epoch 19/50\n",
      "12/12 [==============================] - 0s 3ms/step - loss: 0.3393 - accuracy: 0.8750\n",
      "Epoch 20/50\n",
      "12/12 [==============================] - 0s 3ms/step - loss: 0.3315 - accuracy: 0.9000\n",
      "Epoch 21/50\n",
      "12/12 [==============================] - 0s 2ms/step - loss: 0.3256 - accuracy: 0.9167\n",
      "Epoch 22/50\n",
      "12/12 [==============================] - 0s 2ms/step - loss: 0.3197 - accuracy: 0.9167\n",
      "Epoch 23/50\n",
      "12/12 [==============================] - 0s 2ms/step - loss: 0.3168 - accuracy: 0.8667\n",
      "Epoch 24/50\n",
      "12/12 [==============================] - 0s 3ms/step - loss: 0.3097 - accuracy: 0.9000\n",
      "Epoch 25/50\n",
      "12/12 [==============================] - 0s 2ms/step - loss: 0.3053 - accuracy: 0.9333\n",
      "Epoch 26/50\n",
      "12/12 [==============================] - 0s 2ms/step - loss: 0.3011 - accuracy: 0.9500\n",
      "Epoch 27/50\n",
      "12/12 [==============================] - 0s 2ms/step - loss: 0.2961 - accuracy: 0.9250\n",
      "Epoch 28/50\n",
      "12/12 [==============================] - 0s 2ms/step - loss: 0.2925 - accuracy: 0.9250\n",
      "Epoch 29/50\n",
      "12/12 [==============================] - 0s 2ms/step - loss: 0.2885 - accuracy: 0.9167\n",
      "Epoch 30/50\n",
      "12/12 [==============================] - 0s 3ms/step - loss: 0.2865 - accuracy: 0.9167\n",
      "Epoch 31/50\n",
      "12/12 [==============================] - 0s 2ms/step - loss: 0.2819 - accuracy: 0.9417\n",
      "Epoch 32/50\n",
      "12/12 [==============================] - 0s 1ms/step - loss: 0.2784 - accuracy: 0.9417\n",
      "Epoch 33/50\n",
      "12/12 [==============================] - 0s 2ms/step - loss: 0.2739 - accuracy: 0.9333\n",
      "Epoch 34/50\n",
      "12/12 [==============================] - 0s 3ms/step - loss: 0.2705 - accuracy: 0.9333\n",
      "Epoch 35/50\n",
      "12/12 [==============================] - 0s 2ms/step - loss: 0.2673 - accuracy: 0.9583\n",
      "Epoch 36/50\n",
      "12/12 [==============================] - 0s 1ms/step - loss: 0.2642 - accuracy: 0.9417\n",
      "Epoch 37/50\n",
      "12/12 [==============================] - 0s 2ms/step - loss: 0.2623 - accuracy: 0.9333\n",
      "Epoch 38/50\n",
      "12/12 [==============================] - 0s 2ms/step - loss: 0.2583 - accuracy: 0.9333\n",
      "Epoch 39/50\n",
      "12/12 [==============================] - 0s 2ms/step - loss: 0.2551 - accuracy: 0.9583\n",
      "Epoch 40/50\n",
      "12/12 [==============================] - 0s 2ms/step - loss: 0.2529 - accuracy: 0.9583\n",
      "Epoch 41/50\n",
      "12/12 [==============================] - 0s 3ms/step - loss: 0.2497 - accuracy: 0.9583\n",
      "Epoch 42/50\n",
      "12/12 [==============================] - 0s 3ms/step - loss: 0.2459 - accuracy: 0.9583\n",
      "Epoch 43/50\n",
      "12/12 [==============================] - 0s 3ms/step - loss: 0.2435 - accuracy: 0.9583\n",
      "Epoch 44/50\n",
      "12/12 [==============================] - 0s 1ms/step - loss: 0.2408 - accuracy: 0.9583\n",
      "Epoch 45/50\n",
      "12/12 [==============================] - 0s 2ms/step - loss: 0.2379 - accuracy: 0.9583\n",
      "Epoch 46/50\n",
      "12/12 [==============================] - 0s 1ms/step - loss: 0.2352 - accuracy: 0.9583\n",
      "Epoch 47/50\n",
      "12/12 [==============================] - 0s 3ms/step - loss: 0.2361 - accuracy: 0.9667\n",
      "Epoch 48/50\n",
      "12/12 [==============================] - 0s 2ms/step - loss: 0.2326 - accuracy: 0.9417\n",
      "Epoch 49/50\n",
      "12/12 [==============================] - 0s 2ms/step - loss: 0.2273 - accuracy: 0.9500\n",
      "Epoch 50/50\n",
      "12/12 [==============================] - 0s 3ms/step - loss: 0.2262 - accuracy: 0.9583\n"
     ]
    },
    {
     "data": {
      "text/plain": [
       "<keras.callbacks.History at 0x7f2d65946820>"
      ]
     },
     "execution_count": 634,
     "metadata": {},
     "output_type": "execute_result"
    }
   ],
   "source": [
    "model3.fit(X_train, y_train_categories, epochs=50, batch_size=10)"
   ]
  },
  {
   "cell_type": "code",
   "execution_count": 635,
   "id": "f89db263",
   "metadata": {},
   "outputs": [
    {
     "name": "stdout",
     "output_type": "stream",
     "text": [
      "1/1 [==============================] - 0s 152ms/step - loss: 0.2248 - accuracy: 1.0000\n",
      "test set loss 0.22481264173984528\n",
      "test set accuracy 1.0\n"
     ]
    }
   ],
   "source": [
    "loss_result, accuracy_result = model3.evaluate(X_test,y_test_categories)\n",
    "print(\"test set loss\", loss_result)\n",
    "print(\"test set accuracy\", accuracy_result)"
   ]
  },
  {
   "cell_type": "code",
   "execution_count": 636,
   "id": "58f8cd71",
   "metadata": {},
   "outputs": [
    {
     "data": {
      "text/plain": [
       "array([1, 0, 2, 1, 1, 0, 1, 2, 1, 1, 2, 0, 0, 0, 0, 1, 2, 1, 1, 2, 0, 2,\n",
       "       0, 2, 2, 2, 2, 2, 0, 0])"
      ]
     },
     "execution_count": 636,
     "metadata": {},
     "output_type": "execute_result"
    }
   ],
   "source": [
    "y_pred = model3.predict(X_test)\n",
    "y_pred_class = np.argmax(y_pred,axis=1)\n",
    "y_pred_class"
   ]
  },
  {
   "cell_type": "code",
   "execution_count": 637,
   "id": "96644fe2",
   "metadata": {},
   "outputs": [
    {
     "name": "stdout",
     "output_type": "stream",
     "text": [
      "              precision    recall  f1-score   support\n",
      "\n",
      "           0       1.00      1.00      1.00        10\n",
      "           1       1.00      1.00      1.00         9\n",
      "           2       1.00      1.00      1.00        11\n",
      "\n",
      "    accuracy                           1.00        30\n",
      "   macro avg       1.00      1.00      1.00        30\n",
      "weighted avg       1.00      1.00      1.00        30\n",
      "\n"
     ]
    }
   ],
   "source": [
    "print(classification_report(y_test,y_pred_class))"
   ]
  },
  {
   "cell_type": "markdown",
   "id": "1779fc7c",
   "metadata": {},
   "source": [
    "The third model has got an accuracy of 1. The third model is then the best model."
   ]
  },
  {
   "cell_type": "markdown",
   "id": "3b8c8122",
   "metadata": {},
   "source": [
    "# Working towards the CNN"
   ]
  },
  {
   "cell_type": "markdown",
   "id": "1b671d2a",
   "metadata": {},
   "source": [
    "## DIGIT data set"
   ]
  },
  {
   "cell_type": "code",
   "execution_count": 694,
   "id": "9deffd21",
   "metadata": {},
   "outputs": [
    {
     "data": {
      "text/plain": [
       "(64,)"
      ]
     },
     "execution_count": 694,
     "metadata": {},
     "output_type": "execute_result"
    }
   ],
   "source": [
    "#load digit dataset\n",
    "digitData = datasets.load_digits()\n",
    "X_digit = digitData.data\n",
    "y_digit = digitData.target.reshape(-1, 1)\n",
    "input_shape = X_digit[0].shape\n",
    "input_shape"
   ]
  },
  {
   "cell_type": "code",
   "execution_count": 695,
   "id": "c8e485b9",
   "metadata": {},
   "outputs": [],
   "source": [
    "#slpit dataset to train and test data\n",
    "X_train, X_test, y_train, y_test = train_test_split(X_digit, y_digit, test_size=0.2, random_state=42)\n",
    "#converting labels to categories\n",
    "y_train_categories = to_categorical(y_train)\n",
    "y_test_categories = to_categorical(y_test)"
   ]
  },
  {
   "cell_type": "markdown",
   "id": "634e0640",
   "metadata": {},
   "source": [
    "## Model 1:\n",
    "### 3 layers:\n",
    "     -layer 1: 64 neurones, activation_function = 'relu'\n",
    "     -layer 2: 32 neurones, activation_function = 'sigmoid'\n",
    "     -layer 3: 16 neurones, activation_function = 'softmax'   "
   ]
  },
  {
   "cell_type": "code",
   "execution_count": 669,
   "id": "391008aa",
   "metadata": {},
   "outputs": [],
   "source": [
    "model1 = Sequential()\n",
    "model1.add(Dense(64, input_shape=input_shape, activation='relu'))\n",
    "model1.add(Dense(32, activation='sigmoid'))\n",
    "model1.add(Dense(1, activation='softmax'))"
   ]
  },
  {
   "cell_type": "code",
   "execution_count": 670,
   "id": "83689b03",
   "metadata": {},
   "outputs": [],
   "source": [
    "model1.compile(loss ='categorical_crossentropy' , optimizer = 'adam', metrics = ['accuracy'])"
   ]
  },
  {
   "cell_type": "code",
   "execution_count": 671,
   "id": "169654f4",
   "metadata": {},
   "outputs": [
    {
     "name": "stdout",
     "output_type": "stream",
     "text": [
      "Model: \"sequential_143\"\n",
      "_________________________________________________________________\n",
      " Layer (type)                Output Shape              Param #   \n",
      "=================================================================\n",
      " dense_407 (Dense)           (None, 64)                4160      \n",
      "                                                                 \n",
      " dense_408 (Dense)           (None, 32)                2080      \n",
      "                                                                 \n",
      " dense_409 (Dense)           (None, 1)                 33        \n",
      "                                                                 \n",
      "=================================================================\n",
      "Total params: 6,273\n",
      "Trainable params: 6,273\n",
      "Non-trainable params: 0\n",
      "_________________________________________________________________\n"
     ]
    }
   ],
   "source": [
    "model1.summary()"
   ]
  },
  {
   "cell_type": "code",
   "execution_count": 672,
   "id": "2e5d5db8",
   "metadata": {},
   "outputs": [
    {
     "name": "stdout",
     "output_type": "stream",
     "text": [
      "Epoch 1/20\n",
      "360/360 [==============================] - 1s 2ms/step - loss: 0.0000e+00 - accuracy: 0.1072\n",
      "Epoch 2/20\n",
      "360/360 [==============================] - 1s 2ms/step - loss: 0.0000e+00 - accuracy: 0.1072\n",
      "Epoch 3/20\n",
      "360/360 [==============================] - 1s 2ms/step - loss: 0.0000e+00 - accuracy: 0.1072\n",
      "Epoch 4/20\n",
      "360/360 [==============================] - 1s 2ms/step - loss: 0.0000e+00 - accuracy: 0.1072\n",
      "Epoch 5/20\n",
      "360/360 [==============================] - 1s 2ms/step - loss: 0.0000e+00 - accuracy: 0.1072\n",
      "Epoch 6/20\n",
      "360/360 [==============================] - 1s 2ms/step - loss: 0.0000e+00 - accuracy: 0.1072\n",
      "Epoch 7/20\n",
      "360/360 [==============================] - 1s 2ms/step - loss: 0.0000e+00 - accuracy: 0.1072\n",
      "Epoch 8/20\n",
      "360/360 [==============================] - 1s 1ms/step - loss: 0.0000e+00 - accuracy: 0.1072\n",
      "Epoch 9/20\n",
      "360/360 [==============================] - 1s 2ms/step - loss: 0.0000e+00 - accuracy: 0.1072\n",
      "Epoch 10/20\n",
      "360/360 [==============================] - 1s 2ms/step - loss: 0.0000e+00 - accuracy: 0.1072\n",
      "Epoch 11/20\n",
      "360/360 [==============================] - 1s 3ms/step - loss: 0.0000e+00 - accuracy: 0.1072\n",
      "Epoch 12/20\n",
      "360/360 [==============================] - 1s 3ms/step - loss: 0.0000e+00 - accuracy: 0.1072\n",
      "Epoch 13/20\n",
      "360/360 [==============================] - 1s 2ms/step - loss: 0.0000e+00 - accuracy: 0.1072\n",
      "Epoch 14/20\n",
      "360/360 [==============================] - 1s 3ms/step - loss: 0.0000e+00 - accuracy: 0.1072\n",
      "Epoch 15/20\n",
      "360/360 [==============================] - 1s 3ms/step - loss: 0.0000e+00 - accuracy: 0.1072\n",
      "Epoch 16/20\n",
      "360/360 [==============================] - 1s 3ms/step - loss: 0.0000e+00 - accuracy: 0.1072\n",
      "Epoch 17/20\n",
      "360/360 [==============================] - 1s 2ms/step - loss: 0.0000e+00 - accuracy: 0.1072\n",
      "Epoch 18/20\n",
      "360/360 [==============================] - 1s 2ms/step - loss: 0.0000e+00 - accuracy: 0.1072\n",
      "Epoch 19/20\n",
      "360/360 [==============================] - 1s 2ms/step - loss: 0.0000e+00 - accuracy: 0.1072\n",
      "Epoch 20/20\n",
      "360/360 [==============================] - 1s 2ms/step - loss: 0.0000e+00 - accuracy: 0.1072\n"
     ]
    },
    {
     "data": {
      "text/plain": [
       "<keras.callbacks.History at 0x7f2d65eeed30>"
      ]
     },
     "execution_count": 672,
     "metadata": {},
     "output_type": "execute_result"
    }
   ],
   "source": [
    "model1.fit(X_train, y_train, epochs=20, batch_size=4)"
   ]
  },
  {
   "cell_type": "code",
   "execution_count": 688,
   "id": "fa1e67c4",
   "metadata": {},
   "outputs": [
    {
     "name": "stdout",
     "output_type": "stream",
     "text": [
      "12/12 [==============================] - 0s 3ms/step - loss: 0.0000e+00 - accuracy: 0.0778\n",
      "test set loss 0.0\n",
      "test set accuracy 0.07777778059244156\n"
     ]
    }
   ],
   "source": [
    "loss_result, accuracy_result = model1.evaluate(X_test,y_test)\n",
    "print(\"test set loss\", loss_result)\n",
    "print(\"test set accuracy\", accuracy_result)"
   ]
  },
  {
   "cell_type": "code",
   "execution_count": 702,
   "id": "b2568f48",
   "metadata": {},
   "outputs": [],
   "source": [
    "y_pred = model1.predict(X_test)\n",
    "y_pred_class = np.argmax(y_pred,axis=1)"
   ]
  },
  {
   "cell_type": "code",
   "execution_count": 703,
   "id": "a60212c2",
   "metadata": {},
   "outputs": [
    {
     "name": "stdout",
     "output_type": "stream",
     "text": [
      "              precision    recall  f1-score   support\n",
      "\n",
      "           0       0.09      1.00      0.17        33\n",
      "           1       0.00      0.00      0.00        28\n",
      "           2       0.00      0.00      0.00        33\n",
      "           3       0.00      0.00      0.00        34\n",
      "           4       0.00      0.00      0.00        46\n",
      "           5       0.00      0.00      0.00        47\n",
      "           6       0.00      0.00      0.00        35\n",
      "           7       0.00      0.00      0.00        34\n",
      "           8       0.00      0.00      0.00        30\n",
      "           9       0.00      0.00      0.00        40\n",
      "\n",
      "    accuracy                           0.09       360\n",
      "   macro avg       0.01      0.10      0.02       360\n",
      "weighted avg       0.01      0.09      0.02       360\n",
      "\n"
     ]
    }
   ],
   "source": [
    "print(classification_report(y_test,y_pred_class))"
   ]
  },
  {
   "cell_type": "markdown",
   "id": "970b4df9",
   "metadata": {},
   "source": [
    "## Model 2:\n",
    "### 6 layers:\n",
    "     -layer 1: 64 neurones, activation_function = 'relu'\n",
    "     -layer 2: 32 neurones, activation_function = 'relu'\n",
    "     -layer 3: 20 neurones, activation_function = 'relu' \n",
    "     -layer 4: 16 neurones, activation_function = 'relu'\n",
    "     -layer 5: 12 neurones, acivation_function = 'relu'\n",
    "     -layer 6: 1 neurone, activation_function = 'softmax'"
   ]
  },
  {
   "cell_type": "code",
   "execution_count": 696,
   "id": "4882276e",
   "metadata": {},
   "outputs": [],
   "source": [
    "model2 = Sequential()\n",
    "model2.add(Dense(64, input_shape=input_shape, activation='relu'))\n",
    "model2.add(Dense(32, activation='relu'))\n",
    "model2.add(Dense(20, activation='relu'))\n",
    "model2.add(Dense(16, activation='relu'))\n",
    "model2.add(Dense(12, activation='relu'))\n",
    "model2.add(Dense(1, activation='softmax'))\n",
    "model2.compile(loss ='categorical_crossentropy' , optimizer = 'adam', metrics = ['accuracy'])"
   ]
  },
  {
   "cell_type": "code",
   "execution_count": 697,
   "id": "25e6c673",
   "metadata": {},
   "outputs": [
    {
     "name": "stdout",
     "output_type": "stream",
     "text": [
      "Model: \"sequential_146\"\n",
      "_________________________________________________________________\n",
      " Layer (type)                Output Shape              Param #   \n",
      "=================================================================\n",
      " dense_422 (Dense)           (None, 64)                4160      \n",
      "                                                                 \n",
      " dense_423 (Dense)           (None, 32)                2080      \n",
      "                                                                 \n",
      " dense_424 (Dense)           (None, 20)                660       \n",
      "                                                                 \n",
      " dense_425 (Dense)           (None, 16)                336       \n",
      "                                                                 \n",
      " dense_426 (Dense)           (None, 12)                204       \n",
      "                                                                 \n",
      " dense_427 (Dense)           (None, 1)                 13        \n",
      "                                                                 \n",
      "=================================================================\n",
      "Total params: 7,453\n",
      "Trainable params: 7,453\n",
      "Non-trainable params: 0\n",
      "_________________________________________________________________\n"
     ]
    }
   ],
   "source": [
    "model2.summary()"
   ]
  },
  {
   "cell_type": "code",
   "execution_count": 698,
   "id": "d06910d1",
   "metadata": {},
   "outputs": [
    {
     "name": "stdout",
     "output_type": "stream",
     "text": [
      "Epoch 1/20\n",
      "360/360 [==============================] - 1s 3ms/step - loss: 0.0000e+00 - accuracy: 0.1072\n",
      "Epoch 2/20\n",
      "360/360 [==============================] - 1s 2ms/step - loss: 0.0000e+00 - accuracy: 0.1072\n",
      "Epoch 3/20\n",
      "360/360 [==============================] - 1s 2ms/step - loss: 0.0000e+00 - accuracy: 0.1072\n",
      "Epoch 4/20\n",
      "360/360 [==============================] - 1s 2ms/step - loss: 0.0000e+00 - accuracy: 0.1072\n",
      "Epoch 5/20\n",
      "360/360 [==============================] - 1s 2ms/step - loss: 0.0000e+00 - accuracy: 0.1072\n",
      "Epoch 6/20\n",
      "360/360 [==============================] - 1s 3ms/step - loss: 0.0000e+00 - accuracy: 0.1072\n",
      "Epoch 7/20\n",
      "360/360 [==============================] - 1s 3ms/step - loss: 0.0000e+00 - accuracy: 0.1072\n",
      "Epoch 8/20\n",
      "360/360 [==============================] - 1s 3ms/step - loss: 0.0000e+00 - accuracy: 0.1072\n",
      "Epoch 9/20\n",
      "360/360 [==============================] - 1s 2ms/step - loss: 0.0000e+00 - accuracy: 0.1072\n",
      "Epoch 10/20\n",
      "360/360 [==============================] - 1s 3ms/step - loss: 0.0000e+00 - accuracy: 0.1072\n",
      "Epoch 11/20\n",
      "360/360 [==============================] - 1s 2ms/step - loss: 0.0000e+00 - accuracy: 0.1072\n",
      "Epoch 12/20\n",
      "360/360 [==============================] - 1s 3ms/step - loss: 0.0000e+00 - accuracy: 0.1072\n",
      "Epoch 13/20\n",
      "360/360 [==============================] - 1s 3ms/step - loss: 0.0000e+00 - accuracy: 0.1072\n",
      "Epoch 14/20\n",
      "360/360 [==============================] - 1s 3ms/step - loss: 0.0000e+00 - accuracy: 0.1072\n",
      "Epoch 15/20\n",
      "360/360 [==============================] - 1s 4ms/step - loss: 0.0000e+00 - accuracy: 0.1072\n",
      "Epoch 16/20\n",
      "360/360 [==============================] - 1s 3ms/step - loss: 0.0000e+00 - accuracy: 0.1072\n",
      "Epoch 17/20\n",
      "360/360 [==============================] - 1s 2ms/step - loss: 0.0000e+00 - accuracy: 0.1072\n",
      "Epoch 18/20\n",
      "360/360 [==============================] - 1s 2ms/step - loss: 0.0000e+00 - accuracy: 0.1072\n",
      "Epoch 19/20\n",
      "360/360 [==============================] - 1s 2ms/step - loss: 0.0000e+00 - accuracy: 0.1072\n",
      "Epoch 20/20\n",
      "360/360 [==============================] - 1s 2ms/step - loss: 0.0000e+00 - accuracy: 0.1072\n"
     ]
    },
    {
     "data": {
      "text/plain": [
       "<keras.callbacks.History at 0x7f2d5daf0850>"
      ]
     },
     "execution_count": 698,
     "metadata": {},
     "output_type": "execute_result"
    }
   ],
   "source": [
    "model2.fit(X_train, y_train, epochs=20, batch_size=4)"
   ]
  },
  {
   "cell_type": "code",
   "execution_count": 699,
   "id": "a81af51e",
   "metadata": {},
   "outputs": [
    {
     "name": "stdout",
     "output_type": "stream",
     "text": [
      "12/12 [==============================] - 0s 1ms/step - loss: 0.0000e+00 - accuracy: 0.0778\n",
      "test set loss 0.0\n",
      "test set accuracy 0.07777778059244156\n"
     ]
    }
   ],
   "source": [
    "loss_result, accuracy_result = model2.evaluate(X_test,y_test)\n",
    "print(\"test set loss\", loss_result)\n",
    "print(\"test set accuracy\", accuracy_result)"
   ]
  },
  {
   "cell_type": "code",
   "execution_count": 700,
   "id": "d33163ef",
   "metadata": {},
   "outputs": [],
   "source": [
    "y_pred = model2.predict(X_test)\n",
    "y_pred_class = np.argmax(y_pred,axis=1)"
   ]
  },
  {
   "cell_type": "code",
   "execution_count": 701,
   "id": "b06252de",
   "metadata": {},
   "outputs": [
    {
     "name": "stdout",
     "output_type": "stream",
     "text": [
      "              precision    recall  f1-score   support\n",
      "\n",
      "           0       0.09      1.00      0.17        33\n",
      "           1       0.00      0.00      0.00        28\n",
      "           2       0.00      0.00      0.00        33\n",
      "           3       0.00      0.00      0.00        34\n",
      "           4       0.00      0.00      0.00        46\n",
      "           5       0.00      0.00      0.00        47\n",
      "           6       0.00      0.00      0.00        35\n",
      "           7       0.00      0.00      0.00        34\n",
      "           8       0.00      0.00      0.00        30\n",
      "           9       0.00      0.00      0.00        40\n",
      "\n",
      "    accuracy                           0.09       360\n",
      "   macro avg       0.01      0.10      0.02       360\n",
      "weighted avg       0.01      0.09      0.02       360\n",
      "\n"
     ]
    }
   ],
   "source": [
    "print(classification_report(y_test,y_pred_class))"
   ]
  },
  {
   "cell_type": "markdown",
   "id": "4de1dbbf",
   "metadata": {},
   "source": [
    "## Face data set"
   ]
  },
  {
   "cell_type": "code",
   "execution_count": 704,
   "id": "f149c650",
   "metadata": {},
   "outputs": [
    {
     "data": {
      "text/plain": [
       "(400, 4096)"
      ]
     },
     "execution_count": 704,
     "metadata": {},
     "output_type": "execute_result"
    }
   ],
   "source": [
    "#load dataset\n",
    "faceData = fetch_olivetti_faces()\n",
    "X_face = faceData.data\n",
    "y_face = faceData.target.reshape(-1, 1)\n",
    "input_shape = X_face[0].shape\n",
    "X_face.shape"
   ]
  },
  {
   "cell_type": "code",
   "execution_count": 705,
   "id": "d2827fd6",
   "metadata": {},
   "outputs": [
    {
     "data": {
      "image/png": "[encoded data removed]",
      "text/plain": [
       "<Figure size 432x288 with 1 Axes>"
      ]
     },
     "metadata": {
      "needs_background": "light"
     },
     "output_type": "display_data"
    },
    {
     "data": {
      "image/png": "[encoded data removed]",
      "text/plain": [
       "<Figure size 432x288 with 1 Axes>"
      ]
     },
     "metadata": {
      "needs_background": "light"
     },
     "output_type": "display_data"
    },
    {
     "data": {
      "image/png": "[encoded data removed]",
      "text/plain": [
       "<Figure size 432x288 with 1 Axes>"
      ]
     },
     "metadata": {
      "needs_background": "light"
     },
     "output_type": "display_data"
    },
    {
     "data": {
      "image/png": "[encoded data removed]",
      "text/plain": [
       "<Figure size 432x288 with 1 Axes>"
      ]
     },
     "metadata": {
      "needs_background": "light"
     },
     "output_type": "display_data"
    },
    {
     "data": {
      "image/png": "[encoded data removed]",
      "text/plain": [
       "<Figure size 432x288 with 1 Axes>"
      ]
     },
     "metadata": {
      "needs_background": "light"
     },
     "output_type": "display_data"
    },
    {
     "data": {
      "image/png": "[encoded data removed]",
      "text/plain": [
       "<Figure size 432x288 with 1 Axes>"
      ]
     },
     "metadata": {
      "needs_background": "light"
     },
     "output_type": "display_data"
    },
    {
     "data": {
      "image/png": "[encoded data removed]",
      "text/plain": [
       "<Figure size 432x288 with 1 Axes>"
      ]
     },
     "metadata": {
      "needs_background": "light"
     },
     "output_type": "display_data"
    },
    {
     "data": {
      "image/png": "[encoded data removed]",
      "text/plain": [
       "<Figure size 432x288 with 1 Axes>"
      ]
     },
     "metadata": {
      "needs_background": "light"
     },
     "output_type": "display_data"
    },
    {
     "data": {
      "image/png": "[encoded data removed]",
      "text/plain": [
       "<Figure size 432x288 with 1 Axes>"
      ]
     },
     "metadata": {
      "needs_background": "light"
     },
     "output_type": "display_data"
    },
    {
     "data": {
      "image/png": "[encoded data removed]",
      "text/plain": [
       "<Figure size 432x288 with 1 Axes>"
      ]
     },
     "metadata": {
      "needs_background": "light"
     },
     "output_type": "display_data"
    }
   ],
   "source": [
    "#plot the first 10 images\n",
    "for i in range(10):\n",
    "  plt.imshow(faceData.images[i], cmap=plt.get_cmap('gray'))\n",
    "  plt.show()"
   ]
  },
  {
   "cell_type": "code",
   "execution_count": 706,
   "id": "73272250",
   "metadata": {},
   "outputs": [],
   "source": [
    "#slpit dataset to train and test data\n",
    "X_train, X_test, y_train, y_test = train_test_split(X_face, y_face, test_size=0.2, random_state=42)"
   ]
  },
  {
   "cell_type": "code",
   "execution_count": 708,
   "id": "9d3e2425",
   "metadata": {},
   "outputs": [
    {
     "name": "stdout",
     "output_type": "stream",
     "text": [
      "Epoch 1/20\n",
      "32/32 [==============================] - 1s 29ms/step - loss: 5.9450 - accuracy: 0.0250\n",
      "Epoch 2/20\n",
      "32/32 [==============================] - 1s 27ms/step - loss: 3.7084 - accuracy: 0.0500\n",
      "Epoch 3/20\n",
      "32/32 [==============================] - 1s 31ms/step - loss: 3.5446 - accuracy: 0.0875\n",
      "Epoch 4/20\n",
      "32/32 [==============================] - 1s 30ms/step - loss: 3.4587 - accuracy: 0.1000\n",
      "Epoch 5/20\n",
      "32/32 [==============================] - 1s 28ms/step - loss: 3.3007 - accuracy: 0.1219\n",
      "Epoch 6/20\n",
      "32/32 [==============================] - 1s 26ms/step - loss: 3.1779 - accuracy: 0.1656\n",
      "Epoch 7/20\n",
      "32/32 [==============================] - 1s 29ms/step - loss: 3.0754 - accuracy: 0.1750\n",
      "Epoch 8/20\n",
      "32/32 [==============================] - 1s 29ms/step - loss: 2.8659 - accuracy: 0.2219\n",
      "Epoch 9/20\n",
      "32/32 [==============================] - 1s 27ms/step - loss: 2.7071 - accuracy: 0.3063\n",
      "Epoch 10/20\n",
      "32/32 [==============================] - 1s 27ms/step - loss: 2.5005 - accuracy: 0.3688\n",
      "Epoch 11/20\n",
      "32/32 [==============================] - 1s 27ms/step - loss: 2.3468 - accuracy: 0.4187\n",
      "Epoch 12/20\n",
      "32/32 [==============================] - 1s 36ms/step - loss: 2.1566 - accuracy: 0.5375\n",
      "Epoch 13/20\n",
      "32/32 [==============================] - 1s 39ms/step - loss: 1.9885 - accuracy: 0.5562\n",
      "Epoch 14/20\n",
      "32/32 [==============================] - 1s 29ms/step - loss: 1.7990 - accuracy: 0.6031\n",
      "Epoch 15/20\n",
      "32/32 [==============================] - 1s 27ms/step - loss: 1.6936 - accuracy: 0.6281\n",
      "Epoch 16/20\n",
      "32/32 [==============================] - 1s 31ms/step - loss: 1.5499 - accuracy: 0.6875\n",
      "Epoch 17/20\n",
      "32/32 [==============================] - 1s 27ms/step - loss: 1.4229 - accuracy: 0.6969\n",
      "Epoch 18/20\n",
      "32/32 [==============================] - 1s 27ms/step - loss: 1.2686 - accuracy: 0.7906\n",
      "Epoch 19/20\n",
      "32/32 [==============================] - 1s 28ms/step - loss: 1.1632 - accuracy: 0.7688\n",
      "Epoch 20/20\n",
      "32/32 [==============================] - 1s 27ms/step - loss: 1.1033 - accuracy: 0.8000\n"
     ]
    },
    {
     "data": {
      "text/plain": [
       "<keras.callbacks.History at 0x7f2d4fd5a610>"
      ]
     },
     "execution_count": 708,
     "metadata": {},
     "output_type": "execute_result"
    }
   ],
   "source": [
    "model = Sequential()\n",
    "model.add(Dense(1024, input_shape=input_shape, activation ='relu'))\n",
    "model.add(Dense(40, activation = \"softmax\" ))\n",
    "model.compile(loss='sparse_categorical_crossentropy', optimizer='adam', metrics=['accuracy'])\n",
    "model.fit(X_train, y_train, epochs=20, batch_size=10)"
   ]
  },
  {
   "cell_type": "code",
   "execution_count": 709,
   "id": "ca3fe153",
   "metadata": {},
   "outputs": [
    {
     "name": "stdout",
     "output_type": "stream",
     "text": [
      "3/3 [==============================] - 0s 19ms/step - loss: 1.5348 - accuracy: 0.6625\n",
      "test set loss 1.5347909927368164\n",
      "test set accuracy 0.6625000238418579\n"
     ]
    }
   ],
   "source": [
    "loss_result, accuracy_result = model.evaluate(X_test,y_test)\n",
    "print(\"test set loss\", loss_result)\n",
    "print(\"test set accuracy\", accuracy_result)"
   ]
  },
  {
   "cell_type": "markdown",
   "id": "a5901c63",
   "metadata": {},
   "source": [
    "This model achieved an accuracy of 66,25% which is bigger than 30%.\n",
    "This model is composed of 2 layers. The first layer is composed of 1024 neurones and uses relu as activation function. The second layer is composed of 40 neurones and uses softmax as activation function.\n",
    "The loss function used is sparse_categorical_crossentropy.\n",
    "The optimizer used is 'adam'."
   ]
  },
  {
   "cell_type": "code",
   "execution_count": null,
   "id": "0a1dfc5f",
   "metadata": {},
   "outputs": [],
   "source": []
  }
 ],
 "metadata": {
  "kernelspec": {
   "display_name": "Python 3 (ipykernel)",
   "language": "python",
   "name": "python3"
  },
  "language_info": {
   "codemirror_mode": {
    "name": "ipython",
    "version": 3
   },
   "file_extension": ".py",
   "mimetype": "text/x-python",
   "name": "python",
   "nbconvert_exporter": "python",
   "pygments_lexer": "ipython3",
   "version": "3.8.10"
  }
 },
 "nbformat": 4,
 "nbformat_minor": 5
}
