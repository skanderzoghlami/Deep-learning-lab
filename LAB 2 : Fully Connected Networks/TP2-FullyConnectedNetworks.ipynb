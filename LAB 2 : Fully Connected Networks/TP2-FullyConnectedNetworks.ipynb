{
 "cells": [
  {
   "cell_type": "markdown",
   "metadata": {},
   "source": [
    "# Deep learning Practical Assignment #2\n",
    "### Realised by : Imene Chaâri , Achraf Fares & Aycha Cherif\n",
    "####  "
   ]
  },
  {
   "cell_type": "markdown",
   "metadata": {
    "id": "-BoGGGk6bQsM"
   },
   "source": [
    "# Fully connected networks"
   ]
  },
  {
   "cell_type": "code",
   "execution_count": 1,
   "metadata": {
    "colab": {
     "base_uri": "https://localhost:8080/"
    },
    "id": "7Xu-Kk6pM4Jj",
    "outputId": "19cccb76-649e-4a92-ce5f-f8a5c6d4b06e"
   },
   "outputs": [
    {
     "name": "stdout",
     "output_type": "stream",
     "text": [
      "Requirement already up-to-date: scikit-learn in c:\\users\\imene\\anaconda3\\lib\\site-packages (1.0.1)\n",
      "Requirement already satisfied, skipping upgrade: scipy>=1.1.0 in c:\\users\\imene\\anaconda3\\lib\\site-packages (from scikit-learn) (1.5.2)\n",
      "Requirement already satisfied, skipping upgrade: joblib>=0.11 in c:\\users\\imene\\anaconda3\\lib\\site-packages (from scikit-learn) (0.17.0)\n",
      "Requirement already satisfied, skipping upgrade: threadpoolctl>=2.0.0 in c:\\users\\imene\\anaconda3\\lib\\site-packages (from scikit-learn) (2.1.0)\n",
      "Requirement already satisfied, skipping upgrade: numpy>=1.14.6 in c:\\users\\imene\\anaconda3\\lib\\site-packages (from scikit-learn) (1.19.2)\n",
      "Requirement already satisfied: tensorflow in c:\\users\\imene\\anaconda3\\lib\\site-packages (2.6.0)\n",
      "Requirement already satisfied: protobuf>=3.9.2 in c:\\users\\imene\\anaconda3\\lib\\site-packages (from tensorflow) (3.18.1)\n",
      "Requirement already satisfied: h5py~=3.1.0 in c:\\users\\imene\\anaconda3\\lib\\site-packages (from tensorflow) (3.1.0)\n",
      "Requirement already satisfied: wrapt~=1.12.1 in c:\\users\\imene\\anaconda3\\lib\\site-packages (from tensorflow) (1.12.1)\n",
      "Requirement already satisfied: absl-py~=0.10 in c:\\users\\imene\\anaconda3\\lib\\site-packages (from tensorflow) (0.14.1)\n",
      "Requirement already satisfied: tensorboard~=2.6 in c:\\users\\imene\\anaconda3\\lib\\site-packages (from tensorflow) (2.6.0)\n",
      "Requirement already satisfied: wheel~=0.35 in c:\\users\\imene\\anaconda3\\lib\\site-packages (from tensorflow) (0.35.1)\n",
      "Requirement already satisfied: gast==0.4.0 in c:\\users\\imene\\anaconda3\\lib\\site-packages (from tensorflow) (0.4.0)\n",
      "Requirement already satisfied: keras~=2.6 in c:\\users\\imene\\anaconda3\\lib\\site-packages (from tensorflow) (2.6.0)\n",
      "Requirement already satisfied: termcolor~=1.1.0 in c:\\users\\imene\\anaconda3\\lib\\site-packages (from tensorflow) (1.1.0)\n",
      "Requirement already satisfied: clang~=5.0 in c:\\users\\imene\\anaconda3\\lib\\site-packages (from tensorflow) (5.0)\n",
      "Requirement already satisfied: flatbuffers~=1.12.0 in c:\\users\\imene\\anaconda3\\lib\\site-packages (from tensorflow) (1.12)\n",
      "Requirement already satisfied: astunparse~=1.6.3 in c:\\users\\imene\\anaconda3\\lib\\site-packages (from tensorflow) (1.6.3)\n",
      "Requirement already satisfied: six~=1.15.0 in c:\\users\\imene\\anaconda3\\lib\\site-packages (from tensorflow) (1.15.0)\n",
      "Requirement already satisfied: typing-extensions~=3.7.4 in c:\\users\\imene\\anaconda3\\lib\\site-packages (from tensorflow) (3.7.4.3)\n",
      "Requirement already satisfied: tensorflow-estimator~=2.6 in c:\\users\\imene\\anaconda3\\lib\\site-packages (from tensorflow) (2.6.0)\n",
      "Requirement already satisfied: opt-einsum~=3.3.0 in c:\\users\\imene\\anaconda3\\lib\\site-packages (from tensorflow) (3.3.0)\n",
      "Requirement already satisfied: numpy~=1.19.2 in c:\\users\\imene\\anaconda3\\lib\\site-packages (from tensorflow) (1.19.2)\n",
      "Requirement already satisfied: google-pasta~=0.2 in c:\\users\\imene\\anaconda3\\lib\\site-packages (from tensorflow) (0.2.0)\n",
      "Requirement already satisfied: keras-preprocessing~=1.1.2 in c:\\users\\imene\\anaconda3\\lib\\site-packages (from tensorflow) (1.1.2)\n",
      "Requirement already satisfied: grpcio<2.0,>=1.37.0 in c:\\users\\imene\\anaconda3\\lib\\site-packages (from tensorflow) (1.41.0)\n",
      "Requirement already satisfied: google-auth-oauthlib<0.5,>=0.4.1 in c:\\users\\imene\\anaconda3\\lib\\site-packages (from tensorboard~=2.6->tensorflow) (0.4.6)\n",
      "Requirement already satisfied: markdown>=2.6.8 in c:\\users\\imene\\anaconda3\\lib\\site-packages (from tensorboard~=2.6->tensorflow) (3.3.4)\n",
      "Requirement already satisfied: tensorboard-plugin-wit>=1.6.0 in c:\\users\\imene\\anaconda3\\lib\\site-packages (from tensorboard~=2.6->tensorflow) (1.8.0)\n",
      "Requirement already satisfied: werkzeug>=0.11.15 in c:\\users\\imene\\anaconda3\\lib\\site-packages (from tensorboard~=2.6->tensorflow) (1.0.1)\n",
      "Requirement already satisfied: setuptools>=41.0.0 in c:\\users\\imene\\anaconda3\\lib\\site-packages (from tensorboard~=2.6->tensorflow) (50.3.1.post20201107)\n",
      "Requirement already satisfied: requests<3,>=2.21.0 in c:\\users\\imene\\anaconda3\\lib\\site-packages (from tensorboard~=2.6->tensorflow) (2.24.0)\n",
      "Requirement already satisfied: google-auth<2,>=1.6.3 in c:\\users\\imene\\anaconda3\\lib\\site-packages (from tensorboard~=2.6->tensorflow) (1.35.0)\n",
      "Requirement already satisfied: tensorboard-data-server<0.7.0,>=0.6.0 in c:\\users\\imene\\anaconda3\\lib\\site-packages (from tensorboard~=2.6->tensorflow) (0.6.1)\n",
      "Requirement already satisfied: requests-oauthlib>=0.7.0 in c:\\users\\imene\\anaconda3\\lib\\site-packages (from google-auth-oauthlib<0.5,>=0.4.1->tensorboard~=2.6->tensorflow) (1.3.0)\n",
      "Requirement already satisfied: chardet<4,>=3.0.2 in c:\\users\\imene\\anaconda3\\lib\\site-packages (from requests<3,>=2.21.0->tensorboard~=2.6->tensorflow) (3.0.4)\n",
      "Requirement already satisfied: idna<3,>=2.5 in c:\\users\\imene\\anaconda3\\lib\\site-packages (from requests<3,>=2.21.0->tensorboard~=2.6->tensorflow) (2.10)\n",
      "Requirement already satisfied: certifi>=2017.4.17 in c:\\users\\imene\\anaconda3\\lib\\site-packages (from requests<3,>=2.21.0->tensorboard~=2.6->tensorflow) (2020.6.20)\n",
      "Requirement already satisfied: urllib3!=1.25.0,!=1.25.1,<1.26,>=1.21.1 in c:\\users\\imene\\anaconda3\\lib\\site-packages (from requests<3,>=2.21.0->tensorboard~=2.6->tensorflow) (1.25.11)\n",
      "Requirement already satisfied: rsa<5,>=3.1.4; python_version >= \"3.6\" in c:\\users\\imene\\anaconda3\\lib\\site-packages (from google-auth<2,>=1.6.3->tensorboard~=2.6->tensorflow) (4.7.2)\n",
      "Requirement already satisfied: pyasn1-modules>=0.2.1 in c:\\users\\imene\\anaconda3\\lib\\site-packages (from google-auth<2,>=1.6.3->tensorboard~=2.6->tensorflow) (0.2.8)\n",
      "Requirement already satisfied: cachetools<5.0,>=2.0.0 in c:\\users\\imene\\anaconda3\\lib\\site-packages (from google-auth<2,>=1.6.3->tensorboard~=2.6->tensorflow) (4.2.4)\n",
      "Requirement already satisfied: oauthlib>=3.0.0 in c:\\users\\imene\\anaconda3\\lib\\site-packages (from requests-oauthlib>=0.7.0->google-auth-oauthlib<0.5,>=0.4.1->tensorboard~=2.6->tensorflow) (3.1.1)\n",
      "Requirement already satisfied: pyasn1>=0.1.3 in c:\\users\\imene\\anaconda3\\lib\\site-packages (from rsa<5,>=3.1.4; python_version >= \"3.6\"->google-auth<2,>=1.6.3->tensorboard~=2.6->tensorflow) (0.4.8)\n"
     ]
    }
   ],
   "source": [
    "!pip install -U scikit-learn\n",
    "!pip install tensorflow"
   ]
  },
  {
   "cell_type": "markdown",
   "metadata": {
    "id": "4yL4qVuNVCDe"
   },
   "source": [
    "# Load the iris dataset\n"
   ]
  },
  {
   "cell_type": "code",
   "execution_count": 2,
   "metadata": {
    "id": "J2EPJwx_NR6-"
   },
   "outputs": [],
   "source": [
    "from sklearn.datasets import load_iris\n",
    "import pandas as pd\n",
    "X,y = load_iris(return_X_y=True)"
   ]
  },
  {
   "cell_type": "code",
   "execution_count": 3,
   "metadata": {
    "colab": {
     "base_uri": "https://localhost:8080/"
    },
    "id": "u0e0vFzANhNe",
    "outputId": "90106872-d069-4cad-8bec-ff1f2afea159"
   },
   "outputs": [
    {
     "data": {
      "text/plain": [
       "array([[5.1, 3.5, 1.4, 0.2],\n",
       "       [4.9, 3. , 1.4, 0.2],\n",
       "       [4.7, 3.2, 1.3, 0.2],\n",
       "       [4.6, 3.1, 1.5, 0.2],\n",
       "       [5. , 3.6, 1.4, 0.2],\n",
       "       [5.4, 3.9, 1.7, 0.4],\n",
       "       [4.6, 3.4, 1.4, 0.3],\n",
       "       [5. , 3.4, 1.5, 0.2],\n",
       "       [4.4, 2.9, 1.4, 0.2],\n",
       "       [4.9, 3.1, 1.5, 0.1],\n",
       "       [5.4, 3.7, 1.5, 0.2],\n",
       "       [4.8, 3.4, 1.6, 0.2],\n",
       "       [4.8, 3. , 1.4, 0.1],\n",
       "       [4.3, 3. , 1.1, 0.1],\n",
       "       [5.8, 4. , 1.2, 0.2],\n",
       "       [5.7, 4.4, 1.5, 0.4],\n",
       "       [5.4, 3.9, 1.3, 0.4],\n",
       "       [5.1, 3.5, 1.4, 0.3],\n",
       "       [5.7, 3.8, 1.7, 0.3],\n",
       "       [5.1, 3.8, 1.5, 0.3],\n",
       "       [5.4, 3.4, 1.7, 0.2],\n",
       "       [5.1, 3.7, 1.5, 0.4],\n",
       "       [4.6, 3.6, 1. , 0.2],\n",
       "       [5.1, 3.3, 1.7, 0.5],\n",
       "       [4.8, 3.4, 1.9, 0.2],\n",
       "       [5. , 3. , 1.6, 0.2],\n",
       "       [5. , 3.4, 1.6, 0.4],\n",
       "       [5.2, 3.5, 1.5, 0.2],\n",
       "       [5.2, 3.4, 1.4, 0.2],\n",
       "       [4.7, 3.2, 1.6, 0.2],\n",
       "       [4.8, 3.1, 1.6, 0.2],\n",
       "       [5.4, 3.4, 1.5, 0.4],\n",
       "       [5.2, 4.1, 1.5, 0.1],\n",
       "       [5.5, 4.2, 1.4, 0.2],\n",
       "       [4.9, 3.1, 1.5, 0.2],\n",
       "       [5. , 3.2, 1.2, 0.2],\n",
       "       [5.5, 3.5, 1.3, 0.2],\n",
       "       [4.9, 3.6, 1.4, 0.1],\n",
       "       [4.4, 3. , 1.3, 0.2],\n",
       "       [5.1, 3.4, 1.5, 0.2],\n",
       "       [5. , 3.5, 1.3, 0.3],\n",
       "       [4.5, 2.3, 1.3, 0.3],\n",
       "       [4.4, 3.2, 1.3, 0.2],\n",
       "       [5. , 3.5, 1.6, 0.6],\n",
       "       [5.1, 3.8, 1.9, 0.4],\n",
       "       [4.8, 3. , 1.4, 0.3],\n",
       "       [5.1, 3.8, 1.6, 0.2],\n",
       "       [4.6, 3.2, 1.4, 0.2],\n",
       "       [5.3, 3.7, 1.5, 0.2],\n",
       "       [5. , 3.3, 1.4, 0.2],\n",
       "       [7. , 3.2, 4.7, 1.4],\n",
       "       [6.4, 3.2, 4.5, 1.5],\n",
       "       [6.9, 3.1, 4.9, 1.5],\n",
       "       [5.5, 2.3, 4. , 1.3],\n",
       "       [6.5, 2.8, 4.6, 1.5],\n",
       "       [5.7, 2.8, 4.5, 1.3],\n",
       "       [6.3, 3.3, 4.7, 1.6],\n",
       "       [4.9, 2.4, 3.3, 1. ],\n",
       "       [6.6, 2.9, 4.6, 1.3],\n",
       "       [5.2, 2.7, 3.9, 1.4],\n",
       "       [5. , 2. , 3.5, 1. ],\n",
       "       [5.9, 3. , 4.2, 1.5],\n",
       "       [6. , 2.2, 4. , 1. ],\n",
       "       [6.1, 2.9, 4.7, 1.4],\n",
       "       [5.6, 2.9, 3.6, 1.3],\n",
       "       [6.7, 3.1, 4.4, 1.4],\n",
       "       [5.6, 3. , 4.5, 1.5],\n",
       "       [5.8, 2.7, 4.1, 1. ],\n",
       "       [6.2, 2.2, 4.5, 1.5],\n",
       "       [5.6, 2.5, 3.9, 1.1],\n",
       "       [5.9, 3.2, 4.8, 1.8],\n",
       "       [6.1, 2.8, 4. , 1.3],\n",
       "       [6.3, 2.5, 4.9, 1.5],\n",
       "       [6.1, 2.8, 4.7, 1.2],\n",
       "       [6.4, 2.9, 4.3, 1.3],\n",
       "       [6.6, 3. , 4.4, 1.4],\n",
       "       [6.8, 2.8, 4.8, 1.4],\n",
       "       [6.7, 3. , 5. , 1.7],\n",
       "       [6. , 2.9, 4.5, 1.5],\n",
       "       [5.7, 2.6, 3.5, 1. ],\n",
       "       [5.5, 2.4, 3.8, 1.1],\n",
       "       [5.5, 2.4, 3.7, 1. ],\n",
       "       [5.8, 2.7, 3.9, 1.2],\n",
       "       [6. , 2.7, 5.1, 1.6],\n",
       "       [5.4, 3. , 4.5, 1.5],\n",
       "       [6. , 3.4, 4.5, 1.6],\n",
       "       [6.7, 3.1, 4.7, 1.5],\n",
       "       [6.3, 2.3, 4.4, 1.3],\n",
       "       [5.6, 3. , 4.1, 1.3],\n",
       "       [5.5, 2.5, 4. , 1.3],\n",
       "       [5.5, 2.6, 4.4, 1.2],\n",
       "       [6.1, 3. , 4.6, 1.4],\n",
       "       [5.8, 2.6, 4. , 1.2],\n",
       "       [5. , 2.3, 3.3, 1. ],\n",
       "       [5.6, 2.7, 4.2, 1.3],\n",
       "       [5.7, 3. , 4.2, 1.2],\n",
       "       [5.7, 2.9, 4.2, 1.3],\n",
       "       [6.2, 2.9, 4.3, 1.3],\n",
       "       [5.1, 2.5, 3. , 1.1],\n",
       "       [5.7, 2.8, 4.1, 1.3],\n",
       "       [6.3, 3.3, 6. , 2.5],\n",
       "       [5.8, 2.7, 5.1, 1.9],\n",
       "       [7.1, 3. , 5.9, 2.1],\n",
       "       [6.3, 2.9, 5.6, 1.8],\n",
       "       [6.5, 3. , 5.8, 2.2],\n",
       "       [7.6, 3. , 6.6, 2.1],\n",
       "       [4.9, 2.5, 4.5, 1.7],\n",
       "       [7.3, 2.9, 6.3, 1.8],\n",
       "       [6.7, 2.5, 5.8, 1.8],\n",
       "       [7.2, 3.6, 6.1, 2.5],\n",
       "       [6.5, 3.2, 5.1, 2. ],\n",
       "       [6.4, 2.7, 5.3, 1.9],\n",
       "       [6.8, 3. , 5.5, 2.1],\n",
       "       [5.7, 2.5, 5. , 2. ],\n",
       "       [5.8, 2.8, 5.1, 2.4],\n",
       "       [6.4, 3.2, 5.3, 2.3],\n",
       "       [6.5, 3. , 5.5, 1.8],\n",
       "       [7.7, 3.8, 6.7, 2.2],\n",
       "       [7.7, 2.6, 6.9, 2.3],\n",
       "       [6. , 2.2, 5. , 1.5],\n",
       "       [6.9, 3.2, 5.7, 2.3],\n",
       "       [5.6, 2.8, 4.9, 2. ],\n",
       "       [7.7, 2.8, 6.7, 2. ],\n",
       "       [6.3, 2.7, 4.9, 1.8],\n",
       "       [6.7, 3.3, 5.7, 2.1],\n",
       "       [7.2, 3.2, 6. , 1.8],\n",
       "       [6.2, 2.8, 4.8, 1.8],\n",
       "       [6.1, 3. , 4.9, 1.8],\n",
       "       [6.4, 2.8, 5.6, 2.1],\n",
       "       [7.2, 3. , 5.8, 1.6],\n",
       "       [7.4, 2.8, 6.1, 1.9],\n",
       "       [7.9, 3.8, 6.4, 2. ],\n",
       "       [6.4, 2.8, 5.6, 2.2],\n",
       "       [6.3, 2.8, 5.1, 1.5],\n",
       "       [6.1, 2.6, 5.6, 1.4],\n",
       "       [7.7, 3. , 6.1, 2.3],\n",
       "       [6.3, 3.4, 5.6, 2.4],\n",
       "       [6.4, 3.1, 5.5, 1.8],\n",
       "       [6. , 3. , 4.8, 1.8],\n",
       "       [6.9, 3.1, 5.4, 2.1],\n",
       "       [6.7, 3.1, 5.6, 2.4],\n",
       "       [6.9, 3.1, 5.1, 2.3],\n",
       "       [5.8, 2.7, 5.1, 1.9],\n",
       "       [6.8, 3.2, 5.9, 2.3],\n",
       "       [6.7, 3.3, 5.7, 2.5],\n",
       "       [6.7, 3. , 5.2, 2.3],\n",
       "       [6.3, 2.5, 5. , 1.9],\n",
       "       [6.5, 3. , 5.2, 2. ],\n",
       "       [6.2, 3.4, 5.4, 2.3],\n",
       "       [5.9, 3. , 5.1, 1.8]])"
      ]
     },
     "execution_count": 3,
     "metadata": {},
     "output_type": "execute_result"
    }
   ],
   "source": [
    "X"
   ]
  },
  {
   "cell_type": "code",
   "execution_count": 4,
   "metadata": {
    "colab": {
     "base_uri": "https://localhost:8080/"
    },
    "id": "rKbKOzBONiRB",
    "outputId": "37666d4f-9e2c-4eda-caf1-50056923678a"
   },
   "outputs": [
    {
     "data": {
      "text/plain": [
       "150"
      ]
     },
     "execution_count": 4,
     "metadata": {},
     "output_type": "execute_result"
    }
   ],
   "source": [
    "len(X)"
   ]
  },
  {
   "cell_type": "code",
   "execution_count": 5,
   "metadata": {
    "colab": {
     "base_uri": "https://localhost:8080/"
    },
    "id": "qIy7l69HNvE0",
    "outputId": "704ec231-e5d6-4a48-a50f-dd83112039ab"
   },
   "outputs": [
    {
     "data": {
      "text/plain": [
       "array([0, 0, 0, 0, 0, 0, 0, 0, 0, 0, 0, 0, 0, 0, 0, 0, 0, 0, 0, 0, 0, 0,\n",
       "       0, 0, 0, 0, 0, 0, 0, 0, 0, 0, 0, 0, 0, 0, 0, 0, 0, 0, 0, 0, 0, 0,\n",
       "       0, 0, 0, 0, 0, 0, 1, 1, 1, 1, 1, 1, 1, 1, 1, 1, 1, 1, 1, 1, 1, 1,\n",
       "       1, 1, 1, 1, 1, 1, 1, 1, 1, 1, 1, 1, 1, 1, 1, 1, 1, 1, 1, 1, 1, 1,\n",
       "       1, 1, 1, 1, 1, 1, 1, 1, 1, 1, 1, 1, 2, 2, 2, 2, 2, 2, 2, 2, 2, 2,\n",
       "       2, 2, 2, 2, 2, 2, 2, 2, 2, 2, 2, 2, 2, 2, 2, 2, 2, 2, 2, 2, 2, 2,\n",
       "       2, 2, 2, 2, 2, 2, 2, 2, 2, 2, 2, 2, 2, 2, 2, 2, 2, 2])"
      ]
     },
     "execution_count": 5,
     "metadata": {},
     "output_type": "execute_result"
    }
   ],
   "source": [
    "y"
   ]
  },
  {
   "cell_type": "code",
   "execution_count": 6,
   "metadata": {
    "colab": {
     "base_uri": "https://localhost:8080/"
    },
    "id": "LhVjmTOZGmvD",
    "outputId": "d0ab06fd-9fdd-450c-837e-f3cf6c42f67a"
   },
   "outputs": [
    {
     "data": {
      "text/plain": [
       "150"
      ]
     },
     "execution_count": 6,
     "metadata": {},
     "output_type": "execute_result"
    }
   ],
   "source": [
    "len(y)"
   ]
  },
  {
   "cell_type": "markdown",
   "metadata": {},
   "source": [
    "# Using Keras"
   ]
  },
  {
   "cell_type": "code",
   "execution_count": 3,
   "metadata": {
    "id": "fXod-GNYTNwC"
   },
   "outputs": [],
   "source": [
    "from tensorflow.keras.models import Sequential\n",
    "from tensorflow.keras.layers import Dense\n",
    "from sklearn.metrics import classification_report\n",
    "from sklearn.model_selection import train_test_split\n",
    "import numpy as np\n",
    "import pandas as pd"
   ]
  },
  {
   "cell_type": "markdown",
   "metadata": {
    "id": "1iIKHdXHVOoP"
   },
   "source": [
    "#### Convert target into one hot encoding"
   ]
  },
  {
   "cell_type": "markdown",
   "metadata": {},
   "source": [
    "One hot encoding is used to convert categorical data to binary integer data. In our case we already have integer labels, however using this representation and allowing the model to assume a natural ordering between categories may result in poor performance or unexpected results.\n",
    "\n",
    "In this case, a one-hot encoding can be applied to the integer representation. This is where the integer encoded variable is removed and a new binary variable is added for each unique integer value."
   ]
  },
  {
   "cell_type": "code",
   "execution_count": 8,
   "metadata": {
    "id": "4y367n6SVQfS"
   },
   "outputs": [],
   "source": [
    "Y = pd.get_dummies(y).values"
   ]
  },
  {
   "cell_type": "code",
   "execution_count": 9,
   "metadata": {
    "colab": {
     "base_uri": "https://localhost:8080/"
    },
    "id": "0_g0bMn2VWnq",
    "outputId": "594483cf-8fe8-44df-c56f-47c2354c92f6"
   },
   "outputs": [
    {
     "name": "stdout",
     "output_type": "stream",
     "text": [
      "[[1 0 0]\n",
      " [1 0 0]\n",
      " [1 0 0]\n",
      " [1 0 0]\n",
      " [1 0 0]]\n"
     ]
    }
   ],
   "source": [
    "print(Y[:5])"
   ]
  },
  {
   "cell_type": "code",
   "execution_count": 10,
   "metadata": {
    "id": "pLr7eY3xS4XO"
   },
   "outputs": [],
   "source": [
    "X_train, X_test, y_train, y_test  = train_test_split(X,Y,test_size=0.2,stratify=y,random_state=500)"
   ]
  },
  {
   "cell_type": "markdown",
   "metadata": {},
   "source": [
    "We will start experiencing with different models : number of layers and neurons in each layer, activation functions,etc... And we will evaluate each one of the models using different metrics: accuracy, recall,etc..."
   ]
  },
  {
   "cell_type": "markdown",
   "metadata": {},
   "source": [
    "#### Model n°1\n",
    "Number of hidden layers : 2\n",
    "\n",
    "Number of neurons in each layer : 10\n",
    "\n",
    "Activation functions: ReLu - Softmax\n"
   ]
  },
  {
   "cell_type": "code",
   "execution_count": 11,
   "metadata": {
    "id": "GB3c48efTO3n"
   },
   "outputs": [
    {
     "name": "stdout",
     "output_type": "stream",
     "text": [
      "Epoch 1/50\n",
      "22/22 [==============================] - 0s 6ms/step - loss: 1.7797 - accuracy: 0.3148 - val_loss: 1.1726 - val_accuracy: 0.5000\n",
      "Epoch 2/50\n",
      "22/22 [==============================] - 0s 1ms/step - loss: 1.1997 - accuracy: 0.3426 - val_loss: 1.2197 - val_accuracy: 0.2500\n",
      "Epoch 3/50\n",
      "22/22 [==============================] - 0s 1ms/step - loss: 1.1336 - accuracy: 0.3426 - val_loss: 1.2223 - val_accuracy: 0.2500\n",
      "Epoch 4/50\n",
      "22/22 [==============================] - 0s 1ms/step - loss: 1.0813 - accuracy: 0.3519 - val_loss: 1.1463 - val_accuracy: 0.2500\n",
      "Epoch 5/50\n",
      "22/22 [==============================] - 0s 1ms/step - loss: 1.0388 - accuracy: 0.3519 - val_loss: 1.1158 - val_accuracy: 0.2500\n",
      "Epoch 6/50\n",
      "22/22 [==============================] - 0s 1ms/step - loss: 0.9903 - accuracy: 0.3519 - val_loss: 1.0561 - val_accuracy: 0.4167\n",
      "Epoch 7/50\n",
      "22/22 [==============================] - 0s 1ms/step - loss: 0.9420 - accuracy: 0.5741 - val_loss: 1.0054 - val_accuracy: 0.5000\n",
      "Epoch 8/50\n",
      "22/22 [==============================] - 0s 1ms/step - loss: 0.8943 - accuracy: 0.6852 - val_loss: 0.9716 - val_accuracy: 0.5000\n",
      "Epoch 9/50\n",
      "22/22 [==============================] - 0s 1ms/step - loss: 0.8435 - accuracy: 0.6852 - val_loss: 0.9235 - val_accuracy: 0.5000\n",
      "Epoch 10/50\n",
      "22/22 [==============================] - 0s 1ms/step - loss: 0.7942 - accuracy: 0.6852 - val_loss: 0.8823 - val_accuracy: 0.5000\n",
      "Epoch 11/50\n",
      "22/22 [==============================] - 0s 1ms/step - loss: 0.7473 - accuracy: 0.6944 - val_loss: 0.8238 - val_accuracy: 0.5000\n",
      "Epoch 12/50\n",
      "22/22 [==============================] - 0s 1ms/step - loss: 0.7029 - accuracy: 0.7037 - val_loss: 0.8080 - val_accuracy: 0.5000\n",
      "Epoch 13/50\n",
      "22/22 [==============================] - 0s 1ms/step - loss: 0.6602 - accuracy: 0.7037 - val_loss: 0.7565 - val_accuracy: 0.5833\n",
      "Epoch 14/50\n",
      "22/22 [==============================] - 0s 1ms/step - loss: 0.6308 - accuracy: 0.7315 - val_loss: 0.7300 - val_accuracy: 0.5833\n",
      "Epoch 15/50\n",
      "22/22 [==============================] - 0s 1ms/step - loss: 0.5963 - accuracy: 0.7037 - val_loss: 0.7307 - val_accuracy: 0.5000\n",
      "Epoch 16/50\n",
      "22/22 [==============================] - 0s 1ms/step - loss: 0.5758 - accuracy: 0.7500 - val_loss: 0.6784 - val_accuracy: 0.5833\n",
      "Epoch 17/50\n",
      "22/22 [==============================] - 0s 1ms/step - loss: 0.5453 - accuracy: 0.7407 - val_loss: 0.6573 - val_accuracy: 0.5833\n",
      "Epoch 18/50\n",
      "22/22 [==============================] - 0s 1ms/step - loss: 0.5263 - accuracy: 0.7222 - val_loss: 0.6387 - val_accuracy: 0.5833\n",
      "Epoch 19/50\n",
      "22/22 [==============================] - 0s 1ms/step - loss: 0.5109 - accuracy: 0.7222 - val_loss: 0.6455 - val_accuracy: 0.5833\n",
      "Epoch 20/50\n",
      "22/22 [==============================] - 0s 1ms/step - loss: 0.4891 - accuracy: 0.7315 - val_loss: 0.5873 - val_accuracy: 0.7500\n",
      "Epoch 21/50\n",
      "22/22 [==============================] - 0s 997us/step - loss: 0.4795 - accuracy: 0.8981 - val_loss: 0.5656 - val_accuracy: 0.7500\n",
      "Epoch 22/50\n",
      "22/22 [==============================] - 0s 1ms/step - loss: 0.4694 - accuracy: 0.7870 - val_loss: 0.5894 - val_accuracy: 0.5833\n",
      "Epoch 23/50\n",
      "22/22 [==============================] - 0s 1ms/step - loss: 0.4473 - accuracy: 0.8611 - val_loss: 0.5521 - val_accuracy: 0.7500\n",
      "Epoch 24/50\n",
      "22/22 [==============================] - 0s 1ms/step - loss: 0.4365 - accuracy: 0.8981 - val_loss: 0.5562 - val_accuracy: 0.5833\n",
      "Epoch 25/50\n",
      "22/22 [==============================] - 0s 1ms/step - loss: 0.4287 - accuracy: 0.9167 - val_loss: 0.5195 - val_accuracy: 0.7500\n",
      "Epoch 26/50\n",
      "22/22 [==============================] - 0s 1ms/step - loss: 0.4205 - accuracy: 0.8241 - val_loss: 0.5317 - val_accuracy: 0.5833\n",
      "Epoch 27/50\n",
      "22/22 [==============================] - 0s 1ms/step - loss: 0.4001 - accuracy: 0.8796 - val_loss: 0.4897 - val_accuracy: 0.7500\n",
      "Epoch 28/50\n",
      "22/22 [==============================] - 0s 1ms/step - loss: 0.3922 - accuracy: 0.9259 - val_loss: 0.4707 - val_accuracy: 0.8333\n",
      "Epoch 29/50\n",
      "22/22 [==============================] - 0s 1ms/step - loss: 0.3771 - accuracy: 0.9444 - val_loss: 0.4820 - val_accuracy: 0.7500\n",
      "Epoch 30/50\n",
      "22/22 [==============================] - 0s 1ms/step - loss: 0.3646 - accuracy: 0.9074 - val_loss: 0.4467 - val_accuracy: 0.9167\n",
      "Epoch 31/50\n",
      "22/22 [==============================] - 0s 1ms/step - loss: 0.3489 - accuracy: 0.9537 - val_loss: 0.4340 - val_accuracy: 0.8333\n",
      "Epoch 32/50\n",
      "22/22 [==============================] - 0s 1ms/step - loss: 0.3286 - accuracy: 0.9630 - val_loss: 0.4443 - val_accuracy: 0.7500\n",
      "Epoch 33/50\n",
      "22/22 [==============================] - 0s 1ms/step - loss: 0.3119 - accuracy: 0.9537 - val_loss: 0.4173 - val_accuracy: 0.7500\n",
      "Epoch 34/50\n",
      "22/22 [==============================] - 0s 1ms/step - loss: 0.2955 - accuracy: 0.9537 - val_loss: 0.3754 - val_accuracy: 0.9167\n",
      "Epoch 35/50\n",
      "22/22 [==============================] - 0s 1ms/step - loss: 0.2824 - accuracy: 0.9537 - val_loss: 0.3675 - val_accuracy: 0.9167\n",
      "Epoch 36/50\n",
      "22/22 [==============================] - 0s 1ms/step - loss: 0.2638 - accuracy: 0.9630 - val_loss: 0.3279 - val_accuracy: 0.9167\n",
      "Epoch 37/50\n",
      "22/22 [==============================] - 0s 1ms/step - loss: 0.2554 - accuracy: 0.9630 - val_loss: 0.4088 - val_accuracy: 0.7500\n",
      "Epoch 38/50\n",
      "22/22 [==============================] - 0s 1ms/step - loss: 0.2372 - accuracy: 0.9815 - val_loss: 0.3168 - val_accuracy: 0.9167\n",
      "Epoch 39/50\n",
      "22/22 [==============================] - 0s 997us/step - loss: 0.2108 - accuracy: 0.9722 - val_loss: 0.2923 - val_accuracy: 0.9167\n",
      "Epoch 40/50\n",
      "22/22 [==============================] - 0s 1ms/step - loss: 0.1963 - accuracy: 0.9815 - val_loss: 0.2765 - val_accuracy: 0.9167\n",
      "Epoch 41/50\n",
      "22/22 [==============================] - 0s 1ms/step - loss: 0.1866 - accuracy: 0.9630 - val_loss: 0.2377 - val_accuracy: 1.0000\n",
      "Epoch 42/50\n",
      "22/22 [==============================] - 0s 1ms/step - loss: 0.1852 - accuracy: 0.9537 - val_loss: 0.3137 - val_accuracy: 0.9167\n",
      "Epoch 43/50\n",
      "22/22 [==============================] - 0s 1ms/step - loss: 0.1725 - accuracy: 0.9630 - val_loss: 0.2286 - val_accuracy: 0.9167\n",
      "Epoch 44/50\n",
      "22/22 [==============================] - 0s 1ms/step - loss: 0.1555 - accuracy: 0.9815 - val_loss: 0.2212 - val_accuracy: 0.9167\n",
      "Epoch 45/50\n",
      "22/22 [==============================] - 0s 997us/step - loss: 0.1511 - accuracy: 0.9815 - val_loss: 0.2636 - val_accuracy: 0.9167\n",
      "Epoch 46/50\n",
      "22/22 [==============================] - 0s 1ms/step - loss: 0.1431 - accuracy: 0.9815 - val_loss: 0.1913 - val_accuracy: 1.0000\n",
      "Epoch 47/50\n",
      "22/22 [==============================] - 0s 1ms/step - loss: 0.1506 - accuracy: 0.9630 - val_loss: 0.1794 - val_accuracy: 1.0000\n",
      "Epoch 48/50\n",
      "22/22 [==============================] - 0s 1ms/step - loss: 0.1396 - accuracy: 0.9722 - val_loss: 0.2139 - val_accuracy: 0.9167\n",
      "Epoch 49/50\n",
      "22/22 [==============================] - 0s 1ms/step - loss: 0.1273 - accuracy: 0.9722 - val_loss: 0.1996 - val_accuracy: 0.9167\n",
      "Epoch 50/50\n",
      "22/22 [==============================] - 0s 1ms/step - loss: 0.1197 - accuracy: 0.9815 - val_loss: 0.1785 - val_accuracy: 0.9167\n"
     ]
    },
    {
     "data": {
      "text/plain": [
       "<keras.callbacks.History at 0x2962ed04670>"
      ]
     },
     "execution_count": 11,
     "metadata": {},
     "output_type": "execute_result"
    }
   ],
   "source": [
    "model_1 = Sequential()\n",
    "model_1.add(Dense(10,activation='relu'))\n",
    "model_1.add(Dense(10,activation='relu'))\n",
    "model_1.add(Dense(3,activation=\"softmax\"))\n",
    "\n",
    "\n",
    "model_1.compile(optimizer='adam',\n",
    "              loss='categorical_crossentropy',\n",
    "              metrics=['accuracy'])\n",
    "\n",
    "model_1.fit(X_train, y_train, batch_size=5, epochs=50,validation_split=0.1)"
   ]
  },
  {
   "cell_type": "code",
   "execution_count": 12,
   "metadata": {
    "id": "DhDK1PZQW2-f"
   },
   "outputs": [
    {
     "name": "stdout",
     "output_type": "stream",
     "text": [
      "Model: \"sequential\"\n",
      "_________________________________________________________________\n",
      "Layer (type)                 Output Shape              Param #   \n",
      "=================================================================\n",
      "dense (Dense)                (None, 10)                50        \n",
      "_________________________________________________________________\n",
      "dense_1 (Dense)              (None, 10)                110       \n",
      "_________________________________________________________________\n",
      "dense_2 (Dense)              (None, 3)                 33        \n",
      "=================================================================\n",
      "Total params: 193\n",
      "Trainable params: 193\n",
      "Non-trainable params: 0\n",
      "_________________________________________________________________\n",
      "              precision    recall  f1-score   support\n",
      "\n",
      "           0       1.00      1.00      1.00        10\n",
      "           1       1.00      0.90      0.95        10\n",
      "           2       0.91      1.00      0.95        10\n",
      "\n",
      "    accuracy                           0.97        30\n",
      "   macro avg       0.97      0.97      0.97        30\n",
      "weighted avg       0.97      0.97      0.97        30\n",
      "\n"
     ]
    }
   ],
   "source": [
    "model_1.summary()\n",
    "y_pred = model_1.predict(X_test)\n",
    "predictions = np.argmax(y_pred,axis=1)\n",
    "print(classification_report(np.argmax(y_test,axis=1),predictions))"
   ]
  },
  {
   "cell_type": "markdown",
   "metadata": {},
   "source": [
    "#### Model n°2\n",
    "Number of hidden layers : 3\n",
    "\n",
    "Number of neurons in each layer : 20\n",
    "\n",
    "Activation functions: ReLu - Softmax\n"
   ]
  },
  {
   "cell_type": "code",
   "execution_count": 13,
   "metadata": {},
   "outputs": [
    {
     "name": "stdout",
     "output_type": "stream",
     "text": [
      "Epoch 1/50\n",
      "22/22 [==============================] - 0s 5ms/step - loss: 0.9450 - accuracy: 0.6667 - val_loss: 0.8448 - val_accuracy: 0.5833\n",
      "Epoch 2/50\n",
      "22/22 [==============================] - 0s 1ms/step - loss: 0.7036 - accuracy: 0.6852 - val_loss: 0.7188 - val_accuracy: 0.5833\n",
      "Epoch 3/50\n",
      "22/22 [==============================] - 0s 1ms/step - loss: 0.5536 - accuracy: 0.7315 - val_loss: 0.6099 - val_accuracy: 0.5833\n",
      "Epoch 4/50\n",
      "22/22 [==============================] - 0s 1ms/step - loss: 0.4483 - accuracy: 0.8519 - val_loss: 0.5367 - val_accuracy: 0.6667\n",
      "Epoch 5/50\n",
      "22/22 [==============================] - 0s 1ms/step - loss: 0.3673 - accuracy: 0.9259 - val_loss: 0.4289 - val_accuracy: 0.9167\n",
      "Epoch 6/50\n",
      "22/22 [==============================] - 0s 1ms/step - loss: 0.3086 - accuracy: 0.9722 - val_loss: 0.4234 - val_accuracy: 0.7500\n",
      "Epoch 7/50\n",
      "22/22 [==============================] - 0s 1ms/step - loss: 0.2604 - accuracy: 0.9444 - val_loss: 0.3066 - val_accuracy: 1.0000\n",
      "Epoch 8/50\n",
      "22/22 [==============================] - 0s 1ms/step - loss: 0.2303 - accuracy: 0.9537 - val_loss: 0.3113 - val_accuracy: 0.9167\n",
      "Epoch 9/50\n",
      "22/22 [==============================] - 0s 1ms/step - loss: 0.1881 - accuracy: 0.9630 - val_loss: 0.2524 - val_accuracy: 0.9167\n",
      "Epoch 10/50\n",
      "22/22 [==============================] - 0s 1ms/step - loss: 0.1740 - accuracy: 0.9722 - val_loss: 0.2682 - val_accuracy: 0.9167\n",
      "Epoch 11/50\n",
      "22/22 [==============================] - 0s 1ms/step - loss: 0.1343 - accuracy: 0.9815 - val_loss: 0.2881 - val_accuracy: 0.9167\n",
      "Epoch 12/50\n",
      "22/22 [==============================] - 0s 1ms/step - loss: 0.1293 - accuracy: 0.9630 - val_loss: 0.1800 - val_accuracy: 0.9167\n",
      "Epoch 13/50\n",
      "22/22 [==============================] - 0s 1ms/step - loss: 0.1302 - accuracy: 0.9630 - val_loss: 0.2208 - val_accuracy: 0.9167\n",
      "Epoch 14/50\n",
      "22/22 [==============================] - 0s 1ms/step - loss: 0.1118 - accuracy: 0.9630 - val_loss: 0.1467 - val_accuracy: 0.9167\n",
      "Epoch 15/50\n",
      "22/22 [==============================] - 0s 1ms/step - loss: 0.1134 - accuracy: 0.9537 - val_loss: 0.1313 - val_accuracy: 1.0000\n",
      "Epoch 16/50\n",
      "22/22 [==============================] - 0s 1ms/step - loss: 0.1190 - accuracy: 0.9537 - val_loss: 0.1658 - val_accuracy: 0.9167\n",
      "Epoch 17/50\n",
      "22/22 [==============================] - 0s 1ms/step - loss: 0.0960 - accuracy: 0.9722 - val_loss: 0.1359 - val_accuracy: 1.0000\n",
      "Epoch 18/50\n",
      "22/22 [==============================] - 0s 1ms/step - loss: 0.0834 - accuracy: 0.9815 - val_loss: 0.1342 - val_accuracy: 0.9167\n",
      "Epoch 19/50\n",
      "22/22 [==============================] - 0s 1ms/step - loss: 0.0979 - accuracy: 0.9537 - val_loss: 0.5603 - val_accuracy: 0.7500\n",
      "Epoch 20/50\n",
      "22/22 [==============================] - 0s 1ms/step - loss: 0.1542 - accuracy: 0.9259 - val_loss: 0.2113 - val_accuracy: 0.9167\n",
      "Epoch 21/50\n",
      "22/22 [==============================] - 0s 1ms/step - loss: 0.0804 - accuracy: 0.9722 - val_loss: 0.1250 - val_accuracy: 0.9167\n",
      "Epoch 22/50\n",
      "22/22 [==============================] - 0s 1ms/step - loss: 0.0915 - accuracy: 0.9722 - val_loss: 0.1935 - val_accuracy: 0.9167\n",
      "Epoch 23/50\n",
      "22/22 [==============================] - 0s 1ms/step - loss: 0.0753 - accuracy: 0.9722 - val_loss: 0.1013 - val_accuracy: 1.0000\n",
      "Epoch 24/50\n",
      "22/22 [==============================] - 0s 1ms/step - loss: 0.0720 - accuracy: 0.9722 - val_loss: 0.1330 - val_accuracy: 0.9167\n",
      "Epoch 25/50\n",
      "22/22 [==============================] - 0s 1ms/step - loss: 0.0716 - accuracy: 0.9815 - val_loss: 0.1180 - val_accuracy: 0.9167\n",
      "Epoch 26/50\n",
      "22/22 [==============================] - 0s 1ms/step - loss: 0.0809 - accuracy: 0.9630 - val_loss: 0.0975 - val_accuracy: 0.9167\n",
      "Epoch 27/50\n",
      "22/22 [==============================] - 0s 1ms/step - loss: 0.0623 - accuracy: 0.9907 - val_loss: 0.1576 - val_accuracy: 0.9167\n",
      "Epoch 28/50\n",
      "22/22 [==============================] - 0s 1ms/step - loss: 0.0772 - accuracy: 0.9722 - val_loss: 0.1512 - val_accuracy: 0.9167\n",
      "Epoch 29/50\n",
      "22/22 [==============================] - 0s 1ms/step - loss: 0.0716 - accuracy: 0.9722 - val_loss: 0.1103 - val_accuracy: 0.9167\n",
      "Epoch 30/50\n",
      "22/22 [==============================] - 0s 1ms/step - loss: 0.0623 - accuracy: 0.9815 - val_loss: 0.0923 - val_accuracy: 1.0000\n",
      "Epoch 31/50\n",
      "22/22 [==============================] - 0s 1ms/step - loss: 0.0582 - accuracy: 0.9815 - val_loss: 0.1058 - val_accuracy: 0.9167\n",
      "Epoch 32/50\n",
      "22/22 [==============================] - 0s 1ms/step - loss: 0.0733 - accuracy: 0.9537 - val_loss: 0.2434 - val_accuracy: 0.9167\n",
      "Epoch 33/50\n",
      "22/22 [==============================] - 0s 1ms/step - loss: 0.0975 - accuracy: 0.9537 - val_loss: 0.0807 - val_accuracy: 1.0000\n",
      "Epoch 34/50\n",
      "22/22 [==============================] - 0s 1ms/step - loss: 0.0750 - accuracy: 0.9722 - val_loss: 0.1013 - val_accuracy: 0.9167\n",
      "Epoch 35/50\n",
      "22/22 [==============================] - 0s 1ms/step - loss: 0.0656 - accuracy: 0.9722 - val_loss: 0.0873 - val_accuracy: 1.0000\n",
      "Epoch 36/50\n",
      "22/22 [==============================] - 0s 1ms/step - loss: 0.0812 - accuracy: 0.9537 - val_loss: 0.1008 - val_accuracy: 0.9167\n",
      "Epoch 37/50\n",
      "22/22 [==============================] - 0s 1ms/step - loss: 0.0554 - accuracy: 0.9907 - val_loss: 0.1213 - val_accuracy: 0.9167\n",
      "Epoch 38/50\n",
      "22/22 [==============================] - 0s 1ms/step - loss: 0.0602 - accuracy: 0.9722 - val_loss: 0.0755 - val_accuracy: 1.0000\n",
      "Epoch 39/50\n",
      "22/22 [==============================] - 0s 997us/step - loss: 0.0556 - accuracy: 0.9815 - val_loss: 0.1001 - val_accuracy: 0.9167\n",
      "Epoch 40/50\n",
      "22/22 [==============================] - 0s 997us/step - loss: 0.0518 - accuracy: 0.9815 - val_loss: 0.0727 - val_accuracy: 1.0000\n",
      "Epoch 41/50\n",
      "22/22 [==============================] - 0s 1ms/step - loss: 0.0540 - accuracy: 0.9907 - val_loss: 0.1806 - val_accuracy: 0.9167\n",
      "Epoch 42/50\n",
      "22/22 [==============================] - 0s 1ms/step - loss: 0.0884 - accuracy: 0.9537 - val_loss: 0.1683 - val_accuracy: 0.9167\n",
      "Epoch 43/50\n",
      "22/22 [==============================] - 0s 1ms/step - loss: 0.0567 - accuracy: 0.9815 - val_loss: 0.0825 - val_accuracy: 1.0000\n",
      "Epoch 44/50\n",
      "22/22 [==============================] - 0s 997us/step - loss: 0.0990 - accuracy: 0.9630 - val_loss: 0.1618 - val_accuracy: 0.9167\n",
      "Epoch 45/50\n",
      "22/22 [==============================] - 0s 1ms/step - loss: 0.0618 - accuracy: 0.9907 - val_loss: 0.1985 - val_accuracy: 0.9167\n",
      "Epoch 46/50\n",
      "22/22 [==============================] - 0s 1ms/step - loss: 0.0839 - accuracy: 0.9722 - val_loss: 0.0922 - val_accuracy: 0.9167\n",
      "Epoch 47/50\n",
      "22/22 [==============================] - 0s 1ms/step - loss: 0.0724 - accuracy: 0.9815 - val_loss: 0.0684 - val_accuracy: 1.0000\n",
      "Epoch 48/50\n",
      "22/22 [==============================] - 0s 1ms/step - loss: 0.0699 - accuracy: 0.9630 - val_loss: 0.2082 - val_accuracy: 0.9167\n",
      "Epoch 49/50\n",
      "22/22 [==============================] - 0s 1ms/step - loss: 0.0680 - accuracy: 0.9630 - val_loss: 0.0680 - val_accuracy: 1.0000\n",
      "Epoch 50/50\n",
      "22/22 [==============================] - 0s 997us/step - loss: 0.0536 - accuracy: 0.9815 - val_loss: 0.0689 - val_accuracy: 1.0000\n"
     ]
    },
    {
     "data": {
      "text/plain": [
       "<keras.callbacks.History at 0x2963729d9d0>"
      ]
     },
     "execution_count": 13,
     "metadata": {},
     "output_type": "execute_result"
    }
   ],
   "source": [
    "model_2 = Sequential()\n",
    "model_2.add(Dense(20,activation='relu'))\n",
    "model_2.add(Dense(20,activation='relu'))\n",
    "model_2.add(Dense(20,activation='relu'))\n",
    "model_2.add(Dense(3,activation=\"softmax\"))\n",
    "\n",
    "\n",
    "model_2.compile(optimizer='adam',\n",
    "              loss='categorical_crossentropy',\n",
    "              metrics=['accuracy'])\n",
    "\n",
    "model_2.fit(X_train, y_train, batch_size=5, epochs=50,validation_split=0.1)"
   ]
  },
  {
   "cell_type": "code",
   "execution_count": 14,
   "metadata": {},
   "outputs": [
    {
     "name": "stdout",
     "output_type": "stream",
     "text": [
      "Model: \"sequential_1\"\n",
      "_________________________________________________________________\n",
      "Layer (type)                 Output Shape              Param #   \n",
      "=================================================================\n",
      "dense_3 (Dense)              (None, 20)                100       \n",
      "_________________________________________________________________\n",
      "dense_4 (Dense)              (None, 20)                420       \n",
      "_________________________________________________________________\n",
      "dense_5 (Dense)              (None, 20)                420       \n",
      "_________________________________________________________________\n",
      "dense_6 (Dense)              (None, 3)                 63        \n",
      "=================================================================\n",
      "Total params: 1,003\n",
      "Trainable params: 1,003\n",
      "Non-trainable params: 0\n",
      "_________________________________________________________________\n",
      "              precision    recall  f1-score   support\n",
      "\n",
      "           0       1.00      1.00      1.00        10\n",
      "           1       1.00      0.90      0.95        10\n",
      "           2       0.91      1.00      0.95        10\n",
      "\n",
      "    accuracy                           0.97        30\n",
      "   macro avg       0.97      0.97      0.97        30\n",
      "weighted avg       0.97      0.97      0.97        30\n",
      "\n"
     ]
    }
   ],
   "source": [
    "model_2.summary()\n",
    "y_pred = model_2.predict(X_test)\n",
    "predictions = np.argmax(y_pred,axis=1)\n",
    "print(classification_report(np.argmax(y_test,axis=1),predictions))"
   ]
  },
  {
   "cell_type": "markdown",
   "metadata": {},
   "source": [
    "###### Conclusion\n",
    "\n",
    "As we added a layer and doubled the numbers of neurons in each layer, the performance stayed the same, with an accuracy of 0.97 which is considered a good value."
   ]
  },
  {
   "cell_type": "markdown",
   "metadata": {
    "id": "8DBYEJ-rbcmV"
   },
   "source": [
    "# Working towards CNN"
   ]
  },
  {
   "cell_type": "code",
   "execution_count": 15,
   "metadata": {
    "id": "40q7I2FCX6sQ"
   },
   "outputs": [
    {
     "data": {
      "text/plain": [
       "<matplotlib.image.AxesImage at 0x29637e802b0>"
      ]
     },
     "execution_count": 15,
     "metadata": {},
     "output_type": "execute_result"
    },
    {
     "data": {
      "image/png": "[encoded data removed]",
      "text/plain": [
       "<Figure size 432x288 with 1 Axes>"
      ]
     },
     "metadata": {
      "needs_background": "light"
     },
     "output_type": "display_data"
    }
   ],
   "source": [
    "from sklearn.datasets import load_digits\n",
    "import matplotlib.pyplot as plt\n",
    "\n",
    "X,y = load_digits(return_X_y=True)\n",
    "plt.imshow(X[5].reshape((8,8)))"
   ]
  },
  {
   "cell_type": "code",
   "execution_count": 16,
   "metadata": {
    "id": "-OgsKfwZcQdu"
   },
   "outputs": [
    {
     "data": {
      "text/plain": [
       "[0, 1, 2, 3, 4, 5, 6, 7, 8, 9]"
      ]
     },
     "execution_count": 16,
     "metadata": {},
     "output_type": "execute_result"
    }
   ],
   "source": [
    "Y = pd.get_dummies(y).values\n",
    "list(set(y))"
   ]
  },
  {
   "cell_type": "code",
   "execution_count": 17,
   "metadata": {
    "id": "tls7VFjngNy8"
   },
   "outputs": [],
   "source": [
    "X_train, X_test, y_train, y_test  = train_test_split(X,Y,test_size=0.2,stratify=y,random_state=500)"
   ]
  },
  {
   "cell_type": "markdown",
   "metadata": {},
   "source": [
    "#### Model n°3"
   ]
  },
  {
   "cell_type": "code",
   "execution_count": 18,
   "metadata": {
    "id": "yMuYbvVfgQ-0"
   },
   "outputs": [
    {
     "name": "stdout",
     "output_type": "stream",
     "text": [
      "Epoch 1/26\n",
      "259/259 [==============================] - 0s 791us/step - loss: 2.2136 - accuracy: 0.2428 - val_loss: 1.6567 - val_accuracy: 0.3611\n",
      "Epoch 2/26\n",
      "259/259 [==============================] - 0s 506us/step - loss: 1.3569 - accuracy: 0.5112 - val_loss: 1.0159 - val_accuracy: 0.6806\n",
      "Epoch 3/26\n",
      "259/259 [==============================] - 0s 503us/step - loss: 0.8408 - accuracy: 0.7208 - val_loss: 0.6550 - val_accuracy: 0.8125\n",
      "Epoch 4/26\n",
      "259/259 [==============================] - 0s 506us/step - loss: 0.5806 - accuracy: 0.8159 - val_loss: 0.5457 - val_accuracy: 0.8472\n",
      "Epoch 5/26\n",
      "259/259 [==============================] - 0s 506us/step - loss: 0.4565 - accuracy: 0.8546 - val_loss: 0.4646 - val_accuracy: 0.8542\n",
      "Epoch 6/26\n",
      "259/259 [==============================] - 0s 506us/step - loss: 0.3803 - accuracy: 0.8739 - val_loss: 0.4330 - val_accuracy: 0.8819\n",
      "Epoch 7/26\n",
      "259/259 [==============================] - 0s 510us/step - loss: 0.3324 - accuracy: 0.8886 - val_loss: 0.4121 - val_accuracy: 0.8611\n",
      "Epoch 8/26\n",
      "259/259 [==============================] - 0s 518us/step - loss: 0.2886 - accuracy: 0.9056 - val_loss: 0.3926 - val_accuracy: 0.8681\n",
      "Epoch 9/26\n",
      "259/259 [==============================] - 0s 518us/step - loss: 0.2525 - accuracy: 0.9165 - val_loss: 0.4242 - val_accuracy: 0.8472\n",
      "Epoch 10/26\n",
      "259/259 [==============================] - 0s 522us/step - loss: 0.2348 - accuracy: 0.9234 - val_loss: 0.3687 - val_accuracy: 0.8819\n",
      "Epoch 11/26\n",
      "259/259 [==============================] - 0s 603us/step - loss: 0.2169 - accuracy: 0.9273 - val_loss: 0.3342 - val_accuracy: 0.8958\n",
      "Epoch 12/26\n",
      "259/259 [==============================] - 0s 510us/step - loss: 0.1948 - accuracy: 0.9389 - val_loss: 0.3241 - val_accuracy: 0.8889\n",
      "Epoch 13/26\n",
      "259/259 [==============================] - 0s 541us/step - loss: 0.1791 - accuracy: 0.9428 - val_loss: 0.3228 - val_accuracy: 0.9097\n",
      "Epoch 14/26\n",
      "259/259 [==============================] - 0s 576us/step - loss: 0.1658 - accuracy: 0.9474 - val_loss: 0.3324 - val_accuracy: 0.8958\n",
      "Epoch 15/26\n",
      "259/259 [==============================] - 0s 506us/step - loss: 0.1613 - accuracy: 0.9428 - val_loss: 0.3277 - val_accuracy: 0.9028\n",
      "Epoch 16/26\n",
      "259/259 [==============================] - 0s 499us/step - loss: 0.1475 - accuracy: 0.9520 - val_loss: 0.3158 - val_accuracy: 0.8958\n",
      "Epoch 17/26\n",
      "259/259 [==============================] - 0s 510us/step - loss: 0.1382 - accuracy: 0.9513 - val_loss: 0.3067 - val_accuracy: 0.9028\n",
      "Epoch 18/26\n",
      "259/259 [==============================] - 0s 510us/step - loss: 0.1354 - accuracy: 0.9606 - val_loss: 0.3058 - val_accuracy: 0.8889\n",
      "Epoch 19/26\n",
      "259/259 [==============================] - 0s 510us/step - loss: 0.1224 - accuracy: 0.9606 - val_loss: 0.2963 - val_accuracy: 0.8958\n",
      "Epoch 20/26\n",
      "259/259 [==============================] - 0s 510us/step - loss: 0.1138 - accuracy: 0.9652 - val_loss: 0.3324 - val_accuracy: 0.8958\n",
      "Epoch 21/26\n",
      "259/259 [==============================] - 0s 510us/step - loss: 0.1085 - accuracy: 0.9629 - val_loss: 0.3384 - val_accuracy: 0.8958\n",
      "Epoch 22/26\n",
      "259/259 [==============================] - 0s 518us/step - loss: 0.1023 - accuracy: 0.9698 - val_loss: 0.2952 - val_accuracy: 0.9028\n",
      "Epoch 23/26\n",
      "259/259 [==============================] - 0s 541us/step - loss: 0.0960 - accuracy: 0.9675 - val_loss: 0.3465 - val_accuracy: 0.8819\n",
      "Epoch 24/26\n",
      "259/259 [==============================] - 0s 549us/step - loss: 0.0943 - accuracy: 0.9675 - val_loss: 0.2885 - val_accuracy: 0.9097\n",
      "Epoch 25/26\n",
      "259/259 [==============================] - 0s 518us/step - loss: 0.0871 - accuracy: 0.9706 - val_loss: 0.3196 - val_accuracy: 0.9097\n",
      "Epoch 26/26\n",
      "259/259 [==============================] - 0s 510us/step - loss: 0.0837 - accuracy: 0.9729 - val_loss: 0.3086 - val_accuracy: 0.9167\n"
     ]
    },
    {
     "data": {
      "text/plain": [
       "<keras.callbacks.History at 0x2963512c670>"
      ]
     },
     "execution_count": 18,
     "metadata": {},
     "output_type": "execute_result"
    }
   ],
   "source": [
    "model_3 = Sequential()\n",
    "\n",
    "model_3.add(Dense(10,activation='relu'))\n",
    "model_3.add(Dense(10,activation='relu'))\n",
    "model_3.add(Dense(10,activation=\"softmax\"))\n",
    "\n",
    "model_3.compile(optimizer='adam',\n",
    "              loss='categorical_crossentropy',\n",
    "              metrics=['accuracy'])\n",
    "\n",
    "model_3.fit(X_train, y_train, batch_size=5, epochs=26,validation_split=0.1)"
   ]
  },
  {
   "cell_type": "code",
   "execution_count": 19,
   "metadata": {
    "scrolled": true
   },
   "outputs": [
    {
     "name": "stdout",
     "output_type": "stream",
     "text": [
      "Model: \"sequential_2\"\n",
      "_________________________________________________________________\n",
      "Layer (type)                 Output Shape              Param #   \n",
      "=================================================================\n",
      "dense_7 (Dense)              (None, 10)                650       \n",
      "_________________________________________________________________\n",
      "dense_8 (Dense)              (None, 10)                110       \n",
      "_________________________________________________________________\n",
      "dense_9 (Dense)              (None, 10)                110       \n",
      "=================================================================\n",
      "Total params: 870\n",
      "Trainable params: 870\n",
      "Non-trainable params: 0\n",
      "_________________________________________________________________\n",
      "              precision    recall  f1-score   support\n",
      "\n",
      "           0       1.00      0.94      0.97        36\n",
      "           1       0.91      0.86      0.89        36\n",
      "           2       1.00      1.00      1.00        35\n",
      "           3       0.93      1.00      0.96        37\n",
      "           4       0.90      1.00      0.95        36\n",
      "           5       0.94      0.86      0.90        37\n",
      "           6       0.92      0.97      0.95        36\n",
      "           7       0.95      0.97      0.96        36\n",
      "           8       0.89      0.89      0.89        35\n",
      "           9       0.91      0.83      0.87        36\n",
      "\n",
      "    accuracy                           0.93       360\n",
      "   macro avg       0.93      0.93      0.93       360\n",
      "weighted avg       0.93      0.93      0.93       360\n",
      "\n"
     ]
    }
   ],
   "source": [
    "model_3.summary()\n",
    "y_pred = model_3.predict(X_test)\n",
    "predictions = np.argmax(y_pred,axis=1)\n",
    "print(classification_report(np.argmax(y_test,axis=1),predictions))"
   ]
  },
  {
   "cell_type": "markdown",
   "metadata": {},
   "source": [
    "#### Model n°4"
   ]
  },
  {
   "cell_type": "code",
   "execution_count": 20,
   "metadata": {
    "id": "yMuYbvVfgQ-0"
   },
   "outputs": [
    {
     "name": "stdout",
     "output_type": "stream",
     "text": [
      "Epoch 1/26\n",
      "259/259 [==============================] - 0s 858us/step - loss: 1.6669 - accuracy: 0.4733 - val_loss: 0.8383 - val_accuracy: 0.7569\n",
      "Epoch 2/26\n",
      "259/259 [==============================] - 0s 553us/step - loss: 0.5796 - accuracy: 0.8345 - val_loss: 0.4459 - val_accuracy: 0.8889\n",
      "Epoch 3/26\n",
      "259/259 [==============================] - 0s 580us/step - loss: 0.2923 - accuracy: 0.9111 - val_loss: 0.3414 - val_accuracy: 0.8958\n",
      "Epoch 4/26\n",
      "259/259 [==============================] - 0s 626us/step - loss: 0.1728 - accuracy: 0.9466 - val_loss: 0.3150 - val_accuracy: 0.9167\n",
      "Epoch 5/26\n",
      "259/259 [==============================] - 0s 553us/step - loss: 0.1361 - accuracy: 0.9613 - val_loss: 0.2898 - val_accuracy: 0.8958\n",
      "Epoch 6/26\n",
      "259/259 [==============================] - 0s 553us/step - loss: 0.0953 - accuracy: 0.9760 - val_loss: 0.2606 - val_accuracy: 0.9167\n",
      "Epoch 7/26\n",
      "259/259 [==============================] - 0s 615us/step - loss: 0.0753 - accuracy: 0.9814 - val_loss: 0.2650 - val_accuracy: 0.9097\n",
      "Epoch 8/26\n",
      "259/259 [==============================] - 0s 568us/step - loss: 0.0491 - accuracy: 0.9876 - val_loss: 0.3248 - val_accuracy: 0.8958\n",
      "Epoch 9/26\n",
      "259/259 [==============================] - 0s 541us/step - loss: 0.0560 - accuracy: 0.9830 - val_loss: 0.2677 - val_accuracy: 0.9236\n",
      "Epoch 10/26\n",
      "259/259 [==============================] - 0s 588us/step - loss: 0.0618 - accuracy: 0.9791 - val_loss: 0.3014 - val_accuracy: 0.8958\n",
      "Epoch 11/26\n",
      "259/259 [==============================] - 0s 618us/step - loss: 0.0725 - accuracy: 0.9814 - val_loss: 0.2723 - val_accuracy: 0.9236\n",
      "Epoch 12/26\n",
      "259/259 [==============================] - 0s 549us/step - loss: 0.0428 - accuracy: 0.9869 - val_loss: 0.3335 - val_accuracy: 0.9167\n",
      "Epoch 13/26\n",
      "259/259 [==============================] - 0s 549us/step - loss: 0.0176 - accuracy: 0.9977 - val_loss: 0.2290 - val_accuracy: 0.9236\n",
      "Epoch 14/26\n",
      "259/259 [==============================] - 0s 561us/step - loss: 0.0105 - accuracy: 0.9969 - val_loss: 0.2329 - val_accuracy: 0.9236\n",
      "Epoch 15/26\n",
      "259/259 [==============================] - 0s 549us/step - loss: 0.0618 - accuracy: 0.9814 - val_loss: 0.2693 - val_accuracy: 0.9236\n",
      "Epoch 16/26\n",
      "259/259 [==============================] - 0s 545us/step - loss: 0.0079 - accuracy: 0.9992 - val_loss: 0.2594 - val_accuracy: 0.9306\n",
      "Epoch 17/26\n",
      "259/259 [==============================] - 0s 549us/step - loss: 0.0036 - accuracy: 1.0000 - val_loss: 0.2297 - val_accuracy: 0.9444\n",
      "Epoch 18/26\n",
      "259/259 [==============================] - 0s 549us/step - loss: 0.0023 - accuracy: 1.0000 - val_loss: 0.2330 - val_accuracy: 0.9444\n",
      "Epoch 19/26\n",
      "259/259 [==============================] - 0s 545us/step - loss: 0.0017 - accuracy: 1.0000 - val_loss: 0.2026 - val_accuracy: 0.9375\n",
      "Epoch 20/26\n",
      "259/259 [==============================] - 0s 545us/step - loss: 0.0015 - accuracy: 1.0000 - val_loss: 0.2321 - val_accuracy: 0.9444\n",
      "Epoch 21/26\n",
      "259/259 [==============================] - 0s 545us/step - loss: 0.0012 - accuracy: 1.0000 - val_loss: 0.2577 - val_accuracy: 0.9444\n",
      "Epoch 22/26\n",
      "259/259 [==============================] - 0s 545us/step - loss: 0.0010 - accuracy: 1.0000 - val_loss: 0.2637 - val_accuracy: 0.9444\n",
      "Epoch 23/26\n",
      "259/259 [==============================] - 0s 553us/step - loss: 8.1948e-04 - accuracy: 1.0000 - val_loss: 0.2315 - val_accuracy: 0.9375\n",
      "Epoch 24/26\n",
      "259/259 [==============================] - 0s 549us/step - loss: 7.0697e-04 - accuracy: 1.0000 - val_loss: 0.2349 - val_accuracy: 0.9375\n",
      "Epoch 25/26\n",
      "259/259 [==============================] - 0s 561us/step - loss: 5.9702e-04 - accuracy: 1.0000 - val_loss: 0.2643 - val_accuracy: 0.9375\n",
      "Epoch 26/26\n",
      "259/259 [==============================] - 0s 553us/step - loss: 5.6201e-04 - accuracy: 1.0000 - val_loss: 0.2546 - val_accuracy: 0.9444\n"
     ]
    },
    {
     "data": {
      "text/plain": [
       "<keras.callbacks.History at 0x29637fe6880>"
      ]
     },
     "execution_count": 20,
     "metadata": {},
     "output_type": "execute_result"
    }
   ],
   "source": [
    "model_4 = Sequential()\n",
    "\n",
    "model_4.add(Dense(40,activation='relu'))\n",
    "model_4.add(Dense(30,activation='relu'))\n",
    "model_4.add(Dense(20,activation='relu'))\n",
    "model_4.add(Dense(10,activation='relu'))\n",
    "model_4.add(Dense(10,activation=\"softmax\"))\n",
    "\n",
    "model_4.compile(optimizer='adam',\n",
    "              loss='categorical_crossentropy',\n",
    "              metrics=['accuracy'])\n",
    "\n",
    "model_4.fit(X_train, y_train, batch_size=5, epochs=26,validation_split=0.1)"
   ]
  },
  {
   "cell_type": "code",
   "execution_count": 21,
   "metadata": {
    "scrolled": true
   },
   "outputs": [
    {
     "name": "stdout",
     "output_type": "stream",
     "text": [
      "Model: \"sequential_3\"\n",
      "_________________________________________________________________\n",
      "Layer (type)                 Output Shape              Param #   \n",
      "=================================================================\n",
      "dense_10 (Dense)             (None, 40)                2600      \n",
      "_________________________________________________________________\n",
      "dense_11 (Dense)             (None, 30)                1230      \n",
      "_________________________________________________________________\n",
      "dense_12 (Dense)             (None, 20)                620       \n",
      "_________________________________________________________________\n",
      "dense_13 (Dense)             (None, 10)                210       \n",
      "_________________________________________________________________\n",
      "dense_14 (Dense)             (None, 10)                110       \n",
      "=================================================================\n",
      "Total params: 4,770\n",
      "Trainable params: 4,770\n",
      "Non-trainable params: 0\n",
      "_________________________________________________________________\n",
      "              precision    recall  f1-score   support\n",
      "\n",
      "           0       0.97      0.97      0.97        36\n",
      "           1       0.97      0.92      0.94        36\n",
      "           2       0.95      1.00      0.97        35\n",
      "           3       0.97      0.97      0.97        37\n",
      "           4       1.00      0.94      0.97        36\n",
      "           5       0.97      0.92      0.94        37\n",
      "           6       0.95      0.97      0.96        36\n",
      "           7       1.00      1.00      1.00        36\n",
      "           8       0.92      0.97      0.94        35\n",
      "           9       0.95      0.97      0.96        36\n",
      "\n",
      "    accuracy                           0.96       360\n",
      "   macro avg       0.96      0.96      0.96       360\n",
      "weighted avg       0.96      0.96      0.96       360\n",
      "\n"
     ]
    }
   ],
   "source": [
    "model_4.summary()\n",
    "y_pred = model_4.predict(X_test)\n",
    "predictions = np.argmax(y_pred,axis=1)\n",
    "print(classification_report(np.argmax(y_test,axis=1),predictions))"
   ]
  },
  {
   "cell_type": "markdown",
   "metadata": {
    "id": "Mfp_O2LPlIay"
   },
   "source": [
    "# Olivetti faces datset"
   ]
  },
  {
   "cell_type": "code",
   "execution_count": 1,
   "metadata": {
    "colab": {
     "base_uri": "https://localhost:8080/",
     "height": 1000
    },
    "id": "uxzUTiMpgf5Y",
    "outputId": "75d1aa76-9fa3-4460-a30a-24f5a25703fd"
   },
   "outputs": [],
   "source": [
    "from sklearn.datasets import fetch_olivetti_faces\n",
    "\n",
    "# Load faces data\n",
    "faces, y = fetch_olivetti_faces(return_X_y=True, shuffle=True, random_state=100)\n",
    "n_samples, n_features = faces.shape\n"
   ]
  },
  {
   "cell_type": "code",
   "execution_count": 23,
   "metadata": {
    "colab": {
     "base_uri": "https://localhost:8080/"
    },
    "id": "dBzUUcAuO-Lj",
    "outputId": "a0cd8e9f-6d99-4207-d167-9b99606b39d3"
   },
   "outputs": [
    {
     "data": {
      "text/plain": [
       "(400, 4096)"
      ]
     },
     "execution_count": 23,
     "metadata": {},
     "output_type": "execute_result"
    }
   ],
   "source": [
    "faces.shape"
   ]
  },
  {
   "cell_type": "code",
   "execution_count": 24,
   "metadata": {
    "colab": {
     "base_uri": "https://localhost:8080/",
     "height": 1000
    },
    "id": "1upgKykuPXfq",
    "outputId": "9b911231-d332-4acf-89ce-660727d332e9"
   },
   "outputs": [
    {
     "data": {
      "image/png": "[encoded data removed]",
      "text/plain": [
       "<Figure size 432x288 with 1 Axes>"
      ]
     },
     "metadata": {
      "needs_background": "light"
     },
     "output_type": "display_data"
    },
    {
     "data": {
      "image/png": "[encoded data removed]",
      "text/plain": [
       "<Figure size 432x288 with 1 Axes>"
      ]
     },
     "metadata": {
      "needs_background": "light"
     },
     "output_type": "display_data"
    },
    {
     "data": {
      "image/png": "[encoded data removed]",
      "text/plain": [
       "<Figure size 432x288 with 1 Axes>"
      ]
     },
     "metadata": {
      "needs_background": "light"
     },
     "output_type": "display_data"
    }
   ],
   "source": [
    "for i in np.random.randint(0,100,3):\n",
    "  plt.imshow(faces[i].reshape(64,64))\n",
    "  plt.title(\"Target : {}\".format(y[i]))\n",
    "  plt.show()"
   ]
  },
  {
   "cell_type": "code",
   "execution_count": 4,
   "metadata": {
    "id": "Fzs9EqT6R2O2"
   },
   "outputs": [],
   "source": [
    "X_train, X_test, y_train, y_test  = train_test_split(faces,y,test_size=0.2,stratify=y,random_state=500)"
   ]
  },
  {
   "cell_type": "markdown",
   "metadata": {},
   "source": [
    "#### Model n°1"
   ]
  },
  {
   "cell_type": "code",
   "execution_count": null,
   "metadata": {
    "id": "mfO287p_PdgZ"
   },
   "outputs": [],
   "source": [
    "face_model = Sequential()\n",
    "\n",
    "face_model.add(Dense(50,activation=\"relu\"))\n",
    "face_model.add(Dense(50,activation=\"relu\"))\n",
    "face_model.add(Dense(50,activation='relu'))\n",
    "face_model.add(Dense(40,activation=\"softmax\"))\n",
    "\n",
    "face_model.compile(\n",
    "    optimizer=\"adam\",\n",
    "    loss='sparse_categorical_crossentropy',\n",
    "    metrics=['accuracy']\n",
    ")\n",
    "\n",
    "face_model.fit(X_train, y_train, epochs = 50 , batch_size = 50, validation_split=0.1)"
   ]
  },
  {
   "cell_type": "code",
   "execution_count": null,
   "metadata": {
    "colab": {
     "base_uri": "https://localhost:8080/",
     "height": 316
    },
    "id": "C-coWtxJUXSY",
    "outputId": "92d7694c-7b51-44e9-81fe-75f8b5ccdf68"
   },
   "outputs": [],
   "source": [
    "face_model.summary()\n",
    "predictions = np.argmax(face_model.predict(X_test),axis=1)\n",
    "pd.DataFrame(classification_report(y_test,predictions, output_dict = True))"
   ]
  },
  {
   "cell_type": "markdown",
   "metadata": {},
   "source": [
    "#### Model n°2"
   ]
  },
  {
   "cell_type": "code",
   "execution_count": 11,
   "metadata": {},
   "outputs": [
    {
     "name": "stdout",
     "output_type": "stream",
     "text": [
      "Epoch 1/50\n",
      "6/6 [==============================] - 0s 19ms/step - loss: 3.7827 - accuracy: 0.0139 - val_loss: 3.6718 - val_accuracy: 0.0000e+00\n",
      "Epoch 2/50\n",
      "6/6 [==============================] - 0s 4ms/step - loss: 3.7340 - accuracy: 0.0382 - val_loss: 3.6619 - val_accuracy: 0.0312\n",
      "Epoch 3/50\n",
      "6/6 [==============================] - 0s 4ms/step - loss: 3.7064 - accuracy: 0.0278 - val_loss: 3.6610 - val_accuracy: 0.1250\n",
      "Epoch 4/50\n",
      "6/6 [==============================] - 0s 4ms/step - loss: 3.7000 - accuracy: 0.0278 - val_loss: 3.7133 - val_accuracy: 0.0312\n",
      "Epoch 5/50\n",
      "6/6 [==============================] - 0s 4ms/step - loss: 3.7276 - accuracy: 0.0278 - val_loss: 3.7006 - val_accuracy: 0.0938\n",
      "Epoch 6/50\n",
      "6/6 [==============================] - 0s 4ms/step - loss: 3.6757 - accuracy: 0.0382 - val_loss: 3.6767 - val_accuracy: 0.0312\n",
      "Epoch 7/50\n",
      "6/6 [==============================] - 0s 4ms/step - loss: 3.6761 - accuracy: 0.0278 - val_loss: 3.6928 - val_accuracy: 0.0000e+00\n",
      "Epoch 8/50\n",
      "6/6 [==============================] - 0s 4ms/step - loss: 3.6499 - accuracy: 0.0278 - val_loss: 3.6861 - val_accuracy: 0.0000e+00\n",
      "Epoch 9/50\n",
      "6/6 [==============================] - 0s 4ms/step - loss: 3.6295 - accuracy: 0.0660 - val_loss: 3.6685 - val_accuracy: 0.0000e+00\n",
      "Epoch 10/50\n",
      "6/6 [==============================] - 0s 4ms/step - loss: 3.6113 - accuracy: 0.0486 - val_loss: 3.6546 - val_accuracy: 0.0000e+00\n",
      "Epoch 11/50\n",
      "6/6 [==============================] - 0s 4ms/step - loss: 3.5809 - accuracy: 0.0694 - val_loss: 3.6814 - val_accuracy: 0.0312\n",
      "Epoch 12/50\n",
      "6/6 [==============================] - 0s 4ms/step - loss: 3.5672 - accuracy: 0.0521 - val_loss: 3.6464 - val_accuracy: 0.0000e+00\n",
      "Epoch 13/50\n",
      "6/6 [==============================] - 0s 4ms/step - loss: 3.5105 - accuracy: 0.1215 - val_loss: 3.6544 - val_accuracy: 0.0000e+00\n",
      "Epoch 14/50\n",
      "6/6 [==============================] - 0s 4ms/step - loss: 3.4705 - accuracy: 0.0938 - val_loss: 3.6288 - val_accuracy: 0.0625\n",
      "Epoch 15/50\n",
      "6/6 [==============================] - 0s 4ms/step - loss: 3.4270 - accuracy: 0.1007 - val_loss: 3.5999 - val_accuracy: 0.0000e+00\n",
      "Epoch 16/50\n",
      "6/6 [==============================] - 0s 4ms/step - loss: 3.3679 - accuracy: 0.1319 - val_loss: 3.5935 - val_accuracy: 0.0312\n",
      "Epoch 17/50\n",
      "6/6 [==============================] - 0s 4ms/step - loss: 3.3014 - accuracy: 0.1181 - val_loss: 3.5684 - val_accuracy: 0.0938\n",
      "Epoch 18/50\n",
      "6/6 [==============================] - 0s 4ms/step - loss: 3.1958 - accuracy: 0.1319 - val_loss: 3.5565 - val_accuracy: 0.0000e+00\n",
      "Epoch 19/50\n",
      "6/6 [==============================] - 0s 4ms/step - loss: 3.1388 - accuracy: 0.1215 - val_loss: 3.4538 - val_accuracy: 0.0625\n",
      "Epoch 20/50\n",
      "6/6 [==============================] - 0s 4ms/step - loss: 3.0172 - accuracy: 0.2049 - val_loss: 3.4102 - val_accuracy: 0.0938\n",
      "Epoch 21/50\n",
      "6/6 [==============================] - 0s 4ms/step - loss: 2.9485 - accuracy: 0.1806 - val_loss: 3.2806 - val_accuracy: 0.0312\n",
      "Epoch 22/50\n",
      "6/6 [==============================] - 0s 5ms/step - loss: 2.8351 - accuracy: 0.2188 - val_loss: 3.3342 - val_accuracy: 0.0000e+00\n",
      "Epoch 23/50\n",
      "6/6 [==============================] - 0s 4ms/step - loss: 2.8233 - accuracy: 0.1910 - val_loss: 3.1322 - val_accuracy: 0.0312\n",
      "Epoch 24/50\n",
      "6/6 [==============================] - 0s 5ms/step - loss: 2.7111 - accuracy: 0.1944 - val_loss: 3.1178 - val_accuracy: 0.0938\n",
      "Epoch 25/50\n",
      "6/6 [==============================] - 0s 4ms/step - loss: 2.6323 - accuracy: 0.2465 - val_loss: 3.0409 - val_accuracy: 0.1562\n",
      "Epoch 26/50\n",
      "6/6 [==============================] - 0s 4ms/step - loss: 2.5245 - accuracy: 0.3194 - val_loss: 2.8688 - val_accuracy: 0.0312\n",
      "Epoch 27/50\n",
      "6/6 [==============================] - 0s 4ms/step - loss: 2.4301 - accuracy: 0.2882 - val_loss: 2.8143 - val_accuracy: 0.1562\n",
      "Epoch 28/50\n",
      "6/6 [==============================] - 0s 4ms/step - loss: 2.3810 - accuracy: 0.3021 - val_loss: 2.7529 - val_accuracy: 0.2188\n",
      "Epoch 29/50\n",
      "6/6 [==============================] - 0s 4ms/step - loss: 2.3426 - accuracy: 0.3090 - val_loss: 2.7540 - val_accuracy: 0.1562\n",
      "Epoch 30/50\n",
      "6/6 [==============================] - 0s 5ms/step - loss: 2.2287 - accuracy: 0.3333 - val_loss: 2.8144 - val_accuracy: 0.1250\n",
      "Epoch 31/50\n",
      "6/6 [==============================] - 0s 4ms/step - loss: 2.2850 - accuracy: 0.2708 - val_loss: 2.7531 - val_accuracy: 0.1250\n",
      "Epoch 32/50\n",
      "6/6 [==============================] - 0s 4ms/step - loss: 2.2442 - accuracy: 0.3160 - val_loss: 2.6107 - val_accuracy: 0.1875\n",
      "Epoch 33/50\n",
      "6/6 [==============================] - 0s 4ms/step - loss: 2.0991 - accuracy: 0.3889 - val_loss: 2.6370 - val_accuracy: 0.2500\n",
      "Epoch 34/50\n",
      "6/6 [==============================] - 0s 4ms/step - loss: 2.0960 - accuracy: 0.3646 - val_loss: 2.4769 - val_accuracy: 0.2188\n",
      "Epoch 35/50\n",
      "6/6 [==============================] - 0s 4ms/step - loss: 2.0158 - accuracy: 0.3958 - val_loss: 2.4655 - val_accuracy: 0.2188\n",
      "Epoch 36/50\n",
      "6/6 [==============================] - 0s 5ms/step - loss: 1.9734 - accuracy: 0.4479 - val_loss: 2.4600 - val_accuracy: 0.2188\n",
      "Epoch 37/50\n",
      "6/6 [==============================] - 0s 4ms/step - loss: 1.9685 - accuracy: 0.4132 - val_loss: 2.3735 - val_accuracy: 0.2812\n",
      "Epoch 38/50\n",
      "6/6 [==============================] - 0s 4ms/step - loss: 1.9104 - accuracy: 0.4097 - val_loss: 2.4048 - val_accuracy: 0.2812\n",
      "Epoch 39/50\n",
      "6/6 [==============================] - 0s 5ms/step - loss: 1.8607 - accuracy: 0.4896 - val_loss: 2.2677 - val_accuracy: 0.2812\n",
      "Epoch 40/50\n",
      "6/6 [==============================] - 0s 4ms/step - loss: 1.8109 - accuracy: 0.5000 - val_loss: 2.2399 - val_accuracy: 0.2812\n",
      "Epoch 41/50\n",
      "6/6 [==============================] - 0s 4ms/step - loss: 1.7733 - accuracy: 0.4861 - val_loss: 2.2886 - val_accuracy: 0.2188\n",
      "Epoch 42/50\n",
      "6/6 [==============================] - 0s 4ms/step - loss: 1.7866 - accuracy: 0.4757 - val_loss: 2.2164 - val_accuracy: 0.3125\n",
      "Epoch 43/50\n",
      "6/6 [==============================] - 0s 4ms/step - loss: 1.7295 - accuracy: 0.5069 - val_loss: 2.2305 - val_accuracy: 0.2500\n",
      "Epoch 44/50\n",
      "6/6 [==============================] - 0s 4ms/step - loss: 1.6593 - accuracy: 0.5451 - val_loss: 2.1399 - val_accuracy: 0.3438\n",
      "Epoch 45/50\n",
      "6/6 [==============================] - 0s 4ms/step - loss: 1.6259 - accuracy: 0.5729 - val_loss: 2.1554 - val_accuracy: 0.3750\n",
      "Epoch 46/50\n",
      "6/6 [==============================] - 0s 5ms/step - loss: 1.6657 - accuracy: 0.5208 - val_loss: 2.1806 - val_accuracy: 0.2500\n",
      "Epoch 47/50\n",
      "6/6 [==============================] - 0s 5ms/step - loss: 1.6424 - accuracy: 0.5243 - val_loss: 2.0844 - val_accuracy: 0.3438\n",
      "Epoch 48/50\n",
      "6/6 [==============================] - 0s 5ms/step - loss: 1.5834 - accuracy: 0.5590 - val_loss: 2.0711 - val_accuracy: 0.4688\n",
      "Epoch 49/50\n",
      "6/6 [==============================] - 0s 5ms/step - loss: 1.5268 - accuracy: 0.5868 - val_loss: 2.0915 - val_accuracy: 0.3750\n",
      "Epoch 50/50\n",
      "6/6 [==============================] - 0s 5ms/step - loss: 1.5015 - accuracy: 0.5764 - val_loss: 2.1090 - val_accuracy: 0.3750\n"
     ]
    },
    {
     "data": {
      "text/plain": [
       "<keras.callbacks.History at 0x20092d21250>"
      ]
     },
     "execution_count": 11,
     "metadata": {},
     "output_type": "execute_result"
    }
   ],
   "source": [
    "face_model1 = Sequential()\n",
    "\n",
    "face_model1.add(Dense(50,activation=\"relu\"))\n",
    "face_model1.add(Dense(50,activation=\"relu\"))\n",
    "face_model1.add(Dense(50,activation=\"relu\"))\n",
    "face_model1.add(Dense(40,activation=\"softmax\"))\n",
    "\n",
    "face_model1.compile(\n",
    "    optimizer=\"adam\",\n",
    "    loss='sparse_categorical_crossentropy',\n",
    "    metrics=['accuracy']\n",
    ")\n",
    "\n",
    "face_model1.fit(X_train, y_train, epochs = 50 , batch_size = 50, validation_split=0.1)"
   ]
  },
  {
   "cell_type": "code",
   "execution_count": 12,
   "metadata": {},
   "outputs": [
    {
     "name": "stdout",
     "output_type": "stream",
     "text": [
      "Model: \"sequential_3\"\n",
      "_________________________________________________________________\n",
      "Layer (type)                 Output Shape              Param #   \n",
      "=================================================================\n",
      "dense_10 (Dense)             (None, 50)                204850    \n",
      "_________________________________________________________________\n",
      "dense_11 (Dense)             (None, 50)                2550      \n",
      "_________________________________________________________________\n",
      "dense_12 (Dense)             (None, 50)                2550      \n",
      "_________________________________________________________________\n",
      "dense_13 (Dense)             (None, 40)                2040      \n",
      "=================================================================\n",
      "Total params: 211,990\n",
      "Trainable params: 211,990\n",
      "Non-trainable params: 0\n",
      "_________________________________________________________________\n"
     ]
    },
    {
     "name": "stderr",
     "output_type": "stream",
     "text": [
      "C:\\Users\\Imene\\anaconda3\\lib\\site-packages\\sklearn\\metrics\\_classification.py:1308: UndefinedMetricWarning: Precision and F-score are ill-defined and being set to 0.0 in labels with no predicted samples. Use `zero_division` parameter to control this behavior.\n",
      "  _warn_prf(average, modifier, msg_start, len(result))\n",
      "C:\\Users\\Imene\\anaconda3\\lib\\site-packages\\sklearn\\metrics\\_classification.py:1308: UndefinedMetricWarning: Precision and F-score are ill-defined and being set to 0.0 in labels with no predicted samples. Use `zero_division` parameter to control this behavior.\n",
      "  _warn_prf(average, modifier, msg_start, len(result))\n",
      "C:\\Users\\Imene\\anaconda3\\lib\\site-packages\\sklearn\\metrics\\_classification.py:1308: UndefinedMetricWarning: Precision and F-score are ill-defined and being set to 0.0 in labels with no predicted samples. Use `zero_division` parameter to control this behavior.\n",
      "  _warn_prf(average, modifier, msg_start, len(result))\n"
     ]
    },
    {
     "data": {
      "text/html": [
       "<div>\n",
       "<style scoped>\n",
       "    .dataframe tbody tr th:only-of-type {\n",
       "        vertical-align: middle;\n",
       "    }\n",
       "\n",
       "    .dataframe tbody tr th {\n",
       "        vertical-align: top;\n",
       "    }\n",
       "\n",
       "    .dataframe thead th {\n",
       "        text-align: right;\n",
       "    }\n",
       "</style>\n",
       "<table border=\"1\" class=\"dataframe\">\n",
       "  <thead>\n",
       "    <tr style=\"text-align: right;\">\n",
       "      <th></th>\n",
       "      <th>0</th>\n",
       "      <th>1</th>\n",
       "      <th>2</th>\n",
       "      <th>3</th>\n",
       "      <th>4</th>\n",
       "      <th>5</th>\n",
       "      <th>6</th>\n",
       "      <th>7</th>\n",
       "      <th>8</th>\n",
       "      <th>9</th>\n",
       "      <th>...</th>\n",
       "      <th>33</th>\n",
       "      <th>34</th>\n",
       "      <th>35</th>\n",
       "      <th>36</th>\n",
       "      <th>37</th>\n",
       "      <th>38</th>\n",
       "      <th>39</th>\n",
       "      <th>accuracy</th>\n",
       "      <th>macro avg</th>\n",
       "      <th>weighted avg</th>\n",
       "    </tr>\n",
       "  </thead>\n",
       "  <tbody>\n",
       "    <tr>\n",
       "      <th>precision</th>\n",
       "      <td>0.0</td>\n",
       "      <td>1.000000</td>\n",
       "      <td>0.0</td>\n",
       "      <td>0.0</td>\n",
       "      <td>0.250000</td>\n",
       "      <td>0.250000</td>\n",
       "      <td>1.000000</td>\n",
       "      <td>0.333333</td>\n",
       "      <td>0.666667</td>\n",
       "      <td>0.5</td>\n",
       "      <td>...</td>\n",
       "      <td>1.000000</td>\n",
       "      <td>0.666667</td>\n",
       "      <td>0.333333</td>\n",
       "      <td>1.0</td>\n",
       "      <td>0.5</td>\n",
       "      <td>0.0</td>\n",
       "      <td>0.0</td>\n",
       "      <td>0.475</td>\n",
       "      <td>0.463889</td>\n",
       "      <td>0.463889</td>\n",
       "    </tr>\n",
       "    <tr>\n",
       "      <th>recall</th>\n",
       "      <td>0.0</td>\n",
       "      <td>0.500000</td>\n",
       "      <td>0.0</td>\n",
       "      <td>0.0</td>\n",
       "      <td>0.500000</td>\n",
       "      <td>0.500000</td>\n",
       "      <td>0.500000</td>\n",
       "      <td>1.000000</td>\n",
       "      <td>1.000000</td>\n",
       "      <td>0.5</td>\n",
       "      <td>...</td>\n",
       "      <td>0.500000</td>\n",
       "      <td>1.000000</td>\n",
       "      <td>0.500000</td>\n",
       "      <td>1.0</td>\n",
       "      <td>0.5</td>\n",
       "      <td>0.0</td>\n",
       "      <td>0.0</td>\n",
       "      <td>0.475</td>\n",
       "      <td>0.475000</td>\n",
       "      <td>0.475000</td>\n",
       "    </tr>\n",
       "    <tr>\n",
       "      <th>f1-score</th>\n",
       "      <td>0.0</td>\n",
       "      <td>0.666667</td>\n",
       "      <td>0.0</td>\n",
       "      <td>0.0</td>\n",
       "      <td>0.333333</td>\n",
       "      <td>0.333333</td>\n",
       "      <td>0.666667</td>\n",
       "      <td>0.500000</td>\n",
       "      <td>0.800000</td>\n",
       "      <td>0.5</td>\n",
       "      <td>...</td>\n",
       "      <td>0.666667</td>\n",
       "      <td>0.800000</td>\n",
       "      <td>0.400000</td>\n",
       "      <td>1.0</td>\n",
       "      <td>0.5</td>\n",
       "      <td>0.0</td>\n",
       "      <td>0.0</td>\n",
       "      <td>0.475</td>\n",
       "      <td>0.436591</td>\n",
       "      <td>0.436591</td>\n",
       "    </tr>\n",
       "    <tr>\n",
       "      <th>support</th>\n",
       "      <td>2.0</td>\n",
       "      <td>2.000000</td>\n",
       "      <td>2.0</td>\n",
       "      <td>2.0</td>\n",
       "      <td>2.000000</td>\n",
       "      <td>2.000000</td>\n",
       "      <td>2.000000</td>\n",
       "      <td>2.000000</td>\n",
       "      <td>2.000000</td>\n",
       "      <td>2.0</td>\n",
       "      <td>...</td>\n",
       "      <td>2.000000</td>\n",
       "      <td>2.000000</td>\n",
       "      <td>2.000000</td>\n",
       "      <td>2.0</td>\n",
       "      <td>2.0</td>\n",
       "      <td>2.0</td>\n",
       "      <td>2.0</td>\n",
       "      <td>0.475</td>\n",
       "      <td>80.000000</td>\n",
       "      <td>80.000000</td>\n",
       "    </tr>\n",
       "  </tbody>\n",
       "</table>\n",
       "<p>4 rows × 43 columns</p>\n",
       "</div>"
      ],
      "text/plain": [
       "             0         1    2    3         4         5         6         7  \\\n",
       "precision  0.0  1.000000  0.0  0.0  0.250000  0.250000  1.000000  0.333333   \n",
       "recall     0.0  0.500000  0.0  0.0  0.500000  0.500000  0.500000  1.000000   \n",
       "f1-score   0.0  0.666667  0.0  0.0  0.333333  0.333333  0.666667  0.500000   \n",
       "support    2.0  2.000000  2.0  2.0  2.000000  2.000000  2.000000  2.000000   \n",
       "\n",
       "                  8    9  ...        33        34        35   36   37   38  \\\n",
       "precision  0.666667  0.5  ...  1.000000  0.666667  0.333333  1.0  0.5  0.0   \n",
       "recall     1.000000  0.5  ...  0.500000  1.000000  0.500000  1.0  0.5  0.0   \n",
       "f1-score   0.800000  0.5  ...  0.666667  0.800000  0.400000  1.0  0.5  0.0   \n",
       "support    2.000000  2.0  ...  2.000000  2.000000  2.000000  2.0  2.0  2.0   \n",
       "\n",
       "            39  accuracy  macro avg  weighted avg  \n",
       "precision  0.0     0.475   0.463889      0.463889  \n",
       "recall     0.0     0.475   0.475000      0.475000  \n",
       "f1-score   0.0     0.475   0.436591      0.436591  \n",
       "support    2.0     0.475  80.000000     80.000000  \n",
       "\n",
       "[4 rows x 43 columns]"
      ]
     },
     "execution_count": 12,
     "metadata": {},
     "output_type": "execute_result"
    }
   ],
   "source": [
    "face_model1.summary()\n",
    "predictions = np.argmax(face_model1.predict(X_test),axis=1)\n",
    "pd.DataFrame(classification_report(y_test,predictions, output_dict = True))"
   ]
  },
  {
   "cell_type": "markdown",
   "metadata": {},
   "source": [
    "#### Conclusion\n",
    "\n",
    "We exceeded 0.3 accuracy with a model of 3 hidden layers having 50 neurons each (211,990 parameters in total) and trained with 50 epochs.\n",
    "while dealing with the iris datset we could achieve 0.97 accuracy with only 2 hidden layers having 10 neurons each.\n",
    "Image data is complex in contrast with the iris dataset. That's why fully connected networks are not very performant when dealing with image datasets. \n",
    "That's why we need to use CNNs instead."
   ]
  },
  {
   "cell_type": "markdown",
   "metadata": {},
   "source": [
    "# CNN"
   ]
  },
  {
   "cell_type": "code",
   "execution_count": 28,
   "metadata": {
    "id": "wCOzUE1OYTMJ"
   },
   "outputs": [],
   "source": [
    "faces_cnn = faces.reshape((400,1,64,64))"
   ]
  },
  {
   "cell_type": "code",
   "execution_count": 29,
   "metadata": {
    "colab": {
     "base_uri": "https://localhost:8080/",
     "height": 285
    },
    "id": "F9LTZCnLZBJz",
    "outputId": "2b3f2819-a765-4c85-d705-ec70095ccd2a"
   },
   "outputs": [
    {
     "data": {
      "text/plain": [
       "<matplotlib.image.AxesImage at 0x2963c618400>"
      ]
     },
     "execution_count": 29,
     "metadata": {},
     "output_type": "execute_result"
    },
    {
     "data": {
      "image/png": "[encoded data removed]",
      "text/plain": [
       "<Figure size 432x288 with 1 Axes>"
      ]
     },
     "metadata": {
      "needs_background": "light"
     },
     "output_type": "display_data"
    }
   ],
   "source": [
    "plt.imshow(faces_cnn[0][0])"
   ]
  },
  {
   "cell_type": "code",
   "execution_count": 30,
   "metadata": {
    "id": "Iv9HXzcgbuos"
   },
   "outputs": [],
   "source": [
    "X_train, X_test, y_train, y_test  = train_test_split(faces_cnn,y,test_size=0.2,stratify=y,random_state=500)"
   ]
  },
  {
   "cell_type": "code",
   "execution_count": 31,
   "metadata": {
    "colab": {
     "base_uri": "https://localhost:8080/"
    },
    "id": "kPPzeNvpcKES",
    "outputId": "2b618d8e-bceb-4924-8423-e1da27f0ed90"
   },
   "outputs": [
    {
     "data": {
      "text/plain": [
       "(320, 1, 64, 64)"
      ]
     },
     "execution_count": 31,
     "metadata": {},
     "output_type": "execute_result"
    }
   ],
   "source": [
    "X_train.shape"
   ]
  },
  {
   "cell_type": "code",
   "execution_count": 32,
   "metadata": {
    "id": "lwDraFJ0UMrJ"
   },
   "outputs": [],
   "source": [
    "from tensorflow.keras.layers import Conv2D,Flatten\n",
    "\n",
    "faces_model_CNN = Sequential()\n",
    "\n",
    "faces_model_CNN.add(Conv2D(filters=64,kernel_size=(3,3),input_shape=(1,64,64),activation=\"relu\",padding=\"same\"))\n",
    "faces_model_CNN.add(Conv2D(filters=32,kernel_size=(3,3),activation=\"relu\",padding=\"same\"))\n",
    "faces_model_CNN.add(Conv2D(filters=16,kernel_size=(3,3),activation=\"relu\",padding=\"same\"))\n",
    "faces_model_CNN.add(Conv2D(filters=8,kernel_size=(3,3),activation=\"relu\",padding=\"same\"))\n",
    "faces_model_CNN.add(Flatten())\n",
    "faces_model_CNN.add(Dense(100,activation=\"relu\"))\n",
    "\n",
    "faces_model_CNN.add(Dense(40,activation=\"softmax\"))\n"
   ]
  },
  {
   "cell_type": "code",
   "execution_count": 33,
   "metadata": {
    "id": "piMYLDFVcGl0"
   },
   "outputs": [],
   "source": [
    "from tensorflow.keras.optimizers import Adam"
   ]
  },
  {
   "cell_type": "code",
   "execution_count": 34,
   "metadata": {
    "id": "jSOW2dIiZjZ5"
   },
   "outputs": [],
   "source": [
    "faces_model_CNN.compile(\n",
    "    optimizer=Adam(learning_rate=0.0001),\n",
    "    loss='sparse_categorical_crossentropy',\n",
    "    metrics=['accuracy']\n",
    ")"
   ]
  },
  {
   "cell_type": "code",
   "execution_count": 35,
   "metadata": {
    "colab": {
     "base_uri": "https://localhost:8080/"
    },
    "id": "yPml_6l2bVqT",
    "outputId": "2b53f48c-fa06-4d01-e4f8-0f86c3d74177"
   },
   "outputs": [
    {
     "name": "stdout",
     "output_type": "stream",
     "text": [
      "Epoch 1/50\n",
      "6/6 [==============================] - 0s 35ms/step - loss: 3.6892 - accuracy: 0.0278 - val_loss: 3.6856 - val_accuracy: 0.0312\n",
      "Epoch 2/50\n",
      "6/6 [==============================] - 0s 16ms/step - loss: 3.6879 - accuracy: 0.0243 - val_loss: 3.6854 - val_accuracy: 0.0312\n",
      "Epoch 3/50\n",
      "6/6 [==============================] - 0s 12ms/step - loss: 3.6869 - accuracy: 0.0243 - val_loss: 3.6853 - val_accuracy: 0.0312\n",
      "Epoch 4/50\n",
      "6/6 [==============================] - 0s 12ms/step - loss: 3.6861 - accuracy: 0.0243 - val_loss: 3.6850 - val_accuracy: 0.0312\n",
      "Epoch 5/50\n",
      "6/6 [==============================] - 0s 12ms/step - loss: 3.6850 - accuracy: 0.0243 - val_loss: 3.6844 - val_accuracy: 0.0312\n",
      "Epoch 6/50\n",
      "6/6 [==============================] - 0s 12ms/step - loss: 3.6842 - accuracy: 0.0243 - val_loss: 3.6835 - val_accuracy: 0.0312\n",
      "Epoch 7/50\n",
      "6/6 [==============================] - 0s 12ms/step - loss: 3.6829 - accuracy: 0.0243 - val_loss: 3.6829 - val_accuracy: 0.0312\n",
      "Epoch 8/50\n",
      "6/6 [==============================] - 0s 12ms/step - loss: 3.6817 - accuracy: 0.0243 - val_loss: 3.6818 - val_accuracy: 0.0312\n",
      "Epoch 9/50\n",
      "6/6 [==============================] - 0s 12ms/step - loss: 3.6802 - accuracy: 0.0243 - val_loss: 3.6806 - val_accuracy: 0.0312\n",
      "Epoch 10/50\n",
      "6/6 [==============================] - 0s 12ms/step - loss: 3.6785 - accuracy: 0.0243 - val_loss: 3.6792 - val_accuracy: 0.0312\n",
      "Epoch 11/50\n",
      "6/6 [==============================] - 0s 12ms/step - loss: 3.6766 - accuracy: 0.0243 - val_loss: 3.6776 - val_accuracy: 0.0312\n",
      "Epoch 12/50\n",
      "6/6 [==============================] - 0s 12ms/step - loss: 3.6741 - accuracy: 0.0243 - val_loss: 3.6758 - val_accuracy: 0.0312\n",
      "Epoch 13/50\n",
      "6/6 [==============================] - 0s 12ms/step - loss: 3.6708 - accuracy: 0.0278 - val_loss: 3.6741 - val_accuracy: 0.0312\n",
      "Epoch 14/50\n",
      "6/6 [==============================] - 0s 12ms/step - loss: 3.6674 - accuracy: 0.0278 - val_loss: 3.6712 - val_accuracy: 0.0312\n",
      "Epoch 15/50\n",
      "6/6 [==============================] - 0s 16ms/step - loss: 3.6632 - accuracy: 0.0278 - val_loss: 3.6680 - val_accuracy: 0.0312\n",
      "Epoch 16/50\n",
      "6/6 [==============================] - 0s 22ms/step - loss: 3.6582 - accuracy: 0.0312 - val_loss: 3.6646 - val_accuracy: 0.0312\n",
      "Epoch 17/50\n",
      "6/6 [==============================] - 0s 16ms/step - loss: 3.6522 - accuracy: 0.0312 - val_loss: 3.6589 - val_accuracy: 0.0312\n",
      "Epoch 18/50\n",
      "6/6 [==============================] - 0s 15ms/step - loss: 3.6454 - accuracy: 0.0312 - val_loss: 3.6527 - val_accuracy: 0.0312\n",
      "Epoch 19/50\n",
      "6/6 [==============================] - 0s 13ms/step - loss: 3.6356 - accuracy: 0.0347 - val_loss: 3.6467 - val_accuracy: 0.0312\n",
      "Epoch 20/50\n",
      "6/6 [==============================] - 0s 13ms/step - loss: 3.6260 - accuracy: 0.0312 - val_loss: 3.6406 - val_accuracy: 0.0312\n",
      "Epoch 21/50\n",
      "6/6 [==============================] - 0s 14ms/step - loss: 3.6132 - accuracy: 0.0382 - val_loss: 3.6311 - val_accuracy: 0.0312\n",
      "Epoch 22/50\n",
      "6/6 [==============================] - 0s 12ms/step - loss: 3.5982 - accuracy: 0.0486 - val_loss: 3.6209 - val_accuracy: 0.0312\n",
      "Epoch 23/50\n",
      "6/6 [==============================] - 0s 12ms/step - loss: 3.5804 - accuracy: 0.0521 - val_loss: 3.6080 - val_accuracy: 0.0312\n",
      "Epoch 24/50\n",
      "6/6 [==============================] - 0s 13ms/step - loss: 3.5636 - accuracy: 0.0382 - val_loss: 3.5932 - val_accuracy: 0.0312\n",
      "Epoch 25/50\n",
      "6/6 [==============================] - 0s 12ms/step - loss: 3.5381 - accuracy: 0.0833 - val_loss: 3.5745 - val_accuracy: 0.0312\n",
      "Epoch 26/50\n",
      "6/6 [==============================] - 0s 12ms/step - loss: 3.5139 - accuracy: 0.0451 - val_loss: 3.5604 - val_accuracy: 0.0312\n",
      "Epoch 27/50\n",
      "6/6 [==============================] - 0s 16ms/step - loss: 3.4868 - accuracy: 0.1007 - val_loss: 3.5382 - val_accuracy: 0.0625\n",
      "Epoch 28/50\n",
      "6/6 [==============================] - 0s 17ms/step - loss: 3.4586 - accuracy: 0.0625 - val_loss: 3.5161 - val_accuracy: 0.0312\n",
      "Epoch 29/50\n",
      "6/6 [==============================] - 0s 13ms/step - loss: 3.4236 - accuracy: 0.1354 - val_loss: 3.4814 - val_accuracy: 0.0625\n",
      "Epoch 30/50\n",
      "6/6 [==============================] - 0s 14ms/step - loss: 3.3815 - accuracy: 0.1181 - val_loss: 3.4525 - val_accuracy: 0.0625\n",
      "Epoch 31/50\n",
      "6/6 [==============================] - 0s 15ms/step - loss: 3.3444 - accuracy: 0.1701 - val_loss: 3.4238 - val_accuracy: 0.0625\n",
      "Epoch 32/50\n",
      "6/6 [==============================] - 0s 14ms/step - loss: 3.3062 - accuracy: 0.1493 - val_loss: 3.3867 - val_accuracy: 0.0938\n",
      "Epoch 33/50\n",
      "6/6 [==============================] - 0s 14ms/step - loss: 3.2684 - accuracy: 0.1840 - val_loss: 3.3464 - val_accuracy: 0.0938\n",
      "Epoch 34/50\n",
      "6/6 [==============================] - 0s 12ms/step - loss: 3.2098 - accuracy: 0.1771 - val_loss: 3.3149 - val_accuracy: 0.1250\n",
      "Epoch 35/50\n",
      "6/6 [==============================] - 0s 13ms/step - loss: 3.1479 - accuracy: 0.1979 - val_loss: 3.2900 - val_accuracy: 0.0625\n",
      "Epoch 36/50\n",
      "6/6 [==============================] - 0s 14ms/step - loss: 3.1059 - accuracy: 0.2014 - val_loss: 3.2233 - val_accuracy: 0.1250\n",
      "Epoch 37/50\n",
      "6/6 [==============================] - 0s 12ms/step - loss: 3.0379 - accuracy: 0.2257 - val_loss: 3.1908 - val_accuracy: 0.0938\n",
      "Epoch 38/50\n",
      "6/6 [==============================] - 0s 14ms/step - loss: 2.9806 - accuracy: 0.2292 - val_loss: 3.1493 - val_accuracy: 0.1250\n",
      "Epoch 39/50\n",
      "6/6 [==============================] - 0s 12ms/step - loss: 2.9054 - accuracy: 0.2639 - val_loss: 3.1074 - val_accuracy: 0.1250\n",
      "Epoch 40/50\n",
      "6/6 [==============================] - 0s 19ms/step - loss: 2.8302 - accuracy: 0.2882 - val_loss: 3.0303 - val_accuracy: 0.1250\n",
      "Epoch 41/50\n",
      "6/6 [==============================] - 0s 12ms/step - loss: 2.7533 - accuracy: 0.3056 - val_loss: 2.9850 - val_accuracy: 0.1562\n",
      "Epoch 42/50\n",
      "6/6 [==============================] - 0s 13ms/step - loss: 2.6773 - accuracy: 0.3333 - val_loss: 2.9389 - val_accuracy: 0.1250\n",
      "Epoch 43/50\n",
      "6/6 [==============================] - 0s 12ms/step - loss: 2.5941 - accuracy: 0.3507 - val_loss: 2.8892 - val_accuracy: 0.2188\n",
      "Epoch 44/50\n",
      "6/6 [==============================] - 0s 12ms/step - loss: 2.5190 - accuracy: 0.4062 - val_loss: 2.7867 - val_accuracy: 0.2188\n",
      "Epoch 45/50\n",
      "6/6 [==============================] - 0s 12ms/step - loss: 2.4538 - accuracy: 0.4340 - val_loss: 2.7516 - val_accuracy: 0.3125\n",
      "Epoch 46/50\n",
      "6/6 [==============================] - 0s 12ms/step - loss: 2.3396 - accuracy: 0.4757 - val_loss: 2.6876 - val_accuracy: 0.2188\n",
      "Epoch 47/50\n",
      "6/6 [==============================] - 0s 12ms/step - loss: 2.2474 - accuracy: 0.4896 - val_loss: 2.6104 - val_accuracy: 0.3750\n",
      "Epoch 48/50\n",
      "6/6 [==============================] - 0s 12ms/step - loss: 2.1398 - accuracy: 0.5694 - val_loss: 2.5306 - val_accuracy: 0.4375\n",
      "Epoch 49/50\n",
      "6/6 [==============================] - 0s 12ms/step - loss: 2.0508 - accuracy: 0.6042 - val_loss: 2.4418 - val_accuracy: 0.4375\n",
      "Epoch 50/50\n",
      "6/6 [==============================] - 0s 12ms/step - loss: 1.9524 - accuracy: 0.6181 - val_loss: 2.3799 - val_accuracy: 0.5000\n"
     ]
    },
    {
     "data": {
      "text/plain": [
       "<keras.callbacks.History at 0x2963af3c400>"
      ]
     },
     "execution_count": 35,
     "metadata": {},
     "output_type": "execute_result"
    }
   ],
   "source": [
    "faces_model_CNN.fit(X_train, y_train,validation_split=0.1,epochs = 50,batch_size = 50)"
   ]
  },
  {
   "cell_type": "code",
   "execution_count": 36,
   "metadata": {
    "id": "Pd_LDluPbZEn"
   },
   "outputs": [
    {
     "name": "stdout",
     "output_type": "stream",
     "text": [
      "Model: \"sequential_5\"\n",
      "_________________________________________________________________\n",
      "Layer (type)                 Output Shape              Param #   \n",
      "=================================================================\n",
      "conv2d (Conv2D)              (None, 1, 64, 64)         36928     \n",
      "_________________________________________________________________\n",
      "conv2d_1 (Conv2D)            (None, 1, 64, 32)         18464     \n",
      "_________________________________________________________________\n",
      "conv2d_2 (Conv2D)            (None, 1, 64, 16)         4624      \n",
      "_________________________________________________________________\n",
      "conv2d_3 (Conv2D)            (None, 1, 64, 8)          1160      \n",
      "_________________________________________________________________\n",
      "flatten (Flatten)            (None, 512)               0         \n",
      "_________________________________________________________________\n",
      "dense_19 (Dense)             (None, 100)               51300     \n",
      "_________________________________________________________________\n",
      "dense_20 (Dense)             (None, 40)                4040      \n",
      "=================================================================\n",
      "Total params: 116,516\n",
      "Trainable params: 116,516\n",
      "Non-trainable params: 0\n",
      "_________________________________________________________________\n"
     ]
    },
    {
     "name": "stderr",
     "output_type": "stream",
     "text": [
      "C:\\Users\\Imene\\anaconda3\\lib\\site-packages\\sklearn\\metrics\\_classification.py:1308: UndefinedMetricWarning: Precision and F-score are ill-defined and being set to 0.0 in labels with no predicted samples. Use `zero_division` parameter to control this behavior.\n",
      "  _warn_prf(average, modifier, msg_start, len(result))\n",
      "C:\\Users\\Imene\\anaconda3\\lib\\site-packages\\sklearn\\metrics\\_classification.py:1308: UndefinedMetricWarning: Precision and F-score are ill-defined and being set to 0.0 in labels with no predicted samples. Use `zero_division` parameter to control this behavior.\n",
      "  _warn_prf(average, modifier, msg_start, len(result))\n",
      "C:\\Users\\Imene\\anaconda3\\lib\\site-packages\\sklearn\\metrics\\_classification.py:1308: UndefinedMetricWarning: Precision and F-score are ill-defined and being set to 0.0 in labels with no predicted samples. Use `zero_division` parameter to control this behavior.\n",
      "  _warn_prf(average, modifier, msg_start, len(result))\n"
     ]
    },
    {
     "data": {
      "text/html": [
       "<div>\n",
       "<style scoped>\n",
       "    .dataframe tbody tr th:only-of-type {\n",
       "        vertical-align: middle;\n",
       "    }\n",
       "\n",
       "    .dataframe tbody tr th {\n",
       "        vertical-align: top;\n",
       "    }\n",
       "\n",
       "    .dataframe thead th {\n",
       "        text-align: right;\n",
       "    }\n",
       "</style>\n",
       "<table border=\"1\" class=\"dataframe\">\n",
       "  <thead>\n",
       "    <tr style=\"text-align: right;\">\n",
       "      <th></th>\n",
       "      <th>0</th>\n",
       "      <th>1</th>\n",
       "      <th>2</th>\n",
       "      <th>3</th>\n",
       "      <th>4</th>\n",
       "      <th>5</th>\n",
       "      <th>6</th>\n",
       "      <th>7</th>\n",
       "      <th>8</th>\n",
       "      <th>9</th>\n",
       "      <th>...</th>\n",
       "      <th>33</th>\n",
       "      <th>34</th>\n",
       "      <th>35</th>\n",
       "      <th>36</th>\n",
       "      <th>37</th>\n",
       "      <th>38</th>\n",
       "      <th>39</th>\n",
       "      <th>accuracy</th>\n",
       "      <th>macro avg</th>\n",
       "      <th>weighted avg</th>\n",
       "    </tr>\n",
       "  </thead>\n",
       "  <tbody>\n",
       "    <tr>\n",
       "      <th>precision</th>\n",
       "      <td>0.0</td>\n",
       "      <td>0.666667</td>\n",
       "      <td>0.0</td>\n",
       "      <td>0.0</td>\n",
       "      <td>0.0</td>\n",
       "      <td>0.333333</td>\n",
       "      <td>0.0</td>\n",
       "      <td>0.250000</td>\n",
       "      <td>0.333333</td>\n",
       "      <td>0.666667</td>\n",
       "      <td>...</td>\n",
       "      <td>0.500000</td>\n",
       "      <td>0.500000</td>\n",
       "      <td>0.250000</td>\n",
       "      <td>1.0</td>\n",
       "      <td>0.0</td>\n",
       "      <td>0.500000</td>\n",
       "      <td>0.0</td>\n",
       "      <td>0.45</td>\n",
       "      <td>0.324583</td>\n",
       "      <td>0.324583</td>\n",
       "    </tr>\n",
       "    <tr>\n",
       "      <th>recall</th>\n",
       "      <td>0.0</td>\n",
       "      <td>1.000000</td>\n",
       "      <td>0.0</td>\n",
       "      <td>0.0</td>\n",
       "      <td>0.0</td>\n",
       "      <td>0.500000</td>\n",
       "      <td>0.0</td>\n",
       "      <td>0.500000</td>\n",
       "      <td>1.000000</td>\n",
       "      <td>1.000000</td>\n",
       "      <td>...</td>\n",
       "      <td>1.000000</td>\n",
       "      <td>1.000000</td>\n",
       "      <td>0.500000</td>\n",
       "      <td>1.0</td>\n",
       "      <td>0.0</td>\n",
       "      <td>1.000000</td>\n",
       "      <td>0.0</td>\n",
       "      <td>0.45</td>\n",
       "      <td>0.450000</td>\n",
       "      <td>0.450000</td>\n",
       "    </tr>\n",
       "    <tr>\n",
       "      <th>f1-score</th>\n",
       "      <td>0.0</td>\n",
       "      <td>0.800000</td>\n",
       "      <td>0.0</td>\n",
       "      <td>0.0</td>\n",
       "      <td>0.0</td>\n",
       "      <td>0.400000</td>\n",
       "      <td>0.0</td>\n",
       "      <td>0.333333</td>\n",
       "      <td>0.500000</td>\n",
       "      <td>0.800000</td>\n",
       "      <td>...</td>\n",
       "      <td>0.666667</td>\n",
       "      <td>0.666667</td>\n",
       "      <td>0.333333</td>\n",
       "      <td>1.0</td>\n",
       "      <td>0.0</td>\n",
       "      <td>0.666667</td>\n",
       "      <td>0.0</td>\n",
       "      <td>0.45</td>\n",
       "      <td>0.358452</td>\n",
       "      <td>0.358452</td>\n",
       "    </tr>\n",
       "    <tr>\n",
       "      <th>support</th>\n",
       "      <td>2.0</td>\n",
       "      <td>2.000000</td>\n",
       "      <td>2.0</td>\n",
       "      <td>2.0</td>\n",
       "      <td>2.0</td>\n",
       "      <td>2.000000</td>\n",
       "      <td>2.0</td>\n",
       "      <td>2.000000</td>\n",
       "      <td>2.000000</td>\n",
       "      <td>2.000000</td>\n",
       "      <td>...</td>\n",
       "      <td>2.000000</td>\n",
       "      <td>2.000000</td>\n",
       "      <td>2.000000</td>\n",
       "      <td>2.0</td>\n",
       "      <td>2.0</td>\n",
       "      <td>2.000000</td>\n",
       "      <td>2.0</td>\n",
       "      <td>0.45</td>\n",
       "      <td>80.000000</td>\n",
       "      <td>80.000000</td>\n",
       "    </tr>\n",
       "  </tbody>\n",
       "</table>\n",
       "<p>4 rows × 43 columns</p>\n",
       "</div>"
      ],
      "text/plain": [
       "             0         1    2    3    4         5    6         7         8  \\\n",
       "precision  0.0  0.666667  0.0  0.0  0.0  0.333333  0.0  0.250000  0.333333   \n",
       "recall     0.0  1.000000  0.0  0.0  0.0  0.500000  0.0  0.500000  1.000000   \n",
       "f1-score   0.0  0.800000  0.0  0.0  0.0  0.400000  0.0  0.333333  0.500000   \n",
       "support    2.0  2.000000  2.0  2.0  2.0  2.000000  2.0  2.000000  2.000000   \n",
       "\n",
       "                  9  ...        33        34        35   36   37        38  \\\n",
       "precision  0.666667  ...  0.500000  0.500000  0.250000  1.0  0.0  0.500000   \n",
       "recall     1.000000  ...  1.000000  1.000000  0.500000  1.0  0.0  1.000000   \n",
       "f1-score   0.800000  ...  0.666667  0.666667  0.333333  1.0  0.0  0.666667   \n",
       "support    2.000000  ...  2.000000  2.000000  2.000000  2.0  2.0  2.000000   \n",
       "\n",
       "            39  accuracy  macro avg  weighted avg  \n",
       "precision  0.0      0.45   0.324583      0.324583  \n",
       "recall     0.0      0.45   0.450000      0.450000  \n",
       "f1-score   0.0      0.45   0.358452      0.358452  \n",
       "support    2.0      0.45  80.000000     80.000000  \n",
       "\n",
       "[4 rows x 43 columns]"
      ]
     },
     "execution_count": 36,
     "metadata": {},
     "output_type": "execute_result"
    }
   ],
   "source": [
    "faces_model_CNN.summary()\n",
    "predictions = np.argmax(faces_model_CNN.predict(X_test),axis=1)\n",
    "pd.DataFrame(classification_report(y_test,predictions, output_dict = True))"
   ]
  }
 ],
 "metadata": {
  "accelerator": "GPU",
  "colab": {
   "collapsed_sections": [],
   "name": "TpDeeplearning.ipynb",
   "provenance": []
  },
  "kernelspec": {
   "display_name": "Python 3",
   "language": "python",
   "name": "python3"
  },
  "language_info": {
   "codemirror_mode": {
    "name": "ipython",
    "version": 3
   },
   "file_extension": ".py",
   "mimetype": "text/x-python",
   "name": "python",
   "nbconvert_exporter": "python",
   "pygments_lexer": "ipython3",
   "version": "3.8.5"
  }
 },
 "nbformat": 4,
 "nbformat_minor": 1
}
