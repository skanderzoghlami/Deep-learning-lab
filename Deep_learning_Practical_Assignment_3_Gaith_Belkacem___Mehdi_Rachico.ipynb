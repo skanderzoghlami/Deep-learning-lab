{
  "nbformat": 4,
  "nbformat_minor": 0,
  "metadata": {
    "colab": {
      "name": "Deep learning Practical Assignment #3  -  Gaith Belkacem & Mehdi Rachico",
      "provenance": [],
      "collapsed_sections": []
    },
    "kernelspec": {
      "name": "python3",
      "display_name": "Python 3"
    },
    "language_info": {
      "name": "python"
    }
  },
  "cells": [
    {
      "cell_type": "markdown",
      "source": [
        "# Deep learning Practical Assignment 3 : CNN\n",
        "<ul>\n",
        "<li><strong>Members :</strong> Belkacem Mohamed Ghaith & Rachico Mehdi </li>\n",
        "<li><strong>Objective : </strong>Create a CNN-based model & train different models on different datasets</li>\n",
        "</ul>"
      ],
      "metadata": {
        "id": "q30Nc4Wv7yP_"
      }
    },
    {
      "cell_type": "markdown",
      "source": [
        "#  Libraries used"
      ],
      "metadata": {
        "id": "pA9KrN4V8els"
      }
    },
    {
      "cell_type": "code",
      "execution_count": 1,
      "metadata": {
        "colab": {
          "base_uri": "https://localhost:8080/"
        },
        "id": "NCCDyVMt4-KQ",
        "outputId": "e44f0a3c-4125-4090-a92c-cf893cccfb87"
      },
      "outputs": [
        {
          "output_type": "stream",
          "name": "stdout",
          "text": [
            "Requirement already satisfied: tensorflow==2.7.0 in /usr/local/lib/python3.7/dist-packages (2.7.0)\n",
            "Requirement already satisfied: keras<2.8,>=2.7.0rc0 in /usr/local/lib/python3.7/dist-packages (from tensorflow==2.7.0) (2.7.0)\n",
            "Requirement already satisfied: google-pasta>=0.1.1 in /usr/local/lib/python3.7/dist-packages (from tensorflow==2.7.0) (0.2.0)\n",
            "Requirement already satisfied: opt-einsum>=2.3.2 in /usr/local/lib/python3.7/dist-packages (from tensorflow==2.7.0) (3.3.0)\n",
            "Requirement already satisfied: flatbuffers<3.0,>=1.12 in /usr/local/lib/python3.7/dist-packages (from tensorflow==2.7.0) (2.0)\n",
            "Requirement already satisfied: gast<0.5.0,>=0.2.1 in /usr/local/lib/python3.7/dist-packages (from tensorflow==2.7.0) (0.4.0)\n",
            "Requirement already satisfied: libclang>=9.0.1 in /usr/local/lib/python3.7/dist-packages (from tensorflow==2.7.0) (12.0.0)\n",
            "Requirement already satisfied: typing-extensions>=3.6.6 in /usr/local/lib/python3.7/dist-packages (from tensorflow==2.7.0) (3.10.0.2)\n",
            "Requirement already satisfied: keras-preprocessing>=1.1.1 in /usr/local/lib/python3.7/dist-packages (from tensorflow==2.7.0) (1.1.2)\n",
            "Requirement already satisfied: termcolor>=1.1.0 in /usr/local/lib/python3.7/dist-packages (from tensorflow==2.7.0) (1.1.0)\n",
            "Requirement already satisfied: tensorflow-io-gcs-filesystem>=0.21.0 in /usr/local/lib/python3.7/dist-packages (from tensorflow==2.7.0) (0.22.0)\n",
            "Requirement already satisfied: astunparse>=1.6.0 in /usr/local/lib/python3.7/dist-packages (from tensorflow==2.7.0) (1.6.3)\n",
            "Requirement already satisfied: tensorboard~=2.6 in /usr/local/lib/python3.7/dist-packages (from tensorflow==2.7.0) (2.7.0)\n",
            "Requirement already satisfied: numpy>=1.14.5 in /usr/local/lib/python3.7/dist-packages (from tensorflow==2.7.0) (1.19.5)\n",
            "Requirement already satisfied: grpcio<2.0,>=1.24.3 in /usr/local/lib/python3.7/dist-packages (from tensorflow==2.7.0) (1.42.0)\n",
            "Requirement already satisfied: wrapt>=1.11.0 in /usr/local/lib/python3.7/dist-packages (from tensorflow==2.7.0) (1.13.3)\n",
            "Requirement already satisfied: tensorflow-estimator<2.8,~=2.7.0rc0 in /usr/local/lib/python3.7/dist-packages (from tensorflow==2.7.0) (2.7.0)\n",
            "Requirement already satisfied: wheel<1.0,>=0.32.0 in /usr/local/lib/python3.7/dist-packages (from tensorflow==2.7.0) (0.37.0)\n",
            "Requirement already satisfied: protobuf>=3.9.2 in /usr/local/lib/python3.7/dist-packages (from tensorflow==2.7.0) (3.17.3)\n",
            "Requirement already satisfied: absl-py>=0.4.0 in /usr/local/lib/python3.7/dist-packages (from tensorflow==2.7.0) (0.12.0)\n",
            "Requirement already satisfied: six>=1.12.0 in /usr/local/lib/python3.7/dist-packages (from tensorflow==2.7.0) (1.15.0)\n",
            "Requirement already satisfied: h5py>=2.9.0 in /usr/local/lib/python3.7/dist-packages (from tensorflow==2.7.0) (3.1.0)\n",
            "Requirement already satisfied: cached-property in /usr/local/lib/python3.7/dist-packages (from h5py>=2.9.0->tensorflow==2.7.0) (1.5.2)\n",
            "Requirement already satisfied: google-auth-oauthlib<0.5,>=0.4.1 in /usr/local/lib/python3.7/dist-packages (from tensorboard~=2.6->tensorflow==2.7.0) (0.4.6)\n",
            "Requirement already satisfied: setuptools>=41.0.0 in /usr/local/lib/python3.7/dist-packages (from tensorboard~=2.6->tensorflow==2.7.0) (57.4.0)\n",
            "Requirement already satisfied: tensorboard-plugin-wit>=1.6.0 in /usr/local/lib/python3.7/dist-packages (from tensorboard~=2.6->tensorflow==2.7.0) (1.8.0)\n",
            "Requirement already satisfied: requests<3,>=2.21.0 in /usr/local/lib/python3.7/dist-packages (from tensorboard~=2.6->tensorflow==2.7.0) (2.23.0)\n",
            "Requirement already satisfied: werkzeug>=0.11.15 in /usr/local/lib/python3.7/dist-packages (from tensorboard~=2.6->tensorflow==2.7.0) (1.0.1)\n",
            "Requirement already satisfied: tensorboard-data-server<0.7.0,>=0.6.0 in /usr/local/lib/python3.7/dist-packages (from tensorboard~=2.6->tensorflow==2.7.0) (0.6.1)\n",
            "Requirement already satisfied: google-auth<3,>=1.6.3 in /usr/local/lib/python3.7/dist-packages (from tensorboard~=2.6->tensorflow==2.7.0) (1.35.0)\n",
            "Requirement already satisfied: markdown>=2.6.8 in /usr/local/lib/python3.7/dist-packages (from tensorboard~=2.6->tensorflow==2.7.0) (3.3.6)\n",
            "Requirement already satisfied: pyasn1-modules>=0.2.1 in /usr/local/lib/python3.7/dist-packages (from google-auth<3,>=1.6.3->tensorboard~=2.6->tensorflow==2.7.0) (0.2.8)\n",
            "Requirement already satisfied: cachetools<5.0,>=2.0.0 in /usr/local/lib/python3.7/dist-packages (from google-auth<3,>=1.6.3->tensorboard~=2.6->tensorflow==2.7.0) (4.2.4)\n",
            "Requirement already satisfied: rsa<5,>=3.1.4 in /usr/local/lib/python3.7/dist-packages (from google-auth<3,>=1.6.3->tensorboard~=2.6->tensorflow==2.7.0) (4.8)\n",
            "Requirement already satisfied: requests-oauthlib>=0.7.0 in /usr/local/lib/python3.7/dist-packages (from google-auth-oauthlib<0.5,>=0.4.1->tensorboard~=2.6->tensorflow==2.7.0) (1.3.0)\n",
            "Requirement already satisfied: importlib-metadata>=4.4 in /usr/local/lib/python3.7/dist-packages (from markdown>=2.6.8->tensorboard~=2.6->tensorflow==2.7.0) (4.8.2)\n",
            "Requirement already satisfied: zipp>=0.5 in /usr/local/lib/python3.7/dist-packages (from importlib-metadata>=4.4->markdown>=2.6.8->tensorboard~=2.6->tensorflow==2.7.0) (3.6.0)\n",
            "Requirement already satisfied: pyasn1<0.5.0,>=0.4.6 in /usr/local/lib/python3.7/dist-packages (from pyasn1-modules>=0.2.1->google-auth<3,>=1.6.3->tensorboard~=2.6->tensorflow==2.7.0) (0.4.8)\n",
            "Requirement already satisfied: urllib3!=1.25.0,!=1.25.1,<1.26,>=1.21.1 in /usr/local/lib/python3.7/dist-packages (from requests<3,>=2.21.0->tensorboard~=2.6->tensorflow==2.7.0) (1.24.3)\n",
            "Requirement already satisfied: idna<3,>=2.5 in /usr/local/lib/python3.7/dist-packages (from requests<3,>=2.21.0->tensorboard~=2.6->tensorflow==2.7.0) (2.10)\n",
            "Requirement already satisfied: chardet<4,>=3.0.2 in /usr/local/lib/python3.7/dist-packages (from requests<3,>=2.21.0->tensorboard~=2.6->tensorflow==2.7.0) (3.0.4)\n",
            "Requirement already satisfied: certifi>=2017.4.17 in /usr/local/lib/python3.7/dist-packages (from requests<3,>=2.21.0->tensorboard~=2.6->tensorflow==2.7.0) (2021.10.8)\n",
            "Requirement already satisfied: oauthlib>=3.0.0 in /usr/local/lib/python3.7/dist-packages (from requests-oauthlib>=0.7.0->google-auth-oauthlib<0.5,>=0.4.1->tensorboard~=2.6->tensorflow==2.7.0) (3.1.1)\n",
            "Requirement already satisfied: numpy==1.19.5 in /usr/local/lib/python3.7/dist-packages (1.19.5)\n",
            "Requirement already satisfied: scikit-learn==1.0.1 in /usr/local/lib/python3.7/dist-packages (1.0.1)\n",
            "Requirement already satisfied: threadpoolctl>=2.0.0 in /usr/local/lib/python3.7/dist-packages (from scikit-learn==1.0.1) (3.0.0)\n",
            "Requirement already satisfied: scipy>=1.1.0 in /usr/local/lib/python3.7/dist-packages (from scikit-learn==1.0.1) (1.4.1)\n",
            "Requirement already satisfied: numpy>=1.14.6 in /usr/local/lib/python3.7/dist-packages (from scikit-learn==1.0.1) (1.19.5)\n",
            "Requirement already satisfied: joblib>=0.11 in /usr/local/lib/python3.7/dist-packages (from scikit-learn==1.0.1) (1.1.0)\n",
            "Requirement already satisfied: matplotlib==3.2.2 in /usr/local/lib/python3.7/dist-packages (3.2.2)\n",
            "Requirement already satisfied: pyparsing!=2.0.4,!=2.1.2,!=2.1.6,>=2.0.1 in /usr/local/lib/python3.7/dist-packages (from matplotlib==3.2.2) (3.0.6)\n",
            "Requirement already satisfied: python-dateutil>=2.1 in /usr/local/lib/python3.7/dist-packages (from matplotlib==3.2.2) (2.8.2)\n",
            "Requirement already satisfied: cycler>=0.10 in /usr/local/lib/python3.7/dist-packages (from matplotlib==3.2.2) (0.11.0)\n",
            "Requirement already satisfied: kiwisolver>=1.0.1 in /usr/local/lib/python3.7/dist-packages (from matplotlib==3.2.2) (1.3.2)\n",
            "Requirement already satisfied: numpy>=1.11 in /usr/local/lib/python3.7/dist-packages (from matplotlib==3.2.2) (1.19.5)\n",
            "Requirement already satisfied: six>=1.5 in /usr/local/lib/python3.7/dist-packages (from python-dateutil>=2.1->matplotlib==3.2.2) (1.15.0)\n",
            "Requirement already satisfied: keras==2.7.0 in /usr/local/lib/python3.7/dist-packages (2.7.0)\n"
          ]
        }
      ],
      "source": [
        "!pip install tensorflow==2.7.0\n",
        "!pip install numpy==1.19.5\n",
        "!pip install scikit-learn==1.0.1 \n",
        "!pip install matplotlib==3.2.2 \n",
        "!pip install keras==2.7.0 "
      ]
    },
    {
      "cell_type": "code",
      "source": [
        "from keras.models import Sequential\n",
        "from sklearn.datasets import load_digits\n",
        "import keras\n",
        "from keras.utils import np_utils\n",
        "from keras.layers import Dense, Conv2D, MaxPooling2D , Flatten, Dense, Dropout, Activation,  GlobalAveragePooling2D, ZeroPadding2D\n",
        "# from keras.layers.normalization import BatchNormalization\n",
        "from keras.models import Model\n",
        "from tensorflow.keras.utils import to_categorical, plot_model\n",
        "import tensorflow as tf\n",
        "import numpy as np\n",
        "from sklearn.metrics import f1_score\n",
        "from sklearn.utils import shuffle\n",
        "from sklearn.model_selection import train_test_split\n",
        "from matplotlib import pyplot as plt\n",
        "from keras.models import Sequential\n",
        "import matplotlib.pyplot as plt\n",
        "from sklearn.metrics import accuracy_score\n",
        "from sklearn.metrics import recall_score\n",
        "from sklearn import datasets\n",
        "from sklearn.metrics import precision_score\n",
        "from keras.layers import Dense\n",
        "from sklearn.datasets import fetch_olivetti_faces\n",
        "from sklearn.preprocessing import StandardScaler\n",
        "from tensorflow.keras.utils import plot_model"
      ],
      "metadata": {
        "id": "MPJTe6GX9UvR"
      },
      "execution_count": 17,
      "outputs": []
    },
    {
      "cell_type": "markdown",
      "source": [
        "# Loading the **Datasets**"
      ],
      "metadata": {
        "id": "xTu23Jtv9PiE"
      }
    },
    {
      "cell_type": "code",
      "source": [
        "digits = load_digits()\n",
        "faces = fetch_olivetti_faces()"
      ],
      "metadata": {
        "colab": {
          "base_uri": "https://localhost:8080/"
        },
        "id": "cbValnVn8cTL",
        "outputId": "6091b93f-fec9-492e-d433-c346c3d2965c"
      },
      "execution_count": 4,
      "outputs": [
        {
          "output_type": "stream",
          "name": "stdout",
          "text": [
            "downloading Olivetti faces from https://ndownloader.figshare.com/files/5976027 to /root/scikit_learn_data\n"
          ]
        }
      ]
    },
    {
      "cell_type": "code",
      "source": [
        "X = digits.data\n",
        "y = digits.target\n",
        "X_train, X_test, y_train, y_test = train_test_split(X, y, test_size=0.20, random_state=42)\n",
        "train_labels = to_categorical(y_train, num_classes=digits.target_names.shape[0])\n",
        "test_labels = to_categorical(y_test, num_classes=digits.target_names.shape[0])"
      ],
      "metadata": {
        "id": "dcM2R61e-a6n"
      },
      "execution_count": 3,
      "outputs": []
    },
    {
      "cell_type": "code",
      "source": [
        "y_train.shape"
      ],
      "metadata": {
        "colab": {
          "base_uri": "https://localhost:8080/"
        },
        "id": "SepLPvfBAnVQ",
        "outputId": "e04c5e0a-dd90-46ae-bc82-ad2c5024a401"
      },
      "execution_count": 8,
      "outputs": [
        {
          "output_type": "execute_result",
          "data": {
            "text/plain": [
              "(1437,)"
            ]
          },
          "metadata": {},
          "execution_count": 8
        }
      ]
    },
    {
      "cell_type": "markdown",
      "source": [
        "# Fully connected Model for the **Digits Dataset**"
      ],
      "metadata": {
        "id": "JYsAPd-g-WGa"
      }
    },
    {
      "cell_type": "code",
      "source": [
        "model = Sequential()\n",
        "model.add(Dense(16 , input_dim =X_train.shape[1], activation ='relu'))\n",
        "model.add(Dense(8 , activation ='relu'))\n",
        "model.add(Dense(digits.target_names.shape[0], activation ='softmax'))\n",
        "model.compile(loss ='binary_crossentropy', optimizer='adam', metrics =['accuracy'])\n",
        "model.fit (X_train, train_labels, epochs=50, batch_size=10)\n",
        "y_pred = model.predict(X_test)\n",
        "y_predicted = []\n",
        "for pred in y_pred :\n",
        "  y_predicted.append(list(pred).index(max(pred)))\n",
        "print(\"accuracy = \" , accuracy_score(y_predicted, y_test))"
      ],
      "metadata": {
        "colab": {
          "base_uri": "https://localhost:8080/"
        },
        "id": "jz2IwuHC-U1K",
        "outputId": "bb07d428-7419-4791-93f7-a55ed201753f"
      },
      "execution_count": 10,
      "outputs": [
        {
          "output_type": "stream",
          "name": "stdout",
          "text": [
            "Epoch 1/50\n",
            "144/144 [==============================] - 2s 3ms/step - loss: 0.7514 - accuracy: 0.1858\n",
            "Epoch 2/50\n",
            "144/144 [==============================] - 0s 3ms/step - loss: 0.2790 - accuracy: 0.4064\n",
            "Epoch 3/50\n",
            "144/144 [==============================] - 0s 2ms/step - loss: 0.2245 - accuracy: 0.5678\n",
            "Epoch 4/50\n",
            "144/144 [==============================] - 0s 2ms/step - loss: 0.1907 - accuracy: 0.6959\n",
            "Epoch 5/50\n",
            "144/144 [==============================] - 0s 3ms/step - loss: 0.1656 - accuracy: 0.7676\n",
            "Epoch 6/50\n",
            "144/144 [==============================] - 0s 3ms/step - loss: 0.1480 - accuracy: 0.8003\n",
            "Epoch 7/50\n",
            "144/144 [==============================] - 0s 2ms/step - loss: 0.1299 - accuracy: 0.8483\n",
            "Epoch 8/50\n",
            "144/144 [==============================] - 0s 2ms/step - loss: 0.1162 - accuracy: 0.8580\n",
            "Epoch 9/50\n",
            "144/144 [==============================] - 0s 2ms/step - loss: 0.1040 - accuracy: 0.8810\n",
            "Epoch 10/50\n",
            "144/144 [==============================] - 0s 2ms/step - loss: 0.0924 - accuracy: 0.9026\n",
            "Epoch 11/50\n",
            "144/144 [==============================] - 0s 2ms/step - loss: 0.0836 - accuracy: 0.9074\n",
            "Epoch 12/50\n",
            "144/144 [==============================] - 0s 2ms/step - loss: 0.0766 - accuracy: 0.9214\n",
            "Epoch 13/50\n",
            "144/144 [==============================] - 0s 2ms/step - loss: 0.0696 - accuracy: 0.9304\n",
            "Epoch 14/50\n",
            "144/144 [==============================] - 0s 2ms/step - loss: 0.0640 - accuracy: 0.9311\n",
            "Epoch 15/50\n",
            "144/144 [==============================] - 0s 2ms/step - loss: 0.0596 - accuracy: 0.9360\n",
            "Epoch 16/50\n",
            "144/144 [==============================] - 0s 2ms/step - loss: 0.0559 - accuracy: 0.9443\n",
            "Epoch 17/50\n",
            "144/144 [==============================] - 0s 2ms/step - loss: 0.0519 - accuracy: 0.9450\n",
            "Epoch 18/50\n",
            "144/144 [==============================] - 0s 2ms/step - loss: 0.0489 - accuracy: 0.9450\n",
            "Epoch 19/50\n",
            "144/144 [==============================] - 0s 2ms/step - loss: 0.0462 - accuracy: 0.9499\n",
            "Epoch 20/50\n",
            "144/144 [==============================] - 0s 2ms/step - loss: 0.0434 - accuracy: 0.9520\n",
            "Epoch 21/50\n",
            "144/144 [==============================] - 0s 2ms/step - loss: 0.0416 - accuracy: 0.9534\n",
            "Epoch 22/50\n",
            "144/144 [==============================] - 0s 2ms/step - loss: 0.0385 - accuracy: 0.9569\n",
            "Epoch 23/50\n",
            "144/144 [==============================] - 0s 2ms/step - loss: 0.0362 - accuracy: 0.9596\n",
            "Epoch 24/50\n",
            "144/144 [==============================] - 0s 2ms/step - loss: 0.0344 - accuracy: 0.9617\n",
            "Epoch 25/50\n",
            "144/144 [==============================] - 0s 2ms/step - loss: 0.0332 - accuracy: 0.9638\n",
            "Epoch 26/50\n",
            "144/144 [==============================] - 0s 2ms/step - loss: 0.0313 - accuracy: 0.9666\n",
            "Epoch 27/50\n",
            "144/144 [==============================] - 0s 2ms/step - loss: 0.0290 - accuracy: 0.9743\n",
            "Epoch 28/50\n",
            "144/144 [==============================] - 0s 2ms/step - loss: 0.0284 - accuracy: 0.9701\n",
            "Epoch 29/50\n",
            "144/144 [==============================] - 0s 2ms/step - loss: 0.0261 - accuracy: 0.9743\n",
            "Epoch 30/50\n",
            "144/144 [==============================] - 0s 2ms/step - loss: 0.0253 - accuracy: 0.9777\n",
            "Epoch 31/50\n",
            "144/144 [==============================] - 0s 2ms/step - loss: 0.0235 - accuracy: 0.9777\n",
            "Epoch 32/50\n",
            "144/144 [==============================] - 0s 2ms/step - loss: 0.0226 - accuracy: 0.9798\n",
            "Epoch 33/50\n",
            "144/144 [==============================] - 0s 2ms/step - loss: 0.0216 - accuracy: 0.9826\n",
            "Epoch 34/50\n",
            "144/144 [==============================] - 0s 2ms/step - loss: 0.0208 - accuracy: 0.9840\n",
            "Epoch 35/50\n",
            "144/144 [==============================] - 0s 2ms/step - loss: 0.0195 - accuracy: 0.9826\n",
            "Epoch 36/50\n",
            "144/144 [==============================] - 0s 2ms/step - loss: 0.0190 - accuracy: 0.9847\n",
            "Epoch 37/50\n",
            "144/144 [==============================] - 0s 2ms/step - loss: 0.0178 - accuracy: 0.9840\n",
            "Epoch 38/50\n",
            "144/144 [==============================] - 0s 2ms/step - loss: 0.0169 - accuracy: 0.9882\n",
            "Epoch 39/50\n",
            "144/144 [==============================] - 0s 2ms/step - loss: 0.0162 - accuracy: 0.9875\n",
            "Epoch 40/50\n",
            "144/144 [==============================] - 0s 2ms/step - loss: 0.0156 - accuracy: 0.9875\n",
            "Epoch 41/50\n",
            "144/144 [==============================] - 0s 2ms/step - loss: 0.0152 - accuracy: 0.9875\n",
            "Epoch 42/50\n",
            "144/144 [==============================] - 0s 2ms/step - loss: 0.0148 - accuracy: 0.9896\n",
            "Epoch 43/50\n",
            "144/144 [==============================] - 0s 2ms/step - loss: 0.0140 - accuracy: 0.9896\n",
            "Epoch 44/50\n",
            "144/144 [==============================] - 0s 2ms/step - loss: 0.0129 - accuracy: 0.9910\n",
            "Epoch 45/50\n",
            "144/144 [==============================] - 0s 2ms/step - loss: 0.0131 - accuracy: 0.9889\n",
            "Epoch 46/50\n",
            "144/144 [==============================] - 0s 2ms/step - loss: 0.0126 - accuracy: 0.9903\n",
            "Epoch 47/50\n",
            "144/144 [==============================] - 0s 2ms/step - loss: 0.0115 - accuracy: 0.9923\n",
            "Epoch 48/50\n",
            "144/144 [==============================] - 0s 2ms/step - loss: 0.0116 - accuracy: 0.9916\n",
            "Epoch 49/50\n",
            "144/144 [==============================] - 0s 2ms/step - loss: 0.0107 - accuracy: 0.9916\n",
            "Epoch 50/50\n",
            "144/144 [==============================] - 0s 2ms/step - loss: 0.0112 - accuracy: 0.9910\n",
            "accuracy =  0.9555555555555556\n"
          ]
        }
      ]
    },
    {
      "cell_type": "code",
      "source": [
        ""
      ],
      "metadata": {
        "id": "6p2ohyzc-U4-"
      },
      "execution_count": null,
      "outputs": []
    },
    {
      "cell_type": "markdown",
      "source": [
        "# Fully connected Model for the **Faces Dataset**"
      ],
      "metadata": {
        "id": "StML6pJGERYL"
      }
    },
    {
      "cell_type": "code",
      "source": [
        "X = faces.data\n",
        "y = faces.target\n",
        "X_train, X_test, y_train, y_test = train_test_split(X, y, test_size=0.20, random_state=42)\n",
        "train_labels = to_categorical(y_train, 40)\n",
        "test_labels = to_categorical(y_test, 40)"
      ],
      "metadata": {
        "id": "Hswgev1HEXwl"
      },
      "execution_count": 5,
      "outputs": []
    },
    {
      "cell_type": "code",
      "source": [
        "model = Sequential()\n",
        "model.add(Dense(16 , input_dim =X_train.shape[1], activation ='relu'))\n",
        "model.add(Dense(8 , activation ='relu'))\n",
        "model.add(Dense(40, activation ='softmax'))\n",
        "model.compile(loss ='binary_crossentropy', optimizer='adam', metrics =['accuracy'])\n",
        "model.fit (X_train, train_labels, epochs=50, batch_size=10)\n",
        "y_pred = model.predict(X_test)\n",
        "y_predicted = []\n",
        "for pred in y_pred :\n",
        "  y_predicted.append(list(pred).index(max(pred)))\n",
        "print(\"accuracy = \" , accuracy_score(y_predicted, y_test))"
      ],
      "metadata": {
        "colab": {
          "base_uri": "https://localhost:8080/"
        },
        "outputId": "b3cf891e-ae7d-41f9-e09d-70f644fe47c4",
        "id": "6_E6BtduERYg"
      },
      "execution_count": 6,
      "outputs": [
        {
          "output_type": "stream",
          "name": "stdout",
          "text": [
            "Epoch 1/50\n",
            "32/32 [==============================] - 1s 2ms/step - loss: 0.6580 - accuracy: 0.0375\n",
            "Epoch 2/50\n",
            "32/32 [==============================] - 0s 3ms/step - loss: 0.5476 - accuracy: 0.0281\n",
            "Epoch 3/50\n",
            "32/32 [==============================] - 0s 3ms/step - loss: 0.3884 - accuracy: 0.0250\n",
            "Epoch 4/50\n",
            "32/32 [==============================] - 0s 3ms/step - loss: 0.2537 - accuracy: 0.0281\n",
            "Epoch 5/50\n",
            "32/32 [==============================] - 0s 5ms/step - loss: 0.1773 - accuracy: 0.0281\n",
            "Epoch 6/50\n",
            "32/32 [==============================] - 0s 5ms/step - loss: 0.1445 - accuracy: 0.0281\n",
            "Epoch 7/50\n",
            "32/32 [==============================] - 0s 4ms/step - loss: 0.1322 - accuracy: 0.0281\n",
            "Epoch 8/50\n",
            "32/32 [==============================] - 0s 3ms/step - loss: 0.1263 - accuracy: 0.0281\n",
            "Epoch 9/50\n",
            "32/32 [==============================] - 0s 3ms/step - loss: 0.1229 - accuracy: 0.0281\n",
            "Epoch 10/50\n",
            "32/32 [==============================] - 0s 2ms/step - loss: 0.1211 - accuracy: 0.0312\n",
            "Epoch 11/50\n",
            "32/32 [==============================] - 0s 3ms/step - loss: 0.1198 - accuracy: 0.0281\n",
            "Epoch 12/50\n",
            "32/32 [==============================] - 0s 3ms/step - loss: 0.1189 - accuracy: 0.0312\n",
            "Epoch 13/50\n",
            "32/32 [==============================] - 0s 2ms/step - loss: 0.1185 - accuracy: 0.0500\n",
            "Epoch 14/50\n",
            "32/32 [==============================] - 0s 2ms/step - loss: 0.1184 - accuracy: 0.0375\n",
            "Epoch 15/50\n",
            "32/32 [==============================] - 0s 3ms/step - loss: 0.1184 - accuracy: 0.0375\n",
            "Epoch 16/50\n",
            "32/32 [==============================] - 0s 3ms/step - loss: 0.1172 - accuracy: 0.0469\n",
            "Epoch 17/50\n",
            "32/32 [==============================] - 0s 3ms/step - loss: 0.1174 - accuracy: 0.0437\n",
            "Epoch 18/50\n",
            "32/32 [==============================] - 0s 3ms/step - loss: 0.1173 - accuracy: 0.0469\n",
            "Epoch 19/50\n",
            "32/32 [==============================] - 0s 3ms/step - loss: 0.1168 - accuracy: 0.0688\n",
            "Epoch 20/50\n",
            "32/32 [==============================] - 0s 3ms/step - loss: 0.1171 - accuracy: 0.0437\n",
            "Epoch 21/50\n",
            "32/32 [==============================] - 0s 2ms/step - loss: 0.1166 - accuracy: 0.0469\n",
            "Epoch 22/50\n",
            "32/32 [==============================] - 0s 3ms/step - loss: 0.1161 - accuracy: 0.0562\n",
            "Epoch 23/50\n",
            "32/32 [==============================] - 0s 3ms/step - loss: 0.1162 - accuracy: 0.0531\n",
            "Epoch 24/50\n",
            "32/32 [==============================] - 0s 3ms/step - loss: 0.1159 - accuracy: 0.0594\n",
            "Epoch 25/50\n",
            "32/32 [==============================] - 0s 3ms/step - loss: 0.1161 - accuracy: 0.0562\n",
            "Epoch 26/50\n",
            "32/32 [==============================] - 0s 3ms/step - loss: 0.1158 - accuracy: 0.0625\n",
            "Epoch 27/50\n",
            "32/32 [==============================] - 0s 2ms/step - loss: 0.1152 - accuracy: 0.0688\n",
            "Epoch 28/50\n",
            "32/32 [==============================] - 0s 3ms/step - loss: 0.1154 - accuracy: 0.0531\n",
            "Epoch 29/50\n",
            "32/32 [==============================] - 0s 3ms/step - loss: 0.1150 - accuracy: 0.0437\n",
            "Epoch 30/50\n",
            "32/32 [==============================] - 0s 2ms/step - loss: 0.1148 - accuracy: 0.0562\n",
            "Epoch 31/50\n",
            "32/32 [==============================] - 0s 2ms/step - loss: 0.1149 - accuracy: 0.0562\n",
            "Epoch 32/50\n",
            "32/32 [==============================] - 0s 3ms/step - loss: 0.1141 - accuracy: 0.0719\n",
            "Epoch 33/50\n",
            "32/32 [==============================] - 0s 3ms/step - loss: 0.1148 - accuracy: 0.0562\n",
            "Epoch 34/50\n",
            "32/32 [==============================] - 0s 3ms/step - loss: 0.1144 - accuracy: 0.0656\n",
            "Epoch 35/50\n",
            "32/32 [==============================] - 0s 3ms/step - loss: 0.1139 - accuracy: 0.0594\n",
            "Epoch 36/50\n",
            "32/32 [==============================] - 0s 2ms/step - loss: 0.1137 - accuracy: 0.0688\n",
            "Epoch 37/50\n",
            "32/32 [==============================] - 0s 3ms/step - loss: 0.1136 - accuracy: 0.0688\n",
            "Epoch 38/50\n",
            "32/32 [==============================] - 0s 3ms/step - loss: 0.1133 - accuracy: 0.0531\n",
            "Epoch 39/50\n",
            "32/32 [==============================] - 0s 3ms/step - loss: 0.1134 - accuracy: 0.0594\n",
            "Epoch 40/50\n",
            "32/32 [==============================] - 0s 2ms/step - loss: 0.1128 - accuracy: 0.0625\n",
            "Epoch 41/50\n",
            "32/32 [==============================] - 0s 3ms/step - loss: 0.1135 - accuracy: 0.0594\n",
            "Epoch 42/50\n",
            "32/32 [==============================] - 0s 3ms/step - loss: 0.1133 - accuracy: 0.0562\n",
            "Epoch 43/50\n",
            "32/32 [==============================] - 0s 3ms/step - loss: 0.1124 - accuracy: 0.0688\n",
            "Epoch 44/50\n",
            "32/32 [==============================] - 0s 2ms/step - loss: 0.1122 - accuracy: 0.0719\n",
            "Epoch 45/50\n",
            "32/32 [==============================] - 0s 3ms/step - loss: 0.1119 - accuracy: 0.0688\n",
            "Epoch 46/50\n",
            "32/32 [==============================] - 0s 3ms/step - loss: 0.1121 - accuracy: 0.0719\n",
            "Epoch 47/50\n",
            "32/32 [==============================] - 0s 2ms/step - loss: 0.1116 - accuracy: 0.0562\n",
            "Epoch 48/50\n",
            "32/32 [==============================] - 0s 3ms/step - loss: 0.1125 - accuracy: 0.0562\n",
            "Epoch 49/50\n",
            "32/32 [==============================] - 0s 3ms/step - loss: 0.1112 - accuracy: 0.0656\n",
            "Epoch 50/50\n",
            "32/32 [==============================] - 0s 2ms/step - loss: 0.1111 - accuracy: 0.0688\n",
            "accuracy =  0.0125\n"
          ]
        }
      ]
    },
    {
      "cell_type": "markdown",
      "source": [
        "👉 The accuracy score is low and this is beacause the number of classes is relatively high compared to the number of instances and thus not all the data classes are trained in the model"
      ],
      "metadata": {
        "id": "P2vgL2BhFVhd"
      }
    },
    {
      "cell_type": "markdown",
      "source": [
        "# **ResNet152v2** Model for the faces dataset"
      ],
      "metadata": {
        "id": "rVfwljC63srQ"
      }
    },
    {
      "cell_type": "code",
      "source": [
        "from tensorflow import keras\n",
        "\n",
        "X = faces['images']\n",
        "x = keras.applications.resnet_v2.preprocess_input(tf.cast(X, tf.float32))\n",
        "y = faces['target']\n",
        "\n",
        "X_train, X_test, y_train, y_test = train_test_split(X, y, test_size=0.2, random_state=42)\n",
        "\n",
        "X_train = X_train.reshape((X_train.shape[0], X_train.shape[1], X_train.shape[2], 1))\n",
        "X_test = X_test.reshape((X_test.shape[0], X_test.shape[1], X_test.shape[2], 1))\n",
        "train_labels = to_categorical(y_train, num_classes=40)\n",
        "test_labels = to_categorical(y_test, num_classes=40)\n",
        "x = tf.image.grayscale_to_rgb(tf.constant(X_train))\n",
        "\n",
        "model = keras.Sequential()\n",
        "base_model = keras.applications.ResNet152V2(\n",
        "  include_top=False,\n",
        "  weights='imagenet',\n",
        "  input_shape=(64, 64, 3)\n",
        ")\n",
        "for layer in base_model.layers[:-2]:\n",
        "  layer.trainable = False\n",
        "  data_augmentation = tf.keras.Sequential([\n",
        "    keras.layers.RandomFlip(\"horizontal_and_vertical\"),\n",
        "    keras.layers.RandomRotation(0.2),\n",
        "])\n",
        "model.add(data_augmentation)\n",
        "model.add(base_model)\n",
        "model.add(keras.layers.Flatten())\n",
        "model.add(keras.layers.Dense(40, activation='softmax', kernel_regularizer=keras.regularizers.l2(0.001)))"
      ],
      "metadata": {
        "id": "mzcKzGxa-U8j"
      },
      "execution_count": 80,
      "outputs": []
    },
    {
      "cell_type": "code",
      "source": [
        "model.compile(optimizer='Adam', loss='categorical_crossentropy', metrics=['accuracy'])"
      ],
      "metadata": {
        "id": "Vga1EgZk4KYs"
      },
      "execution_count": 81,
      "outputs": []
    },
    {
      "cell_type": "code",
      "source": [
        "model.summary()"
      ],
      "metadata": {
        "colab": {
          "base_uri": "https://localhost:8080/"
        },
        "id": "SpaKTW0qHGr5",
        "outputId": "aea2ff3f-4dc9-4e3f-b17d-2e4213c14203"
      },
      "execution_count": 83,
      "outputs": [
        {
          "output_type": "stream",
          "name": "stdout",
          "text": [
            "Model: \"sequential_3840\"\n",
            "_________________________________________________________________\n",
            " Layer (type)                Output Shape              Param #   \n",
            "=================================================================\n",
            " sequential_4402 (Sequential  (None, 64, 64, 3)        0         \n",
            " )                                                               \n",
            "                                                                 \n",
            " resnet152v2 (Functional)    (None, 2, 2, 2048)        58331648  \n",
            "                                                                 \n",
            " flatten_7 (Flatten)         (None, 8192)              0         \n",
            "                                                                 \n",
            " dense_11 (Dense)            (None, 40)                327720    \n",
            "                                                                 \n",
            "=================================================================\n",
            "Total params: 58,659,368\n",
            "Trainable params: 331,816\n",
            "Non-trainable params: 58,327,552\n",
            "_________________________________________________________________\n"
          ]
        }
      ]
    },
    {
      "cell_type": "code",
      "source": [
        "plot_model(model)"
      ],
      "metadata": {
        "colab": {
          "base_uri": "https://localhost:8080/",
          "height": 466
        },
        "id": "rlQXAHHhHKaT",
        "outputId": "c65bb266-2137-4cd6-961d-d2caa4d57316"
      },
      "execution_count": 84,
      "outputs": [
        {
          "output_type": "execute_result",
          "data": {
            "image/png": "[encoded data removed]",
            "text/plain": [
              "<IPython.core.display.Image object>"
            ]
          },
          "metadata": {},
          "execution_count": 84
        }
      ]
    },
    {
      "cell_type": "code",
      "source": [
        "history = model.fit(x, train_labels, validation_split=0.2, batch_size=25, epochs=10)"
      ],
      "metadata": {
        "colab": {
          "base_uri": "https://localhost:8080/"
        },
        "id": "B9WQkXot4Q4m",
        "outputId": "f6f596ac-d5d9-453a-f0ff-644295ce2c9d"
      },
      "execution_count": 86,
      "outputs": [
        {
          "output_type": "stream",
          "name": "stdout",
          "text": [
            "Epoch 1/10\n",
            "11/11 [==============================] - 11s 1s/step - loss: 0.9222 - accuracy: 0.7812 - val_loss: 2.1729 - val_accuracy: 0.5781\n",
            "Epoch 2/10\n",
            "11/11 [==============================] - 11s 1s/step - loss: 0.9718 - accuracy: 0.7773 - val_loss: 1.9194 - val_accuracy: 0.5938\n",
            "Epoch 3/10\n",
            "11/11 [==============================] - 11s 1s/step - loss: 0.7627 - accuracy: 0.8164 - val_loss: 2.2670 - val_accuracy: 0.5781\n",
            "Epoch 4/10\n",
            "11/11 [==============================] - 11s 1s/step - loss: 0.9406 - accuracy: 0.8047 - val_loss: 2.2570 - val_accuracy: 0.5938\n",
            "Epoch 5/10\n",
            "11/11 [==============================] - 11s 1s/step - loss: 0.7372 - accuracy: 0.8516 - val_loss: 1.6044 - val_accuracy: 0.6094\n",
            "Epoch 6/10\n",
            "11/11 [==============================] - 11s 998ms/step - loss: 0.7646 - accuracy: 0.8203 - val_loss: 1.4567 - val_accuracy: 0.7188\n",
            "Epoch 7/10\n",
            "11/11 [==============================] - 11s 1s/step - loss: 0.7024 - accuracy: 0.8477 - val_loss: 1.5429 - val_accuracy: 0.6406\n",
            "Epoch 8/10\n",
            "11/11 [==============================] - 19s 2s/step - loss: 0.6843 - accuracy: 0.8320 - val_loss: 1.9138 - val_accuracy: 0.5781\n",
            "Epoch 9/10\n",
            "11/11 [==============================] - 15s 1s/step - loss: 0.8587 - accuracy: 0.8281 - val_loss: 1.5697 - val_accuracy: 0.6562\n",
            "Epoch 10/10\n",
            "11/11 [==============================] - 11s 1s/step - loss: 0.6584 - accuracy: 0.8750 - val_loss: 1.3797 - val_accuracy: 0.6719\n"
          ]
        }
      ]
    },
    {
      "cell_type": "code",
      "source": [
        "x_test = tf.image.grayscale_to_rgb(tf.constant(X_test))"
      ],
      "metadata": {
        "id": "gUeKMjcqIiFf"
      },
      "execution_count": 89,
      "outputs": []
    },
    {
      "cell_type": "code",
      "source": [
        "scores = model.evaluate(x_test, test_labels, verbose=0)\n",
        "print(\"Accuracy Score =  %.2f%%\" % (scores[1]*100))"
      ],
      "metadata": {
        "colab": {
          "base_uri": "https://localhost:8080/"
        },
        "id": "3N8yp0TlE7g5",
        "outputId": "08158a15-7c66-490a-9a3a-7efddffae23f"
      },
      "execution_count": 92,
      "outputs": [
        {
          "output_type": "stream",
          "name": "stdout",
          "text": [
            "Accuracy Score =  77.50%\n"
          ]
        }
      ]
    },
    {
      "cell_type": "markdown",
      "source": [
        "👉 The accuracy score for the test set is quite high. The CNN model outperformed the Fully Connected Network. <br>\n",
        "👉 Eventhough we didn't have enough data samples, our CNN model did great."
      ],
      "metadata": {
        "id": "vExRnGyqI3Oq"
      }
    },
    {
      "cell_type": "code",
      "source": [
        ""
      ],
      "metadata": {
        "id": "8IcqBTUw6_u4"
      },
      "execution_count": null,
      "outputs": []
    }
  ]
}