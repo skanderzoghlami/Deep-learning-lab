{
 "cells": [
  {
   "cell_type": "markdown",
   "metadata": {},
   "source": [
    "# Dependencies and libraries used"
   ]
  },
  {
   "cell_type": "code",
   "execution_count": null,
   "metadata": {},
   "outputs": [],
   "source": [
    "!pip install numpy==1.19.5 # for mathemathical operations and processing the data before feeding them to the network\n",
    "!pip install scikit-learn==1.0.1 # to call machine learning functions and algorithms\n",
    "!pip install matplotlib==3.2.2 # to plot the datasets\n",
    "!pip install keras==2.7.0 # to define and compile models\n",
    "!pip install tensorflow==2.7.0 # To use tensors"
   ]
  },
  {
   "cell_type": "code",
   "execution_count": 99,
   "metadata": {
    "id": "sX39JqmoEw3B"
   },
   "outputs": [],
   "source": [
    "import numpy as np\n",
    "from sklearn.utils import shuffle\n",
    "from sklearn.model_selection import train_test_split\n",
    "from sklearn.metrics import accuracy_score\n",
    "from keras.models import Sequential\n",
    "from keras.layers import Dense,Conv2D, Flatten\n",
    "from sklearn.datasets import load_iris\n",
    "from sklearn.datasets import load_digits\n",
    "from sklearn.datasets import fetch_olivetti_faces\n",
    "from sklearn.model_selection import train_test_split\n",
    "from sklearn.preprocessing import OneHotEncoder, StandardScaler\n",
    "import tensorflow as tf\n",
    "from tensorflow.keras.utils import to_categorical"
   ]
  },
  {
   "cell_type": "code",
   "execution_count": 100,
   "metadata": {
    "id": "-g7Mdi_7HHNd"
   },
   "outputs": [],
   "source": [
    "import matplotlib.pyplot as plt\n",
    "\n",
    "plt.style.use('ggplot')"
   ]
  },
  {
   "cell_type": "markdown",
   "metadata": {},
   "source": [
    "## Perpectron Algorithme"
   ]
  },
  {
   "cell_type": "code",
   "execution_count": 101,
   "metadata": {},
   "outputs": [],
   "source": [
    "def perceptron(s,y):\n",
    "    w = np.zeros((1,2))\n",
    "    placeholder = np.zeros((1,2))\n",
    "    for t in range(2000):\n",
    "        for X,Y in zip(s,y) :\n",
    "            if  Y * np.inner(X,w) <= 0 : \n",
    "                placeholder = w\n",
    "                w = w + Y * X \n",
    "        if (w == placeholder).all() :\n",
    "            return w\n",
    "    if t == 999 :\n",
    "        print(\"No convergence\")\n",
    "    return w"
   ]
  },
  {
   "cell_type": "markdown",
   "metadata": {},
   "source": [
    "## Generating Toy Dataset"
   ]
  },
  {
   "cell_type": "code",
   "execution_count": 102,
   "metadata": {},
   "outputs": [],
   "source": [
    "mu = [-1,0]\n",
    "sigma = [[0.25,0], [0,0.25]]\n",
    "s1 = np.random.multivariate_normal(mu,sigma,125)\n",
    "\n",
    "mu = [1,0]\n",
    "sigma = [[0.25,0], [0,0.25]]\n",
    "s2 = np.random.multivariate_normal(mu,sigma,125)\n",
    "s = np.concatenate((s1,s2),axis=0)"
   ]
  },
  {
   "cell_type": "code",
   "execution_count": 103,
   "metadata": {},
   "outputs": [],
   "source": [
    "y = [-1] * 125 \n",
    "y.extend([1] * 125)"
   ]
  },
  {
   "cell_type": "code",
   "execution_count": 104,
   "metadata": {},
   "outputs": [
    {
     "data": {
      "text/plain": [
       "(250, 250)"
      ]
     },
     "execution_count": 104,
     "metadata": {},
     "output_type": "execute_result"
    }
   ],
   "source": [
    " len(y),len(s)"
   ]
  },
  {
   "cell_type": "code",
   "execution_count": 105,
   "metadata": {},
   "outputs": [],
   "source": [
    "s,y= shuffle(s,y)"
   ]
  },
  {
   "cell_type": "code",
   "execution_count": 106,
   "metadata": {},
   "outputs": [],
   "source": [
    "s_train, s_test, y_train, y_test = train_test_split(s, y, test_size=0.2, random_state=42) "
   ]
  },
  {
   "cell_type": "code",
   "execution_count": 107,
   "metadata": {},
   "outputs": [],
   "source": [
    "w = perceptron(s_train,y_train) "
   ]
  },
  {
   "cell_type": "code",
   "execution_count": 108,
   "metadata": {},
   "outputs": [
    {
     "data": {
      "text/plain": [
       "[<matplotlib.lines.Line2D at 0x2ae721f3580>]"
      ]
     },
     "execution_count": 108,
     "metadata": {},
     "output_type": "execute_result"
    },
    {
     "data": {
      "image/png": "[encoded data removed]",
      "text/plain": [
       "<Figure size 432x288 with 1 Axes>"
      ]
     },
     "metadata": {},
     "output_type": "display_data"
    }
   ],
   "source": [
    "from matplotlib import pyplot as plt\n",
    "\n",
    "plt.scatter(s1[:,0],s1[:,1], marker='+')\n",
    "plt.scatter(s2[:,0],s2[:,1], c= 'green', marker='o')\n",
    "\n",
    "\n",
    "a = -w[0][0] / w[0][1]\n",
    "xx = np.linspace(-1, 1)\n",
    "yy = a * xx / w[0][1]\n",
    "\n",
    "plt.plot(xx, yy, 'k-')"
   ]
  },
  {
   "cell_type": "code",
   "execution_count": 109,
   "metadata": {},
   "outputs": [
    {
     "data": {
      "text/plain": [
       "0.98"
      ]
     },
     "execution_count": 109,
     "metadata": {},
     "output_type": "execute_result"
    }
   ],
   "source": [
    "y_pred = np.inner(s_test,w) \n",
    "for i,pred in enumerate(y_pred) :\n",
    "    if pred > 0 :\n",
    "        y_pred[i] = 1\n",
    "    else :\n",
    "        y_pred[i] = -1\n",
    "accuracy_score(y_test,y_pred)"
   ]
  },
  {
   "cell_type": "markdown",
   "metadata": {},
   "source": [
    "## Using Keras to create a fully connected neural network"
   ]
  },
  {
   "cell_type": "raw",
   "metadata": {},
   "source": [
    "the toy dataset is a simple one and linarly separable so we dont need a deep network only one dense layer can o the job"
   ]
  },
  {
   "cell_type": "code",
   "execution_count": 110,
   "metadata": {},
   "outputs": [],
   "source": [
    "#Transforming the labels to categories\n",
    "from tensorflow.keras.utils import to_categorical\n",
    "y_train_cat = to_categorical(y_train, num_classes=2)\n",
    "y_test_cat = to_categorical(y_test, num_classes=2)"
   ]
  },
  {
   "cell_type": "code",
   "execution_count": 111,
   "metadata": {},
   "outputs": [
    {
     "name": "stdout",
     "output_type": "stream",
     "text": [
      "Model: \"sequential_2\"\n",
      "_________________________________________________________________\n",
      " Layer (type)                Output Shape              Param #   \n",
      "=================================================================\n",
      " dense_352 (Dense)           (None, 2)                 6         \n",
      "                                                                 \n",
      "=================================================================\n",
      "Total params: 6\n",
      "Trainable params: 6\n",
      "Non-trainable params: 0\n",
      "_________________________________________________________________\n"
     ]
    }
   ],
   "source": [
    "model=Sequential()\n",
    "model.add(Dense(2,input_dim=2,activation='softmax'))\n",
    "model.summary()"
   ]
  },
  {
   "cell_type": "code",
   "execution_count": 112,
   "metadata": {},
   "outputs": [
    {
     "name": "stdout",
     "output_type": "stream",
     "text": [
      "Epoch 1/20\n",
      "50/50 [==============================] - 0s 1ms/step - loss: 0.8655 - accuracy: 0.5050\n",
      "Epoch 2/20\n",
      "50/50 [==============================] - 0s 1ms/step - loss: 0.8309 - accuracy: 0.5100\n",
      "Epoch 3/20\n",
      "50/50 [==============================] - 0s 1ms/step - loss: 0.7985 - accuracy: 0.5250\n",
      "Epoch 4/20\n",
      "50/50 [==============================] - 0s 1ms/step - loss: 0.7656 - accuracy: 0.5250\n",
      "Epoch 5/20\n",
      "50/50 [==============================] - 0s 1ms/step - loss: 0.7344 - accuracy: 0.5250\n",
      "Epoch 6/20\n",
      "50/50 [==============================] - 0s 1ms/step - loss: 0.7041 - accuracy: 0.5350\n",
      "Epoch 7/20\n",
      "50/50 [==============================] - 0s 1ms/step - loss: 0.6750 - accuracy: 0.5650\n",
      "Epoch 8/20\n",
      "50/50 [==============================] - 0s 1ms/step - loss: 0.6468 - accuracy: 0.5800\n",
      "Epoch 9/20\n",
      "50/50 [==============================] - 0s 1ms/step - loss: 0.6200 - accuracy: 0.5850\n",
      "Epoch 10/20\n",
      "50/50 [==============================] - 0s 1ms/step - loss: 0.5943 - accuracy: 0.5950\n",
      "Epoch 11/20\n",
      "50/50 [==============================] - 0s 1ms/step - loss: 0.5695 - accuracy: 0.6250\n",
      "Epoch 12/20\n",
      "50/50 [==============================] - 0s 1ms/step - loss: 0.5459 - accuracy: 0.6700\n",
      "Epoch 13/20\n",
      "50/50 [==============================] - 0s 1ms/step - loss: 0.5236 - accuracy: 0.6800\n",
      "Epoch 14/20\n",
      "50/50 [==============================] - 0s 1ms/step - loss: 0.5019 - accuracy: 0.7150\n",
      "Epoch 15/20\n",
      "50/50 [==============================] - 0s 1ms/step - loss: 0.4817 - accuracy: 0.7450\n",
      "Epoch 16/20\n",
      "50/50 [==============================] - 0s 1ms/step - loss: 0.4622 - accuracy: 0.7950\n",
      "Epoch 17/20\n",
      "50/50 [==============================] - 0s 1ms/step - loss: 0.4438 - accuracy: 0.8500\n",
      "Epoch 18/20\n",
      "50/50 [==============================] - 0s 1ms/step - loss: 0.4262 - accuracy: 0.8950\n",
      "Epoch 19/20\n",
      "50/50 [==============================] - 0s 1ms/step - loss: 0.4095 - accuracy: 0.9550\n",
      "Epoch 20/20\n",
      "50/50 [==============================] - 0s 1ms/step - loss: 0.3937 - accuracy: 0.9650\n"
     ]
    },
    {
     "data": {
      "text/plain": [
       "<keras.callbacks.History at 0x2ae722af280>"
      ]
     },
     "execution_count": 112,
     "metadata": {},
     "output_type": "execute_result"
    }
   ],
   "source": [
    "model.compile(loss='binary_crossentropy',optimizer='adam',metrics=['accuracy'])\n",
    "model.fit(np.array(s_train),y_train_cat,epochs=20,batch_size=4)"
   ]
  },
  {
   "cell_type": "code",
   "execution_count": 113,
   "metadata": {},
   "outputs": [
    {
     "name": "stdout",
     "output_type": "stream",
     "text": [
      "2/2 [==============================] - 0s 3ms/step - loss: 0.3976 - accuracy: 0.9000\n",
      "Accuracy: 90.00\n"
     ]
    }
   ],
   "source": [
    "_, accuracy = model.evaluate(np.array(s_test),y_test_cat)\n",
    "print('Accuracy: %.2f' % (accuracy*100))"
   ]
  },
  {
   "cell_type": "raw",
   "metadata": {},
   "source": [
    "we can clearly see that the model did a good job learning and predicting the toy dataset"
   ]
  },
  {
   "cell_type": "markdown",
   "metadata": {},
   "source": [
    "## Working With Keras Dataset"
   ]
  },
  {
   "cell_type": "code",
   "execution_count": 114,
   "metadata": {
    "id": "MvgYwzpFFsrx"
   },
   "outputs": [],
   "source": [
    "iris = load_iris()\n",
    "X = iris['data']\n",
    "y = iris['target']\n",
    "names = iris['target_names']\n",
    "feature_names = iris['feature_names']\n",
    "# One hot encoding\n",
    "enc = OneHotEncoder()\n",
    "Y = enc.fit_transform(y[:, np.newaxis]).toarray()\n",
    "\n",
    "# Scale data to have mean 0 and variance 1 \n",
    "# which is importance for convergence of the neural network\n",
    "scaler = StandardScaler()\n",
    "X_scaled = scaler.fit_transform(X)\n",
    "\n",
    "# Split the data set into training and testing\n",
    "X_train, X_test, Y_train, Y_test = train_test_split(\n",
    "    X_scaled, Y, test_size=0.5, random_state=2)\n",
    "\n",
    "n_features = X.shape[1]\n",
    "n_classes = Y.shape[1]"
   ]
  },
  {
   "cell_type": "code",
   "execution_count": 115,
   "metadata": {
    "colab": {
     "base_uri": "https://localhost:8080/",
     "height": 391
    },
    "id": "lrikpZDdHDeG",
    "outputId": "6c18f958-2769-4d70-8b6a-a2c6206e391d"
   },
   "outputs": [
    {
     "data": {
      "image/png": "[encoded data removed]",
      "text/plain": [
       "<Figure size 1152x432 with 2 Axes>"
      ]
     },
     "metadata": {},
     "output_type": "display_data"
    }
   ],
   "source": [
    "# Visualize the data sets\n",
    "plt.figure(figsize=(16, 6))\n",
    "plt.subplot(1, 2, 1)\n",
    "for target, target_name in enumerate(names):\n",
    "    X_plot = X[y == target]\n",
    "    plt.plot(X_plot[:, 0], X_plot[:, 1], linestyle='none', marker='o', label=target_name)\n",
    "plt.xlabel(feature_names[0])\n",
    "plt.ylabel(feature_names[1])\n",
    "plt.axis('equal')\n",
    "plt.legend();\n",
    "\n",
    "plt.subplot(1, 2, 2)\n",
    "for target, target_name in enumerate(names):\n",
    "    X_plot = X[y == target]\n",
    "    plt.plot(X_plot[:, 2], X_plot[:, 3], linestyle='none', marker='o', label=target_name)\n",
    "plt.xlabel(feature_names[2])\n",
    "plt.ylabel(feature_names[3])\n",
    "plt.axis('equal')\n",
    "plt.legend();"
   ]
  },
  {
   "cell_type": "markdown",
   "metadata": {},
   "source": [
    "### Generating multiple models with different depths and number of parameters "
   ]
  },
  {
   "cell_type": "code",
   "execution_count": 116,
   "metadata": {
    "colab": {
     "base_uri": "https://localhost:8080/"
    },
    "id": "8V3OibK8GJFf",
    "outputId": "d218bd38-4cc7-4774-c813-a6208e7f6118"
   },
   "outputs": [
    {
     "name": "stdout",
     "output_type": "stream",
     "text": [
      "Model: \"model_1\"\n",
      "_________________________________________________________________\n",
      " Layer (type)                Output Shape              Param #   \n",
      "=================================================================\n",
      " dense_353 (Dense)           (None, 8)                 40        \n",
      "                                                                 \n",
      " dense_354 (Dense)           (None, 3)                 27        \n",
      "                                                                 \n",
      "=================================================================\n",
      "Total params: 67\n",
      "Trainable params: 67\n",
      "Non-trainable params: 0\n",
      "_________________________________________________________________\n",
      "Model: \"model_2\"\n",
      "_________________________________________________________________\n",
      " Layer (type)                Output Shape              Param #   \n",
      "=================================================================\n",
      " dense_355 (Dense)           (None, 8)                 40        \n",
      "                                                                 \n",
      " dense_356 (Dense)           (None, 8)                 72        \n",
      "                                                                 \n",
      " dense_357 (Dense)           (None, 3)                 27        \n",
      "                                                                 \n",
      "=================================================================\n",
      "Total params: 139\n",
      "Trainable params: 139\n",
      "Non-trainable params: 0\n",
      "_________________________________________________________________\n",
      "Model: \"model_3\"\n",
      "_________________________________________________________________\n",
      " Layer (type)                Output Shape              Param #   \n",
      "=================================================================\n",
      " dense_358 (Dense)           (None, 8)                 40        \n",
      "                                                                 \n",
      " dense_359 (Dense)           (None, 8)                 72        \n",
      "                                                                 \n",
      " dense_360 (Dense)           (None, 8)                 72        \n",
      "                                                                 \n",
      " dense_361 (Dense)           (None, 3)                 27        \n",
      "                                                                 \n",
      "=================================================================\n",
      "Total params: 211\n",
      "Trainable params: 211\n",
      "Non-trainable params: 0\n",
      "_________________________________________________________________\n",
      "Model: \"model_4\"\n",
      "_________________________________________________________________\n",
      " Layer (type)                Output Shape              Param #   \n",
      "=================================================================\n",
      " dense_362 (Dense)           (None, 8)                 40        \n",
      "                                                                 \n",
      " dense_363 (Dense)           (None, 8)                 72        \n",
      "                                                                 \n",
      " dense_364 (Dense)           (None, 8)                 72        \n",
      "                                                                 \n",
      " dense_365 (Dense)           (None, 8)                 72        \n",
      "                                                                 \n",
      " dense_366 (Dense)           (None, 3)                 27        \n",
      "                                                                 \n",
      "=================================================================\n",
      "Total params: 283\n",
      "Trainable params: 283\n",
      "Non-trainable params: 0\n",
      "_________________________________________________________________\n"
     ]
    }
   ],
   "source": [
    "def create_custom_model(input_dim, output_dim, nodes, n, name='model'):\n",
    "    def create_model():\n",
    "        # Create model\n",
    "        model = Sequential(name=name)\n",
    "        for i in range(n):\n",
    "            model.add(Dense(nodes, input_dim=input_dim, activation='relu'))\n",
    "        model.add(Dense(output_dim, activation='softmax'))\n",
    "\n",
    "        # Compile model\n",
    "        model.compile(loss='categorical_crossentropy', \n",
    "                      optimizer='adam', \n",
    "                      metrics=['accuracy',\n",
    "                              tf.keras.metrics.Precision(), \n",
    "                               tf.keras.metrics.Recall(), \n",
    "                               tf.keras.metrics.AUC()])\n",
    "        return model\n",
    "    return create_model\n",
    "\n",
    "models = [create_custom_model(n_features, n_classes, 8, i, 'model_{}'.format(i)) \n",
    "          for i in range(1, 5)]\n",
    "\n",
    "for create_model in models:\n",
    "    create_model().summary()"
   ]
  },
  {
   "cell_type": "code",
   "execution_count": 117,
   "metadata": {
    "colab": {
     "base_uri": "https://localhost:8080/"
    },
    "id": "8lYs3uMrJBGM",
    "outputId": "a961fa51-8956-4039-e489-c3a70eeb90ad"
   },
   "outputs": [
    {
     "name": "stdout",
     "output_type": "stream",
     "text": [
      "Model name: model_1\n",
      "Test loss: 0.2767530679702759\n",
      "Test accuracy: 0.9066666960716248\n",
      "Test precision: 0.9066666960716248\n",
      "Test recall: 0.9066666960716248\n",
      "Test f1_score: 0.9828444719314575\n",
      "Model name: model_2\n",
      "Test loss: 0.4660887122154236\n",
      "Test accuracy: 0.9333333373069763\n",
      "Test precision: 0.9333333373069763\n",
      "Test recall: 0.9333333373069763\n",
      "Test f1_score: 0.9694222211837769\n",
      "Model name: model_3\n",
      "Test loss: 0.2159830778837204\n",
      "Test accuracy: 0.9333333373069763\n",
      "Test precision: 0.9333333373069763\n",
      "Test recall: 0.9333333373069763\n",
      "Test f1_score: 0.9864888191223145\n",
      "Model name: model_4\n",
      "Test loss: 0.19418556988239288\n",
      "Test accuracy: 0.9333333373069763\n",
      "Test precision: 0.9333333373069763\n",
      "Test recall: 0.9333333373069763\n",
      "Test f1_score: 0.9908443689346313\n"
     ]
    }
   ],
   "source": [
    "from keras.callbacks import TensorBoard\n",
    "\n",
    "history_dict = {}\n",
    "\n",
    "# TensorBoard Callback\n",
    "cb = TensorBoard()\n",
    "\n",
    "for create_model in models:\n",
    "    model = create_model()\n",
    "    print('Model name:', model.name)\n",
    "    history_callback = model.fit(X_train, Y_train,\n",
    "                                 batch_size=5,\n",
    "                                 epochs=50,\n",
    "                                 verbose=0,\n",
    "                                 validation_data=(X_test, Y_test),\n",
    "                                 callbacks=[cb])\n",
    "    score = model.evaluate(X_test, Y_test, verbose=0)\n",
    "    print('Test loss:', score[0])\n",
    "    print('Test accuracy:', score[1])\n",
    "    print('Test precision:', score[2])\n",
    "    print('Test recall:', score[3])\n",
    "    print('Test f1_score:', score[4])\n",
    "    history_dict[model.name] = [history_callback, model]"
   ]
  },
  {
   "cell_type": "raw",
   "metadata": {},
   "source": [
    "We can say that the model_4 is the best model "
   ]
  },
  {
   "cell_type": "markdown",
   "metadata": {},
   "source": [
    "## Working With the Digit Dataset"
   ]
  },
  {
   "cell_type": "code",
   "execution_count": 118,
   "metadata": {},
   "outputs": [],
   "source": [
    "digits=load_digits()\n",
    "X=digits.data\n",
    "Y=digits.target\n",
    "names = digits['target_names']\n",
    "feature_names = digits['feature_names']\n",
    "\n",
    "# Scale data to have mean 0 and variance 1 \n",
    "# which is importance for convergence of the neural network\n",
    "scaler = StandardScaler()\n",
    "X_scaled = scaler.fit_transform(X)\n",
    "\n",
    "# Split the data set into training and testing\n",
    "X_train, X_test, Y_train, Y_test = train_test_split(\n",
    "    X_scaled, Y, test_size=0.2, random_state=2)\n",
    "\n",
    "n_features = X.shape[1]"
   ]
  },
  {
   "cell_type": "code",
   "execution_count": 119,
   "metadata": {},
   "outputs": [
    {
     "data": {
      "text/plain": [
       "<Figure size 432x288 with 0 Axes>"
      ]
     },
     "metadata": {},
     "output_type": "display_data"
    },
    {
     "data": {
      "image/png": "[encoded data removed]",
      "text/plain": [
       "<Figure size 288x288 with 1 Axes>"
      ]
     },
     "metadata": {},
     "output_type": "display_data"
    }
   ],
   "source": [
    "plt.gray()\n",
    "plt.matshow(digits.images[1])\n",
    "plt.show()"
   ]
  },
  {
   "cell_type": "code",
   "execution_count": 120,
   "metadata": {},
   "outputs": [],
   "source": [
    "from tensorflow.keras.utils import to_categorical\n",
    "#one-hot encode target column\n",
    "Y_train = to_categorical(Y_train)\n",
    "Y_test = to_categorical(Y_test)"
   ]
  },
  {
   "cell_type": "markdown",
   "metadata": {},
   "source": [
    "### Generating Multiple models with different depths and number of parameters"
   ]
  },
  {
   "cell_type": "code",
   "execution_count": 121,
   "metadata": {},
   "outputs": [
    {
     "name": "stdout",
     "output_type": "stream",
     "text": [
      "Model: \"model_1\"\n",
      "_________________________________________________________________\n",
      " Layer (type)                Output Shape              Param #   \n",
      "=================================================================\n",
      " dense_381 (Dense)           (None, 10)                650       \n",
      "                                                                 \n",
      " dense_382 (Dense)           (None, 10)                110       \n",
      "                                                                 \n",
      "=================================================================\n",
      "Total params: 760\n",
      "Trainable params: 760\n",
      "Non-trainable params: 0\n",
      "_________________________________________________________________\n",
      "Model: \"model_2\"\n",
      "_________________________________________________________________\n",
      " Layer (type)                Output Shape              Param #   \n",
      "=================================================================\n",
      " dense_383 (Dense)           (None, 10)                650       \n",
      "                                                                 \n",
      " dense_384 (Dense)           (None, 10)                110       \n",
      "                                                                 \n",
      " dense_385 (Dense)           (None, 10)                110       \n",
      "                                                                 \n",
      "=================================================================\n",
      "Total params: 870\n",
      "Trainable params: 870\n",
      "Non-trainable params: 0\n",
      "_________________________________________________________________\n",
      "Model: \"model_3\"\n",
      "_________________________________________________________________\n",
      " Layer (type)                Output Shape              Param #   \n",
      "=================================================================\n",
      " dense_386 (Dense)           (None, 10)                650       \n",
      "                                                                 \n",
      " dense_387 (Dense)           (None, 10)                110       \n",
      "                                                                 \n",
      " dense_388 (Dense)           (None, 10)                110       \n",
      "                                                                 \n",
      " dense_389 (Dense)           (None, 10)                110       \n",
      "                                                                 \n",
      "=================================================================\n",
      "Total params: 980\n",
      "Trainable params: 980\n",
      "Non-trainable params: 0\n",
      "_________________________________________________________________\n",
      "Model: \"model_4\"\n",
      "_________________________________________________________________\n",
      " Layer (type)                Output Shape              Param #   \n",
      "=================================================================\n",
      " dense_390 (Dense)           (None, 10)                650       \n",
      "                                                                 \n",
      " dense_391 (Dense)           (None, 10)                110       \n",
      "                                                                 \n",
      " dense_392 (Dense)           (None, 10)                110       \n",
      "                                                                 \n",
      " dense_393 (Dense)           (None, 10)                110       \n",
      "                                                                 \n",
      " dense_394 (Dense)           (None, 10)                110       \n",
      "                                                                 \n",
      "=================================================================\n",
      "Total params: 1,090\n",
      "Trainable params: 1,090\n",
      "Non-trainable params: 0\n",
      "_________________________________________________________________\n"
     ]
    }
   ],
   "source": [
    "models = [create_custom_model(n_features, 10, 10, i, 'model_{}'.format(i)) \n",
    "          for i in range(1, 5)]\n",
    "for create_model in models:\n",
    "    create_model().summary()"
   ]
  },
  {
   "cell_type": "code",
   "execution_count": 122,
   "metadata": {},
   "outputs": [
    {
     "name": "stdout",
     "output_type": "stream",
     "text": [
      "Model name: model_1\n",
      "Test loss: 0.36748120188713074\n",
      "Test accuracy: 0.9472222328186035\n",
      "Test precision: 0.9472222328186035\n",
      "Test recall: 0.9472222328186035\n",
      "Test f1_score: 0.9859298467636108\n",
      "Model name: model_2\n",
      "Test loss: 0.5319356918334961\n",
      "Test accuracy: 0.9416666626930237\n",
      "Test precision: 0.9416666626930237\n",
      "Test recall: 0.9416666626930237\n",
      "Test f1_score: 0.9784418940544128\n",
      "Model name: model_3\n",
      "Test loss: 0.6951196789741516\n",
      "Test accuracy: 0.9416666626930237\n",
      "Test precision: 0.9416666626930237\n",
      "Test recall: 0.9416666626930237\n",
      "Test f1_score: 0.9799579381942749\n",
      "Model name: model_4\n",
      "Test loss: 1.0490233898162842\n",
      "Test accuracy: 0.9194444417953491\n",
      "Test precision: 0.9220055937767029\n",
      "Test recall: 0.9194444417953491\n",
      "Test f1_score: 0.9735254049301147\n"
     ]
    }
   ],
   "source": [
    "from keras.callbacks import TensorBoard\n",
    "\n",
    "history_dict = {}\n",
    "\n",
    "# TensorBoard Callback\n",
    "cb = TensorBoard()\n",
    "\n",
    "for create_model in models:\n",
    "    model = create_model()\n",
    "    print('Model name:', model.name)\n",
    "    history_callback = model.fit(X_train, Y_train,\n",
    "                                 batch_size=5,\n",
    "                                 epochs=50,\n",
    "                                 verbose=0,\n",
    "                                 validation_data=(X_test, Y_test),\n",
    "                                 callbacks=[cb])\n",
    "    score = model.evaluate(X_test, Y_test, verbose=0)\n",
    "    print('Test loss:', score[0])\n",
    "    print('Test accuracy:', score[1])\n",
    "    print('Test precision:', score[2])\n",
    "    print('Test recall:', score[3])\n",
    "    print('Test f1_score:', score[4])\n",
    "    history_dict[model.name] = [history_callback, model]"
   ]
  },
  {
   "cell_type": "markdown",
   "metadata": {},
   "source": [
    "# We Will be Working With the olivetti faces dataset"
   ]
  },
  {
   "cell_type": "code",
   "execution_count": 123,
   "metadata": {},
   "outputs": [],
   "source": [
    "data = fetch_olivetti_faces()"
   ]
  },
  {
   "cell_type": "code",
   "execution_count": 124,
   "metadata": {},
   "outputs": [
    {
     "name": "stdout",
     "output_type": "stream",
     "text": [
      ".. _olivetti_faces_dataset:\n",
      "\n",
      "The Olivetti faces dataset\n",
      "--------------------------\n",
      "\n",
      "`This dataset contains a set of face images`_ taken between April 1992 and \n",
      "April 1994 at AT&T Laboratories Cambridge. The\n",
      ":func:`sklearn.datasets.fetch_olivetti_faces` function is the data\n",
      "fetching / caching function that downloads the data\n",
      "archive from AT&T.\n",
      "\n",
      ".. _This dataset contains a set of face images: http://www.cl.cam.ac.uk/research/dtg/attarchive/facedatabase.html\n",
      "\n",
      "As described on the original website:\n",
      "\n",
      "    There are ten different images of each of 40 distinct subjects. For some\n",
      "    subjects, the images were taken at different times, varying the lighting,\n",
      "    facial expressions (open / closed eyes, smiling / not smiling) and facial\n",
      "    details (glasses / no glasses). All the images were taken against a dark\n",
      "    homogeneous background with the subjects in an upright, frontal position \n",
      "    (with tolerance for some side movement).\n",
      "\n",
      "**Data Set Characteristics:**\n",
      "\n",
      "    =================   =====================\n",
      "    Classes                                40\n",
      "    Samples total                         400\n",
      "    Dimensionality                       4096\n",
      "    Features            real, between 0 and 1\n",
      "    =================   =====================\n",
      "\n",
      "The image is quantized to 256 grey levels and stored as unsigned 8-bit \n",
      "integers; the loader will convert these to floating point values on the \n",
      "interval [0, 1], which are easier to work with for many algorithms.\n",
      "\n",
      "The \"target\" for this database is an integer from 0 to 39 indicating the\n",
      "identity of the person pictured; however, with only 10 examples per class, this\n",
      "relatively small dataset is more interesting from an unsupervised or\n",
      "semi-supervised perspective.\n",
      "\n",
      "The original dataset consisted of 92 x 112, while the version available here\n",
      "consists of 64x64 images.\n",
      "\n",
      "When using these images, please give credit to AT&T Laboratories Cambridge.\n",
      "\n"
     ]
    }
   ],
   "source": [
    "print(data.DESCR)"
   ]
  },
  {
   "cell_type": "code",
   "execution_count": 125,
   "metadata": {},
   "outputs": [],
   "source": [
    "faces = data.images\n",
    "target = data.target"
   ]
  },
  {
   "cell_type": "code",
   "execution_count": 126,
   "metadata": {},
   "outputs": [
    {
     "data": {
      "text/plain": [
       "array([ 0,  1,  2,  3,  4,  5,  6,  7,  8,  9, 10, 11, 12, 13, 14, 15, 16,\n",
       "       17, 18, 19, 20, 21, 22, 23, 24, 25, 26, 27, 28, 29, 30, 31, 32, 33,\n",
       "       34, 35, 36, 37, 38, 39])"
      ]
     },
     "execution_count": 126,
     "metadata": {},
     "output_type": "execute_result"
    }
   ],
   "source": [
    "#Total class number equal to 40\n",
    "all_classes = np.unique(target)\n",
    "all_classes.sort()\n",
    "all_classes"
   ]
  },
  {
   "cell_type": "code",
   "execution_count": 127,
   "metadata": {},
   "outputs": [],
   "source": [
    " faces = faces.reshape((len(faces), -1))"
   ]
  },
  {
   "cell_type": "code",
   "execution_count": 128,
   "metadata": {},
   "outputs": [],
   "source": [
    "face_target = to_categorical(target, 40)"
   ]
  },
  {
   "cell_type": "code",
   "execution_count": 129,
   "metadata": {},
   "outputs": [],
   "source": [
    "X_train, X_test, Y_train, Y_test = train_test_split(faces, face_target, test_size=0.2, stratify=target, random_state=0) "
   ]
  },
  {
   "cell_type": "markdown",
   "metadata": {},
   "source": [
    "### Generating Multiple models with different depths and number of parameters"
   ]
  },
  {
   "cell_type": "code",
   "execution_count": 130,
   "metadata": {},
   "outputs": [
    {
     "name": "stdout",
     "output_type": "stream",
     "text": [
      "Model: \"model_1\"\n",
      "_________________________________________________________________\n",
      " Layer (type)                Output Shape              Param #   \n",
      "=================================================================\n",
      " dense_409 (Dense)           (None, 50)                204850    \n",
      "                                                                 \n",
      " dense_410 (Dense)           (None, 40)                2040      \n",
      "                                                                 \n",
      "=================================================================\n",
      "Total params: 206,890\n",
      "Trainable params: 206,890\n",
      "Non-trainable params: 0\n",
      "_________________________________________________________________\n",
      "Model: \"model_2\"\n",
      "_________________________________________________________________\n",
      " Layer (type)                Output Shape              Param #   \n",
      "=================================================================\n",
      " dense_411 (Dense)           (None, 50)                204850    \n",
      "                                                                 \n",
      " dense_412 (Dense)           (None, 50)                2550      \n",
      "                                                                 \n",
      " dense_413 (Dense)           (None, 40)                2040      \n",
      "                                                                 \n",
      "=================================================================\n",
      "Total params: 209,440\n",
      "Trainable params: 209,440\n",
      "Non-trainable params: 0\n",
      "_________________________________________________________________\n",
      "Model: \"model_3\"\n",
      "_________________________________________________________________\n",
      " Layer (type)                Output Shape              Param #   \n",
      "=================================================================\n",
      " dense_414 (Dense)           (None, 50)                204850    \n",
      "                                                                 \n",
      " dense_415 (Dense)           (None, 50)                2550      \n",
      "                                                                 \n",
      " dense_416 (Dense)           (None, 50)                2550      \n",
      "                                                                 \n",
      " dense_417 (Dense)           (None, 40)                2040      \n",
      "                                                                 \n",
      "=================================================================\n",
      "Total params: 211,990\n",
      "Trainable params: 211,990\n",
      "Non-trainable params: 0\n",
      "_________________________________________________________________\n",
      "Model: \"model_4\"\n",
      "_________________________________________________________________\n",
      " Layer (type)                Output Shape              Param #   \n",
      "=================================================================\n",
      " dense_418 (Dense)           (None, 50)                204850    \n",
      "                                                                 \n",
      " dense_419 (Dense)           (None, 50)                2550      \n",
      "                                                                 \n",
      " dense_420 (Dense)           (None, 50)                2550      \n",
      "                                                                 \n",
      " dense_421 (Dense)           (None, 50)                2550      \n",
      "                                                                 \n",
      " dense_422 (Dense)           (None, 40)                2040      \n",
      "                                                                 \n",
      "=================================================================\n",
      "Total params: 214,540\n",
      "Trainable params: 214,540\n",
      "Non-trainable params: 0\n",
      "_________________________________________________________________\n"
     ]
    }
   ],
   "source": [
    "# Creating multiple models\n",
    "# Output dim == 40 , we have 40 classes\n",
    "models = [create_custom_model(X_train.shape[1], 40, 50, i, 'model_{}'.format(i)) \n",
    "          for i in range(1, 5)]\n",
    "for create_model in models:\n",
    "    create_model().summary()"
   ]
  },
  {
   "cell_type": "code",
   "execution_count": 131,
   "metadata": {},
   "outputs": [
    {
     "name": "stdout",
     "output_type": "stream",
     "text": [
      "Model name: model_1\n",
      "Test loss: 3.6888821125030518\n",
      "Test accuracy: 0.02500000037252903\n",
      "Test precision: 0.0\n",
      "Test recall: 0.0\n",
      "Test f1_score: 0.5\n",
      "Model name: model_2\n",
      "Test loss: 3.688882827758789\n",
      "Test accuracy: 0.02500000037252903\n",
      "Test precision: 0.0\n",
      "Test recall: 0.0\n",
      "Test f1_score: 0.5\n",
      "Model name: model_3\n",
      "Test loss: 3.688882827758789\n",
      "Test accuracy: 0.02500000037252903\n",
      "Test precision: 0.0\n",
      "Test recall: 0.0\n",
      "Test f1_score: 0.5\n",
      "Model name: model_4\n",
      "Test loss: 3.6888816356658936\n",
      "Test accuracy: 0.02500000037252903\n",
      "Test precision: 0.0\n",
      "Test recall: 0.0\n",
      "Test f1_score: 0.5\n"
     ]
    }
   ],
   "source": [
    "from keras.callbacks import TensorBoard\n",
    "\n",
    "history_dict = {}\n",
    "\n",
    "# TensorBoard Callback\n",
    "cb = TensorBoard()\n",
    "\n",
    "for create_model in models:\n",
    "    model = create_model()\n",
    "    print('Model name:', model.name)\n",
    "    history_callback = model.fit(X_train, Y_train,\n",
    "                                 batch_size=5,\n",
    "                                 epochs=50,\n",
    "                                 verbose=0,\n",
    "                                 validation_data=(X_test, Y_test),\n",
    "                                 callbacks=[cb])\n",
    "    score = model.evaluate(X_test, Y_test, verbose=0)\n",
    "    print('Test loss:', score[0])\n",
    "    print('Test accuracy:', score[1])\n",
    "    print('Test precision:', score[2])\n",
    "    print('Test recall:', score[3])\n",
    "    print('Test f1_score:', score[4])\n",
    "    history_dict[model.name] = [history_callback, model]"
   ]
  },
  {
   "cell_type": "raw",
   "metadata": {},
   "source": [
    "After working with the faces dataset that has complexe features that needed to be extracted we hit the limits of fully connected networks when it comes to learning images for that we need to work with different types of neural networks hence the CNN. "
   ]
  },
  {
   "cell_type": "code",
   "execution_count": null,
   "metadata": {},
   "outputs": [],
   "source": []
  }
 ],
 "metadata": {
  "colab": {
   "collapsed_sections": [],
   "name": "TP2.ipynb",
   "provenance": []
  },
  "kernelspec": {
   "display_name": "Python 3",
   "language": "python",
   "name": "python3"
  },
  "language_info": {
   "codemirror_mode": {
    "name": "ipython",
    "version": 3
   },
   "file_extension": ".py",
   "mimetype": "text/x-python",
   "name": "python",
   "nbconvert_exporter": "python",
   "pygments_lexer": "ipython3",
   "version": "3.8.3"
  }
 },
 "nbformat": 4,
 "nbformat_minor": 1
}
