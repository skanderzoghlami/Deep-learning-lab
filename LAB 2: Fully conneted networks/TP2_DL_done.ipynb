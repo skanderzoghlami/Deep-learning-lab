{
  "nbformat": 4,
  "nbformat_minor": 5,
  "metadata": {
    "kernelspec": {
      "display_name": "Python 3",
      "language": "python",
      "name": "python3"
    },
    "language_info": {
      "codemirror_mode": {
        "name": "ipython",
        "version": 3
      },
      "file_extension": ".py",
      "mimetype": "text/x-python",
      "name": "python",
      "nbconvert_exporter": "python",
      "pygments_lexer": "ipython3",
      "version": "3.8.8"
    },
    "colab": {
      "name": "TP2_DL_done.ipynb",
      "provenance": [],
      "collapsed_sections": [],
      "toc_visible": true
    }
  },
  "cells": [
    {
      "cell_type": "markdown",
      "metadata": {
        "id": "iB6hECOxgAXi"
      },
      "source": [
        "# Deep learning Assignment : Fully connected layers\n",
        "- Authors : Skander Zoghlami, Moez Saidi, Mohamed koutaiba msadaa\n",
        "- Summary : In this notebook we'll use keras's fully connected layers to test the performance on toy data and compare them to the perceptron algorithms, then we'll ue it on iris,digits and faces datasets to investigate the limitations of these networks."
      ],
      "id": "iB6hECOxgAXi"
    },
    {
      "cell_type": "markdown",
      "metadata": {
        "id": "sm_0WBNRgqVQ"
      },
      "source": [
        "# Libraries used :\n",
        "- here we put all the libraries used throughout the project so that it can be perfectly launched on a virtual environement."
      ],
      "id": "sm_0WBNRgqVQ"
    },
    {
      "cell_type": "code",
      "metadata": {
        "colab": {
          "base_uri": "https://localhost:8080/"
        },
        "id": "iHwARdST9y6j",
        "outputId": "4920d766-fcc2-4831-c62b-0f8496cf7b62"
      },
      "source": [
        "!pip install numpy==1.19.5 # for mathemathical operations and processing the data before feeding them to the network\n",
        "!pip install scikit-learn==1.0.1 # to call machine learning functions and algorithms\n",
        "!pip install matplotlib==3.2.2 # to plot the datasets\n",
        "!pip install keras==2.7.0 # to define and compile models\n",
        "!pip install tensorflow==2.7.0 # To use tensors"
      ],
      "id": "iHwARdST9y6j",
      "execution_count": null,
      "outputs": [
        {
          "output_type": "stream",
          "name": "stdout",
          "text": [
            "Requirement already satisfied: numpy==1.19.5 in /usr/local/lib/python3.7/dist-packages (1.19.5)\n",
            "Requirement already satisfied: scikit-learn==1.0.1 in /usr/local/lib/python3.7/dist-packages (1.0.1)\n",
            "Requirement already satisfied: numpy>=1.14.6 in /usr/local/lib/python3.7/dist-packages (from scikit-learn==1.0.1) (1.19.5)\n",
            "Requirement already satisfied: scipy>=1.1.0 in /usr/local/lib/python3.7/dist-packages (from scikit-learn==1.0.1) (1.4.1)\n",
            "Requirement already satisfied: threadpoolctl>=2.0.0 in /usr/local/lib/python3.7/dist-packages (from scikit-learn==1.0.1) (3.0.0)\n",
            "Requirement already satisfied: joblib>=0.11 in /usr/local/lib/python3.7/dist-packages (from scikit-learn==1.0.1) (1.1.0)\n",
            "Requirement already satisfied: matplotlib==3.2.2 in /usr/local/lib/python3.7/dist-packages (3.2.2)\n",
            "Requirement already satisfied: python-dateutil>=2.1 in /usr/local/lib/python3.7/dist-packages (from matplotlib==3.2.2) (2.8.2)\n",
            "Requirement already satisfied: cycler>=0.10 in /usr/local/lib/python3.7/dist-packages (from matplotlib==3.2.2) (0.11.0)\n",
            "Requirement already satisfied: kiwisolver>=1.0.1 in /usr/local/lib/python3.7/dist-packages (from matplotlib==3.2.2) (1.3.2)\n",
            "Requirement already satisfied: pyparsing!=2.0.4,!=2.1.2,!=2.1.6,>=2.0.1 in /usr/local/lib/python3.7/dist-packages (from matplotlib==3.2.2) (3.0.6)\n",
            "Requirement already satisfied: numpy>=1.11 in /usr/local/lib/python3.7/dist-packages (from matplotlib==3.2.2) (1.19.5)\n",
            "Requirement already satisfied: six>=1.5 in /usr/local/lib/python3.7/dist-packages (from python-dateutil>=2.1->matplotlib==3.2.2) (1.15.0)\n",
            "Requirement already satisfied: keras==2.7.0 in /usr/local/lib/python3.7/dist-packages (2.7.0)\n",
            "Requirement already satisfied: tensorflow==2.7.0 in /usr/local/lib/python3.7/dist-packages (2.7.0)\n",
            "Requirement already satisfied: protobuf>=3.9.2 in /usr/local/lib/python3.7/dist-packages (from tensorflow==2.7.0) (3.17.3)\n",
            "Requirement already satisfied: six>=1.12.0 in /usr/local/lib/python3.7/dist-packages (from tensorflow==2.7.0) (1.15.0)\n",
            "Requirement already satisfied: absl-py>=0.4.0 in /usr/local/lib/python3.7/dist-packages (from tensorflow==2.7.0) (0.12.0)\n",
            "Requirement already satisfied: tensorboard~=2.6 in /usr/local/lib/python3.7/dist-packages (from tensorflow==2.7.0) (2.7.0)\n",
            "Requirement already satisfied: termcolor>=1.1.0 in /usr/local/lib/python3.7/dist-packages (from tensorflow==2.7.0) (1.1.0)\n",
            "Requirement already satisfied: numpy>=1.14.5 in /usr/local/lib/python3.7/dist-packages (from tensorflow==2.7.0) (1.19.5)\n",
            "Requirement already satisfied: astunparse>=1.6.0 in /usr/local/lib/python3.7/dist-packages (from tensorflow==2.7.0) (1.6.3)\n",
            "Requirement already satisfied: libclang>=9.0.1 in /usr/local/lib/python3.7/dist-packages (from tensorflow==2.7.0) (12.0.0)\n",
            "Requirement already satisfied: keras-preprocessing>=1.1.1 in /usr/local/lib/python3.7/dist-packages (from tensorflow==2.7.0) (1.1.2)\n",
            "Requirement already satisfied: wheel<1.0,>=0.32.0 in /usr/local/lib/python3.7/dist-packages (from tensorflow==2.7.0) (0.37.0)\n",
            "Requirement already satisfied: gast<0.5.0,>=0.2.1 in /usr/local/lib/python3.7/dist-packages (from tensorflow==2.7.0) (0.4.0)\n",
            "Requirement already satisfied: tensorflow-estimator<2.8,~=2.7.0rc0 in /usr/local/lib/python3.7/dist-packages (from tensorflow==2.7.0) (2.7.0)\n",
            "Requirement already satisfied: grpcio<2.0,>=1.24.3 in /usr/local/lib/python3.7/dist-packages (from tensorflow==2.7.0) (1.42.0)\n",
            "Requirement already satisfied: google-pasta>=0.1.1 in /usr/local/lib/python3.7/dist-packages (from tensorflow==2.7.0) (0.2.0)\n",
            "Requirement already satisfied: wrapt>=1.11.0 in /usr/local/lib/python3.7/dist-packages (from tensorflow==2.7.0) (1.13.3)\n",
            "Requirement already satisfied: typing-extensions>=3.6.6 in /usr/local/lib/python3.7/dist-packages (from tensorflow==2.7.0) (3.10.0.2)\n",
            "Requirement already satisfied: tensorflow-io-gcs-filesystem>=0.21.0 in /usr/local/lib/python3.7/dist-packages (from tensorflow==2.7.0) (0.22.0)\n",
            "Requirement already satisfied: flatbuffers<3.0,>=1.12 in /usr/local/lib/python3.7/dist-packages (from tensorflow==2.7.0) (2.0)\n",
            "Requirement already satisfied: h5py>=2.9.0 in /usr/local/lib/python3.7/dist-packages (from tensorflow==2.7.0) (3.1.0)\n",
            "Requirement already satisfied: opt-einsum>=2.3.2 in /usr/local/lib/python3.7/dist-packages (from tensorflow==2.7.0) (3.3.0)\n",
            "Requirement already satisfied: keras<2.8,>=2.7.0rc0 in /usr/local/lib/python3.7/dist-packages (from tensorflow==2.7.0) (2.7.0)\n",
            "Requirement already satisfied: cached-property in /usr/local/lib/python3.7/dist-packages (from h5py>=2.9.0->tensorflow==2.7.0) (1.5.2)\n",
            "Requirement already satisfied: werkzeug>=0.11.15 in /usr/local/lib/python3.7/dist-packages (from tensorboard~=2.6->tensorflow==2.7.0) (1.0.1)\n",
            "Requirement already satisfied: google-auth-oauthlib<0.5,>=0.4.1 in /usr/local/lib/python3.7/dist-packages (from tensorboard~=2.6->tensorflow==2.7.0) (0.4.6)\n",
            "Requirement already satisfied: google-auth<3,>=1.6.3 in /usr/local/lib/python3.7/dist-packages (from tensorboard~=2.6->tensorflow==2.7.0) (1.35.0)\n",
            "Requirement already satisfied: tensorboard-plugin-wit>=1.6.0 in /usr/local/lib/python3.7/dist-packages (from tensorboard~=2.6->tensorflow==2.7.0) (1.8.0)\n",
            "Requirement already satisfied: markdown>=2.6.8 in /usr/local/lib/python3.7/dist-packages (from tensorboard~=2.6->tensorflow==2.7.0) (3.3.6)\n",
            "Requirement already satisfied: requests<3,>=2.21.0 in /usr/local/lib/python3.7/dist-packages (from tensorboard~=2.6->tensorflow==2.7.0) (2.23.0)\n",
            "Requirement already satisfied: setuptools>=41.0.0 in /usr/local/lib/python3.7/dist-packages (from tensorboard~=2.6->tensorflow==2.7.0) (57.4.0)\n",
            "Requirement already satisfied: tensorboard-data-server<0.7.0,>=0.6.0 in /usr/local/lib/python3.7/dist-packages (from tensorboard~=2.6->tensorflow==2.7.0) (0.6.1)\n",
            "Requirement already satisfied: cachetools<5.0,>=2.0.0 in /usr/local/lib/python3.7/dist-packages (from google-auth<3,>=1.6.3->tensorboard~=2.6->tensorflow==2.7.0) (4.2.4)\n",
            "Requirement already satisfied: rsa<5,>=3.1.4 in /usr/local/lib/python3.7/dist-packages (from google-auth<3,>=1.6.3->tensorboard~=2.6->tensorflow==2.7.0) (4.7.2)\n",
            "Requirement already satisfied: pyasn1-modules>=0.2.1 in /usr/local/lib/python3.7/dist-packages (from google-auth<3,>=1.6.3->tensorboard~=2.6->tensorflow==2.7.0) (0.2.8)\n",
            "Requirement already satisfied: requests-oauthlib>=0.7.0 in /usr/local/lib/python3.7/dist-packages (from google-auth-oauthlib<0.5,>=0.4.1->tensorboard~=2.6->tensorflow==2.7.0) (1.3.0)\n",
            "Requirement already satisfied: importlib-metadata>=4.4 in /usr/local/lib/python3.7/dist-packages (from markdown>=2.6.8->tensorboard~=2.6->tensorflow==2.7.0) (4.8.2)\n",
            "Requirement already satisfied: zipp>=0.5 in /usr/local/lib/python3.7/dist-packages (from importlib-metadata>=4.4->markdown>=2.6.8->tensorboard~=2.6->tensorflow==2.7.0) (3.6.0)\n",
            "Requirement already satisfied: pyasn1<0.5.0,>=0.4.6 in /usr/local/lib/python3.7/dist-packages (from pyasn1-modules>=0.2.1->google-auth<3,>=1.6.3->tensorboard~=2.6->tensorflow==2.7.0) (0.4.8)\n",
            "Requirement already satisfied: certifi>=2017.4.17 in /usr/local/lib/python3.7/dist-packages (from requests<3,>=2.21.0->tensorboard~=2.6->tensorflow==2.7.0) (2021.10.8)\n",
            "Requirement already satisfied: urllib3!=1.25.0,!=1.25.1,<1.26,>=1.21.1 in /usr/local/lib/python3.7/dist-packages (from requests<3,>=2.21.0->tensorboard~=2.6->tensorflow==2.7.0) (1.24.3)\n",
            "Requirement already satisfied: chardet<4,>=3.0.2 in /usr/local/lib/python3.7/dist-packages (from requests<3,>=2.21.0->tensorboard~=2.6->tensorflow==2.7.0) (3.0.4)\n",
            "Requirement already satisfied: idna<3,>=2.5 in /usr/local/lib/python3.7/dist-packages (from requests<3,>=2.21.0->tensorboard~=2.6->tensorflow==2.7.0) (2.10)\n",
            "Requirement already satisfied: oauthlib>=3.0.0 in /usr/local/lib/python3.7/dist-packages (from requests-oauthlib>=0.7.0->google-auth-oauthlib<0.5,>=0.4.1->tensorboard~=2.6->tensorflow==2.7.0) (3.1.1)\n"
          ]
        }
      ]
    },
    {
      "cell_type": "code",
      "metadata": {
        "id": "01eba59b"
      },
      "source": [
        "import numpy as np\n",
        "from sklearn.utils import shuffle\n",
        "from sklearn.model_selection import train_test_split\n",
        "from sklearn.metrics import accuracy_score\n",
        "from matplotlib import pyplot as plt\n",
        "from keras.models import Sequential\n",
        "from keras.layers import Dense"
      ],
      "id": "01eba59b",
      "execution_count": null,
      "outputs": []
    },
    {
      "cell_type": "code",
      "metadata": {
        "id": "HmWgUjSu_akN"
      },
      "source": [
        "from keras.models import Sequential\n",
        "from keras.layers import Dense,Conv2D,MaxPooling2D,Flatten\n",
        "from tensorflow.keras.utils import to_categorical\n",
        "import tensorflow as tf\n",
        "import matplotlib.pyplot as plt\n",
        "from sklearn import datasets"
      ],
      "id": "HmWgUjSu_akN",
      "execution_count": null,
      "outputs": []
    },
    {
      "cell_type": "code",
      "metadata": {
        "id": "LbFrp9q1GKZK"
      },
      "source": [
        "from sklearn.datasets import load_digits\n",
        "from keras.utils import np_utils\n",
        "from sklearn.preprocessing import StandardScaler\n"
      ],
      "id": "LbFrp9q1GKZK",
      "execution_count": null,
      "outputs": []
    },
    {
      "cell_type": "code",
      "metadata": {
        "id": "IUW9c8RkQegP"
      },
      "source": [
        "from sklearn.datasets import fetch_olivetti_faces"
      ],
      "id": "IUW9c8RkQegP",
      "execution_count": null,
      "outputs": []
    },
    {
      "cell_type": "markdown",
      "metadata": {
        "id": "c4d17836"
      },
      "source": [
        "# Experiments"
      ],
      "id": "c4d17836"
    },
    {
      "cell_type": "markdown",
      "metadata": {
        "id": "8b55d21a"
      },
      "source": [
        "## Experiement 1 : Toy Dataset\n",
        "- Here we will use the same toy dataset used in the first assignment which gave 0.98 accuracy using the perceptron algorithm"
      ],
      "id": "8b55d21a"
    },
    {
      "cell_type": "code",
      "metadata": {
        "id": "e8706d88"
      },
      "source": [
        "def generate_data(mu1, mu2, sigma1, sigma2, n, input_size):\n",
        "  ''' This function generates the data using standard deviation and mean values'''\n",
        "  X1 = sigma1 * np.random.randn(n//2,input_size) + mu1\n",
        "  Y1 = -1*np.ones(n//2, dtype=int)\n",
        "  X2 = sigma2 * np.random.randn(n//2,input_size) + mu2\n",
        "  Y2 = np.ones(n//2, dtype=int)\n",
        "  X =  np.concatenate((X1,X2))\n",
        "  y = np.concatenate((Y1,Y2))\n",
        "  return X,y"
      ],
      "id": "e8706d88",
      "execution_count": null,
      "outputs": []
    },
    {
      "cell_type": "code",
      "metadata": {
        "id": "axLq2qzoV1W-"
      },
      "source": [
        "def plot_dataset(input,target,title=\"Plot\"):\n",
        "  ''' this function is used to plot the dataset in 2D'''\n",
        "  fig, ax = plt.subplots()\n",
        "  scatter = plt.scatter(input[:,0], input[:,1], c=target, cmap=\"autumn\")\n",
        "  plt.title(title)\n",
        "  legend = ax.legend(*scatter.legend_elements())\n",
        "  ax.add_artist(legend)\n",
        "  plt.gca().set_ylim([-5, 5])\n",
        "  plt.show()"
      ],
      "id": "axLq2qzoV1W-",
      "execution_count": null,
      "outputs": []
    },
    {
      "cell_type": "code",
      "metadata": {
        "colab": {
          "base_uri": "https://localhost:8080/",
          "height": 281
        },
        "id": "A6a19J6pVchY",
        "outputId": "69a83186-80d9-4b83-87bd-c08d2bd80aa2"
      },
      "source": [
        "sigma1 = sigma2 = 0.25\n",
        "input_size = 2\n",
        "mu1 = np.array([-1, 0])\n",
        "mu2 = np.array([1, 0])\n",
        "\n",
        "X,y = generate_data(mu1, mu2, sigma1, sigma2, 250 , input_size)\n",
        "X_train, X_test, y_train, y_test = train_test_split(X, y, test_size=0.20, random_state=42,shuffle=True)\n",
        "plot_dataset(X_train, y_train)"
      ],
      "id": "A6a19J6pVchY",
      "execution_count": null,
      "outputs": [
        {
          "output_type": "display_data",
          "data": {
            "image/png": "[encoded data removed]",
            "text/plain": [
              "<Figure size 432x288 with 1 Axes>"
            ]
          },
          "metadata": {
            "needs_background": "light"
          }
        }
      ]
    },
    {
      "cell_type": "markdown",
      "metadata": {
        "id": "2DBR59l4hKLe"
      },
      "source": [
        "- Now we will define the model, since the data is linearly separable we wont be needing multiple layers so a simple modelwith 1 dense layer will be enough."
      ],
      "id": "2DBR59l4hKLe"
    },
    {
      "cell_type": "code",
      "metadata": {
        "colab": {
          "base_uri": "https://localhost:8080/"
        },
        "id": "m3lA4UhI4PkR",
        "outputId": "57f36a07-1e51-4a0f-eb23-378776cbf9cf"
      },
      "source": [
        "# Defining the model\n",
        "model = Sequential([\n",
        "    Dense(2, input_dim=2, activation='softmax'),\n",
        "])\n",
        "model.summary()"
      ],
      "id": "m3lA4UhI4PkR",
      "execution_count": null,
      "outputs": [
        {
          "output_type": "stream",
          "name": "stdout",
          "text": [
            "Model: \"sequential_5\"\n",
            "_________________________________________________________________\n",
            " Layer (type)                Output Shape              Param #   \n",
            "=================================================================\n",
            " dense_524 (Dense)           (None, 2)                 6         \n",
            "                                                                 \n",
            "=================================================================\n",
            "Total params: 6\n",
            "Trainable params: 6\n",
            "Non-trainable params: 0\n",
            "_________________________________________________________________\n"
          ]
        }
      ]
    },
    {
      "cell_type": "code",
      "metadata": {
        "id": "admyvLvaZCKl"
      },
      "source": [
        "#Transforming the labels to categories\n",
        "y_train_cat = to_categorical(y_train, num_classes=2)\n",
        "y_test_cat = to_categorical(y_test, num_classes=2)"
      ],
      "id": "admyvLvaZCKl",
      "execution_count": null,
      "outputs": []
    },
    {
      "cell_type": "code",
      "metadata": {
        "id": "iq8o-Uy9-kPe"
      },
      "source": [
        "model.compile(loss='binary_crossentropy',optimizer='adam',metrics=['accuracy'])"
      ],
      "id": "iq8o-Uy9-kPe",
      "execution_count": null,
      "outputs": []
    },
    {
      "cell_type": "code",
      "metadata": {
        "colab": {
          "base_uri": "https://localhost:8080/"
        },
        "id": "jprLB9k5ZAUQ",
        "outputId": "482d5bc6-0b5f-4c34-a998-fb0d11ba4d64"
      },
      "source": [
        "#Training the model\n",
        "model.fit(X_train, y_train_cat, epochs=20, batch_size=4)\n",
        "print('Model acccuracy:',model.evaluate(X_test,y_test_cat)[1])"
      ],
      "id": "jprLB9k5ZAUQ",
      "execution_count": null,
      "outputs": [
        {
          "output_type": "stream",
          "name": "stdout",
          "text": [
            "Epoch 1/20\n",
            "50/50 [==============================] - 0s 1ms/step - loss: 0.3408 - accuracy: 1.0000\n",
            "Epoch 2/20\n",
            "50/50 [==============================] - 0s 1ms/step - loss: 0.3267 - accuracy: 1.0000\n",
            "Epoch 3/20\n",
            "50/50 [==============================] - 0s 1ms/step - loss: 0.3133 - accuracy: 1.0000\n",
            "Epoch 4/20\n",
            "50/50 [==============================] - 0s 1ms/step - loss: 0.3005 - accuracy: 1.0000\n",
            "Epoch 5/20\n",
            "50/50 [==============================] - 0s 1ms/step - loss: 0.2884 - accuracy: 1.0000\n",
            "Epoch 6/20\n",
            "50/50 [==============================] - 0s 2ms/step - loss: 0.2770 - accuracy: 1.0000\n",
            "Epoch 7/20\n",
            "50/50 [==============================] - 0s 1ms/step - loss: 0.2661 - accuracy: 1.0000\n",
            "Epoch 8/20\n",
            "50/50 [==============================] - 0s 2ms/step - loss: 0.2558 - accuracy: 1.0000\n",
            "Epoch 9/20\n",
            "50/50 [==============================] - 0s 1ms/step - loss: 0.2460 - accuracy: 1.0000\n",
            "Epoch 10/20\n",
            "50/50 [==============================] - 0s 1ms/step - loss: 0.2367 - accuracy: 1.0000\n",
            "Epoch 11/20\n",
            "50/50 [==============================] - 0s 1ms/step - loss: 0.2278 - accuracy: 1.0000\n",
            "Epoch 12/20\n",
            "50/50 [==============================] - 0s 1ms/step - loss: 0.2194 - accuracy: 1.0000\n",
            "Epoch 13/20\n",
            "50/50 [==============================] - 0s 1ms/step - loss: 0.2114 - accuracy: 1.0000\n",
            "Epoch 14/20\n",
            "50/50 [==============================] - 0s 1ms/step - loss: 0.2038 - accuracy: 1.0000\n",
            "Epoch 15/20\n",
            "50/50 [==============================] - 0s 1ms/step - loss: 0.1965 - accuracy: 1.0000\n",
            "Epoch 16/20\n",
            "50/50 [==============================] - 0s 1ms/step - loss: 0.1895 - accuracy: 1.0000\n",
            "Epoch 17/20\n",
            "50/50 [==============================] - 0s 1ms/step - loss: 0.1829 - accuracy: 1.0000\n",
            "Epoch 18/20\n",
            "50/50 [==============================] - 0s 1ms/step - loss: 0.1766 - accuracy: 1.0000\n",
            "Epoch 19/20\n",
            "50/50 [==============================] - 0s 1ms/step - loss: 0.1705 - accuracy: 1.0000\n",
            "Epoch 20/20\n",
            "50/50 [==============================] - 0s 1ms/step - loss: 0.1648 - accuracy: 1.0000\n",
            "2/2 [==============================] - 0s 5ms/step - loss: 0.1624 - accuracy: 1.0000\n",
            "Model acccuracy: 1.0\n"
          ]
        }
      ]
    },
    {
      "cell_type": "markdown",
      "metadata": {
        "id": "QyBihrLahW-N"
      },
      "source": [
        "- We can see that the model has  achieved perfect accuracy which is predictable since the data are linearly serparable."
      ],
      "id": "QyBihrLahW-N"
    },
    {
      "cell_type": "markdown",
      "metadata": {
        "id": "K9dAfqdgIs30"
      },
      "source": [
        "##Experiment 2: Iris Dataset:\n",
        "- Here we will load the iris dataset from scikit-learn and then test multiple models by changing the depth of the network each time as well as the number of neurones in each layer"
      ],
      "id": "K9dAfqdgIs30"
    },
    {
      "cell_type": "code",
      "metadata": {
        "id": "_eva2SnLU-mv",
        "colab": {
          "base_uri": "https://localhost:8080/",
          "height": 389
        },
        "outputId": "fabc4094-455d-42e2-f5fd-3f63f7755eb7"
      },
      "source": [
        "iris = datasets.load_iris()\n",
        "# extract the first two features.\n",
        "X = iris.data[:, :2]  \n",
        "y = iris.target\n",
        "\n",
        "x_min, x_max = X[:, 0].min() - 0.5, X[:, 0].max() + 0.5\n",
        "y_min, y_max = X[:, 1].min() - 0.5, X[:, 1].max() + 0.5\n",
        "\n",
        "plt.figure(2, figsize=(8, 6))\n",
        "plt.clf()\n",
        "\n",
        "# Plot the points\n",
        "plt.scatter(X[:, 0], X[:, 1], c=y, cmap=plt.cm.Set1, edgecolor=\"k\")\n",
        "plt.xlabel(\"Sepal length\")\n",
        "plt.ylabel(\"Sepal width\")\n",
        "\n",
        "plt.xlim(x_min, x_max)\n",
        "plt.ylim(y_min, y_max)\n",
        "plt.xticks(())\n",
        "plt.yticks(())\n"
      ],
      "id": "_eva2SnLU-mv",
      "execution_count": null,
      "outputs": [
        {
          "output_type": "execute_result",
          "data": {
            "text/plain": [
              "([], <a list of 0 Text major ticklabel objects>)"
            ]
          },
          "metadata": {},
          "execution_count": 45
        },
        {
          "output_type": "display_data",
          "data": {
            "image/png": "[encoded data removed]",
            "text/plain": [
              "<Figure size 576x432 with 1 Axes>"
            ]
          },
          "metadata": {}
        }
      ]
    },
    {
      "cell_type": "code",
      "metadata": {
        "id": "yJjnCYn7Wg1V"
      },
      "source": [
        "X_train, X_test, y_train, y_test = train_test_split(X, y, test_size=0.2, random_state=42)\n",
        "y_train = to_categorical(y_train, 3)\n",
        "y_test = to_categorical(y_test, 3)"
      ],
      "id": "yJjnCYn7Wg1V",
      "execution_count": null,
      "outputs": []
    },
    {
      "cell_type": "code",
      "metadata": {
        "id": "_GEzz-lfCklm"
      },
      "source": [
        "def recall(y_true, y_pred):\n",
        "    y_true = K.ones_like(y_true) \n",
        "    true_positives = K.sum(K.round(K.clip(y_true * y_pred, 0, 1)))\n",
        "    all_positives = K.sum(K.round(K.clip(y_true, 0, 1)))\n",
        "    \n",
        "    recall = true_positives / (all_positives + K.epsilon())\n",
        "    return recall\n",
        "\n",
        "def precision(y_true, y_pred):\n",
        "    y_true = K.ones_like(y_true) \n",
        "    true_positives = K.sum(K.round(K.clip(y_true * y_pred, 0, 1)))\n",
        "    \n",
        "    predicted_positives = K.sum(K.round(K.clip(y_pred, 0, 1)))\n",
        "    precision = true_positives / (predicted_positives + K.epsilon())\n",
        "    return precision\n",
        "\n",
        "def f1_score(y_true, y_pred):\n",
        "    precision = precision_m(y_true, y_pred)\n",
        "    recall = recall_m(y_true, y_pred)\n",
        "    return 2*((precision*recall)/(precision+recall+K.epsilon()))"
      ],
      "id": "_GEzz-lfCklm",
      "execution_count": null,
      "outputs": []
    },
    {
      "cell_type": "code",
      "metadata": {
        "id": "Aob8SPt1W0b3",
        "colab": {
          "base_uri": "https://localhost:8080/"
        },
        "outputId": "17406d2a-c148-44e4-eae0-12a43c3269c6"
      },
      "source": [
        "def create_keras_model(input_dim, output_dim, nodes, layers=1, name='model'):\n",
        "    def create_model():\n",
        "        # Create model\n",
        "        model = Sequential(name=name)\n",
        "        for i in range(layers):\n",
        "            model.add(Dense(nodes, input_dim=input_dim, activation='relu'))\n",
        "        model.add(Dense(output_dim, activation='softmax'))\n",
        "\n",
        "        # Compile model\n",
        "        model.compile(loss='categorical_crossentropy', \n",
        "                      optimizer='adam', \n",
        "                      metrics=['accuracy', \n",
        "                               tf.keras.metrics.Precision(), \n",
        "                               tf.keras.metrics.Recall(), \n",
        "                               tf.keras.metrics.AUC()])\n",
        "                      \n",
        "        return model\n",
        "    return create_model\n",
        "# Creating multiple models\n",
        "# Output dim == 3 , we have 3 classes\n",
        "models = [create_keras_model(X_train.shape[1], 3, 10, i, 'model_{}'.format(i)) \n",
        "          for i in range(1, 5)]\n",
        "\n",
        "for create_model in models:\n",
        "    create_model().summary()"
      ],
      "id": "Aob8SPt1W0b3",
      "execution_count": null,
      "outputs": [
        {
          "output_type": "stream",
          "name": "stdout",
          "text": [
            "Model: \"model_1\"\n",
            "_________________________________________________________________\n",
            " Layer (type)                Output Shape              Param #   \n",
            "=================================================================\n",
            " dense_305 (Dense)           (None, 10)                30        \n",
            "                                                                 \n",
            " dense_306 (Dense)           (None, 3)                 33        \n",
            "                                                                 \n",
            "=================================================================\n",
            "Total params: 63\n",
            "Trainable params: 63\n",
            "Non-trainable params: 0\n",
            "_________________________________________________________________\n",
            "Model: \"model_2\"\n",
            "_________________________________________________________________\n",
            " Layer (type)                Output Shape              Param #   \n",
            "=================================================================\n",
            " dense_307 (Dense)           (None, 10)                30        \n",
            "                                                                 \n",
            " dense_308 (Dense)           (None, 10)                110       \n",
            "                                                                 \n",
            " dense_309 (Dense)           (None, 3)                 33        \n",
            "                                                                 \n",
            "=================================================================\n",
            "Total params: 173\n",
            "Trainable params: 173\n",
            "Non-trainable params: 0\n",
            "_________________________________________________________________\n",
            "Model: \"model_3\"\n",
            "_________________________________________________________________\n",
            " Layer (type)                Output Shape              Param #   \n",
            "=================================================================\n",
            " dense_310 (Dense)           (None, 10)                30        \n",
            "                                                                 \n",
            " dense_311 (Dense)           (None, 10)                110       \n",
            "                                                                 \n",
            " dense_312 (Dense)           (None, 10)                110       \n",
            "                                                                 \n",
            " dense_313 (Dense)           (None, 3)                 33        \n",
            "                                                                 \n",
            "=================================================================\n",
            "Total params: 283\n",
            "Trainable params: 283\n",
            "Non-trainable params: 0\n",
            "_________________________________________________________________\n",
            "Model: \"model_4\"\n",
            "_________________________________________________________________\n",
            " Layer (type)                Output Shape              Param #   \n",
            "=================================================================\n",
            " dense_314 (Dense)           (None, 10)                30        \n",
            "                                                                 \n",
            " dense_315 (Dense)           (None, 10)                110       \n",
            "                                                                 \n",
            " dense_316 (Dense)           (None, 10)                110       \n",
            "                                                                 \n",
            " dense_317 (Dense)           (None, 10)                110       \n",
            "                                                                 \n",
            " dense_318 (Dense)           (None, 3)                 33        \n",
            "                                                                 \n",
            "=================================================================\n",
            "Total params: 393\n",
            "Trainable params: 393\n",
            "Non-trainable params: 0\n",
            "_________________________________________________________________\n"
          ]
        }
      ]
    },
    {
      "cell_type": "code",
      "metadata": {
        "colab": {
          "base_uri": "https://localhost:8080/"
        },
        "id": "a1p8KotLA4hi",
        "outputId": "44b12de5-0013-43c8-948d-36b6baf5370a"
      },
      "source": [
        "for created_model in models:\n",
        "    model = created_model()\n",
        "    print('Model name:', model.name)\n",
        "    history_callback = model.fit(X_train, y_train,\n",
        "                                 batch_size=10,\n",
        "                                 epochs=150,\n",
        "                                 verbose=0\n",
        "                                 )\n",
        "    score = model.evaluate(X_test, y_test, verbose=0)\n",
        "    print('Test loss:', score[0])\n",
        "    print('Test accuracy:', score[1])\n",
        "    print('Test precision:', score[2])\n",
        "    print('Test recall:', score[3])\n",
        "    print('Test f1_score:', score[4])"
      ],
      "id": "a1p8KotLA4hi",
      "execution_count": null,
      "outputs": [
        {
          "output_type": "stream",
          "name": "stdout",
          "text": [
            "Model name: model_1\n",
            "WARNING:tensorflow:5 out of the last 5 calls to <function Model.make_test_function.<locals>.test_function at 0x7f2fcc05e170> triggered tf.function retracing. Tracing is expensive and the excessive number of tracings could be due to (1) creating @tf.function repeatedly in a loop, (2) passing tensors with different shapes, (3) passing Python objects instead of tensors. For (1), please define your @tf.function outside of the loop. For (2), @tf.function has experimental_relax_shapes=True option that relaxes argument shapes that can avoid unnecessary retracing. For (3), please refer to https://www.tensorflow.org/guide/function#controlling_retracing and https://www.tensorflow.org/api_docs/python/tf/function for  more details.\n",
            "Test loss: 0.7419240474700928\n",
            "Test accuracy: 0.699999988079071\n",
            "Test precision: 0.8461538553237915\n",
            "Test recall: 0.36666667461395264\n",
            "Test f1_score: 0.9049999713897705\n",
            "Model name: model_2\n",
            "WARNING:tensorflow:6 out of the last 6 calls to <function Model.make_test_function.<locals>.test_function at 0x7f2fc9eeb8c0> triggered tf.function retracing. Tracing is expensive and the excessive number of tracings could be due to (1) creating @tf.function repeatedly in a loop, (2) passing tensors with different shapes, (3) passing Python objects instead of tensors. For (1), please define your @tf.function outside of the loop. For (2), @tf.function has experimental_relax_shapes=True option that relaxes argument shapes that can avoid unnecessary retracing. For (3), please refer to https://www.tensorflow.org/guide/function#controlling_retracing and https://www.tensorflow.org/api_docs/python/tf/function for  more details.\n",
            "Test loss: 0.5111734867095947\n",
            "Test accuracy: 0.8333333134651184\n",
            "Test precision: 0.8846153616905212\n",
            "Test recall: 0.7666666507720947\n",
            "Test f1_score: 0.9524999856948853\n",
            "Model name: model_3\n",
            "Test loss: 0.4358949661254883\n",
            "Test accuracy: 0.800000011920929\n",
            "Test precision: 0.800000011920929\n",
            "Test recall: 0.800000011920929\n",
            "Test f1_score: 0.9474999308586121\n",
            "Model name: model_4\n",
            "Test loss: 0.4128485918045044\n",
            "Test accuracy: 0.8666666746139526\n",
            "Test precision: 0.8666666746139526\n",
            "Test recall: 0.8666666746139526\n",
            "Test f1_score: 0.9558332562446594\n"
          ]
        }
      ]
    },
    {
      "cell_type": "markdown",
      "metadata": {
        "id": "hOjJ99x1h6b7"
      },
      "source": [
        "- We can see that the best model (model 4 ) has achieved 0.86 accuracy."
      ],
      "id": "hOjJ99x1h6b7"
    },
    {
      "cell_type": "markdown",
      "metadata": {
        "id": "9o_Wb5LJGBcS"
      },
      "source": [
        "##Experiment 3: Digits dataset\n",
        "- Here we will do the same operation as before: we define multiple models with different hyperparameters and test their performances on the digits datasets."
      ],
      "id": "9o_Wb5LJGBcS"
    },
    {
      "cell_type": "code",
      "metadata": {
        "id": "NPyWIcBLcEeB",
        "colab": {
          "base_uri": "https://localhost:8080/",
          "height": 293
        },
        "outputId": "095d583d-b9ec-4aac-f737-1768b32c1fb3"
      },
      "source": [
        "digits = load_digits()\n",
        "plt.gray()\n",
        "plt.matshow(digits.images[1])\n",
        "plt.show()"
      ],
      "id": "NPyWIcBLcEeB",
      "execution_count": null,
      "outputs": [
        {
          "output_type": "display_data",
          "data": {
            "text/plain": [
              "<Figure size 432x288 with 0 Axes>"
            ]
          },
          "metadata": {}
        },
        {
          "output_type": "display_data",
          "data": {
            "image/png": "[encoded data removed]",
            "text/plain": [
              "<Figure size 288x288 with 1 Axes>"
            ]
          },
          "metadata": {
            "needs_background": "light"
          }
        }
      ]
    },
    {
      "cell_type": "code",
      "metadata": {
        "id": "OhrMi1zBOFCM",
        "colab": {
          "base_uri": "https://localhost:8080/"
        },
        "outputId": "08f038a7-218d-4c3b-d773-4e21ec7048d9"
      },
      "source": [
        "yDigit = digits.target\n",
        "x_digits = digits.images.reshape((len(digits.images), -1))\n",
        "print(yDigit.shape)\n",
        "print(x_digits.shape)"
      ],
      "id": "OhrMi1zBOFCM",
      "execution_count": null,
      "outputs": [
        {
          "output_type": "stream",
          "name": "stdout",
          "text": [
            "(1797,)\n",
            "(1797, 64)\n"
          ]
        }
      ]
    },
    {
      "cell_type": "code",
      "metadata": {
        "id": "9j0t9-1DkWgq"
      },
      "source": [
        "y_digits = np_utils.to_categorical(digits.target,10)\n"
      ],
      "id": "9j0t9-1DkWgq",
      "execution_count": null,
      "outputs": []
    },
    {
      "cell_type": "code",
      "metadata": {
        "id": "hSknfD2jOZKD"
      },
      "source": [
        "train_img, test_img, train_label, test_label = train_test_split(x_digits, y_digits, test_size=0.2, random_state=0)"
      ],
      "id": "hSknfD2jOZKD",
      "execution_count": null,
      "outputs": []
    },
    {
      "cell_type": "code",
      "metadata": {
        "id": "d60f8TPFTtwf"
      },
      "source": [
        "def plot_sample(X, y, index):\n",
        "    plt.imshow(X[index])        \n",
        "    plt.xlabel(y[index])"
      ],
      "id": "d60f8TPFTtwf",
      "execution_count": null,
      "outputs": []
    },
    {
      "cell_type": "code",
      "metadata": {
        "id": "t_GRoQcsVl0W",
        "colab": {
          "base_uri": "https://localhost:8080/"
        },
        "outputId": "fcba4ff6-fc5f-4944-95da-f80e35b59d26"
      },
      "source": [
        "print(train_img.shape)\n",
        "print(train_label.shape)"
      ],
      "id": "t_GRoQcsVl0W",
      "execution_count": null,
      "outputs": [
        {
          "output_type": "stream",
          "name": "stdout",
          "text": [
            "(1437, 64)\n",
            "(1437, 10)\n"
          ]
        }
      ]
    },
    {
      "cell_type": "code",
      "metadata": {
        "id": "VN7zPD5f3GwO",
        "colab": {
          "base_uri": "https://localhost:8080/"
        },
        "outputId": "e0388cb2-c877-4ae9-dbe4-3640b0afb0b0"
      },
      "source": [
        "# Creating multiple models\n",
        "# Output dim == 10 , we have 10 classes\n",
        "models = [create_keras_model(train_img.shape[1], 10, 10, i, 'model_{}'.format(i)) \n",
        "          for i in range(1, 6)]\n",
        "for create_model in models:\n",
        "    create_model().summary()"
      ],
      "id": "VN7zPD5f3GwO",
      "execution_count": null,
      "outputs": [
        {
          "output_type": "stream",
          "name": "stdout",
          "text": [
            "Model: \"model_1\"\n",
            "_________________________________________________________________\n",
            " Layer (type)                Output Shape              Param #   \n",
            "=================================================================\n",
            " dense_355 (Dense)           (None, 10)                650       \n",
            "                                                                 \n",
            " dense_356 (Dense)           (None, 10)                110       \n",
            "                                                                 \n",
            "=================================================================\n",
            "Total params: 760\n",
            "Trainable params: 760\n",
            "Non-trainable params: 0\n",
            "_________________________________________________________________\n",
            "Model: \"model_2\"\n",
            "_________________________________________________________________\n",
            " Layer (type)                Output Shape              Param #   \n",
            "=================================================================\n",
            " dense_357 (Dense)           (None, 10)                650       \n",
            "                                                                 \n",
            " dense_358 (Dense)           (None, 10)                110       \n",
            "                                                                 \n",
            " dense_359 (Dense)           (None, 10)                110       \n",
            "                                                                 \n",
            "=================================================================\n",
            "Total params: 870\n",
            "Trainable params: 870\n",
            "Non-trainable params: 0\n",
            "_________________________________________________________________\n",
            "Model: \"model_3\"\n",
            "_________________________________________________________________\n",
            " Layer (type)                Output Shape              Param #   \n",
            "=================================================================\n",
            " dense_360 (Dense)           (None, 10)                650       \n",
            "                                                                 \n",
            " dense_361 (Dense)           (None, 10)                110       \n",
            "                                                                 \n",
            " dense_362 (Dense)           (None, 10)                110       \n",
            "                                                                 \n",
            " dense_363 (Dense)           (None, 10)                110       \n",
            "                                                                 \n",
            "=================================================================\n",
            "Total params: 980\n",
            "Trainable params: 980\n",
            "Non-trainable params: 0\n",
            "_________________________________________________________________\n",
            "Model: \"model_4\"\n",
            "_________________________________________________________________\n",
            " Layer (type)                Output Shape              Param #   \n",
            "=================================================================\n",
            " dense_364 (Dense)           (None, 10)                650       \n",
            "                                                                 \n",
            " dense_365 (Dense)           (None, 10)                110       \n",
            "                                                                 \n",
            " dense_366 (Dense)           (None, 10)                110       \n",
            "                                                                 \n",
            " dense_367 (Dense)           (None, 10)                110       \n",
            "                                                                 \n",
            " dense_368 (Dense)           (None, 10)                110       \n",
            "                                                                 \n",
            "=================================================================\n",
            "Total params: 1,090\n",
            "Trainable params: 1,090\n",
            "Non-trainable params: 0\n",
            "_________________________________________________________________\n",
            "Model: \"model_5\"\n",
            "_________________________________________________________________\n",
            " Layer (type)                Output Shape              Param #   \n",
            "=================================================================\n",
            " dense_369 (Dense)           (None, 10)                650       \n",
            "                                                                 \n",
            " dense_370 (Dense)           (None, 10)                110       \n",
            "                                                                 \n",
            " dense_371 (Dense)           (None, 10)                110       \n",
            "                                                                 \n",
            " dense_372 (Dense)           (None, 10)                110       \n",
            "                                                                 \n",
            " dense_373 (Dense)           (None, 10)                110       \n",
            "                                                                 \n",
            " dense_374 (Dense)           (None, 10)                110       \n",
            "                                                                 \n",
            "=================================================================\n",
            "Total params: 1,200\n",
            "Trainable params: 1,200\n",
            "Non-trainable params: 0\n",
            "_________________________________________________________________\n"
          ]
        }
      ]
    },
    {
      "cell_type": "code",
      "metadata": {
        "colab": {
          "base_uri": "https://localhost:8080/"
        },
        "id": "Xy3ekiKZNy5q",
        "outputId": "47bc15d7-6a32-4e14-dee2-56c3b15556af"
      },
      "source": [
        "for created_model in models:\n",
        "    model = created_model()\n",
        "    print('Model name:', model.name)\n",
        "    history_callback = model.fit(train_img, train_label,\n",
        "                                 batch_size=10,\n",
        "                                 epochs=150,\n",
        "                                 verbose=0\n",
        "                                 )\n",
        "    score = model.evaluate(test_img, test_label, verbose=0)\n",
        "    print('Test loss:', score[0])\n",
        "    print('Test accuracy:', score[1])\n",
        "    print('Test precision:', score[2])\n",
        "    print('Test recall:', score[3])\n",
        "    print('Test f1_score:', score[4])"
      ],
      "id": "Xy3ekiKZNy5q",
      "execution_count": null,
      "outputs": [
        {
          "output_type": "stream",
          "name": "stdout",
          "text": [
            "Model name: model_1\n",
            "Test loss: 0.3184371888637543\n",
            "Test accuracy: 0.9611111283302307\n",
            "Test precision: 0.9611111283302307\n",
            "Test recall: 0.9611111283302307\n",
            "Test f1_score: 0.9906310439109802\n",
            "Model name: model_2\n",
            "Test loss: 0.34279075264930725\n",
            "Test accuracy: 0.9388889074325562\n",
            "Test precision: 0.9388889074325562\n",
            "Test recall: 0.9388889074325562\n",
            "Test f1_score: 0.9859173893928528\n",
            "Model name: model_3\n",
            "Test loss: 0.47102466225624084\n",
            "Test accuracy: 0.9527778029441833\n",
            "Test precision: 0.9554317593574524\n",
            "Test recall: 0.9527778029441833\n",
            "Test f1_score: 0.984311580657959\n",
            "Model name: model_4\n",
            "Test loss: 0.1776832640171051\n",
            "Test accuracy: 0.9722222089767456\n",
            "Test precision: 0.9722222089767456\n",
            "Test recall: 0.9722222089767456\n",
            "Test f1_score: 0.9921982288360596\n",
            "Model name: model_5\n",
            "Test loss: 0.42588964104652405\n",
            "Test accuracy: 0.9361110925674438\n",
            "Test precision: 0.9359331727027893\n",
            "Test recall: 0.9333333373069763\n",
            "Test f1_score: 0.9870708584785461\n"
          ]
        }
      ]
    },
    {
      "cell_type": "markdown",
      "metadata": {
        "id": "zxfOCc7eiZkg"
      },
      "source": [
        "- Here we can see that the best model (Model 4) has achieved an accuracy of 0.97 "
      ],
      "id": "zxfOCc7eiZkg"
    },
    {
      "cell_type": "markdown",
      "metadata": {
        "id": "KnNCNznwQYmD"
      },
      "source": [
        "##Experiment 4: Face Data set"
      ],
      "id": "KnNCNznwQYmD"
    },
    {
      "cell_type": "code",
      "metadata": {
        "colab": {
          "base_uri": "https://localhost:8080/"
        },
        "id": "x-ZN5RMqQgIv",
        "outputId": "4f8b78e8-1651-41bd-ef45-94b96e687740"
      },
      "source": [
        "data = fetch_olivetti_faces()"
      ],
      "id": "x-ZN5RMqQgIv",
      "execution_count": null,
      "outputs": [
        {
          "output_type": "stream",
          "name": "stdout",
          "text": [
            "downloading Olivetti faces from https://ndownloader.figshare.com/files/5976027 to /root/scikit_learn_data\n"
          ]
        }
      ]
    },
    {
      "cell_type": "code",
      "metadata": {
        "colab": {
          "base_uri": "https://localhost:8080/"
        },
        "id": "jt8Cmh8-RZcM",
        "outputId": "2afd38e8-9bdc-426a-9b6e-a205cf26af18"
      },
      "source": [
        "print(data.DESCR)"
      ],
      "id": "jt8Cmh8-RZcM",
      "execution_count": null,
      "outputs": [
        {
          "output_type": "stream",
          "name": "stdout",
          "text": [
            ".. _olivetti_faces_dataset:\n",
            "\n",
            "The Olivetti faces dataset\n",
            "--------------------------\n",
            "\n",
            "`This dataset contains a set of face images`_ taken between April 1992 and \n",
            "April 1994 at AT&T Laboratories Cambridge. The\n",
            ":func:`sklearn.datasets.fetch_olivetti_faces` function is the data\n",
            "fetching / caching function that downloads the data\n",
            "archive from AT&T.\n",
            "\n",
            ".. _This dataset contains a set of face images: http://www.cl.cam.ac.uk/research/dtg/attarchive/facedatabase.html\n",
            "\n",
            "As described on the original website:\n",
            "\n",
            "    There are ten different images of each of 40 distinct subjects. For some\n",
            "    subjects, the images were taken at different times, varying the lighting,\n",
            "    facial expressions (open / closed eyes, smiling / not smiling) and facial\n",
            "    details (glasses / no glasses). All the images were taken against a dark\n",
            "    homogeneous background with the subjects in an upright, frontal position \n",
            "    (with tolerance for some side movement).\n",
            "\n",
            "**Data Set Characteristics:**\n",
            "\n",
            "    =================   =====================\n",
            "    Classes                                40\n",
            "    Samples total                         400\n",
            "    Dimensionality                       4096\n",
            "    Features            real, between 0 and 1\n",
            "    =================   =====================\n",
            "\n",
            "The image is quantized to 256 grey levels and stored as unsigned 8-bit \n",
            "integers; the loader will convert these to floating point values on the \n",
            "interval [0, 1], which are easier to work with for many algorithms.\n",
            "\n",
            "The \"target\" for this database is an integer from 0 to 39 indicating the\n",
            "identity of the person pictured; however, with only 10 examples per class, this\n",
            "relatively small dataset is more interesting from an unsupervised or\n",
            "semi-supervised perspective.\n",
            "\n",
            "The original dataset consisted of 92 x 112, while the version available here\n",
            "consists of 64x64 images.\n",
            "\n",
            "When using these images, please give credit to AT&T Laboratories Cambridge.\n",
            "\n"
          ]
        }
      ]
    },
    {
      "cell_type": "code",
      "metadata": {
        "id": "mvJ7RtM_Rdmh"
      },
      "source": [
        "faces = data.images\n",
        "target = data.target"
      ],
      "id": "mvJ7RtM_Rdmh",
      "execution_count": null,
      "outputs": []
    },
    {
      "cell_type": "code",
      "metadata": {
        "colab": {
          "base_uri": "https://localhost:8080/"
        },
        "id": "jChBasCvRpyS",
        "outputId": "7bdb4d15-8c82-4487-ecd1-2652a89c6ad7"
      },
      "source": [
        "#Total class number equal to 40\n",
        "all_classes = np.unique(target)\n",
        "all_classes.sort()\n",
        "all_classes"
      ],
      "id": "jChBasCvRpyS",
      "execution_count": null,
      "outputs": [
        {
          "output_type": "execute_result",
          "data": {
            "text/plain": [
              "array([ 0,  1,  2,  3,  4,  5,  6,  7,  8,  9, 10, 11, 12, 13, 14, 15, 16,\n",
              "       17, 18, 19, 20, 21, 22, 23, 24, 25, 26, 27, 28, 29, 30, 31, 32, 33,\n",
              "       34, 35, 36, 37, 38, 39])"
            ]
          },
          "metadata": {},
          "execution_count": 79
        }
      ]
    },
    {
      "cell_type": "code",
      "metadata": {
        "id": "L4WTegm-TVYP"
      },
      "source": [
        "faces = faces.reshape((len(faces), -1))"
      ],
      "id": "L4WTegm-TVYP",
      "execution_count": null,
      "outputs": []
    },
    {
      "cell_type": "code",
      "metadata": {
        "id": "YS8YRkDHRwhB"
      },
      "source": [
        "face_target = np_utils.to_categorical(target, 40)"
      ],
      "id": "YS8YRkDHRwhB",
      "execution_count": null,
      "outputs": []
    },
    {
      "cell_type": "code",
      "metadata": {
        "id": "W0pxp2ynSIw5"
      },
      "source": [
        "X_train, X_test, y_train, y_test = train_test_split(faces, face_target, test_size=0.2, stratify=target, random_state=0)"
      ],
      "id": "W0pxp2ynSIw5",
      "execution_count": null,
      "outputs": []
    },
    {
      "cell_type": "code",
      "metadata": {
        "colab": {
          "base_uri": "https://localhost:8080/"
        },
        "id": "i9kfoXR_SUIB",
        "outputId": "0f0a9394-5053-4497-c991-d9c41b9df299"
      },
      "source": [
        "print(X_train.shape)\n",
        "print(y_train.shape)"
      ],
      "id": "i9kfoXR_SUIB",
      "execution_count": null,
      "outputs": [
        {
          "output_type": "stream",
          "name": "stdout",
          "text": [
            "(320, 4096)\n",
            "(320, 40)\n"
          ]
        }
      ]
    },
    {
      "cell_type": "code",
      "metadata": {
        "colab": {
          "base_uri": "https://localhost:8080/"
        },
        "id": "JSIzNxYYSaa4",
        "outputId": "89da9863-af13-4a43-d4a0-92af3f2d8917"
      },
      "source": [
        "# Creating multiple models\n",
        "# Output dim == 40 , we have 40 classes\n",
        "models = [create_keras_model(X_train.shape[1], 40, 50, i, 'model_{}'.format(i)) \n",
        "          for i in range(5, 10)]\n",
        "for create_model in models:\n",
        "    create_model().summary()"
      ],
      "id": "JSIzNxYYSaa4",
      "execution_count": null,
      "outputs": [
        {
          "output_type": "stream",
          "name": "stdout",
          "text": [
            "Model: \"model_5\"\n",
            "_________________________________________________________________\n",
            " Layer (type)                Output Shape              Param #   \n",
            "=================================================================\n",
            " dense_439 (Dense)           (None, 50)                204850    \n",
            "                                                                 \n",
            " dense_440 (Dense)           (None, 50)                2550      \n",
            "                                                                 \n",
            " dense_441 (Dense)           (None, 50)                2550      \n",
            "                                                                 \n",
            " dense_442 (Dense)           (None, 50)                2550      \n",
            "                                                                 \n",
            " dense_443 (Dense)           (None, 50)                2550      \n",
            "                                                                 \n",
            " dense_444 (Dense)           (None, 40)                2040      \n",
            "                                                                 \n",
            "=================================================================\n",
            "Total params: 217,090\n",
            "Trainable params: 217,090\n",
            "Non-trainable params: 0\n",
            "_________________________________________________________________\n",
            "Model: \"model_6\"\n",
            "_________________________________________________________________\n",
            " Layer (type)                Output Shape              Param #   \n",
            "=================================================================\n",
            " dense_445 (Dense)           (None, 50)                204850    \n",
            "                                                                 \n",
            " dense_446 (Dense)           (None, 50)                2550      \n",
            "                                                                 \n",
            " dense_447 (Dense)           (None, 50)                2550      \n",
            "                                                                 \n",
            " dense_448 (Dense)           (None, 50)                2550      \n",
            "                                                                 \n",
            " dense_449 (Dense)           (None, 50)                2550      \n",
            "                                                                 \n",
            " dense_450 (Dense)           (None, 50)                2550      \n",
            "                                                                 \n",
            " dense_451 (Dense)           (None, 40)                2040      \n",
            "                                                                 \n",
            "=================================================================\n",
            "Total params: 219,640\n",
            "Trainable params: 219,640\n",
            "Non-trainable params: 0\n",
            "_________________________________________________________________\n",
            "Model: \"model_7\"\n",
            "_________________________________________________________________\n",
            " Layer (type)                Output Shape              Param #   \n",
            "=================================================================\n",
            " dense_452 (Dense)           (None, 50)                204850    \n",
            "                                                                 \n",
            " dense_453 (Dense)           (None, 50)                2550      \n",
            "                                                                 \n",
            " dense_454 (Dense)           (None, 50)                2550      \n",
            "                                                                 \n",
            " dense_455 (Dense)           (None, 50)                2550      \n",
            "                                                                 \n",
            " dense_456 (Dense)           (None, 50)                2550      \n",
            "                                                                 \n",
            " dense_457 (Dense)           (None, 50)                2550      \n",
            "                                                                 \n",
            " dense_458 (Dense)           (None, 50)                2550      \n",
            "                                                                 \n",
            " dense_459 (Dense)           (None, 40)                2040      \n",
            "                                                                 \n",
            "=================================================================\n",
            "Total params: 222,190\n",
            "Trainable params: 222,190\n",
            "Non-trainable params: 0\n",
            "_________________________________________________________________\n",
            "Model: \"model_8\"\n",
            "_________________________________________________________________\n",
            " Layer (type)                Output Shape              Param #   \n",
            "=================================================================\n",
            " dense_460 (Dense)           (None, 50)                204850    \n",
            "                                                                 \n",
            " dense_461 (Dense)           (None, 50)                2550      \n",
            "                                                                 \n",
            " dense_462 (Dense)           (None, 50)                2550      \n",
            "                                                                 \n",
            " dense_463 (Dense)           (None, 50)                2550      \n",
            "                                                                 \n",
            " dense_464 (Dense)           (None, 50)                2550      \n",
            "                                                                 \n",
            " dense_465 (Dense)           (None, 50)                2550      \n",
            "                                                                 \n",
            " dense_466 (Dense)           (None, 50)                2550      \n",
            "                                                                 \n",
            " dense_467 (Dense)           (None, 50)                2550      \n",
            "                                                                 \n",
            " dense_468 (Dense)           (None, 40)                2040      \n",
            "                                                                 \n",
            "=================================================================\n",
            "Total params: 224,740\n",
            "Trainable params: 224,740\n",
            "Non-trainable params: 0\n",
            "_________________________________________________________________\n",
            "Model: \"model_9\"\n",
            "_________________________________________________________________\n",
            " Layer (type)                Output Shape              Param #   \n",
            "=================================================================\n",
            " dense_469 (Dense)           (None, 50)                204850    \n",
            "                                                                 \n",
            " dense_470 (Dense)           (None, 50)                2550      \n",
            "                                                                 \n",
            " dense_471 (Dense)           (None, 50)                2550      \n",
            "                                                                 \n",
            " dense_472 (Dense)           (None, 50)                2550      \n",
            "                                                                 \n",
            " dense_473 (Dense)           (None, 50)                2550      \n",
            "                                                                 \n",
            " dense_474 (Dense)           (None, 50)                2550      \n",
            "                                                                 \n",
            " dense_475 (Dense)           (None, 50)                2550      \n",
            "                                                                 \n",
            " dense_476 (Dense)           (None, 50)                2550      \n",
            "                                                                 \n",
            " dense_477 (Dense)           (None, 50)                2550      \n",
            "                                                                 \n",
            " dense_478 (Dense)           (None, 40)                2040      \n",
            "                                                                 \n",
            "=================================================================\n",
            "Total params: 227,290\n",
            "Trainable params: 227,290\n",
            "Non-trainable params: 0\n",
            "_________________________________________________________________\n"
          ]
        }
      ]
    },
    {
      "cell_type": "code",
      "metadata": {
        "colab": {
          "base_uri": "https://localhost:8080/"
        },
        "id": "2PXsqcwfSpMB",
        "outputId": "67c2a92e-5a14-4ce6-9e1b-be9f5611e4be"
      },
      "source": [
        "for created_model in models:\n",
        "    model = created_model()\n",
        "    print('Model name:', model.name)\n",
        "    history_callback = model.fit(X_train, y_train,\n",
        "                                 batch_size=10,\n",
        "                                 epochs=150,\n",
        "                                 verbose=0\n",
        "                                 )\n",
        "    score = model.evaluate(X_test, y_test, verbose=0)\n",
        "    print('Test loss:', score[0])\n",
        "    print('Test accuracy:', score[1])\n",
        "    print('Test precision:', score[2])\n",
        "    print('Test recall:', score[3])\n",
        "    print('Test f1_score:', score[4])"
      ],
      "id": "2PXsqcwfSpMB",
      "execution_count": null,
      "outputs": [
        {
          "output_type": "stream",
          "name": "stdout",
          "text": [
            "Model name: model_5\n",
            "Test loss: 2.3289122581481934\n",
            "Test accuracy: 0.375\n",
            "Test precision: 0.5\n",
            "Test recall: 0.13750000298023224\n",
            "Test f1_score: 0.9220373630523682\n",
            "Model name: model_6\n",
            "Test loss: 3.094635486602783\n",
            "Test accuracy: 0.13750000298023224\n",
            "Test precision: 0.0\n",
            "Test recall: 0.0\n",
            "Test f1_score: 0.833038866519928\n",
            "Model name: model_7\n",
            "Test loss: 2.6388237476348877\n",
            "Test accuracy: 0.44999998807907104\n",
            "Test precision: 0.5263158082962036\n",
            "Test recall: 0.375\n",
            "Test f1_score: 0.9084475040435791\n",
            "Model name: model_8\n",
            "Test loss: 2.479642152786255\n",
            "Test accuracy: 0.44999998807907104\n",
            "Test precision: 0.5909090638160706\n",
            "Test recall: 0.32499998807907104\n",
            "Test f1_score: 0.9189342856407166\n",
            "Model name: model_9\n",
            "Test loss: 3.688880443572998\n",
            "Test accuracy: 0.02500000037252903\n",
            "Test precision: 0.0\n",
            "Test recall: 0.0\n",
            "Test f1_score: 0.5\n"
          ]
        }
      ]
    },
    {
      "cell_type": "markdown",
      "metadata": {
        "id": "eFeciZsyir7T"
      },
      "source": [
        "- Here we can see that the models aren't very performant when it comes to images, that's why a better solution is proposed which is CNN."
      ],
      "id": "eFeciZsyir7T"
    },
    {
      "cell_type": "code",
      "metadata": {
        "id": "90V5R7UaSsfB"
      },
      "source": [
        ""
      ],
      "id": "90V5R7UaSsfB",
      "execution_count": null,
      "outputs": []
    }
  ]
}