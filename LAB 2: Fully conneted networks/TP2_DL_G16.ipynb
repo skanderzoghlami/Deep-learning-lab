{
 "cells": [
  {
   "cell_type": "markdown",
   "id": "ed0fc783",
   "metadata": {},
   "source": [
    "# Deep learning Practical Assignment #2"
   ]
  },
  {
   "cell_type": "markdown",
   "id": "18ba0c42",
   "metadata": {},
   "source": [
    "## Installing required packages"
   ]
  },
  {
   "cell_type": "code",
   "execution_count": 166,
   "id": "70a636ff",
   "metadata": {},
   "outputs": [
    {
     "name": "stdout",
     "output_type": "stream",
     "text": [
      "Requirement already satisfied: keras==2.7.0 in ./jupyter_env/lib/python3.8/site-packages (2.7.0)\n",
      "Requirement already satisfied: pandas==1.1.5 in ./jupyter_env/lib/python3.8/site-packages (1.1.5)\n",
      "Requirement already satisfied: python-dateutil>=2.7.3 in ./jupyter_env/lib/python3.8/site-packages (from pandas==1.1.5) (2.8.2)\n",
      "Requirement already satisfied: pytz>=2017.2 in ./jupyter_env/lib/python3.8/site-packages (from pandas==1.1.5) (2021.3)\n",
      "Requirement already satisfied: numpy>=1.15.4 in ./jupyter_env/lib/python3.8/site-packages (from pandas==1.1.5) (1.19.5)\n",
      "Requirement already satisfied: six>=1.5 in ./jupyter_env/lib/python3.8/site-packages (from python-dateutil>=2.7.3->pandas==1.1.5) (1.16.0)\n",
      "Requirement already satisfied: tensorflow==2.7.0 in ./jupyter_env/lib/python3.8/site-packages (2.7.0)\n",
      "Requirement already satisfied: libclang>=9.0.1 in ./jupyter_env/lib/python3.8/site-packages (from tensorflow==2.7.0) (12.0.0)\n",
      "Requirement already satisfied: keras-preprocessing>=1.1.1 in ./jupyter_env/lib/python3.8/site-packages (from tensorflow==2.7.0) (1.1.2)\n",
      "Requirement already satisfied: wheel<1.0,>=0.32.0 in ./jupyter_env/lib/python3.8/site-packages (from tensorflow==2.7.0) (0.37.0)\n",
      "Requirement already satisfied: astunparse>=1.6.0 in ./jupyter_env/lib/python3.8/site-packages (from tensorflow==2.7.0) (1.6.3)\n",
      "Requirement already satisfied: google-pasta>=0.1.1 in ./jupyter_env/lib/python3.8/site-packages (from tensorflow==2.7.0) (0.2.0)\n",
      "Requirement already satisfied: tensorflow-io-gcs-filesystem>=0.21.0 in ./jupyter_env/lib/python3.8/site-packages (from tensorflow==2.7.0) (0.22.0)\n",
      "Requirement already satisfied: termcolor>=1.1.0 in ./jupyter_env/lib/python3.8/site-packages (from tensorflow==2.7.0) (1.1.0)\n",
      "Requirement already satisfied: gast<0.5.0,>=0.2.1 in ./jupyter_env/lib/python3.8/site-packages (from tensorflow==2.7.0) (0.4.0)\n",
      "Requirement already satisfied: tensorflow-estimator<2.8,~=2.7.0rc0 in ./jupyter_env/lib/python3.8/site-packages (from tensorflow==2.7.0) (2.7.0)\n",
      "Requirement already satisfied: flatbuffers<3.0,>=1.12 in ./jupyter_env/lib/python3.8/site-packages (from tensorflow==2.7.0) (2.0)\n",
      "Requirement already satisfied: opt-einsum>=2.3.2 in ./jupyter_env/lib/python3.8/site-packages (from tensorflow==2.7.0) (3.3.0)\n",
      "Requirement already satisfied: tensorboard~=2.6 in ./jupyter_env/lib/python3.8/site-packages (from tensorflow==2.7.0) (2.7.0)\n",
      "Requirement already satisfied: numpy>=1.14.5 in ./jupyter_env/lib/python3.8/site-packages (from tensorflow==2.7.0) (1.19.5)\n",
      "Requirement already satisfied: keras<2.8,>=2.7.0rc0 in ./jupyter_env/lib/python3.8/site-packages (from tensorflow==2.7.0) (2.7.0)\n",
      "Requirement already satisfied: protobuf>=3.9.2 in ./jupyter_env/lib/python3.8/site-packages (from tensorflow==2.7.0) (3.19.1)\n",
      "Requirement already satisfied: grpcio<2.0,>=1.24.3 in ./jupyter_env/lib/python3.8/site-packages (from tensorflow==2.7.0) (1.42.0)\n",
      "Requirement already satisfied: wrapt>=1.11.0 in ./jupyter_env/lib/python3.8/site-packages (from tensorflow==2.7.0) (1.13.3)\n",
      "Requirement already satisfied: absl-py>=0.4.0 in ./jupyter_env/lib/python3.8/site-packages (from tensorflow==2.7.0) (1.0.0)\n",
      "Requirement already satisfied: h5py>=2.9.0 in ./jupyter_env/lib/python3.8/site-packages (from tensorflow==2.7.0) (3.6.0)\n",
      "Requirement already satisfied: typing-extensions>=3.6.6 in ./jupyter_env/lib/python3.8/site-packages (from tensorflow==2.7.0) (4.0.1)\n",
      "Requirement already satisfied: six>=1.12.0 in ./jupyter_env/lib/python3.8/site-packages (from tensorflow==2.7.0) (1.16.0)\n",
      "Requirement already satisfied: requests<3,>=2.21.0 in ./jupyter_env/lib/python3.8/site-packages (from tensorboard~=2.6->tensorflow==2.7.0) (2.26.0)\n",
      "Requirement already satisfied: tensorboard-data-server<0.7.0,>=0.6.0 in ./jupyter_env/lib/python3.8/site-packages (from tensorboard~=2.6->tensorflow==2.7.0) (0.6.1)\n",
      "Requirement already satisfied: tensorboard-plugin-wit>=1.6.0 in ./jupyter_env/lib/python3.8/site-packages (from tensorboard~=2.6->tensorflow==2.7.0) (1.8.0)\n",
      "Requirement already satisfied: google-auth<3,>=1.6.3 in ./jupyter_env/lib/python3.8/site-packages (from tensorboard~=2.6->tensorflow==2.7.0) (2.3.3)\n",
      "Requirement already satisfied: setuptools>=41.0.0 in ./jupyter_env/lib/python3.8/site-packages (from tensorboard~=2.6->tensorflow==2.7.0) (58.3.0)\n",
      "Requirement already satisfied: werkzeug>=0.11.15 in ./jupyter_env/lib/python3.8/site-packages (from tensorboard~=2.6->tensorflow==2.7.0) (2.0.2)\n",
      "Requirement already satisfied: markdown>=2.6.8 in ./jupyter_env/lib/python3.8/site-packages (from tensorboard~=2.6->tensorflow==2.7.0) (3.3.6)\n",
      "Requirement already satisfied: google-auth-oauthlib<0.5,>=0.4.1 in ./jupyter_env/lib/python3.8/site-packages (from tensorboard~=2.6->tensorflow==2.7.0) (0.4.6)\n",
      "Requirement already satisfied: cachetools<5.0,>=2.0.0 in ./jupyter_env/lib/python3.8/site-packages (from google-auth<3,>=1.6.3->tensorboard~=2.6->tensorflow==2.7.0) (4.2.4)\n",
      "Requirement already satisfied: rsa<5,>=3.1.4 in ./jupyter_env/lib/python3.8/site-packages (from google-auth<3,>=1.6.3->tensorboard~=2.6->tensorflow==2.7.0) (4.8)\n",
      "Requirement already satisfied: pyasn1-modules>=0.2.1 in ./jupyter_env/lib/python3.8/site-packages (from google-auth<3,>=1.6.3->tensorboard~=2.6->tensorflow==2.7.0) (0.2.8)\n",
      "Requirement already satisfied: requests-oauthlib>=0.7.0 in ./jupyter_env/lib/python3.8/site-packages (from google-auth-oauthlib<0.5,>=0.4.1->tensorboard~=2.6->tensorflow==2.7.0) (1.3.0)\n",
      "Requirement already satisfied: importlib-metadata>=4.4 in ./jupyter_env/lib/python3.8/site-packages (from markdown>=2.6.8->tensorboard~=2.6->tensorflow==2.7.0) (4.8.2)\n",
      "Requirement already satisfied: urllib3<1.27,>=1.21.1 in ./jupyter_env/lib/python3.8/site-packages (from requests<3,>=2.21.0->tensorboard~=2.6->tensorflow==2.7.0) (1.26.7)\n",
      "Requirement already satisfied: charset-normalizer~=2.0.0 in ./jupyter_env/lib/python3.8/site-packages (from requests<3,>=2.21.0->tensorboard~=2.6->tensorflow==2.7.0) (2.0.9)\n",
      "Requirement already satisfied: certifi>=2017.4.17 in ./jupyter_env/lib/python3.8/site-packages (from requests<3,>=2.21.0->tensorboard~=2.6->tensorflow==2.7.0) (2021.10.8)\n",
      "Requirement already satisfied: idna<4,>=2.5 in ./jupyter_env/lib/python3.8/site-packages (from requests<3,>=2.21.0->tensorboard~=2.6->tensorflow==2.7.0) (3.3)\n",
      "Requirement already satisfied: zipp>=0.5 in ./jupyter_env/lib/python3.8/site-packages (from importlib-metadata>=4.4->markdown>=2.6.8->tensorboard~=2.6->tensorflow==2.7.0) (3.6.0)\n",
      "Requirement already satisfied: pyasn1<0.5.0,>=0.4.6 in ./jupyter_env/lib/python3.8/site-packages (from pyasn1-modules>=0.2.1->google-auth<3,>=1.6.3->tensorboard~=2.6->tensorflow==2.7.0) (0.4.8)\n",
      "Requirement already satisfied: oauthlib>=3.0.0 in ./jupyter_env/lib/python3.8/site-packages (from requests-oauthlib>=0.7.0->google-auth-oauthlib<0.5,>=0.4.1->tensorboard~=2.6->tensorflow==2.7.0) (3.1.1)\n",
      "Requirement already satisfied: numpy==1.19.5 in ./jupyter_env/lib/python3.8/site-packages (1.19.5)\n",
      "Requirement already satisfied: scikit-learn==1.0.1 in ./jupyter_env/lib/python3.8/site-packages (1.0.1)\n",
      "Requirement already satisfied: numpy>=1.14.6 in ./jupyter_env/lib/python3.8/site-packages (from scikit-learn==1.0.1) (1.19.5)\n",
      "Requirement already satisfied: threadpoolctl>=2.0.0 in ./jupyter_env/lib/python3.8/site-packages (from scikit-learn==1.0.1) (3.0.0)\n",
      "Requirement already satisfied: scipy>=1.1.0 in ./jupyter_env/lib/python3.8/site-packages (from scikit-learn==1.0.1) (1.7.3)\n",
      "Requirement already satisfied: joblib>=0.11 in ./jupyter_env/lib/python3.8/site-packages (from scikit-learn==1.0.1) (1.1.0)\n",
      "Requirement already satisfied: matplotlib==3.2.2 in ./jupyter_env/lib/python3.8/site-packages (3.2.2)\n",
      "Requirement already satisfied: numpy>=1.11 in ./jupyter_env/lib/python3.8/site-packages (from matplotlib==3.2.2) (1.19.5)\n",
      "Requirement already satisfied: python-dateutil>=2.1 in ./jupyter_env/lib/python3.8/site-packages (from matplotlib==3.2.2) (2.8.2)\n",
      "Requirement already satisfied: cycler>=0.10 in ./jupyter_env/lib/python3.8/site-packages (from matplotlib==3.2.2) (0.11.0)\n",
      "Requirement already satisfied: pyparsing!=2.0.4,!=2.1.2,!=2.1.6,>=2.0.1 in ./jupyter_env/lib/python3.8/site-packages (from matplotlib==3.2.2) (3.0.6)\n",
      "Requirement already satisfied: kiwisolver>=1.0.1 in ./jupyter_env/lib/python3.8/site-packages (from matplotlib==3.2.2) (1.3.2)\n",
      "Requirement already satisfied: six>=1.5 in ./jupyter_env/lib/python3.8/site-packages (from python-dateutil>=2.1->matplotlib==3.2.2) (1.16.0)\n"
     ]
    }
   ],
   "source": [
    "!pip install keras==2.7.0\n",
    "!pip install pandas==1.1.5\n",
    "!pip install tensorflow==2.7.0\n",
    "!pip install numpy==1.19.5\n",
    "!pip install scikit-learn==1.0.1\n",
    "!pip install matplotlib==3.2.2"
   ]
  },
  {
   "cell_type": "markdown",
   "id": "f514db15",
   "metadata": {},
   "source": [
    "## Importing packages"
   ]
  },
  {
   "cell_type": "code",
   "execution_count": 167,
   "id": "4daaa853",
   "metadata": {},
   "outputs": [],
   "source": [
    "import numpy as np\n",
    "import pandas as pd\n",
    "from sklearn.utils import shuffle\n",
    "from sklearn.model_selection import train_test_split\n",
    "\n",
    "from keras.models import Sequential\n",
    "from keras.layers import Dense,Activation,Flatten\n",
    "from tensorflow.keras.utils import to_categorical\n",
    "\n",
    "import sklearn\n",
    "from sklearn.datasets import load_iris\n",
    "from sklearn.datasets import load_digits\n",
    "\n",
    "from tensorflow.keras.optimizers import Adam \n",
    "import tensorflow as tf\n",
    "\n",
    "import matplotlib.pyplot as plt\n",
    "from sklearn.datasets import fetch_olivetti_faces"
   ]
  },
  {
   "cell_type": "markdown",
   "id": "042a46e1",
   "metadata": {},
   "source": [
    "##  Implementing fully connected dataset"
   ]
  },
  {
   "cell_type": "markdown",
   "id": "da98df0b",
   "metadata": {},
   "source": [
    "### Toy Dataset"
   ]
  },
  {
   "cell_type": "code",
   "execution_count": 168,
   "id": "7568f779",
   "metadata": {},
   "outputs": [],
   "source": [
    "def prepareDataset(sigma1, sigma2):\n",
    "    \n",
    "        mean1 = [-1,0] \n",
    "        mean2 = [1,0]\n",
    "      \n",
    "        y=[]\n",
    "        y[:125]=[-1]*125\n",
    "        y[126:]=[1]*125   \n",
    "\n",
    "        x = []\n",
    "        x1 = np.random.normal(mean1, sigma1,size=(125,2))\n",
    "        x2 = np.random.normal(mean2, sigma2,size=(125,2))\n",
    "        x = np.concatenate((x1,x2),axis=0)\n",
    "        x,y=shuffle(x,y)\n",
    "        return(x,y)\n",
    "\n",
    "def perceptron(data, y, n):\n",
    "     W = np.zeros(data.shape[1])\n",
    "     W_t = W\n",
    "     for t in range(n):\n",
    "        for X,Y in zip(data,y):\n",
    "             if Y * np.inner(X,W) <= 0 :\n",
    "                        W_t = W\n",
    "                        W = W + Y * X\n",
    "        if np.allclose(W,W_t):\n",
    "            return W\n",
    "     return W\n",
    "\n"
   ]
  },
  {
   "cell_type": "code",
   "execution_count": 169,
   "id": "c4c0a63b",
   "metadata": {},
   "outputs": [],
   "source": [
    "x,y=prepareDataset(0.25,0.25)\n",
    "x_train, x_test, y_train, y_test=train_test_split(x, y, test_size=0.2, random_state=42)\n"
   ]
  },
  {
   "cell_type": "markdown",
   "id": "ad4bfa9a",
   "metadata": {},
   "source": [
    "### using Keras"
   ]
  },
  {
   "cell_type": "code",
   "execution_count": 170,
   "id": "6050b41b",
   "metadata": {
    "scrolled": true
   },
   "outputs": [
    {
     "name": "stdout",
     "output_type": "stream",
     "text": [
      "Epoch 1/25\n",
      "20/20 [==============================] - 1s 3ms/step - loss: 0.7096 - accuracy: 0.1350\n",
      "Epoch 2/25\n",
      "20/20 [==============================] - 0s 4ms/step - loss: 0.6830 - accuracy: 0.8850\n",
      "Epoch 3/25\n",
      "20/20 [==============================] - 0s 4ms/step - loss: 0.6679 - accuracy: 1.0000\n",
      "Epoch 4/25\n",
      "20/20 [==============================] - 0s 3ms/step - loss: 0.6569 - accuracy: 1.0000\n",
      "Epoch 5/25\n",
      "20/20 [==============================] - 0s 3ms/step - loss: 0.6463 - accuracy: 1.0000\n",
      "Epoch 6/25\n",
      "20/20 [==============================] - 0s 2ms/step - loss: 0.6348 - accuracy: 1.0000\n",
      "Epoch 7/25\n",
      "20/20 [==============================] - 0s 2ms/step - loss: 0.6212 - accuracy: 1.0000\n",
      "Epoch 8/25\n",
      "20/20 [==============================] - 0s 3ms/step - loss: 0.6039 - accuracy: 1.0000\n",
      "Epoch 9/25\n",
      "20/20 [==============================] - 0s 3ms/step - loss: 0.5833 - accuracy: 1.0000\n",
      "Epoch 10/25\n",
      "20/20 [==============================] - 0s 2ms/step - loss: 0.5551 - accuracy: 1.0000\n",
      "Epoch 11/25\n",
      "20/20 [==============================] - 0s 2ms/step - loss: 0.5137 - accuracy: 1.0000\n",
      "Epoch 12/25\n",
      "20/20 [==============================] - 0s 2ms/step - loss: 0.4548 - accuracy: 1.0000\n",
      "Epoch 13/25\n",
      "20/20 [==============================] - 0s 2ms/step - loss: 0.3808 - accuracy: 1.0000\n",
      "Epoch 14/25\n",
      "20/20 [==============================] - 0s 1ms/step - loss: 0.3013 - accuracy: 1.0000\n",
      "Epoch 15/25\n",
      "20/20 [==============================] - 0s 1ms/step - loss: 0.2276 - accuracy: 1.0000\n",
      "Epoch 16/25\n",
      "20/20 [==============================] - 0s 2ms/step - loss: 0.1679 - accuracy: 1.0000\n",
      "Epoch 17/25\n",
      "20/20 [==============================] - 0s 1ms/step - loss: 0.1230 - accuracy: 1.0000\n",
      "Epoch 18/25\n",
      "20/20 [==============================] - 0s 1ms/step - loss: 0.0912 - accuracy: 1.0000\n",
      "Epoch 19/25\n",
      "20/20 [==============================] - 0s 1ms/step - loss: 0.0686 - accuracy: 1.0000\n",
      "Epoch 20/25\n",
      "20/20 [==============================] - 0s 2ms/step - loss: 0.0527 - accuracy: 1.0000\n",
      "Epoch 21/25\n",
      "20/20 [==============================] - 0s 2ms/step - loss: 0.0413 - accuracy: 1.0000\n",
      "Epoch 22/25\n",
      "20/20 [==============================] - 0s 3ms/step - loss: 0.0329 - accuracy: 1.0000\n",
      "Epoch 23/25\n",
      "20/20 [==============================] - 0s 3ms/step - loss: 0.0268 - accuracy: 1.0000\n",
      "Epoch 24/25\n",
      "20/20 [==============================] - 0s 3ms/step - loss: 0.0220 - accuracy: 1.0000\n",
      "Epoch 25/25\n",
      "20/20 [==============================] - 0s 2ms/step - loss: 0.0184 - accuracy: 1.0000\n",
      "2/2 [==============================] - 0s 3ms/step - loss: 0.0198 - accuracy: 1.0000\n"
     ]
    },
    {
     "data": {
      "text/plain": [
       "[0.019781893119215965, 1.0]"
      ]
     },
     "execution_count": 170,
     "metadata": {},
     "output_type": "execute_result"
    }
   ],
   "source": [
    "\n",
    "model = Sequential()\n",
    "model.add(Flatten())\n",
    "model.add(Dense(12, activation=\"relu\", input_shape=(2,)))\n",
    "model.add( Dense (5 , activation ='relu'))\n",
    "model.add( Dense (3 , activation ='relu'))\n",
    "model.add(Dense (2 , activation ='sigmoid'))\n",
    "\n",
    "model.compile ( loss =\"binary_crossentropy\", optimizer ='adam' , metrics =['accuracy'])\n",
    "\n",
    "model.fit (x_train , to_categorical(y_train) ,  epochs =25 , batch_size =10)\n",
    "model.evaluate(np.array(x_test), np.array(to_categorical(y_test)))"
   ]
  },
  {
   "cell_type": "markdown",
   "id": "62b74ce8",
   "metadata": {},
   "source": [
    "### IRIS Dataset :"
   ]
  },
  {
   "cell_type": "code",
   "execution_count": 171,
   "id": "3cf36739",
   "metadata": {},
   "outputs": [
    {
     "data": {
      "text/html": [
       "<div>\n",
       "<style scoped>\n",
       "    .dataframe tbody tr th:only-of-type {\n",
       "        vertical-align: middle;\n",
       "    }\n",
       "\n",
       "    .dataframe tbody tr th {\n",
       "        vertical-align: top;\n",
       "    }\n",
       "\n",
       "    .dataframe thead th {\n",
       "        text-align: right;\n",
       "    }\n",
       "</style>\n",
       "<table border=\"1\" class=\"dataframe\">\n",
       "  <thead>\n",
       "    <tr style=\"text-align: right;\">\n",
       "      <th></th>\n",
       "      <th>sepal length (cm)</th>\n",
       "      <th>sepal width (cm)</th>\n",
       "      <th>petal length (cm)</th>\n",
       "      <th>petal width (cm)</th>\n",
       "      <th>target</th>\n",
       "    </tr>\n",
       "  </thead>\n",
       "  <tbody>\n",
       "    <tr>\n",
       "      <th>count</th>\n",
       "      <td>150.000000</td>\n",
       "      <td>150.000000</td>\n",
       "      <td>150.000000</td>\n",
       "      <td>150.000000</td>\n",
       "      <td>150.000000</td>\n",
       "    </tr>\n",
       "    <tr>\n",
       "      <th>mean</th>\n",
       "      <td>5.843333</td>\n",
       "      <td>3.057333</td>\n",
       "      <td>3.758000</td>\n",
       "      <td>1.199333</td>\n",
       "      <td>1.000000</td>\n",
       "    </tr>\n",
       "    <tr>\n",
       "      <th>std</th>\n",
       "      <td>0.828066</td>\n",
       "      <td>0.435866</td>\n",
       "      <td>1.765298</td>\n",
       "      <td>0.762238</td>\n",
       "      <td>0.819232</td>\n",
       "    </tr>\n",
       "    <tr>\n",
       "      <th>min</th>\n",
       "      <td>4.300000</td>\n",
       "      <td>2.000000</td>\n",
       "      <td>1.000000</td>\n",
       "      <td>0.100000</td>\n",
       "      <td>0.000000</td>\n",
       "    </tr>\n",
       "    <tr>\n",
       "      <th>25%</th>\n",
       "      <td>5.100000</td>\n",
       "      <td>2.800000</td>\n",
       "      <td>1.600000</td>\n",
       "      <td>0.300000</td>\n",
       "      <td>0.000000</td>\n",
       "    </tr>\n",
       "    <tr>\n",
       "      <th>50%</th>\n",
       "      <td>5.800000</td>\n",
       "      <td>3.000000</td>\n",
       "      <td>4.350000</td>\n",
       "      <td>1.300000</td>\n",
       "      <td>1.000000</td>\n",
       "    </tr>\n",
       "    <tr>\n",
       "      <th>75%</th>\n",
       "      <td>6.400000</td>\n",
       "      <td>3.300000</td>\n",
       "      <td>5.100000</td>\n",
       "      <td>1.800000</td>\n",
       "      <td>2.000000</td>\n",
       "    </tr>\n",
       "    <tr>\n",
       "      <th>max</th>\n",
       "      <td>7.900000</td>\n",
       "      <td>4.400000</td>\n",
       "      <td>6.900000</td>\n",
       "      <td>2.500000</td>\n",
       "      <td>2.000000</td>\n",
       "    </tr>\n",
       "  </tbody>\n",
       "</table>\n",
       "</div>"
      ],
      "text/plain": [
       "       sepal length (cm)  sepal width (cm)  petal length (cm)  \\\n",
       "count         150.000000        150.000000         150.000000   \n",
       "mean            5.843333          3.057333           3.758000   \n",
       "std             0.828066          0.435866           1.765298   \n",
       "min             4.300000          2.000000           1.000000   \n",
       "25%             5.100000          2.800000           1.600000   \n",
       "50%             5.800000          3.000000           4.350000   \n",
       "75%             6.400000          3.300000           5.100000   \n",
       "max             7.900000          4.400000           6.900000   \n",
       "\n",
       "       petal width (cm)      target  \n",
       "count        150.000000  150.000000  \n",
       "mean           1.199333    1.000000  \n",
       "std            0.762238    0.819232  \n",
       "min            0.100000    0.000000  \n",
       "25%            0.300000    0.000000  \n",
       "50%            1.300000    1.000000  \n",
       "75%            1.800000    2.000000  \n",
       "max            2.500000    2.000000  "
      ]
     },
     "execution_count": 171,
     "metadata": {},
     "output_type": "execute_result"
    }
   ],
   "source": [
    "#loading iris dataset\n",
    "irisData = load_iris()\n",
    "x= irisData.data\n",
    "y = irisData.target\n",
    "#Splitting the dataset in training set and testing set\n",
    "x_train, x_test, y_train, y_test = train_test_split(x, to_categorical(y), test_size=0.20)\n",
    "iris_df = pd.DataFrame(data= np.c_[irisData['data'], irisData['target']],columns= irisData['feature_names'] + ['target'])\n",
    "iris_df.describe()"
   ]
  },
  {
   "cell_type": "code",
   "execution_count": 172,
   "id": "63ecfff0",
   "metadata": {},
   "outputs": [],
   "source": [
    "''''In order to create a model we need to define the input/output sizes, the number of layers (nbLayers),\n",
    "the number of nodes/Neurones per layer (nbNeurones) ,the activation functions (activationFuncs),\n",
    "the learning rate(learningRate) (as well as the loss function(lossFunc) \n",
    "'''\n",
    "def createModel(inputSize, outputSize, nbLayers, nbNeurones, activationFuncs, learningRate, lossFunc) :\n",
    "\n",
    "  #Build the model layer by layer\n",
    "  model = Sequential()\n",
    "  model.add(Dense(nbNeurones[0] , input_dim =inputSize , activation = activationFuncs[0]))\n",
    "  for i in range(1,(nbLayers-1)):\n",
    "    model.add(Dense(nbNeurones[i], activation = activationFuncs[i]))\n",
    "  model.add(Dense(outputSize ,activation = activationFuncs[-1]))\n",
    "\n",
    "  #Compile the model\n",
    "  model.compile(loss=lossFunc, optimizer=Adam(learning_rate=learningRate), metrics=['accuracy',tf.keras.metrics.Precision(), tf.keras.metrics.Recall()]) \n",
    "\n",
    "  #returning the model\n",
    "  return (model)"
   ]
  },
  {
   "cell_type": "markdown",
   "id": "d880d19b",
   "metadata": {},
   "source": [
    "#### MODEL1\n",
    "- nbLayers=2\n",
    "- nbNeurones= 20/Layer1,3/Layer2\n",
    "- activation functions= relu,softmax\n",
    "- learning rate =0.001\n",
    "- loss function = categorical_crossentropy"
   ]
  },
  {
   "cell_type": "code",
   "execution_count": 173,
   "id": "87c7248f",
   "metadata": {},
   "outputs": [],
   "source": [
    "model1=createModel(x_train.shape[1],y_train.shape[1],2,[20, 3],['relu','softmax'],0.001,'categorical_crossentropy')\n",
    "training1=model1.fit(x_train, y_train, epochs=25, batch_size=10, verbose=0)\n",
    "res1=model1.evaluate(np.array(x_test), np.array(y_test),verbose=0)"
   ]
  },
  {
   "cell_type": "markdown",
   "id": "66d3cf04",
   "metadata": {},
   "source": [
    "#### MODEL2: adding more layers as well as nodes\n",
    "- nbLayers=5\n",
    "- nbNeurones= 40/Layer1,20/Layer2,10/Layer3,5/Layer4,3/Layer5\n",
    "- activation functions= relu/for all ,softmax/the last layer\n",
    "- learning rate =0.001\n",
    "- loss function = categorical_crossentropy"
   ]
  },
  {
   "cell_type": "code",
   "execution_count": 174,
   "id": "c0318ab8",
   "metadata": {},
   "outputs": [],
   "source": [
    "model2=createModel(x_train.shape[1],y_train.shape[1],5,[40,20,10,5,3],['relu','relu','relu','relu','softmax'],0.001,'categorical_crossentropy')\n",
    "training2=model2.fit(x_train, y_train, epochs=25, batch_size=10, verbose=0)\n",
    "res2=model2.evaluate(np.array(x_test), np.array(y_test),verbose=0)"
   ]
  },
  {
   "cell_type": "markdown",
   "id": "603b17d1",
   "metadata": {},
   "source": [
    "#### MODEL3: changing the activation function to sigmoid\n",
    "- nbLayers=2\n",
    "- nbNeurones= 20/Layer1,3/Layer2\n",
    "- activation functions= relu,sigmoid\n",
    "- learning rate =0.001\n",
    "- loss function = categorical_crossentropy"
   ]
  },
  {
   "cell_type": "code",
   "execution_count": 175,
   "id": "0d6a16c9",
   "metadata": {},
   "outputs": [],
   "source": [
    "model3=createModel(x_train.shape[1],y_train.shape[1],2,[20, 3],['relu','sigmoid'],0.001,'categorical_crossentropy')\n",
    "training3=model3.fit(x_train, y_train, epochs=25, batch_size=10, verbose=0)\n",
    "res3=model3.evaluate(np.array(x_test), np.array(y_test),verbose=0)"
   ]
  },
  {
   "cell_type": "markdown",
   "id": "e7ac021b",
   "metadata": {},
   "source": [
    "#### MODEL4: changing the loss function to kl_divergence\n",
    "- nbLayers=2\n",
    "- nbNeurones= 20/Layer1,3/Layer2\n",
    "- activation functions= relu ,softmax\n",
    "- learning rate =0.001\n",
    "- loss function = kl_divergence"
   ]
  },
  {
   "cell_type": "code",
   "execution_count": 176,
   "id": "36dc01e4",
   "metadata": {},
   "outputs": [],
   "source": [
    "model4=createModel(x_train.shape[1],y_train.shape[1],2,[20, 3],['relu','softmax'],0.001,'kl_divergence')\n",
    "training4=model4.fit(x_train, y_train, epochs=25, batch_size=10, verbose=0)\n",
    "res4=model4.evaluate(np.array(x_test), np.array(y_test),verbose=0)"
   ]
  },
  {
   "cell_type": "code",
   "execution_count": 177,
   "id": "a589346f",
   "metadata": {},
   "outputs": [
    {
     "name": "stdout",
     "output_type": "stream",
     "text": [
      "loss\n",
      "0.6720422506332397  0.39094072580337524  0.5725737810134888  0.6074615716934204  \n",
      "\n",
      "accuracy\n",
      "0.699999988079071  0.9666666388511658  0.9666666388511658  0.8999999761581421  \n",
      "\n",
      "precision\n",
      "0.8888888955116272  0.95652174949646  0.5  0.949999988079071  \n",
      "\n",
      "Recall\n",
      "0.5333333611488342  0.7333333492279053  1.0  0.6333333253860474  \n",
      "\n"
     ]
    }
   ],
   "source": [
    "metrics=['loss','accuracy','precision','Recall']\n",
    "results=[res1,res2,res3,res4]\n",
    "for i in metrics:\n",
    "    print(i)\n",
    "    for j in results:\n",
    "        print(str(j[metrics.index(i)])+\"  \",end=\"\")\n",
    "    print('\\n')"
   ]
  },
  {
   "cell_type": "markdown",
   "id": "9dfc6648",
   "metadata": {},
   "source": [
    "### Conclusion\n",
    "- The second model got the best results: the highest accuracy,precision ,recall and the lowest loss => the more layers and nodes you have , the better the model is!\n",
    "- With all other parameters kept invariant,when we changed the activation function to sigmoid ( in the laast layer), the results got better => sigmoid is better than softmax\n",
    "- With all other parameters kept invariant, when we changed the loss function to kl_divergence , the accuracy, recall, precision got higher comparing to the first model and the loss got even lesser=> It is better for this dataset to choose kl_divergence as the loss function.\n",
    "\n",
    "=> the best combination :\n",
    "- nbLayers=5\n",
    "- nbNeurones= 40/Layer1,20/Layer2,10/Layer3,5/Layer4,3/Layer5\n",
    "- activation functions= relu/for all ,softmax/the last layer\n",
    "- learning rate =0.001\n",
    "- loss function = categorical_crossentropy"
   ]
  },
  {
   "cell_type": "markdown",
   "id": "0b898cc1",
   "metadata": {},
   "source": [
    "##  Working towards the CNN :"
   ]
  },
  {
   "cell_type": "markdown",
   "id": "bb9b37b1",
   "metadata": {},
   "source": [
    "### Digit Dataset"
   ]
  },
  {
   "cell_type": "code",
   "execution_count": 178,
   "id": "7effb4ce",
   "metadata": {},
   "outputs": [
    {
     "name": "stdout",
     "output_type": "stream",
     "text": [
      "[0. 1. 0. 0. 0. 0. 0. 0. 0. 0.]\n"
     ]
    },
    {
     "data": {
      "text/plain": [
       "<Figure size 216x216 with 0 Axes>"
      ]
     },
     "metadata": {},
     "output_type": "display_data"
    },
    {
     "data": {
      "image/png": "[encoded data removed]",
      "text/plain": [
       "<Figure size 288x288 with 1 Axes>"
      ]
     },
     "metadata": {
      "needs_background": "light"
     },
     "output_type": "display_data"
    }
   ],
   "source": [
    "digits=load_digits()\n",
    "x = digits.data\n",
    "y = digits.target\n",
    "x_train, x_test, y_train, y_test = train_test_split(x, to_categorical(y), test_size=0.2, stratify=y, random_state=42)\n",
    " # Display the digit 1000 \n",
    "plt.figure(1, figsize=(3, 3))\n",
    "plt.gray()\n",
    "plt.matshow(digits.images[1000])\n",
    "print(to_categorical(y)[1000])"
   ]
  },
  {
   "cell_type": "markdown",
   "id": "5de7091f",
   "metadata": {},
   "source": [
    "#### MODEL0:\n",
    "- nbLayers=2\n",
    "- nbNeurones= 64/Layer1,10/Layer2\n",
    "- activation functions= relu,softmax\n",
    "- learning rate =0.001\n",
    "- loss function = categorical_crossentropy"
   ]
  },
  {
   "cell_type": "code",
   "execution_count": 179,
   "id": "4ac5cd46",
   "metadata": {},
   "outputs": [
    {
     "name": "stdout",
     "output_type": "stream",
     "text": [
      "12/12 [==============================] - 0s 1ms/step - loss: 0.0558 - accuracy: 0.9833 - precision_82: 0.9833 - recall_82: 0.9833\n"
     ]
    }
   ],
   "source": [
    "model0=createModel(x_train.shape[1],y_train.shape[1],2,[64, 10],['relu','softmax'],0.001,'categorical_crossentropy')\n",
    "training0=model0.fit(x_train, y_train, epochs=25, batch_size=10, verbose=0)\n",
    "res0=model0.evaluate(np.array(x_test), np.array(y_test))\n"
   ]
  },
  {
   "cell_type": "markdown",
   "id": "03ba3e31",
   "metadata": {},
   "source": [
    "=> Our model gave a high  accuracy (>98% )=>We can say that this model is performant in terms of accuracy."
   ]
  },
  {
   "cell_type": "markdown",
   "id": "25361832",
   "metadata": {},
   "source": [
    "#### MODEL1:increasing the number of layers\n",
    "- nbLayers=5\n",
    "- nbNeurones= 64/Layer1,32/Layer2,24/Layer3,16/Layer4,10/layer5\n",
    "- activation functions= relu/all except thelast one ,softmax\n",
    "- learning rate =0.001\n",
    "- loss function = categorical_crossentropy"
   ]
  },
  {
   "cell_type": "code",
   "execution_count": 180,
   "id": "c64a9b55",
   "metadata": {},
   "outputs": [
    {
     "name": "stdout",
     "output_type": "stream",
     "text": [
      "12/12 [==============================] - 0s 2ms/step - loss: 0.0483 - accuracy: 0.9806 - precision_83: 0.9832 - recall_83: 0.9778\n"
     ]
    }
   ],
   "source": [
    "model1=createModel(x_train.shape[1],y_train.shape[1],5,[64,32,24,16, 10],['relu','relu','relu','relu','softmax'],0.001,'categorical_crossentropy')\n",
    "training1=model1.fit(x_train, y_train, epochs=25, batch_size=10, verbose=0)\n",
    "res1=model1.evaluate(np.array(x_test), np.array(y_test))\n"
   ]
  },
  {
   "cell_type": "markdown",
   "id": "41ced229",
   "metadata": {},
   "source": [
    "=> After increasing the number of layers, the accuracy decreased => Incresing the number of layers is not the right way to get a better model."
   ]
  },
  {
   "cell_type": "markdown",
   "id": "e973c975",
   "metadata": {},
   "source": [
    "### Face dataset"
   ]
  },
  {
   "cell_type": "code",
   "execution_count": 181,
   "id": "7fd812eb",
   "metadata": {},
   "outputs": [],
   "source": [
    "faces=fetch_olivetti_faces()\n",
    "X=faces.data\n",
    "y=faces.target\n",
    "x_train, x_test, y_train, y_test = train_test_split(X, to_categorical(y), test_size=0.2, random_state=42)"
   ]
  },
  {
   "cell_type": "code",
   "execution_count": 182,
   "id": "0571d411",
   "metadata": {},
   "outputs": [
    {
     "data": {
      "text/plain": [
       "<matplotlib.image.AxesImage at 0x7fd5617965e0>"
      ]
     },
     "execution_count": 182,
     "metadata": {},
     "output_type": "execute_result"
    },
    {
     "data": {
      "text/plain": [
       "<Figure size 216x216 with 0 Axes>"
      ]
     },
     "metadata": {},
     "output_type": "display_data"
    },
    {
     "data": {
      "image/png": "[encoded data removed]",
      "text/plain": [
       "<Figure size 288x288 with 1 Axes>"
      ]
     },
     "metadata": {
      "needs_background": "light"
     },
     "output_type": "display_data"
    }
   ],
   "source": [
    " # Display the first digit\n",
    "plt.figure(1, figsize=(3, 3))\n",
    "plt.gray()\n",
    "plt.matshow(faces.images[100])"
   ]
  },
  {
   "cell_type": "code",
   "execution_count": 183,
   "id": "8cad1132",
   "metadata": {},
   "outputs": [
    {
     "ename": "SyntaxError",
     "evalue": "invalid syntax (942814492.py, line 4)",
     "output_type": "error",
     "traceback": [
      "\u001b[0;36m  File \u001b[0;32m\"/tmp/ipykernel_36365/942814492.py\"\u001b[0;36m, line \u001b[0;32m4\u001b[0m\n\u001b[0;31m    - activation functions= relu/all except thelast one ,softmax\u001b[0m\n\u001b[0m                 ^\u001b[0m\n\u001b[0;31mSyntaxError\u001b[0m\u001b[0;31m:\u001b[0m invalid syntax\n"
     ]
    }
   ],
   "source": [
    "#### MODEL1:\n",
    "- nbLayers=4\n",
    "- nbNeurones= 128/Layer1,128/Layer2,64/Layer3,40/layer4\n",
    "- activation functions= relu/all except thelast one ,softmax\n",
    "- learning rate =0.001\n",
    "- loss function = categorical_crossentropy"
   ]
  },
  {
   "cell_type": "code",
   "execution_count": null,
   "id": "a3c7a3d6",
   "metadata": {},
   "outputs": [],
   "source": [
    "model1=createModel(x_train.shape[1],y_train.shape[1],4,[256,128,64,40],['relu','relu','relu','softmax'],0.001,'categorical_crossentropy')\n",
    "training1=model1.fit(x_train, y_train, epochs=20, batch_size=10, verbose=0)\n",
    "res1=model1.evaluate(np.array(x_test), np.array(y_test))"
   ]
  },
  {
   "cell_type": "markdown",
   "id": "d04d3373",
   "metadata": {},
   "source": [
    "#### MODEL2:\n",
    "- nbLayers=2\n",
    "- nbNeurones= 128/Layer1,40/Layer2\n",
    "- activation functions= relu/all except thelast one ,softmax\n",
    "- learning rate =0.001\n",
    "- loss function = categorical_crossentropy"
   ]
  },
  {
   "cell_type": "code",
   "execution_count": null,
   "id": "6c49dfaf",
   "metadata": {},
   "outputs": [],
   "source": [
    "model2=createModel(x_train.shape[1],y_train.shape[1],3,[256,256,40],['relu','relu','softmax'],0.001,'categorical_crossentropy')\n",
    "training2=model1.fit(x_train, y_train, epochs=20, batch_size=10, verbose=0)\n",
    "res2=model1.evaluate(np.array(x_test), np.array(y_test))\n"
   ]
  },
  {
   "cell_type": "markdown",
   "id": "787dc373",
   "metadata": {},
   "source": [
    "=> WE GOT A BETTER MODLE!( accuracy >80%)"
   ]
  },
  {
   "cell_type": "markdown",
   "id": "f076dee0",
   "metadata": {},
   "source": [
    "## conclusion \n",
    "- we have got the  best results with an architecture based on 3 layers , the first two layers have 256 neurones and the last one has 40 neurones.We have also descreased the number of layers comparing to the model1\n",
    "=> The more neurones you have , the better the results and definitely  the higher the complexity!\n",
    "For this, we need a more connected model  =>  migration to CNN especially when the inputs are images."
   ]
  },
  {
   "cell_type": "markdown",
   "id": "e992e6fb",
   "metadata": {},
   "source": []
  }
 ],
 "metadata": {
  "kernelspec": {
   "display_name": "Python 3 (ipykernel)",
   "language": "python",
   "name": "python3"
  },
  "language_info": {
   "codemirror_mode": {
    "name": "ipython",
    "version": 3
   },
   "file_extension": ".py",
   "mimetype": "text/x-python",
   "name": "python",
   "nbconvert_exporter": "python",
   "pygments_lexer": "ipython3",
   "version": "3.8.10"
  }
 },
 "nbformat": 4,
 "nbformat_minor": 5
}
