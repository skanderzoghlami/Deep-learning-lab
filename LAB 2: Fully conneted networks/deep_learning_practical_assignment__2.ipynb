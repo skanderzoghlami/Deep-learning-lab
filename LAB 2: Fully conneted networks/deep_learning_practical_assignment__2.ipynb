{
  "nbformat": 4,
  "nbformat_minor": 0,
  "metadata": {
    "kernelspec": {
      "display_name": "Python 3",
      "language": "python",
      "name": "python3"
    },
    "language_info": {
      "codemirror_mode": {
        "name": "ipython",
        "version": 3
      },
      "file_extension": ".py",
      "mimetype": "text/x-python",
      "name": "python",
      "nbconvert_exporter": "python",
      "pygments_lexer": "ipython3",
      "version": "3.8.5"
    },
    "colab": {
      "name": "deep_learning_practical_assignment_#2.ipynb",
      "provenance": [],
      "collapsed_sections": []
    }
  },
  "cells": [
    {
      "cell_type": "markdown",
      "metadata": {
        "id": "P1eR-JUnpGfs"
      },
      "source": [
        "# Deep learning Practical Assignment : Fully connected layers\n",
        "Members: Rachico Mehdi - Belkacem Mohamed Ghaith                                                                               \n",
        "Summary : In this notebook, we'll utilize Keras' fully connected layers to compare their performance on toy data to perceptron techniques, and then we'll use it on iris, digits, and faces datasets to study the limitations of these networks."
      ]
    },
    {
      "cell_type": "markdown",
      "metadata": {
        "id": "AcqNDC_4pGfw"
      },
      "source": [
        "# Libraries used:"
      ]
    },
    {
      "cell_type": "code",
      "metadata": {
        "colab": {
          "base_uri": "https://localhost:8080/"
        },
        "id": "Kwe-JW0ipGfx",
        "outputId": "6163c9c9-3aa2-4efc-bffd-fbd4db58e8b7"
      },
      "source": [
        "!pip install tensorflow==2.7.0\n",
        "!pip install numpy==1.19.5\n",
        "!pip install scikit-learn==1.0.1 \n",
        "!pip install matplotlib==3.2.2 \n",
        "!pip install keras==2.7.0 "
      ],
      "execution_count": 1,
      "outputs": [
        {
          "output_type": "stream",
          "name": "stdout",
          "text": [
            "Requirement already satisfied: tensorflow==2.7.0 in /usr/local/lib/python3.7/dist-packages (2.7.0)\n",
            "Requirement already satisfied: six>=1.12.0 in /usr/local/lib/python3.7/dist-packages (from tensorflow==2.7.0) (1.15.0)\n",
            "Requirement already satisfied: astunparse>=1.6.0 in /usr/local/lib/python3.7/dist-packages (from tensorflow==2.7.0) (1.6.3)\n",
            "Requirement already satisfied: keras-preprocessing>=1.1.1 in /usr/local/lib/python3.7/dist-packages (from tensorflow==2.7.0) (1.1.2)\n",
            "Requirement already satisfied: h5py>=2.9.0 in /usr/local/lib/python3.7/dist-packages (from tensorflow==2.7.0) (3.1.0)\n",
            "Requirement already satisfied: grpcio<2.0,>=1.24.3 in /usr/local/lib/python3.7/dist-packages (from tensorflow==2.7.0) (1.42.0)\n",
            "Requirement already satisfied: opt-einsum>=2.3.2 in /usr/local/lib/python3.7/dist-packages (from tensorflow==2.7.0) (3.3.0)\n",
            "Requirement already satisfied: typing-extensions>=3.6.6 in /usr/local/lib/python3.7/dist-packages (from tensorflow==2.7.0) (3.10.0.2)\n",
            "Requirement already satisfied: tensorflow-io-gcs-filesystem>=0.21.0 in /usr/local/lib/python3.7/dist-packages (from tensorflow==2.7.0) (0.22.0)\n",
            "Requirement already satisfied: absl-py>=0.4.0 in /usr/local/lib/python3.7/dist-packages (from tensorflow==2.7.0) (0.12.0)\n",
            "Requirement already satisfied: wheel<1.0,>=0.32.0 in /usr/local/lib/python3.7/dist-packages (from tensorflow==2.7.0) (0.37.0)\n",
            "Requirement already satisfied: tensorflow-estimator<2.8,~=2.7.0rc0 in /usr/local/lib/python3.7/dist-packages (from tensorflow==2.7.0) (2.7.0)\n",
            "Requirement already satisfied: libclang>=9.0.1 in /usr/local/lib/python3.7/dist-packages (from tensorflow==2.7.0) (12.0.0)\n",
            "Requirement already satisfied: flatbuffers<3.0,>=1.12 in /usr/local/lib/python3.7/dist-packages (from tensorflow==2.7.0) (2.0)\n",
            "Requirement already satisfied: termcolor>=1.1.0 in /usr/local/lib/python3.7/dist-packages (from tensorflow==2.7.0) (1.1.0)\n",
            "Requirement already satisfied: numpy>=1.14.5 in /usr/local/lib/python3.7/dist-packages (from tensorflow==2.7.0) (1.19.5)\n",
            "Requirement already satisfied: google-pasta>=0.1.1 in /usr/local/lib/python3.7/dist-packages (from tensorflow==2.7.0) (0.2.0)\n",
            "Requirement already satisfied: wrapt>=1.11.0 in /usr/local/lib/python3.7/dist-packages (from tensorflow==2.7.0) (1.13.3)\n",
            "Requirement already satisfied: protobuf>=3.9.2 in /usr/local/lib/python3.7/dist-packages (from tensorflow==2.7.0) (3.17.3)\n",
            "Requirement already satisfied: tensorboard~=2.6 in /usr/local/lib/python3.7/dist-packages (from tensorflow==2.7.0) (2.7.0)\n",
            "Requirement already satisfied: keras<2.8,>=2.7.0rc0 in /usr/local/lib/python3.7/dist-packages (from tensorflow==2.7.0) (2.7.0)\n",
            "Requirement already satisfied: gast<0.5.0,>=0.2.1 in /usr/local/lib/python3.7/dist-packages (from tensorflow==2.7.0) (0.4.0)\n",
            "Requirement already satisfied: cached-property in /usr/local/lib/python3.7/dist-packages (from h5py>=2.9.0->tensorflow==2.7.0) (1.5.2)\n",
            "Requirement already satisfied: tensorboard-data-server<0.7.0,>=0.6.0 in /usr/local/lib/python3.7/dist-packages (from tensorboard~=2.6->tensorflow==2.7.0) (0.6.1)\n",
            "Requirement already satisfied: requests<3,>=2.21.0 in /usr/local/lib/python3.7/dist-packages (from tensorboard~=2.6->tensorflow==2.7.0) (2.23.0)\n",
            "Requirement already satisfied: google-auth-oauthlib<0.5,>=0.4.1 in /usr/local/lib/python3.7/dist-packages (from tensorboard~=2.6->tensorflow==2.7.0) (0.4.6)\n",
            "Requirement already satisfied: tensorboard-plugin-wit>=1.6.0 in /usr/local/lib/python3.7/dist-packages (from tensorboard~=2.6->tensorflow==2.7.0) (1.8.0)\n",
            "Requirement already satisfied: werkzeug>=0.11.15 in /usr/local/lib/python3.7/dist-packages (from tensorboard~=2.6->tensorflow==2.7.0) (1.0.1)\n",
            "Requirement already satisfied: markdown>=2.6.8 in /usr/local/lib/python3.7/dist-packages (from tensorboard~=2.6->tensorflow==2.7.0) (3.3.6)\n",
            "Requirement already satisfied: setuptools>=41.0.0 in /usr/local/lib/python3.7/dist-packages (from tensorboard~=2.6->tensorflow==2.7.0) (57.4.0)\n",
            "Requirement already satisfied: google-auth<3,>=1.6.3 in /usr/local/lib/python3.7/dist-packages (from tensorboard~=2.6->tensorflow==2.7.0) (1.35.0)\n",
            "Requirement already satisfied: cachetools<5.0,>=2.0.0 in /usr/local/lib/python3.7/dist-packages (from google-auth<3,>=1.6.3->tensorboard~=2.6->tensorflow==2.7.0) (4.2.4)\n",
            "Requirement already satisfied: pyasn1-modules>=0.2.1 in /usr/local/lib/python3.7/dist-packages (from google-auth<3,>=1.6.3->tensorboard~=2.6->tensorflow==2.7.0) (0.2.8)\n",
            "Requirement already satisfied: rsa<5,>=3.1.4 in /usr/local/lib/python3.7/dist-packages (from google-auth<3,>=1.6.3->tensorboard~=2.6->tensorflow==2.7.0) (4.8)\n",
            "Requirement already satisfied: requests-oauthlib>=0.7.0 in /usr/local/lib/python3.7/dist-packages (from google-auth-oauthlib<0.5,>=0.4.1->tensorboard~=2.6->tensorflow==2.7.0) (1.3.0)\n",
            "Requirement already satisfied: importlib-metadata>=4.4 in /usr/local/lib/python3.7/dist-packages (from markdown>=2.6.8->tensorboard~=2.6->tensorflow==2.7.0) (4.8.2)\n",
            "Requirement already satisfied: zipp>=0.5 in /usr/local/lib/python3.7/dist-packages (from importlib-metadata>=4.4->markdown>=2.6.8->tensorboard~=2.6->tensorflow==2.7.0) (3.6.0)\n",
            "Requirement already satisfied: pyasn1<0.5.0,>=0.4.6 in /usr/local/lib/python3.7/dist-packages (from pyasn1-modules>=0.2.1->google-auth<3,>=1.6.3->tensorboard~=2.6->tensorflow==2.7.0) (0.4.8)\n",
            "Requirement already satisfied: certifi>=2017.4.17 in /usr/local/lib/python3.7/dist-packages (from requests<3,>=2.21.0->tensorboard~=2.6->tensorflow==2.7.0) (2021.10.8)\n",
            "Requirement already satisfied: chardet<4,>=3.0.2 in /usr/local/lib/python3.7/dist-packages (from requests<3,>=2.21.0->tensorboard~=2.6->tensorflow==2.7.0) (3.0.4)\n",
            "Requirement already satisfied: idna<3,>=2.5 in /usr/local/lib/python3.7/dist-packages (from requests<3,>=2.21.0->tensorboard~=2.6->tensorflow==2.7.0) (2.10)\n",
            "Requirement already satisfied: urllib3!=1.25.0,!=1.25.1,<1.26,>=1.21.1 in /usr/local/lib/python3.7/dist-packages (from requests<3,>=2.21.0->tensorboard~=2.6->tensorflow==2.7.0) (1.24.3)\n",
            "Requirement already satisfied: oauthlib>=3.0.0 in /usr/local/lib/python3.7/dist-packages (from requests-oauthlib>=0.7.0->google-auth-oauthlib<0.5,>=0.4.1->tensorboard~=2.6->tensorflow==2.7.0) (3.1.1)\n",
            "Requirement already satisfied: numpy==1.19.5 in /usr/local/lib/python3.7/dist-packages (1.19.5)\n",
            "Requirement already satisfied: scikit-learn==1.0.1 in /usr/local/lib/python3.7/dist-packages (1.0.1)\n",
            "Requirement already satisfied: scipy>=1.1.0 in /usr/local/lib/python3.7/dist-packages (from scikit-learn==1.0.1) (1.4.1)\n",
            "Requirement already satisfied: joblib>=0.11 in /usr/local/lib/python3.7/dist-packages (from scikit-learn==1.0.1) (1.1.0)\n",
            "Requirement already satisfied: threadpoolctl>=2.0.0 in /usr/local/lib/python3.7/dist-packages (from scikit-learn==1.0.1) (3.0.0)\n",
            "Requirement already satisfied: numpy>=1.14.6 in /usr/local/lib/python3.7/dist-packages (from scikit-learn==1.0.1) (1.19.5)\n",
            "Requirement already satisfied: matplotlib==3.2.2 in /usr/local/lib/python3.7/dist-packages (3.2.2)\n",
            "Requirement already satisfied: numpy>=1.11 in /usr/local/lib/python3.7/dist-packages (from matplotlib==3.2.2) (1.19.5)\n",
            "Requirement already satisfied: pyparsing!=2.0.4,!=2.1.2,!=2.1.6,>=2.0.1 in /usr/local/lib/python3.7/dist-packages (from matplotlib==3.2.2) (3.0.6)\n",
            "Requirement already satisfied: python-dateutil>=2.1 in /usr/local/lib/python3.7/dist-packages (from matplotlib==3.2.2) (2.8.2)\n",
            "Requirement already satisfied: kiwisolver>=1.0.1 in /usr/local/lib/python3.7/dist-packages (from matplotlib==3.2.2) (1.3.2)\n",
            "Requirement already satisfied: cycler>=0.10 in /usr/local/lib/python3.7/dist-packages (from matplotlib==3.2.2) (0.11.0)\n",
            "Requirement already satisfied: six>=1.5 in /usr/local/lib/python3.7/dist-packages (from python-dateutil>=2.1->matplotlib==3.2.2) (1.15.0)\n",
            "Requirement already satisfied: keras==2.7.0 in /usr/local/lib/python3.7/dist-packages (2.7.0)\n"
          ]
        }
      ]
    },
    {
      "cell_type": "code",
      "metadata": {
        "id": "wCB0V0wKpGfz"
      },
      "source": [
        "from keras.models import Sequential\n",
        "from sklearn.datasets import load_digits\n",
        "from keras.utils import np_utils\n",
        "from keras.layers import Dense,Conv2D,MaxPooling2D,Flatten\n",
        "from tensorflow.keras.utils import to_categorical, plot_model\n",
        "import tensorflow as tf\n",
        "import numpy as np\n",
        "\n",
        "from sklearn.utils import shuffle\n",
        "from sklearn.model_selection import train_test_split\n",
        "from matplotlib import pyplot as plt\n",
        "from keras.models import Sequential\n",
        "import matplotlib.pyplot as plt\n",
        "from sklearn.metrics import accuracy_score\n",
        "\n",
        "from sklearn import datasets\n",
        "\n",
        "from keras.layers import Dense\n",
        "from sklearn.datasets import fetch_olivetti_faces\n",
        "from sklearn.preprocessing import StandardScaler"
      ],
      "execution_count": 2,
      "outputs": []
    },
    {
      "cell_type": "markdown",
      "metadata": {
        "id": "A7V4wbR4pGfz"
      },
      "source": [
        " ## Exp1: Toy dataset:"
      ]
    },
    {
      "cell_type": "markdown",
      "metadata": {
        "id": "NH1bchV3pGf0"
      },
      "source": [
        "In this task, we will utilize the same toy dataset that yielded a good accuracy using the \n",
        "perceptron algorithm from the first assignment."
      ]
    },
    {
      "cell_type": "code",
      "metadata": {
        "id": "J11XfoGlpGf0"
      },
      "source": [
        "def generate_data(mu1, mu2, sigma1, sigma2, n, input_size):\n",
        "  # the function generate_data constructs the dataset using standard deviation and mean values\n",
        "  X1 = sigma1 * np.random.randn(n//2,input_size) + mu1\n",
        "  X2 = sigma2 * np.random.randn(n//2,input_size) + mu2\n",
        "  X =  np.concatenate((X1,X2))\n",
        "  Y1 = -1*np.ones(n//2, dtype=int)\n",
        "  Y2 = np.ones(n//2, dtype=int)\n",
        "  y = np.concatenate((Y1,Y2))\n",
        "  return X, y"
      ],
      "execution_count": 3,
      "outputs": []
    },
    {
      "cell_type": "code",
      "metadata": {
        "id": "uDE6Ffu3pGf1"
      },
      "source": [
        "def plot_dataset(input,target,title=\"Plot_dataset\"):\n",
        "  # function plot_dataset to plot \n",
        "  fig, ax = plt.subplots()\n",
        "  scatter = plt.scatter(input[:,0], input[:,1], c=target, cmap=\"summer\")\n",
        "  legend = ax.legend(*scatter.legend_elements())\n",
        "  plt.gca().set_ylim([-8, 8])\n",
        "  ax.add_artist(legend)\n",
        "  plt.title(title)\n",
        "\n",
        "  plt.show()"
      ],
      "execution_count": 4,
      "outputs": []
    },
    {
      "cell_type": "code",
      "metadata": {
        "colab": {
          "base_uri": "https://localhost:8080/",
          "height": 281
        },
        "id": "rRVYXB3IpGf2",
        "outputId": "88711b4a-f860-417c-de13-1012a55aeb3c"
      },
      "source": [
        "sigma1 = 0.25\n",
        "sigma2 = 0.25\n",
        "input_size = 2\n",
        "mu1 = np.array([-1, 0])\n",
        "mu2 = np.array([1, 0])\n",
        "\n",
        "X,y = generate_data(mu1, mu2, sigma1, sigma2, 300 , input_size)\n",
        "X_train, X_test, y_train, y_test = train_test_split(X, y, test_size=0.20, random_state=42,shuffle=True)\n",
        "plot_dataset(X_train, y_train)"
      ],
      "execution_count": 5,
      "outputs": [
        {
          "output_type": "display_data",
          "data": {
            "image/png": "[encoded data removed]",
            "text/plain": [
              "<Figure size 432x288 with 1 Axes>"
            ]
          },
          "metadata": {
            "needs_background": "light"
          }
        }
      ]
    },
    {
      "cell_type": "markdown",
      "metadata": {
        "id": "vAUl_4rEpGf2"
      },
      "source": [
        "Next, we'll define the model; because the data is linearly separable, we won't need numerous layers, thus a basic model with one dense layer will suffice."
      ]
    },
    {
      "cell_type": "code",
      "metadata": {
        "colab": {
          "base_uri": "https://localhost:8080/"
        },
        "id": "LTcfLZQ0pGf2",
        "outputId": "ed8e9ca0-58d2-4355-a369-bacb273fe153"
      },
      "source": [
        "# model definition\n",
        "model = Sequential([Dense(2, input_dim=2, activation='softmax'),])\n",
        "model.summary()"
      ],
      "execution_count": 6,
      "outputs": [
        {
          "output_type": "stream",
          "name": "stdout",
          "text": [
            "Model: \"sequential\"\n",
            "_________________________________________________________________\n",
            " Layer (type)                Output Shape              Param #   \n",
            "=================================================================\n",
            " dense (Dense)               (None, 2)                 6         \n",
            "                                                                 \n",
            "=================================================================\n",
            "Total params: 6\n",
            "Trainable params: 6\n",
            "Non-trainable params: 0\n",
            "_________________________________________________________________\n"
          ]
        }
      ]
    },
    {
      "cell_type": "code",
      "metadata": {
        "id": "grfq_d0lpGf3"
      },
      "source": [
        "# labels to categories transformation\n",
        "y_train_cat = to_categorical(y_train, num_classes=2)\n",
        "y_test_cat = to_categorical(y_test, num_classes=2)"
      ],
      "execution_count": 7,
      "outputs": []
    },
    {
      "cell_type": "code",
      "metadata": {
        "colab": {
          "base_uri": "https://localhost:8080/"
        },
        "id": "9wSDRwiApGf3",
        "outputId": "a6b0bd4d-9ced-4eb4-ff5c-a2dd143618af"
      },
      "source": [
        "# model compilation\n",
        "model.compile(loss='binary_crossentropy',optimizer='adam',metrics=['accuracy'])\n",
        "# model training\n",
        "model.fit(X_train, y_train_cat, epochs=20, batch_size=4)\n",
        "print('Model acccuracy:',model.evaluate(X_test,y_test_cat)[1])\n"
      ],
      "execution_count": 8,
      "outputs": [
        {
          "output_type": "stream",
          "name": "stdout",
          "text": [
            "Epoch 1/20\n",
            "60/60 [==============================] - 0s 1ms/step - loss: 0.7526 - accuracy: 0.4958\n",
            "Epoch 2/20\n",
            "60/60 [==============================] - 0s 1ms/step - loss: 0.7186 - accuracy: 0.4958\n",
            "Epoch 3/20\n",
            "60/60 [==============================] - 0s 2ms/step - loss: 0.6861 - accuracy: 0.4958\n",
            "Epoch 4/20\n",
            "60/60 [==============================] - 0s 1ms/step - loss: 0.6550 - accuracy: 0.5042\n",
            "Epoch 5/20\n",
            "60/60 [==============================] - 0s 1ms/step - loss: 0.6252 - accuracy: 0.5292\n",
            "Epoch 6/20\n",
            "60/60 [==============================] - 0s 1ms/step - loss: 0.5972 - accuracy: 0.5583\n",
            "Epoch 7/20\n",
            "60/60 [==============================] - 0s 1ms/step - loss: 0.5703 - accuracy: 0.6250\n",
            "Epoch 8/20\n",
            "60/60 [==============================] - 0s 1ms/step - loss: 0.5446 - accuracy: 0.7292\n",
            "Epoch 9/20\n",
            "60/60 [==============================] - 0s 1ms/step - loss: 0.5204 - accuracy: 0.8250\n",
            "Epoch 10/20\n",
            "60/60 [==============================] - 0s 2ms/step - loss: 0.4974 - accuracy: 0.9292\n",
            "Epoch 11/20\n",
            "60/60 [==============================] - 0s 1ms/step - loss: 0.4755 - accuracy: 0.9833\n",
            "Epoch 12/20\n",
            "60/60 [==============================] - 0s 1ms/step - loss: 0.4547 - accuracy: 0.9958\n",
            "Epoch 13/20\n",
            "60/60 [==============================] - 0s 1ms/step - loss: 0.4351 - accuracy: 1.0000\n",
            "Epoch 14/20\n",
            "60/60 [==============================] - 0s 1ms/step - loss: 0.4164 - accuracy: 1.0000\n",
            "Epoch 15/20\n",
            "60/60 [==============================] - 0s 1ms/step - loss: 0.3987 - accuracy: 1.0000\n",
            "Epoch 16/20\n",
            "60/60 [==============================] - 0s 1ms/step - loss: 0.3819 - accuracy: 1.0000\n",
            "Epoch 17/20\n",
            "60/60 [==============================] - 0s 1ms/step - loss: 0.3660 - accuracy: 1.0000\n",
            "Epoch 18/20\n",
            "60/60 [==============================] - 0s 1ms/step - loss: 0.3509 - accuracy: 1.0000\n",
            "Epoch 19/20\n",
            "60/60 [==============================] - 0s 2ms/step - loss: 0.3366 - accuracy: 1.0000\n",
            "Epoch 20/20\n",
            "60/60 [==============================] - 0s 1ms/step - loss: 0.3231 - accuracy: 1.0000\n",
            "2/2 [==============================] - 0s 9ms/step - loss: 0.3136 - accuracy: 1.0000\n",
            "Model acccuracy: 1.0\n"
          ]
        }
      ]
    },
    {
      "cell_type": "markdown",
      "metadata": {
        "id": "FT5UuMRrpGf3"
      },
      "source": [
        "We can see that the model has reached 100% accuracy, which is to be expected given that the data is linearly separable."
      ]
    },
    {
      "cell_type": "markdown",
      "metadata": {
        "id": "FKuhfooWpGf4"
      },
      "source": [
        "## Exp2: Iris Dataset:\n",
        "In this section, we will import the iris dataset from scikit-learn and then test several models by varying the depth of the network and the number of neurons in each layer."
      ]
    },
    {
      "cell_type": "code",
      "metadata": {
        "colab": {
          "base_uri": "https://localhost:8080/",
          "height": 280
        },
        "id": "AOci23VspGf4",
        "outputId": "a29ab230-2ecf-4875-f8be-b5ae677a31f5"
      },
      "source": [
        "iris = datasets.load_iris()\n",
        "# extracting the first two features.\n",
        "X = iris.data[:, :2]  \n",
        "y = iris.target\n",
        "\n",
        "x_min, x_max = X[:, 0].min() - 0.5, X[:, 0].max() + 0.5\n",
        "y_min, y_max = X[:, 1].min() - 0.5, X[:, 1].max() + 0.5\n",
        "\n",
        "plt.figure(2, figsize=(6, 4))\n",
        "plt.clf()\n",
        "\n",
        "# Plotting the points\n",
        "plt.scatter(X[:, 0], X[:, 1], c=y, cmap=plt.cm.Set2, edgecolor=\"k\")\n",
        "plt.xlabel(\"Sepal length\")\n",
        "plt.ylabel(\"Sepal width\")\n",
        "\n",
        "plt.xlim(x_min, x_max)\n",
        "plt.ylim(y_min, y_max)\n",
        "plt.xticks(())\n",
        "plt.yticks(())"
      ],
      "execution_count": 9,
      "outputs": [
        {
          "output_type": "execute_result",
          "data": {
            "text/plain": [
              "([], <a list of 0 Text major ticklabel objects>)"
            ]
          },
          "metadata": {},
          "execution_count": 9
        },
        {
          "output_type": "display_data",
          "data": {
            "image/png": "[encoded data removed]",
            "text/plain": [
              "<Figure size 432x288 with 1 Axes>"
            ]
          },
          "metadata": {}
        }
      ]
    },
    {
      "cell_type": "code",
      "metadata": {
        "id": "490fahVfpGf4"
      },
      "source": [
        "X_train, X_test, y_train, y_test = train_test_split(X, y, test_size=0.2, random_state=42)\n",
        "y_train = to_categorical(y_train, 3)\n",
        "y_test = to_categorical(y_test, 3)"
      ],
      "execution_count": 10,
      "outputs": []
    },
    {
      "cell_type": "code",
      "metadata": {
        "colab": {
          "base_uri": "https://localhost:8080/"
        },
        "id": "ppQxXGo6pGf5",
        "outputId": "00d5eaa0-0b81-49c3-de32-6056e4aba134"
      },
      "source": [
        "def precision(y_true, y_pred):\n",
        "    y_true = K.ones_like(y_true) \n",
        "    true_positives = K.sum(K.round(K.clip(y_true * y_pred, 0, 1)))\n",
        "    \n",
        "    predicted_positives = K.sum(K.round(K.clip(y_pred, 0, 1)))\n",
        "    precision = true_positives / (predicted_positives + K.epsilon())\n",
        "    return precision\n",
        "\n",
        "def recall(y_true, y_pred):\n",
        "    y_true = K.ones_like(y_true) \n",
        "    true_positives = K.sum(K.round(K.clip(y_true * y_pred, 0, 1)))\n",
        "    all_positives = K.sum(K.round(K.clip(y_true, 0, 1)))\n",
        "    \n",
        "    recall = true_positives / (all_positives + K.epsilon())\n",
        "    return recall\n",
        "\n",
        "\n",
        "\n",
        "def f1_score(y_true, y_pred):\n",
        "    precision = precision_m(y_true, y_pred)\n",
        "    recall = recall_m(y_true, y_pred)\n",
        "    return 2*((precision*recall)/(precision+recall+K.epsilon()))\n",
        "\n",
        "def create_keras_model(input_dim, output_dim, nodes, layers=1, name='model'):\n",
        "    def create_model():\n",
        "        # Create model\n",
        "        model = Sequential(name=name)\n",
        "        for i in range(layers):\n",
        "            model.add(Dense(nodes, input_dim=input_dim, activation='relu'))\n",
        "        model.add(Dense(output_dim, activation='softmax'))\n",
        "\n",
        "        # Compile model\n",
        "        model.compile(loss='categorical_crossentropy', \n",
        "                      optimizer='adam', \n",
        "                      metrics=['accuracy', \n",
        "                               tf.keras.metrics.Precision(), \n",
        "                               tf.keras.metrics.Recall(), \n",
        "                               tf.keras.metrics.AUC()])\n",
        "                      \n",
        "        return model\n",
        "    return create_model\n",
        "# Creating multiple models\n",
        "# Output dimension is 3 , so we have 3 classes to work with\n",
        "models = [create_keras_model(X_train.shape[1], 3, 10, i, 'model_{}'.format(i)) \n",
        "          for i in range(1, 5)]\n",
        "\n",
        "for create_model in models:\n",
        "    create_model().summary()\n",
        "    \n"
      ],
      "execution_count": 11,
      "outputs": [
        {
          "output_type": "stream",
          "name": "stdout",
          "text": [
            "Model: \"model_1\"\n",
            "_________________________________________________________________\n",
            " Layer (type)                Output Shape              Param #   \n",
            "=================================================================\n",
            " dense_1 (Dense)             (None, 10)                30        \n",
            "                                                                 \n",
            " dense_2 (Dense)             (None, 3)                 33        \n",
            "                                                                 \n",
            "=================================================================\n",
            "Total params: 63\n",
            "Trainable params: 63\n",
            "Non-trainable params: 0\n",
            "_________________________________________________________________\n",
            "Model: \"model_2\"\n",
            "_________________________________________________________________\n",
            " Layer (type)                Output Shape              Param #   \n",
            "=================================================================\n",
            " dense_3 (Dense)             (None, 10)                30        \n",
            "                                                                 \n",
            " dense_4 (Dense)             (None, 10)                110       \n",
            "                                                                 \n",
            " dense_5 (Dense)             (None, 3)                 33        \n",
            "                                                                 \n",
            "=================================================================\n",
            "Total params: 173\n",
            "Trainable params: 173\n",
            "Non-trainable params: 0\n",
            "_________________________________________________________________\n",
            "Model: \"model_3\"\n",
            "_________________________________________________________________\n",
            " Layer (type)                Output Shape              Param #   \n",
            "=================================================================\n",
            " dense_6 (Dense)             (None, 10)                30        \n",
            "                                                                 \n",
            " dense_7 (Dense)             (None, 10)                110       \n",
            "                                                                 \n",
            " dense_8 (Dense)             (None, 10)                110       \n",
            "                                                                 \n",
            " dense_9 (Dense)             (None, 3)                 33        \n",
            "                                                                 \n",
            "=================================================================\n",
            "Total params: 283\n",
            "Trainable params: 283\n",
            "Non-trainable params: 0\n",
            "_________________________________________________________________\n",
            "Model: \"model_4\"\n",
            "_________________________________________________________________\n",
            " Layer (type)                Output Shape              Param #   \n",
            "=================================================================\n",
            " dense_10 (Dense)            (None, 10)                30        \n",
            "                                                                 \n",
            " dense_11 (Dense)            (None, 10)                110       \n",
            "                                                                 \n",
            " dense_12 (Dense)            (None, 10)                110       \n",
            "                                                                 \n",
            " dense_13 (Dense)            (None, 10)                110       \n",
            "                                                                 \n",
            " dense_14 (Dense)            (None, 3)                 33        \n",
            "                                                                 \n",
            "=================================================================\n",
            "Total params: 393\n",
            "Trainable params: 393\n",
            "Non-trainable params: 0\n",
            "_________________________________________________________________\n"
          ]
        }
      ]
    },
    {
      "cell_type": "code",
      "metadata": {
        "colab": {
          "base_uri": "https://localhost:8080/"
        },
        "id": "3SBsihR3pGf5",
        "outputId": "d220fafb-64cd-4ce3-d75b-3941907ff07e"
      },
      "source": [
        "for created_model in models:\n",
        "    model = created_model()\n",
        "    print('Model name:', model.name)\n",
        "    history_callback = model.fit(X_train, y_train,\n",
        "                                 batch_size=10,\n",
        "                                 epochs=150,\n",
        "                                 verbose=0\n",
        "                                 )\n",
        "    score = model.evaluate(X_test, y_test, verbose=0)\n",
        "    print('Test loss:', score[0])\n",
        "    print('Test accuracy:', score[1])\n",
        "    print('Test precision:', score[2])\n",
        "    print('Test recall:', score[3])\n",
        "    print('Test f1_score:', score[4])"
      ],
      "execution_count": 13,
      "outputs": [
        {
          "output_type": "stream",
          "name": "stdout",
          "text": [
            "Model name: model_1\n",
            "WARNING:tensorflow:6 out of the last 7 calls to <function Model.make_test_function.<locals>.test_function at 0x7f415f850d40> triggered tf.function retracing. Tracing is expensive and the excessive number of tracings could be due to (1) creating @tf.function repeatedly in a loop, (2) passing tensors with different shapes, (3) passing Python objects instead of tensors. For (1), please define your @tf.function outside of the loop. For (2), @tf.function has experimental_relax_shapes=True option that relaxes argument shapes that can avoid unnecessary retracing. For (3), please refer to https://www.tensorflow.org/guide/function#controlling_retracing and https://www.tensorflow.org/api_docs/python/tf/function for  more details.\n",
            "Test loss: 0.7479321956634521\n",
            "Test accuracy: 0.7333333492279053\n",
            "Test precision: 0.9230769276618958\n",
            "Test recall: 0.4000000059604645\n",
            "Test f1_score: 0.9008333086967468\n",
            "Model name: model_2\n",
            "Test loss: 0.4842672348022461\n",
            "Test accuracy: 0.8666666746139526\n",
            "Test precision: 0.8620689511299133\n",
            "Test recall: 0.8333333134651184\n",
            "Test f1_score: 0.9433333277702332\n",
            "Model name: model_3\n",
            "Test loss: 0.4277489483356476\n",
            "Test accuracy: 0.800000011920929\n",
            "Test precision: 0.800000011920929\n",
            "Test recall: 0.800000011920929\n",
            "Test f1_score: 0.9502778053283691\n",
            "Model name: model_4\n",
            "Test loss: 0.41929733753204346\n",
            "Test accuracy: 0.7666666507720947\n",
            "Test precision: 0.7666666507720947\n",
            "Test recall: 0.7666666507720947\n",
            "Test f1_score: 0.9519444704055786\n"
          ]
        }
      ]
    },
    {
      "cell_type": "markdown",
      "metadata": {
        "id": "skbl-YQ6pGf5"
      },
      "source": [
        "## Experiment 3: Digits dataset:\n",
        "In this step, we will repeat the previous procedure: we will build various models with different hyperparameters and test their performance on the digits datasets."
      ]
    },
    {
      "cell_type": "code",
      "metadata": {
        "colab": {
          "base_uri": "https://localhost:8080/",
          "height": 292
        },
        "id": "mSXGIVUspGf6",
        "outputId": "9396874f-7088-42cd-eacd-b814799595a1"
      },
      "source": [
        "digits = load_digits()\n",
        "plt.gray()\n",
        "plt.matshow(digits.images[1])\n",
        "plt.show()"
      ],
      "execution_count": 14,
      "outputs": [
        {
          "output_type": "display_data",
          "data": {
            "text/plain": [
              "<Figure size 432x288 with 0 Axes>"
            ]
          },
          "metadata": {}
        },
        {
          "output_type": "display_data",
          "data": {
            "image/png": "[encoded data removed]",
            "text/plain": [
              "<Figure size 288x288 with 1 Axes>"
            ]
          },
          "metadata": {
            "needs_background": "light"
          }
        }
      ]
    },
    {
      "cell_type": "code",
      "metadata": {
        "colab": {
          "base_uri": "https://localhost:8080/"
        },
        "id": "OXJc5V4gpGf6",
        "outputId": "22b8ece4-b743-4c3e-c57c-84e6fb645b4c"
      },
      "source": [
        "yDigit = digits.target\n",
        "x_digits = digits.images.reshape((len(digits.images), -1))\n",
        "print(x_digits.shape)\n",
        "print(yDigit.shape)\n"
      ],
      "execution_count": 15,
      "outputs": [
        {
          "output_type": "stream",
          "name": "stdout",
          "text": [
            "(1797, 64)\n",
            "(1797,)\n"
          ]
        }
      ]
    },
    {
      "cell_type": "code",
      "metadata": {
        "colab": {
          "base_uri": "https://localhost:8080/"
        },
        "id": "HmRb467epGf6",
        "outputId": "4a11c52d-eefb-4c83-a61c-3628be833bef"
      },
      "source": [
        "y_digits = np_utils.to_categorical(digits.target,10)\n",
        "train_img, test_img, train_label, test_label = train_test_split(x_digits, y_digits, test_size=0.2, random_state=0)\n",
        "def plot_sample(X, y, index):\n",
        "    plt.imshow(X[index])        \n",
        "    plt.xlabel(y[index])\n",
        "print(train_img.shape)\n",
        "print(train_label.shape)"
      ],
      "execution_count": 16,
      "outputs": [
        {
          "output_type": "stream",
          "name": "stdout",
          "text": [
            "(1437, 64)\n",
            "(1437, 10)\n"
          ]
        }
      ]
    },
    {
      "cell_type": "code",
      "metadata": {
        "colab": {
          "base_uri": "https://localhost:8080/"
        },
        "id": "vDD3XgS0pGf6",
        "outputId": "6ecbbe01-242f-4657-e14b-dc417765be0b"
      },
      "source": [
        "# Creating multiple models\n",
        "# Output dimension is 10 , we have 10 classes to work with\n",
        "models = [create_keras_model(train_img.shape[1], 10, 10, i, 'model_{}'.format(i)) \n",
        "          for i in range(1, 6)]\n",
        "for create_model in models:\n",
        "    create_model().summary()"
      ],
      "execution_count": 17,
      "outputs": [
        {
          "output_type": "stream",
          "name": "stdout",
          "text": [
            "Model: \"model_1\"\n",
            "_________________________________________________________________\n",
            " Layer (type)                Output Shape              Param #   \n",
            "=================================================================\n",
            " dense_43 (Dense)            (None, 10)                650       \n",
            "                                                                 \n",
            " dense_44 (Dense)            (None, 10)                110       \n",
            "                                                                 \n",
            "=================================================================\n",
            "Total params: 760\n",
            "Trainable params: 760\n",
            "Non-trainable params: 0\n",
            "_________________________________________________________________\n",
            "Model: \"model_2\"\n",
            "_________________________________________________________________\n",
            " Layer (type)                Output Shape              Param #   \n",
            "=================================================================\n",
            " dense_45 (Dense)            (None, 10)                650       \n",
            "                                                                 \n",
            " dense_46 (Dense)            (None, 10)                110       \n",
            "                                                                 \n",
            " dense_47 (Dense)            (None, 10)                110       \n",
            "                                                                 \n",
            "=================================================================\n",
            "Total params: 870\n",
            "Trainable params: 870\n",
            "Non-trainable params: 0\n",
            "_________________________________________________________________\n",
            "Model: \"model_3\"\n",
            "_________________________________________________________________\n",
            " Layer (type)                Output Shape              Param #   \n",
            "=================================================================\n",
            " dense_48 (Dense)            (None, 10)                650       \n",
            "                                                                 \n",
            " dense_49 (Dense)            (None, 10)                110       \n",
            "                                                                 \n",
            " dense_50 (Dense)            (None, 10)                110       \n",
            "                                                                 \n",
            " dense_51 (Dense)            (None, 10)                110       \n",
            "                                                                 \n",
            "=================================================================\n",
            "Total params: 980\n",
            "Trainable params: 980\n",
            "Non-trainable params: 0\n",
            "_________________________________________________________________\n",
            "Model: \"model_4\"\n",
            "_________________________________________________________________\n",
            " Layer (type)                Output Shape              Param #   \n",
            "=================================================================\n",
            " dense_52 (Dense)            (None, 10)                650       \n",
            "                                                                 \n",
            " dense_53 (Dense)            (None, 10)                110       \n",
            "                                                                 \n",
            " dense_54 (Dense)            (None, 10)                110       \n",
            "                                                                 \n",
            " dense_55 (Dense)            (None, 10)                110       \n",
            "                                                                 \n",
            " dense_56 (Dense)            (None, 10)                110       \n",
            "                                                                 \n",
            "=================================================================\n",
            "Total params: 1,090\n",
            "Trainable params: 1,090\n",
            "Non-trainable params: 0\n",
            "_________________________________________________________________\n",
            "Model: \"model_5\"\n",
            "_________________________________________________________________\n",
            " Layer (type)                Output Shape              Param #   \n",
            "=================================================================\n",
            " dense_57 (Dense)            (None, 10)                650       \n",
            "                                                                 \n",
            " dense_58 (Dense)            (None, 10)                110       \n",
            "                                                                 \n",
            " dense_59 (Dense)            (None, 10)                110       \n",
            "                                                                 \n",
            " dense_60 (Dense)            (None, 10)                110       \n",
            "                                                                 \n",
            " dense_61 (Dense)            (None, 10)                110       \n",
            "                                                                 \n",
            " dense_62 (Dense)            (None, 10)                110       \n",
            "                                                                 \n",
            "=================================================================\n",
            "Total params: 1,200\n",
            "Trainable params: 1,200\n",
            "Non-trainable params: 0\n",
            "_________________________________________________________________\n"
          ]
        }
      ]
    },
    {
      "cell_type": "code",
      "metadata": {
        "colab": {
          "base_uri": "https://localhost:8080/"
        },
        "id": "O0Xyu9q0pGf7",
        "outputId": "b066177e-1679-43a1-9d3f-dc9902f75c50"
      },
      "source": [
        "for created_model in models:\n",
        "    model = created_model()\n",
        "    print('Model_name:', model.name)\n",
        "    callback = model.fit(train_img, train_label,\n",
        "                                 batch_size=10,\n",
        "                                 epochs=150,\n",
        "                                 verbose=0\n",
        "                                 )\n",
        "    score = model.evaluate(test_img, test_label, verbose=0)\n",
        "    print('Test loss:', score[0])\n",
        "    print('Test accuracy:', score[1])\n",
        "    print('Test precision:', score[2])\n",
        "    print('Test recall:', score[3])\n",
        "    print('Test f1_score:', score[4])"
      ],
      "execution_count": 18,
      "outputs": [
        {
          "output_type": "stream",
          "name": "stdout",
          "text": [
            "Model_name: model_1\n",
            "Test loss: 0.23582670092582703\n",
            "Test accuracy: 0.9611111283302307\n",
            "Test precision: 0.9611111283302307\n",
            "Test recall: 0.9611111283302307\n",
            "Test f1_score: 0.9952178001403809\n",
            "Model_name: model_2\n",
            "Test loss: 0.3066001832485199\n",
            "Test accuracy: 0.9527778029441833\n",
            "Test precision: 0.9527778029441833\n",
            "Test recall: 0.9527778029441833\n",
            "Test f1_score: 0.9903544783592224\n",
            "Model_name: model_3\n",
            "Test loss: 0.8016722202301025\n",
            "Test accuracy: 0.8999999761581421\n",
            "Test precision: 0.8997214436531067\n",
            "Test recall: 0.8972222208976746\n",
            "Test f1_score: 0.9792094826698303\n",
            "Model_name: model_4\n",
            "Test loss: 0.32147252559661865\n",
            "Test accuracy: 0.9555555582046509\n",
            "Test precision: 0.9582172632217407\n",
            "Test recall: 0.9555555582046509\n",
            "Test f1_score: 0.9877589344978333\n",
            "Model_name: model_5\n",
            "Test loss: 0.4977242648601532\n",
            "Test accuracy: 0.9305555820465088\n",
            "Test precision: 0.9357541799545288\n",
            "Test recall: 0.9305555820465088\n",
            "Test f1_score: 0.9785412549972534\n"
          ]
        }
      ]
    },
    {
      "cell_type": "markdown",
      "metadata": {
        "id": "Ax-rZLOKpGf7"
      },
      "source": [
        "Best test accuracy achieved was 0,9611 that was achieved by model 1."
      ]
    },
    {
      "cell_type": "markdown",
      "metadata": {
        "id": "B8b0TK9QpGf7"
      },
      "source": [
        "## Exp4: Face Data set:\n"
      ]
    },
    {
      "cell_type": "code",
      "metadata": {
        "colab": {
          "base_uri": "https://localhost:8080/"
        },
        "id": "eO4RiQ0OpGf7",
        "outputId": "e9bb320c-c6c8-4b8b-8359-ba31d5771edf"
      },
      "source": [
        "data = fetch_olivetti_faces()"
      ],
      "execution_count": 19,
      "outputs": [
        {
          "output_type": "stream",
          "name": "stdout",
          "text": [
            "downloading Olivetti faces from https://ndownloader.figshare.com/files/5976027 to /root/scikit_learn_data\n"
          ]
        }
      ]
    },
    {
      "cell_type": "code",
      "metadata": {
        "colab": {
          "base_uri": "https://localhost:8080/"
        },
        "id": "nG73prhlpGf7",
        "outputId": "52e1845a-4b53-4338-f9ba-2450fcea299e"
      },
      "source": [
        "print(data.DESCR)"
      ],
      "execution_count": 20,
      "outputs": [
        {
          "output_type": "stream",
          "name": "stdout",
          "text": [
            ".. _olivetti_faces_dataset:\n",
            "\n",
            "The Olivetti faces dataset\n",
            "--------------------------\n",
            "\n",
            "`This dataset contains a set of face images`_ taken between April 1992 and \n",
            "April 1994 at AT&T Laboratories Cambridge. The\n",
            ":func:`sklearn.datasets.fetch_olivetti_faces` function is the data\n",
            "fetching / caching function that downloads the data\n",
            "archive from AT&T.\n",
            "\n",
            ".. _This dataset contains a set of face images: http://www.cl.cam.ac.uk/research/dtg/attarchive/facedatabase.html\n",
            "\n",
            "As described on the original website:\n",
            "\n",
            "    There are ten different images of each of 40 distinct subjects. For some\n",
            "    subjects, the images were taken at different times, varying the lighting,\n",
            "    facial expressions (open / closed eyes, smiling / not smiling) and facial\n",
            "    details (glasses / no glasses). All the images were taken against a dark\n",
            "    homogeneous background with the subjects in an upright, frontal position \n",
            "    (with tolerance for some side movement).\n",
            "\n",
            "**Data Set Characteristics:**\n",
            "\n",
            "    =================   =====================\n",
            "    Classes                                40\n",
            "    Samples total                         400\n",
            "    Dimensionality                       4096\n",
            "    Features            real, between 0 and 1\n",
            "    =================   =====================\n",
            "\n",
            "The image is quantized to 256 grey levels and stored as unsigned 8-bit \n",
            "integers; the loader will convert these to floating point values on the \n",
            "interval [0, 1], which are easier to work with for many algorithms.\n",
            "\n",
            "The \"target\" for this database is an integer from 0 to 39 indicating the\n",
            "identity of the person pictured; however, with only 10 examples per class, this\n",
            "relatively small dataset is more interesting from an unsupervised or\n",
            "semi-supervised perspective.\n",
            "\n",
            "The original dataset consisted of 92 x 112, while the version available here\n",
            "consists of 64x64 images.\n",
            "\n",
            "When using these images, please give credit to AT&T Laboratories Cambridge.\n",
            "\n"
          ]
        }
      ]
    },
    {
      "cell_type": "code",
      "metadata": {
        "colab": {
          "base_uri": "https://localhost:8080/"
        },
        "id": "OtBp6PvCpGf7",
        "outputId": "34c9d9f8-201f-4e3a-816f-18db56a64cdf"
      },
      "source": [
        "faces = data.images\n",
        "target = data.target\n",
        "#Unique number of class outputs\n",
        "all_classes = np.unique(target)\n",
        "all_classes.sort()\n",
        "all_classes"
      ],
      "execution_count": 21,
      "outputs": [
        {
          "output_type": "execute_result",
          "data": {
            "text/plain": [
              "array([ 0,  1,  2,  3,  4,  5,  6,  7,  8,  9, 10, 11, 12, 13, 14, 15, 16,\n",
              "       17, 18, 19, 20, 21, 22, 23, 24, 25, 26, 27, 28, 29, 30, 31, 32, 33,\n",
              "       34, 35, 36, 37, 38, 39])"
            ]
          },
          "metadata": {},
          "execution_count": 21
        }
      ]
    },
    {
      "cell_type": "code",
      "metadata": {
        "id": "FunaZByDpGf7"
      },
      "source": [
        "faces = faces.reshape((len(faces), -1))"
      ],
      "execution_count": 22,
      "outputs": []
    },
    {
      "cell_type": "code",
      "metadata": {
        "colab": {
          "base_uri": "https://localhost:8080/"
        },
        "id": "JJkZxYfSpGf8",
        "outputId": "2899ae14-7307-433b-e0b5-bd30cae0528a"
      },
      "source": [
        "face_target = np_utils.to_categorical(target, 40)\n",
        "X_train, X_test, y_train, y_test = train_test_split(faces, face_target, test_size=0.2, stratify=target, random_state=0)\n",
        "print(X_train.shape)\n",
        "print(y_train.shape)"
      ],
      "execution_count": 23,
      "outputs": [
        {
          "output_type": "stream",
          "name": "stdout",
          "text": [
            "(320, 4096)\n",
            "(320, 40)\n"
          ]
        }
      ]
    },
    {
      "cell_type": "code",
      "metadata": {
        "colab": {
          "base_uri": "https://localhost:8080/"
        },
        "id": "GerQohwzpGf8",
        "outputId": "15b87144-552e-4707-e059-f03350c4455a"
      },
      "source": [
        "# Creating multiple models\n",
        "# Output dimensions is 40 , so we have 40 classes to work with\n",
        "models = [create_keras_model(X_train.shape[1], 40, 50, i, 'model_{}'.format(i)) \n",
        "          for i in range(5, 10)]\n",
        "for create_model in models:\n",
        "    create_model().summary()"
      ],
      "execution_count": 24,
      "outputs": [
        {
          "output_type": "stream",
          "name": "stdout",
          "text": [
            "Model: \"model_5\"\n",
            "_________________________________________________________________\n",
            " Layer (type)                Output Shape              Param #   \n",
            "=================================================================\n",
            " dense_83 (Dense)            (None, 50)                204850    \n",
            "                                                                 \n",
            " dense_84 (Dense)            (None, 50)                2550      \n",
            "                                                                 \n",
            " dense_85 (Dense)            (None, 50)                2550      \n",
            "                                                                 \n",
            " dense_86 (Dense)            (None, 50)                2550      \n",
            "                                                                 \n",
            " dense_87 (Dense)            (None, 50)                2550      \n",
            "                                                                 \n",
            " dense_88 (Dense)            (None, 40)                2040      \n",
            "                                                                 \n",
            "=================================================================\n",
            "Total params: 217,090\n",
            "Trainable params: 217,090\n",
            "Non-trainable params: 0\n",
            "_________________________________________________________________\n",
            "Model: \"model_6\"\n",
            "_________________________________________________________________\n",
            " Layer (type)                Output Shape              Param #   \n",
            "=================================================================\n",
            " dense_89 (Dense)            (None, 50)                204850    \n",
            "                                                                 \n",
            " dense_90 (Dense)            (None, 50)                2550      \n",
            "                                                                 \n",
            " dense_91 (Dense)            (None, 50)                2550      \n",
            "                                                                 \n",
            " dense_92 (Dense)            (None, 50)                2550      \n",
            "                                                                 \n",
            " dense_93 (Dense)            (None, 50)                2550      \n",
            "                                                                 \n",
            " dense_94 (Dense)            (None, 50)                2550      \n",
            "                                                                 \n",
            " dense_95 (Dense)            (None, 40)                2040      \n",
            "                                                                 \n",
            "=================================================================\n",
            "Total params: 219,640\n",
            "Trainable params: 219,640\n",
            "Non-trainable params: 0\n",
            "_________________________________________________________________\n",
            "Model: \"model_7\"\n",
            "_________________________________________________________________\n",
            " Layer (type)                Output Shape              Param #   \n",
            "=================================================================\n",
            " dense_96 (Dense)            (None, 50)                204850    \n",
            "                                                                 \n",
            " dense_97 (Dense)            (None, 50)                2550      \n",
            "                                                                 \n",
            " dense_98 (Dense)            (None, 50)                2550      \n",
            "                                                                 \n",
            " dense_99 (Dense)            (None, 50)                2550      \n",
            "                                                                 \n",
            " dense_100 (Dense)           (None, 50)                2550      \n",
            "                                                                 \n",
            " dense_101 (Dense)           (None, 50)                2550      \n",
            "                                                                 \n",
            " dense_102 (Dense)           (None, 50)                2550      \n",
            "                                                                 \n",
            " dense_103 (Dense)           (None, 40)                2040      \n",
            "                                                                 \n",
            "=================================================================\n",
            "Total params: 222,190\n",
            "Trainable params: 222,190\n",
            "Non-trainable params: 0\n",
            "_________________________________________________________________\n",
            "Model: \"model_8\"\n",
            "_________________________________________________________________\n",
            " Layer (type)                Output Shape              Param #   \n",
            "=================================================================\n",
            " dense_104 (Dense)           (None, 50)                204850    \n",
            "                                                                 \n",
            " dense_105 (Dense)           (None, 50)                2550      \n",
            "                                                                 \n",
            " dense_106 (Dense)           (None, 50)                2550      \n",
            "                                                                 \n",
            " dense_107 (Dense)           (None, 50)                2550      \n",
            "                                                                 \n",
            " dense_108 (Dense)           (None, 50)                2550      \n",
            "                                                                 \n",
            " dense_109 (Dense)           (None, 50)                2550      \n",
            "                                                                 \n",
            " dense_110 (Dense)           (None, 50)                2550      \n",
            "                                                                 \n",
            " dense_111 (Dense)           (None, 50)                2550      \n",
            "                                                                 \n",
            " dense_112 (Dense)           (None, 40)                2040      \n",
            "                                                                 \n",
            "=================================================================\n",
            "Total params: 224,740\n",
            "Trainable params: 224,740\n",
            "Non-trainable params: 0\n",
            "_________________________________________________________________\n",
            "Model: \"model_9\"\n",
            "_________________________________________________________________\n",
            " Layer (type)                Output Shape              Param #   \n",
            "=================================================================\n",
            " dense_113 (Dense)           (None, 50)                204850    \n",
            "                                                                 \n",
            " dense_114 (Dense)           (None, 50)                2550      \n",
            "                                                                 \n",
            " dense_115 (Dense)           (None, 50)                2550      \n",
            "                                                                 \n",
            " dense_116 (Dense)           (None, 50)                2550      \n",
            "                                                                 \n",
            " dense_117 (Dense)           (None, 50)                2550      \n",
            "                                                                 \n",
            " dense_118 (Dense)           (None, 50)                2550      \n",
            "                                                                 \n",
            " dense_119 (Dense)           (None, 50)                2550      \n",
            "                                                                 \n",
            " dense_120 (Dense)           (None, 50)                2550      \n",
            "                                                                 \n",
            " dense_121 (Dense)           (None, 50)                2550      \n",
            "                                                                 \n",
            " dense_122 (Dense)           (None, 40)                2040      \n",
            "                                                                 \n",
            "=================================================================\n",
            "Total params: 227,290\n",
            "Trainable params: 227,290\n",
            "Non-trainable params: 0\n",
            "_________________________________________________________________\n"
          ]
        }
      ]
    },
    {
      "cell_type": "code",
      "metadata": {
        "colab": {
          "base_uri": "https://localhost:8080/"
        },
        "id": "4Pi5tleNpGf8",
        "outputId": "d9572065-be8e-4084-f3be-52af9ac11fc2"
      },
      "source": [
        "for created_model in models:\n",
        "    model = created_model()\n",
        "    print('Model name:', model.name)\n",
        "    callback = model.fit(X_train, y_train,\n",
        "                                 batch_size=10,\n",
        "                                 epochs=150,\n",
        "                                 verbose=0\n",
        "                                 )\n",
        "    score = model.evaluate(X_test, y_test, verbose=0)\n",
        "    print('Test loss:', score[0])\n",
        "    print('Test accuracy:', score[1])\n",
        "    print('Test precision:', score[2])\n",
        "    print('Test recall:', score[3])\n",
        "    print('Test f1_score:', score[4])"
      ],
      "execution_count": 25,
      "outputs": [
        {
          "output_type": "stream",
          "name": "stdout",
          "text": [
            "Model name: model_5\n",
            "Test loss: 2.612908124923706\n",
            "Test accuracy: 0.17499999701976776\n",
            "Test precision: 0.0\n",
            "Test recall: 0.0\n",
            "Test f1_score: 0.8883893489837646\n",
            "Model name: model_6\n",
            "Test loss: 2.2947733402252197\n",
            "Test accuracy: 0.637499988079071\n",
            "Test precision: 0.6521739363670349\n",
            "Test recall: 0.5625\n",
            "Test f1_score: 0.9113882780075073\n",
            "Model name: model_7\n",
            "Test loss: 3.0651907920837402\n",
            "Test accuracy: 0.1875\n",
            "Test precision: 0.5\n",
            "Test recall: 0.03750000149011612\n",
            "Test f1_score: 0.851189911365509\n",
            "Model name: model_8\n",
            "Test loss: 3.6888809204101562\n",
            "Test accuracy: 0.02500000037252903\n",
            "Test precision: 0.0\n",
            "Test recall: 0.0\n",
            "Test f1_score: 0.5\n",
            "Model name: model_9\n",
            "Test loss: 3.6888813972473145\n",
            "Test accuracy: 0.02500000037252903\n",
            "Test precision: 0.0\n",
            "Test recall: 0.0\n",
            "Test f1_score: 0.5\n"
          ]
        }
      ]
    },
    {
      "cell_type": "markdown",
      "metadata": {
        "id": "cy7SNuANpGf8"
      },
      "source": [
        "We can see that the models aren't very performant when it comes to photos, which is why CNN is offered as a superior solution."
      ]
    },
    {
      "cell_type": "code",
      "metadata": {
        "id": "GfDt6h3QpGf8"
      },
      "source": [
        ""
      ],
      "execution_count": null,
      "outputs": []
    }
  ]
}