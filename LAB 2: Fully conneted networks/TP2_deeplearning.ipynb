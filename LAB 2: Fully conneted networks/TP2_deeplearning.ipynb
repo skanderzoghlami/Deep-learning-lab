{
  "nbformat": 4,
  "nbformat_minor": 0,
  "metadata": {
    "colab": {
      "name": "TP2 deeplearning.ipynb",
      "provenance": [],
      "collapsed_sections": []
    },
    "kernelspec": {
      "name": "python3",
      "display_name": "Python 3"
    },
    "language_info": {
      "name": "python"
    }
  },
  "cells": [
    {
      "cell_type": "markdown",
      "metadata": {
        "id": "bp2u2wzl9iQh"
      },
      "source": [
        "#**Deep learning Practical Assignment #2**\n",
        "\n",
        "Elaborated by: \n",
        "\n",
        "*   Nour Borgi\n",
        "*   Salma Halloumi\n",
        "*   Eya Abdelmoula\n",
        "\n",
        "\n",
        "\n",
        "\n"
      ]
    },
    {
      "cell_type": "markdown",
      "metadata": {
        "id": "dai145Ul-oTJ"
      },
      "source": [
        "##Practical assignment objective\n",
        "\n",
        "---\n",
        "\n"
      ]
    },
    {
      "cell_type": "markdown",
      "metadata": {
        "id": "RAIqMPG--xkT"
      },
      "source": [
        "The goal of this assignment is to create a fully connected network and train different models on different dataset."
      ]
    },
    {
      "cell_type": "markdown",
      "metadata": {
        "id": "QIvyg7mZAYrg"
      },
      "source": [
        "## All imports that we need\n",
        "---"
      ]
    },
    {
      "cell_type": "code",
      "metadata": {
        "id": "KPHq6UofA8hg"
      },
      "source": [
        " import numpy as np\n",
        " import matplotlib.pyplot as plt\n",
        " import pandas as pd\n",
        " #load_data\n",
        " from sklearn.datasets import load_iris\n",
        " from sklearn.datasets import load_digits\n",
        " from sklearn.datasets import fetch_olivetti_faces\n",
        " #import_sklearn\n",
        " from sklearn.model_selection import train_test_split\n",
        " from sklearn.preprocessing import OneHotEncoder\n",
        " from sklearn.metrics import accuracy_score\n",
        " from sklearn.preprocessing import OneHotEncoder\n",
        " from sklearn.preprocessing import LabelEncoder\n",
        " #import_keras\n",
        " from keras.metrics import Precision , Recall\n",
        " from keras.models import Sequential\n",
        " from keras.layers import Dense\n",
        " from keras.utils import np_utils"
      ],
      "execution_count": null,
      "outputs": []
    },
    {
      "cell_type": "markdown",
      "metadata": {
        "id": "m1_yxZIbAB4I"
      },
      "source": [
        "## 1. Implementing fully connected dataset \n",
        "\n",
        "\n",
        "---\n"
      ]
    },
    {
      "cell_type": "code",
      "metadata": {
        "id": "JQlxItZr9Zus"
      },
      "source": [
        "#implementing from scratch the perceptron algorithm.\n",
        "def perceptron():\n",
        "  w=np.array([0,0,0])\n",
        "  x=''\n",
        "  for t in range(0,n):\n",
        "    Wold=w\n",
        "    for i in range(0,len(X_train)):\n",
        "      x=np.insert(X_train[i],0,1)\n",
        "      if(y_train[i]*np.dot(w,x)<=0):\n",
        "        w=Wold+y_train[i]*x\n",
        "    if(np.array_equal(w,Wold)):\n",
        "      return Wold\n",
        "  return w\n"
      ],
      "execution_count": null,
      "outputs": []
    },
    {
      "cell_type": "code",
      "metadata": {
        "id": "4EqH-DPjBwln"
      },
      "source": [
        "def predict(X,w):\n",
        "  y_pred=np.full(len(X),0)\n",
        "  for i in range(0,len(X)):\n",
        "    x=np.insert(X[i],0,1)\n",
        "    if np.dot(w,x) <= 0.0:\n",
        "      y_pred[i]= -1\n",
        "    else:\n",
        "      y_pred[i]= 1\n",
        "  return y_pred"
      ],
      "execution_count": null,
      "outputs": []
    },
    {
      "cell_type": "markdown",
      "metadata": {
        "id": "Zboqiaj0HlmK"
      },
      "source": [
        "### **1.1 Toy data set**"
      ]
    },
    {
      "cell_type": "code",
      "metadata": {
        "id": "IWfnRkSaHvIO"
      },
      "source": [
        "# shuffle the data-set and split it into train and test set, containing 80% and 20% of the dataset.\n",
        "def split_data(u1,u2,sigma,num,model=False):\n",
        "\n",
        "  X1 = sigma * np.random.randn(num,2)+u1 # Generating the first 125 xi that have label yi = −1.\n",
        "  X2 = sigma * np.random.randn(num,2)+u2 # Generating the last 125 xi that have label yi = 1.\n",
        "  X = np.concatenate((X1,X2),axis=0) # concatenating the data.\n",
        "  y=np.full(num,-1)\n",
        "  y=np.append(y,np.full(num,1))\n",
        "  # it's a good practice to reshape the output attribute.\n",
        "  if (model): \n",
        "    y = y.reshape(-1, 1)\n",
        "    encoder = OneHotEncoder(sparse=False)\n",
        "    y= encoder.fit_transform(y)\n",
        "  return train_test_split(X,y,test_size=0.2,random_state=42)"
      ],
      "execution_count": null,
      "outputs": []
    },
    {
      "cell_type": "code",
      "metadata": {
        "colab": {
          "base_uri": "https://localhost:8080/"
        },
        "id": "K_AfycAWIedb",
        "outputId": "f8f65167-f0a5-4c5a-9230-7ed4009a5efc"
      },
      "source": [
        "u1=[-1,0]\n",
        "u2=[1,0]\n",
        "std=0.5\n",
        "X_train,X_test,y_train,y_test = split_data(u1 ,u2,std, 125)\n",
        "W=perceptron(100)\n",
        "accuracy_score(y_pred=predict(X_test,W),y_true=y_test)"
      ],
      "execution_count": null,
      "outputs": [
        {
          "output_type": "execute_result",
          "data": {
            "text/plain": [
              "0.96"
            ]
          },
          "metadata": {},
          "execution_count": 41
        }
      ]
    },
    {
      "cell_type": "markdown",
      "metadata": {
        "id": "rFUC2kswLciU"
      },
      "source": [
        "###**1.2 Using keras**\n"
      ]
    },
    {
      "cell_type": "code",
      "metadata": {
        "colab": {
          "base_uri": "https://localhost:8080/"
        },
        "id": "FWi9EFRtKp6h",
        "outputId": "3cd1a66c-73da-4375-94b4-7cee6f24b64a"
      },
      "source": [
        "#initialisation of data\n",
        "u1=[-1,0]\n",
        "u2=[1,0]\n",
        "std=0.5\n",
        "X_train,X_test,y_train,y_test = split_data(u1 ,u2,std, 125,True)\n",
        "\n",
        "model = Sequential()\n",
        "model.add(Dense (12, input_dim =2, activation = 'relu'))\n",
        "model.add(Dense(5, activation =  'relu' ))\n",
        "model.add(Dense (2, activation = 'relu'))\n",
        "\n",
        "# Compile the keras model\n",
        "model.compile(loss = 'binary_crossentropy', optimizer = 'adam', metrics =[ 'accuracy' ])\n",
        "# Fit the keras model on the dataset\n",
        "model.fit (X_train, y_train, epochs =150, batch_size =10, verbose=0)\n",
        "# Evaluate the keras model\n",
        "_, accuracy = model.evaluate(X_test, y_test)\n",
        "print('Accuracy: %.2f' % (accuracy*100))"
      ],
      "execution_count": null,
      "outputs": [
        {
          "output_type": "stream",
          "name": "stdout",
          "text": [
            "2/2 [==============================] - 0s 7ms/step - loss: 0.3067 - accuracy: 0.9800\n",
            "Accuracy: 98.00\n"
          ]
        }
      ]
    },
    {
      "cell_type": "markdown",
      "metadata": {
        "id": "o7eQlxv3WQ9P"
      },
      "source": [
        "##2. Lab description\n",
        "\n",
        "---"
      ]
    },
    {
      "cell_type": "code",
      "metadata": {
        "id": "GKC2J7AXXjNg"
      },
      "source": [
        "\n",
        "#load_data_iris.\n",
        "data = load_iris()\n",
        "\n",
        "#it's a good practice to reshape the output attribute.\n",
        "y = data.target.reshape(-1, 1)\n",
        "encoder = OneHotEncoder(sparse=False)\n",
        "y= encoder.fit_transform(y)\n",
        "\n",
        "#shuffle and split the iris data. \n",
        "X_train,X_test,y_train,y_test = train_test_split(data.data,y,test_size=0.2, stratify=y, random_state=42)\n"
      ],
      "execution_count": null,
      "outputs": []
    },
    {
      "cell_type": "markdown",
      "metadata": {
        "id": "alKYp8kL3eV3"
      },
      "source": [
        "**IRIS dataset overview**\\\n",
        "![Capture3.PNG](data:image/png;base64,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)"
      ]
    },
    {
      "cell_type": "markdown",
      "metadata": {
        "id": "xtgyoiuVgOjE"
      },
      "source": [
        "###**2.1 Selecting best model for iris**"
      ]
    },
    {
      "cell_type": "markdown",
      "metadata": {
        "id": "VeOzb2Pvbf1w"
      },
      "source": [
        "###Experiment 1:"
      ]
    },
    {
      "cell_type": "code",
      "metadata": {
        "colab": {
          "base_uri": "https://localhost:8080/"
        },
        "id": "ymHs-650bqgz",
        "outputId": "c8957d4c-8fd5-4e5a-baf8-f48025ad22c1"
      },
      "source": [
        "# Sample code to create a fully connected network with one layer:\n",
        "# 3 neurones in the 1st layer with relu as activation function.\n",
        "\n",
        "model = Sequential()\n",
        "\n",
        "model.add(Dense(3,input_shape=(4,),activation='relu'))\n",
        "# Compile the keras model\n",
        "model.compile(loss='binary_crossentropy', optimizer='adam', metrics =['accuracy'])\n",
        "# Fit the keras model on the dataset\n",
        "model.fit(X_train, y_train, epochs =300, batch_size =10, verbose=0)\n",
        "# Evaluate the keras model\n",
        "model.evaluate(X_test, y_test)"
      ],
      "execution_count": null,
      "outputs": [
        {
          "output_type": "stream",
          "name": "stdout",
          "text": [
            "1/1 [==============================] - 0s 101ms/step - loss: 6.8083 - accuracy: 0.3333\n"
          ]
        },
        {
          "output_type": "execute_result",
          "data": {
            "text/plain": [
              "[6.808270454406738, 0.3333333432674408]"
            ]
          },
          "metadata": {},
          "execution_count": 44
        }
      ]
    },
    {
      "cell_type": "markdown",
      "metadata": {
        "id": "45WzZWozbr2i"
      },
      "source": [
        "###Experiment 2"
      ]
    },
    {
      "cell_type": "code",
      "metadata": {
        "colab": {
          "base_uri": "https://localhost:8080/"
        },
        "id": "c6agfu1wboi6",
        "outputId": "142f1824-7a59-4224-eac8-23348ec355a6"
      },
      "source": [
        "# Sample code to create a fully connected network with 2 layers and Recall and precision as metrics:\n",
        "# 1 neurone in the 1st layer with relu as activation function. \n",
        "# 3 neurones in the second layer with sigmoid as activation function.\n",
        "\n",
        "\n",
        "model = Sequential()\n",
        "\n",
        "model.add(Dense(1, input_shape=(4,), activation='relu'))\n",
        "model.add(Dense(3, activation='sigmoid'))\n",
        "\n",
        "# Compile the keras model\n",
        "model.compile(optimizer='adam',loss='categorical_crossentropy',metrics=[Precision(), Recall()])\n",
        "# Fit the keras model on the dataset\n",
        "model.fit(X_train, y_train, epochs =100, batch_size =10, verbose=0)\n",
        "# Evaluate the keras model\n",
        "model.evaluate(X_test, y_test)"
      ],
      "execution_count": null,
      "outputs": [
        {
          "output_type": "stream",
          "name": "stdout",
          "text": [
            "1/1 [==============================] - 0s 279ms/step - loss: 1.0986 - precision_12: 0.3333 - recall_12: 0.3333\n"
          ]
        },
        {
          "output_type": "execute_result",
          "data": {
            "text/plain": [
              "[1.0986125469207764, 0.3333333432674408, 0.3333333432674408]"
            ]
          },
          "metadata": {},
          "execution_count": 45
        }
      ]
    },
    {
      "cell_type": "markdown",
      "metadata": {
        "id": "HU9jOGLqc66D"
      },
      "source": [
        "###Experiment 3"
      ]
    },
    {
      "cell_type": "code",
      "metadata": {
        "colab": {
          "base_uri": "https://localhost:8080/"
        },
        "id": "CLzNCn5pg5Bf",
        "outputId": "78531df4-db80-49b6-e8b3-138e4a750a13"
      },
      "source": [
        "# Sample code to create a fully connected network with 4 layers and mse as metrics:\n",
        "# 2 neurones in the 1st layer with relu as activation function.\n",
        "# 3 neurones in the third layer with sigmoid as activation function. \n",
        "\n",
        "model = Sequential()\n",
        "\n",
        "model.add(Dense(2,input_shape=(4,),activation='relu'))\n",
        "model.add(Dense(3,activation='sigmoid'))\n",
        "\n",
        "# compile the keras model\n",
        "model.compile(loss='categorical_crossentropy', optimizer='adam', metrics =['accuracy'])\n",
        "# fit the keras model on the dataset\n",
        "model.fit(X_train, y_train, epochs =300, batch_size =10, verbose=0)\n",
        "# Evaluate the keras model\n",
        "model.evaluate(X_test, y_test)"
      ],
      "execution_count": null,
      "outputs": [
        {
          "output_type": "stream",
          "name": "stdout",
          "text": [
            "1/1 [==============================] - 0s 118ms/step - loss: 0.3601 - accuracy: 0.8667\n"
          ]
        },
        {
          "output_type": "execute_result",
          "data": {
            "text/plain": [
              "[0.36005863547325134, 0.8666666746139526]"
            ]
          },
          "metadata": {},
          "execution_count": 46
        }
      ]
    },
    {
      "cell_type": "markdown",
      "metadata": {
        "id": "SqZslggog5-D"
      },
      "source": [
        "### Experiment 4"
      ]
    },
    {
      "cell_type": "code",
      "metadata": {
        "colab": {
          "base_uri": "https://localhost:8080/"
        },
        "id": "6c-sRvprdAfd",
        "outputId": "890283ac-b5bc-4b2c-a908-fa6503a5c6a8"
      },
      "source": [
        "# Sample code to create a fully connected network with 4 layers:\n",
        "# 12 neurones in the 1st layer with relu as activation function.\n",
        "# 7 neurones in the second layer with relu as activation function.\n",
        "# 5 neurones in the third layer with relu as activation function. \n",
        "# 3 neurones in the fourth layer with softmax as activation function. \n",
        "\n",
        "model = Sequential()\n",
        "\n",
        "model.add(Dense(12,input_shape=(4,),activation='relu'))\n",
        "model.add(Dense(7,activation='relu'))\n",
        "model.add(Dense(5,activation='relu'))\n",
        "model.add(Dense(3,activation='softmax'))\n",
        "\n",
        "# Compile the keras model\n",
        "model.compile(loss='categorical_crossentropy', optimizer='adam', metrics =['accuracy'])\n",
        "# Fit the keras model on the dataset\n",
        "model.fit(X_train, y_train, epochs =300, batch_size =10, verbose=0)\n",
        "# Evaluate the keras model\n",
        "model.evaluate(X_test, y_test)"
      ],
      "execution_count": null,
      "outputs": [
        {
          "output_type": "stream",
          "name": "stdout",
          "text": [
            "1/1 [==============================] - 0s 122ms/step - loss: 0.0295 - accuracy: 1.0000\n"
          ]
        },
        {
          "output_type": "execute_result",
          "data": {
            "text/plain": [
              "[0.029541926458477974, 1.0]"
            ]
          },
          "metadata": {},
          "execution_count": 47
        }
      ]
    },
    {
      "cell_type": "markdown",
      "metadata": {
        "id": "U2Xm9mnUp8jP"
      },
      "source": [
        "####**interpretation** \n",
        "The best architecture is the one that has 4 layers: \\\n",
        "* 12 neurons in the 1st layer with relu as activation function.\n",
        "* 7 neurons in the second layer with relu as activation function.\n",
        "* 5 neurons in the third layer with relu as activation function. \n",
        "* 3 neurons in the fourth layer with softmax as activation function. \\\n",
        "\n",
        "\n",
        "Results metrics : accuracy: 1.000 - loss: 0.0397"
      ]
    },
    {
      "cell_type": "markdown",
      "metadata": {
        "id": "phkBBJ_4tpYw"
      },
      "source": [
        "##3. Working towards the CNN\n",
        "---"
      ]
    },
    {
      "cell_type": "markdown",
      "metadata": {
        "id": "eE7KtWacwlg3"
      },
      "source": [
        "###**Best model for digits dataset**"
      ]
    },
    {
      "cell_type": "markdown",
      "metadata": {
        "id": "5p7KYCiL3X_P"
      },
      "source": [
        "**Digits dataset overview**\\\n",
        "![Capture1.PNG](data:image/png;base64,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)"
      ]
    },
    {
      "cell_type": "code",
      "metadata": {
        "colab": {
          "base_uri": "https://localhost:8080/"
        },
        "id": "BIJQqEVZq7iE",
        "outputId": "7f95d88f-d946-4e14-f266-7a1ad37a58cb"
      },
      "source": [
        "#load digits data\n",
        "digits=load_digits()\n",
        "target = digits.target\n",
        "#encode data\n",
        "encoder = LabelEncoder()\n",
        "encoder.fit(target)\n",
        "encoded_Y = encoder.transform(target)\n",
        "# convert integers to dummy variables (i.e. one hot encoded)\n",
        "dummy_y = np_utils.to_categorical(encoded_Y)\n",
        "#split data\n",
        "X_train,X_test,y_train,y_test = train_test_split(digits.data,dummy_y,test_size=0.2,  random_state=42)\n",
        "\n",
        "model = Sequential()\n",
        "\n",
        "# add layers to model\n",
        "model.add(Dense(200,input_shape=(64,),activation='relu'))\n",
        "model.add(Dense(100,activation='relu'))\n",
        "model.add(Dense(64,activation='relu'))\n",
        "model.add(Dense(10,activation='softmax'))\n",
        "\n",
        "# Compile the keras model\n",
        "model.compile(loss='categorical_crossentropy', optimizer='adam', metrics =['accuracy'])\n",
        "# Fit the keras model on the dataset\n",
        "model.fit(X_train, y_train, epochs =150, batch_size =10, verbose=0)\n",
        "# Evaluate the keras model\n",
        "model.evaluate(X_test, y_test)"
      ],
      "execution_count": null,
      "outputs": [
        {
          "output_type": "stream",
          "name": "stdout",
          "text": [
            "12/12 [==============================] - 0s 2ms/step - loss: 0.1243 - accuracy: 0.9833\n"
          ]
        },
        {
          "output_type": "execute_result",
          "data": {
            "text/plain": [
              "[0.12433768063783646, 0.9833333492279053]"
            ]
          },
          "metadata": {},
          "execution_count": 54
        }
      ]
    },
    {
      "cell_type": "markdown",
      "metadata": {
        "id": "80UZjlzFtV2W"
      },
      "source": [
        "####**interpretation** \n",
        "The best architecture is the one that has 4 layers: \\\n",
        "* 200 neurons in the 1st layer with relu as activation function.\n",
        "* 100 neurons in the second layer with relu as activation function.\n",
        "* 64 neurons in the third layer with relu as activation function. \n",
        "* 10 neurons in the fourth layer with softmax as activation function. \\\n",
        "Error function: categorical crossentropy\\\n",
        "Optimizer: Adam\n",
        "\n",
        "Results metrics : accuracy: 0.9833 - loss: 0.1243\n",
        "\n",
        "=> We need a very large network to achieve high accuracy\n"
      ]
    },
    {
      "cell_type": "markdown",
      "metadata": {
        "id": "pZd5iGNGj95a"
      },
      "source": [
        "###**Best model for olivetti faces dataset**"
      ]
    },
    {
      "cell_type": "markdown",
      "metadata": {
        "id": "YA4JirBT3Asf"
      },
      "source": [
        "**olivetti faces dataset overview**\\\n",
        "![Capture.PNG](data:image/png;base64,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)"
      ]
    },
    {
      "cell_type": "code",
      "metadata": {
        "colab": {
          "base_uri": "https://localhost:8080/"
        },
        "id": "Thr2aICVqz_d",
        "outputId": "c744180c-5b6d-4b39-c489-a123ae2be9fd"
      },
      "source": [
        "#load data\n",
        "olivetti=fetch_olivetti_faces(shuffle=True)\n",
        "data = olivetti.data\n",
        "target=olivetti.target\n",
        "#encode data\n",
        "encoder = LabelEncoder()\n",
        "encoder.fit(target)\n",
        "encoded_Y = encoder.transform(target)\n",
        "# convert integers to dummy variables (i.e. one hot encoded)\n",
        "dummy_y = np_utils.to_categorical(encoded_Y)\n",
        "#split data\n",
        "X_train,X_test,y_train,y_test = train_test_split(data,dummy_y,test_size=0.2, random_state=42)\n",
        "\n",
        "model = Sequential()\n",
        "# Add layers\n",
        "model.add(Dense(300,input_shape=(4096,),activation='relu'))\n",
        "model.add(Dense(100,activation='relu'))\n",
        "model.add(Dense(64,activation='relu'))\n",
        "model.add(Dense(40,activation='softmax'))\n",
        "\n",
        "# Compile the keras model\n",
        "model.compile(loss='categorical_crossentropy', optimizer='adam', metrics =['accuracy'])\n",
        "# Fit the keras model on the dataset\n",
        "model.fit(X_train, y_train, epochs =150, batch_size =100,verbose=0)\n",
        "# Evaluate the keras model\n",
        "model.evaluate(X_test, y_test)"
      ],
      "execution_count": null,
      "outputs": [
        {
          "output_type": "stream",
          "name": "stdout",
          "text": [
            "3/3 [==============================] - 0s 6ms/step - loss: 0.4835 - accuracy: 0.8750\n"
          ]
        },
        {
          "output_type": "execute_result",
          "data": {
            "text/plain": [
              "[0.4834970533847809, 0.875]"
            ]
          },
          "metadata": {},
          "execution_count": 62
        }
      ]
    },
    {
      "cell_type": "markdown",
      "metadata": {
        "id": "5U-7YlBmuqqg"
      },
      "source": [
        "####**interpretation** \n",
        "The best architecture is the one that has 4 layers: \\\n",
        "* 300 neurons in the 1st layer with relu as activation function.\n",
        "* 100 neurons in the second layer with relu as activation function.\n",
        "* 64 neurons in the third layer with relu as activation function. \n",
        "* 40 neurons in the fourth layer with softmax as activation function. \\\n",
        "\n",
        "Error function: categorical crossentropy\\\n",
        "Optimizer: Adam\n",
        "\n",
        "Results metrics : accuracy: 0.8750 - loss: 0.4835 \n",
        "\n",
        "=> We need an even larger network to achieve high accuracy\n"
      ]
    }
  ]
}