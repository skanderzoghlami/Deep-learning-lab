{
 "cells": [
  {
   "cell_type": "markdown",
   "id": "7046dc8c",
   "metadata": {},
   "source": [
    "<div align=\"center\">\n",
    "<h1>Deep learning Practical Assignment 2:\n",
    "<h6>Linear Classifier : Fully connected networks\n",
    "<h4>Lab date : October 25th, 2021\n",
    "<h4>Deadline to submit : November 25th, 2021 - 11:59 PM (23:59)   \n",
    "</div>\n",
    "<h3>Group Members: <ul>\n",
    "    <li> Ahmed Belaaj\n",
    "    <li> Omar Chaabouni\n",
    "    <li> Linna Azaiez\n",
    "    </ul> "
   ]
  },
  {
   "cell_type": "markdown",
   "id": "d124a23d",
   "metadata": {},
   "source": [
    "## Installing required packages :"
   ]
  },
  {
   "cell_type": "code",
   "execution_count": 1,
   "id": "f938a2eb",
   "metadata": {},
   "outputs": [],
   "source": [
    "import numpy as np\n",
    "import matplotlib.pyplot as plt\n",
    "from sklearn.model_selection import train_test_split\n",
    "import warnings\n",
    "warnings.filterwarnings('ignore')"
   ]
  },
  {
   "cell_type": "markdown",
   "id": "d4e87ec5",
   "metadata": {},
   "source": [
    "## 1 Implementing fully connected dataset !!\n",
    "### 1.1 Toy data set"
   ]
  },
  {
   "cell_type": "code",
   "execution_count": 2,
   "id": "d4718154",
   "metadata": {},
   "outputs": [],
   "source": [
    "def prepare_data( var_1 , var_2 ):\n",
    "    mean1= [-1 , 0]\n",
    "    mean2= [1 , 0]\n",
    "    cov_1 = var_1 * np.eye(2) \n",
    "    cov_2 = var_2 * np.eye(2)\n",
    "    x = np.concatenate( (np.random.multivariate_normal(mean1, cov_1, 125) , np.random.multivariate_normal(mean2, cov_2, 125))  )\n",
    "    y = np.concatenate((np.ones(125),-1*np.ones(125)))\n",
    "    x_train, x_test, y_train, y_test = train_test_split(x, y, test_size=0.20, shuffle = True )\n",
    "    return x_train, x_test, y_train, y_test "
   ]
  },
  {
   "cell_type": "code",
   "execution_count": 3,
   "id": "bf12849b",
   "metadata": {},
   "outputs": [],
   "source": [
    "# we set var_1 = var_2 = 0.75\n",
    "var_1 = 0.75\n",
    "var_2 = 0.75\n",
    "x_train, x_test, y_train, y_test = prepare_data( var_1 , var_2 ) "
   ]
  },
  {
   "cell_type": "markdown",
   "id": "c3642572",
   "metadata": {},
   "source": [
    "### 1.2 Using keras"
   ]
  },
  {
   "cell_type": "code",
   "execution_count": 4,
   "id": "b39df7f0",
   "metadata": {},
   "outputs": [
    {
     "name": "stdout",
     "output_type": "stream",
     "text": [
      "Epoch 1/15\n",
      "20/20 - 0s - loss: 7.9402 - accuracy: 0.0900\n",
      "Epoch 2/15\n",
      "20/20 - 0s - loss: 7.8788 - accuracy: 0.2450\n",
      "Epoch 3/15\n",
      "20/20 - 0s - loss: 7.2283 - accuracy: 0.3150\n",
      "Epoch 4/15\n",
      "20/20 - 0s - loss: 5.6037 - accuracy: 0.4150\n",
      "Epoch 5/15\n",
      "20/20 - 0s - loss: 4.7056 - accuracy: 0.5350\n",
      "Epoch 6/15\n",
      "20/20 - 0s - loss: 4.2203 - accuracy: 0.5950\n",
      "Epoch 7/15\n",
      "20/20 - 0s - loss: 3.9081 - accuracy: 0.6800\n",
      "Epoch 8/15\n",
      "20/20 - 0s - loss: 3.5573 - accuracy: 0.7250\n",
      "Epoch 9/15\n",
      "20/20 - 0s - loss: 2.8498 - accuracy: 0.7950\n",
      "Epoch 10/15\n",
      "20/20 - 0s - loss: 2.0451 - accuracy: 0.8950\n",
      "Epoch 11/15\n",
      "20/20 - 0s - loss: 1.8567 - accuracy: 0.9350\n",
      "Epoch 12/15\n",
      "20/20 - 0s - loss: 1.5832 - accuracy: 0.9650\n",
      "Epoch 13/15\n",
      "20/20 - 0s - loss: 1.2984 - accuracy: 0.9800\n",
      "Epoch 14/15\n",
      "20/20 - 0s - loss: 1.0954 - accuracy: 0.9900\n",
      "Epoch 15/15\n",
      "20/20 - 0s - loss: 0.9480 - accuracy: 0.9950\n"
     ]
    },
    {
     "data": {
      "text/plain": [
       "<tensorflow.python.keras.callbacks.History at 0x121eb9705e0>"
      ]
     },
     "execution_count": 4,
     "metadata": {},
     "output_type": "execute_result"
    }
   ],
   "source": [
    "from keras.models import Sequential\n",
    "from keras.layers import Dense ,Dropout\n",
    "from keras.utils import to_categorical\n",
    "\n",
    "model = Sequential()\n",
    "model.add(Dense(8, activation=\"relu\", input_shape=(2,)))\n",
    "model.add( Dense (5 , activation ='relu'))\n",
    "model.add( Dense (2 , activation ='tanh'))\n",
    "\n",
    "model.compile ( loss =\"binary_crossentropy\", optimizer ='adam' , metrics =['accuracy'])\n",
    "model.fit (x_train , to_categorical(y_train) ,  epochs =15 , batch_size =10 ,verbose =2)"
   ]
  },
  {
   "cell_type": "markdown",
   "id": "d16b159b",
   "metadata": {},
   "source": [
    "## 2. The IRIS Dataset"
   ]
  },
  {
   "cell_type": "code",
   "execution_count": 5,
   "id": "39ca60bb",
   "metadata": {},
   "outputs": [],
   "source": [
    "from sklearn.datasets import load_iris\n",
    "from keras.metrics import Precision , Recall\n",
    "(X_iris , y_iris) = load_iris(return_X_y=True , as_frame=True)\n",
    "y_iris = to_categorical(y_iris)\n",
    "x_train, x_test, y_train, y_test = train_test_split(X_iris , y_iris, test_size=0.20, shuffle = True , stratify = y_iris )"
   ]
  },
  {
   "cell_type": "code",
   "execution_count": 6,
   "id": "6f6dcffa",
   "metadata": {},
   "outputs": [],
   "source": [
    "input_dim = x_train.shape[1]\n",
    "output_dim = y_test.shape[1]"
   ]
  },
  {
   "cell_type": "code",
   "execution_count": 7,
   "id": "f6581588",
   "metadata": {},
   "outputs": [],
   "source": [
    "def create_custom_model(input_dim, output_dim, nodes, n , loss , name='model'):\n",
    "    def create_model():\n",
    "        # Create model\n",
    "        model = Sequential(name=name)\n",
    "        model.add(Dense(nodes, input_shape=(input_dim,) , activation='relu'))\n",
    "        for i in range(n-1):\n",
    "            model.add(Dense(nodes, activation='relu'))\n",
    "        model.add(Dense(output_dim, activation='softmax'))\n",
    "\n",
    "        # Compile model\n",
    "        model.compile(loss=loss, \n",
    "                      optimizer='adam', \n",
    "                      metrics=['accuracy',Precision(),Recall()])\n",
    "        return model\n",
    "    return create_model\n",
    "\n",
    "models = [create_custom_model(input_dim, output_dim, 256, 1, \"categorical_crossentropy\" , 'model_1'),\n",
    "          create_custom_model(input_dim, output_dim, 256, 1, \"kl_divergence\" , 'model_2'),\n",
    "          create_custom_model(input_dim, output_dim, 128, 2, \"categorical_crossentropy\" ,'model_3' ),\n",
    "          create_custom_model(input_dim, output_dim, 128, 2, \"kl_divergence\" , 'model_4')\n",
    "          ]"
   ]
  },
  {
   "cell_type": "code",
   "execution_count": 8,
   "id": "fe31528c",
   "metadata": {},
   "outputs": [
    {
     "name": "stdout",
     "output_type": "stream",
     "text": [
      "Model: \"model_1\"\n",
      "_________________________________________________________________\n",
      "Layer (type)                 Output Shape              Param #   \n",
      "=================================================================\n",
      "dense_3 (Dense)              (None, 256)               1280      \n",
      "_________________________________________________________________\n",
      "dense_4 (Dense)              (None, 3)                 771       \n",
      "=================================================================\n",
      "Total params: 2,051\n",
      "Trainable params: 2,051\n",
      "Non-trainable params: 0\n",
      "_________________________________________________________________\n",
      "Model: \"model_2\"\n",
      "_________________________________________________________________\n",
      "Layer (type)                 Output Shape              Param #   \n",
      "=================================================================\n",
      "dense_5 (Dense)              (None, 256)               1280      \n",
      "_________________________________________________________________\n",
      "dense_6 (Dense)              (None, 3)                 771       \n",
      "=================================================================\n",
      "Total params: 2,051\n",
      "Trainable params: 2,051\n",
      "Non-trainable params: 0\n",
      "_________________________________________________________________\n",
      "Model: \"model_3\"\n",
      "_________________________________________________________________\n",
      "Layer (type)                 Output Shape              Param #   \n",
      "=================================================================\n",
      "dense_7 (Dense)              (None, 128)               640       \n",
      "_________________________________________________________________\n",
      "dense_8 (Dense)              (None, 128)               16512     \n",
      "_________________________________________________________________\n",
      "dense_9 (Dense)              (None, 3)                 387       \n",
      "=================================================================\n",
      "Total params: 17,539\n",
      "Trainable params: 17,539\n",
      "Non-trainable params: 0\n",
      "_________________________________________________________________\n",
      "Model: \"model_4\"\n",
      "_________________________________________________________________\n",
      "Layer (type)                 Output Shape              Param #   \n",
      "=================================================================\n",
      "dense_10 (Dense)             (None, 128)               640       \n",
      "_________________________________________________________________\n",
      "dense_11 (Dense)             (None, 128)               16512     \n",
      "_________________________________________________________________\n",
      "dense_12 (Dense)             (None, 3)                 387       \n",
      "=================================================================\n",
      "Total params: 17,539\n",
      "Trainable params: 17,539\n",
      "Non-trainable params: 0\n",
      "_________________________________________________________________\n"
     ]
    }
   ],
   "source": [
    "for model in models:\n",
    "    model().summary()"
   ]
  },
  {
   "cell_type": "markdown",
   "id": "06e6954e",
   "metadata": {},
   "source": [
    "## IRIS dataset\n",
    "### Experiment 1 :"
   ]
  },
  {
   "cell_type": "code",
   "execution_count": 9,
   "id": "abbf6339",
   "metadata": {
    "scrolled": true
   },
   "outputs": [
    {
     "name": "stdout",
     "output_type": "stream",
     "text": [
      "Epoch 1/30\n",
      "12/12 - 0s - loss: 1.0014 - accuracy: 0.3750 - precision_4: 0.6364 - recall_4: 0.1167\n",
      "Epoch 2/30\n",
      "12/12 - 0s - loss: 0.8027 - accuracy: 0.6500 - precision_4: 0.7662 - recall_4: 0.4917\n",
      "Epoch 3/30\n",
      "12/12 - 0s - loss: 0.7096 - accuracy: 0.6917 - precision_4: 0.6506 - recall_4: 0.4500\n",
      "Epoch 4/30\n",
      "12/12 - 0s - loss: 0.6534 - accuracy: 0.6667 - precision_4: 0.6991 - recall_4: 0.6583\n",
      "Epoch 5/30\n",
      "12/12 - 0s - loss: 0.5653 - accuracy: 0.8417 - precision_4: 0.9412 - recall_4: 0.6667\n",
      "Epoch 6/30\n",
      "12/12 - 0s - loss: 0.5176 - accuracy: 0.9417 - precision_4: 0.9877 - recall_4: 0.6667\n",
      "Epoch 7/30\n",
      "12/12 - 0s - loss: 0.4953 - accuracy: 0.7167 - precision_4: 0.8081 - recall_4: 0.6667\n",
      "Epoch 8/30\n",
      "12/12 - 0s - loss: 0.4663 - accuracy: 0.9000 - precision_4: 0.9417 - recall_4: 0.8083\n",
      "Epoch 9/30\n",
      "12/12 - 0s - loss: 0.4384 - accuracy: 0.8833 - precision_4: 0.9048 - recall_4: 0.7917\n",
      "Epoch 10/30\n",
      "12/12 - 0s - loss: 0.4153 - accuracy: 0.9667 - precision_4: 0.9748 - recall_4: 0.9667\n",
      "Epoch 11/30\n",
      "12/12 - 0s - loss: 0.4093 - accuracy: 0.8417 - precision_4: 0.8468 - recall_4: 0.7833\n",
      "Epoch 12/30\n",
      "12/12 - 0s - loss: 0.3794 - accuracy: 0.9667 - precision_4: 0.9667 - recall_4: 0.9667\n",
      "Epoch 13/30\n",
      "12/12 - 0s - loss: 0.3689 - accuracy: 0.9417 - precision_4: 0.9487 - recall_4: 0.9250\n",
      "Epoch 14/30\n",
      "12/12 - 0s - loss: 0.3480 - accuracy: 0.9333 - precision_4: 0.9407 - recall_4: 0.9250\n",
      "Epoch 15/30\n",
      "12/12 - 0s - loss: 0.3390 - accuracy: 0.9417 - precision_4: 0.9496 - recall_4: 0.9417\n",
      "Epoch 16/30\n",
      "12/12 - 0s - loss: 0.3244 - accuracy: 0.9667 - precision_4: 0.9664 - recall_4: 0.9583\n",
      "Epoch 17/30\n",
      "12/12 - 0s - loss: 0.3107 - accuracy: 0.9667 - precision_4: 0.9667 - recall_4: 0.9667\n",
      "Epoch 18/30\n",
      "12/12 - 0s - loss: 0.2970 - accuracy: 0.9667 - precision_4: 0.9664 - recall_4: 0.9583\n",
      "Epoch 19/30\n",
      "12/12 - 0s - loss: 0.2843 - accuracy: 0.9667 - precision_4: 0.9667 - recall_4: 0.9667\n",
      "Epoch 20/30\n",
      "12/12 - 0s - loss: 0.2723 - accuracy: 0.9667 - precision_4: 0.9667 - recall_4: 0.9667\n",
      "Epoch 21/30\n",
      "12/12 - 0s - loss: 0.2714 - accuracy: 0.9750 - precision_4: 0.9748 - recall_4: 0.9667\n",
      "Epoch 22/30\n",
      "12/12 - 0s - loss: 0.2666 - accuracy: 0.9417 - precision_4: 0.9412 - recall_4: 0.9333\n",
      "Epoch 23/30\n",
      "12/12 - 0s - loss: 0.2572 - accuracy: 0.9500 - precision_4: 0.9500 - recall_4: 0.9500\n",
      "Epoch 24/30\n",
      "12/12 - 0s - loss: 0.2398 - accuracy: 0.9667 - precision_4: 0.9748 - recall_4: 0.9667\n",
      "Epoch 25/30\n",
      "12/12 - 0s - loss: 0.2426 - accuracy: 0.9250 - precision_4: 0.9250 - recall_4: 0.9250\n",
      "Epoch 26/30\n",
      "12/12 - 0s - loss: 0.2264 - accuracy: 0.9667 - precision_4: 0.9667 - recall_4: 0.9667\n",
      "Epoch 27/30\n",
      "12/12 - 0s - loss: 0.2105 - accuracy: 0.9667 - precision_4: 0.9667 - recall_4: 0.9667\n",
      "Epoch 28/30\n",
      "12/12 - 0s - loss: 0.2033 - accuracy: 0.9833 - precision_4: 0.9833 - recall_4: 0.9833\n",
      "Epoch 29/30\n",
      "12/12 - 0s - loss: 0.1962 - accuracy: 0.9833 - precision_4: 0.9833 - recall_4: 0.9833\n",
      "Epoch 30/30\n",
      "12/12 - 0s - loss: 0.1914 - accuracy: 0.9833 - precision_4: 0.9833 - recall_4: 0.9833\n"
     ]
    },
    {
     "data": {
      "text/plain": [
       "<tensorflow.python.keras.callbacks.History at 0x121eccf3e20>"
      ]
     },
     "execution_count": 9,
     "metadata": {},
     "output_type": "execute_result"
    }
   ],
   "source": [
    "models[0]().fit(x_train, y_train , epochs =30 , batch_size=10 , verbose =2)"
   ]
  },
  {
   "cell_type": "code",
   "execution_count": 10,
   "id": "7e577351",
   "metadata": {},
   "outputs": [
    {
     "name": "stdout",
     "output_type": "stream",
     "text": [
      "Evaluate on test data\n",
      "1/1 [==============================] - 0s 998us/step - loss: 1.0269 - accuracy: 0.4333 - precision_5: 0.0000e+00 - recall_5: 0.0000e+00\n"
     ]
    },
    {
     "data": {
      "text/plain": [
       "[1.0269447565078735, 0.4333333373069763, 0.0, 0.0]"
      ]
     },
     "execution_count": 10,
     "metadata": {},
     "output_type": "execute_result"
    }
   ],
   "source": [
    "print(\"Evaluate on test data\")\n",
    "models[0]().evaluate(x_test,y_test)"
   ]
  },
  {
   "cell_type": "markdown",
   "id": "ca1d6800",
   "metadata": {},
   "source": [
    "### Experiment 2 :"
   ]
  },
  {
   "cell_type": "code",
   "execution_count": 11,
   "id": "bb3a2698",
   "metadata": {
    "scrolled": true
   },
   "outputs": [
    {
     "name": "stdout",
     "output_type": "stream",
     "text": [
      "Epoch 1/30\n",
      "12/12 - 0s - loss: 1.0031 - accuracy: 0.4167 - precision_6: 0.5000 - recall_6: 0.0500\n",
      "Epoch 2/30\n",
      "12/12 - 0s - loss: 0.8253 - accuracy: 0.6667 - precision_6: 0.7910 - recall_6: 0.4417\n",
      "Epoch 3/30\n",
      "12/12 - 0s - loss: 0.6979 - accuracy: 0.7417 - precision_6: 0.9828 - recall_6: 0.4750\n",
      "Epoch 4/30\n",
      "12/12 - 0s - loss: 0.6144 - accuracy: 0.8917 - precision_6: 1.0000 - recall_6: 0.5167\n",
      "Epoch 5/30\n",
      "12/12 - 0s - loss: 0.5651 - accuracy: 0.7167 - precision_6: 0.8316 - recall_6: 0.6583\n",
      "Epoch 6/30\n",
      "12/12 - 0s - loss: 0.5171 - accuracy: 0.9167 - precision_6: 0.9750 - recall_6: 0.6500\n",
      "Epoch 7/30\n",
      "12/12 - 0s - loss: 0.4854 - accuracy: 0.8417 - precision_6: 0.8788 - recall_6: 0.7250\n",
      "Epoch 8/30\n",
      "12/12 - 0s - loss: 0.4552 - accuracy: 0.8667 - precision_6: 0.8969 - recall_6: 0.7250\n",
      "Epoch 9/30\n",
      "12/12 - 0s - loss: 0.4341 - accuracy: 0.9667 - precision_6: 0.9652 - recall_6: 0.9250\n",
      "Epoch 10/30\n",
      "12/12 - 0s - loss: 0.4082 - accuracy: 0.9417 - precision_6: 0.9474 - recall_6: 0.9000\n",
      "Epoch 11/30\n",
      "12/12 - 0s - loss: 0.3969 - accuracy: 0.9250 - precision_6: 0.9459 - recall_6: 0.8750\n",
      "Epoch 12/30\n",
      "12/12 - 0s - loss: 0.3811 - accuracy: 0.9583 - precision_6: 0.9655 - recall_6: 0.9333\n",
      "Epoch 13/30\n",
      "12/12 - 0s - loss: 0.3725 - accuracy: 0.8917 - precision_6: 0.8917 - recall_6: 0.8917\n",
      "Epoch 14/30\n",
      "12/12 - 0s - loss: 0.3472 - accuracy: 0.9667 - precision_6: 0.9667 - recall_6: 0.9667\n",
      "Epoch 15/30\n",
      "12/12 - 0s - loss: 0.3386 - accuracy: 0.9583 - precision_6: 0.9576 - recall_6: 0.9417\n",
      "Epoch 16/30\n",
      "12/12 - 0s - loss: 0.3192 - accuracy: 0.9583 - precision_6: 0.9576 - recall_6: 0.9417\n",
      "Epoch 17/30\n",
      "12/12 - 0s - loss: 0.3069 - accuracy: 0.9667 - precision_6: 0.9667 - recall_6: 0.9667\n",
      "Epoch 18/30\n",
      "12/12 - 0s - loss: 0.2945 - accuracy: 0.9750 - precision_6: 0.9748 - recall_6: 0.9667\n",
      "Epoch 19/30\n",
      "12/12 - 0s - loss: 0.2827 - accuracy: 0.9667 - precision_6: 0.9667 - recall_6: 0.9667\n",
      "Epoch 20/30\n",
      "12/12 - 0s - loss: 0.2722 - accuracy: 0.9667 - precision_6: 0.9667 - recall_6: 0.9667\n",
      "Epoch 21/30\n",
      "12/12 - 0s - loss: 0.2621 - accuracy: 0.9750 - precision_6: 0.9750 - recall_6: 0.9750\n",
      "Epoch 22/30\n",
      "12/12 - 0s - loss: 0.2607 - accuracy: 0.9583 - precision_6: 0.9580 - recall_6: 0.9500\n",
      "Epoch 23/30\n",
      "12/12 - 0s - loss: 0.2630 - accuracy: 0.9250 - precision_6: 0.9250 - recall_6: 0.9250\n",
      "Epoch 24/30\n",
      "12/12 - 0s - loss: 0.2516 - accuracy: 0.9583 - precision_6: 0.9664 - recall_6: 0.9583\n",
      "Epoch 25/30\n",
      "12/12 - 0s - loss: 0.2273 - accuracy: 0.9667 - precision_6: 0.9667 - recall_6: 0.9667\n",
      "Epoch 26/30\n",
      "12/12 - 0s - loss: 0.2269 - accuracy: 0.9583 - precision_6: 0.9583 - recall_6: 0.9583\n",
      "Epoch 27/30\n",
      "12/12 - 0s - loss: 0.2164 - accuracy: 0.9667 - precision_6: 0.9667 - recall_6: 0.9667\n",
      "Epoch 28/30\n",
      "12/12 - 0s - loss: 0.2065 - accuracy: 0.9667 - precision_6: 0.9667 - recall_6: 0.9667\n",
      "Epoch 29/30\n",
      "12/12 - 0s - loss: 0.1965 - accuracy: 0.9833 - precision_6: 0.9833 - recall_6: 0.9833\n",
      "Epoch 30/30\n",
      "12/12 - 0s - loss: 0.1939 - accuracy: 0.9667 - precision_6: 0.9667 - recall_6: 0.9667\n"
     ]
    },
    {
     "data": {
      "text/plain": [
       "<tensorflow.python.keras.callbacks.History at 0x121edff7430>"
      ]
     },
     "execution_count": 11,
     "metadata": {},
     "output_type": "execute_result"
    }
   ],
   "source": [
    "models[1]().fit(x_train, y_train , epochs =30 , batch_size=10 , verbose =2)"
   ]
  },
  {
   "cell_type": "code",
   "execution_count": 12,
   "id": "9fbb2f2e",
   "metadata": {},
   "outputs": [
    {
     "name": "stdout",
     "output_type": "stream",
     "text": [
      "Evaluate on test data\n",
      "1/1 [==============================] - 0s 1ms/step - loss: 1.2922 - accuracy: 0.3333 - precision_7: 0.5000 - recall_7: 0.3333\n"
     ]
    },
    {
     "data": {
      "text/plain": [
       "[1.2921665906906128, 0.3333333432674408, 0.5, 0.3333333432674408]"
      ]
     },
     "execution_count": 12,
     "metadata": {},
     "output_type": "execute_result"
    }
   ],
   "source": [
    "print(\"Evaluate on test data\")\n",
    "models[1]().evaluate(x_test,y_test)"
   ]
  },
  {
   "cell_type": "markdown",
   "id": "08553b10",
   "metadata": {},
   "source": [
    "### Experiment 3 :"
   ]
  },
  {
   "cell_type": "code",
   "execution_count": 13,
   "id": "101953cc",
   "metadata": {
    "scrolled": false
   },
   "outputs": [
    {
     "name": "stdout",
     "output_type": "stream",
     "text": [
      "Epoch 1/30\n",
      "12/12 - 0s - loss: 0.9461 - accuracy: 0.5167 - precision_8: 0.8000 - recall_8: 0.1667\n",
      "Epoch 2/30\n",
      "12/12 - 0s - loss: 0.6883 - accuracy: 0.7833 - precision_8: 0.8293 - recall_8: 0.5667\n",
      "Epoch 3/30\n",
      "12/12 - 0s - loss: 0.5224 - accuracy: 0.8667 - precision_8: 0.9135 - recall_8: 0.7917\n",
      "Epoch 4/30\n",
      "12/12 - 0s - loss: 0.4277 - accuracy: 0.8167 - precision_8: 0.8725 - recall_8: 0.7417\n",
      "Epoch 5/30\n",
      "12/12 - 0s - loss: 0.3599 - accuracy: 0.9583 - precision_8: 0.9658 - recall_8: 0.9417\n",
      "Epoch 6/30\n",
      "12/12 - 0s - loss: 0.3124 - accuracy: 0.9500 - precision_8: 0.9655 - recall_8: 0.9333\n",
      "Epoch 7/30\n",
      "12/12 - 0s - loss: 0.2804 - accuracy: 0.9500 - precision_8: 0.9500 - recall_8: 0.9500\n",
      "Epoch 8/30\n",
      "12/12 - 0s - loss: 0.2526 - accuracy: 0.9500 - precision_8: 0.9500 - recall_8: 0.9500\n",
      "Epoch 9/30\n",
      "12/12 - 0s - loss: 0.2261 - accuracy: 0.9667 - precision_8: 0.9667 - recall_8: 0.9667\n",
      "Epoch 10/30\n",
      "12/12 - 0s - loss: 0.2178 - accuracy: 0.9417 - precision_8: 0.9417 - recall_8: 0.9417\n",
      "Epoch 11/30\n",
      "12/12 - 0s - loss: 0.1912 - accuracy: 0.9333 - precision_8: 0.9333 - recall_8: 0.9333\n",
      "Epoch 12/30\n",
      "12/12 - 0s - loss: 0.1711 - accuracy: 0.9750 - precision_8: 0.9750 - recall_8: 0.9750\n",
      "Epoch 13/30\n",
      "12/12 - 0s - loss: 0.1527 - accuracy: 0.9583 - precision_8: 0.9583 - recall_8: 0.9583\n",
      "Epoch 14/30\n",
      "12/12 - 0s - loss: 0.1482 - accuracy: 0.9667 - precision_8: 0.9667 - recall_8: 0.9667\n",
      "Epoch 15/30\n",
      "12/12 - 0s - loss: 0.1621 - accuracy: 0.9417 - precision_8: 0.9417 - recall_8: 0.9417\n",
      "Epoch 16/30\n",
      "12/12 - 0s - loss: 0.1346 - accuracy: 0.9583 - precision_8: 0.9583 - recall_8: 0.9583\n",
      "Epoch 17/30\n",
      "12/12 - 0s - loss: 0.1239 - accuracy: 0.9750 - precision_8: 0.9750 - recall_8: 0.9750\n",
      "Epoch 18/30\n",
      "12/12 - 0s - loss: 0.1156 - accuracy: 0.9750 - precision_8: 0.9750 - recall_8: 0.9750\n",
      "Epoch 19/30\n",
      "12/12 - 0s - loss: 0.1175 - accuracy: 0.9667 - precision_8: 0.9667 - recall_8: 0.9667\n",
      "Epoch 20/30\n",
      "12/12 - 0s - loss: 0.1209 - accuracy: 0.9500 - precision_8: 0.9500 - recall_8: 0.9500\n",
      "Epoch 21/30\n",
      "12/12 - 0s - loss: 0.1156 - accuracy: 0.9667 - precision_8: 0.9667 - recall_8: 0.9667\n",
      "Epoch 22/30\n",
      "12/12 - 0s - loss: 0.1320 - accuracy: 0.9250 - precision_8: 0.9250 - recall_8: 0.9250\n",
      "Epoch 23/30\n",
      "12/12 - 0s - loss: 0.1585 - accuracy: 0.9333 - precision_8: 0.9333 - recall_8: 0.9333\n",
      "Epoch 24/30\n",
      "12/12 - 0s - loss: 0.0952 - accuracy: 0.9750 - precision_8: 0.9750 - recall_8: 0.9750\n",
      "Epoch 25/30\n",
      "12/12 - 0s - loss: 0.0989 - accuracy: 0.9583 - precision_8: 0.9583 - recall_8: 0.9583\n",
      "Epoch 26/30\n",
      "12/12 - 0s - loss: 0.1617 - accuracy: 0.9417 - precision_8: 0.9417 - recall_8: 0.9417\n",
      "Epoch 27/30\n",
      "12/12 - 0s - loss: 0.1393 - accuracy: 0.9333 - precision_8: 0.9333 - recall_8: 0.9333\n",
      "Epoch 28/30\n",
      "12/12 - 0s - loss: 0.1314 - accuracy: 0.9500 - precision_8: 0.9500 - recall_8: 0.9500\n",
      "Epoch 29/30\n",
      "12/12 - 0s - loss: 0.0952 - accuracy: 0.9583 - precision_8: 0.9583 - recall_8: 0.9583\n",
      "Epoch 30/30\n",
      "12/12 - 0s - loss: 0.0887 - accuracy: 0.9750 - precision_8: 0.9750 - recall_8: 0.9750\n"
     ]
    },
    {
     "data": {
      "text/plain": [
       "<tensorflow.python.keras.callbacks.History at 0x121f02ddd30>"
      ]
     },
     "execution_count": 13,
     "metadata": {},
     "output_type": "execute_result"
    }
   ],
   "source": [
    "models[2]().fit(x_train, y_train , epochs =30 , batch_size=10 , verbose =2)"
   ]
  },
  {
   "cell_type": "code",
   "execution_count": 14,
   "id": "e0da5bfa",
   "metadata": {},
   "outputs": [
    {
     "name": "stdout",
     "output_type": "stream",
     "text": [
      "Evaluate on test data\n",
      "1/1 [==============================] - 0s 718us/step - loss: 1.2382 - accuracy: 0.3333 - precision_9: 0.0000e+00 - recall_9: 0.0000e+00\n"
     ]
    },
    {
     "data": {
      "text/plain": [
       "[1.2381744384765625, 0.3333333432674408, 0.0, 0.0]"
      ]
     },
     "execution_count": 14,
     "metadata": {},
     "output_type": "execute_result"
    }
   ],
   "source": [
    "print(\"Evaluate on test data\")\n",
    "models[2]().evaluate(x_test,y_test)"
   ]
  },
  {
   "cell_type": "markdown",
   "id": "8a3ec3ea",
   "metadata": {},
   "source": [
    "### Experiment 4"
   ]
  },
  {
   "cell_type": "code",
   "execution_count": 15,
   "id": "11f12a10",
   "metadata": {
    "scrolled": false
   },
   "outputs": [
    {
     "name": "stdout",
     "output_type": "stream",
     "text": [
      "Epoch 1/30\n",
      "12/12 - 0s - loss: 0.8340 - accuracy: 0.6583 - precision_10: 0.9048 - recall_10: 0.3167\n",
      "Epoch 2/30\n",
      "12/12 - 0s - loss: 0.5915 - accuracy: 0.7000 - precision_10: 0.8144 - recall_10: 0.6583\n",
      "Epoch 3/30\n",
      "12/12 - 0s - loss: 0.4700 - accuracy: 0.9417 - precision_10: 0.9712 - recall_10: 0.8417\n",
      "Epoch 4/30\n",
      "12/12 - 0s - loss: 0.4000 - accuracy: 0.8500 - precision_10: 0.8952 - recall_10: 0.7833\n",
      "Epoch 5/30\n",
      "12/12 - 0s - loss: 0.3461 - accuracy: 0.9500 - precision_10: 0.9500 - recall_10: 0.9500\n",
      "Epoch 6/30\n",
      "12/12 - 0s - loss: 0.3113 - accuracy: 0.9000 - precision_10: 0.8992 - recall_10: 0.8917\n",
      "Epoch 7/30\n",
      "12/12 - 0s - loss: 0.2808 - accuracy: 0.9167 - precision_10: 0.9160 - recall_10: 0.9083\n",
      "Epoch 8/30\n",
      "12/12 - 0s - loss: 0.2796 - accuracy: 0.9000 - precision_10: 0.9000 - recall_10: 0.9000\n",
      "Epoch 9/30\n",
      "12/12 - 0s - loss: 0.2579 - accuracy: 0.9000 - precision_10: 0.9000 - recall_10: 0.9000\n",
      "Epoch 10/30\n",
      "12/12 - 0s - loss: 0.2199 - accuracy: 0.9167 - precision_10: 0.9167 - recall_10: 0.9167\n",
      "Epoch 11/30\n",
      "12/12 - 0s - loss: 0.2430 - accuracy: 0.8917 - precision_10: 0.8917 - recall_10: 0.8917\n",
      "Epoch 12/30\n",
      "12/12 - 0s - loss: 0.1857 - accuracy: 0.9500 - precision_10: 0.9500 - recall_10: 0.9500\n",
      "Epoch 13/30\n",
      "12/12 - 0s - loss: 0.1656 - accuracy: 0.9667 - precision_10: 0.9667 - recall_10: 0.9667\n",
      "Epoch 14/30\n",
      "12/12 - 0s - loss: 0.1553 - accuracy: 0.9583 - precision_10: 0.9583 - recall_10: 0.9583\n",
      "Epoch 15/30\n",
      "12/12 - 0s - loss: 0.1392 - accuracy: 0.9750 - precision_10: 0.9750 - recall_10: 0.9750\n",
      "Epoch 16/30\n",
      "12/12 - 0s - loss: 0.1429 - accuracy: 0.9583 - precision_10: 0.9583 - recall_10: 0.9583\n",
      "Epoch 17/30\n",
      "12/12 - 0s - loss: 0.1335 - accuracy: 0.9583 - precision_10: 0.9583 - recall_10: 0.9583\n",
      "Epoch 18/30\n",
      "12/12 - 0s - loss: 0.1436 - accuracy: 0.9417 - precision_10: 0.9417 - recall_10: 0.9417\n",
      "Epoch 19/30\n",
      "12/12 - 0s - loss: 0.1425 - accuracy: 0.9500 - precision_10: 0.9500 - recall_10: 0.9500\n",
      "Epoch 20/30\n",
      "12/12 - 0s - loss: 0.1133 - accuracy: 0.9750 - precision_10: 0.9750 - recall_10: 0.9750\n",
      "Epoch 21/30\n",
      "12/12 - 0s - loss: 0.1107 - accuracy: 0.9667 - precision_10: 0.9667 - recall_10: 0.9667\n",
      "Epoch 22/30\n",
      "12/12 - 0s - loss: 0.1323 - accuracy: 0.9500 - precision_10: 0.9500 - recall_10: 0.9500\n",
      "Epoch 23/30\n",
      "12/12 - 0s - loss: 0.1080 - accuracy: 0.9500 - precision_10: 0.9500 - recall_10: 0.9500\n",
      "Epoch 24/30\n",
      "12/12 - 0s - loss: 0.1006 - accuracy: 0.9833 - precision_10: 0.9833 - recall_10: 0.9833\n",
      "Epoch 25/30\n",
      "12/12 - 0s - loss: 0.1231 - accuracy: 0.9333 - precision_10: 0.9333 - recall_10: 0.9333\n",
      "Epoch 26/30\n",
      "12/12 - 0s - loss: 0.1096 - accuracy: 0.9583 - precision_10: 0.9583 - recall_10: 0.9583\n",
      "Epoch 27/30\n",
      "12/12 - 0s - loss: 0.1102 - accuracy: 0.9500 - precision_10: 0.9500 - recall_10: 0.9500\n",
      "Epoch 28/30\n",
      "12/12 - 0s - loss: 0.1181 - accuracy: 0.9500 - precision_10: 0.9500 - recall_10: 0.9500\n",
      "Epoch 29/30\n",
      "12/12 - 0s - loss: 0.0972 - accuracy: 0.9583 - precision_10: 0.9583 - recall_10: 0.9583\n",
      "Epoch 30/30\n",
      "12/12 - 0s - loss: 0.0937 - accuracy: 0.9750 - precision_10: 0.9750 - recall_10: 0.9750\n"
     ]
    },
    {
     "data": {
      "text/plain": [
       "<tensorflow.python.keras.callbacks.History at 0x121f1613c40>"
      ]
     },
     "execution_count": 15,
     "metadata": {},
     "output_type": "execute_result"
    }
   ],
   "source": [
    "models[3]().fit(x_train, y_train , epochs =30 , batch_size=10 , verbose =2)"
   ]
  },
  {
   "cell_type": "code",
   "execution_count": 16,
   "id": "bdd2821f",
   "metadata": {},
   "outputs": [
    {
     "name": "stdout",
     "output_type": "stream",
     "text": [
      "Evaluate on test data\n",
      "1/1 [==============================] - 0s 998us/step - loss: 1.2921 - accuracy: 0.3333 - precision_11: 0.4167 - recall_11: 0.3333\n"
     ]
    },
    {
     "data": {
      "text/plain": [
       "[1.2920950651168823,\n",
       " 0.3333333432674408,\n",
       " 0.4166666567325592,\n",
       " 0.3333333432674408]"
      ]
     },
     "execution_count": 16,
     "metadata": {},
     "output_type": "execute_result"
    }
   ],
   "source": [
    "print(\"Evaluate on test data\")\n",
    "models[3]().evaluate(x_test,y_test)"
   ]
  },
  {
   "cell_type": "markdown",
   "id": "9c713443",
   "metadata": {},
   "source": [
    "### Comparaison :"
   ]
  },
  {
   "cell_type": "markdown",
   "id": "76b6e117",
   "metadata": {},
   "source": [
    "### Commentaire :\n",
    "Pour les modéle proposés , la meilleure architecture est celle du 2éme modéle (au moment d'exécution) :<br>\n",
    "train: accuracy: 0.9667 - precision: 0.9667 - recall: 0.9667<br>\n",
    "test : accuracy: 0.6333 - precision: 0.0000 - recall: 0.0000<br>\n",
    "2 couches :<br>\n",
    "couche 1 : 256 neurones avec fonction d'activation relu <br>\n",
    "couche 2 : 3 neurones avec fonction d'activation softmax <br>\n",
    "fonction d'erreur : kl_divergence <br>\n",
    "optimisation : Adam <br>\n",
    "metriques : accuracy: 0.9867 - precision: 0.9867 - recall: 0.9867 "
   ]
  },
  {
   "cell_type": "code",
   "execution_count": 18,
   "id": "8a69d161",
   "metadata": {},
   "outputs": [
    {
     "name": "stdout",
     "output_type": "stream",
     "text": [
      "Model: \"model_2\"\n",
      "_________________________________________________________________\n",
      "Layer (type)                 Output Shape              Param #   \n",
      "=================================================================\n",
      "dense_33 (Dense)             (None, 256)               1280      \n",
      "_________________________________________________________________\n",
      "dense_34 (Dense)             (None, 3)                 771       \n",
      "=================================================================\n",
      "Total params: 2,051\n",
      "Trainable params: 2,051\n",
      "Non-trainable params: 0\n",
      "_________________________________________________________________\n"
     ]
    }
   ],
   "source": [
    "models[1]().summary()"
   ]
  },
  {
   "cell_type": "markdown",
   "id": "20c6e3c9",
   "metadata": {},
   "source": [
    "## 3 Working towards the CNN\n",
    "### Digit dataset"
   ]
  },
  {
   "cell_type": "code",
   "execution_count": 20,
   "id": "29336571",
   "metadata": {},
   "outputs": [],
   "source": [
    "from sklearn.datasets import load_digits\n",
    "(X_digits , y_digits) = load_digits(return_X_y=True , as_frame=True)"
   ]
  },
  {
   "cell_type": "code",
   "execution_count": 21,
   "id": "a1d56a53",
   "metadata": {},
   "outputs": [
    {
     "name": "stdout",
     "output_type": "stream",
     "text": [
      "Epoch 1/10\n",
      "57/57 - 0s - loss: 1.4107 - accuracy: 0.6422 - precision_14: 0.7203 - recall_14: 0.5760\n",
      "Epoch 2/10\n",
      "57/57 - 0s - loss: 0.3074 - accuracy: 0.8993 - precision_14: 0.9220 - recall_14: 0.8753\n",
      "Epoch 3/10\n",
      "57/57 - 0s - loss: 0.1654 - accuracy: 0.9466 - precision_14: 0.9605 - recall_14: 0.9343\n",
      "Epoch 4/10\n",
      "57/57 - 0s - loss: 0.1229 - accuracy: 0.9605 - precision_14: 0.9673 - recall_14: 0.9538\n",
      "Epoch 5/10\n",
      "57/57 - 0s - loss: 0.0868 - accuracy: 0.9711 - precision_14: 0.9747 - recall_14: 0.9655\n",
      "Epoch 6/10\n",
      "57/57 - 0s - loss: 0.0624 - accuracy: 0.9789 - precision_14: 0.9832 - recall_14: 0.9766\n",
      "Epoch 7/10\n",
      "57/57 - 0s - loss: 0.0555 - accuracy: 0.9839 - precision_14: 0.9855 - recall_14: 0.9805\n",
      "Epoch 8/10\n",
      "57/57 - 0s - loss: 0.0482 - accuracy: 0.9866 - precision_14: 0.9905 - recall_14: 0.9844\n",
      "Epoch 9/10\n",
      "57/57 - 0s - loss: 0.0413 - accuracy: 0.9883 - precision_14: 0.9899 - recall_14: 0.9866\n",
      "Epoch 10/10\n",
      "57/57 - 0s - loss: 0.0276 - accuracy: 0.9928 - precision_14: 0.9939 - recall_14: 0.9911\n"
     ]
    },
    {
     "data": {
      "text/plain": [
       "<tensorflow.python.keras.callbacks.History at 0x121f3c39910>"
      ]
     },
     "execution_count": 21,
     "metadata": {},
     "output_type": "execute_result"
    }
   ],
   "source": [
    "model = Sequential()\n",
    "model.add(Dense(128 , activation='relu' , input_shape=(64,)))\n",
    "# network.add(Dense(10, activation='relu', input_shape=(4,)))\n",
    "model.add(Dense(128 , activation='relu'))\n",
    "model.add(Dropout(0.2))\n",
    "model.add(Dense(10 , activation='softmax'))\n",
    "model.compile(optimizer='adam' , loss = 'categorical_crossentropy' , metrics=['accuracy',Precision(),Recall()])\n",
    "model.fit(X_digits , to_categorical(y_digits) , epochs = 10  ,verbose = 2 )"
   ]
  },
  {
   "cell_type": "markdown",
   "id": "bfaf929e",
   "metadata": {},
   "source": [
    "### Faces Dataset"
   ]
  },
  {
   "cell_type": "code",
   "execution_count": 22,
   "id": "2bfb7bea",
   "metadata": {},
   "outputs": [],
   "source": [
    "from sklearn.datasets import fetch_olivetti_faces\n",
    "dataset = fetch_olivetti_faces(shuffle=True)"
   ]
  },
  {
   "cell_type": "code",
   "execution_count": 23,
   "id": "46706179",
   "metadata": {},
   "outputs": [],
   "source": [
    "x = dataset.data\n",
    "y = dataset.target"
   ]
  },
  {
   "cell_type": "code",
   "execution_count": 29,
   "id": "d17a9d00",
   "metadata": {},
   "outputs": [
    {
     "name": "stdout",
     "output_type": "stream",
     "text": [
      "Epoch 1/10\n",
      "13/13 - 0s - loss: 4.4733 - accuracy: 0.0225\n",
      "Epoch 2/10\n",
      "13/13 - 0s - loss: 3.8322 - accuracy: 0.0275\n",
      "Epoch 3/10\n",
      "13/13 - 0s - loss: 3.6157 - accuracy: 0.0525\n",
      "Epoch 4/10\n",
      "13/13 - 0s - loss: 3.4822 - accuracy: 0.0850\n",
      "Epoch 5/10\n",
      "13/13 - 0s - loss: 3.2459 - accuracy: 0.1800\n",
      "Epoch 6/10\n",
      "13/13 - 0s - loss: 3.0323 - accuracy: 0.2100\n",
      "Epoch 7/10\n",
      "13/13 - 0s - loss: 2.8081 - accuracy: 0.2725\n",
      "Epoch 8/10\n",
      "13/13 - 0s - loss: 2.4662 - accuracy: 0.3775\n",
      "Epoch 9/10\n",
      "13/13 - 0s - loss: 2.1335 - accuracy: 0.4625\n",
      "Epoch 10/10\n",
      "13/13 - 0s - loss: 1.8170 - accuracy: 0.5775\n"
     ]
    },
    {
     "data": {
      "text/plain": [
       "<tensorflow.python.keras.callbacks.History at 0x121f151b220>"
      ]
     },
     "execution_count": 29,
     "metadata": {},
     "output_type": "execute_result"
    }
   ],
   "source": [
    "model = Sequential()\n",
    "model.add(Dense(512 , activation='relu' , input_shape=(4096,)))\n",
    "model.add(Dense(512 , activation='relu'))\n",
    "model.add(Dense(40 , activation='softmax'))\n",
    "model.compile(optimizer='adam' , loss = 'categorical_crossentropy' , metrics=['accuracy'])\n",
    "model.fit(x , to_categorical(y) , epochs = 10  ,verbose = 2 )"
   ]
  },
  {
   "cell_type": "code",
   "execution_count": 25,
   "id": "6f20cb99",
   "metadata": {},
   "outputs": [
    {
     "name": "stdout",
     "output_type": "stream",
     "text": [
      "Model: \"sequential_3\"\n",
      "_________________________________________________________________\n",
      "Layer (type)                 Output Shape              Param #   \n",
      "=================================================================\n",
      "dense_41 (Dense)             (None, 512)               2097664   \n",
      "_________________________________________________________________\n",
      "dense_42 (Dense)             (None, 512)               262656    \n",
      "_________________________________________________________________\n",
      "dense_43 (Dense)             (None, 512)               262656    \n",
      "_________________________________________________________________\n",
      "dense_44 (Dense)             (None, 40)                20520     \n",
      "=================================================================\n",
      "Total params: 2,643,496\n",
      "Trainable params: 2,643,496\n",
      "Non-trainable params: 0\n",
      "_________________________________________________________________\n"
     ]
    }
   ],
   "source": [
    "model.summary()"
   ]
  }
 ],
 "metadata": {
  "kernelspec": {
   "display_name": "Python 3",
   "language": "python",
   "name": "python3"
  },
  "language_info": {
   "codemirror_mode": {
    "name": "ipython",
    "version": 3
   },
   "file_extension": ".py",
   "mimetype": "text/x-python",
   "name": "python",
   "nbconvert_exporter": "python",
   "pygments_lexer": "ipython3",
   "version": "3.8.8"
  }
 },
 "nbformat": 4,
 "nbformat_minor": 5
}
