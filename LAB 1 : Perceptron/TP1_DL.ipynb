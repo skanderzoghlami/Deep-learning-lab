{
 "cells": [
  {
   "cell_type": "markdown",
   "id": "baa3c7e1",
   "metadata": {},
   "source": [
    "# Deep Learning Practical Assignment 1"
   ]
  },
  {
   "cell_type": "markdown",
   "id": "9756355e",
   "metadata": {},
   "source": [
    "## Theoretical Questions"
   ]
  },
  {
   "cell_type": "markdown",
   "id": "b0916040",
   "metadata": {},
   "source": [
    "### QUESTION 1"
   ]
  },
  {
   "cell_type": "markdown",
   "id": "7ae3c578",
   "metadata": {},
   "source": [
    "In this section, we are trying to understand the space and time complexity of the Perceptron algorithm."
   ]
  },
  {
   "cell_type": "markdown",
   "id": "42a5474c",
   "metadata": {},
   "source": [
    "### Question 1.a"
   ]
  },
  {
   "cell_type": "markdown",
   "id": "018541d7",
   "metadata": {},
   "source": [
    "The computational/time complexity is the time that the algorithm needs to run.\n",
    "In the case of this basic Perceptron algorithm, the first loop which is composed of n iterations, which contains another loop that iterates on the entire dataset composed of m instances.\n",
    "The complexity is then O(m*n)"
   ]
  },
  {
   "cell_type": "markdown",
   "id": "0d36d7fc",
   "metadata": {},
   "source": [
    "### Question 1.b"
   ]
  },
  {
   "cell_type": "markdown",
   "id": "311e8511",
   "metadata": {},
   "source": [
    "The space complexity is the memory space needed by an algorithm in order to execute, icluding space taken by the input values.\n",
    "In the case of the basic Perceptron algorithm, we have the size of an integer as 4 bytes. For our input dataset S we have m instances composed of x which is composed of d values and y, the total is then 4md + 4m. For the weight inout w, it is an integer with d values, we get a total of 4d. For the other two inputs n and t, they are integers so we get 4+4 bytes. Combined we get a total of 4md + 4m + 4d + 4 +4.\n",
    "Therefore, the total space complexity is O(m*d)"
   ]
  },
  {
   "cell_type": "markdown",
   "id": "3f501ea3",
   "metadata": {},
   "source": [
    "## Package Installation Section"
   ]
  },
  {
   "cell_type": "code",
   "execution_count": 20,
   "id": "0531493b",
   "metadata": {},
   "outputs": [
    {
     "name": "stdout",
     "output_type": "stream",
     "text": [
      "Requirement already satisfied: matplotlib==3.2.2 in /home/jupyter/DL/jupyter_env/lib/python3.8/site-packages (3.2.2)\n",
      "Requirement already satisfied: numpy==1.19.5 in /home/jupyter/DL/jupyter_env/lib/python3.8/site-packages (1.19.5)\n",
      "Requirement already satisfied: scikit-learn==0.22.2.post1 in /home/jupyter/DL/jupyter_env/lib/python3.8/site-packages (0.22.2.post1)\n",
      "Requirement already satisfied: cycler>=0.10 in /home/jupyter/DL/jupyter_env/lib/python3.8/site-packages (from matplotlib==3.2.2) (0.10.0)\n",
      "Requirement already satisfied: python-dateutil>=2.1 in /home/jupyter/DL/jupyter_env/lib/python3.8/site-packages (from matplotlib==3.2.2) (2.8.2)\n",
      "Requirement already satisfied: kiwisolver>=1.0.1 in /home/jupyter/DL/jupyter_env/lib/python3.8/site-packages (from matplotlib==3.2.2) (1.3.2)\n",
      "Requirement already satisfied: pyparsing!=2.0.4,!=2.1.2,!=2.1.6,>=2.0.1 in /home/jupyter/DL/jupyter_env/lib/python3.8/site-packages (from matplotlib==3.2.2) (2.4.7)\n",
      "Requirement already satisfied: scipy>=0.17.0 in /home/jupyter/DL/jupyter_env/lib/python3.8/site-packages (from scikit-learn==0.22.2.post1) (1.7.1)\n",
      "Requirement already satisfied: joblib>=0.11 in /home/jupyter/DL/jupyter_env/lib/python3.8/site-packages (from scikit-learn==0.22.2.post1) (1.1.0)\n",
      "Requirement already satisfied: six in /home/jupyter/DL/jupyter_env/lib/python3.8/site-packages (from cycler>=0.10->matplotlib==3.2.2) (1.16.0)\n"
     ]
    }
   ],
   "source": [
    "!pip install matplotlib==3.2.2 numpy==1.19.5 scikit-learn==0.22.2.post1"
   ]
  },
  {
   "cell_type": "markdown",
   "id": "c75d8829",
   "metadata": {},
   "source": [
    "## Implementation section"
   ]
  },
  {
   "cell_type": "code",
   "execution_count": 46,
   "id": "caea9d87",
   "metadata": {},
   "outputs": [],
   "source": [
    "import matplotlib.pyplot as plt\n",
    "import numpy as np\n",
    "from sklearn.model_selection import train_test_split\n",
    "import operator"
   ]
  },
  {
   "cell_type": "code",
   "execution_count": 47,
   "id": "0a2cbf65",
   "metadata": {},
   "outputs": [],
   "source": [
    "def prepare_dataset(sigma1, sigma2):\n",
    "    mu1 = [-1,0] \n",
    "    mu2 = [1,0]\n",
    "    x = []\n",
    "    \n",
    "    x1 = np.random.normal(mu1, sigma1,size=(125,2))\n",
    "    x2 = np.random.normal(mu2, sigma2,size=(125,2))\n",
    "    x = np.concatenate((x1,x2),axis=0)\n",
    "    \n",
    "    s=[]\n",
    "    for i in range(125):\n",
    "        s.append(np.append(x[i],-1))\n",
    "    for i in range(125,250):\n",
    "        s.append(np.append(x[i],1))\n",
    "        \n",
    "    return s"
   ]
  },
  {
   "cell_type": "code",
   "execution_count": 48,
   "id": "0f63697a",
   "metadata": {},
   "outputs": [],
   "source": [
    "def distribution_plot(X,y):\n",
    "    \n",
    "    #plotting the distribution\n",
    "    for i,j in zip(X,y):\n",
    "        if (j == -1):\n",
    "            plt.scatter(i[0],i[1],c=\"red\",marker='+')\n",
    "        else:\n",
    "            plt.scatter(i[0],i[1],c=\"blue\",marker='o')"
   ]
  },
  {
   "cell_type": "code",
   "execution_count": 49,
   "id": "34fc3a46",
   "metadata": {},
   "outputs": [],
   "source": [
    "def get_X_y(s):\n",
    "    #extracting X and y parameters with data = (xi,yi) and xi = (x1,x2)\n",
    "    X = []\n",
    "    y = []\n",
    "    for data in s:\n",
    "        X.append(data[:2])\n",
    "        y.append(data[2:])\n",
    "    return (X,y)"
   ]
  },
  {
   "cell_type": "code",
   "execution_count": 50,
   "id": "fe84fdbd",
   "metadata": {
    "scrolled": true
   },
   "outputs": [],
   "source": [
    "def train_test_set(X,y):        \n",
    "    #we set shuffle parameter to True so it shuffles the dataset before splitting\n",
    "    X_train, X_test, y_train, y_test = train_test_split(X, y, test_size=0.2, random_state=42, shuffle=True)\n",
    "    return (X_train, X_test, y_train, y_test)"
   ]
  },
  {
   "cell_type": "code",
   "execution_count": 51,
   "id": "22e169a9",
   "metadata": {},
   "outputs": [],
   "source": [
    "def perceptron(X,y,n):\n",
    "    \n",
    "    w = np.zeros((1,2))\n",
    "    w_ = np.zeros((1,2))\n",
    "    \n",
    "    for i in range(n):\n",
    "        for xi,yi in zip(X,y) :\n",
    "            if  yi * np.inner(xi,w) <= 0 : \n",
    "                w_ = w\n",
    "                w = w + yi * xi \n",
    "        # Checking if the weight hasn't been updated, if so, return the current value        \n",
    "        if (w == w_).all() :\n",
    "            return w\n",
    "    return w"
   ]
  },
  {
   "cell_type": "code",
   "execution_count": 52,
   "id": "d8945247",
   "metadata": {},
   "outputs": [],
   "source": [
    "def decision_boundary (X,y,w):\n",
    "    \n",
    "    plt.xlim([-2, 2])\n",
    "    plt.ylim([-2, 2])\n",
    "    \n",
    "    #plotting the training set\n",
    "    distribution_plot(X,y)\n",
    "    \n",
    "    a = -w[0][0] / w[0][1]\n",
    "    #i = np.linspace(-1,1)\n",
    "    i = np.linspace(np.amin(X), np.amax(X))\n",
    "    #print (np.array(i))\n",
    "    y = a * i / w[0][1]\n",
    "    plt.plot(i, y,'k-')"
   ]
  },
  {
   "cell_type": "code",
   "execution_count": 53,
   "id": "3ba46552",
   "metadata": {},
   "outputs": [],
   "source": [
    "def predict(X, w):\n",
    "    pred = np.inner(X,w) \n",
    "    if pred > 0 :\n",
    "        return 1\n",
    "    else:\n",
    "        return -1"
   ]
  },
  {
   "cell_type": "code",
   "execution_count": 54,
   "id": "2b7cdf68",
   "metadata": {},
   "outputs": [],
   "source": [
    "def error(X,y,w):\n",
    "    error = 0\n",
    "    for i, Xi in enumerate(X):\n",
    "        prediction = predict(Xi, w)\n",
    "        if (prediction != y[i]):\n",
    "            error += 1\n",
    "    return error/len(X)"
   ]
  },
  {
   "cell_type": "code",
   "execution_count": 55,
   "id": "d7f1f6c8",
   "metadata": {},
   "outputs": [],
   "source": [
    "def accuracy(X,y,w):\n",
    "    return 1-error(X,y,w)"
   ]
  },
  {
   "cell_type": "markdown",
   "id": "810e14d4",
   "metadata": {},
   "source": [
    "# Experiment 1"
   ]
  },
  {
   "cell_type": "code",
   "execution_count": 58,
   "id": "12e678b8",
   "metadata": {},
   "outputs": [],
   "source": [
    "#the dataset declaration\n",
    "s = prepare_dataset(0.25, 0.25)\n",
    "X, y = get_X_y(s)\n",
    "#split dataset into train and test sets\n",
    "X_train, X_test, y_train, y_test = train_test_set(X,y)"
   ]
  },
  {
   "cell_type": "code",
   "execution_count": 59,
   "id": "ea271858",
   "metadata": {},
   "outputs": [
    {
     "data": {
      "image/png": "[encoded data removed]",
      "text/plain": [
       "<Figure size 432x288 with 1 Axes>"
      ]
     },
     "metadata": {
      "needs_background": "light"
     },
     "output_type": "display_data"
    }
   ],
   "source": [
    "#plotting the distribution\n",
    "distribution_plot(X,y)"
   ]
  },
  {
   "cell_type": "markdown",
   "id": "a59d9518",
   "metadata": {},
   "source": [
    "Visibly, we can distinguish the two classes (red and blue). They are linearly separable.\n",
    "We can conclude that the algorithm converges."
   ]
  },
  {
   "cell_type": "code",
   "execution_count": 60,
   "id": "c0b6ecb4",
   "metadata": {},
   "outputs": [
    {
     "name": "stdout",
     "output_type": "stream",
     "text": [
      "[[0.81493491 0.23967265]]\n"
     ]
    }
   ],
   "source": [
    "w = perceptron(X,y,10)\n",
    "print(w)"
   ]
  },
  {
   "cell_type": "code",
   "execution_count": 61,
   "id": "5df28acf",
   "metadata": {},
   "outputs": [
    {
     "data": {
      "image/png": "[encoded data removed]",
      "text/plain": [
       "<Figure size 432x288 with 1 Axes>"
      ]
     },
     "metadata": {
      "needs_background": "light"
     },
     "output_type": "display_data"
    }
   ],
   "source": [
    "decision_boundary(X,y,w)"
   ]
  },
  {
   "cell_type": "markdown",
   "id": "e9269207",
   "metadata": {},
   "source": [
    "For the same initialisation of the weight value, the decision boundary is unique.\n",
    "However, if we change the initialisation, the decision boundary will differ."
   ]
  },
  {
   "cell_type": "code",
   "execution_count": 62,
   "id": "87a533a2",
   "metadata": {},
   "outputs": [
    {
     "name": "stdout",
     "output_type": "stream",
     "text": [
      "The accuracy of the test set is = 1.0\n"
     ]
    }
   ],
   "source": [
    "#The accuracy of the classification on the test set\n",
    "acc = accuracy(X_test, y_test, w)\n",
    "print(\"The accuracy of the test set is = \"+ str(acc))"
   ]
  },
  {
   "cell_type": "code",
   "execution_count": 63,
   "id": "75b1b5d0",
   "metadata": {},
   "outputs": [
    {
     "data": {
      "image/png": "[encoded data removed]",
      "text/plain": [
       "<Figure size 432x288 with 1 Axes>"
      ]
     },
     "metadata": {
      "needs_background": "light"
     },
     "output_type": "display_data"
    }
   ],
   "source": [
    "#Plotting the decision boundary on the test set\n",
    "decision_boundary(X_test,y_test,w)"
   ]
  },
  {
   "cell_type": "markdown",
   "id": "4e2a9f18",
   "metadata": {},
   "source": [
    "# Experiment 2"
   ]
  },
  {
   "cell_type": "code",
   "execution_count": 64,
   "id": "a57cee3f",
   "metadata": {},
   "outputs": [],
   "source": [
    "#the dataset declaration\n",
    "s = prepare_dataset(0.75, 0.75)\n",
    "X, y = get_X_y(s)"
   ]
  },
  {
   "cell_type": "code",
   "execution_count": 65,
   "id": "5ab8b87e",
   "metadata": {},
   "outputs": [],
   "source": [
    "#split dataset into train and test sets\n",
    "X_train, X_test, y_train, y_test = train_test_set(X,y)"
   ]
  },
  {
   "cell_type": "code",
   "execution_count": 66,
   "id": "a11c3942",
   "metadata": {},
   "outputs": [
    {
     "data": {
      "image/png": "[encoded data removed]",
      "text/plain": [
       "<Figure size 432x288 with 1 Axes>"
      ]
     },
     "metadata": {
      "needs_background": "light"
     },
     "output_type": "display_data"
    }
   ],
   "source": [
    "#plotting the distribution\n",
    "distribution_plot(X,y)"
   ]
  },
  {
   "cell_type": "markdown",
   "id": "6a8d4894",
   "metadata": {},
   "source": [
    "We can clearly see that after changing the variance value of the gaussian distribution from 0.25 to 0.75, the datapoints are no longer linearly separable. Thus, the Perceptron algorithm does not converge."
   ]
  },
  {
   "cell_type": "code",
   "execution_count": 67,
   "id": "09e2b212",
   "metadata": {},
   "outputs": [
    {
     "name": "stdout",
     "output_type": "stream",
     "text": [
      "[[ 1.78821975 -0.49201984]]\n"
     ]
    }
   ],
   "source": [
    "w = perceptron(X,y,10)\n",
    "print(w)"
   ]
  },
  {
   "cell_type": "code",
   "execution_count": 68,
   "id": "8dc32684",
   "metadata": {},
   "outputs": [
    {
     "data": {
      "image/png": "[encoded data removed]",
      "text/plain": [
       "<Figure size 432x288 with 1 Axes>"
      ]
     },
     "metadata": {
      "needs_background": "light"
     },
     "output_type": "display_data"
    }
   ],
   "source": [
    "decision_boundary(X,y,w)"
   ]
  },
  {
   "cell_type": "markdown",
   "id": "1ce4dd47",
   "metadata": {},
   "source": [
    "For the same initialisation of the weight values, the decision boundary is unique. However, for different initialisation values, the decision boundary is different."
   ]
  },
  {
   "cell_type": "code",
   "execution_count": 69,
   "id": "dfe29089",
   "metadata": {},
   "outputs": [
    {
     "name": "stdout",
     "output_type": "stream",
     "text": [
      "Accuracy = 0.98\n"
     ]
    }
   ],
   "source": [
    "#The accuracy of the classification on the test set\n",
    "acc = accuracy(X_test, y_test, w)\n",
    "print(\"Accuracy = \"+ str(acc))"
   ]
  },
  {
   "cell_type": "code",
   "execution_count": 70,
   "id": "5919f957",
   "metadata": {},
   "outputs": [
    {
     "data": {
      "image/png": "[encoded data removed]",
      "text/plain": [
       "<Figure size 432x288 with 1 Axes>"
      ]
     },
     "metadata": {
      "needs_background": "light"
     },
     "output_type": "display_data"
    }
   ],
   "source": [
    "#Plotting the decision boundary on the test set\n",
    "decision_boundary(X_test,y_test,w)"
   ]
  },
  {
   "cell_type": "markdown",
   "id": "90079d10",
   "metadata": {},
   "source": [
    "# Experiment 3"
   ]
  },
  {
   "cell_type": "code",
   "execution_count": 73,
   "id": "6d9b2c96",
   "metadata": {},
   "outputs": [],
   "source": [
    "def meanSigmas(sigma):\n",
    "    \n",
    "    #we store the errors of multiple experiments\n",
    "    errors = []\n",
    "    \n",
    "    for i in range(30):\n",
    "        #we generate the dataset\n",
    "        s = prepare_dataset(sigma, sigma)\n",
    "        X,y = get_X_y(s)\n",
    "        \n",
    "        #we train our model\n",
    "        X_train, X_test, y_train, y_test = train_test_set(X,y)\n",
    "        w = perceptron(X_train, y_train, 10)\n",
    "        \n",
    "        #we calculate the error on the test set\n",
    "        error_ = error(X_test, y_test, w)\n",
    "        errors.append(error_)\n",
    "        \n",
    "    #the variance of the stored errors\n",
    "    var = np.var(errors)\n",
    "    #the mean of the stored errors\n",
    "    mean = np.mean(errors)\n",
    "    \n",
    "    return var, mean"
   ]
  },
  {
   "cell_type": "code",
   "execution_count": 95,
   "id": "6d44d326",
   "metadata": {},
   "outputs": [
    {
     "name": "stdout",
     "output_type": "stream",
     "text": [
      "for sigma0 = 0.01 variance = 0.0 and  the mean = 0.0\n",
      "for sigma1 = 0.1 variance = 0.0 and  the mean = 0.0\n",
      "for sigma2 = 0.25 variance = 0.0 and  the mean = 0.0\n",
      "for sigma3 = 0.5 variance = 0.0006706666666666669 and  the mean = 0.034\n",
      "for sigma4 = 0.7 variance = 0.003112888888888889 and  the mean = 0.09066666666666667\n",
      "for sigma5 = 0.75 variance = 0.004764888888888888 and  the mean = 0.12466666666666669\n",
      "for sigma6 = 1 variance = 0.013639555555555554 and  the mean = 0.2206666666666667\n"
     ]
    }
   ],
   "source": [
    "# the variance values\n",
    "sigmas=[0.01, 0.1,0.25,0.5,0.7,0.75,1]\n",
    "\n",
    "#we store the mean and var for each sigma and store them\n",
    "mean_results = []\n",
    "var_results = []\n",
    "\n",
    "for count,sigma in enumerate(sigmas):\n",
    "    var, mean = meanSigmas(sigma)\n",
    "    print(\"for sigma\"+str(count)+\" = \"+ str(sigma)+ \" variance = \" + str(var)+ \" and  the mean = \"+str(mean))\n",
    "    var_results.append(var)\n",
    "    mean_results.append(mean)"
   ]
  },
  {
   "cell_type": "code",
   "execution_count": 98,
   "id": "75b3a993",
   "metadata": {},
   "outputs": [
    {
     "data": {
      "text/plain": [
       "Text(0.5, 1.0, 'Error visualisation')"
      ]
     },
     "execution_count": 98,
     "metadata": {},
     "output_type": "execute_result"
    },
    {
     "data": {
      "image/png": "[encoded data removed]",
      "text/plain": [
       "<Figure size 432x288 with 1 Axes>"
      ]
     },
     "metadata": {
      "needs_background": "light"
     },
     "output_type": "display_data"
    }
   ],
   "source": [
    "plt.figure()\n",
    "plt.errorbar(x=sigmas, y=mean_results, yerr=var_results)\n",
    "plt.xlabel('Sigmas')\n",
    "plt.ylabel('Means')\n",
    "plt.title (\"Error visualisation\")"
   ]
  },
  {
   "cell_type": "markdown",
   "id": "3c68e4a3",
   "metadata": {},
   "source": [
    "According to this result, we can notice that by increasing the values of sigma1 and sigma2, the error value also increases."
   ]
  }
 ],
 "metadata": {
  "kernelspec": {
   "display_name": "Python 3 (ipykernel)",
   "language": "python",
   "name": "python3"
  },
  "language_info": {
   "codemirror_mode": {
    "name": "ipython",
    "version": 3
   },
   "file_extension": ".py",
   "mimetype": "text/x-python",
   "name": "python",
   "nbconvert_exporter": "python",
   "pygments_lexer": "ipython3",
   "version": "3.8.10"
  }
 },
 "nbformat": 4,
 "nbformat_minor": 5
}
