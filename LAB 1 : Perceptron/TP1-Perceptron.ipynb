{
 "cells": [
  {
   "cell_type": "markdown",
   "metadata": {},
   "source": [
    "# Quesitons"
   ]
  },
  {
   "cell_type": "markdown",
   "metadata": {},
   "source": [
    "Q1-a : \n",
    "    Computational/Time Complexity: \n",
    "    The first loop do the n iterations, in each itération, we will travel our entire training dataset which have m instance, for each instance, we have d multiplications which is the length of our element. \n",
    "    so we can say that the time complexity is the multiplication of the 3 previous named variable. \n",
    "    And therefor, we will get an o(n  m  d)"
   ]
  },
  {
   "cell_type": "markdown",
   "metadata": {},
   "source": [
    "Q1-b : \n",
    "    Space Complexity: we will take the variable that take most space in memory which is our weight w with d as dimension. \n",
    "    So the space complexity will be o(d+1)"
   ]
  },
  {
   "cell_type": "markdown",
   "metadata": {},
   "source": [
    "# Installing Packages "
   ]
  },
  {
   "cell_type": "code",
   "execution_count": 3,
   "metadata": {},
   "outputs": [
    {
     "name": "stdout",
     "output_type": "stream",
     "text": [
      "Collecting numpy==1.19.5\n",
      "  Downloading numpy-1.19.5-cp38-cp38-win_amd64.whl (13.3 MB)\n",
      "Installing collected packages: numpy\n",
      "  Attempting uninstall: numpy\n",
      "    Found existing installation: numpy 1.18.5\n",
      "    Uninstalling numpy-1.18.5:\n",
      "      Successfully uninstalled numpy-1.18.5\n",
      "Successfully installed numpy-1.19.5\n",
      "Requirement already satisfied: matplotlib==3.2.2 in c:\\users\\oussema\\anaconda3\\lib\\site-packages (3.2.2)\n",
      "Requirement already satisfied: cycler>=0.10 in c:\\users\\oussema\\anaconda3\\lib\\site-packages (from matplotlib==3.2.2) (0.10.0)\n",
      "Requirement already satisfied: pyparsing!=2.0.4,!=2.1.2,!=2.1.6,>=2.0.1 in c:\\users\\oussema\\anaconda3\\lib\\site-packages (from matplotlib==3.2.2) (2.4.7)\n",
      "Requirement already satisfied: kiwisolver>=1.0.1 in c:\\users\\oussema\\anaconda3\\lib\\site-packages (from matplotlib==3.2.2) (1.2.0)\n",
      "Requirement already satisfied: python-dateutil>=2.1 in c:\\users\\oussema\\anaconda3\\lib\\site-packages (from matplotlib==3.2.2) (2.8.1)\n",
      "Requirement already satisfied: numpy>=1.11 in c:\\users\\oussema\\anaconda3\\lib\\site-packages (from matplotlib==3.2.2) (1.19.5)\n",
      "Requirement already satisfied: six in c:\\users\\oussema\\anaconda3\\lib\\site-packages (from cycler>=0.10->matplotlib==3.2.2) (1.15.0)\n",
      "Requirement already satisfied: sklearn in c:\\users\\oussema\\anaconda3\\lib\\site-packages (0.0)\n",
      "Requirement already satisfied: scikit-learn in c:\\users\\oussema\\anaconda3\\lib\\site-packages (from sklearn) (0.23.1)\n",
      "Requirement already satisfied: scipy>=0.19.1 in c:\\users\\oussema\\anaconda3\\lib\\site-packages (from scikit-learn->sklearn) (1.5.0)\n",
      "Requirement already satisfied: threadpoolctl>=2.0.0 in c:\\users\\oussema\\anaconda3\\lib\\site-packages (from scikit-learn->sklearn) (2.1.0)\n",
      "Requirement already satisfied: joblib>=0.11 in c:\\users\\oussema\\anaconda3\\lib\\site-packages (from scikit-learn->sklearn) (0.16.0)\n",
      "Requirement already satisfied: numpy>=1.13.3 in c:\\users\\oussema\\anaconda3\\lib\\site-packages (from scikit-learn->sklearn) (1.19.5)\n",
      "Collecting pandas==1.1.5\n",
      "  Downloading pandas-1.1.5-cp38-cp38-win_amd64.whl (9.0 MB)\n",
      "Requirement already satisfied: pytz>=2017.2 in c:\\users\\oussema\\anaconda3\\lib\\site-packages (from pandas==1.1.5) (2020.1)\n",
      "Requirement already satisfied: python-dateutil>=2.7.3 in c:\\users\\oussema\\anaconda3\\lib\\site-packages (from pandas==1.1.5) (2.8.1)\n",
      "Requirement already satisfied: numpy>=1.15.4 in c:\\users\\oussema\\anaconda3\\lib\\site-packages (from pandas==1.1.5) (1.19.5)\n",
      "Requirement already satisfied: six>=1.5 in c:\\users\\oussema\\anaconda3\\lib\\site-packages (from python-dateutil>=2.7.3->pandas==1.1.5) (1.15.0)\n",
      "Installing collected packages: pandas\n",
      "  Attempting uninstall: pandas\n",
      "    Found existing installation: pandas 1.0.5\n",
      "    Uninstalling pandas-1.0.5:\n",
      "      Successfully uninstalled pandas-1.0.5\n",
      "Successfully installed pandas-1.1.5\n"
     ]
    }
   ],
   "source": [
    "!pip install numpy==1.19.5\n",
    "!pip install matplotlib==3.2.2\n",
    "!pip install sklearn\n",
    "!pip install pandas==1.1.5"
   ]
  },
  {
   "cell_type": "markdown",
   "metadata": {},
   "source": [
    "# Implementation"
   ]
  },
  {
   "cell_type": "code",
   "execution_count": 4,
   "metadata": {},
   "outputs": [],
   "source": [
    "import numpy as np\n",
    "from sklearn.utils import shuffle\n",
    "from sklearn.model_selection import train_test_split\n",
    "from sklearn.metrics import accuracy_score"
   ]
  },
  {
   "cell_type": "markdown",
   "metadata": {},
   "source": [
    "## Perceptron algorithme "
   ]
  },
  {
   "cell_type": "code",
   "execution_count": 21,
   "metadata": {},
   "outputs": [],
   "source": [
    "def perceptron(s,y):\n",
    "    w = np.zeros((1,2))\n",
    "    placeholder = np.zeros((1,2))\n",
    "    for t in range(2000):\n",
    "        for X,Y in zip(s,y) :\n",
    "            if  Y * np.inner(X,w) <= 0 : \n",
    "                placeholder = w\n",
    "                w = w + Y * X \n",
    "        if (w == placeholder).all() :\n",
    "            return w\n",
    "    if t == 999 :\n",
    "        print(\"No convergence\")\n",
    "    return w"
   ]
  },
  {
   "cell_type": "markdown",
   "metadata": {},
   "source": [
    "# Experiement 1 "
   ]
  },
  {
   "cell_type": "markdown",
   "metadata": {},
   "source": [
    "Q1 : The Points generated have a low variance so they are linearly seperable wich makes the algorithm converges "
   ]
  },
  {
   "cell_type": "markdown",
   "metadata": {},
   "source": [
    "Q2 : The decision boundary depends on the initial weights of the perceptron and the data points, \n",
    "    so having a small change in these values impacts heavily the decision boundary."
   ]
  },
  {
   "cell_type": "markdown",
   "metadata": {},
   "source": [
    "Q3 : The  accuracy is 0.98 on the test set, the decision boundry is plotted on the cells below."
   ]
  },
  {
   "cell_type": "code",
   "execution_count": 24,
   "metadata": {},
   "outputs": [],
   "source": [
    "mu = [-1,0]\n",
    "sigma = [[0.25,0], [0,0.25]]\n",
    "s1 = np.random.multivariate_normal(mu,sigma,125)\n",
    "\n",
    "mu = [1,0]\n",
    "sigma = [[0.25,0], [0,0.25]]\n",
    "s2 = np.random.multivariate_normal(mu,sigma,125)\n",
    "s = np.concatenate((s1,s2),axis=0)"
   ]
  },
  {
   "cell_type": "code",
   "execution_count": 25,
   "metadata": {},
   "outputs": [],
   "source": [
    "y = [-1] * 125 \n",
    "y.extend([1] * 125)"
   ]
  },
  {
   "cell_type": "code",
   "execution_count": 26,
   "metadata": {},
   "outputs": [
    {
     "data": {
      "text/plain": [
       "(250, 250)"
      ]
     },
     "execution_count": 26,
     "metadata": {},
     "output_type": "execute_result"
    }
   ],
   "source": [
    "len(y),len(s)"
   ]
  },
  {
   "cell_type": "code",
   "execution_count": 27,
   "metadata": {},
   "outputs": [],
   "source": [
    "s,y= shuffle(s,y)"
   ]
  },
  {
   "cell_type": "code",
   "execution_count": 28,
   "metadata": {},
   "outputs": [],
   "source": [
    "s_train, s_test, y_train, y_test = train_test_split(s, y, test_size=0.2, random_state=42)"
   ]
  },
  {
   "cell_type": "code",
   "execution_count": 29,
   "metadata": {},
   "outputs": [],
   "source": [
    "w = perceptron(s_train,y_train)"
   ]
  },
  {
   "cell_type": "code",
   "execution_count": 30,
   "metadata": {},
   "outputs": [
    {
     "data": {
      "text/plain": [
       "0.98"
      ]
     },
     "execution_count": 30,
     "metadata": {},
     "output_type": "execute_result"
    }
   ],
   "source": [
    "y_pred = np.inner(s_test,w) \n",
    "for i,pred in enumerate(y_pred) :\n",
    "    if pred > 0 :\n",
    "        y_pred[i] = 1\n",
    "    else :\n",
    "        y_pred[i] = -1\n",
    "accuracy_score(y_test,y_pred)"
   ]
  },
  {
   "cell_type": "code",
   "execution_count": 31,
   "metadata": {},
   "outputs": [
    {
     "data": {
      "text/plain": [
       "[<matplotlib.lines.Line2D at 0x2a87adf5d60>]"
      ]
     },
     "execution_count": 31,
     "metadata": {},
     "output_type": "execute_result"
    },
    {
     "data": {
      "image/png": "[encoded data removed]",
      "text/plain": [
       "<Figure size 432x288 with 1 Axes>"
      ]
     },
     "metadata": {
      "needs_background": "light"
     },
     "output_type": "display_data"
    }
   ],
   "source": [
    "from matplotlib import pyplot as plt\n",
    "\n",
    "plt.scatter(s1[:,0],s1[:,1], marker='+')\n",
    "plt.scatter(s2[:,0],s2[:,1], c= 'green', marker='o')\n",
    "\n",
    "\n",
    "a = -w[0][0] / w[0][1]\n",
    "xx = np.linspace(-1, 1)\n",
    "yy = a * xx / w[0][1]\n",
    "\n",
    "plt.plot(xx, yy, 'k-')"
   ]
  },
  {
   "cell_type": "markdown",
   "metadata": {},
   "source": [
    "# Experiment 2"
   ]
  },
  {
   "cell_type": "markdown",
   "metadata": {},
   "source": [
    "Q1 : The data points have relatively high variance which makes the algorithme confused and unable to converge."
   ]
  },
  {
   "cell_type": "markdown",
   "metadata": {},
   "source": [
    "Q2 : Like the previous experiment the decision boundry isn't unique since it's dependant from the weights and the datapoints.\n"
   ]
  },
  {
   "cell_type": "markdown",
   "metadata": {},
   "source": [
    "Q3 : The accuracy on the test set is  0.84"
   ]
  },
  {
   "cell_type": "code",
   "execution_count": 32,
   "metadata": {},
   "outputs": [],
   "source": [
    "mu = [-1,0]\n",
    "sigma = [[0.75,0], [0,0.75]]\n",
    "s1 = np.random.multivariate_normal(mu,sigma,125)\n",
    "\n",
    "mu = [1,0]\n",
    "sigma = [[0.75,0], [0,0.75]]\n",
    "s2 = np.random.multivariate_normal(mu,sigma,125)\n",
    "s = np.concatenate((s1,s2),axis=0)\n",
    "\n",
    "y = [-1] * 125 \n",
    "y.extend([1] * 125)\n",
    "\n",
    "s,y= shuffle(s,y)\n",
    "\n",
    "s_train, s_test, y_train, y_test = train_test_split(s, y, test_size=0.2, random_state=42)"
   ]
  },
  {
   "cell_type": "code",
   "execution_count": 33,
   "metadata": {},
   "outputs": [],
   "source": [
    "w = perceptron(s_train,y_train)"
   ]
  },
  {
   "cell_type": "code",
   "execution_count": 34,
   "metadata": {},
   "outputs": [
    {
     "data": {
      "text/plain": [
       "0.84"
      ]
     },
     "execution_count": 34,
     "metadata": {},
     "output_type": "execute_result"
    }
   ],
   "source": [
    "y_pred = np.inner(s_test,w) \n",
    "for i,pred in enumerate(y_pred) :\n",
    "    if pred > 0 :\n",
    "        y_pred[i] = 1\n",
    "    else :\n",
    "        y_pred[i] = -1\n",
    "accuracy_score(y_test,y_pred)"
   ]
  },
  {
   "cell_type": "code",
   "execution_count": 35,
   "metadata": {},
   "outputs": [
    {
     "data": {
      "text/plain": [
       "[<matplotlib.lines.Line2D at 0x2a87ae56850>]"
      ]
     },
     "execution_count": 35,
     "metadata": {},
     "output_type": "execute_result"
    },
    {
     "data": {
      "image/png": "[encoded data removed]",
      "text/plain": [
       "<Figure size 432x288 with 1 Axes>"
      ]
     },
     "metadata": {
      "needs_background": "light"
     },
     "output_type": "display_data"
    }
   ],
   "source": [
    "from matplotlib import pyplot as plt\n",
    "\n",
    "plt.scatter(s1[:,0],s1[:,1], marker='+')\n",
    "plt.scatter(s2[:,0],s2[:,1], c= 'green', marker='o')\n",
    "\n",
    "\n",
    "a = -w[0][0] / w[0][1]\n",
    "xx = np.linspace(-1, 1)\n",
    "yy = a * xx / w[0][1]\n",
    "\n",
    "plt.plot(xx, yy, 'k-')"
   ]
  },
  {
   "cell_type": "markdown",
   "metadata": {},
   "source": [
    "# Experiment 3"
   ]
  },
  {
   "cell_type": "code",
   "execution_count": 37,
   "metadata": {},
   "outputs": [],
   "source": [
    "def generate_data(sig):\n",
    "    mu = [-1,0]\n",
    "    sigma = [[sig,0], [0,sig]]\n",
    "    s1 = np.random.multivariate_normal(mu,sigma,125)\n",
    "\n",
    "    mu = [1,0]\n",
    "    sigma = [[sig,0], [0,sig]]\n",
    "    s2 = np.random.multivariate_normal(mu,sigma,125)\n",
    "    s = np.concatenate((s1,s2),axis=0)\n",
    "    \n",
    "    y = [-1] * 125 \n",
    "    y.extend([1] * 125)\n",
    "\n",
    "    s,y= shuffle(s,y)\n",
    "    \n",
    "    return s1,s2,s,y"
   ]
  },
  {
   "cell_type": "code",
   "execution_count": 38,
   "metadata": {},
   "outputs": [],
   "source": [
    "def get_accuracy(s_test,y_test,w):\n",
    "    y_pred = np.inner(s_test,w) \n",
    "    for i,pred in enumerate(y_pred) :\n",
    "        if pred > 0 :\n",
    "            y_pred[i] = 1\n",
    "        else :\n",
    "            y_pred[i] = -1\n",
    "    return accuracy_score(y_test,y_pred)"
   ]
  },
  {
   "cell_type": "code",
   "execution_count": 41,
   "metadata": {},
   "outputs": [
    {
     "name": "stdout",
     "output_type": "stream",
     "text": [
      "[1.0, 1.0, 1.0]\n",
      "Sigma = 0.01, Mean = 1.0\n",
      "Sigma = 0.01, Variance = 0.0\n"
     ]
    },
    {
     "data": {
      "image/png": "[encoded data removed]",
      "text/plain": [
       "<Figure size 432x288 with 1 Axes>"
      ]
     },
     "metadata": {
      "needs_background": "light"
     },
     "output_type": "display_data"
    },
    {
     "name": "stdout",
     "output_type": "stream",
     "text": [
      "[1.0, 1.0, 1.0]\n",
      "Sigma = 0.1, Mean = 1.0\n",
      "Sigma = 0.1, Variance = 0.0\n"
     ]
    },
    {
     "data": {
      "image/png": "[encoded data removed]",
      "text/plain": [
       "<Figure size 432x288 with 1 Axes>"
      ]
     },
     "metadata": {
      "needs_background": "light"
     },
     "output_type": "display_data"
    },
    {
     "name": "stdout",
     "output_type": "stream",
     "text": [
      "[0.96, 0.88, 0.92]\n",
      "Sigma = 0.5, Mean = 0.9199999999999999\n",
      "Sigma = 0.5, Variance = 0.032659863237109024\n"
     ]
    },
    {
     "data": {
      "image/png": "[encoded data removed]",
      "text/plain": [
       "<Figure size 432x288 with 1 Axes>"
      ]
     },
     "metadata": {
      "needs_background": "light"
     },
     "output_type": "display_data"
    },
    {
     "name": "stdout",
     "output_type": "stream",
     "text": [
      "[0.86, 0.88, 0.9]\n",
      "Sigma = 0.7, Mean = 0.88\n",
      "Sigma = 0.7, Variance = 0.016329931618554536\n"
     ]
    },
    {
     "data": {
      "image/png": "[encoded data removed]",
      "text/plain": [
       "<Figure size 432x288 with 1 Axes>"
      ]
     },
     "metadata": {
      "needs_background": "light"
     },
     "output_type": "display_data"
    }
   ],
   "source": [
    "sigs = [0.01,0.1,0.5,0.7]\n",
    "accuracies_mean = []\n",
    "accuracies_variance = []\n",
    "for sig in sigs :\n",
    "    accuracies = []\n",
    "    for i in range(3) :\n",
    "        s1,s2,s,y = generate_data(sig)\n",
    "        s_train, s_test, y_train, y_test = train_test_split(s, y, test_size=0.2, random_state=42)\n",
    "        w = perceptron(s_train,y_train)\n",
    "        accuracies.append(get_accuracy(s_test,y_test,w))\n",
    "    print(accuracies)\n",
    "    print(\"Sigma = {}, Mean = {}\".format(sig,np.mean(accuracies)))\n",
    "    print(\"Sigma = {}, Variance = {}\".format(sig,np.std(accuracies)))\n",
    "    accuracies_mean.append(1-np.mean(accuracies))\n",
    "    accuracies_variance.append(np.std(accuracies))\n",
    "    plt.scatter(s1[:,0],s1[:,1], marker='+')\n",
    "    plt.scatter(s2[:,0],s2[:,1], c= 'green', marker='o')\n",
    "\n",
    "\n",
    "    a = -w[0][0] / w[0][1]\n",
    "    xx = np.linspace(-1, 1)\n",
    "    yy = a * xx / w[0][1]\n",
    "\n",
    "    plt.plot(xx, yy, 'k-')\n",
    "    plt.show()"
   ]
  },
  {
   "cell_type": "code",
   "execution_count": 42,
   "metadata": {},
   "outputs": [
    {
     "data": {
      "text/plain": [
       "<ErrorbarContainer object of 3 artists>"
      ]
     },
     "execution_count": 42,
     "metadata": {},
     "output_type": "execute_result"
    },
    {
     "data": {
      "image/png": "[encoded data removed]",
      "text/plain": [
       "<Figure size 432x288 with 1 Axes>"
      ]
     },
     "metadata": {
      "needs_background": "light"
     },
     "output_type": "display_data"
    }
   ],
   "source": [
    "plt.errorbar(x=sigs,y=accuracies_mean,yerr=accuracies_variance) "
   ]
  },
  {
   "cell_type": "markdown",
   "metadata": {},
   "source": [
    "Conclusion : \n",
    "As we can visually perceive in the errorbar figure above,  as we increment the variation of the distribution, \n",
    "the average error increases aswell as it's variance which makes sense since if we increment the variation the datapoints will no longer be linearly separable which we can optically discern in the different plot above : \n",
    "The left datapoints are getting more proximate to the right one making finding a linear decision boundry a very arduous task this incrementing the error especially for values of sigma higher then 0.25."
   ]
  },
  {
   "cell_type": "code",
   "execution_count": null,
   "metadata": {},
   "outputs": [],
   "source": []
  }
 ],
 "metadata": {
  "kernelspec": {
   "display_name": "Python 3",
   "language": "python",
   "name": "python3"
  },
  "language_info": {
   "codemirror_mode": {
    "name": "ipython",
    "version": 3
   },
   "file_extension": ".py",
   "mimetype": "text/x-python",
   "name": "python",
   "nbconvert_exporter": "python",
   "pygments_lexer": "ipython3",
   "version": "3.8.3"
  }
 },
 "nbformat": 4,
 "nbformat_minor": 5
}
