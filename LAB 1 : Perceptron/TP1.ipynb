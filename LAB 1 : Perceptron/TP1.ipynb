{
 "cells": [
  {
   "cell_type": "markdown",
   "metadata": {},
   "source": [
    "#Question1\n",
    "Used variables : \n",
    "N :max number of iterations\n",
    "S :training set\n",
    "W :weights\n",
    "size(X): size of element X\n",
    "len(X): length of element X"
   ]
  },
  {
   "cell_type": "markdown",
   "metadata": {},
   "source": [
    "#Question 1.a\n",
    "\n",
    "O(len(S)^2) : (for x in S for y in S )\n",
    "if there's no solution the algorithm will iterate N times (max number of iterations)"
   ]
  },
  {
   "cell_type": "markdown",
   "metadata": {},
   "source": [
    "#Question 1.b\n",
    "\n",
    "O(size(S)) \n"
   ]
  },
  {
   "cell_type": "code",
   "execution_count": 14,
   "metadata": {},
   "outputs": [],
   "source": [
    "#Packages \n",
    "from numpy.random import multivariate_normal\n",
    "from sklearn.model_selection import train_test_split\n",
    "import pandas as pd\n",
    "import numpy as np\n",
    "from matplotlib import pyplot as plt\n",
    "from sklearn.metrics import accuracy_score"
   ]
  },
  {
   "cell_type": "markdown",
   "metadata": {},
   "source": [
    "#Question2"
   ]
  },
  {
   "cell_type": "markdown",
   "metadata": {},
   "source": [
    "#Question 2.1"
   ]
  },
  {
   "cell_type": "code",
   "execution_count": null,
   "metadata": {},
   "outputs": [],
   "source": [
    "def generate_dataset(sigma1, sigma2, test_size=0.2):\n",
    "  mu1 = [-1, 0]\n",
    "  mu2 = [1, 0]\n",
    "  \n",
    "  cov1 = [ [sigma1 , 0 ], \n",
    "           [0 , sigma1 ] \n",
    "          ]\n",
    "\n",
    "  cov2 = [  [ sigma2 , 0 ], \n",
    "            [ 0 , sigma2 ] \n",
    "          ]\n",
    "  \n",
    "  x1 = multivariate_normal(mu1, cov1, 125)\n",
    "  x2 = multivariate_normal(mu2, cov2, 125)\n",
    "  dataset = pd.DataFrame({\n",
    "      \"x\": x1.tolist() + x2.tolist(),\n",
    "      \"y\": [-1 for _ in range(125)] + [1 for _ in range(125)]\n",
    "  })\n",
    "  data = (x1, x2)\n",
    "  x1, x2, y1, y2 = train_test_split(dataset.get(\"x\"), dataset.get(\"y\"), test_size=test_size, random_state=42)\n",
    "\n",
    "  return x1, x2, y1, y2, data\n",
    "\n",
    "x1, x2, y1, y2, data = generate_dataset(sigma1=0.1, sigma2=0.01)"
   ]
  },
  {
   "cell_type": "markdown",
   "metadata": {},
   "source": [
    "#Question 2.2 Experiments"
   ]
  },
  {
   "cell_type": "code",
   "execution_count": null,
   "metadata": {},
   "outputs": [],
   "source": [
    "# Perceptron algorithm\n",
    "def perceptron(x, y, max_iterations=3000):\n",
    "  w = np.zeros((1,2))\n",
    "  p = np.zeros((1,2))\n",
    "  for it in range(max_iterations):\n",
    "        for X, Y in zip(x, y) :\n",
    "            if  Y * np.inner(X, w) <= 0 : \n",
    "                p = w\n",
    "                w = w + np.multiply(X, Y)\n",
    "        if (w == p).all() :\n",
    "            return (w, True)\n",
    "  return (w, it>=max_iterations)"
   ]
  },
  {
   "cell_type": "markdown",
   "metadata": {},
   "source": [
    "#Experiment 1"
   ]
  },
  {
   "cell_type": "code",
   "execution_count": null,
   "metadata": {},
   "outputs": [],
   "source": [
    "# Generating Datasets\n",
    "sigma_1 = 0.25\n",
    "sigma_2 = 0.25\n",
    "dataset_x, test_x, dataset_y, test_y, data = generate_dataset(sigma_1, sigma_2)"
   ]
  },
  {
   "cell_type": "code",
   "execution_count": null,
   "metadata": {},
   "outputs": [],
   "source": [
    "w, Convergence = perceptron(dataset_x, dataset_y)\n",
    "if Convergence:\n",
    "  print(\"Perceptron algorithm converges\")\n",
    "else:\n",
    "  print(\"Perceptron algorithm does not converge\")"
   ]
  },
  {
   "cell_type": "markdown",
   "metadata": {},
   "source": [
    "1)Does the algorithm converges? Why?\n",
    "\n",
    "Yes the algorithm converges, \n",
    "the variance is small enough for the points in each group to be close to each other \n",
    "wich makes them inearly separable"
   ]
  },
  {
   "cell_type": "code",
   "execution_count": 19,
   "metadata": {},
   "outputs": [
    {
     "data": {
      "text/plain": [
       "[<matplotlib.lines.Line2D at 0x23138fbd9c8>]"
      ]
     },
     "execution_count": 19,
     "metadata": {},
     "output_type": "execute_result"
    },
    {
     "data": {
      "image/png": "[encoded data removed]",
      "text/plain": [
       "<Figure size 432x288 with 1 Axes>"
      ]
     },
     "metadata": {
      "needs_background": "light"
     },
     "output_type": "display_data"
    }
   ],
   "source": [
    "neg_data, pos_data = data\n",
    "plt.scatter(neg_data[:,0],neg_data[:,1], marker='+', c='red')\n",
    "plt.scatter(pos_data[:,0],pos_data[:,1], marker='+', c='green')\n",
    "\n",
    "a = -w[0][0] / w[0][1]\n",
    "xx = np.linspace(-0.5, 0.5)\n",
    "yy = a * xx / w[0][1]\n",
    "\n",
    "plt.plot(xx, yy, 'k--')"
   ]
  },
  {
   "cell_type": "markdown",
   "metadata": {},
   "source": [
    "2)Is this decision boundary unique?\n",
    "\n",
    "No, there are an infinity of possible boudries. It depends on weights initialization and generated data values.\n",
    "\n",
    "3)Does changing the initialisation changes the result of the algorithm?\n",
    "\n",
    "Yes changing the initialisation may affects the result of the algorithm."
   ]
  },
  {
   "cell_type": "code",
   "execution_count": 20,
   "metadata": {},
   "outputs": [
    {
     "name": "stdout",
     "output_type": "stream",
     "text": [
      "The accuracy is 0.94\n"
     ]
    }
   ],
   "source": [
    "y_predicted = []\n",
    "for i, x in enumerate(test_x):\n",
    "    pred = np.inner(x, w)\n",
    "    if pred > 0 :\n",
    "        y_predicted.append(1)\n",
    "    else :\n",
    "        y_predicted.append(-1)\n",
    "accuracy = accuracy_score(test_y,y_predicted)\n",
    "print(\"The accuracy is\", accuracy)"
   ]
  },
  {
   "cell_type": "markdown",
   "metadata": {},
   "source": [
    "#Experiment 2"
   ]
  },
  {
   "cell_type": "code",
   "execution_count": 21,
   "metadata": {},
   "outputs": [],
   "source": [
    "# Generate Datasets\n",
    "sigma_1 = 0.75\n",
    "sigma_2 = 0.75\n",
    "dataset_x, test_x, dataset_y, test_y, data = generate_dataset(sigma_1, sigma_2)"
   ]
  },
  {
   "cell_type": "code",
   "execution_count": 22,
   "metadata": {},
   "outputs": [
    {
     "name": "stdout",
     "output_type": "stream",
     "text": [
      "Perceptron algorithm does not converge\n"
     ]
    }
   ],
   "source": [
    "w, Convergence = perceptron(dataset_x, dataset_y)\n",
    "if Convergence:\n",
    "  print(\"Perceptron algorithm converges\")\n",
    "else:\n",
    "  print(\"Perceptron algorithm does not converge\")"
   ]
  },
  {
   "cell_type": "markdown",
   "metadata": {},
   "source": [
    "1)Does the algorithm converges? Why?\n",
    "\n",
    "The algorithm does not converge,\n",
    "0.75 is relatevely a high variance so the points in each group will be far from each other, \n",
    "that will create interferance in our data."
   ]
  },
  {
   "cell_type": "code",
   "execution_count": 23,
   "metadata": {},
   "outputs": [
    {
     "data": {
      "text/plain": [
       "[<matplotlib.lines.Line2D at 0x2313903adc8>]"
      ]
     },
     "execution_count": 23,
     "metadata": {},
     "output_type": "execute_result"
    },
    {
     "data": {
      "image/png": "[encoded data removed]",
      "text/plain": [
       "<Figure size 432x288 with 1 Axes>"
      ]
     },
     "metadata": {
      "needs_background": "light"
     },
     "output_type": "display_data"
    }
   ],
   "source": [
    "neg_data, pos_data = data\n",
    "plt.scatter(neg_data[:,0],neg_data[:,1], marker='+', c='red')\n",
    "plt.scatter(pos_data[:,0],pos_data[:,1], marker='+', c='green')\n",
    "\n",
    "a = -w[0][0] / w[0][1]\n",
    "xx = np.linspace(-0.5, 0.5)\n",
    "yy = a * xx / w[0][1]\n",
    "\n",
    "plt.plot(xx, yy, 'k--')"
   ]
  },
  {
   "cell_type": "markdown",
   "metadata": {},
   "source": [
    "2)Is this decision boundary unique?\n",
    "\n",
    "No, there are an infinity of possible boudries. It depends on weights initialization and generated data values.\n",
    "\n",
    "3)Does changing the initialisation changes the result of the algorithm?\n",
    "\n",
    "Yes changing the initialisation may affects the result of the algorithm."
   ]
  },
  {
   "cell_type": "code",
   "execution_count": 24,
   "metadata": {},
   "outputs": [
    {
     "name": "stdout",
     "output_type": "stream",
     "text": [
      "The accuracy is 0.9\n"
     ]
    }
   ],
   "source": [
    "y_predicted = []\n",
    "for i, x in enumerate(test_x):\n",
    "    pred = np.inner(x, w)\n",
    "    if pred > 0 :\n",
    "        y_predicted.append(1)\n",
    "    else :\n",
    "        y_predicted.append(-1)\n",
    "accuracy = accuracy_score(test_y,y_predicted)\n",
    "print(\"The accuracy is\", accuracy)"
   ]
  },
  {
   "cell_type": "markdown",
   "metadata": {},
   "source": [
    "#Experiment 3"
   ]
  },
  {
   "cell_type": "code",
   "execution_count": null,
   "metadata": {},
   "outputs": [
    {
     "name": "stdout",
     "output_type": "stream",
     "text": [
      "i: 0\n",
      "-------------------------------\\\n",
      "i: 1\n",
      "-------------------------------\\\n",
      "i: 2\n",
      "-------------------------------\\\n",
      "i: 3\n",
      "-------"
     ]
    }
   ],
   "source": [
    "sigmas = [0.01,0.1,0.5,0.7]\n",
    "mean_error = []\n",
    "variance_error = []\n",
    "for sigma in sigmas :\n",
    "    print(f\"i: {sigmas.index(sigma)}\")\n",
    "    accuracies = []\n",
    "    for i in range(30) :\n",
    "        print(\"-\", end=\"\")\n",
    "        dataset_x, test_x, dataset_y, test_y, data = generate_dataset(sigma, sigma)\n",
    "        w, Convergence = perceptron(dataset_x, dataset_y)\n",
    "        y_predicted = []\n",
    "        for j, x in enumerate(test_x):\n",
    "            pred = np.inner(x, w)\n",
    "            if pred > 0 :\n",
    "                y_predicted.append(1)\n",
    "            else :\n",
    "                y_predicted.append(-1)\n",
    "        accuracy = accuracy_score(test_y,y_predicted)\n",
    "        accuracies.append(accuracy)\n",
    "    print(\"-\\\\\")\n",
    "\n",
    "    mean_error.append(1-np.mean(accuracies))\n",
    "    variance_error.append(np.std(accuracies))"
   ]
  },
  {
   "cell_type": "code",
   "execution_count": null,
   "metadata": {},
   "outputs": [],
   "source": [
    "plt.errorbar(x=sigmas,y=mean_error,yerr=variance_error)"
   ]
  },
  {
   "cell_type": "markdown",
   "metadata": {},
   "source": [
    "Note:\n",
    "\n",
    "the increase of the variance is proportional to the increase of the error.\n",
    "\n",
    "and it leads to the data becoming linearly unseperable.\n",
    "\n",
    "The higher the variance, the bigger the range of the data generated, the bigger the more likely errors are to occur."
   ]
  },
  {
   "cell_type": "code",
   "execution_count": null,
   "metadata": {},
   "outputs": [],
   "source": []
  }
 ],
 "metadata": {
  "kernelspec": {
   "display_name": "Python 3",
   "language": "python",
   "name": "python3"
  },
  "language_info": {
   "codemirror_mode": {
    "name": "ipython",
    "version": 3
   },
   "file_extension": ".py",
   "mimetype": "text/x-python",
   "name": "python",
   "nbconvert_exporter": "python",
   "pygments_lexer": "ipython3",
   "version": "3.7.4"
  }
 },
 "nbformat": 4,
 "nbformat_minor": 2
}
