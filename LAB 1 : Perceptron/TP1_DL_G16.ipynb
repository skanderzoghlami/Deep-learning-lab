{
 "cells": [
  {
   "cell_type": "markdown",
   "id": "33c9a317-9839-458b-9568-7a98c7922eed",
   "metadata": {},
   "source": [
    "## Section 1 : Theoretical Questions"
   ]
  },
  {
   "cell_type": "markdown",
   "id": "53312651-77ae-439e-ab85-e36591657b2e",
   "metadata": {},
   "source": [
    "### Question 1.a"
   ]
  },
  {
   "cell_type": "markdown",
   "id": "5991d759-ecf3-4010-8f2f-d652dee34e45",
   "metadata": {},
   "source": [
    "Having **n** as the upper bound and **m** as the number of  samples that we have , Time complexity of the basic perceptron algorithm is **O(n*m)**."
   ]
  },
  {
   "cell_type": "markdown",
   "id": "48fc91dc-26bf-499c-9f2d-e0c175fdb91d",
   "metadata": {},
   "source": [
    "### Question 1.b"
   ]
  },
  {
   "cell_type": "markdown",
   "id": "39b4c2fa-757a-4ab2-a726-3febcba494e4",
   "metadata": {},
   "source": [
    "The space complexity of the basic perceptron algorithm is **O(m)**"
   ]
  },
  {
   "cell_type": "markdown",
   "id": "649ac995-b43c-4d41-b313-a76e185818e1",
   "metadata": {},
   "source": [
    "## Section 1 : Imports And Implementation"
   ]
  },
  {
   "cell_type": "code",
   "execution_count": 413,
   "id": "30d6a21e-c720-4c0e-980d-9bba321924f5",
   "metadata": {},
   "outputs": [
    {
     "name": "stdout",
     "output_type": "stream",
     "text": [
      "Defaulting to user installation because normal site-packages is not writeable\n",
      "Requirement already satisfied: numpy==1.19.5 in /home/hera/.local/lib/python3.6/site-packages (1.19.5)\n",
      "Defaulting to user installation because normal site-packages is not writeable\n",
      "Requirement already satisfied: scikit-learn==0.22.2 in /home/hera/.local/lib/python3.6/site-packages (0.22.2)\n",
      "Requirement already satisfied: joblib>=0.11 in /home/hera/.local/lib/python3.6/site-packages (from scikit-learn==0.22.2) (1.1.0)\n",
      "Requirement already satisfied: numpy>=1.11.0 in /home/hera/.local/lib/python3.6/site-packages (from scikit-learn==0.22.2) (1.19.5)\n",
      "Requirement already satisfied: scipy>=0.17.0 in /home/hera/.local/lib/python3.6/site-packages (from scikit-learn==0.22.2) (1.5.4)\n",
      "Defaulting to user installation because normal site-packages is not writeable\n",
      "Requirement already satisfied: matplotlib==3.2.2 in /home/hera/.local/lib/python3.6/site-packages (3.2.2)\n",
      "Requirement already satisfied: numpy>=1.11 in /home/hera/.local/lib/python3.6/site-packages (from matplotlib==3.2.2) (1.19.5)\n",
      "Requirement already satisfied: pyparsing!=2.0.4,!=2.1.2,!=2.1.6,>=2.0.1 in /home/hera/.local/lib/python3.6/site-packages (from matplotlib==3.2.2) (3.0.1)\n",
      "Requirement already satisfied: kiwisolver>=1.0.1 in /home/hera/.local/lib/python3.6/site-packages (from matplotlib==3.2.2) (1.3.1)\n",
      "Requirement already satisfied: cycler>=0.10 in /home/hera/.local/lib/python3.6/site-packages (from matplotlib==3.2.2) (0.10.0)\n",
      "Requirement already satisfied: python-dateutil>=2.1 in /home/hera/.local/lib/python3.6/site-packages (from matplotlib==3.2.2) (2.8.2)\n",
      "Requirement already satisfied: six in /home/hera/.local/lib/python3.6/site-packages (from cycler>=0.10->matplotlib==3.2.2) (1.16.0)\n"
     ]
    }
   ],
   "source": [
    "!pip install numpy==1.19.5\n",
    "!pip install scikit-learn==0.22.2\n",
    "!pip install matplotlib==3.2.2"
   ]
  },
  {
   "cell_type": "code",
   "execution_count": 414,
   "id": "801d54c5-ef27-48e9-a84e-ee15fbfcfc4d",
   "metadata": {},
   "outputs": [],
   "source": [
    "import numpy as np\n",
    "from sklearn.utils import shuffle\n",
    "from sklearn.model_selection import train_test_split\n",
    "import matplotlib.pyplot as plt"
   ]
  },
  {
   "cell_type": "code",
   "execution_count": 415,
   "id": "09f64dab-80cd-4fbb-b723-6cf368d30626",
   "metadata": {},
   "outputs": [],
   "source": [
    "def perceptron(data, y, n):\n",
    "  W = np.zeros(data.shape[1])\n",
    "  W_t = W\n",
    "  for t in range(n):\n",
    "    for X,Y in zip(data,y):\n",
    "      if  Y * np.inner(X,W) <= 0 :\n",
    "        W_t = W\n",
    "        W = W + Y * X\n",
    "    if np.allclose(W,W_t):\n",
    "      return W\n",
    "  return W\n",
    "\n",
    "def plot_prediction(x, y, w):\n",
    "    plt.figure()\n",
    "    plt.grid(True)\n",
    "    y = np.array(y).reshape(-1)\n",
    "    plt.scatter(x[y == -1][:,0], x[y == -1][:, 1] , label='LabelY = -1',marker='x')\n",
    "    plt.scatter(x[y == 1][:,0], x[y == 1][:, 1], label = 'LabelY = 1',marker='x')\n",
    "    x_max = max(x[:,0].max(), -x[:,0].min()) \n",
    "    y_max = max(x[:,1].max(), -x[:,1].min()) \n",
    "    x_boundary = np.linspace(-x_max, x_max, 1000)\n",
    "    y_boundary = -1 * w[0] / w[1] * x_boundary\n",
    "    plt.plot(x_boundary[(y_boundary <= y_max) & (y_boundary >= -y_max)],y_boundary[(y_boundary <= y_max) & (y_boundary >= -y_max)],label = 'decision boundary',color='green')\n",
    "    plt.legend()\n",
    "\n",
    "def predict_class(X, w):\n",
    "    pred = np.inner(X,w) \n",
    "    if pred > 0 :\n",
    "        return 1\n",
    "    else:\n",
    "        return -1\n",
    "\n",
    "def calculate_accuracy(x,y,w):\n",
    "    error = 0\n",
    "    for i, xi in enumerate(x):\n",
    "        prediction = predict_class(xi, w)\n",
    "        if (prediction != y[i]):\n",
    "            error += 1/len(x)\n",
    "    return 1-error\n",
    "\n",
    "\n"
   ]
  },
  {
   "cell_type": "markdown",
   "id": "b1fb3f60-84f2-4736-9326-21f2ebd34d78",
   "metadata": {},
   "source": [
    "### Dataset preparation"
   ]
  },
  {
   "cell_type": "code",
   "execution_count": 416,
   "id": "a3bd7cd9-acd4-4253-b324-b7f16a353f52",
   "metadata": {},
   "outputs": [
    {
     "name": "stdout",
     "output_type": "stream",
     "text": [
      "[[-1.99048992 -0.72624304]\n",
      " [-0.49373222 -0.44124046]\n",
      " [-0.81991588  0.16764064]\n",
      " [-0.67919133  0.22855476]\n",
      " [-0.70252198 -0.60684231]]\n",
      "[-1, -1, -1, -1, -1, 1, 1, 1, 1, 1]\n"
     ]
    }
   ],
   "source": [
    "mean1= [-1, 0]\n",
    "mean2= [1, 0]\n",
    "cov =0.25 * np.eye(2) \n",
    "\n",
    "#Creating labels\n",
    "y=[]\n",
    "y[:125]=[-1]*125\n",
    "y[125:]=[1]*125\n",
    "\n",
    "#Creating dataset\n",
    "data= np.concatenate( (np.random.multivariate_normal(mean1, cov, 125) , np.random.multivariate_normal(mean2,cov, 125))  )\n",
    "\n",
    "print(data[:5])\n",
    "print(y[120:130])"
   ]
  },
  {
   "cell_type": "code",
   "execution_count": 417,
   "id": "ab234ee1-25a3-4c91-8f7a-65f141b5c6da",
   "metadata": {},
   "outputs": [
    {
     "name": "stdout",
     "output_type": "stream",
     "text": [
      "[[-2.05724286  0.61147917]\n",
      " [ 0.98235519 -0.5972168 ]\n",
      " [ 0.78166091  0.273605  ]\n",
      " [-1.41849222 -0.13400285]\n",
      " [ 1.85487747  0.30667892]]\n",
      "[-1, 1, 1, 1, -1, -1, 1, -1, -1, 1]\n"
     ]
    }
   ],
   "source": [
    "#Shuffling data\n",
    "data, y = shuffle(data, y)\n",
    "\n",
    "print(data[:5])\n",
    "print(y[120:130])"
   ]
  },
  {
   "cell_type": "code",
   "execution_count": 418,
   "id": "47a56b1e-e29c-4515-a899-1c58b545bc98",
   "metadata": {},
   "outputs": [],
   "source": [
    "#Splitting data\n",
    "X_train, X_test, Y_train, Y_test = train_test_split(data, y, test_size=0.2, random_state=42)"
   ]
  },
  {
   "cell_type": "markdown",
   "id": "729e49e0-87a2-41a5-99a9-8ec1983fb428",
   "metadata": {},
   "source": [
    "### Experiment 1"
   ]
  },
  {
   "cell_type": "code",
   "execution_count": 419,
   "id": "ed4425ef-12ae-43b3-a365-e3d303dcaf92",
   "metadata": {},
   "outputs": [
    {
     "name": "stdout",
     "output_type": "stream",
     "text": [
      "[ 0.72239424 -0.15893398]\n"
     ]
    }
   ],
   "source": [
    "ex1 = perceptron(X_train, Y_train, 1000)\n",
    "print(ex1)"
   ]
  },
  {
   "cell_type": "code",
   "execution_count": 420,
   "id": "0d13084d-e0bc-4939-a9b0-d7f91cfbf7bd",
   "metadata": {},
   "outputs": [
    {
     "data": {
      "image/png": "[encoded data removed]",
      "text/plain": [
       "<Figure size 432x288 with 1 Axes>"
      ]
     },
     "metadata": {
      "needs_background": "light"
     },
     "output_type": "display_data"
    }
   ],
   "source": [
    "plot_prediction(X_test,Y_test,ex1)"
   ]
  },
  {
   "cell_type": "markdown",
   "id": "e1af2e5e-b249-4807-8d08-12e42299ce9b",
   "metadata": {},
   "source": [
    "### Question 1:\n",
    "- The algorithm does converge because the variance is too small which makes the samples very similar. Therefore it would be easy to separate them linearally.\n",
    "\n",
    "### Question 2:\n",
    "- The boundary is not unique since it depends on many parameters(dataset, training/testing data,variance,..).\n",
    "- Changing the initialisation will change the result of the algorithm.\n",
    "\n",
    "### Question 3:\n"
   ]
  },
  {
   "cell_type": "code",
   "execution_count": 421,
   "id": "27d55c34-fdf9-4764-afec-ed2778ed02d4",
   "metadata": {},
   "outputs": [
    {
     "name": "stdout",
     "output_type": "stream",
     "text": [
      "Accuracy_experiment1 = 0.98\n"
     ]
    }
   ],
   "source": [
    "acc1=calculate_accuracy(X_test,Y_test,ex1)\n",
    "print(\"Accuracy_experiment1 = \"+ str(acc1))"
   ]
  },
  {
   "cell_type": "markdown",
   "id": "d4463c9c-a9c0-4dc0-8031-34624249c2a8",
   "metadata": {},
   "source": [
    "## Experiment 2: "
   ]
  },
  {
   "cell_type": "code",
   "execution_count": 422,
   "id": "a83bb031-8511-4a9d-bab5-bdcb31b199b6",
   "metadata": {},
   "outputs": [],
   "source": [
    "cov = 0.75 * np.eye(2) \n",
    "data= np.concatenate( (np.random.multivariate_normal(mean1, cov, 125) , np.random.multivariate_normal(mean2,cov, 125)) )\n",
    "X_train, X_test, Y_train, Y_test = train_test_split(data, y, test_size=0.2, random_state=42)"
   ]
  },
  {
   "cell_type": "code",
   "execution_count": 423,
   "id": "62e9482f-8d00-4a9e-b650-01adee9a8a79",
   "metadata": {},
   "outputs": [],
   "source": [
    "ex2 = perceptron(X_train, Y_train, 1000)"
   ]
  },
  {
   "cell_type": "code",
   "execution_count": 424,
   "id": "009d1cf3-76de-480f-8d1a-1e7a9546d22d",
   "metadata": {},
   "outputs": [
    {
     "data": {
      "image/png": "[encoded data removed]",
      "text/plain": [
       "<Figure size 432x288 with 1 Axes>"
      ]
     },
     "metadata": {
      "needs_background": "light"
     },
     "output_type": "display_data"
    }
   ],
   "source": [
    "plot_prediction(X_test,Y_test,ex2)"
   ]
  },
  {
   "cell_type": "markdown",
   "id": "81f8b4d6-2f12-47d3-a771-77998c5f950d",
   "metadata": {},
   "source": [
    "### Question 1:\n",
    "- The algorithm doesn't converge because the variance is too high. Therefore it would be hard to separate them linearally.\n",
    "\n",
    "### Question 2:\n",
    "- The boundary is not unique since it depends on many parameters:In this experiemnt we have changed the value of the variance and as we can see the boundary took a new direction.\n",
    "- Changing the initialisation will change the result of the algorithm generally .But in this case, it would still be hard to get ss clear classification with such variance.\n",
    "\n",
    "### Question 3:"
   ]
  },
  {
   "cell_type": "code",
   "execution_count": 425,
   "id": "e1e6ec7a-72ea-4b97-b359-4985d4473692",
   "metadata": {},
   "outputs": [
    {
     "name": "stdout",
     "output_type": "stream",
     "text": [
      "Accuracy_experiment2 = 0.43999999999999984\n"
     ]
    }
   ],
   "source": [
    "acc2=calculate_accuracy(X_test,Y_test,ex2)\n",
    "print(\"Accuracy_experiment2 = \"+ str(acc2))"
   ]
  },
  {
   "cell_type": "markdown",
   "id": "78885fa0-007c-472a-9a0c-2e42588a7959",
   "metadata": {},
   "source": [
    "### Conclusion:\n",
    "- Based on the results of the previous experiments:\n",
    "        -Changing the value of the variance will impact the efficiency of the perceptron algorithm.\n",
    "        -The smaller the value is ,the bette the classification ( accuracy_exp1 > accuracy_exp2 )"
   ]
  },
  {
   "cell_type": "code",
   "execution_count": 426,
   "id": "c65bedc6-29ae-432f-86c3-204c3517696d",
   "metadata": {},
   "outputs": [
    {
     "name": "stdout",
     "output_type": "stream",
     "text": [
      "sigmas\n",
      "[0.01, 0.1, 0.5, 0.7, 1]\n",
      "mean_error\n",
      "[0.0, 0.0, 0.10666666666666665, 0.22666666666666668, 0.18666666666666665]\n",
      "variance_error\n",
      "[0.0, 0.0, 0.0006222222222222233, 0.0046222222222222255, 0.0006222222222222214]\n"
     ]
    },
    {
     "data": {
      "image/png": "[encoded data removed]",
      "text/plain": [
       "<Figure size 432x288 with 1 Axes>"
      ]
     },
     "metadata": {
      "needs_background": "light"
     },
     "output_type": "display_data"
    }
   ],
   "source": [
    "sigmas=[0.01,0.1,0.5,0.7,1]\n",
    "mean_err=[]\n",
    "variance_err=[]\n",
    "for sigma in sigmas:\n",
    "  errors=[]\n",
    "  for i in range(3):\n",
    "    #preparing data\n",
    "    mean1= [-1, 0]\n",
    "    mean2= [1, 0]\n",
    "    cov = sigma * np.eye(2)\n",
    "    y=[]\n",
    "    y[:125]=[-1]*125\n",
    "    y[125:]=[1]*125\n",
    "    data= np.concatenate( (np.random.multivariate_normal(mean1, cov, 125) , np.random.multivariate_normal(mean2,cov, 125))  )\n",
    "    data, y = shuffle(data, y)\n",
    "    X_train, X_test, Y_train, Y_test = train_test_split(data, y, test_size=0.2, random_state=42)\n",
    "    #perceptron algorithm\n",
    "    exp= perceptron(X_train, Y_train, 1000)\n",
    "    #calculating errors\n",
    "    err=1-calculate_accuracy(X_test,Y_test,exp)\n",
    "    errors.append(err)\n",
    "  mean_err.append(np.mean(errors))\n",
    "  variance_err.append(np.var(errors))\n",
    "print(\"sigmas\")\n",
    "print(sigmas)\n",
    "print(\"mean_error\")\n",
    "print(mean_err)\n",
    "print(\"variance_error\")\n",
    "print(variance_err)\n",
    "\n",
    "plt.errorbar(x=sigmas, y=mean_err, yerr=variance_err)\n",
    "plt.grid(True)\n",
    "plt.show()"
   ]
  },
  {
   "cell_type": "markdown",
   "id": "77f7bc87-eb51-462e-bd83-f0320b5c3f13",
   "metadata": {},
   "source": [
    "### Conclusion\n",
    "- Based on the results above, the more the variance increases the more errors we have => Toget a clear linear seperation, we need a small value of variance(more similar instances for a better training).\n",
    "\n"
   ]
  }
 ],
 "metadata": {
  "kernelspec": {
   "display_name": "Python 3",
   "language": "python",
   "name": "python3"
  },
  "language_info": {
   "codemirror_mode": {
    "name": "ipython",
    "version": 3
   },
   "file_extension": ".py",
   "mimetype": "text/x-python",
   "name": "python",
   "nbconvert_exporter": "python",
   "pygments_lexer": "ipython3",
   "version": "3.6.9"
  }
 },
 "nbformat": 4,
 "nbformat_minor": 5
}
