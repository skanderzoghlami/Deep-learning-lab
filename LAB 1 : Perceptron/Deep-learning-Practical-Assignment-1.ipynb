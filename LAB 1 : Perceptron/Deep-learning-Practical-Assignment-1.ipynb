{
 "cells": [
  {
   "cell_type": "markdown",
   "metadata": {},
   "source": [
    "# Deep learning Practical Assignment #1"
   ]
  },
  {
   "cell_type": "markdown",
   "metadata": {},
   "source": [
    "## G-2 : Mohamed Ghaith Belkacem & Mehdi Rachico"
   ]
  },
  {
   "cell_type": "markdown",
   "metadata": {},
   "source": [
    "# Part 1 :Theoretical questions"
   ]
  },
  {
   "cell_type": "markdown",
   "metadata": {},
   "source": [
    "### Question 1"
   ]
  },
  {
   "cell_type": "markdown",
   "metadata": {},
   "source": [
    "#### Question 1.a : What is the computational/time complexity of the basic perceptron algorithm ?\n",
    "O(n x m), where n is the maximum number of iterations and m is the number of instances in the training set"
   ]
  },
  {
   "cell_type": "markdown",
   "metadata": {},
   "source": [
    "#### Question 1.b : What is the space complexity of the basic perceptron algorithm ?\n",
    "The space complexity of the perceptron algorithm grows with the number of dimensions, is equal to O(Ri+1), where i is the number of dimensions (features)."
   ]
  },
  {
   "cell_type": "markdown",
   "metadata": {},
   "source": [
    "# Part 2 : Installations/versions"
   ]
  },
  {
   "cell_type": "code",
   "execution_count": 47,
   "metadata": {},
   "outputs": [
    {
     "name": "stdout",
     "output_type": "stream",
     "text": [
      "Collecting numpy==1.16.5\n",
      "  Downloading https://files.pythonhosted.org/packages/f4/f6/aa112f76ada64787f677278218738bb895e9642118b1e8db68c7edd66ec2/numpy-1.16.5-cp37-cp37m-win_amd64.whl (11.9MB)\n",
      "Installing collected packages: numpy\n",
      "  Found existing installation: numpy 1.18.0\n",
      "    Uninstalling numpy-1.18.0:\n",
      "      Successfully uninstalled numpy-1.18.0\n",
      "Successfully installed numpy-1.16.5\n"
     ]
    },
    {
     "name": "stderr",
     "output_type": "stream",
     "text": [
      "ERROR: tensorflow 2.5.0 has requirement numpy~=1.19.2, but you'll have numpy 1.16.5 which is incompatible.\n"
     ]
    },
    {
     "name": "stdout",
     "output_type": "stream",
     "text": [
      "Requirement already satisfied: pandas==0.25.1 in c:\\users\\asus\\anaconda3\\lib\\site-packages (0.25.1)\n",
      "Requirement already satisfied: python-dateutil>=2.6.1 in c:\\users\\asus\\anaconda3\\lib\\site-packages (from pandas==0.25.1) (2.8.0)\n",
      "Requirement already satisfied: pytz>=2017.2 in c:\\users\\asus\\anaconda3\\lib\\site-packages (from pandas==0.25.1) (2019.3)\n",
      "Requirement already satisfied: numpy>=1.13.3 in c:\\users\\asus\\anaconda3\\lib\\site-packages (from pandas==0.25.1) (1.16.5)\n",
      "Requirement already satisfied: six>=1.5 in c:\\users\\asus\\anaconda3\\lib\\site-packages (from python-dateutil>=2.6.1->pandas==0.25.1) (1.15.0)\n",
      "Collecting sklearn==0.21.3\n"
     ]
    },
    {
     "name": "stderr",
     "output_type": "stream",
     "text": [
      "  ERROR: Could not find a version that satisfies the requirement sklearn==0.21.3 (from versions: 0.0)\n",
      "ERROR: No matching distribution found for sklearn==0.21.3\n"
     ]
    },
    {
     "name": "stdout",
     "output_type": "stream",
     "text": [
      "Requirement already satisfied: matplotlib==3.1.1 in c:\\users\\asus\\anaconda3\\lib\\site-packages (3.1.1)\n",
      "Requirement already satisfied: cycler>=0.10 in c:\\users\\asus\\anaconda3\\lib\\site-packages (from matplotlib==3.1.1) (0.10.0)\n",
      "Requirement already satisfied: kiwisolver>=1.0.1 in c:\\users\\asus\\anaconda3\\lib\\site-packages (from matplotlib==3.1.1) (1.1.0)\n",
      "Requirement already satisfied: pyparsing!=2.0.4,!=2.1.2,!=2.1.6,>=2.0.1 in c:\\users\\asus\\anaconda3\\lib\\site-packages (from matplotlib==3.1.1) (2.4.2)\n",
      "Requirement already satisfied: python-dateutil>=2.1 in c:\\users\\asus\\anaconda3\\lib\\site-packages (from matplotlib==3.1.1) (2.8.0)\n",
      "Requirement already satisfied: numpy>=1.11 in c:\\users\\asus\\anaconda3\\lib\\site-packages (from matplotlib==3.1.1) (1.16.5)\n",
      "Requirement already satisfied: six in c:\\users\\asus\\anaconda3\\lib\\site-packages (from cycler>=0.10->matplotlib==3.1.1) (1.15.0)\n",
      "Requirement already satisfied: setuptools in c:\\users\\asus\\anaconda3\\lib\\site-packages (from kiwisolver>=1.0.1->matplotlib==3.1.1) (41.4.0)\n"
     ]
    }
   ],
   "source": [
    "!pip install numpy==1.16.5\n",
    "!pip install pandas==0.25.1\n",
    "!pip install sklearn==0.21.3\n",
    "!pip install matplotlib==3.1.1"
   ]
  },
  {
   "cell_type": "markdown",
   "metadata": {},
   "source": [
    "# Part 3 : Experiments"
   ]
  },
  {
   "cell_type": "markdown",
   "metadata": {},
   "source": [
    "### Experiement 1 "
   ]
  },
  {
   "cell_type": "markdown",
   "metadata": {},
   "source": [
    "👉 Importing packages"
   ]
  },
  {
   "cell_type": "code",
   "execution_count": 1,
   "metadata": {},
   "outputs": [],
   "source": [
    "import numpy as np\n",
    "import pandas as pd\n",
    "import sklearn\n",
    "import matplotlib\n",
    "from sklearn.utils import shuffle\n",
    "from sklearn.model_selection import train_test_split\n",
    "from sklearn.metrics import accuracy_score\n",
    "from matplotlib import pyplot as plt"
   ]
  },
  {
   "cell_type": "markdown",
   "metadata": {},
   "source": [
    "👉 Generating our dataset"
   ]
  },
  {
   "cell_type": "code",
   "execution_count": 2,
   "metadata": {},
   "outputs": [
    {
     "name": "stdout",
     "output_type": "stream",
     "text": [
      "[[-6.77753505e-01 -1.98738342e-01]\n",
      " [-1.01004203e+00  2.04118566e-01]\n",
      " [-3.19061104e-01  4.91818359e-01]\n",
      " [-8.78467211e-01 -1.51112067e-01]\n",
      " [-8.88255006e-01  4.35866761e-01]\n",
      " [-9.60248678e-01 -1.75960719e-01]\n",
      " [-1.37093299e+00 -7.30161963e-01]\n",
      " [-1.12111252e+00  1.11962428e-01]\n",
      " [-1.31908266e+00  4.39968266e-01]\n",
      " [-5.77422436e-01  9.21028824e-01]\n",
      " [-9.60950748e-01  2.87944643e-01]\n",
      " [-1.64358439e+00  5.77336499e-01]\n",
      " [-1.72779556e+00 -2.96297652e-01]\n",
      " [-3.28495292e-01 -5.08893250e-01]\n",
      " [-1.09040461e+00 -4.31744527e-01]\n",
      " [-3.87996734e-01 -7.32977666e-02]\n",
      " [-1.75433071e+00 -4.53950707e-01]\n",
      " [-4.84744920e-01 -5.95769739e-02]\n",
      " [-1.08866557e+00 -6.24705490e-01]\n",
      " [-1.18230419e+00 -7.34772568e-01]\n",
      " [-9.32538824e-01 -1.00104318e+00]\n",
      " [ 8.90963229e-02  1.00981586e+00]\n",
      " [-8.41842163e-01  2.75244565e-01]\n",
      " [-9.22382906e-01  4.13710144e-01]\n",
      " [-1.13591384e+00  9.53737982e-01]\n",
      " [-1.80102193e+00 -5.04308861e-01]\n",
      " [-9.16691012e-01 -1.01463762e-01]\n",
      " [-1.37487096e+00 -1.04497715e-02]\n",
      " [-5.50966299e-01 -5.90372362e-01]\n",
      " [-1.42791173e+00 -2.99024232e-01]\n",
      " [-6.01791511e-01  3.11739569e-01]\n",
      " [-1.87319608e+00 -1.05504379e+00]\n",
      " [-6.87454652e-01  3.40309665e-01]\n",
      " [-4.80784092e-01 -5.86269575e-01]\n",
      " [-1.34870619e+00 -1.13848288e+00]\n",
      " [-5.42634469e-01  3.16318139e-02]\n",
      " [-5.69391826e-01 -8.72771678e-01]\n",
      " [-6.50734039e-01 -1.54017649e-01]\n",
      " [-1.35571264e+00  2.68525564e-02]\n",
      " [-1.22060173e+00 -6.15566169e-01]\n",
      " [-1.54605989e+00 -5.02068310e-01]\n",
      " [-1.69555291e+00 -2.40468324e-01]\n",
      " [-1.81339020e+00  1.56151767e-01]\n",
      " [ 3.39135522e-01  4.73379192e-02]\n",
      " [-7.19053714e-01  2.17523075e-01]\n",
      " [-9.07056464e-01  2.52236929e-01]\n",
      " [-5.12529823e-01  6.00634511e-02]\n",
      " [-1.11337793e-01  5.37798602e-01]\n",
      " [-1.26924768e+00 -3.23416943e-01]\n",
      " [-1.44306878e+00  1.21377218e+00]\n",
      " [-9.04747000e-01  2.06210059e-01]\n",
      " [-1.41263031e+00 -2.42002526e-01]\n",
      " [-9.12754629e-01  4.46999905e-01]\n",
      " [-1.62457451e+00 -4.38552513e-01]\n",
      " [-1.43021471e+00 -3.33543012e-01]\n",
      " [-1.52858010e-03  4.15551773e-02]\n",
      " [-1.44775364e+00  9.93008174e-01]\n",
      " [-4.24455092e-01 -8.64002647e-01]\n",
      " [-1.16989213e+00 -9.80999229e-02]\n",
      " [-1.42130985e+00  3.31343910e-01]\n",
      " [-1.63987954e+00  1.29082360e-01]\n",
      " [-4.25526266e-01  3.60695246e-01]\n",
      " [-1.13206773e+00 -5.99715947e-01]\n",
      " [-1.37927482e+00 -9.31537640e-01]\n",
      " [-5.29978056e-01  4.54371565e-01]\n",
      " [-1.00323920e+00  3.54353240e-01]\n",
      " [-4.20548430e-01  8.22407357e-01]\n",
      " [-9.85626726e-01 -1.12908024e+00]\n",
      " [-7.66959302e-01  3.78132084e-01]\n",
      " [-1.08074957e+00  1.59655499e-01]\n",
      " [-1.08248094e+00 -1.79215405e-01]\n",
      " [-3.00085720e-01  1.93270986e-01]\n",
      " [-9.41622480e-01  3.27716123e-01]\n",
      " [-9.31508048e-02 -5.99032349e-02]\n",
      " [-1.64330699e+00 -9.34988401e-01]\n",
      " [-1.04053355e+00 -4.86515266e-01]\n",
      " [-1.09946865e+00 -4.07713828e-01]\n",
      " [-1.72606952e+00 -6.38457896e-01]\n",
      " [-1.25132885e+00 -4.56793355e-02]\n",
      " [-1.18668565e+00 -6.84615856e-01]\n",
      " [-9.16770139e-01 -5.41120988e-01]\n",
      " [-1.06928612e+00 -1.65169279e-01]\n",
      " [-1.19303570e+00 -5.97520626e-02]\n",
      " [-1.36295727e+00  3.73357865e-01]\n",
      " [-9.28315834e-01  1.84261035e-01]\n",
      " [-1.34620186e+00 -3.29495142e-01]\n",
      " [-7.70940771e-01  3.17595850e-01]\n",
      " [-1.84718318e+00  3.68222570e-02]\n",
      " [-1.77513012e+00 -9.77658060e-01]\n",
      " [-1.24525796e+00  2.32927117e-01]\n",
      " [-1.11956403e+00 -3.44907920e-01]\n",
      " [-1.51863436e+00  4.78460604e-01]\n",
      " [-9.91174762e-01  4.58387694e-01]\n",
      " [-1.21025141e+00 -1.11924731e-01]\n",
      " [-2.87089497e-02 -4.36099545e-01]\n",
      " [-1.83891984e+00 -2.28256495e-01]\n",
      " [-1.35175534e+00 -6.55501662e-01]\n",
      " [-1.01431246e+00  9.61727295e-02]\n",
      " [-1.44979912e+00 -3.79229416e-01]\n",
      " [-1.86195198e+00  9.40898906e-01]\n",
      " [-6.80410403e-01  6.37706883e-01]\n",
      " [-1.17075873e+00 -6.40591948e-01]\n",
      " [-5.73488467e-01  7.73359417e-01]\n",
      " [-1.38785394e+00 -6.97693136e-01]\n",
      " [-1.06016732e+00  7.74747985e-01]\n",
      " [-1.06345358e+00  2.29374933e-01]\n",
      " [-1.80913028e+00 -5.38307429e-01]\n",
      " [-2.01586584e-01 -8.46239941e-01]\n",
      " [-1.29740130e+00  3.44624723e-01]\n",
      " [-4.06340275e-01 -3.55194456e-01]\n",
      " [-1.18956640e+00 -4.76866326e-02]\n",
      " [-1.24519677e+00 -3.19862468e-03]\n",
      " [-1.14003450e+00  2.12183913e-01]\n",
      " [-1.41024400e+00 -1.21589538e-01]\n",
      " [-1.05690627e+00 -2.71533850e-01]\n",
      " [-8.83722716e-01  2.70667718e-01]\n",
      " [-2.19621512e+00 -9.72127147e-02]\n",
      " [-1.18078365e+00 -1.16060273e-01]\n",
      " [-9.69984050e-01  3.10437555e-01]\n",
      " [-2.06679239e+00 -3.94608651e-01]\n",
      " [-1.20388625e+00  1.89675291e-01]\n",
      " [-1.13977954e+00 -2.18602120e-01]\n",
      " [-5.07767273e-01  4.36806707e-01]\n",
      " [-1.01219401e+00 -8.21831385e-01]\n",
      " [-1.09226569e+00 -3.20443608e-01]\n",
      " [ 2.21640353e+00 -1.90419400e-01]\n",
      " [ 1.39239684e-01  4.72788539e-01]\n",
      " [ 7.62770932e-01  8.53313148e-01]\n",
      " [ 6.19083651e-01 -5.88540703e-02]\n",
      " [ 1.72042826e+00 -6.90060315e-01]\n",
      " [ 1.65638903e+00 -1.89933317e-01]\n",
      " [ 1.37240128e+00  6.99647151e-01]\n",
      " [ 6.66499899e-01  1.02389736e+00]\n",
      " [ 9.56001215e-01 -4.37426124e-01]\n",
      " [ 1.21724830e+00  1.25830096e-01]\n",
      " [ 7.50670954e-01 -1.44452773e-01]\n",
      " [ 6.45673812e-01 -4.56429745e-01]\n",
      " [ 1.62993221e+00 -7.11031987e-01]\n",
      " [ 1.24359632e+00 -2.88292877e-01]\n",
      " [ 1.10813481e+00  1.22857610e-01]\n",
      " [ 6.30207377e-01  3.14830312e-01]\n",
      " [ 8.69200180e-01 -1.38314434e-01]\n",
      " [ 7.65504897e-01  1.45094983e-02]\n",
      " [ 1.58711384e+00 -9.03425365e-01]\n",
      " [ 1.28017890e+00 -1.10248551e-01]\n",
      " [ 1.42766972e+00  4.40504274e-01]\n",
      " [ 8.37640290e-01 -1.34666411e-01]\n",
      " [ 1.03823303e+00  6.45969866e-01]\n",
      " [ 8.04161138e-01  3.56340376e-01]\n",
      " [ 1.22614165e+00 -3.60819063e-02]\n",
      " [ 3.45233614e-01  3.99868265e-01]\n",
      " [ 2.22829684e-01  1.90858217e-01]\n",
      " [ 1.48838739e+00  3.70844697e-01]\n",
      " [ 7.16844662e-01 -2.39002175e-01]\n",
      " [-7.59897398e-03 -2.48493064e-01]\n",
      " [ 2.30714990e+00  4.51280954e-01]\n",
      " [ 9.11366537e-01 -3.36019219e-01]\n",
      " [ 1.14610348e+00  6.28126451e-01]\n",
      " [ 2.33654416e-01  1.63544018e-02]\n",
      " [ 6.15747683e-01  4.69642211e-02]\n",
      " [ 6.74265569e-01 -6.46157655e-01]\n",
      " [ 1.00472714e+00  5.16273856e-01]\n",
      " [ 1.19043558e+00  3.37194780e-01]\n",
      " [ 1.18665003e+00 -3.30148109e-01]\n",
      " [ 1.06944568e+00 -1.69951532e-01]\n",
      " [ 1.89525142e-01 -3.07287648e-01]\n",
      " [ 1.60382326e+00  6.71900000e-01]\n",
      " [ 3.21069082e-01 -7.27089263e-01]\n",
      " [ 3.21034008e-01  2.82220002e-01]\n",
      " [ 8.12544094e-01  4.64097172e-01]\n",
      " [ 5.04298389e-01 -2.56704514e-01]\n",
      " [ 1.22642005e+00  6.11363939e-01]\n",
      " [ 1.81761592e+00  3.24598407e-01]\n",
      " [ 5.95870921e-03 -4.04755305e-01]\n",
      " [ 5.40537714e-01  1.79156910e-01]\n",
      " [ 1.62917955e+00 -1.09196006e-01]\n",
      " [ 7.07097277e-01  1.59840318e-01]\n",
      " [ 1.68246945e+00 -3.74958600e-02]\n",
      " [ 7.13086980e-01 -1.07996133e+00]\n",
      " [ 9.79414795e-01  7.12882336e-01]\n",
      " [ 1.28609376e+00 -1.00741056e-01]\n",
      " [ 1.39109015e+00 -4.20170072e-01]\n",
      " [ 1.85160195e-01 -3.43979507e-01]\n",
      " [ 1.57669208e+00 -2.93210174e-01]\n",
      " [ 1.04346405e+00  3.19441363e-02]\n",
      " [ 5.26059169e-01 -5.74793599e-01]\n",
      " [ 3.53494250e-01 -5.27351082e-01]\n",
      " [ 1.29207528e+00  3.24849818e-01]\n",
      " [ 1.54896041e+00  5.64875853e-01]\n",
      " [ 2.79198651e-01 -2.41836794e-01]\n",
      " [ 9.60928112e-01 -5.22281733e-01]\n",
      " [ 1.15026401e+00  5.87928865e-01]\n",
      " [ 1.07282715e+00 -1.76867329e-01]\n",
      " [ 4.59860926e-01 -5.08220527e-01]\n",
      " [ 1.31688412e+00 -3.47587791e-01]\n",
      " [ 1.06197140e+00  1.74623951e-01]\n",
      " [ 1.35447036e+00 -4.73897776e-02]\n",
      " [ 1.14689154e+00 -1.33865803e-01]\n",
      " [ 5.26751332e-01  5.19536067e-01]\n",
      " [ 1.00298569e+00 -3.90177953e-02]\n",
      " [ 1.18718964e+00  1.85773207e-01]\n",
      " [ 2.06636211e-01  7.00715119e-01]\n",
      " [ 1.32037629e+00  1.85011625e+00]\n",
      " [ 7.12622658e-01  8.15765056e-02]\n",
      " [ 1.53837817e+00 -4.75648083e-01]\n",
      " [ 1.79592192e+00 -1.23755481e-01]\n",
      " [ 1.11135670e+00 -1.19583563e-01]\n",
      " [ 6.65681547e-01  2.22820395e-02]\n",
      " [ 8.49982676e-01  2.48725025e-01]\n",
      " [ 6.04934593e-01 -8.84615443e-02]\n",
      " [ 3.07797097e-01  7.08232139e-01]\n",
      " [ 9.85521456e-01 -3.96175688e-01]\n",
      " [ 1.39638169e+00 -3.84003653e-01]\n",
      " [ 7.77273200e-01 -1.64141239e-01]\n",
      " [ 1.38036437e+00  1.54787629e+00]\n",
      " [ 5.96791968e-01  3.40377238e-01]\n",
      " [ 8.77091307e-01 -1.55193058e+00]\n",
      " [ 2.90505882e-02 -1.04764066e+00]\n",
      " [ 4.02105996e-01  9.60684874e-02]\n",
      " [ 1.37734699e+00 -5.11664700e-01]\n",
      " [ 1.78728247e+00 -7.91613568e-02]\n",
      " [ 8.28813583e-01 -4.32113147e-02]\n",
      " [ 1.68597456e+00 -8.93791156e-01]\n",
      " [ 1.44366982e+00  2.85560685e-01]\n",
      " [ 7.38218036e-01 -9.00518923e-02]\n",
      " [ 9.40855509e-01  1.09211093e-01]\n",
      " [ 5.82184602e-01 -6.30411626e-01]\n",
      " [ 1.18368566e+00 -3.53433140e-01]\n",
      " [ 4.93902471e-01 -5.14571577e-01]\n",
      " [ 5.50235763e-01  1.73763003e-01]\n",
      " [ 5.82871582e-01  4.68205289e-01]\n",
      " [ 1.42848915e+00 -1.02501528e-01]\n",
      " [ 9.25414966e-01  2.59372374e-01]\n",
      " [ 3.45341309e-01 -4.03115924e-01]\n",
      " [ 1.82846731e+00 -8.36277375e-01]\n",
      " [ 7.50083775e-01 -4.44601514e-01]\n",
      " [ 1.20702766e+00 -4.54842861e-01]\n",
      " [ 1.06332832e+00  5.69831561e-01]\n",
      " [ 8.73111354e-01  1.38836550e-01]\n",
      " [-2.60385545e-02 -2.01229006e-01]\n",
      " [ 3.53861908e-01 -6.29044706e-02]\n",
      " [ 7.88623592e-01  8.03406063e-01]\n",
      " [ 2.07513805e+00 -1.26258064e-01]\n",
      " [ 1.22397580e+00  4.01157289e-01]\n",
      " [ 4.62560601e-01 -4.11304903e-01]\n",
      " [ 1.42829680e+00 -8.82868118e-02]\n",
      " [ 1.19178636e+00  7.76844657e-01]\n",
      " [ 9.99607297e-01  4.26198769e-01]\n",
      " [ 1.16352064e+00 -3.79547918e-01]\n",
      " [ 1.90740129e+00  4.16299565e-01]]\n"
     ]
    }
   ],
   "source": [
    "mu = [-1,0]\n",
    "sigma = [[0.25,0], [0,0.25]]\n",
    "x1 = np.random.multivariate_normal(mu,sigma,125)\n",
    "\n",
    "mu = [1,0]\n",
    "sigma = [[0.25,0], [0,0.25]]\n",
    "x2 = np.random.multivariate_normal(mu,sigma,125)\n",
    "\n",
    "X = np.concatenate((x1, x2), axis=0)\n",
    "print(X)"
   ]
  },
  {
   "cell_type": "markdown",
   "metadata": {},
   "source": [
    "👉 Generating our target labels"
   ]
  },
  {
   "cell_type": "code",
   "execution_count": 3,
   "metadata": {},
   "outputs": [],
   "source": [
    "y = [-1] * 125 + [1] * 125\n"
   ]
  },
  {
   "cell_type": "code",
   "execution_count": 4,
   "metadata": {},
   "outputs": [
    {
     "data": {
      "text/plain": [
       "(250, 250)"
      ]
     },
     "execution_count": 4,
     "metadata": {},
     "output_type": "execute_result"
    }
   ],
   "source": [
    "len(y), len(X)\n"
   ]
  },
  {
   "cell_type": "markdown",
   "metadata": {},
   "source": [
    "The perceptron algorithm does not converge because the data is not linearly separable.\n",
    "We can use an additional parameter for the number of iterations and consider it converging if attains a certain number of iterations"
   ]
  },
  {
   "cell_type": "markdown",
   "metadata": {},
   "source": [
    "👉 Shuffling the data"
   ]
  },
  {
   "cell_type": "code",
   "execution_count": 5,
   "metadata": {},
   "outputs": [],
   "source": [
    "X, y = shuffle(X, y)"
   ]
  },
  {
   "cell_type": "markdown",
   "metadata": {},
   "source": [
    "👉 Spliting the data into a train set and a test set "
   ]
  },
  {
   "cell_type": "code",
   "execution_count": 6,
   "metadata": {},
   "outputs": [],
   "source": [
    "X_train, X_test, y_train, y_test = train_test_split(X, y, test_size=0.2, random_state=42)"
   ]
  },
  {
   "cell_type": "markdown",
   "metadata": {},
   "source": [
    "👉 Implementation of the Perceptron algorithm"
   ]
  },
  {
   "cell_type": "code",
   "execution_count": 20,
   "metadata": {},
   "outputs": [],
   "source": [
    "def simple_perceptron(X, y, n):\n",
    "    w = np.zeros((1,2))\n",
    "    temp_w = np.zeros((1,2))\n",
    "    for t in range(n):\n",
    "        for a, b in zip(X, y):\n",
    "            if  b * np.inner(w, a) <= 0 : \n",
    "                temp_w = w\n",
    "                w = w + b*a\n",
    "        if (w == temp_w).all():\n",
    "            return w,t\n",
    "    if t == n-1 :\n",
    "        print(\"No convergence\")\n",
    "    else :\n",
    "        print(\"Convergence\")\n",
    "    return w,t"
   ]
  },
  {
   "cell_type": "markdown",
   "metadata": {},
   "source": [
    "👉 Running the Perceptron Function"
   ]
  },
  {
   "cell_type": "code",
   "execution_count": 21,
   "metadata": {},
   "outputs": [
    {
     "name": "stdout",
     "output_type": "stream",
     "text": [
      "No convergence\n",
      "w =  [[-2.1631868  -1.39293103]]\n",
      "The algorithm does not converge\n"
     ]
    }
   ],
   "source": [
    "n = 2000\n",
    "w,t= simple_perceptron(X_train, y_train, n)\n",
    "print(\"w = \", w)\n",
    "if t == n - 1:\n",
    "    print(\"The algorithm does not converge\")\n",
    "else:\n",
    "    print(\"The algorithm converges\")"
   ]
  },
  {
   "cell_type": "markdown",
   "metadata": {},
   "source": [
    "👉 Plotting the decision line found by the algorithm"
   ]
  },
  {
   "cell_type": "code",
   "execution_count": 22,
   "metadata": {},
   "outputs": [
    {
     "data": {
      "image/png": "[encoded data removed]",
      "text/plain": [
       "<Figure size 864x576 with 1 Axes>"
      ]
     },
     "metadata": {
      "needs_background": "light"
     },
     "output_type": "display_data"
    }
   ],
   "source": [
    "plt.figure(figsize=(12, 8))\n",
    "plt.scatter(x1[:,0], x1[:,1], marker = 'x', c ='red')\n",
    "plt.scatter(x2[:,0], x2[:,1], c = 'green', marker='^')\n",
    "a = -w[0][0] / w[0][1]\n",
    "A = np.linspace(-1, 1)\n",
    "B = a * A / w[0][1]\n",
    "plt.plot(A, B, 'b')\n",
    "plt.ylim(-3, 3)\n",
    "plt.show()"
   ]
  },
  {
   "cell_type": "markdown",
   "metadata": {},
   "source": [
    "👉 Evaluating the accuracy on the Test set"
   ]
  },
  {
   "cell_type": "markdown",
   "metadata": {},
   "source": []
  },
  {
   "cell_type": "code",
   "execution_count": 23,
   "metadata": {},
   "outputs": [
    {
     "name": "stdout",
     "output_type": "stream",
     "text": [
      "Test set Accuracy for sigma 0.25 = 54.0%\n"
     ]
    }
   ],
   "source": [
    "y_pred = np.inner(X_test, w)\n",
    "\n",
    "for i, pred in enumerate(y_pred) :\n",
    "    if pred > 0 :\n",
    "        y_pred[i] = 1\n",
    "    else :\n",
    "        y_pred[i] = -1\n",
    "        \n",
    "print(\"Test set Accuracy for sigma 0.25 = {}%\".format(accuracy_score(y_test, y_pred) * 100))"
   ]
  },
  {
   "cell_type": "markdown",
   "metadata": {},
   "source": [
    "👉 Plotting the decision line on  the Test set"
   ]
  },
  {
   "cell_type": "code",
   "execution_count": 24,
   "metadata": {},
   "outputs": [
    {
     "data": {
      "image/png": "[encoded data removed]",
      "text/plain": [
       "<Figure size 864x576 with 1 Axes>"
      ]
     },
     "metadata": {
      "needs_background": "light"
     },
     "output_type": "display_data"
    }
   ],
   "source": [
    "arr_test = np.array(y_test).reshape(50,1)\n",
    "full_test_array = np.concatenate((X_test, arr_test), axis=1)\n",
    "df = pd.DataFrame(full_test_array, columns = ['w0', 'w1', 'label'])\n",
    "df_positive = df[df['label']==1]\n",
    "df_negative = df[df['label']==-1]\n",
    "positive_array = np.array(df_positive)\n",
    "negative_array = np.array(df_negative)\n",
    "plt.figure(figsize=(12, 8))\n",
    "plt.scatter(positive_array[:,0],positive_array[:,1], marker='^', c ='green')\n",
    "plt.scatter(negative_array[:,0],negative_array[:,1], marker='x', c ='red')\n",
    "a = -w[0][0] / w[0][1]\n",
    "A = np.linspace(-1, 1)\n",
    "B = a * A / w[0][1]\n",
    "plt.plot(A, B, 'b')\n",
    "plt.legend(['Decison Line', 'Label = 1', 'Label = -1'])\n",
    "plt.ylim(-3, 3)\n",
    "plt.show()"
   ]
  },
  {
   "cell_type": "markdown",
   "metadata": {},
   "source": [
    "### Experiment 2"
   ]
  },
  {
   "cell_type": "code",
   "execution_count": 25,
   "metadata": {},
   "outputs": [],
   "source": [
    "mu = [-1,0]\n",
    "sigma = [[0.75,0], [0,0.75]]\n",
    "x1 = np.random.multivariate_normal(mu, sigma, 125)\n",
    "\n",
    "mu = [1,0]\n",
    "sigma = [[0.75,0], [0,0.75]]\n",
    "x2 = np.random.multivariate_normal(mu, sigma, 125)\n",
    "X = np.concatenate((x1,x2), axis=0)\n",
    "\n",
    "y = [-1] * 125 + [1] * 125\n",
    "\n",
    "X, y= shuffle(X, y)\n",
    "\n",
    "X_train, X_test, y_train, y_test = train_test_split(X, y, test_size=0.2, random_state=42)"
   ]
  },
  {
   "cell_type": "markdown",
   "metadata": {},
   "source": [
    "👉 Evaluating the accuracy on the Test set"
   ]
  },
  {
   "cell_type": "code",
   "execution_count": 26,
   "metadata": {},
   "outputs": [
    {
     "name": "stdout",
     "output_type": "stream",
     "text": [
      "No convergence\n",
      "w =  [[ 1.8951916  -0.25179881]]\n"
     ]
    }
   ],
   "source": [
    "n = 2000\n",
    "w,t = simple_perceptron(X_train, y_train, n)\n",
    "print(\"w = \", w)\n"
   ]
  },
  {
   "cell_type": "markdown",
   "metadata": {},
   "source": [
    "The perceptron algorithm does not converge because data is not linearly separable."
   ]
  },
  {
   "cell_type": "markdown",
   "metadata": {},
   "source": [
    "👉 Plotting the decision line found by the algorithm"
   ]
  },
  {
   "cell_type": "code",
   "execution_count": 27,
   "metadata": {},
   "outputs": [
    {
     "data": {
      "image/png": "[encoded data removed]",
      "text/plain": [
       "<Figure size 864x576 with 1 Axes>"
      ]
     },
     "metadata": {
      "needs_background": "light"
     },
     "output_type": "display_data"
    }
   ],
   "source": [
    "plt.figure(figsize=(12, 8))\n",
    "plt.scatter(x1[:,0], x1[:,1], marker = 'x', c ='red')\n",
    "plt.scatter(x2[:,0], x2[:,1], c = 'green', marker='^')\n",
    "a = -w[0][0] / w[0][1]\n",
    "A = np.linspace(-1, 1)\n",
    "B = a * A / w[0][1]\n",
    "plt.plot(A, B, 'b')\n",
    "plt.ylim(-3, 3)\n",
    "plt.show()"
   ]
  },
  {
   "cell_type": "code",
   "execution_count": 28,
   "metadata": {},
   "outputs": [
    {
     "name": "stdout",
     "output_type": "stream",
     "text": [
      "Test set Accuracy for sigma 0.75 = 86.0%\n"
     ]
    }
   ],
   "source": [
    "y_pred = np.inner(X_test, w) \n",
    "for i,pred in enumerate(y_pred) :\n",
    "    if pred > 0 :\n",
    "        y_pred[i] = 1\n",
    "    else :\n",
    "        y_pred[i] = -1\n",
    "        \n",
    "print(\"Test set Accuracy for sigma 0.75 = {}%\".format(accuracy_score(y_test, y_pred) * 100))"
   ]
  },
  {
   "cell_type": "markdown",
   "metadata": {},
   "source": [
    "👉 Plotting the decision line on  the Test set"
   ]
  },
  {
   "cell_type": "code",
   "execution_count": 29,
   "metadata": {},
   "outputs": [
    {
     "data": {
      "image/png": "[encoded data removed]",
      "text/plain": [
       "<Figure size 864x576 with 1 Axes>"
      ]
     },
     "metadata": {
      "needs_background": "light"
     },
     "output_type": "display_data"
    }
   ],
   "source": [
    "arr_test = np.array(y_test).reshape(50,1)\n",
    "full_test_array = np.concatenate((X_test, arr_test), axis=1)\n",
    "df = pd.DataFrame(full_test_array, columns = ['w0', 'w1', 'label'])\n",
    "df_positive = df[df['label']==1]\n",
    "df_negative = df[df['label']==-1]\n",
    "positive_array = np.array(df_positive)\n",
    "negative_array = np.array(df_negative)\n",
    "plt.figure(figsize=(12, 8))\n",
    "plt.scatter(positive_array[:,0],positive_array[:,1], marker='^', c ='green')\n",
    "plt.scatter(negative_array[:,0],negative_array[:,1], marker='x', c ='red')\n",
    "a = -w[0][0] / w[0][1]\n",
    "A = np.linspace(-1, 1)\n",
    "B = a * A / w[0][1]\n",
    "plt.plot(A, B, 'b')\n",
    "plt.legend(['Decision Line', 'Label = 1', 'Label = -1'])\n",
    "plt.ylim(-3, 3)\n",
    "plt.show()"
   ]
  },
  {
   "cell_type": "markdown",
   "metadata": {},
   "source": [
    "### Experiment 3"
   ]
  },
  {
   "cell_type": "code",
   "execution_count": 30,
   "metadata": {},
   "outputs": [],
   "source": [
    "def generate_data(sig):\n",
    "    mu = [-1,0]\n",
    "    sigma = [[sig,0], [0,sig]]\n",
    "    s1 = np.random.multivariate_normal(mu,sigma,125)\n",
    "\n",
    "    mu = [1,0]\n",
    "    sigma = [[sig,0], [0,sig]]\n",
    "    s2 = np.random.multivariate_normal(mu,sigma,125)\n",
    "    s = np.concatenate((s1,s2),axis=0)\n",
    "    \n",
    "    y = [-1] * 125 \n",
    "    y.extend([1] * 125)\n",
    "\n",
    "    s,y= shuffle(s,y)\n",
    "    \n",
    "    return s1,s2,s,y"
   ]
  },
  {
   "cell_type": "code",
   "execution_count": 31,
   "metadata": {},
   "outputs": [],
   "source": [
    "def get_accuracy(s_test,y_test,w):\n",
    "    y_pred = np.inner(s_test,w) \n",
    "    for i,pred in enumerate(y_pred) :\n",
    "        if pred > 0 :\n",
    "            y_pred[i] = 1\n",
    "        else :\n",
    "            y_pred[i] = -1\n",
    "    return accuracy_score(y_test,y_pred)"
   ]
  },
  {
   "cell_type": "code",
   "execution_count": 32,
   "metadata": {},
   "outputs": [
    {
     "name": "stdout",
     "output_type": "stream",
     "text": [
      "No convergence\n",
      "No convergence\n",
      "No convergence\n",
      "No convergence\n",
      "No convergence\n",
      "[0.0, 0.0, 0.0, 0.0, 0.0]\n",
      "Sigma = 0.01, Mean = 1.0\n",
      "Sigma = 0.01, Variance = 0.0\n"
     ]
    },
    {
     "data": {
      "image/png": "[encoded data removed]",
      "text/plain": [
       "<Figure size 432x288 with 1 Axes>"
      ]
     },
     "metadata": {
      "needs_background": "light"
     },
     "output_type": "display_data"
    },
    {
     "name": "stdout",
     "output_type": "stream",
     "text": [
      "No convergence\n",
      "No convergence\n",
      "No convergence\n",
      "No convergence\n",
      "No convergence\n",
      "[0.0, 0.0, 0.0, 0.0, 0.0]\n",
      "Sigma = 0.1, Mean = 1.0\n",
      "Sigma = 0.1, Variance = 0.0\n"
     ]
    },
    {
     "data": {
      "image/png": "[encoded data removed]",
      "text/plain": [
       "<Figure size 432x288 with 1 Axes>"
      ]
     },
     "metadata": {
      "needs_background": "light"
     },
     "output_type": "display_data"
    },
    {
     "name": "stdout",
     "output_type": "stream",
     "text": [
      "No convergence\n",
      "No convergence\n",
      "No convergence\n",
      "No convergence\n",
      "No convergence\n",
      "[0.07999999999999996, 0.040000000000000036, 0.06000000000000005, 0.12, 0.16000000000000003]\n",
      "Sigma = 0.5, Mean = 0.908\n",
      "Sigma = 0.5, Variance = 0.04308131845707603\n"
     ]
    },
    {
     "data": {
      "image/png": "[encoded data removed]",
      "text/plain": [
       "<Figure size 432x288 with 1 Axes>"
      ]
     },
     "metadata": {
      "needs_background": "light"
     },
     "output_type": "display_data"
    },
    {
     "name": "stdout",
     "output_type": "stream",
     "text": [
      "No convergence\n",
      "No convergence\n",
      "No convergence\n",
      "No convergence\n",
      "No convergence\n",
      "[0.18000000000000005, 0.09999999999999998, 0.14, 0.18000000000000005, 0.18000000000000005]\n",
      "Sigma = 0.7, Mean = 0.844\n",
      "Sigma = 0.7, Variance = 0.03200000000000003\n"
     ]
    },
    {
     "data": {
      "image/png": "[encoded data removed]",
      "text/plain": [
       "<Figure size 432x288 with 1 Axes>"
      ]
     },
     "metadata": {
      "needs_background": "light"
     },
     "output_type": "display_data"
    }
   ],
   "source": [
    "sigs = [0.01,0.1,0.5,0.7]\n",
    "error_mean =[]\n",
    "error_var = []\n",
    "nb_experiments=30\n",
    "for sig in sigs :\n",
    "    accuracies = []\n",
    "    errors = []\n",
    "\n",
    "    for i in range(30) :\n",
    "        s1,s2,s,y = generate_data(sig)\n",
    "        s_train, s_test, y_train, y_test = train_test_split(s, y, test_size=0.2, random_state=42)\n",
    "        w,t = simple_perceptron(s_train,y_train,n)\n",
    "        accuracies.append(get_accuracy(s_test,y_test,w))\n",
    "        errors.append(1-get_accuracy(s_test,y_test,w))\n",
    "    print(errors)\n",
    "    print(\"Sigma = {}, Mean = {}\".format(sig,np.mean(accuracies)))\n",
    "    print(\"Sigma = {}, Variance = {}\".format(sig,np.std(accuracies)))\n",
    "    error_mean.append(np.mean(errors))\n",
    "    error_var.append(np.std(errors))\n",
    "    \n",
    "    plt.scatter(s1[:,0],s1[:,1], c='red', marker='+')\n",
    "    plt.scatter(s2[:,0],s2[:,1], c= 'green', marker='^')\n",
    "\n",
    "\n",
    "    a = -w[0][0] / w[0][1]\n",
    "    xx = np.linspace(-1, 1)\n",
    "    yy = a * xx / w[0][1]\n",
    "\n",
    "    plt.plot(xx, yy, 'k-')\n",
    "    plt.show()"
   ]
  },
  {
   "cell_type": "code",
   "execution_count": 340,
   "metadata": {},
   "outputs": [
    {
     "name": "stdout",
     "output_type": "stream",
     "text": [
      "[0.0, 0.0040000000000000036, 0.24000000000000005, 0.288]\n",
      "[0.0, 0.008000000000000007, 0.3503141447329811, 0.2693993318477238]\n"
     ]
    }
   ],
   "source": [
    "print(error_mean)\n",
    "print(error_var)"
   ]
  },
  {
   "cell_type": "code",
   "execution_count": 341,
   "metadata": {},
   "outputs": [
    {
     "data": {
      "text/plain": [
       "<ErrorbarContainer object of 3 artists>"
      ]
     },
     "execution_count": 341,
     "metadata": {},
     "output_type": "execute_result"
    },
    {
     "data": {
      "image/png": "[encoded data removed]",
      "text/plain": [
       "<Figure size 432x288 with 1 Axes>"
      ]
     },
     "metadata": {
      "needs_background": "light"
     },
     "output_type": "display_data"
    }
   ],
   "source": [
    "plt.errorbar(sigs,error_mean,error_var)"
   ]
  },
  {
   "cell_type": "markdown",
   "metadata": {},
   "source": [
    "## Interpretation:\n",
    "For different values of sigma, the error increases as the visualisations of the dataset shows data to be more scattered along the axes, which makes it way harder for the perceptron to find data linearly separable and hence converge naturally."
   ]
  },
  {
   "cell_type": "code",
   "execution_count": null,
   "metadata": {},
   "outputs": [],
   "source": []
  }
 ],
 "metadata": {
  "kernelspec": {
   "display_name": "Python 3",
   "language": "python",
   "name": "python3"
  },
  "language_info": {
   "codemirror_mode": {
    "name": "ipython",
    "version": 3
   },
   "file_extension": ".py",
   "mimetype": "text/x-python",
   "name": "python",
   "nbconvert_exporter": "python",
   "pygments_lexer": "ipython3",
   "version": "3.7.4"
  }
 },
 "nbformat": 4,
 "nbformat_minor": 5
}
